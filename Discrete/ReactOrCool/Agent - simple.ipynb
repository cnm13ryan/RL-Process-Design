{
 "cells": [
  {
   "cell_type": "code",
   "execution_count": 1,
   "metadata": {},
   "outputs": [
    {
     "name": "stderr",
     "output_type": "stream",
     "text": [
      "Using TensorFlow backend.\n"
     ]
    }
   ],
   "source": [
    "import numpy as np\n",
    "import matplotlib.pyplot as plt\n",
    "\n",
    "from keras.models import Sequential\n",
    "from keras.layers import Dense, Activation, Flatten\n",
    "from keras.optimizers import Adam\n",
    "\n",
    "from rl.agents.dqn import DQNAgent\n",
    "from rl.policy import EpsGreedyQPolicy, LinearAnnealedPolicy\n",
    "from rl.memory import SequentialMemory"
   ]
  },
  {
   "cell_type": "code",
   "execution_count": 2,
   "metadata": {},
   "outputs": [],
   "source": [
    "from ReactorCool import simulator"
   ]
  },
  {
   "cell_type": "code",
   "execution_count": 3,
   "metadata": {
    "scrolled": true
   },
   "outputs": [
    {
     "data": {
      "text/plain": [
       "(Box(2,), Discrete(3))"
      ]
     },
     "execution_count": 3,
     "metadata": {},
     "output_type": "execute_result"
    }
   ],
   "source": [
    "env = simulator()\n",
    "nb_actions = env.action_space.n\n",
    "env.observation_space, env.action_space"
   ]
  },
  {
   "cell_type": "code",
   "execution_count": 4,
   "metadata": {},
   "outputs": [
    {
     "name": "stdout",
     "output_type": "stream",
     "text": [
      "[600]\n",
      "[600, 580.0, 600.0, 600.0]\n"
     ]
    }
   ],
   "source": [
    "print(env.T)\n",
    "env.step(1), env.step(2), env.step(3)\n",
    "print(env.T)"
   ]
  },
  {
   "cell_type": "code",
   "execution_count": 5,
   "metadata": {},
   "outputs": [],
   "source": [
    "y = [] \n",
    "x = []\n",
    "CSTR = []\n",
    "PFR = []\n",
    "\n",
    "for i in range(0, 50):\n",
    "    test1 = simulator()\n",
    "    test2 = simulator()\n",
    "    x.append(i/50)\n",
    "    test1.X.append(i/50)\n",
    "    test2.X.append(i/50)\n",
    "    test1.simulate(0)\n",
    "    test2.simulate(1)\n",
    "    CSTR.append(test1.state[0])\n",
    "    PFR.append(test2.state[0])\n",
    "    if CSTR[-1] >0.999 or PFR[-1] > 0.999: break"
   ]
  },
  {
   "cell_type": "code",
   "execution_count": 6,
   "metadata": {},
   "outputs": [
    {
     "data": {
      "text/plain": [
       "<matplotlib.legend.Legend at 0x1cc33844a08>"
      ]
     },
     "execution_count": 6,
     "metadata": {},
     "output_type": "execute_result"
    },
    {
     "data": {
      "image/png": "[encoded data removed]",
      "text/plain": [
       "<Figure size 432x288 with 1 Axes>"
      ]
     },
     "metadata": {
      "needs_background": "light"
     },
     "output_type": "display_data"
    }
   ],
   "source": [
    "plt.plot(x, CSTR)\n",
    "plt.plot(x, PFR)\n",
    "plt.legend([\"CSTR\", \"PFR\"])"
   ]
  },
  {
   "cell_type": "code",
   "execution_count": 26,
   "metadata": {},
   "outputs": [
    {
     "name": "stdout",
     "output_type": "stream",
     "text": [
      "Model: \"sequential_2\"\n",
      "_________________________________________________________________\n",
      "Layer (type)                 Output Shape              Param #   \n",
      "=================================================================\n",
      "flatten_2 (Flatten)          (None, 2)                 0         \n",
      "_________________________________________________________________\n",
      "dense_5 (Dense)              (None, 16)                48        \n",
      "_________________________________________________________________\n",
      "dense_6 (Dense)              (None, 16)                272       \n",
      "_________________________________________________________________\n",
      "dense_7 (Dense)              (None, 16)                272       \n",
      "_________________________________________________________________\n",
      "dense_8 (Dense)              (None, 3)                 51        \n",
      "=================================================================\n",
      "Total params: 643\n",
      "Trainable params: 643\n",
      "Non-trainable params: 0\n",
      "_________________________________________________________________\n",
      "None\n"
     ]
    }
   ],
   "source": [
    "# Next, we build a very simple model.\n",
    "model = Sequential()\n",
    "model.add(Flatten(input_shape=(1,) + env.observation_space.shape))\n",
    "model.add(Dense(16, activation = 'relu'))\n",
    "model.add(Dense(16, activation = 'relu'))\n",
    "model.add(Dense(16, activation = 'relu'))\n",
    "model.add(Dense(nb_actions, activation = 'linear'))\n",
    "print(model.summary())\n"
   ]
  },
  {
   "cell_type": "code",
   "execution_count": 27,
   "metadata": {
    "scrolled": true
   },
   "outputs": [],
   "source": [
    "policy = LinearAnnealedPolicy(EpsGreedyQPolicy(), attr='eps', value_max=1., value_min=.1, value_test=.05, nb_steps=10000)\n",
    "memory = SequentialMemory(limit=50000, window_length=1)\n",
    "dqn = DQNAgent(model=model, nb_actions=nb_actions, memory=memory, nb_steps_warmup=9,\n",
    "    target_model_update=1e-2, policy=policy, gamma = 0.9)\n",
    "dqn.compile(Adam(lr=1e-3), metrics=['mae'])"
   ]
  },
  {
   "cell_type": "code",
   "execution_count": 38,
   "metadata": {
    "scrolled": true
   },
   "outputs": [
    {
     "name": "stdout",
     "output_type": "stream",
     "text": [
      "Training for 30000 steps ...\n",
      "Interval 1 (0 steps performed)\n",
      "10000/10000 [==============================] - 42s 4ms/step - reward: 0.0783\n",
      "1111 episodes - episode_reward: 0.705 [0.000, 1.000] - loss: 0.002 - mean_absolute_error: 0.207 - mean_q: 0.330 - mean_eps: 0.550\n",
      "\n",
      "Interval 2 (10000 steps performed)\n",
      "10000/10000 [==============================] - 39s 4ms/step - reward: 0.0912\n",
      "1111 episodes - episode_reward: 0.821 [0.501, 1.000] - loss: 0.002 - mean_absolute_error: 0.199 - mean_q: 0.319 - mean_eps: 0.100\n",
      "\n",
      "Interval 3 (20000 steps performed)\n",
      "10000/10000 [==============================] - 36s 4ms/step - reward: 0.0919\n",
      "done, took 116.977 seconds\n"
     ]
    }
   ],
   "source": [
    "hist = dqn.fit(env, nb_steps=20000)"
   ]
  },
  {
   "cell_type": "code",
   "execution_count": 29,
   "metadata": {
    "scrolled": true
   },
   "outputs": [
    {
     "name": "stdout",
     "output_type": "stream",
     "text": [
      "dict_keys(['episode_reward', 'nb_episode_steps', 'nb_steps'])\n"
     ]
    }
   ],
   "source": [
    "print(hist.history.keys())"
   ]
  },
  {
   "cell_type": "code",
   "execution_count": 30,
   "metadata": {},
   "outputs": [],
   "source": [
    "def running_mean(x, N):\n",
    "    cumsum = np.cumsum(np.insert(x, 0, 0)) \n",
    "    return (cumsum[N:] - cumsum[:-N]) / N"
   ]
  },
  {
   "cell_type": "code",
   "execution_count": 39,
   "metadata": {},
   "outputs": [
    {
     "data": {
      "text/plain": [
       "<matplotlib.legend.Legend at 0x1cc39fb1c88>"
      ]
     },
     "execution_count": 39,
     "metadata": {},
     "output_type": "execute_result"
    },
    {
     "data": {
      "image/png": "[encoded data removed]",
      "text/plain": [
       "<Figure size 432x288 with 1 Axes>"
      ]
     },
     "metadata": {
      "needs_background": "light"
     },
     "output_type": "display_data"
    }
   ],
   "source": [
    "smoothed_rews = running_mean(hist.history['episode_reward'], 10)\n",
    "plt.plot(hist.history['nb_steps'][-len(smoothed_rews):], smoothed_rews)\n",
    "plt.plot(hist.history['nb_steps'],hist.history['episode_reward'],color='grey', alpha=0.3)\n",
    "plt.xlabel(\"steps\")\n",
    "plt.ylabel(\"reward\")\n",
    "plt.legend([\"avg reward\", \"reward\"])"
   ]
  },
  {
   "cell_type": "code",
   "execution_count": 40,
   "metadata": {
    "scrolled": true
   },
   "outputs": [
    {
     "name": "stdout",
     "output_type": "stream",
     "text": [
      "Testing for 1 episodes ...\n",
      "choice(1) -  units: ['PFR'], conversions: [0, 0.2787397576589022], Temps: [600, 580.0]\n",
      "choice(2) -  units: ['PFR', 'PFR'], conversions: [0, 0.2787397576589022, 0.4168876523576247], Temps: [600, 580.0, 560.0]\n",
      "choice(3) -  units: ['PFR', 'PFR', 'Cooler'], conversions: [0, 0.2787397576589022, 0.4168876523576247, 0.4168876523576247], Temps: [600, 580.0, 560.0, 600.0]\n",
      "choice(4) -  units: ['PFR', 'PFR', 'Cooler', 'PFR'], conversions: [0, 0.2787397576589022, 0.4168876523576247, 0.4168876523576247, 0.6191647713474027], Temps: [600, 580.0, 560.0, 600.0, 580.0]\n",
      "choice(5) -  units: ['PFR', 'PFR', 'Cooler', 'PFR', 'PFR'], conversions: [0, 0.2787397576589022, 0.4168876523576247, 0.4168876523576247, 0.6191647713474027, 0.7763555553100918], Temps: [600, 580.0, 560.0, 600.0, 580.0, 560.0]\n",
      "choice(6) -  units: ['PFR', 'PFR', 'Cooler', 'PFR', 'PFR', 'Cooler'], conversions: [0, 0.2787397576589022, 0.4168876523576247, 0.4168876523576247, 0.6191647713474027, 0.7763555553100918, 0.7763555553100918], Temps: [600, 580.0, 560.0, 600.0, 580.0, 560.0, 600.0]\n",
      "choice(7) -  units: ['PFR', 'PFR', 'Cooler', 'PFR', 'PFR', 'Cooler', 'PFR'], conversions: [0, 0.2787397576589022, 0.4168876523576247, 0.4168876523576247, 0.6191647713474027, 0.7763555553100918, 0.7763555553100918, 0.7763555553100918], Temps: [600, 580.0, 560.0, 600.0, 580.0, 560.0, 600.0, 580.0]\n",
      "choice(8) -  units: ['PFR', 'PFR', 'Cooler', 'PFR', 'PFR', 'Cooler', 'PFR', 'Cooler'], conversions: [0, 0.2787397576589022, 0.4168876523576247, 0.4168876523576247, 0.6191647713474027, 0.7763555553100918, 0.7763555553100918, 0.7763555553100918, 0.7763555553100918], Temps: [600, 580.0, 560.0, 600.0, 580.0, 560.0, 600.0, 580.0, 600.0]\n",
      "choice(9) -  units: ['PFR', 'PFR', 'Cooler', 'PFR', 'PFR', 'Cooler', 'PFR', 'Cooler', 'PFR'], conversions: [0, 0.2787397576589022, 0.4168876523576247, 0.4168876523576247, 0.6191647713474027, 0.7763555553100918, 0.7763555553100918, 0.7763555553100918, 0.7763555553100918, 0.7763555553100918], Temps: [600, 580.0, 560.0, 600.0, 580.0, 560.0, 600.0, 580.0, 600.0, 580.0]\n",
      "Episode 1: reward: 0.776, steps: 9\n"
     ]
    },
    {
     "data": {
      "text/plain": [
       "<keras.callbacks.History at 0x1cc385f5088>"
      ]
     },
     "execution_count": 40,
     "metadata": {},
     "output_type": "execute_result"
    }
   ],
   "source": [
    "dqn.test(env, visualize = True)"
   ]
  },
  {
   "cell_type": "code",
   "execution_count": 35,
   "metadata": {},
   "outputs": [
    {
     "data": {
      "text/plain": [
       "['PFR', 'PFR', 'PFR', 'PFR', 'Cooler', 'PFR', 'PFR', 'PFR', 'Cooler']"
      ]
     },
     "execution_count": 35,
     "metadata": {},
     "output_type": "execute_result"
    }
   ],
   "source": [
    "env.unit_seq"
   ]
  },
  {
   "cell_type": "code",
   "execution_count": 41,
   "metadata": {},
   "outputs": [],
   "source": [
    "y = [] \n",
    "x = []\n",
    "CSTR = []\n",
    "PFR = []\n",
    "\n",
    "for i in range(0, 50):\n",
    "    test1 = simulator()\n",
    "    test2 = simulator()\n",
    "    x.append(i/50)\n",
    "    test1.X.append(i/50)\n",
    "    test2.X.append(i/50)\n",
    "    test1.simulate(0)\n",
    "    test2.simulate(1)\n",
    "    CSTR.append(test1.state[0])\n",
    "    PFR.append(test2.state[0])\n",
    "    if CSTR[-1] >0.999 or PFR[-1] > 0.999: break"
   ]
  },
  {
   "cell_type": "code",
   "execution_count": 60,
   "metadata": {},
   "outputs": [
    {
     "data": {
      "text/plain": [
       "Text(0, 0.5, 'x next')"
      ]
     },
     "execution_count": 60,
     "metadata": {},
     "output_type": "execute_result"
    },
    {
     "data": {
      "image/png": "[encoded data removed]",
      "text/plain": [
       "<Figure size 432x288 with 1 Axes>"
      ]
     },
     "metadata": {
      "needs_background": "light"
     },
     "output_type": "display_data"
    }
   ],
   "source": [
    "x_sim = env.X[0:-1]\n",
    "temps = env.T[0:-1]\n",
    "choice = env.X[1:]\n",
    "plt.plot(x, CSTR)\n",
    "plt.plot(x, PFR)\n",
    "plt.plot(x_sim, choice, linestyle = '--', c = 'tab:grey')\n",
    "plt.scatter(x_sim, choice, c = temps, cmap = 'coolwarm')\n",
    "plt.legend([\"CSTR\", \"PFR\", \"CHOICE\"])\n",
    "plt.xlabel(\"x previous\")\n",
    "plt.ylabel(\"x next\")"
   ]
  },
  {
   "cell_type": "code",
   "execution_count": 32,
   "metadata": {},
   "outputs": [],
   "source": [
    "??dqn"
   ]
  },
  {
   "cell_type": "code",
   "execution_count": 39,
   "metadata": {},
   "outputs": [],
   "source": [
    "??env"
   ]
  },
  {
   "cell_type": "code",
   "execution_count": 10,
   "metadata": {},
   "outputs": [],
   "source": [
    "??dqn.fit"
   ]
  },
  {
   "cell_type": "code",
   "execution_count": 9,
   "metadata": {},
   "outputs": [],
   "source": [
    "??dqn.forward"
   ]
  },
  {
   "cell_type": "code",
   "execution_count": 24,
   "metadata": {},
   "outputs": [],
   "source": [
    "??SequentialMemory"
   ]
  }
 ],
 "metadata": {
  "kernelspec": {
   "display_name": "Python 3",
   "language": "python",
   "name": "python3"
  },
  "language_info": {
   "codemirror_mode": {
    "name": "ipython",
    "version": 3
   },
   "file_extension": ".py",
   "mimetype": "text/x-python",
   "name": "python",
   "nbconvert_exporter": "python",
   "pygments_lexer": "ipython3",
   "version": "3.7.3"
  }
 },
 "nbformat": 4,
 "nbformat_minor": 2
}
