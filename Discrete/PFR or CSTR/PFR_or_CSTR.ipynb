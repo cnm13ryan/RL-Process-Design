{
  "nbformat": 4,
  "nbformat_minor": 0,
  "metadata": {
    "kernelspec": {
      "display_name": "Python 3",
      "language": "python",
      "name": "python3"
    },
    "language_info": {
      "codemirror_mode": {
        "name": "ipython",
        "version": 3
      },
      "file_extension": ".py",
      "mimetype": "text/x-python",
      "name": "python",
      "nbconvert_exporter": "python",
      "pygments_lexer": "ipython3",
      "version": "3.7.9"
    },
    "pycharm": {
      "stem_cell": {
        "cell_type": "raw",
        "metadata": {
          "collapsed": false
        },
        "source": []
      }
    },
    "colab": {
      "name": "PFRorCSTR.ipynb",
      "provenance": [],
      "collapsed_sections": [
        "gjUGBTxpQbSL",
        "QYrR2q__QbSM",
        "2w1ZrDwfctnE",
        "6Gx7hDzNYz_V",
        "KrJ_MFaAbIsr",
        "l6sGhbGMcKoO"
      ]
    }
  },
  "cells": [
    {
      "cell_type": "markdown",
      "metadata": {
        "id": "CIQ_yXtHQbSD"
      },
      "source": [
        "Let's train a simple deep-Q RL agent on a simple chemical engineering problem \"PFR or CSTR\" - \n",
        "see report PDF for specification of this problem"
      ]
    },
    {
      "cell_type": "code",
      "metadata": {
        "colab": {
          "base_uri": "https://localhost:8080/",
          "height": 1000
        },
        "id": "YkqNZx8sQovL",
        "outputId": "ec04ec48-c9ea-4d4d-b199-73e0b1250f2e"
      },
      "source": [
        "!pip install tensorflow==1.14\r\n",
        "!pip install keras==2.3.1\r\n",
        "!pip install keras-rl"
      ],
      "execution_count": 13,
      "outputs": [
        {
          "output_type": "stream",
          "text": [
            "Collecting tensorflow==1.14\n",
            "\u001b[?25l  Downloading https://files.pythonhosted.org/packages/de/f0/96fb2e0412ae9692dbf400e5b04432885f677ad6241c088ccc5fe7724d69/tensorflow-1.14.0-cp36-cp36m-manylinux1_x86_64.whl (109.2MB)\n",
            "\u001b[K     |████████████████████████████████| 109.2MB 46kB/s \n",
            "\u001b[?25hRequirement already satisfied: wrapt>=1.11.1 in /usr/local/lib/python3.6/dist-packages (from tensorflow==1.14) (1.12.1)\n",
            "Requirement already satisfied: gast>=0.2.0 in /usr/local/lib/python3.6/dist-packages (from tensorflow==1.14) (0.3.3)\n",
            "Requirement already satisfied: grpcio>=1.8.6 in /usr/local/lib/python3.6/dist-packages (from tensorflow==1.14) (1.32.0)\n",
            "Collecting tensorflow-estimator<1.15.0rc0,>=1.14.0rc0\n",
            "\u001b[?25l  Downloading https://files.pythonhosted.org/packages/3c/d5/21860a5b11caf0678fbc8319341b0ae21a07156911132e0e71bffed0510d/tensorflow_estimator-1.14.0-py2.py3-none-any.whl (488kB)\n",
            "\u001b[K     |████████████████████████████████| 491kB 40.6MB/s \n",
            "\u001b[?25hRequirement already satisfied: protobuf>=3.6.1 in /usr/local/lib/python3.6/dist-packages (from tensorflow==1.14) (3.12.4)\n",
            "Collecting keras-applications>=1.0.6\n",
            "\u001b[?25l  Downloading https://files.pythonhosted.org/packages/71/e3/19762fdfc62877ae9102edf6342d71b28fbfd9dea3d2f96a882ce099b03f/Keras_Applications-1.0.8-py3-none-any.whl (50kB)\n",
            "\u001b[K     |████████████████████████████████| 51kB 6.1MB/s \n",
            "\u001b[?25hRequirement already satisfied: astor>=0.6.0 in /usr/local/lib/python3.6/dist-packages (from tensorflow==1.14) (0.8.1)\n",
            "Requirement already satisfied: numpy<2.0,>=1.14.5 in /usr/local/lib/python3.6/dist-packages (from tensorflow==1.14) (1.19.5)\n",
            "Requirement already satisfied: wheel>=0.26 in /usr/local/lib/python3.6/dist-packages (from tensorflow==1.14) (0.36.2)\n",
            "Requirement already satisfied: absl-py>=0.7.0 in /usr/local/lib/python3.6/dist-packages (from tensorflow==1.14) (0.10.0)\n",
            "Requirement already satisfied: termcolor>=1.1.0 in /usr/local/lib/python3.6/dist-packages (from tensorflow==1.14) (1.1.0)\n",
            "Collecting tensorboard<1.15.0,>=1.14.0\n",
            "\u001b[?25l  Downloading https://files.pythonhosted.org/packages/91/2d/2ed263449a078cd9c8a9ba50ebd50123adf1f8cfbea1492f9084169b89d9/tensorboard-1.14.0-py3-none-any.whl (3.1MB)\n",
            "\u001b[K     |████████████████████████████████| 3.2MB 12.4MB/s \n",
            "\u001b[?25hRequirement already satisfied: google-pasta>=0.1.6 in /usr/local/lib/python3.6/dist-packages (from tensorflow==1.14) (0.2.0)\n",
            "Requirement already satisfied: six>=1.10.0 in /usr/local/lib/python3.6/dist-packages (from tensorflow==1.14) (1.15.0)\n",
            "Requirement already satisfied: keras-preprocessing>=1.0.5 in /usr/local/lib/python3.6/dist-packages (from tensorflow==1.14) (1.1.2)\n",
            "Requirement already satisfied: setuptools in /usr/local/lib/python3.6/dist-packages (from protobuf>=3.6.1->tensorflow==1.14) (51.3.3)\n",
            "Requirement already satisfied: h5py in /usr/local/lib/python3.6/dist-packages (from keras-applications>=1.0.6->tensorflow==1.14) (2.10.0)\n",
            "Requirement already satisfied: werkzeug>=0.11.15 in /usr/local/lib/python3.6/dist-packages (from tensorboard<1.15.0,>=1.14.0->tensorflow==1.14) (1.0.1)\n",
            "Requirement already satisfied: markdown>=2.6.8 in /usr/local/lib/python3.6/dist-packages (from tensorboard<1.15.0,>=1.14.0->tensorflow==1.14) (3.3.3)\n",
            "Requirement already satisfied: importlib-metadata; python_version < \"3.8\" in /usr/local/lib/python3.6/dist-packages (from markdown>=2.6.8->tensorboard<1.15.0,>=1.14.0->tensorflow==1.14) (3.4.0)\n",
            "Requirement already satisfied: typing-extensions>=3.6.4; python_version < \"3.8\" in /usr/local/lib/python3.6/dist-packages (from importlib-metadata; python_version < \"3.8\"->markdown>=2.6.8->tensorboard<1.15.0,>=1.14.0->tensorflow==1.14) (3.7.4.3)\n",
            "Requirement already satisfied: zipp>=0.5 in /usr/local/lib/python3.6/dist-packages (from importlib-metadata; python_version < \"3.8\"->markdown>=2.6.8->tensorboard<1.15.0,>=1.14.0->tensorflow==1.14) (3.4.0)\n",
            "Installing collected packages: tensorflow-estimator, keras-applications, tensorboard, tensorflow\n",
            "  Found existing installation: tensorflow-estimator 2.4.0\n",
            "    Uninstalling tensorflow-estimator-2.4.0:\n",
            "      Successfully uninstalled tensorflow-estimator-2.4.0\n",
            "  Found existing installation: tensorboard 2.4.1\n",
            "    Uninstalling tensorboard-2.4.1:\n",
            "      Successfully uninstalled tensorboard-2.4.1\n",
            "  Found existing installation: tensorflow 2.4.1\n",
            "    Uninstalling tensorflow-2.4.1:\n",
            "      Successfully uninstalled tensorflow-2.4.1\n",
            "Successfully installed keras-applications-1.0.8 tensorboard-1.14.0 tensorflow-1.14.0 tensorflow-estimator-1.14.0\n"
          ],
          "name": "stdout"
        },
        {
          "output_type": "display_data",
          "data": {
            "application/vnd.colab-display-data+json": {
              "pip_warning": {
                "packages": [
                  "tensorboard",
                  "tensorflow"
                ]
              }
            }
          },
          "metadata": {
            "tags": []
          }
        },
        {
          "output_type": "stream",
          "text": [
            "Collecting keras==2.3.1\n",
            "\u001b[?25l  Downloading https://files.pythonhosted.org/packages/ad/fd/6bfe87920d7f4fd475acd28500a42482b6b84479832bdc0fe9e589a60ceb/Keras-2.3.1-py2.py3-none-any.whl (377kB)\n",
            "\r\u001b[K     |▉                               | 10kB 16.5MB/s eta 0:00:01\r\u001b[K     |█▊                              | 20kB 10.2MB/s eta 0:00:01\r\u001b[K     |██▋                             | 30kB 9.4MB/s eta 0:00:01\r\u001b[K     |███▌                            | 40kB 6.9MB/s eta 0:00:01\r\u001b[K     |████▍                           | 51kB 4.3MB/s eta 0:00:01\r\u001b[K     |█████▏                          | 61kB 4.7MB/s eta 0:00:01\r\u001b[K     |██████                          | 71kB 4.8MB/s eta 0:00:01\r\u001b[K     |███████                         | 81kB 5.1MB/s eta 0:00:01\r\u001b[K     |███████▉                        | 92kB 5.5MB/s eta 0:00:01\r\u001b[K     |████████▊                       | 102kB 4.1MB/s eta 0:00:01\r\u001b[K     |█████████▌                      | 112kB 4.1MB/s eta 0:00:01\r\u001b[K     |██████████▍                     | 122kB 4.1MB/s eta 0:00:01\r\u001b[K     |███████████▎                    | 133kB 4.1MB/s eta 0:00:01\r\u001b[K     |████████████▏                   | 143kB 4.1MB/s eta 0:00:01\r\u001b[K     |█████████████                   | 153kB 4.1MB/s eta 0:00:01\r\u001b[K     |█████████████▉                  | 163kB 4.1MB/s eta 0:00:01\r\u001b[K     |██████████████▊                 | 174kB 4.1MB/s eta 0:00:01\r\u001b[K     |███████████████▋                | 184kB 4.1MB/s eta 0:00:01\r\u001b[K     |████████████████▌               | 194kB 4.1MB/s eta 0:00:01\r\u001b[K     |█████████████████▍              | 204kB 4.1MB/s eta 0:00:01\r\u001b[K     |██████████████████▏             | 215kB 4.1MB/s eta 0:00:01\r\u001b[K     |███████████████████             | 225kB 4.1MB/s eta 0:00:01\r\u001b[K     |████████████████████            | 235kB 4.1MB/s eta 0:00:01\r\u001b[K     |████████████████████▉           | 245kB 4.1MB/s eta 0:00:01\r\u001b[K     |█████████████████████▊          | 256kB 4.1MB/s eta 0:00:01\r\u001b[K     |██████████████████████▌         | 266kB 4.1MB/s eta 0:00:01\r\u001b[K     |███████████████████████▍        | 276kB 4.1MB/s eta 0:00:01\r\u001b[K     |████████████████████████▎       | 286kB 4.1MB/s eta 0:00:01\r\u001b[K     |█████████████████████████▏      | 296kB 4.1MB/s eta 0:00:01\r\u001b[K     |██████████████████████████      | 307kB 4.1MB/s eta 0:00:01\r\u001b[K     |██████████████████████████▉     | 317kB 4.1MB/s eta 0:00:01\r\u001b[K     |███████████████████████████▊    | 327kB 4.1MB/s eta 0:00:01\r\u001b[K     |████████████████████████████▋   | 337kB 4.1MB/s eta 0:00:01\r\u001b[K     |█████████████████████████████▌  | 348kB 4.1MB/s eta 0:00:01\r\u001b[K     |██████████████████████████████▍ | 358kB 4.1MB/s eta 0:00:01\r\u001b[K     |███████████████████████████████▏| 368kB 4.1MB/s eta 0:00:01\r\u001b[K     |████████████████████████████████| 378kB 4.1MB/s \n",
            "\u001b[?25hRequirement already satisfied: h5py in /usr/local/lib/python3.6/dist-packages (from keras==2.3.1) (2.10.0)\n",
            "Requirement already satisfied: six>=1.9.0 in /usr/local/lib/python3.6/dist-packages (from keras==2.3.1) (1.15.0)\n",
            "Requirement already satisfied: keras-preprocessing>=1.0.5 in /usr/local/lib/python3.6/dist-packages (from keras==2.3.1) (1.1.2)\n",
            "Requirement already satisfied: numpy>=1.9.1 in /usr/local/lib/python3.6/dist-packages (from keras==2.3.1) (1.19.5)\n",
            "Requirement already satisfied: scipy>=0.14 in /usr/local/lib/python3.6/dist-packages (from keras==2.3.1) (1.4.1)\n",
            "Requirement already satisfied: keras-applications>=1.0.6 in /usr/local/lib/python3.6/dist-packages (from keras==2.3.1) (1.0.8)\n",
            "Requirement already satisfied: pyyaml in /usr/local/lib/python3.6/dist-packages (from keras==2.3.1) (3.13)\n",
            "Installing collected packages: keras\n",
            "  Found existing installation: Keras 2.4.3\n",
            "    Uninstalling Keras-2.4.3:\n",
            "      Successfully uninstalled Keras-2.4.3\n",
            "Successfully installed keras-2.3.1\n"
          ],
          "name": "stdout"
        },
        {
          "output_type": "display_data",
          "data": {
            "application/vnd.colab-display-data+json": {
              "pip_warning": {
                "packages": [
                  "keras"
                ]
              }
            }
          },
          "metadata": {
            "tags": []
          }
        },
        {
          "output_type": "stream",
          "text": [
            "Requirement already satisfied: keras-rl in /usr/local/lib/python3.6/dist-packages (0.4.2)\n",
            "Requirement already satisfied: keras>=2.0.7 in /usr/local/lib/python3.6/dist-packages (from keras-rl) (2.3.1)\n",
            "Requirement already satisfied: scipy>=0.14 in /usr/local/lib/python3.6/dist-packages (from keras>=2.0.7->keras-rl) (1.4.1)\n",
            "Requirement already satisfied: keras-preprocessing>=1.0.5 in /usr/local/lib/python3.6/dist-packages (from keras>=2.0.7->keras-rl) (1.1.2)\n",
            "Requirement already satisfied: numpy>=1.9.1 in /usr/local/lib/python3.6/dist-packages (from keras>=2.0.7->keras-rl) (1.19.5)\n",
            "Requirement already satisfied: six>=1.9.0 in /usr/local/lib/python3.6/dist-packages (from keras>=2.0.7->keras-rl) (1.15.0)\n",
            "Requirement already satisfied: keras-applications>=1.0.6 in /usr/local/lib/python3.6/dist-packages (from keras>=2.0.7->keras-rl) (1.0.8)\n",
            "Requirement already satisfied: h5py in /usr/local/lib/python3.6/dist-packages (from keras>=2.0.7->keras-rl) (2.10.0)\n",
            "Requirement already satisfied: pyyaml in /usr/local/lib/python3.6/dist-packages (from keras>=2.0.7->keras-rl) (3.13)\n"
          ],
          "name": "stdout"
        }
      ]
    },
    {
      "cell_type": "markdown",
      "metadata": {
        "id": "XZd7jIScSPlc"
      },
      "source": [
        "# A \"Restart Runtime\" button should pop up in the above cell. Press This.\r\n",
        "# After this we can now import the github repository and begin"
      ]
    },
    {
      "cell_type": "code",
      "metadata": {
        "colab": {
          "base_uri": "https://localhost:8080/"
        },
        "id": "A5a2UbbqQeGF",
        "outputId": "eadf77dc-8718-4f0e-925d-9f70ab7c3b02"
      },
      "source": [
        "!git clone https://github.com/lollcat/RL-Process-Design\r\n",
        "# First Clone the github repo"
      ],
      "execution_count": 1,
      "outputs": [
        {
          "output_type": "stream",
          "text": [
            "Cloning into 'RL-Process-Design'...\n",
            "remote: Enumerating objects: 184, done.\u001b[K\n",
            "remote: Counting objects: 100% (184/184), done.\u001b[K\n",
            "remote: Compressing objects: 100% (153/153), done.\u001b[K\n",
            "remote: Total 1288 (delta 96), reused 58 (delta 31), pack-reused 1104\u001b[K\n",
            "Receiving objects: 100% (1288/1288), 19.37 MiB | 20.60 MiB/s, done.\n",
            "Resolving deltas: 100% (764/764), done.\n"
          ],
          "name": "stdout"
        },
        {
          "output_type": "execute_result",
          "data": {
            "text/plain": [
              "['BFD.gif',\n",
              " 'Learning.gif',\n",
              " 'README.md',\n",
              " 'crop.gif',\n",
              " 'PFRorCSTR.py',\n",
              " 'package-list.txt',\n",
              " 'reactor_sequence',\n",
              " 'Untitled.ipynb',\n",
              " 'trim.gif',\n",
              " 'PFRCSTRconversion.gif',\n",
              " 'Agent.ipynb',\n",
              " 'Livenspiel.gif']"
            ]
          },
          "metadata": {
            "tags": []
          },
          "execution_count": 1
        }
      ]
    },
    {
      "cell_type": "code",
      "metadata": {
        "colab": {
          "base_uri": "https://localhost:8080/",
          "height": 35
        },
        "id": "fCZcy5_USILm",
        "outputId": "bf6e8223-79fe-4dec-9a85-f96893bb4a15"
      },
      "source": [
        "import tensorflow as tf\r\n",
        "tf.__version__ # this should return \"1.14.0\""
      ],
      "execution_count": 4,
      "outputs": [
        {
          "output_type": "execute_result",
          "data": {
            "application/vnd.google.colaboratory.intrinsic+json": {
              "type": "string"
            },
            "text/plain": [
              "'1.14.0'"
            ]
          },
          "metadata": {
            "tags": []
          },
          "execution_count": 4
        }
      ]
    },
    {
      "cell_type": "code",
      "metadata": {
        "colab": {
          "base_uri": "https://localhost:8080/"
        },
        "id": "mNfzjnJsSCz2",
        "outputId": "bb0f5747-666c-4af6-9a0c-03cb72f0ce16"
      },
      "source": [
        "import os\r\n",
        "os.chdir('RL-Process-Design/Discrete/PFR or CSTR')\r\n",
        "os.listdir()"
      ],
      "execution_count": 3,
      "outputs": [
        {
          "output_type": "execute_result",
          "data": {
            "text/plain": [
              "['BFD.gif',\n",
              " 'Learning.gif',\n",
              " 'README.md',\n",
              " 'crop.gif',\n",
              " 'PFRorCSTR.py',\n",
              " 'package-list.txt',\n",
              " '__pycache__',\n",
              " 'reactor_sequence',\n",
              " 'Ideal_Soln.png',\n",
              " 'Untitled.ipynb',\n",
              " 'trim.gif',\n",
              " 'PFRCSTRconversion.gif',\n",
              " 'Agent.ipynb',\n",
              " 'Livenspiel.gif']"
            ]
          },
          "metadata": {
            "tags": []
          },
          "execution_count": 3
        }
      ]
    },
    {
      "cell_type": "code",
      "metadata": {
        "pycharm": {
          "is_executing": false
        },
        "colab": {
          "base_uri": "https://localhost:8080/"
        },
        "id": "o9N1FtxcQbSJ",
        "outputId": "9cc15e2b-67b9-47a8-c1df-99a5ae6b755a"
      },
      "source": [
        "import numpy as np\n",
        "import csv\n",
        "import matplotlib.pyplot as plt\n",
        "import matplotlib\n",
        "from matplotlib import rc\n",
        "import matplotlib.animation as animation\n",
        "from IPython.display import HTML, Image\n",
        "#matplotlib.rcParams['figure.dpi']= 100\n",
        "\n",
        "from scipy import integrate\n",
        "from keras.models import Sequential\n",
        "from keras.layers import Dense, Activation, Flatten, Input\n",
        "from keras.optimizers import Adam\n",
        "from keras.models import load_model\n",
        "\n",
        "from rl.agents.dqn import DQNAgent\n",
        "from rl.policy import EpsGreedyQPolicy, LinearAnnealedPolicy\n",
        "from rl.memory import SequentialMemory\n",
        "\n",
        "import time"
      ],
      "execution_count": 1,
      "outputs": [
        {
          "output_type": "stream",
          "text": [
            "Using TensorFlow backend.\n",
            "/usr/local/lib/python3.6/dist-packages/tensorflow/python/framework/dtypes.py:516: FutureWarning: Passing (type, 1) or '1type' as a synonym of type is deprecated; in a future version of numpy, it will be understood as (type, (1,)) / '(1,)type'.\n",
            "  _np_qint8 = np.dtype([(\"qint8\", np.int8, 1)])\n",
            "/usr/local/lib/python3.6/dist-packages/tensorflow/python/framework/dtypes.py:517: FutureWarning: Passing (type, 1) or '1type' as a synonym of type is deprecated; in a future version of numpy, it will be understood as (type, (1,)) / '(1,)type'.\n",
            "  _np_quint8 = np.dtype([(\"quint8\", np.uint8, 1)])\n",
            "/usr/local/lib/python3.6/dist-packages/tensorflow/python/framework/dtypes.py:518: FutureWarning: Passing (type, 1) or '1type' as a synonym of type is deprecated; in a future version of numpy, it will be understood as (type, (1,)) / '(1,)type'.\n",
            "  _np_qint16 = np.dtype([(\"qint16\", np.int16, 1)])\n",
            "/usr/local/lib/python3.6/dist-packages/tensorflow/python/framework/dtypes.py:519: FutureWarning: Passing (type, 1) or '1type' as a synonym of type is deprecated; in a future version of numpy, it will be understood as (type, (1,)) / '(1,)type'.\n",
            "  _np_quint16 = np.dtype([(\"quint16\", np.uint16, 1)])\n",
            "/usr/local/lib/python3.6/dist-packages/tensorflow/python/framework/dtypes.py:520: FutureWarning: Passing (type, 1) or '1type' as a synonym of type is deprecated; in a future version of numpy, it will be understood as (type, (1,)) / '(1,)type'.\n",
            "  _np_qint32 = np.dtype([(\"qint32\", np.int32, 1)])\n",
            "/usr/local/lib/python3.6/dist-packages/tensorflow/python/framework/dtypes.py:525: FutureWarning: Passing (type, 1) or '1type' as a synonym of type is deprecated; in a future version of numpy, it will be understood as (type, (1,)) / '(1,)type'.\n",
            "  np_resource = np.dtype([(\"resource\", np.ubyte, 1)])\n",
            "/usr/local/lib/python3.6/dist-packages/tensorboard/compat/tensorflow_stub/dtypes.py:541: FutureWarning: Passing (type, 1) or '1type' as a synonym of type is deprecated; in a future version of numpy, it will be understood as (type, (1,)) / '(1,)type'.\n",
            "  _np_qint8 = np.dtype([(\"qint8\", np.int8, 1)])\n",
            "/usr/local/lib/python3.6/dist-packages/tensorboard/compat/tensorflow_stub/dtypes.py:542: FutureWarning: Passing (type, 1) or '1type' as a synonym of type is deprecated; in a future version of numpy, it will be understood as (type, (1,)) / '(1,)type'.\n",
            "  _np_quint8 = np.dtype([(\"quint8\", np.uint8, 1)])\n",
            "/usr/local/lib/python3.6/dist-packages/tensorboard/compat/tensorflow_stub/dtypes.py:543: FutureWarning: Passing (type, 1) or '1type' as a synonym of type is deprecated; in a future version of numpy, it will be understood as (type, (1,)) / '(1,)type'.\n",
            "  _np_qint16 = np.dtype([(\"qint16\", np.int16, 1)])\n",
            "/usr/local/lib/python3.6/dist-packages/tensorboard/compat/tensorflow_stub/dtypes.py:544: FutureWarning: Passing (type, 1) or '1type' as a synonym of type is deprecated; in a future version of numpy, it will be understood as (type, (1,)) / '(1,)type'.\n",
            "  _np_quint16 = np.dtype([(\"quint16\", np.uint16, 1)])\n",
            "/usr/local/lib/python3.6/dist-packages/tensorboard/compat/tensorflow_stub/dtypes.py:545: FutureWarning: Passing (type, 1) or '1type' as a synonym of type is deprecated; in a future version of numpy, it will be understood as (type, (1,)) / '(1,)type'.\n",
            "  _np_qint32 = np.dtype([(\"qint32\", np.int32, 1)])\n",
            "/usr/local/lib/python3.6/dist-packages/tensorboard/compat/tensorflow_stub/dtypes.py:550: FutureWarning: Passing (type, 1) or '1type' as a synonym of type is deprecated; in a future version of numpy, it will be understood as (type, (1,)) / '(1,)type'.\n",
            "  np_resource = np.dtype([(\"resource\", np.ubyte, 1)])\n"
          ],
          "name": "stderr"
        }
      ]
    },
    {
      "cell_type": "markdown",
      "metadata": {
        "id": "AvIIAnf7StgZ"
      },
      "source": [
        "the above code throws warnings, but this is not a problem"
      ]
    },
    {
      "cell_type": "code",
      "metadata": {
        "pycharm": {
          "is_executing": false
        },
        "id": "YpitWsR_QbSK"
      },
      "source": [
        "from PFRorCSTR import simulator # this is the RL environment"
      ],
      "execution_count": 7,
      "outputs": []
    },
    {
      "cell_type": "code",
      "metadata": {
        "pycharm": {
          "is_executing": false
        },
        "scrolled": true,
        "colab": {
          "base_uri": "https://localhost:8080/"
        },
        "id": "1lLW65cPQbSL",
        "outputId": "4852c420-5145-489a-eec0-d70916755c65"
      },
      "source": [
        "env = simulator(volume = 0.8, n_reactors=4)\n",
        "nb_actions = env.action_space.n\n",
        "env.observation_space.shape, env.action_space.n, # state space is observation of the input conversion, action space is discrete(2) representing \"PFR or CSTR\""
      ],
      "execution_count": 8,
      "outputs": [
        {
          "output_type": "execute_result",
          "data": {
            "text/plain": [
              "((1,), 2)"
            ]
          },
          "metadata": {
            "tags": []
          },
          "execution_count": 8
        }
      ]
    },
    {
      "cell_type": "markdown",
      "metadata": {
        "id": "gjUGBTxpQbSL"
      },
      "source": [
        "# Let's look at the ideal solution"
      ]
    },
    {
      "cell_type": "code",
      "metadata": {
        "pycharm": {
          "is_executing": false
        },
        "colab": {
          "base_uri": "https://localhost:8080/",
          "height": 288
        },
        "id": "Qfry1pGaQbSM",
        "outputId": "ff06fc56-c5f8-4afa-c728-d9eb041ac579"
      },
      "source": [
        "label_size = 20\n",
        "X = np.linspace(0, 1, 100)\n",
        "Y = -10*X**2 + 10*X + 2\n",
        "plt.plot(X, Y, color = \"dodgerblue\")\n",
        "plt.xlabel(\"Conversion (X)\", fontsize=label_size)\n",
        "plt.ylabel(r\"$ - \\frac{F_{A0}}{r_a} $\", fontsize=label_size)\n",
        "plt.grid(True)\n",
        "\n",
        "previous_index = 0\n",
        "conversion = 0\n",
        "X_out_PFR = []\n",
        "X_out_CSTR = []\n",
        "X_react = []\n",
        "Y_react = []\n",
        "color = []\n",
        "\n",
        "while conversion < 0.4:\n",
        "    conversion = env.equation_solver(1, conversion)\n",
        "    X_out_PFR.append(conversion)\n",
        "    index = np.where(abs(X - conversion) == min(abs(X - conversion)))[0][0]\n",
        "    X_react.append(X[previous_index:index])\n",
        "    Y_react.append(Y[previous_index:index])\n",
        "    previous_index = index\n",
        "    color.append(\"deepskyblue\")\n",
        "  \n",
        "while conversion > 0.4 and conversion <= 0.9:\n",
        "    conversion = env.equation_solver(0, conversion)\n",
        "    X_out_CSTR.append(conversion)\n",
        "    index = np.where(abs(X - conversion) == min(abs(X - conversion)))[0][0]\n",
        "    X_react.append(X[previous_index:index])\n",
        "    Y_react.append(np.zeros(X_react[-1].shape) + Y[index])\n",
        "    previous_index = index\n",
        "    color.append(\"steelblue\")\n",
        "\n",
        "\n",
        "\n",
        "for i in range(len(X_react)):\n",
        "    plt.fill_between(X_react[i], Y_react[i], color = color[i])\n",
        "\n",
        "    \n",
        "legend_elements = [matplotlib.lines.Line2D([0], [0], c=\"deepskyblue\", lw=4, label='PFR'),\n",
        "                   matplotlib.lines.Line2D([0], [0], c=\"steelblue\", lw=4, label='CSTR')] \n",
        "\n",
        "plt.legend(handles = legend_elements, title = \"Reactor Type\", loc = 1)\n",
        "plt.savefig('Ideal_Soln.png', bbox_inches='tight')"
      ],
      "execution_count": 9,
      "outputs": [
        {
          "output_type": "display_data",
          "data": {
            "image/png": "[encoded data removed]",
            "text/plain": [
              "<Figure size 432x288 with 1 Axes>"
            ]
          },
          "metadata": {
            "tags": [],
            "needs_background": "light"
          }
        }
      ]
    },
    {
      "cell_type": "markdown",
      "metadata": {
        "id": "QYrR2q__QbSM"
      },
      "source": [
        "## Doube check volumes are correct to make sure simulator solver is working"
      ]
    },
    {
      "cell_type": "code",
      "metadata": {
        "colab": {
          "base_uri": "https://localhost:8080/"
        },
        "id": "sD-RuoTyQbSN",
        "outputId": "767cf503-3f9b-42c3-fb0b-ccf4aed76798"
      },
      "source": [
        "def PFR(x):\n",
        "    return -10*x**2 + 10*x + 2\n",
        "def CSTR_vol(x, x_in):\n",
        "    return (-10*x**2 + 10*x + 2)*(x - x_in)\n",
        "\n",
        "PFR1 = integrate.quad(PFR, 0,  X_out_PFR[0])[0]\n",
        "PFR2 = integrate.quad(PFR, X_out_PFR[0], X_out_PFR[1] )\n",
        "CSTR1 = CSTR_vol(X_out_CSTR[0], X_out_PFR[-1])\n",
        "\n",
        "\n",
        "PFR1, PFR2, CSTR1"
      ],
      "execution_count": 10,
      "outputs": [
        {
          "output_type": "execute_result",
          "data": {
            "text/plain": [
              "(0.7999999999999999,\n",
              " (0.8000000000000004, 8.881784197001257e-15),\n",
              " 0.8000000000000009)"
            ]
          },
          "metadata": {
            "tags": []
          },
          "execution_count": 10
        }
      ]
    },
    {
      "cell_type": "markdown",
      "metadata": {
        "id": "2w1ZrDwfctnE"
      },
      "source": [
        "# Let's Build and Train the Model"
      ]
    },
    {
      "cell_type": "code",
      "metadata": {
        "scrolled": false,
        "colab": {
          "base_uri": "https://localhost:8080/"
        },
        "id": "9RHRK71eQbSN",
        "outputId": "ed723760-1669-48ff-c2b6-8a1d18bf4b87"
      },
      "source": [
        "# Next, we build a very simple model.\n",
        "model = Sequential()\n",
        "model.add(Flatten(input_shape=(1,) + env.observation_space.shape))\n",
        "model.add(Dense(16, activation = 'relu'))\n",
        "model.add(Dense(16, activation = 'relu'))\n",
        "model.add(Dense(16, activation = 'relu'))\n",
        "model.add(Dense(nb_actions, activation = 'linear'))\n",
        "print(model.summary())"
      ],
      "execution_count": 11,
      "outputs": [
        {
          "output_type": "stream",
          "text": [
            "Model: \"sequential_1\"\n",
            "_________________________________________________________________\n",
            "Layer (type)                 Output Shape              Param #   \n",
            "=================================================================\n",
            "flatten_1 (Flatten)          (None, 1)                 0         \n",
            "_________________________________________________________________\n",
            "dense_1 (Dense)              (None, 16)                32        \n",
            "_________________________________________________________________\n",
            "dense_2 (Dense)              (None, 16)                272       \n",
            "_________________________________________________________________\n",
            "dense_3 (Dense)              (None, 16)                272       \n",
            "_________________________________________________________________\n",
            "dense_4 (Dense)              (None, 2)                 34        \n",
            "=================================================================\n",
            "Total params: 610\n",
            "Trainable params: 610\n",
            "Non-trainable params: 0\n",
            "_________________________________________________________________\n",
            "None\n"
          ],
          "name": "stdout"
        }
      ]
    },
    {
      "cell_type": "code",
      "metadata": {
        "scrolled": true,
        "id": "zjRJP5DYQbSN"
      },
      "source": [
        "steps = 15000\n",
        "policy = LinearAnnealedPolicy(EpsGreedyQPolicy(), attr='eps', value_max=1., value_min=.05, value_test=0, nb_steps=steps)\n",
        "memory = SequentialMemory(limit=50000, window_length=1)\n",
        "dqn = DQNAgent(model=model, nb_actions=nb_actions, memory=memory, nb_steps_warmup=9,\n",
        "target_model_update=1e-2, policy=policy, gamma = 0.95)\n",
        "optimizer = Adam(lr=1e-3)\n",
        "dqn.compile(optimizer=optimizer, metrics=['mae'])"
      ],
      "execution_count": 15,
      "outputs": []
    },
    {
      "cell_type": "code",
      "metadata": {
        "scrolled": true,
        "colab": {
          "base_uri": "https://localhost:8080/"
        },
        "id": "U6WrSCYdQbSQ",
        "outputId": "e96cc461-7057-4799-de42-3d589b680500"
      },
      "source": [
        "# Okay, now it's time to learn something! We visualize the training here for show, but this slows down training quite a lot. \n",
        "hist = dqn.fit(env, nb_steps=steps)"
      ],
      "execution_count": 16,
      "outputs": [
        {
          "output_type": "stream",
          "text": [
            "Training for 15000 steps ...\n",
            "Interval 1 (0 steps performed)\n",
            "\r    1/10000 [..............................] - ETA: 29:29 - reward: 0.2601"
          ],
          "name": "stdout"
        },
        {
          "output_type": "stream",
          "text": [
            "/usr/local/lib/python3.6/dist-packages/rl/memory.py:39: UserWarning: Not enough entries to sample without replacement. Consider increasing your warm-up phase to avoid oversampling!\n",
            "  warnings.warn('Not enough entries to sample without replacement. Consider increasing your warm-up phase to avoid oversampling!')\n"
          ],
          "name": "stderr"
        },
        {
          "output_type": "stream",
          "text": [
            "10000/10000 [==============================] - 110s 11ms/step - reward: 0.2175\n",
            "2500 episodes - episode_reward: 0.870 [0.769, 1.000] - loss: 0.000 - mae: 0.263 - mean_q: 0.538 - mean_eps: 0.683\n",
            "\n",
            "Interval 2 (10000 steps performed)\n",
            " 4996/10000 [=============>................] - ETA: 53s - reward: 0.2381done, took 163.339 seconds\n"
          ],
          "name": "stdout"
        }
      ]
    },
    {
      "cell_type": "code",
      "metadata": {
        "id": "K_jAGASNQbSR"
      },
      "source": [
        "reward_data = np.array(hist.history[\"episode_reward\"])\r\n",
        "print(hist.history.keys())"
      ],
      "execution_count": 17,
      "outputs": []
    },
    {
      "cell_type": "markdown",
      "metadata": {
        "id": "cyXkJMKnQbSQ"
      },
      "source": [
        "# A variety of visualisations of the solution found by the agent are given below"
      ]
    },
    {
      "cell_type": "markdown",
      "metadata": {
        "id": "6Gx7hDzNYz_V"
      },
      "source": [
        "## First let's look at the history of the performance across episodes"
      ]
    },
    {
      "cell_type": "code",
      "metadata": {
        "id": "RoqEAX_lQbSS"
      },
      "source": [
        "def running_mean(x, N):\n",
        "    cumsum = np.cumsum(np.insert(x, 0, 0)) \n",
        "    return (cumsum[N:] - cumsum[:-N]) / N"
      ],
      "execution_count": 22,
      "outputs": []
    },
    {
      "cell_type": "code",
      "metadata": {
        "colab": {
          "base_uri": "https://localhost:8080/",
          "height": 382
        },
        "id": "eNbJa63tQbSS",
        "outputId": "50099eea-be1d-4430-a06c-c465ab015090"
      },
      "source": [
        "smoothed_rews = running_mean(reward_data, 100)\n",
        "plt.plot(np.arange(np.shape(smoothed_rews)[0])[-len(smoothed_rews):], smoothed_rews)\n",
        "plt.plot(np.arange(np.shape(reward_data)[0]),reward_data,color='grey', alpha=0.3)\n",
        "plt.xlabel(\"Episodes\")\n",
        "plt.ylabel(\"Reward\")\n",
        "plt.legend([\"avg reward\", \"reward\"], loc=4)\n",
        "plt.savefig('Learning.png', bbox_inches='tight')"
      ],
      "execution_count": 90,
      "outputs": [
        {
          "output_type": "display_data",
          "data": {
            "image/png": "[encoded data removed]",
            "text/plain": [
              "<Figure size 600x400 with 1 Axes>"
            ]
          },
          "metadata": {
            "tags": [],
            "needs_background": "light"
          }
        }
      ]
    },
    {
      "cell_type": "code",
      "metadata": {
        "colab": {
          "base_uri": "https://localhost:8080/",
          "height": 421
        },
        "id": "h8QFRqzXYSmH",
        "outputId": "d9cc273d-b9ab-4418-edfc-da5f917a4f0d"
      },
      "source": [
        "fig, ax = plt.subplots()\r\n",
        "ax.set_xlabel(\"Episodes\")\r\n",
        "ax.set_ylabel(\"Reward\")\r\n",
        "ax.set_xlim(0,4000)\r\n",
        "ax.set_ylim(0.75, 1)\r\n",
        "interval = 30\r\n",
        "\r\n",
        "lines = []\r\n",
        "line1, = ax.plot([], [])\r\n",
        "lines.append(line1)\r\n",
        "line2, = ax.plot([], [],color='grey', alpha=0.3)\r\n",
        "lines.append(line2)\r\n",
        "ax.legend([\"avg reward\", \"reward\"], loc=4 )\r\n",
        "plt.close()\r\n",
        "def init():\r\n",
        "    for line in lines:\r\n",
        "        line.set_data([],[])\r\n",
        "    return lines\r\n",
        "def anim(i):\r\n",
        "    smoothed_rews_ = smoothed_rews[0:i*interval]\r\n",
        "    reward_data_ = reward_data[0:i*interval]\r\n",
        "    lines[0].set_data(np.arange(np.shape(smoothed_rews_)[0])[-len(smoothed_rews_):], smoothed_rews_)\r\n",
        "    lines[1].set_data(np.arange(np.shape(reward_data_)[0]),reward_data_)\r\n",
        "    return lines\r\n",
        "anim_Learn = animation.FuncAnimation(fig, anim, frames = round(len(smoothed_rews)/interval), init_func=init, interval = 100, blit = True)\r\n",
        "\r\n",
        "rc('animation', html='html5')\r\n",
        "anim_Learn"
      ],
      "execution_count": 89,
      "outputs": [
        {
          "output_type": "execute_result",
          "data": {
            "text/html": [
              "<video width=\"600\" height=\"400\" controls autoplay loop>\n",
              "  <source type=\"video/mp4\" src=\"data:video/mp4;base64,AAAAHGZ0eXBNNFYgAAACAGlzb21pc28yYXZjMQAAAAhmcmVlAAB1Q21kYXQAAAKuBgX//6rcRem9\n",
              "5tlIt5Ys2CDZI+7veDI2NCAtIGNvcmUgMTUyIHIyODU0IGU5YTU5MDMgLSBILjI2NC9NUEVHLTQg\n",
              "QVZDIGNvZGVjIC0gQ29weWxlZnQgMjAwMy0yMDE3IC0gaHR0cDovL3d3dy52aWRlb2xhbi5vcmcv\n",
              "eDI2NC5odG1sIC0gb3B0aW9uczogY2FiYWM9MSByZWY9MyBkZWJsb2NrPTE6MDowIGFuYWx5c2U9\n",
              "MHgzOjB4MTEzIG1lPWhleCBzdWJtZT03IHBzeT0xIHBzeV9yZD0xLjAwOjAuMDAgbWl4ZWRfcmVm\n",
              "PTEgbWVfcmFuZ2U9MTYgY2hyb21hX21lPTEgdHJlbGxpcz0xIDh4OGRjdD0xIGNxbT0wIGRlYWR6\n",
              "b25lPTIxLDExIGZhc3RfcHNraXA9MSBjaHJvbWFfcXBfb2Zmc2V0PS0yIHRocmVhZHM9MyBsb29r\n",
              "YWhlYWRfdGhyZWFkcz0xIHNsaWNlZF90aHJlYWRzPTAgbnI9MCBkZWNpbWF0ZT0xIGludGVybGFj\n",
              "ZWQ9MCBibHVyYXlfY29tcGF0PTAgY29uc3RyYWluZWRfaW50cmE9MCBiZnJhbWVzPTMgYl9weXJh\n",
              "bWlkPTIgYl9hZGFwdD0xIGJfYmlhcz0wIGRpcmVjdD0xIHdlaWdodGI9MSBvcGVuX2dvcD0wIHdl\n",
              "aWdodHA9MiBrZXlpbnQ9MjUwIGtleWludF9taW49MTAgc2NlbmVjdXQ9NDAgaW50cmFfcmVmcmVz\n",
              "aD0wIHJjX2xvb2thaGVhZD00MCByYz1jcmYgbWJ0cmVlPTEgY3JmPTIzLjAgcWNvbXA9MC42MCBx\n",
              "cG1pbj0wIHFwbWF4PTY5IHFwc3RlcD00IGlwX3JhdGlvPTEuNDAgYXE9MToxLjAwAIAAABnnZYiE\n",
              "AD///vdonwKbWkN6gOSVxSXbT4H/q2dwfI/pAwAAAwAAAwAAFbekZYZCdC/yYgAABaak/CeP3ADE\n",
              "BT0BgeSRIPTsOikepXEtTg6S7o3fIWm6sxq1Gl3r4+9e4wD3c6z97BbPiAoisPJ+DRax2Au7Tmo+\n",
              "m+K2nrZfMc0jqvafaYVa03PSmFejIOHJs6x54lO/vK2mKJSJSg0LmCFMv39z/kbu0jYQRIBvMyYt\n",
              "7iZjgaXQJN0MDkGhs8Hz6iI5yyKgBte+qpyY2lG3ooAG74MaoASYcc53cv8xAZYulRKfqDPQHJIv\n",
              "+wULyp2Zfzj0CQtND0haFN+Ke3l0y258olu0CrpQ78DlAoDe/PNy+Uo+o9Hqlf8MZeAPB+QrIlYk\n",
              "KsAwsnBAwhk0VxLhrQ1LwWlmKrDY+h/G3aDdxycNv5iQt57p38gbJScCYzh79MxgrRexVaPL6PO/\n",
              "v2Hk6Ei7NTbq+ultIw/ZMIY0gAAki1lPPGGcAe2Zsj2XtQ0wjznTz/ACa5frmGbOQM1RFLDZMLiB\n",
              "9Pp9ZoWLpdFiehUt49Hsd47yRvp7RBrZ+KDpTsX/Mp0VJ2ZCzfxIe8iU/vZY21DUc+Sel11KTFMm\n",
              "rb4o2+Q7PpRlHKKauv3bNnk7WCsPNEC2BAJxWU9PLQO54/O9XoWfwu4jbSvIGSmuUrWRW0eBRj5T\n",
              "h0qKLfmWCqPP0LP2iiV8yYJzaTn/Z30LH3L82R4f3rR+/F8DSCNoTy2JbJp/xhvoVKse2hPlopAF\n",
              "DM1bnrxAIo4VlvOgodKlWsCqaLvk8EQsUXjOubq1FhrKxGaoYprm+bUgiZQR2iyp2Prtkv6rvcRT\n",
              "YCepawd2hNOBqtuATeFn34bV59fPb2uneYINShWXxCpyn3U1ZitNA8zRAP0Q4wfgtoKa6gI7X4ev\n",
              "NgUzNs3tId/kKv6XIquViC5kEj3rd+He/5fA1zJe+JCgpF0Ygx1mJukiPDL2RmnRCXEfDdmMGqky\n",
              "lh4/U3nI4rmNJPGGJOcsoDWPmOFFofiN9giUTuRKH3v2OYExcA+0euJ4R7hM74dSLyI9PP/TxWtH\n",
              "mNOcC758OQ7E9qjCM8rZIE4GczxRepQZuqnmR2B4WJh9elLyvT7FEM7ZZgYhXWtDT8f8YFuiw30Z\n",
              "NgZ4BU+tDdfeNVGuG0PchnEQQJccyGEwRxCBwWT7PYNz8vv9rNJSGrorf37juKCkp7ofHzJ9paNm\n",
              "9vKQBgsuKOH4g68L3iEPiySQY6bTX7lE2ABnLlbAi0sTg8NvUj7/rynoQJoHge0dfxbhLMV6RV12\n",
              "fm0xP9XK8nDkwyYuxLtJOMNr1I3Zg2njU06s711j+hI7wNxw/DDn0ryvf5cV4uuCLHZ1p1AUZiH6\n",
              "u6Jai+7Yu7PM6A5QqXuCfYpY+CK5w61KMgI3VQEYHwUlrv8GHWy7kytN00211qNtRqtDMdDLMxPz\n",
              "Yel935ml/wOxinMlDeAZYTodX1br8TPjdVjAXFjmrsTGSSja3La7Vl72nfIEwWUtDO25CngXGrW2\n",
              "+P9dDE1t2Wy+gGBJMYCjcA2HKjwAysjipn33B42/CEOlrX2I3lbDWWZmUymsAqjhTH71WEI2Kbe3\n",
              "7iC2sI1EHRy/7REOZH7UIrzqiw56hM+GKxKJGPG3Oiwa7oCuEAx75cM+fZTm5YvRqVgwV9gTkgIL\n",
              "xRhbmp2XTKKzNI7m11/euxXUTapmLTRSW2oVOfnRrSZGU8gI6gEyqPi0fixFNAmhysBXySuK6iru\n",
              "C+wLf0qIIAaHN5k6IdJSi6aN2iNXOMWy2myz/p50BGzR63M8TQeMlXXzXWfmEUXaiNMw4P9xiQX9\n",
              "IaLl7cxiLRfqb2sRI0+DDMpIoHaQMVPH0etgs4oAhubCe0B6B2ZFlSZrIdF2JvI0bHzOHdjtJEXj\n",
              "qhAJb/AtS5u0IjVrzvoAHtvU8okITLBt9B24EpXp77fqnXov/kFXCnAELZvl/bEwYR2aEnAdiJcY\n",
              "U6WVpohSAOvu0rJ1hJ4+QNfeZgR5DAPXbebQMk2axcmodHRZDYEL94vMMeRa+zywKwOvXrGuZZ3V\n",
              "2sG6r8hlFju1itpPbn4/Zt6uJl3V0ur3s5tysZSAlsnRzkWY31T0f15kjNbNwrKCMSHJtGMtzpX+\n",
              "gzGWU2cbODzorzL3q/Dil5oE4AD1VgAAfwawBT4WUgtyEFbDTcH7kPiytdqqwyVSMttKh40NBKFj\n",
              "ESdQzSnykAXRpnu+PXdnZy4MsRbKOW5Fsnj8dwoOwWLm5rxdcCIPuxt3N4s+eqnBi9SXyP1jUAQq\n",
              "B+H363VK100XrIWqYkrza3DjitGFUkm02WEV5O3/nl+U+EFgptrCExHhPqrwysiHiwdICcSQsqcY\n",
              "3N+4mG0UiKeRABK5GSdQYZDeRr/TdLT5EalwdkTzvMon1PHHJpmkEdaC+9obFefB9u49WHYQcb9C\n",
              "Y2jQGeoNyj1HUsZW48UwpdKA8YhhXyWwVnNRGx7ri6+Ps1ll7Gz4h7bcmh5pkPxrywIttnxCD1ac\n",
              "riPCzRYyJLSIVw6LCN64izMES5a37zF+hDzg6a1p/n+2WgY8WJtpukePBl8fKAcAYodz9HYcsNnN\n",
              "oEw2vE6m/WOPI9ySZmNUAAMh7v0rJX3SfsKNyV5954wi9Sh6B8JPz6XTZXhk1d24hGNEql0l5Omu\n",
              "YCykXYXnKVx6CIsxbGNJoLuctJfPOJRd8HOzrQkatMsX1QVCilHxHCXBNJa58xZQFL+aC/RjXyrm\n",
              "qYm1oBv6m5wvRe3gC38rUKDI4Q7H53XMsUMC/KhCz3JOaDh96pwL5YO41q1O0hROto+gTZ6HtmhW\n",
              "PwQSQgSdjb3aCgWEH5Hs4O1as1Q4+o93wjH7kpaJ24kiM64Jq3DrM9jE8wsh4Qs9YiRDhFTYa7tf\n",
              "VuPVRyLRYyY6jBxFlw3Z3cWUJjKog9dcpsPvCeVLoIdIzmO+OYSTlfmUq/0XQWsn6EPNe3lIf/jN\n",
              "rfMvFUV0LSJbZRHaSl4xZ3pZg7clvEIrY+GBZLnRga+XI+AISdcjYxv8buHFBuQsavs0QF3wM5g1\n",
              "MZZ5jdwYCYUmcG/nBx/dqvlvoDjwxELoxCGDMP7/78LO/4KsiOJtd8KPi9om3PfyeeiD+X+gZUPZ\n",
              "SFrriJYojxhjb+1ww8a/QKeNiDe/w9VktQXQqrU115xYkghSP4F8K5o5NRAl6Xhb4vDTV/HbnOSx\n",
              "3vQoxsherFSZ85tkfrb4z1Gnv40zO1+7e0IHyhLSO5/w4kTlVQykvwjaI3D+b2x9rKwSyeBwahAF\n",
              "KqYRziOQ3L2siONqCgZD6qDuvo//vUc6mayGQsFthqGTdS48WlZtUhHkKK9NU3twTUv4vkv31M25\n",
              "PNPqf5YYm5AdO7jv1bvb/3ux1dnFnhGUDP/DluYMux01XFybHgtFuY/Me2xS6d3bl5GzPbpK7e+A\n",
              "u91k7XR0LEF7seODFQ9V+82kByyS0XqTH0hXoQLiu2pI7Aa5vqgu6REHT+J4Q9ZbMoBtgFFCdaHw\n",
              "NnlysWaW6q19eaBryW2f6G3/t2+DIhjo4mVRs+N1KHkCMlHO5ggI7uQw6E83UCZhEwvH2TQxetLp\n",
              "BIMXJt33hXAAKugYn90hoLR94VL35fDNUBwML31hV5Rx8lufP9si1djPkTRAOtjk4zcaN30GrJ03\n",
              "EKCZMQF0eJiWcSm4qrMf9/Sf+7fZXKm0w2MjvN9VebdBqdomM081nul6m2dz5TIalKAlvgEhiJW3\n",
              "1hcqnrwYATcVS27YEs+eZKKWt8ujVxBlt6JkVh7pt1izj/I7e2b29ct4qoRRiNGbnTnMrV2f22FZ\n",
              "OJdStMiAflO3XreVKWarW72F0H4MYzPCD92XoFAuuopE/ND7IpPvV2/98V0rEQYynj1fzD/U03kJ\n",
              "R4ox9PYEOb0adAAbaMGOJCg/tIQL4VmRQfXxixCbnHBODSnHQY9PpWVpe7IB0wVZm9cASiG/xSac\n",
              "D+mHKeDxZ52gfycZx/lfi4uQyqr0aIyOX8uBMi5H0496NcpKiKbF/Fig0JCSqSciYjl94+5mWxYS\n",
              "BxDNYPatvwFFdjE97AFCCHVL8pdJZXGZT8+/nmWLEy0Dy3smCiPwTaUxnrV08Qt5yWJ4hGKRrOwi\n",
              "O2MyXyYs24ADIv/OesOmAKt+/aWkqJol2nlGXcaqlNkr1OftkIReJnVSDzH+Ew/ZiG/GwACOFGLx\n",
              "TiOFQlnIrxpIowtiv6jVSTfxIfHZyxppEJmoH7uU8mly89hkydodLForjTVMveMz+LN2K7oK3nlC\n",
              "7pKxQcYtlxJre3N3AD+FALk9zA2MEDBjV7+Ic6dzup9wKTutOBZUY/+33Wm3f15knPZn4jcjsJDa\n",
              "aLQK8aZXgCNalLrP4YwRBf9gODAQg6aa0Gr33jUC7PO5KSQHsTBLSnZgNoMdmtjkayO2mkcXGWOV\n",
              "pZIx3HMK1tagCF/J7n6tAhmEXWzXtyD3IrG6E+5CeSvWp0cK1Kckz0jnl5H/R/pZbQYTQ68/LUop\n",
              "NCXD3SnqDB6olp2onv12eK0ej+uDc5TiSFK3bQ4aPMZq8+v1J7fGTsp+x4aqQU/BpSDSPc0bJXEh\n",
              "5JxKZVWkkjbP7PYbyd0PtDV4RSAxpWs20fN1T95GZMKGPOpRDLcHgXlPhZM5v4sNhH1Vsv+1V0yS\n",
              "BTcsZys00Qazr16Q6o4sAgmqD60s5LS7qKKMdvVy5Evs4J44XqBZTo5TcI3YbWPVkOrKrVHYuIEE\n",
              "vAmDXpAE95v+oJPwkNeYgJLuF8S0E6W7bHFyC1i3I71rq9HMaZt1c91elkfn7dSDZYpPX0bbwp7r\n",
              "jqVt5YEFi9dAwvvdlZMwhtDXPhIZlEWIo6BFJm47kF9Nd3h1fByyk4b4CsJLHCg+4mBlbTXpZZpx\n",
              "zrWYkwlNOxAcw4ni5Gtat02CfduDXEXbgEcM4wIshM00ijmzrtehnlRaPrJDTrK6rJHgWN3IwP5B\n",
              "f+8teFv/4YaS1x7nCbWHqeHHFMMsqkt+QdR3tYOprsbNDPFVVc5zzerI9zo6YJ8Twt5RoNSExb/Y\n",
              "0JQV7P/eGrtWpoF69l4twXRZ6qfgFRIBUuEeapsu4GEv33k6qBghRDPKrPtbpi2ZVJp/hNay/fvP\n",
              "zXz5ubQlOfdKwBTx1sZTQ+D6VK9Mys7jvsk0yjHvJ9uEotdLx95/aB5wUhncHn24bf3g6GQqOhNw\n",
              "zxJ68ZUYNFLbQBr/DUy8lOn+r0fZOrnoX6WwyzX9dJb1eDUqDcYQSbfa10UVKVqW/JC6PKxbYJqS\n",
              "HLuAf5VVdX/4P8r3FCA42NuPZEUb0ZskMdTweksjNU68rbAQeqtKKpd3VSBnz+h6JI9dWP2MhjoI\n",
              "KE2y5uoJAFzpO38tlYXBeXzM5OjqFZnr0G723J0KW2AoSwwLGOt8rON+Yy5JvVxWbgULTnEHXIZ5\n",
              "PhMc99OdYQPPhlMfo4O76nu1CM8XMf7UrOAEHI+tfuLo4MM/34OaAoVsBXqC38Y20i7c0Zqhx0tj\n",
              "TJvS30WaktnCVsdlNg6a7xp/9xCvvnBg7s0k6nQyq18gfVWLq4Aw0CaAdW7QL/XEkpSCLE/LPmJX\n",
              "xvQUOdF6liD70Sr+mrao0K82yAAKw+tWwMS286NaWvsnsxjnNoD2KdHyBxs8i/5UtZxzIf7SUe3w\n",
              "3f/xtlmKUFnM+IipYGcbKj275EOvWMbnvp4dLjdaefJVBch5lu2VGG8l8+tTxnYHG86556t2gvxl\n",
              "s/VCugIFVCL6v+VOipIvucHZypT9gq6hYHBFXYg7mGRcmTajBsHq65K7mY8u4/3Xh/sbgzOBjCW1\n",
              "lRD/+chk0slZDUTT5dgftbGp1fzDqzs+pk3aE172fOmaelprUWKN5/zGH3vh8jaRlwqQwlOoi203\n",
              "L5Fhh179RbE9b+g7GjX1KWivEfMZ4+fp5LmgFeaEyDzNHAShvynl+tAeTyJgXMh73JAMgLFBHv1R\n",
              "vc7IXKWpGa5/HLLGdq+VbXBilHpJgGIzEhyQ3HoY67+zRryZjwJB0C1j5s2NC2n/S+CmhUhqnndn\n",
              "sOXIl1p2jTW3TaiPrQGYiq4O9encHNCkrhlKiRBxObr7NT62G/15ZsUvChoeXkecahCPXQW6vYL3\n",
              "CGtqckrxlTI05nxoPA9lxXjnF4me2S32wkAJBOlJK/e1UhKSY66QoGlRVIzEbAHEAQkUpS/wjoA+\n",
              "ShljgPu2reLrKh7z9F7lKpAU5zjSg71y4UMPBEp+Nez3oRCg/MRHkbICE6/xJDQlNy0hdqyW7KCg\n",
              "kDh4P/kEBKEObjct6DPPHrQTxP0un+TEWegfP6gZSQ5dzqyIcxOb45Nb8eupzVO24fZ7IUU7blLw\n",
              "4MkXgG882e+6ajd+Xh4zZfEhmV9bVQNeZ5FBOL3uJRwlgcujc5YFNfJm2AwsxvIQG73H387ZN23p\n",
              "3x5682r5bqfwCVvHLqZe1t8GBFtgxjSwC/+9lcfVBsXpYWVCUMwdn31yVAD74YJaJzEkpRVttdaZ\n",
              "Whj6/rjXgBH3z+ELtPdViShIK8+kkbu2H/M9ut6z2QRrHYTaUvH7eV4vb5TikWp4lxZMfZIVh9jp\n",
              "HS2VYtwWB9bFWsqHvCxcTbH1yh8XU505HtP5EnmP+2T6hE91nyzflwmH6wDGaZ4Ig5+AXSURfsfU\n",
              "OiyVfC54fYmiw4iWvgUo4H0uXXc1SOjjJOO/bC3skg7QLAltMMiKStAHUoMckW89uVtt+bVO1TFq\n",
              "KdpsHtrZbyoGegl3hBTwJSXycsty3OsT4NFm/3mriFUrF/dzdzDalfHAMrvjU0rcQe1NeTyilua+\n",
              "jonRFaSa5SMV5uOB5JIvEQIftWwKQWfCfSTdHUwchHrrBrNOwp89uEeKge2DLQBRGD1IzyIQxyXn\n",
              "iFMLqmuo97Pbe1fzqtEwvzXbo1LCrSHd7IKUBzGeIew9YLrC+FHdBewBYZIiYeTEz4I0q6Cg9CXE\n",
              "pl4jEjNUGhAx8ysXWBujC+C452a6fv9R104M7CmqwlU34uMcbcM+420mEPBwVzyVmu7MzwwthNEk\n",
              "KpkSV2y7y3aBoXMI3TYrXbNYfBiNBBg1frNqpbsuAqjE/Xorm9ZuFfFHjcUQIr0Rs3Ea+4wmovZk\n",
              "S9zGIB85Tx4rJIPCKezRw4xG6+zXCu81/Cp1j55cH0AAzbfffQVpPWEuNvI403xCZEcfp4p0Zglo\n",
              "FEA39sdjuBJS3vfLmA8BLTqmLNFrFDqC+p/JgYFpVp+AVyZWQkt6tGfkaTwM3OJGAaFIE2t9oMON\n",
              "Z1f5cm9Mx2ijFcuCdT6bn8k8joa8jokr5X3eDp8byTMr65kDtT+ixnJhKJRuyKaqigSU374IVXHE\n",
              "8NV9qOHJE+OitJ4tlv//IvVBndC+h9259J1IbcsKHh4wES4ZInG7/2zk3RSkP02/KTidPqrednOe\n",
              "TTm56gJt63ioufayk0H9AP/8E+SxT7dNDSNevCqEN8k7qsXry/imTQsaXM3BDeZ6DewVXen4r8F4\n",
              "8ANvfuiTcZZ3T73IYx1YHlQk3e6siOO89yh8t1/uZkCaz4T+13Q7GyLvVkRqahoP85RSXJYTktY3\n",
              "yqMMJJP7evvzhPuOnPPazSZaj0q609a/cDlKA/3Dd+7NYFu2Zvqm7vMdGLh1ghN7rULuHkn2AGVQ\n",
              "8ATcJ9pPZdmXU4b8V/HF6gr0QpO+VKJfJaOYNA13UjWzLrgfQWt24RqIAYbEcEyoYGhn2iou6DI4\n",
              "1RD8T7mYzP7I5W5kh/KqIGNU4qfmCjgvPAgBPEAIt3BWjGyp06jWHYEsc9hWNVwqoM1dM86GF0hI\n",
              "X3OLTwrMj8QMJCbluXXT8Ff0D34ALmsfDr11wS4+gqfXWAySSf7JaMhV7i8zEM5GxgrTOcqqfr28\n",
              "uD+lyWK8lEN5ixjNyadMrc4zq/CNPI+5wh9mM+WQFUoAPn3YOoVMdHpzYN4Im0FffGeyFKbgZEKe\n",
              "jtTYX4PLDcz3xj5v/qKjnpTBvn9Clq/zDEiZBcXUE4Bs5ELWrJ6um5dzPeCbRvMdXNh2LA18w6RD\n",
              "1KtF8PalSAeXziTCI5G9yH16o+lO1KJAiP5B9Qoq7x776ugyR6aenTzZfbgSMerczQ7AM7cx544W\n",
              "LGoGOE99agHoEjHr10Sjxx1silKwRKX6x/0CWmRD3OYJYw4L87ms1Uk6OXD00CisWqdim55GH+mA\n",
              "JMmrTKI10+EzatI9pJtqOlsPHhzJEaUX+LiBV88V90g5cwgOmdb4qFYMSfkknYE1jWXYBJZgfNql\n",
              "x///4sn0IqltZ9lzlLYaIU7FyrZ1NYPSEf6lKC4WORMarKyXBAHvCkNzabxo2AhCHuGjML2RLjSV\n",
              "Q08jfJeVk01b/p2mKc8liqhtYAtmBVa18Lvs4dALZ1kcxx/FL74TIwXr9XeAeZo8xCmrIiZ47K6c\n",
              "wjU3NzRzc1zZm9E//wDelfGD0Seq+4AhvpKh1GG3n/JsQ8cBTTg6/eJWrdyPU40uXBSv+vr1LNli\n",
              "nnLe8Juadkg3zkg8jzungcQhvYCt/fibdMecnVvCNbcM+hvBMI2+q4FcWmlJx2pxyZJ8NZF+bU8H\n",
              "C8SFAZDwwmc0dlkODWR2Cm/MthWNhCOagXAbngTJirB+WWCDRQQcfxOUJ9WWmn03+kpcxJ2dTh34\n",
              "aHx99X3FgLvcEkV3u3REmNfgcYToduL6IEKXsGGwRurrzzca5LPkyEcW5Sh+13AxoOsTPS99OHjR\n",
              "URz7IpsMtVNvWImgV7x2/3LmIkkEN0P9RJr6TprF5Sy8x69cVWVSqKogoXHVm6oqzfMMSzy2vFfM\n",
              "Nl0FuHkd5RNXCIHbDV9U56MZRp/22PqH837T8iGTele6GonAnW61xMb+bfObYeuENpCy7znyktve\n",
              "4l3NuWRNTMScThzK4QAEbQAAARRBmiFsQQ/+qlUADAZZmAJ4bkqWzacHe+eUdR4ebA7+fSo3ia8S\n",
              "D95CaXRr3KeQ18NqXlAo9fEK51QvFVD2mO/zKrUygKC4YUBa3Rk2S6ubGirfRVqYo510HKq0YtvS\n",
              "g6kx2yHo5A/3Ak2VSQxQBl28Rhu1h0M2eRDtDfYttijFH5F/zXv5OT1lkHpqJEW+w2tDGzY8vjNL\n",
              "V0boNw/XIN3uLkK4nKXDjqencU+bYpReANLgz+sauTudRdfBQKMrZDVorG0SxyWR5NN2/Fzsmukq\n",
              "ncSj861hvYFs4Jkg+IRehagrCk2C+OsPBm9bBYLJZttQxjH8CJwnCcNyfKV3iN27R1vzjsRy2NwT\n",
              "7JvNpT38n8/CLHwAAAFUQZpDPCGTKYQ///6plgAu3bqwEFKV5g6XGf4mN69uyRbLDGa3F0j8KYNc\n",
              "JFCql9BcYI9nBLKgA1oyZ+hTPLfReGIKlVzXonwkANfLfGKCwBgLEiVRhvVlsOH9WI089uJaJPjY\n",
              "fGG8HtujS9AEdOUzevDyxWbrB0ytEhP+E/H4Rp8QDgviTlKaArtPRwhqrIahK0EbIcN+XP09Up3L\n",
              "oUiEkAO9OcVSLlb1nTcaw1Q8f0kj7kpUoViWrpWadiHZf5aZ+rRYH76FRN0A9yOjM0pAS0HzYCHo\n",
              "/NcyvA5avX6iRAsU/Le/IE0EapBsC3ha0rzrtvU8SZdvRpjjosoHzyvqCECOrTAKEJq5i2h0ApjO\n",
              "MWjwFKoMVhb0HYoIyXHyVn8rT3GruNhke9/6+mR98juG40Fjq/3Pia2JmIuhyMvNdSPPHMYRt9os\n",
              "iSA5BfNY4UhHXV5WLQAAAF8BnmJqQ38AILGUY5wvpvX4Lzb4AUufQXgm7G//6i8QC9jaojny+OyH\n",
              "4A0t4/CA0r/WAv2wpGtqdiu9UTqxCVyWZmbYrlrcCaRmbTnzXJNiRIJqvZxovGv24hYRyjRI/wAA\n",
              "ANdBmmRJ4Q8mUwIIf/6qVQALuxCdOtQAZ63Xl/esard5TpKb3+EjajxqLZr83Hf1EaNHVZnjNYdj\n",
              "axY9jnJl9//YkOUrZcO2ia94dbmxv+KH+1pvZMSc8ShNwqycYg/iJOIk4SgpfYiw86Dh19BTMYew\n",
              "QnqgXrcKTNbdq5+tOehz+cKyaiMHOPUmCkOm9We3UbyJK55o5tZNzIiD684C1tENBO9V1d4pXUjA\n",
              "+SfgcwOHgQQ4Cx4YM03Wm6Mg51u5Zc9luPu3BhErfszV9WND8XC/WDClv8UygQAAAPFBmoVJ4Q8m\n",
              "UwIIf/6qVQALuw9LAUAHm15Golz+0gazwX9H2o83GrfgdV1HT/fTE3yBXywaRP+1jbpypVXxiy7l\n",
              "V/rjGvMAfGStrS7pZ+0iqX0BCCZzrsBlQ3eSV34HyO1TPzMfDkmmJmpiREg07bxTB5tRPqg9/IgR\n",
              "cEuOgHtu32Zz11/BfRU9IW009JKG9X21Hcw0vtEdF8nR1CQ1ij/t6qzd26+VuXVa+MyA20SS2tfQ\n",
              "gLT7bDN5lBm/lnqOSR9ASNMTpoQU0a5IopK8rSii9aIBUVtJGGas6gY9KR1gDMYBrbgXelATSGt+\n",
              "zMDijCnFAAABREGap0nhDyZTBRE8EP/+qlUAC8bJN/8fk4gOx+BofL8US20Qxe+fA7eoxrhqtDZE\n",
              "/ZGX8aR+yty9wvjq0ga7vwlFhJZyS4rrkB7HeI8ra0smCTs1bC2wy72xAl/ew1HDIOpu0cRLlWFM\n",
              "i47Gw0/kdV6WeW781aC4NlrcMjr4o8t+Rbz4M3oO59Qbm7+aMQFXIoo+PRFiONkxOoh11R2mjMUl\n",
              "AHxo3hQ9cXIqMyHvjPLyfbNeXpn7PRPf2my/wmLdGUfk7Qd58VeiBB1aboIUXPN9ITrDwnoXbMPN\n",
              "6h4O7n0OY003Z6No2dV0LSUYSmc0YOVJzRebSG+RQX2OdMR9wseb/aVcDrwyRTm56Q4XQDeodtv9\n",
              "A37/DkITuIv1kVPO3lIo4A/RlnR96uMhu8JmNXRPBEqBE+zxunwb+i+ErgXfszY0wQAAAF0BnsZq\n",
              "Q38AH77X5LHLZQVOI/v3INssV+bMlcrBhLoAuAqybj6nRtQWZO2EPmXEVaywG/lyW4dyElZoqBL6\n",
              "6VeqBBy7XonWAvAgglFFl/iz5QHLKLyJsq8RoPvUaYEAAACvQZrISeEPJlMCCH/+qlUAC28aRRNv\n",
              "mfPUMwrEZf2RKQfva8kJvVqR+Ifz9Gut9PBthjAELcWPA4grUOITIbCXeJP16T4vuADiG1UN4ONp\n",
              "ZXJv8fCmvEgFfEDnKqBJzKQ9bpDk2gt6k0SG76BKWLEcpEfofutSrz6FxeNtyuN/mVXkaavwewgt\n",
              "2bsa1HEIJlY6/Vw0tqzGhvihHLMu0iYndz+aEY23a/E7h5AtpRrZQAAAAItBmulJ4Q8mUwIIf/6q\n",
              "VQALeMl38oABCtMjMXcnUznJrQ4tQV/7EEO5uHnlj0IZBryJf54e4nsEfA5ABm9QuWmRG+MK+1C/\n",
              "Y3B43G+zL1lrZD2ms1D7Slz8fNxSkUGh1QOipP/7yzWIDricm41paoMc5CKqH5WzUwi/LCdSW0MK\n",
              "MGAbHPwfPTz1UKSsAAAAzEGbCknhDyZTAgj//rUqgAW8g9sKCAMgAxx5nbl1DzUGsO1KELEyTNH4\n",
              "er/x2brS1j8s5h3MzWeJ0bUBRiB4yxauHvXLFFr4QKYEFtyXuNTuDGMygkal0X//TrHtLCAZeUA6\n",
              "MN6ge3mBHsRKe6Z+WUJfOcugiRU8jtcn2YBO3cKW6pRSFYA9a8BPwsfH0S4J81WwZhQXCRHs7a8c\n",
              "zWCexrNkz/JgZc0rIVqdozCLSVW0wpyBXZ0GdtGO16H05dqkncDihcU1oNoofJHZawAAAZVBmy5J\n",
              "4Q8mUwII//61KoAFv2f0v4/M4AGxtYt0mmX8jrjZPAWmJQXKyLcP9xDF5RYbaV8hvkf5XzYjuDPj\n",
              "CUom+fuJVoETrIVWRS5RSC+Z2tPIdqGe5a7JQRddd3CU/GI/OQADLJ+kuuD+04/Qdm+eASSZdyAw\n",
              "OpbFEtANgTsCn+CioPVJ7o3N79ozaqCDrEy+p8F4FjL91BaM5354bJKcLnWRV9aiRNku8HJxKm6X\n",
              "v3rdwFMSPf077i5fgg/7CeRxwqu4tU1FNz9q4kGhxiT/Rr3VU2Wf2vfeUKxzJ/BMfYQdjC5Dls1B\n",
              "zXb8t57kmW+clERynxjAkQD6tuSaDb1+9qObMqCvKMjiMy/VwVTPideo0xsxS2baC9wnlXbxC6eT\n",
              "GjO5B+iGgz/DTkYkGATF0qcUMyk96WxpglBW88zsT6wQaCM+5mOOUJ+4ji9wsycvRFWUyp1iPkBK\n",
              "678PzjawbmLftF1adsFJTWcSrPfkKMuD3EIOLgjUmSQzOBX+vlUJ+/XXpU9qI+C1cMbHmtMeYoDy\n",
              "z4AAAABtQZ9MRRE8O/8AFlMUdf6HLTigp75BLyNi9KPyawkcQXT3WL6WtH5cf/EIZHO7dAEYmVC5\n",
              "sS/rGadmS5DmR0w2TBaWFmgys3xBn9G+fTm8W0SHs6XLcT3NVtKUYMQvnJ2Y55TgEF1SKDJbHOgA\n",
              "QAAAAEQBn2t0Q38AHw03hm88tm06QY682gMREuMqRgCnED76eAUMCafjEOlrp8aO/DwA09z1JJBs\n",
              "YVCHSVfq/yKl/CH2KdnOcQAAAEEBn21qQ38AHlVCPfMiFN+w3y004uXKXEGpcy8GdZnzGf5Z2iFs\n",
              "cnIAPgjaPjSwkXqotujaUXqRUy8JrXrUHa+ncQAAAc5Bm3JJqEFomUwIIf/+qlUACycY9UwBqks4\n",
              "00uvJ0Rl8LmZUuYVvywZJhEoWudPVgESSuS0lnJtq9ViccPB47jWrZHUECmpmYMXRVqSnp1rXPL0\n",
              "EmG6l4/GIeO6a3TEfYVWecN/rirbaqFwP+6s4lKGCyhd3hZuUD+XstYfIeIHtp435At60WPSoBPE\n",
              "awRxfCMKMREEjXZnlrIbtKrjEZ+PLSp1ORIzQ0yBNHCkzhzHFXAiw1J+hkCn13Sq7IjTht6osMY1\n",
              "1g9qcQbTgBHYFNWqiknZ+s5jjisv607oZxl1CmDy8OOTFiZ8MJO1JyglK4mZaPYyquNMHDeqWv5U\n",
              "BY9drzoGrq63gvIi/is/0iFRUaPcTHZMhT/7RoY9RS5eQaL5AxoO56VHUflhRqoTNC9LixaHcYTU\n",
              "FZNYlMRZKPbaVNIanYTjIls7iWuctYSf+aqR00Cb+Qyl7wlFGpLWy7IGT5zqNAQtKJVasoLq6gMl\n",
              "ieacmwyPhAIkY5rv4PdGsm/zZ0Ouj8DaO5rqbe/tTM8RC2RkLWj5IqdKKfHY+qECA5jwgN3vKpjv\n",
              "ot4OrZ9Y/CD5zov3Zy0ZRrKNA0m7/Hm15/aG+d25GMya9SM3jYEAAABjQZ+QRREsO/8AFcMUdCSH\n",
              "LTigp75BLyNi9KRWkfD4GI/AfUdBzNCzRQXkgVX5yTheI7GOciLLiSEob2eYjgOanGEbTo3flec3\n",
              "hlzxWSfx8Y8Ae/cTcPXf7ecDG11fNB7sAw2AAAAATQGfr3RDfwAeXThcKEwP7znpKbEhIPoYpI5K\n",
              "AnAAqTyrKl7ZqqpK+fpYys5eXPwESDA6xKq9OfKXGoTV3nHDuthdKZjHdxfca+QujLUgAAAAWAGf\n",
              "sWpDfwAdrUfzwDDvOyIrU47kbDf85wARZe4ECSbN9iHbXJDozkusoGgLYOQmxCC7c2FVUBauOESj\n",
              "VA8uY2fLf+wOTb94Hml9leORFjJeqas+VWnHUM8AAAHRQZu2SahBbJlMCH///qmWACpdurAQUkY8\n",
              "oSyyvgFfHnkKdENa8YETWiZGQmUZRXHgn2eO4exLMzmkriy+xhUjrGNW/xXeIHXGxZhEWqmEHWol\n",
              "g8Mw5Wc/WIhHdPHbyi/FyaITp5hHY1lNQRclYceHuYcM+SBbM988i5aL0JIKpB7/1o4dJHrI46x7\n",
              "s1cNtdJ/Q8geajF3fmzk98cCcE5V1Z+wiuJVy1npHXdSL060Dr5kbkxSJosFMwuZ8iqOCFLfmbcb\n",
              "UUsZHUinRQdjx6sgZ2OlzSzSp6CjHP5koeMk417hfulvmrYBGCFP9glAMpIRDy+8Iwg9asfze5bX\n",
              "4wyqC6/Rd/QCjQhtKbyt8HI2Vw6enfqHccYtMtc4Dg7ThRi1yAtMcF1it5Otwcys3pCxqvUJmWiG\n",
              "zz2fiZ7Ocg/9y+uxeuHPHbyHf3Qe2rP/gAtN2xSD5AWpQUZX1CKo3/8aaL/E6tuNxqFOb4jdQBzb\n",
              "K2bB0IddzNDMlMau7sl9RUkh5Exp2J/v2px7YPXPDcJkVLV9rE5I0t7OwNOQhucQztLe6/dc86bS\n",
              "DFL/7DzoKSZGM/wi6QUHG7auNUO657wVO/yLkizema25kji8d7nbG2CAAAAAXEGf1EUVLDv/ABUz\n",
              "FHURhy04oKe+QS8jYvSkar+DEuJIHsugCDrFrPzyp2KiyzoCuYBZc4Ni4rtDCEgaAuIbLxPuDdjz\n",
              "MhDTlLlCUYcnVyz02AXKTpQ4/FrcanJwAAAAegGf83RDfwAds97Y4Rg/4FeOTjNV1E+AFceN0jzH\n",
              "ucayS9UDtzozmsC0OTxQlBrWtIouKIZncMehYD+w0IiuSRnLURQLp+z4az6wxgZjzneEUiEVJ0o3\n",
              "+XV5Q/ySXclhdc2CPGJUBBg5ezUs27tYWFUD4XqFv1MdoqCpAAAAYwGf9WpDfwAc/bEChzJiAls2\n",
              "11JAA7nBMThKRzvWQ7Zk8LvMGpBQVysAJagpSbD49eJRsNjIluK2keZ62J4eG1tQnM6T/vNXjDUO\n",
              "Zy4bVrM7D6bKlQLOS+gkM93oj4o81F2lFAAAAJ9Bm/dJqEFsmUwIf//+qZYAKUxB8ueBiV1I1RTz\n",
              "+pLToIgGWLWuhDrvo2PvWD4406PAJpyxWeQWjU/cBtJlw6Y64AXgAyqqBk7GBUQn0lt6PZFUaG4o\n",
              "gCjd+wICVXTk4SURVtNH3OMeyFRVVZIAIz8lKACxjHgdI6f+QWXUIgPRuocHWqaUHBMgq0qaiSZv\n",
              "MkiUP3w1WQr/dx80lGxDxdsAAAEOQZoYSeEKUmUwIf/+qZYAKVP7qNYAiHUYVAjVCsf6NfW9+OZ5\n",
              "pQ6qnopcqjjio/dFG38MPbCsj1nyQSfxBVp9TATektA/Zz1jbKgdYe7NXoQ69fr6csdMKuWghaRr\n",
              "6n9zXo3xYH7B2uUThA7wPIxpCe3xZPD7qWxqWUUFGGCbLZQtdRnmP3ba/aeSDRvcdCrczKiMGc6F\n",
              "5qY2niMOcPAQGZeQMV5nkLchtiVdBO5s6mIN+1wai+TsKXK1PzO9CxG/rgcZERVW4GUIyKkcZgbC\n",
              "p9dJurIhZLXelJIIHCvwR4D3e//ZJEUfJvVAiGz97g2RsHXiuLeRfueGEfTK+qBFeZMagwwS0AE4\n",
              "8cgilSytAAAA4UGaOUnhDomUwIf//qmWACl7NqzxBtxAT4kvjK1PmnUnoQScQrDR9cfb8TQnsjhw\n",
              "L6ICcsJOI16fV8lOgeDnBx/h8HtuYtnpmSunGTzZRb1rns4IoB4D6xJ6Jkwp5FDPytlGtv4l73q7\n",
              "eZQJQd03r7prSyWTyoZrJPd0UcReXa/jnXK2KAhtnWVqVZsGDc5m8CeqYDjlx7Pka5ZviV8lsrmO\n",
              "Rq/9mRONMrTHzEFwxAybM7DhKf9tKxae8p6NeowE7t5pgbV8UzwSeQsbuBQQaVlU3X+5nOwY+CDb\n",
              "cJEWQ2k9WwAAAKdBmlpJ4Q8mUwIf//6plgAoIqUNAtgAEDO9sZgUH37opY3Q6GdAhv4B8i6J3+kD\n",
              "kKAIKsGfS67gvgktrq62dk00+xlaIMiR+1NMJlT5wOLNT1GpBfl/QF2xbEvMAfa64PM45DEHa3wZ\n",
              "77K1nBwNe2WlriT7V0wZV4uZuuWXbprqI6PLpfXd82xPFhkwu1AP37UkO1nacF3vLuIvuNJ8hCdX\n",
              "XT2tl6vI4QAAANdBmntJ4Q8mUwIf//6plgAoOS0VuW9d1yBWVJ7WRiLPCXWFmVN14ADad4yd9bDa\n",
              "UOFUZQ0l2npFhT3pJKoh/1/vMaTS3Fw2V/Mfxih3FwxScj+Qi2KV0Q8qKVOzaYQO/guIfjcTV2ux\n",
              "v/Cncd5gQ+nWOxTgOJsGYwPoxZuVWWL0zHLv8epQAWmgrfq9krYVCufeMt4/VT1UDPsomGN4zHGJ\n",
              "kLPEbVuXHZKqe2Fl8EZTx+JbBfI3QsbaTV2CxxKfTMxKgLGK42ftClnQJ/1ZdrhXv77CkFvcQAAA\n",
              "ANhBmpxJ4Q8mUwIf//6plgAoQyOaBmVETzXUKgW6pl00y1NM6mUNUwqdiJ7ZwdGUBbzAT8FQGosR\n",
              "RHKC+/PmIm04DWOQWJXeFtSdGZ1tQkOhYPf+z1acO78nJE4EcjqXD8NQOObqIZupRudp5MHshF5F\n",
              "cd1FtzMPysmY0DDRC3PGXNt/TTHrZi5DktrUPtFgQRB9f1yqLGlq/3/IqtK2UuAQZ8xvfbLMVzHt\n",
              "me2j6utkSaHrFLQ9HTgylQ4wO+jdqv6UnvS8pxUn18DM56b+V4xZ4SEr1Iidwt0AAAFWQZq9SeEP\n",
              "JlMCCH/+qlUAClMRMf/EBQP43UlrA3EpwfMbFY21wON2R6XfMYdRZntv5/5E3FAD4JcTPHQkR4Yr\n",
              "HjU562OIKQyavRsfQD8gNGZiVkajreYnYchgHpT7xLarVkxfzkwx/iDSgwb9hyM/ZEymxCw33MsF\n",
              "XyT5IeUq2Zp/ATAkjjiJdD54auvhMY9X7+dZkl3wapZPEfP35cvWOYPPLieBMyLUmfocjcOmSViv\n",
              "UBQ8MFcBedCKRN5qHuBvqi06R0FPVeUq0Rb1GhpkSSk+lw4NzaPle3teiGozoz73Z83SLaqmKSdZ\n",
              "Z2LmSVz+AviWnlINXq6nA4EjCp535+H6yIETwxN0iAX3KC13JkCFhUV8XNJTBMHKxM3DdcE4DS8w\n",
              "DrgA99bFncpFCvzeu8szYhkPYAh701r6r2Xcb18zVR3EElf9Z2pUpwcg0F2yCVR2GGmBAAAAkkGa\n",
              "3knhDyZTAgh//qpVAAoHGM4LlEPeEX7ZCX4vIdWWIJulWeV+YAXPZ/TxN1Zfy5ooVfhK4/tWXo++\n",
              "7ajIdNhggcBEGpqf6L3sF3slPjmsgY7GsRgzi9FHFkHOKJik+G/1x3UxZvY7KxscrvvrMQ7SBYU9\n",
              "Lt6MyK892BA61EwMo/zVIov2+QN220Bw1Vi2dPRwAAAAhEGa/0nhDyZTAgj//rUqgAUFc9/QtVg+\n",
              "Xs3pcbz5eTE8bbq6DrqJQpimaOOAAZ0S7eQZ0CNsNZekiTDw4M0fLSt6qRYbdOgQ60ItnFc+7oTW\n",
              "+KQn7v3kRRw9srMQieVdQGHWvdO6Dk3ehPh3x0BABSJkmMnJoE4T/tM4Z/59l05ZT5fZ8AAAAeZB\n",
              "mwNJ4Q8mUwIIf/6qVQAKFsz5KwlnEAv4paBolvraCDc5aRA5PuFnEQWM4WnvZAU5YMBgtDigqmOx\n",
              "YmlLLNvZYjaC1E7T5f1COON+O9cQJhyaqLJPVIXSjrfff9yts81QBn5u8biDMOFzvB0m+Ul+dR7K\n",
              "8Y1kwpZYd0LpD0B/71xVukEcIfkDPr6oRKRZe3pSKOtSlsYwa2B1FNuuey2guhoU/688/ANpX/pY\n",
              "kWYXhyJhrUL7PJwaZRppLhGoT8ZlVw43edQshwbnVOISFXnWpAb7OK2auVlZCPnNnkbheLfoSVGE\n",
              "utLccSNag3Oc5i8U9hzIcyXrxcv/XZYIXOjusrZrvaDk3aC8TNSLl5NYyqv7hkbywCNLbJYIHJX9\n",
              "n0bZwCOqCyVMzBuGB6rpHIBpcJet3BycSju22dKE5s59BGkxHAeXK42xb6E9bF2ut1+j39ai6tr1\n",
              "BmGOMTZ8vXc+Z8/Yz3s3Kjf+MwhbRiP7QCrLqXOf9eDfUizt1vYMG8Mk6VezUK+WksO2a+gO65HB\n",
              "0z7X2ujrpGBi/aA//Ow6QE9gjia8zk32VLdvjU9UMJpMWKifv9kV/8Kw1Km5yz2TONsSepk+BHSi\n",
              "an4mD+8mn8dnUlaWhtm+8tS4daQZe5mQ8nF/m3EAAAB6QZ8hRRE8O/8AE03xNOqh114jHjq8cuVo\n",
              "O4sv/dBTdQjU70gAibcuCvy8hPusxdd8CjSM3I0qIHRLdw+86RhekuIFHKNes7b1YuGbNLm5ozBa\n",
              "trv54Curh7XPNw3CCckVK6++3C8CYaxnDvADncgfyuKn2rpwPsopRDYAAABLAZ9AdEN/ABuer4Nk\n",
              "ckUOlU3zvg6RrtDuEKX2imnCc6+b/IAP3WqzaSWUmH4ua1RXjJP8o3f1D2DYbFEYV7AU2d5fW86g\n",
              "V9Lhar4LAAAAUwGfQmpDfwAboAZnaIny+qiTSlmThgrbNwgARNx1tDSxCMOCTHjJt/VQjzZ6p8Pd\n",
              "vieEKe6rzztR1O7tgi+yoWhJRjzLeUNgA9F/2tEBqGjbRV0wAAABq0GbRkmoQWiZTAgh//6qVQAK\n",
              "B6zMAbfHdKwPhnRJ5hmc8GYUrNou74LzAUs4+KI85YsYHxQuHcc7cQeE6IOcdpmLYfhH0t+zTESN\n",
              "IGtlw+tLt39UYNR+alLJFcOfvnIAAdd3j1MICmuCIDUB9nIFf7VwzQto/s8O4LXvY5eAzGdF/hmy\n",
              "6UKzfnQDp5yLkQEwTmOMlc7cvDoEOovCffQuHDLAIYlC5nPttO0pxDLGNMnbb+9MkBlcPykdG7QX\n",
              "kfoG3jbIbLnCN9pgnFPOtprC9/66gVfjuMmYvSQEDCR5fYYWeSikHeWEVmgDlAYUzupP5HPIle7V\n",
              "Do6IK14Ci6SEv9R5QgUsmTXp3Jp8GfLA0ov/eMC4FSVRdtKnjRT7yjeLv2pfjYlGc9Wk8FKBkk3O\n",
              "OUeM859t330dH/DEYuHwfdVqRMgdNBfYNH65KITumLC2BhOoLrzZRxAEJfYgUregSQOIGgL+N3vm\n",
              "8guGk0MLM1mWqGfL1K2kZ89O4hu+nzAlIVEIFORNPxvXrMAru+gmdBPCc8GEpU4B+F7bagHDM1iL\n",
              "O/nhLJxMRXb36E0AAABhQZ9kRREsN/8AG5/vyrWNCAI91H6u++53/X7aYATV6xQBEnlf++KJFgv7\n",
              "CNENTSZgf8ZbAZObhYQYibhU2jVCVOlgafhASZSMugy5rzj6KEatJI7Dqlzwjeh3zDQlKfRBPwAA\n",
              "AF8Bn4VqQ38AGvextkSPNu+jxPoC+NB0ASVABUBz7r9Uwrc+SS7+1lHCQPgAHnyn3hg2i6ui3O6E\n",
              "x4BiAF7cm2UL09Dlv4rtHdfcp7ZAEkxlkFjeIr3isVjDv5+gz+IlUwAAAKNBm4dJqEFsmUwIIf/+\n",
              "qlUACYGxdHjTQCFdRiFj9oS8FAcB8LnWDOETReDyoJW860KPrYvB0H0xj+lWQis92u98lD3X6FHj\n",
              "Yjpv4LBqVxpw9ptPm1ljcDyjv1p98vUH4xDwOim5H0jEmll0N5URFcKzjwbb/Ydw0tYYcXyg1Pkn\n",
              "OzBvhM7ifVSByNkdUxoBwBwrXdq9SliFxMRYOSuRXXtr86rpAAABgkGbqknhClJlMCCH//6qVQAJ\n",
              "hIO83hyLDIQAr4R1U/okgMsBL0xfxeWKAnJ6Tw/LrBQUXyQSjwkdvmwsAGakA8/nhFzYVGrf92RD\n",
              "LwEPzT+QzBb8vRbSWe01+YUr1cLuNYgRYAozqCZxq4Tu0U/ndFbHlsn8gaOXY8OQ9pyIl5bv36we\n",
              "Bf+upNXa11fJGtMHc3O03cLvSgHGr/BSDS/uQH6Yq3tS1h/njM5bgNcP8fPlPXLuMQCswcXv/W/h\n",
              "ExEgTJKDV871LmytULpD8ewqUBLGQMILlhCkTXRlPOT8JHJucR9DsS9NnN36EfFOBpvWOJUEXvTL\n",
              "q304T4sI73wgzzeJ56DeeI0kcf3LpCtkLx2D//60RIiq2Cp/d3tOybzMFErLA2jfKp2RiQUzCXXJ\n",
              "sGvEin3wZkISoeDBhrwzUXmQMoUzZKU14lHe+cpT1jmU6kHgBXCIhV6h41Q7N79u2UBzvd0Sm2Yd\n",
              "jRrMoCymhP/P6wsVd7pYgdh2NceEflk+3MPcAAAAW0GfyEU0TDf/ABpZuVux5r+HmJh0MX01fv+b\n",
              "E7MkKTAKZq437tdI8ARfvW8pwT+fc5bRwJKyhykjiWbG10hMNpTky+o903P9+bUVh/Gpn4JGnUdx\n",
              "QwN0Vwvta6kAAABTAZ/pakN/ABpe0NWBP+7wGUykPX6uKwmvi+gKaQEbJPhIASuQibR00eipPCdP\n",
              "VrQCXFPtskp2kKfcpEUY6FrvgFSJTXFYXXrRmlzhkXuAKHhlrYEAAAEWQZvrSahBaJlMCCP//rUq\n",
              "gATHfwV/xvegAlU13NKoKVpdBI3j7a3sYRXyXcstm9vUAI2JxMaJPubVFRvzppcPVQXuoIZlEHvo\n",
              "2rkRNZajzmpb8J9Bet4igz6sqsWbtEXXXlWGdipEr3/ZcfgEMy9FZmGu+aNre1Dczy0YWydpo0sv\n",
              "tYHTI/GEIZtz7CqVoEJkyUBnO2n75OdKQk6HiUspEcLCPCmpjdqDMIM0z3ci0OIHZLCOzkjW7JRX\n",
              "Y54L3St4ExhOu6hYKk39Y9omNbqxz2jQwkORyXmXJ4DvFaZTWX6DercNVJZoeQQ+4ZmIVTr8RUfG\n",
              "kXMTZYl3mwHRj1In7skLm+ErbzFg1ILsSAE5mtv330A1tVAAAAD0QZoNSeEKUmUwURLBH/61KoAE\n",
              "oOafFFHM3JPusBGin44Ncbm3ABHv0yOd+jPNTxPheNnkBw8egQzDCpyd0+EGfbJIoq57DEux84d5\n",
              "DvqEhe1RtB+eVQEp5jskdnKfzHRyVa5Whg/wE+pPlIuHYb+WSkayG+VPN5+Xnq9q14daNBkjCxIb\n",
              "UekUv8HlN5la6lwrtU5ykB6GjURZUgw2w3UBP4/JYYyv8M4d3GVfAl0aAnStfQ9vhJZHbrDl9Jin\n",
              "m1aFahojiIl9w9PVGrQW7y5UYeJ8tIU3WWJdJgh9924VpQvHsQ6QVG14cvHFpwq5ice8ZvyRYAAA\n",
              "AGMBnixqQ38AGcJgCKFhNoRFes3rpDk16JWAIkhmCZTyogAbiwB+bn0GdxLQAfjc2CsBlt5ctaL9\n",
              "D8P82qbVaWP1eYyH0Y3AXRh592wR2KNuhA/gIbD57ywvcL+MqFsHQWNHsQsAAAFCQZowSeEOiZTA\n",
              "gj/+tSqABKfv1VHy48t4nfF4FrDVUVc6DSk+8CQqkG7+BeZaT3lAXUICpLO6laJAEwv9pJ0BQzfq\n",
              "LUAK7f5hrw/a6jj4soww/yZibf10N1+ZxlbM4liP1pKDeD3zeZp6kNlDSFTii/4ohsozGQ6cP94f\n",
              "+rqqDcinRgUglr1ANPnNZb89Tr4TH3ngdx4GW3lv/adWnQwe+I+0AF5J9IJcK4EQQed5LdLy/p00\n",
              "iFSHlPyxIo1//Hv5v8Ts6LlaawGke0pUs8A+xzhckYziJxcmmn9fpx6fx0xrwWzx1YA+9jHiC7Tr\n",
              "m65ufghQUf8a2TlGCnyc3HWKBFtihN0GsQkf+wAV3+OEFmuCTz/mgYM9fxpQsVPZ1uGfeaJKYv8w\n",
              "b6FP6JIxd3z2f8YVqD4SSp5WznglMicwMMpGYQAAAHNBnk5FFTw3/wAZwl4Mh0ZXEVDTmQ7R2cAL\n",
              "mA2QLtEoHl4RtUwzNCER6UV5aRqiH7chhhkuCjreYAWtgEE4+3g4CPwbMweAcJNsUvKv7oUhqSyy\n",
              "tfk3Z+KTR55sVlGBAUafOYOdEx7Yq7/mtJ4aShWlUwrZAAAAfwGeb2pDfwAZvsy5ZSkw6nCbPDv1\n",
              "qpFhN86wWshMoALdK/HAWIXeGOSUEHwACWwlyPhq8sss3kLvchjYwb8X1JXl2E9b4soJGFOKoMpn\n",
              "yKUzlEfzZFi5zsrfp+Cf2Qg1FdtBpVnq3ji+wGgPjXqJl3wlpASixSL8oZ/wY5JSAgMAAAHhQZp0\n",
              "SahBaJlMCCP//rUqgASH79VSUS/LeJ3xeBaw1VFXOg0pPu+bENZhOEsT8fJEF6fvmuGGAWpJYuKd\n",
              "/bq9MMhZUt0kJ4i22kkjfEBZ6LfeURh40eMjKxNChZFry0/UiYHrS/7xJu4ayn3JR85DLf/BclF0\n",
              "6l94wBO1FLCrFChLq6K2BlX/lNiQVzAG90OpsiFPo13NbG91onPdRy5Poq8X1uHPlnUUxf0Sg7zU\n",
              "aW/atekDHDzjKhQor68/ui72dlUCINCZKDqSMegNIztrZ8OO3mHpNhoC++DI9UkXWlKSN0ecYh+r\n",
              "e7TFUAp1y31tI+Y8goCpgjICxFYch5LsxTKoxxZ/ejTzpWQXYjFqs2DmgaVbInt92texi5MGT7WR\n",
              "JxjQiDYxpWUQNydYGr3jTaGdJ33x/nSyxysEp4jpVCqMQmOfs4UGTTjjJhbCzSqFojtXyEWXxndL\n",
              "z9kFBe1e9M+VbHXw30hORWdkxU7kqy/Zy2Z61k5qGwzd141h82ZwFwTQPui0lFy5iaT90QimKDhw\n",
              "SBRSGybvNc3Ln7Fhs94l6ZlfUr/Bt94/PT341T/6vk0NmaSTImbNJEUEmqzdA0aO5lffeFC2B27P\n",
              "sGpw3byZmzoOK8i73PpBlY8x88VFQAAAAGJBnpJFESw7/wARhnaUdBRdF0kLs+c/WtADlE2hhPAN\n",
              "PdsaJyANIytkCptcuk64AEJMYAGxFRKKvJ/1g4SknAvdE6ae4VJSd5B+ki83Xy2eRze4dgEq4mIY\n",
              "xYo6LLHQqgd29QAAAGkBnrF0Q38AGSMiBULCbQiK9ZvXSHRhmwZEpI/ZeQp6AwwaFN7gBvb7ceqX\n",
              "sBDtny75N+wYkz63OMbcebWz/ew8IIS3XoL/Ob8+QaOaJny554kbTCXnwJ+H+rkVBayLLExO2uan\n",
              "+SibzzAAAABwAZ6zakN/ABklAvaTTRogfKdo1oEAdvHgDfOKODfJR8ALX6NuCJEojjWf8TWBXuks\n",
              "XSfe4cU8uRTynMZVssTB7griDhJz2ddAwEBKxjOG51HRxiHLqAQkuPjyigWadFEVk45FFbKtd36C\n",
              "Sf0/cDds+AAAAW9BmrhJqEFsmUwII//+tSqABGETLSVi4oMJPusBGin44Ncb86lDe13QBSEkwuoH\n",
              "Ec8EdakH16ixbP1YY9jiXOg2Ta/9EslpQirJGevo27OdZtDihsA3W1M++ktNIaGVT7PsJ3UVTHJy\n",
              "p0nPwwJu61PMTsHpkqmaGhrKqyvU0vjvYkr091iOD8VJpPb7dc24gxN+palVsFL457XdmLNBaoSi\n",
              "bBeh+MNpt9LQBi1vE6iuL2OKJ2YTUs63b2HoBuc/1v+97PgOsB1Q7YpM/VR7UoXTLLiXWHchVHum\n",
              "pFk9PI53ICyH7eFzzhCLt3e6amw2alE5agDLmCSUWCK5caueGHgbccqll2I26yQpTK/1+LTsXf24\n",
              "c2ih/0snXp2BEcVDXTQ9Hdlz1d0ZjcjfNXlW6BRPv9o1WidUfyxh+Z8K7rYYmuUvOh/QddWhwl9k\n",
              "XZOUX/jlksW+0X+kMs0epSGCDTC+C8IzZ1ANfjXcrGkvoSGBAAAAVUGe1kUVLDv/ABEBJVyT01rV\n",
              "+wrLB1Vg7TXqb99g0MrgADjfDPLT/o065mGEqdYFKzSf/xWAECEJtuwh4eVr/b0hqfT4fGjTQVbc\n",
              "xysr/ezKMwriK+AAAAB2AZ71dEN/ABiBFotA8TezJYxPZl5C0dLXXm1pADWoL1ZvuNvQ7lu+6mRb\n",
              "K/Y5y55e61x0ntBQSQKq9SHhx0agolRLiS0b+9wA+CLHbDKmk1an62EzzxWmYrwJenodkLoFN6iE\n",
              "4Xsu0tL+mIkT44TjROk554ptfQAAAFkBnvdqQ38AGH7MvgT+1DEiK1OO5KSZFy1N4uAHDSHnZtjN\n",
              "TAsIft75Osyetv/9wsLWJmVLXUuA1mWF47I9SRi750BYzR4QAaj+l4U+qQzQXjjyaHeAhSdA0QAA\n",
              "AYZBmvxJqEFsmUwII//+tSqABGfv1M6LSsXfR5NHgWsNVRVzoNKT7vqxD57MAH5xUmEPN9YkVm3e\n",
              "CPd0tILt53RRh4vDAo+6FQVz/6h+FNlWPN5fuiNf3jsrFgWWPnCdgyd1B4O1tPHtOUX1f7diBSEe\n",
              "hGGKm+0zxenbe4/I4qRY+4wcg3Gd0QQTLzXPEUx1r8nh5rt4C7FuZhL/RystlGgnE0TSO67CTTVn\n",
              "kLqsd61JoRTJM8G4IVNDZ4nGwd7NU1u074ipP7Hps7+HeCMi6bz+Mng3VMf/ElxJezjq8fbxcfTK\n",
              "aGJbUcdEHEj+1i6WIaUFJYqFUk+CUu7l11JgQ83i28p+A/oAJuenObsqrgiCkCWFp5vQNaGjA0Fe\n",
              "LZ18KAV8FoiMOOJaUH2lBYo4sIRcePaPcDIYZt7XcHhKzAOnFu9Ms/D6piTTOdutA/MNuaKW6Tp+\n",
              "A5JtxHJ6Uw+9Qt1SP0KfROA/zAN+EKALTkbs6nY1pPGy6XptME/r1a7dd7kaD9Ewu4EAAAB1QZ8a\n",
              "RRUsO/8AEQcklxVy7gxZvq8MYoNi9KPycRMY3wgviH+lxp+QAON7+Kj6q3Cf85+6sl9JKJ8w0xZk\n",
              "7D3cB2VoP8LXwF9lssAi8qTeq7Fc0FT1CCAQ/zVPy3QbAyyoY2n8u4DQXMd9WvEW5Gnmg3BaCjYV\n",
              "AAAAUQGfOXRDfwAYfqwf9piEXBL+SiKwq2f0in03xPIA6Knd4iC0CAIxQGxLjG/a6fcG8aEbeuNH\n",
              "KPZjvqON6bGG/MyLATbHr/eNfrphc4I7DPs6bgAAAEEBnztqQ38AF9excMYTCm/Yb5aacXQGGF/z\n",
              "UWoSSHukRwOwAlwV6dzHg2brf2OqTXH1d/FjOoUWJhbQunMMdhRtHwAAAXpBmyBJqEFsmUwIIf/+\n",
              "qlUACI/U73R7TOjpqifd6hFFY+TOgyqKEw6NH63FcagBjYsFP7yRlnarC5LeXVwL84E5agw219fv\n",
              "jP6YUVWeiu6JoTlif20JjzXH9fOVrE2Q4CpYVm9MD+pbIIs+7NccVdXZ3LFqWuTE7AvN3uPX8A3C\n",
              "UeSI3p1To9A4RKOpVVUDzJgxLqtO/+ZaLOL9Dt1aJ0jcsXBPpBxFDP4fbUD8BMYYRpqr9cSxSbz/\n",
              "0DWiDRQ5SrG0LZrvkk5scy53L4Df7lhCCGtkY1nV279pQMAwq+cXT7dpN1gKA2zp8yRuAfNc0/QM\n",
              "bWQGzQydspRkmvTWgVemHckAHiD/BhWNfzw0WoBz/wN4/DVpivS9iI6eB/xvyf0HBI2LeGLqtyFQ\n",
              "WRAbRfS3mZWn85u2aAAiqpc0d0OawLZHQcZlbUwADyXg6LqbaldhKUIpzcbCURypsNo+tXwFzKhX\n",
              "C+zKOooku0RbFVY2Bcortc+2xzDZh4EAAABqQZ9eRRUsO/8AEIclaCxBvmbLd1DAJMHA5ol9Lc8t\n",
              "FejKt6m2yeO8DyhACY3YNiA/D/UU9cM6170186qOV92RUKC8em5lJqlVVa8hZdkIxQDcZkYc0YNe\n",
              "iZi4JysD1eiW0TflWeqki5+jPgAAAF0Bn310Q38AF96rhoCctm06QY682gMRE5cQy94SQrdc/bPy\n",
              "UAQXksoC5kaRwx0GVO3TVYZVw/7i2SkVyaZf80RlsNz14GWm/FL5DzOdJW+2LtEgr5dIk56W9z0I\n",
              "aMAAAABVAZ9/akN/ABdBaImUni2FBD2vpHA3cuUpWaddha0AH5cDbjy/iqmccwILa51WnqknkBjT\n",
              "s8XqWW0EaIlHa/p2HcQwpb+lX7qLm1biggcooe/kCE4ezQAAAaRBm2NJqEFsmUwIf//+qZYAID9Y\n",
              "ppPCyWYx/g2VXxqusPYkeOYmtBlfBlLvuDZIKVKQxsVm5OAdH3G3IMGGbtTN5/CDqacHrRu/VUU1\n",
              "gqg9HoByV3FgYrskGQEh04tBhO2R/5OIF12Q4IjVzn/0YS3pX88CK3+8CZu/1MP+rzzV+SrBfWqL\n",
              "hu2wDefBRqKggry4qzTgXkf9MnI5m/c59RtSFtMnj0vceu3dNUlELAppNosl/1L9o54BRuvRcUUC\n",
              "Eel78JalVuUqWSvMSwTZcuvxjkmDANqG76oH5/9cuxWZ4SFx574ujWCCXZkkaZ1NSwQBCsZeLnrf\n",
              "jkcR4tOvKEUMMPjZIT81F2I58be8DT9Ome/Fjd33LDKMHKnqMej30E/k/NFbQoNFaBVO7Zj5PgS0\n",
              "L3289tokQO4AfT7Lh15rs58/bpFPAAztPbWJFXalW+sszHhD0kiTGtuvc32WUo03VB++W3Y3xmzj\n",
              "i40affIjWZLizI3O1FgCfODFP7hQnIa6HYQ/rNlxXLsDdtaZeYx+lsNF8YqFTCLCXQGRE3z8vwKO\n",
              "YnwAAABmQZ+BRRUsN/8AF0lVIO8M73h0YV2eCvrVQByzXUFccgP1/iXGLTtbTagATkRBKVjlea0/\n",
              "KAMlaqqMNCSojq1f4TMIv/4NP/tMwqPbUE5fPJvX7HoPDZy7U2qihp6b4lHD8sg40LaBAAAAWgGf\n",
              "ompDfwAXROh5nmNBv8iB5BecrkK7ODQap5CH6ZcDOAI3kAWCPavgL/9v85th8/vpyGNZYmygsnI6\n",
              "wQpnxD2/2sp2Vm9tsnC770VCs0X6z8Z5nmq6KxcDggAAAN9Bm6RJqEFsmUwIIf/+qlUACAGxdHjT\n",
              "QCFdRiFj9oS7HI9RVO7aHcBAIAc0rJIs7mdhhHPaNT3NSnU+HMQ4ohYoCRNnvGENpsBYrqZd/cYU\n",
              "TT3HmxFNTJL31Ua6uf+aYE7Dgxx5QzDzMFkpWYM0MrK4Juzy9dhm+LCQxFIzWv60TP/agewXCrxD\n",
              "1oBnq6y5+8EBtyx+SUVJGEdMJH2VaPNPxILbfUm6kxN91iwPze2IUSmEP1AlJIrP9Id3w0wuIvaL\n",
              "GbzgY0MQ2OgdnTew9BukC/lVpD0FA3DsY701aflhAAAAuEGbxUnhClJlMCCH//6qVQAIAbB4eNNA\n",
              "IV1GIWP2hLsaEcQ+fLVhkAmImUZ9OKmTY1lkonLmV5SM1PYf4qhLDq7NIe6wiLe/xRalzAvogoeY\n",
              "hsz0xXW/PneUCWsnvXZVa5+hZ+QJswCOWFldzovh+eCjReWA/4XhF2v4cd6cmND6khDQD31eAXxV\n",
              "QLdfEimqxWEz6rOno73fD+OkUgEpylFE8Fh0TqtYYRtEZK5jCm5l6IAbogU4I8EAAADnQZvmSeEO\n",
              "iZTAgh/+qlUACA/VAhKV7VBOY8z0kQlldxAMIcow1/ctHBf0Feg5YYLCHEs++LHrJaC8iW9i3nwX\n",
              "ED9NhAJztGTZArmdtQlz0YbEqzI7+nAq1REMfHXjbJdSkZ2c+8rOWBxNldObBSeSTAD9NC0QT9vX\n",
              "PMs87hUqrWm2G0RN0Kly3WmLJTOhc6gQBnRTmLuedvjC9QJLotzKsIVpIzfCbT01f8Q40lgq05me\n",
              "uLeANfbb3o0a5oVQSJeWWoRsfO13Qc7f9OEFvnP6TzbPLV+TtWcMkL6kQU5ey3Eqt7t2hnBZAAAA\n",
              "/UGaCUnhDyZTAgh//qpVAAfMv69aivqUOrVP/r9oS8Cxc7UUY3DmYyAlZuIccMFXy/+Q9lzRwwTH\n",
              "GIZM1Ok+TxFAVtMqz4QxZaffmDLBaS+1o+uuG0UAv2Mg2Znis+BimFZ/9yYipvkj/NNBjs5i4jkc\n",
              "+ubfnpWCvyBtZ3uadjKYQmAykH6irtxyNPrm56C3WcWlTnM47192x3yZdUDm34Ktt+yC4ZVkAz/N\n",
              "O00YPzHzE1UWo1g0eSI0sH0aQHdXGUvaF5bysaJLSnZpPkZb+s253OAf/W8of3BTPtXEUyWD81PH\n",
              "hhCLtN6GPnJHoGaNfDv5Dxp3NoKM/6YuXJEAAABOQZ4nRRE8N/8AFicwgph3sKRFes3rpD/O1bMh\n",
              "iD1nmInfdgAXQgfTNdnvZvdvoadpSzP7Bh+13FqGAiFpkkkVoXVK9DZZ+8P0T/k6mIeAAAAAWgGe\n",
              "SGpDfwAWI93/TSJ3nZEVqcdyOR/6tHPxXZf22AAnGMsHHpVQkLENgSmoUgnaN5yGmAKS6DedDs4a\n",
              "aoDCb5CirpLhWtjQNimkgAoEeAyP8FfaMWcYq1EcWAAAAWBBmktJqEFomUwU8EP//qpVAAfX45cJ\n",
              "3o+KV7+rvUIorHyZ5WM91J249/BJOkKd8+Bq/KKPUA1jxk31dY3m7VzspIAqjNaAKLDWyP+8eI4o\n",
              "T84w1EXKFTv/N/dNu1T5Z68orTC3ND4ZPSeQVhB87Wp+zYc29usXd3MD07B0JJaWYMUqQp4c+and\n",
              "M7q+1wrHqMR72OAjGgCXK/sphWy98xwJCxgAj0DaUAjwEVrO0vaY7uC0Q3E04ohVBIU0kqapqfdU\n",
              "qgyw7sdC4fHHvkgeet0KEhuWbkrAyePsQ1nthalPXSPV//uv+sXh2dP5a7rq6LzI+BT/mCK9gnpT\n",
              "PML19wsaJulLToC6Qd9MZ++ZDxIRnZg9vvhqJAwTKiqkhaqrnI2IBrpujVzXjxD01VIFGc1/cQK9\n",
              "CbNq891wlGMw/MN8SI82KDexnJaaNUGhe+LmS9ZbzbYFaQT5N8GhibtlbGWVAAAAfQGeampDfwAW\n",
              "I84q8Akw6nCbPDv1qpFhN86wXzkWdPbfOOwAmYmFWvLJ0mMU/mHv5wID1TemSLPMOBrLKV2A2iuc\n",
              "Ivgm3xEC1CaA0PQxjkH4JHxXgd9S1wlDeNLQ8I07FaNk6reK/gKTpRETb7s9ogFOVKxdEpGiEg6X\n",
              "MtdMAAAA+EGabUnhClJlMFLBH/61KoAD0OGSrvPK4bqibYBVq4LkZzHB/H+B+dA1EGRGgCPhfMj0\n",
              "uvc8ge79RzVGhuiBJIy+gKCLMdI+TJqNW2TubgTU0gQRkbamDAS9qoHdK+/zV836ecm2u3Kzq7Td\n",
              "9xThR4SWxloMXXvvUIzZbi42yVYTclZ+dByy6nAxtcpyXb5xwEKCX/fFhFN7pbf+AjbK04zgcoeT\n",
              "REd9dDbwtsvH0//qOFCrnnTHFc9dn7S0/ivmUSB1G+b3ncOwzykhMuIAOZIb/xBw8C6rBd4McJmK\n",
              "rWaxCc5mWeRq1QMV/htkdI34YJ+wa7We9A5AAAAAdQGejGpDfwAVlzO8mHewpEV6zeukQO7VPsPx\n",
              "T9jldkALYARXvhFHnLwrGImZx5b/uELjHENBGFOa0NMX6vHCPeXXravMfKMVH+pl8f+K3b1P36TN\n",
              "r8AfO+uZwSVAlJJrKrDsr15nDACfcegokUJCQO3fjYTUwQAAAYJBmo9J4Q6JlMFEwR/+tSqAA9Dh\n",
              "Zk69FyoHD5QLdGnJLQcD0ApN6Z52NthpgssFnSG7ClDW7gKk2DK26JcFwBf03n5Mvht56Hxbj9Wx\n",
              "cq3+11sMrpTbxmkbLhnEWGnXVPkWlB49oW89DV5EOjB/3WJZzIB4e1RkN3Ai2+O2P+R+2euusE45\n",
              "O2Fb9PVvSxSqq1/IxgzwQs4fcD6q5TAm0f6mNZYW6HfGHgYg1PrugIfqq0y3knZ93WIBrHaW2j06\n",
              "Rg8xeqDCjV3SV1edK/G9PEEwwr56uOE1RfTKhIot8fFjSF+6MCRqmsLOCJ22grlc3FxiVcMtmGfH\n",
              "qqhskt9ldZJkpj5o1Z30rGwOUd9BJ0pUCq4HXo1aOCKWhSLvm1Xbaip0ltGcwg762JXZ7bTaIerT\n",
              "Nv6SMGJo/kXBkNRDaNZrLdKFrncq+cozqt4dZyen4LY/aP05dKDuv4QW8FMYhE4t3xi5elkO8/LM\n",
              "pu2nAGAvyXUlBglwrWlayDYDQbDFUQ2IeQAAAFkBnq5qQ38AFZlVQBpo3EPmjw+4SntZPDKAFlK3\n",
              "6z9jXU2tVKzOUz1Tiqw/JSVwx62xkhdNJvERb37hlCDG+Anw+lYMAuL3oyWYikLEL1Vbt9EVRg2e\n",
              "5WfF6QAAAgBBmrNJ4Q8mUwII//61KoAD1fPz8ZawsXfR5NHgWsNVRVuy+vrq3Wf8ApH26U981Zsq\n",
              "3bce3A6BeFNKKR8DY+OiqHifeHHpeaokQo/KpKqq9y9co60Ca3rFNhx/DKJBEOAsa8X1PqiGiyYG\n",
              "gCPniRSBNCfNxKjTf0ZM1tRL9Xedn3jy0FV+stOjw6wi5RiZoQbXVI3Y4U4s3zZJihb1l4IFYJiU\n",
              "4HQnd/LJCw0fLg4U3SXP9yOhhXtm4JOrOs+z8gzqZwNXqAIplK9du0y5/qYQ2tGz1rPGKL8Q5CH/\n",
              "w4fYAdxxWVFZgawMHSZ6Mv462HtUgKgjStraEc2NgWyDA3lUfVcFEWzRiQkjU5t+J5UUUBqN/2OB\n",
              "3VWJ7AYogjVXuO6RdoBSl7Fb57tQVwgMiuKY+IXa4KBclRc+vss27Udbh8sEkd4TMVYtTWK6roBw\n",
              "uhyioRoTK9CVzouNCwsv7iF/Pg8MnufGe0DGSQTCF73m2g6pRWDL+N/sDVWNmw8VEZdWqWgUUrj4\n",
              "/oXgkORoG+nz5yLkWSTZxCnEHvTeFgO+xasFO3ROhwgWLFAKGunJJE59FnWdAXLOCGgebzxJBqX2\n",
              "e89C2pgvVytWPgpRQyw+VrLn7pEtj2KFBEOtGT7RyBVx8LpYDLUc2eIagW/wT+wwHIEcC7MYnnOD\n",
              "Tylf63gUEAAAAHNBntFFETw7/wAO7oFn3UHBoqxVrM3RhraeaQEqADRajrdWgNKKoJXpGKM7q+Vg\n",
              "2JJjOR4TTE9km94E21jGtyguIJ8uxJEeNjgCdG3ZbwegBMAgMHkYLk96jeNv1xQmy9N5qbitE8rb\n",
              "nhtgkbg+tB90KO6AAAAAVwGe8HRDfwAVk7s+GGXX3iO10pnZdAZGFVVCENrAAC6Ti9qwGA0YXoJc\n",
              "fXH3bLt0p0Myu0xczkmPKXWE48slY35z0zVjbdthtIB7HWJaUGk/nuXfVi3DwQAAAEcBnvJqQ38A\n",
              "FP0x+8YTCm/Yb6PXsW+N/Sr9yl5ggALEjya1vMHyOVF+R23xZFzEl1vypkB2XtL7o5uKusGTT/Zo\n",
              "9R12t8bBFwAAAT9BmvVJqEFomUwU8Ef//rUqgAO/8/Q2USFiqPJo8C1hqqKt+yVEFgIRUdaXncLS\n",
              "0KwJ1YL7p+k/voPtlmoXniYeKae4Kpk01RtqECE8/8z7/C0mWvz9jrHFjPHxYDXifyI1wQC/w2+9\n",
              "dGzp9WcjASUR9TYVcX7ionJrbkMdqe3F0llw9wAcPuQNAzwJkg4Bb6T65HS03KpWVVA37WHtmBWe\n",
              "hyOnUw/gjPmiKHsrLAhqYqcmP/wGireFfkKwXf/4k9N5wlRsqzxbMLa4btjUkHCZgwYYFjiKaCaL\n",
              "l7hBRUxDFsX/R9b7Pgzq5BN7GuflQOqFZj8aXUwF6++MVdU9KUkIUxBJdaSA19Gor7l8IUMrE5oE\n",
              "nkL9wwb4QytpqxWeqyaRZx2dzA1vzKq7PsBXWDqWpzi6Xv0hnEDJiKK90O2YAAAASgGfFGpDfwAV\n",
              "BOh5nmNBv8iB5BecroBuaIhr48g83KDQtBldy3eDgBDy3bHNWAzwEium5UpAiZqW2ZkCV8eaCaWt\n",
              "gKuOIkjj4WRdAAABxEGbGUnhClJlMCCP//61KoADqfP0NuakWKo8mjwLWGqoq1ZByuQuwAYOPHqa\n",
              "EdEkJuw8hagcYwp2lAVPU11xlYOw/a3vstqilDqIpkeIKoQBQFS1Irt5VA+viGVoGrcQrXRZycXX\n",
              "XEIVE3KG8lql5n6i4bZc0UYlVUMLyTl1/nEwvFYoy2f7V+bNcovNLFnK6kvufof68AoLTdImcr9T\n",
              "CKmlUAvSv5hUP+MBgQKpX9VFv1x4ss2hBhcXTK7x8K9ijB+tcncAWBuGxzRcHLbYttaBJMqgM9/Q\n",
              "uZ214csqBMSS27KmMl/u2Wj4D4KJviPbU33x/CaL9jNNPFuBuQqIlqmZ4m0I2HdeejeLQ46MhalN\n",
              "lxmUt4kj38tIZv2/LoopSy+wmnWFOvqbHEh0o/9UPC0tdoXB7z62WkCWTnvEmvlB/juVR/QCbi0x\n",
              "2J2X6r6aETfxFNUKCQrUngXTdutjFgDblwg+xfolRZy+5aj3VDfF+Z3Kh4KPQtLm7XBaPxNI9e+Q\n",
              "IIHy9N7H53LV5GWrci4+/OWHwjo6x5MBBakWnmrOFKqhL7Y1/3mDwTEmoWb2IKu98kNXJCuSlYCq\n",
              "jNb7gVqqU+aQAAAAaUGfN0U0TDv/AA497FZA2Xaf7ueVUcOa92XAMo3NnVnBYAG0oRGD3hDV4O1J\n",
              "XPcG33NIP8wAMqwEFBhTmY7vtNB9tEzDuY8djjOSk1yLiUjBdsGq9Xrq2qKx3THVQfk3CTcHUbp0\n",
              "x9yPpQAAAEEBn1Z0Q38AFDHbhtgUzvz9PGJhKGw3cAE5If/dEYzjdkoqTsL3kqMlJ63myFThI68J\n",
              "y4r3o/LDQQKPA64slhFoeQAAAFcBn1hqQ38AFHPOKvAJMOpwmzw79aqRYTemnVZ8AJi45S1Tg5f0\n",
              "QJSzx8x/5q7PV0dLxCOyzOadTadUvWi7IVxvjYXdqAOWn0Bf7XpMYGDa6RE9jc7qfoQAAAHBQZtd\n",
              "SahBaJlMCCP//rUqgAOT8/iegq3D5C1AFg5Bhc2HUhIjuxbrGSswOYZfS/fYKy3O8OZGyYmhsONI\n",
              "W2aFdPvX3GdeKH80ijUGWoQGzgaPv4XAMxnUXqGxvbWizW3M8eY+n4eJmIh9QuyZ3FwgWV3LnHW0\n",
              "wE0QmMEqQ5eRvaARFUhUQVtVFnB7M+nCIGiXN246RylcN7K2mgfZl7yIyk0wI3N/cevsmCYehN7U\n",
              "Oe1oFIN0HTdRSSBMfdHsi8xIB987qkkFQhOAuDTMnb32IgsANWU1Uv6SihrL5QxajE21VJS2rgHB\n",
              "A+3lFFhC5m786FbJPV1uUzLiObVO5n3nqRjw2/IY6w6baXhWvWEHKbocI9LJzSYfcf4gsvSwTM2K\n",
              "7VdUeOlLKRoFf+Sb6+IOC6kVji+r6Y2Qv7KFNzrHPofXC9QCpmcM/0FyR64uyQArg939X28CiBuC\n",
              "faxKN7eg+OdDGpV2xTzxwQqxUzamSPuSh8ntSUL9eC0Ay4uDn04U9TZepzF+dHYgWMgPb5BzCipd\n",
              "gLznedRSpNTI/ZySS66AvuC6VkrESZ9/m04EqYMhGs4EOrTW9po7TSdGqQ6lgt0AAABRQZ97RREs\n",
              "O/8ADeL5zbXpM0USPK8FcgT8V+uPFKZsYOnBXP69JLnjUKytT9ylLgUiGLPchPvVKdEaRv3K6eg4\n",
              "8Nsgwppl3fbQ1xPQQEKaZSFgAAAAeAGfmnRDfwAT5fpL/TSJ3nZEVHtJ772OrAC4+jbge2JyL1M/\n",
              "l5wmDUZIEWqJ0OPbe5vk9izMFx0cR35izQavEID4CXvLLiCah3ARgwCzZ21IQEZFyH6eLOCuQPKK\n",
              "3x+D5+2SgLyD0zOsxBesmSmQF0uvd9//M7/YEQAAAHABn5xqQ38AE+POL00hO/c6qgYfiY0RyBvE\n",
              "VEAJxjJ6aMsmcEQn8KsIPBUKmWpwwXhmw88OZwiGUdGuSIX7U/mQxQ3CEwkdxA/CtlW50iThg44r\n",
              "DCAVQjjhulpBHgEKijPylqB2iRZ9LUqyZr8eHJAhAAABuEGbgUmoQWyZTAgj//61KoADfOObheec\n",
              "+Wul2c3zocCDqQ1RxavAB/CH1nJGtFs+GkjLxhFxqw5uJyTK+uIXLhXYbCCqCzYC932LKoAdj5ek\n",
              "9rZTAO0rpGYXpPOHXQXFdYvONsn9SZq9jntIqKecl3QiFeGY8aMvxbh+pRlMdlpEY0c3sA6Mv/29\n",
              "KNTeZQ3CIQCI1/7XkVjpNfU42wqvte82b7WhC4xPfKOJmk6GkoN0qsmUbOucl9wCBY+Ab2hElUMG\n",
              "VklVpwkBn07Tlj+zXdNZtDRu8inyBzFUCre6UuDklADS4zf9UOHSUjIJn1Hz+cuNnISqRi/SrsBr\n",
              "jEfhY7ejNsGp4evU5kQGRApXg2xM+D7VwbP6m86wyvpvuTp76Oe59Dx0CGIeG0NwDuOfvJhYwvao\n",
              "JHBFQt195bFEsDdy29k5VhI6y9Hc9UKbF5iGhbRsml+X4YXLbrLnTdQyD1h/lcCy9Xm69HO3QOnu\n",
              "vv8uRxSK6qb3c5ULrWFFPNRwb/KycjFrl6rn1wuvK5EH+waVyZ1NhV8KWsvb7M6LFXVGoaA+A1kd\n",
              "YInx/AYvUBJ6h1Ta3wlZet/gAAAAYkGfv0UVLDv/AA2T+znw+DkrlK8soj6nsQAC5Avg3Tbp3dlP\n",
              "8kqkEya7NxU/wtuejHfJjSjeQto8dzKO/XYY5iT/TxtdzqzI0zsiq39umpm9oiEo+0nKqp9B2wXn\n",
              "Yq2FeLKAAAAAYwGf3nRDfwATWwel0O9hSaORSY/UUTQYz4AV/XoqB72DyrIPqoe+NgnGxF14W3sP\n",
              "F0bV4EASQxJ5TJ2PesNazhhxuaXs75H/VAuctuyJz/IyxK2xU7e/UAOx7PEyyFDUI1wB/wAAAEoB\n",
              "n8BqQ38AE1xnqJPphNoTRoa5SrrgcRd0baIEAHgsRnY90ADBPIAVffA6sT9SCIgvZOSVoLgyGGKr\n",
              "oYxlMUeFZK4DqC5pTF7JBwAAAUhBm8VJqEFsmUwIIf/+qlUABvvjm8Qqa4jkw8MdGCL99MbAAEn0\n",
              "qQwcLfW7n1PqlhAp+YbFjGVYL5eazM6uJieeCdg4qUmgczDMwj6G21ceYNqoBqLgRidHf2fnIeXL\n",
              "DXvQD9Kj3zqf+HhLvt87x3rvErB+K3hu05zXorp628FpM3X6ASk+LMjlAc50pZJVCE7dR9We7qdB\n",
              "7syXrT3a9PisUZibWKcRVcDLc4JoKesVSzwwmmDSVuFcE0UBwu/ql//IJzf9QDVsmre4FAvNLHBv\n",
              "8Eaz4krKElQeZTvm9J3yJp7lpcLIKXQGREzloOyf4lRZkiAeVN8pFbhW0h/ZKPL4oMg2sCYaEDE/\n",
              "tPJEUt5chmAbqO5+vhoi99oQ/KU790K71LNOOmRHovDRonXGyJ5G0uowpf9iGTT1iFM2jFRpGBiO\n",
              "tHKqcqkrAAAAckGf40UVLDv/AA2W0pgQcwKswuJdlIZK5Deq3/euACEkJ0Z2/cmzNn8AGSaI2fK/\n",
              "kEpr7wTl8aWGKjd6kjAdJN7EfR9EhsDvh7H/smR4yV3YFMI9niXHRk6y2WV8XmqI+FqSsNa5+HCE\n",
              "/Aa1bQR0KYIB3QAAAFABngJ0Q38AE1fXL/tMRKLVRi2HvAXw6fl1ADL4LvyJM+05LQQ1x6fCllmd\n",
              "dWycld9zmkuFYhG9qODWqjiaV9yz7QtFHolPqs5/S31GyRQF5QAAAEIBngRqQ38AEtfoLs9NzDdF\n",
              "TGsIdDuWAD85GUZVB8VPY/j4SUpMF3C93ps+9ZiuJaoa6Vd3p5i7B1ZByFfMSd1gwIEAAADiQZoG\n",
              "SahBbJlMCCH//qpVAAbKT1UGLhCcrH4alJZzu8A/eT5mKZxCrE+8HTfjmlV6+/ZIBl9+wZ0+smBW\n",
              "yH90emoYRHQAPh/chGN2ssPIOUaxl/T3/p4Wc8i+ln6dFYJPrbkh7cQAJs6FykqIqPFyPWoyYXCo\n",
              "iWRcZAR1NKw50CKBsJm/BpY0oz2pckmZGU/XDDMub6xEvEJ+aT5TVy7u/lGFXLnVucdRA9d2fkjj\n",
              "yCOQIADyuyAh2yrGJwDtOhtXf6KK3EAOb3fPjd97OeTM8xdn9WAn9FYYhQ8ICqUhalH62wAAAQxB\n",
              "mihJ4QpSZTBRUsEP/qpVAAbT45cKPQ+KVgXMaec/QiGlJgLN14+EYwSd2F01I7DkhYYeLd2It4aH\n",
              "57LhkgxFR7dnH65nIwrS+b4b/sFAVmI2m2b5CFSexqU1LqCZTzFP0DlcKQxBi44IqLFsuR5n7s++\n",
              "RUKw4uDlyX9uAw90J/+9KylbEXaXawQizX+3vatAxvnwMgESq9L7bbEJiKqi2wAvyZGQaxsIF/7o\n",
              "q/m6FQb2wF/pPVUgD5vUuYONb9NEfce7zvWCpYrFNVLcWx0vsFk+h+XSo4lmaS/+h5uos7P/EQV5\n",
              "VuDv/TXsQE2sbsc2kk1IOzzU+RrQE9yhpYcj7zC7z23wDb/RIK//AAAASQGeR2pDfwAS2MoxQxg9\n",
              "VpIWdsOi2jgrtggBWaxXuV08jmrybxdn5o21pJM87wHHNSzkfHkHQHX4lP/tgALE+6SK7hI842/r\n",
              "/4AAAAF6QZpMSeEOiZTAgh/+qlUABqvjl7o4znR0zAFzxTOCpZgAuk8iyUrFDF/E247SY12phRKo\n",
              "MQ6LEsLJQpRfqN25LemhdHISKJV2cYZdI3MhWYr2rnrebfD+cHSfqE69QOtfGTcTzJ1JeUgvjqm5\n",
              "YvRoW+auETqJMq6Ulp9rXH/NaP0Lj3rzrfM6jYvclCm9hWIAvLki7Ln41oLct2Mmv5p818gczc/O\n",
              "FrI2y5yT36G8fMG5grWr3cZkwvqLud/Vye62g/U7woFcISaUwGkpYctB3qFUfrxeegXa4Iq2Wf/W\n",
              "QIjUK/NkFa5xR8WJHbvFoBoLgiRKsh5DOR/065RvfJD7yM9sB9uw9Iu5HpvISJ5EAnCEGQMaPWMd\n",
              "NX1+895lRgKqc1e2QLrjjrtKfmaYZg8v/qcPNT3W6ry1QnIY+QrMGMeTuZsxmDiZt1Je3ekJxPkA\n",
              "oe5MSRrKB1/o2RI1rgOclEripCz5bwLzEndZBkpExRlL43Pg8H1cRM/wAAAAjEGeakUVPDv/AAz3\n",
              "8Ty5LwutHohNoSKOYiN3i4uIUAE5JTiYHpkUIVrNgJDawk4Roy7BIWFBtKNe33YXVRuUZSpxv6TA\n",
              "vaX/08iu4IvUcPX3ZUm6CgsG0hzev0fkYyz3QyzqHopPdLxez3H9+5X37nyHbSdfVCGm61Lbr1g2\n",
              "ime2Bbbt71AEXVxqsAV9AAAATwGeiXRDfwASWY0RaihMXP4JlCnRSoAPTjEAm7U72JuHI6i4YdNP\n",
              "VkhVvhU2CdwEJP2UGoKR4473pWMjtRHRicqksTqXh7UAOXXsG+Xfgl4AAABXAZ6LakN/ABJYyOFp\n",
              "UeYNWcNfVGBpN5jADiE2+dtqaZ6HK3POkNdcgwsF7Z9xxU6uK32X9x0PbxjlMKD+m9ymvQZmrXhH\n",
              "KO8uYdDKsRRT9RNbKY3fIAUEAAAAk0GajUmoQWiZTAgh//6qVQAGelDMBc5l7zzanOgACEFZBJaf\n",
              "MczkP7BqjBiQu3VyEnGEQxb6esNfBw1E11HHghwk9W5aeKxbmnvw1UyuViAgWi7aCMr4ziPn8oqx\n",
              "f2otIrfOgCl0UrdE4hN/t7ywMt//NC2h60oVqPw+mup6yy2FMKI0G5JKorttIlL489MlKbTouQAA\n",
              "ANBBmq9J4QpSZTBREsEP/qpVAAZ6UwuhdCR/ytMKv1cmgBWuVDhkXoxoBfGgolx28XP2q9kAGS4p\n",
              "I2tbDxbJTRMzHajtC3tx1Xilz6vKQcIn8owGaYGIpdvPe66ZsFzIWI8T1TjiCD9FrF/1g1fxcw9T\n",
              "1Wki8tWcaM4aeqa9qYhfY59ksLeaIiQ2EaZmkR4xjcwdJl45oc66o3UYmhR8Y8n+tPnPUVBJTJTs\n",
              "XsPpVIdOxPV4UL/Xn/elzqkGMl2wdvja6yBmADmgUbK8UT+0Sv0FAAAASgGezmpDfwAR2oblmHfg\n",
              "AdOBYAPikEJO3hRe2CiehLe8cC9/7rr3FJcjxawkLEm7lCDHy6bAcuc5COFmDtI1x+vSDqCnPqC+\n",
              "gLKBAAAA3kGa0UnhDomUwUTD//6plgAZb4wnBn/lIv9sHOA0w5gDmivi+ZT5srFgsqFlxKJ30/aQ\n",
              "T51wVhVVki8b0zP9WNyylzQ032kNzPlM+CS0pQ1guni3NK1cO4Xc621c/0Aj2XCXEOrZVBx4qQR2\n",
              "i20/KHzloRE9Gwz6oCdkLc7Y4o4UhEV9f8kdwVTUk0pjgEuCv7+WWMy+OUnzBYOIyorWHpMQ2Azb\n",
              "39OzSu0ybiQ8b1gguIWZKPCVlDCv0tUBIOlIGMpOTZvZR6CwFjLxcmAva3T7vk1NKO+nDxcfDw4g\n",
              "gAAAAFQBnvBqQ38AEdjI591R50FZ0G38+cC7gCJIBsewjOI9PFmPfgNiUWUegrcjmTkcWWtvi18j\n",
              "dXNjBs/QThJ+KjyDRjmXOtWyjD2OkCPAyJ9r2RFQ7oAAAAC+QZrySeEPJlMCCH/+qlUABlJQEIiT\n",
              "3dwiiRCKBh5XWSBcRkNdR4kN/2OPXH+FN5bjg5L1dzVPWAgZrbRmrAcXYgsMBorKf7o5L0ldpKwe\n",
              "dZHjc56CCrcUdvlrEinq9nCpPfpfmkebvyfF7EijJsANUXi5UIBGO1aR+GKr8nDD97wG5VvTcPO9\n",
              "bxTg7PFspq/VY5YnQy7PsANENloYUAMheHJLafY1iQhG1pj7MCFiXMRTVvrP63QeGw+LkJ8tgQAA\n",
              "AGpBmxNJ4Q8mUwIIf/6qVQAGUk3eCAJ9PjAdQAkI8VmA1jZbTRPc4Bk0MS7+6iN8fAe+dIPgXbsw\n",
              "3QT+N9MHpVIAwQ5Zyyrki76X/0EU0UfO/Bpc0zgVUGXeWTOQHrDSjsZEvk8/llS8nD7gAAAA+kGb\n",
              "NknhDyZTAh///qmWABjM7/+D9ggCt/IldPFZvK8WRAKWcJAZPx3xH0gEew2k6kNmHmKVY4jznj8o\n",
              "PCN1w3OnrJjZSOsYN6BXqzdPDiI8bZMuNwUwP2LEKq0AmgsvapIP0A4oYnBc4lYnK4fh56Ar8xRh\n",
              "C9E61p6PzNkh9e8RuwpHK1V/5tWTac96g7t3NNng7evqwhcY/oEvWPkEHibqQLrdDPRaBLg8yzaE\n",
              "Ww9Ctw976B0ZffxK1SnV7dDLwC38O5XnGDSxvXeUhcRkPznei22InX+mLc7Pwbrd+aL+hSFDXFW9\n",
              "nCbv9YwIhpdYUeYpVMdecqzAGVAAAAA0QZ9URRE8N/8AESlAbjw7xjoA0ANAt9sigoPXZ2O7snhS\n",
              "Aw2Db1O4OVnNSFQ8cOwspYhJmQAAAEYBn3VqQ38AEVjKMlk3SYP/BdETY0AC1VuiwxBG6CfO20tu\n",
              "8O8RLA87cRj9tiLRWQpz03bz8F34WXbjSkh5MIk2Plwqz+TcAAAAg0Gbd0moQWiZTAh///6plgAY\n",
              "C0W0hEG6UjeZr+o4Y6ACbfEPQZhmbxW1R73tG4qGI9oQXRXs2lTfwwuxzFiYA1VNHpr7I2d3D/UK\n",
              "T9IX7M6I8vImMDt0/gfL0wuNfJKun7+QCY27ezhe+gLtDTOfmM7qq/c5QX9ijEbsrYyIrtmaQFpB\n",
              "AAAAnkGbmEnhClJlMCHf/qmWABgROvux+/y8sncAFyj9aqlZv+VcZEns/pdO2fRBuj0QaOun/8u3\n",
              "kIE1+IXfw5arEBNSiFG3u3A4ySyHRAviWUbkLtOxpjhqLhQ7Z/SoLlE3eg9mQAHFyzfjt1/ZUFUF\n",
              "Ck+6vEQAqg/aWce26UMFSQOp70qnycXoGNj3d7oLFXZHdQqjYBlMVApVoz4GcfUhAAAAh0GbuUnh\n",
              "DomUwIb//qeEAC/Cd3NJ7uAENQAJxjJfWDtrW+dhLFFkKLS/m10OZlOtX/DTgxw8pe9qqzyMfM82\n",
              "3R0r9v8vXL/nl1fo/T+7nS7XjMfYgL6ooLt7cOnkfQECdTVk4SnnjYNB7UJk0Uguh9i09bIHVQOI\n",
              "1CZaw1n+de8FQxLQzJwZ8AAACC9tb292AAAAbG12aGQAAAAAAAAAAAAAAAAAAAPoAAAvqAABAAAB\n",
              "AAAAAAAAAAAAAAAAAQAAAAAAAAAAAAAAAAAAAAEAAAAAAAAAAAAAAAAAAEAAAAAAAAAAAAAAAAAA\n",
              "AAAAAAAAAAAAAAAAAAAAAAACAAAHWXRyYWsAAABcdGtoZAAAAAMAAAAAAAAAAAAAAAEAAAAAAAAv\n",
              "qAAAAAAAAAAAAAAAAAAAAAAAAQAAAAAAAAAAAAAAAAAAAAEAAAAAAAAAAAAAAAAAAEAAAAACWAAA\n",
              "AZAAAAAAACRlZHRzAAAAHGVsc3QAAAAAAAAAAQAAL6gAAAgAAAEAAAAABtFtZGlhAAAAIG1kaGQA\n",
              "AAAAAAAAAAAAAAAAACgAAAHoAFXEAAAAAAAtaGRscgAAAAAAAAAAdmlkZQAAAAAAAAAAAAAAAFZp\n",
              "ZGVvSGFuZGxlcgAAAAZ8bWluZgAAABR2bWhkAAAAAQAAAAAAAAAAAAAAJGRpbmYAAAAcZHJlZgAA\n",
              "AAAAAAABAAAADHVybCAAAAABAAAGPHN0YmwAAAC0c3RzZAAAAAAAAAABAAAApGF2YzEAAAAAAAAA\n",
              "AQAAAAAAAAAAAAAAAAAAAAACWAGQAEgAAABIAAAAAAAAAAEAAAAAAAAAAAAAAAAAAAAAAAAAAAAA\n",
              "AAAAAAAAAAAAAAAY//8AAAAyYXZjQwFkABb/4QAZZ2QAFqzZQJgz5eEAAAMAAQAAAwAUDxYtlgEA\n",
              "Bmjr48siwAAAABx1dWlka2hA8l8kT8W6OaUbzwMj8wAAAAAAAAAYc3R0cwAAAAAAAAABAAAAegAA\n",
              "BAAAAAAUc3RzcwAAAAAAAAABAAAAAQAAAyhjdHRzAAAAAAAAAGMAAAACAAAIAAAAAAEAAAwAAAAA\n",
              "AQAABAAAAAACAAAIAAAAAAEAAAwAAAAAAQAABAAAAAADAAAIAAAAAAEAABQAAAAAAQAACAAAAAAB\n",
              "AAAAAAAAAAEAAAQAAAAAAQAAFAAAAAABAAAIAAAAAAEAAAAAAAAAAQAABAAAAAABAAAUAAAAAAEA\n",
              "AAgAAAAAAQAAAAAAAAABAAAEAAAAAAkAAAgAAAAAAQAAFAAAAAABAAAIAAAAAAEAAAAAAAAAAQAA\n",
              "BAAAAAABAAAQAAAAAAIAAAQAAAAAAQAACAAAAAABAAAQAAAAAAIAAAQAAAAAAQAACAAAAAABAAAM\n",
              "AAAAAAEAAAQAAAAAAQAAEAAAAAACAAAEAAAAAAEAABQAAAAAAQAACAAAAAABAAAAAAAAAAEAAAQA\n",
              "AAAAAQAAFAAAAAABAAAIAAAAAAEAAAAAAAAAAQAABAAAAAABAAAUAAAAAAEAAAgAAAAAAQAAAAAA\n",
              "AAABAAAEAAAAAAEAABQAAAAAAQAACAAAAAABAAAAAAAAAAEAAAQAAAAAAQAAEAAAAAACAAAEAAAA\n",
              "AAMAAAgAAAAAAQAAEAAAAAACAAAEAAAAAAEAAAwAAAAAAQAABAAAAAABAAAMAAAAAAEAAAQAAAAA\n",
              "AQAADAAAAAABAAAEAAAAAAEAABQAAAAAAQAACAAAAAABAAAAAAAAAAEAAAQAAAAAAQAADAAAAAAB\n",
              "AAAEAAAAAAEAABQAAAAAAQAACAAAAAABAAAAAAAAAAEAAAQAAAAAAQAAFAAAAAABAAAIAAAAAAEA\n",
              "AAAAAAAAAQAABAAAAAABAAAUAAAAAAEAAAgAAAAAAQAAAAAAAAABAAAEAAAAAAEAABQAAAAAAQAA\n",
              "CAAAAAABAAAAAAAAAAEAAAQAAAAAAQAACAAAAAABAAAMAAAAAAEAAAQAAAAAAQAAFAAAAAABAAAI\n",
              "AAAAAAEAAAAAAAAAAQAABAAAAAABAAAIAAAAAAEAAAwAAAAAAQAABAAAAAABAAAMAAAAAAEAAAQA\n",
              "AAAAAgAACAAAAAABAAAQAAAAAAIAAAQAAAAAAwAACAAAAAAcc3RzYwAAAAAAAAABAAAAAQAAAHoA\n",
              "AAABAAAB/HN0c3oAAAAAAAAAAAAAAHoAABydAAABGAAAAVgAAABjAAAA2wAAAPUAAAFIAAAAYQAA\n",
              "ALMAAACPAAAA0AAAAZkAAABxAAAASAAAAEUAAAHSAAAAZwAAAFEAAABcAAAB1QAAAGAAAAB+AAAA\n",
              "ZwAAAKMAAAESAAAA5QAAAKsAAADbAAAA3AAAAVoAAACWAAAAiAAAAeoAAAB+AAAATwAAAFcAAAGv\n",
              "AAAAZQAAAGMAAACnAAABhgAAAF8AAABXAAABGgAAAPgAAABnAAABRgAAAHcAAACDAAAB5QAAAGYA\n",
              "AABtAAAAdAAAAXMAAABZAAAAegAAAF0AAAGKAAAAeQAAAFUAAABFAAABfgAAAG4AAABhAAAAWQAA\n",
              "AagAAABqAAAAXgAAAOMAAAC8AAAA6wAAAQEAAABSAAAAXgAAAWQAAACBAAAA/AAAAHkAAAGGAAAA\n",
              "XQAAAgQAAAB3AAAAWwAAAEsAAAFDAAAATgAAAcgAAABtAAAARQAAAFsAAAHFAAAAVQAAAHwAAAB0\n",
              "AAABvAAAAGYAAABnAAAATgAAAUwAAAB2AAAAVAAAAEYAAADmAAABEAAAAE0AAAF+AAAAkAAAAFMA\n",
              "AABbAAAAlwAAANQAAABOAAAA4gAAAFgAAADCAAAAbgAAAP4AAAA4AAAASgAAAIcAAACiAAAAiwAA\n",
              "ABRzdGNvAAAAAAAAAAEAAAAsAAAAYnVkdGEAAABabWV0YQAAAAAAAAAhaGRscgAAAAAAAAAAbWRp\n",
              "cmFwcGwAAAAAAAAAAAAAAAAtaWxzdAAAACWpdG9vAAAAHWRhdGEAAAABAAAAAExhdmY1Ny44My4x\n",
              "MDA=\n",
              "\">\n",
              "  Your browser does not support the video tag.\n",
              "</video>"
            ],
            "text/plain": [
              "<matplotlib.animation.FuncAnimation at 0x7fd885d18ef0>"
            ]
          },
          "metadata": {
            "tags": []
          },
          "execution_count": 89
        }
      ]
    },
    {
      "cell_type": "code",
      "metadata": {
        "scrolled": true,
        "colab": {
          "base_uri": "https://localhost:8080/"
        },
        "id": "muE61QFDQbSV",
        "outputId": "6fa6eb38-8279-41b3-c64f-44b8176b1b31"
      },
      "source": [
        "# list choices over episode\r\n",
        "dqn.test(env, visualize = True)"
      ],
      "execution_count": 29,
      "outputs": [
        {
          "output_type": "stream",
          "text": [
            "Testing for 1 episodes ...\n",
            "choice(1) - conversions: [0, 0.2601494936395941], reactors: [1]\n",
            "choice(2) - conversions: [0, 0.2601494936395941, 0.44804425979999357], reactors: [1, 1]\n",
            "choice(3) - conversions: [0, 0.2601494936395941, 0.44804425979999357, 0.6331085954859981], reactors: [1, 1, 0]\n",
            "choice(4) - conversions: [0, 0.2601494936395941, 0.44804425979999357, 0.6331085954859981, 1], reactors: [1, 1, 0, 0]\n",
            "Episode 1: reward: 1.000, steps: 4\n"
          ],
          "name": "stdout"
        },
        {
          "output_type": "execute_result",
          "data": {
            "text/plain": [
              "<keras.callbacks.callbacks.History at 0x7fd88925e5f8>"
            ]
          },
          "metadata": {
            "tags": []
          },
          "execution_count": 29
        }
      ]
    },
    {
      "cell_type": "code",
      "metadata": {
        "colab": {
          "base_uri": "https://localhost:8080/"
        },
        "id": "vtZyLQkvQbSV",
        "outputId": "e2363e51-eed1-4719-e715-2dde1590b55b"
      },
      "source": [
        "env.reactor_seq, env.X"
      ],
      "execution_count": 30,
      "outputs": [
        {
          "output_type": "execute_result",
          "data": {
            "text/plain": [
              "([1, 1, 0, 0],\n",
              " [0, 0.2601494936395941, 0.44804425979999357, 0.6331085954859981, 1])"
            ]
          },
          "metadata": {
            "tags": []
          },
          "execution_count": 30
        }
      ]
    },
    {
      "cell_type": "code",
      "metadata": {
        "id": "Yxsc8YfeQbSV"
      },
      "source": [
        "y = [] \n",
        "x = []\n",
        "CSTR = []\n",
        "PFR = []\n",
        "for i in range(0, 100):\n",
        "    x.append(i/140)\n",
        "    CSTR.append(env.equation_solver(0, x[i]))\n",
        "    PFR.append(env.equation_solver(1, x[i]))\n",
        "x_sim = env.X[0:-1]\n",
        "choice = env.X[1:]"
      ],
      "execution_count": 31,
      "outputs": []
    },
    {
      "cell_type": "code",
      "metadata": {
        "colab": {
          "base_uri": "https://localhost:8080/",
          "height": 421
        },
        "id": "BCeb8cNbQbSW",
        "outputId": "0982c451-316f-471f-ed58-c16ac48343a1"
      },
      "source": [
        "fig, ax = plt.subplots()\n",
        "ax.plot(x, CSTR)\n",
        "ax.plot(x, PFR)\n",
        "ax.legend([\"CSTR\", \"PFR\", \"CHOICE\"])\n",
        "ax.set_xlabel(\"Inlet Conversion\")\n",
        "ax.set_ylabel(\"Outlet Conversion\")\n",
        "line, = ax.plot([], [], '--go', lw=2)\n",
        "plt.close()\n",
        "# initialization function: plot the background of each frame\n",
        "def init():\n",
        "    line.set_data([], [])\n",
        "    return (line,)\n",
        "def animate(i):\n",
        "    line.set_data(x_sim[0:i+1], choice[0:i+1])\n",
        "    return (line,)\n",
        "rc('animation', html='html5')\n",
        "anim = animation.FuncAnimation(fig, animate, init_func = init, frames = len(x_sim), interval = 1000, blit = True)\n",
        "anim"
      ],
      "execution_count": 88,
      "outputs": [
        {
          "output_type": "execute_result",
          "data": {
            "text/html": [
              "<video width=\"600\" height=\"400\" controls autoplay loop>\n",
              "  <source type=\"video/mp4\" src=\"data:video/mp4;base64,AAAAHGZ0eXBNNFYgAAACAGlzb21pc28yYXZjMQAAAAhmcmVlAABCuG1kYXQAAAKtBgX//6ncRem9\n",
              "5tlIt5Ys2CDZI+7veDI2NCAtIGNvcmUgMTUyIHIyODU0IGU5YTU5MDMgLSBILjI2NC9NUEVHLTQg\n",
              "QVZDIGNvZGVjIC0gQ29weWxlZnQgMjAwMy0yMDE3IC0gaHR0cDovL3d3dy52aWRlb2xhbi5vcmcv\n",
              "eDI2NC5odG1sIC0gb3B0aW9uczogY2FiYWM9MSByZWY9MyBkZWJsb2NrPTE6MDowIGFuYWx5c2U9\n",
              "MHgzOjB4MTEzIG1lPWhleCBzdWJtZT03IHBzeT0xIHBzeV9yZD0xLjAwOjAuMDAgbWl4ZWRfcmVm\n",
              "PTEgbWVfcmFuZ2U9MTYgY2hyb21hX21lPTEgdHJlbGxpcz0xIDh4OGRjdD0xIGNxbT0wIGRlYWR6\n",
              "b25lPTIxLDExIGZhc3RfcHNraXA9MSBjaHJvbWFfcXBfb2Zmc2V0PS0yIHRocmVhZHM9MyBsb29r\n",
              "YWhlYWRfdGhyZWFkcz0xIHNsaWNlZF90aHJlYWRzPTAgbnI9MCBkZWNpbWF0ZT0xIGludGVybGFj\n",
              "ZWQ9MCBibHVyYXlfY29tcGF0PTAgY29uc3RyYWluZWRfaW50cmE9MCBiZnJhbWVzPTMgYl9weXJh\n",
              "bWlkPTIgYl9hZGFwdD0xIGJfYmlhcz0wIGRpcmVjdD0xIHdlaWdodGI9MSBvcGVuX2dvcD0wIHdl\n",
              "aWdodHA9MiBrZXlpbnQ9MjUwIGtleWludF9taW49MSBzY2VuZWN1dD00MCBpbnRyYV9yZWZyZXNo\n",
              "PTAgcmNfbG9va2FoZWFkPTQwIHJjPWNyZiBtYnRyZWU9MSBjcmY9MjMuMCBxY29tcD0wLjYwIHFw\n",
              "bWluPTAgcXBtYXg9NjkgcXBzdGVwPTQgaXBfcmF0aW89MS40MCBhcT0xOjEuMDAAgAAAMm9liIQA\n",
              "F//+99S3zLLtU2+2C6j3op4mX0N1JQGblsTtOoAAAAMAAAMAAKLUhF9kdgs3FsAAAAWdQT/hIY+I\n",
              "KnvCx9eWEzE44uMV/cjY4OqQU11fgT4lwKEQ0eXSP1BneYBQjE6XzZRgWyE6QQYgd/c5dY76FXpW\n",
              "CicszMoHXt37BXAieO2R0ThL40vNvPM7GWeQ0UsR3ZBiqmamNWY8fM7WIlZblvW6g/ZUMd9wsLed\n",
              "+RRb1xZuHAx9kVYYBBeSqFndF0PIRpDUOmrQJRd3TJztjpUAGpEfzGWo1GoV43HumEQ0o918Gphs\n",
              "8QOs1IehbbadoRCkAU6pwCfk5F49TbiZOV16GE4RfZJVb/oyIIabtTLhytKGHAAipXlNMO2CZYWc\n",
              "G7Lq/8WiMYnalnx9b9WTR7osVI2JqediMkmXmGBxsVek8fp4XRGnN5h/T4F/nmAcaA6ETF9oy2ST\n",
              "+j6Oha6nN4vXp8gvjDfKaTpYAbCRWT4gySz+CXfxUsISAhGtxKoUaM4YsCvkcwXgpPPUTEAKzgLf\n",
              "J+fGJpdvo5wAhA4lT/i07Bh3URfzlrhwqATq/LSRrqN1JRT8P8q8oz3Pif8x7/fsArz4XM/2q2/L\n",
              "9Lk1tdD/fimVaK/3nj34Y5wWrKBStbdni49UqPzuxpD0c4VbARZrhtd4UIbmJOD0aVjjHGIvD8Pg\n",
              "mQ5CMvrdZZZ5c6UvxkUI8g4NLl61n9OkkT8kTI2UIubUejNhZBa/cvAdO+uPdBv8QVkBqZ6hOg0D\n",
              "GVK/bCRAr6bfjdzwLw+EzR8LWia8qfM+hKQCK3uv/bHWYDMvdWYqJ6EoSIOO4Po1jErJSTRDwb6l\n",
              "pWJ1rfR5IFg2Fa6QIJK1fO37zaKAbKelc4WCzEq4WUnN/vncCJqx5sX1cuUjz3jjigm0vENWgkt8\n",
              "kOXz4ML7bwa/yvONoKTve8ztMyhBPJspMRjcACAO9EbCR5eBivzuYbj/3HcBFw+ii91A4NJCgv0o\n",
              "F8BTAYJKMzEAqMI6ELzgVV7U2DilwelVlJIXN+eSx9Yjy8QyReRdlNFd3XE/hIATHlQbdwuf0pEq\n",
              "4WC6eeI8EbOuquT0iWY54hdksJV+wGm3z+KRbGOox5cjsqz1Ef4NtTWwvnz+voUpwIb8Gbgnqwkg\n",
              "Bt4krGv48F/P9TOs1ESm3h5JpusPGWJCws2EAHnPC+fYmjHMyl+vNu+hIu7FRVl8vl6s5dFTI/1c\n",
              "heztoJ3dxsyjty5s/Cu8WcP+e2UQ1+nhfhv8ENIZ5C8n5340zNhU+CjfOr7udfxkQskqCYy4cxGg\n",
              "8vbJXOQdprc/ZJCJKQ9nzrfxxVNthYKj0ZAuOP9komAeWuu3vrd3WWCTsgF88jiEE/Z41w3kezuO\n",
              "BbIz5KsoOosb1KrqX5ahPs4ZPeSDPn9TvjknpnJRfYs9gXHfjJaHmQDWxMmMvj0T4AWgcoBineZ5\n",
              "VGa2DfkYVLKKM6lfJhJeVnV55dsjTx/PYF57TPnncTg4rtDI8+WUMsGHyAjkRBcJ2SAJFu/kJ6R9\n",
              "zu2FO/fga/wliXszYBUXtHIJUxv4V5kQIg64zKXxYZaONwgrXus9kSK67rwej6Ly0DK4uNwvglur\n",
              "9eTAqOBeDZfZ2PmJNLgJ9Pvwd4fFYkDTZLBYiR4ajP8qgOSY0bNxR4Z1l7ec6vm6zx8Z0pqZrDjD\n",
              "Z17C4Xp97cven4+1dV/yWVPZh3vpeaOr2wcP8i5H8uuY6DpCpb+nWrko6Pj3pDE+Pdoh3BorEn7t\n",
              "mgCi6R+R9mED3nG0YAtcbc5Wmv6zRkp+nI3XLo/SEQdAfk1FXW5BCjwS+ZiyfdzJmYIzTcJyqQPf\n",
              "EyEUjC6n8cjcSrJ9fFkW1AAa6nPn4zAD8oX1iHetrBlA3uf8rd0HHWvLBUG/+mDC17icVrs7aX5n\n",
              "ex6k7m2lTBGMxvZr5n4coJ8CVXTPmODWihvykFDYBPMZCNhdO5taMCP7Bhm8yu7dwocO4rN9fNFI\n",
              "ezq2iVHV9fsms1QqoFMrFlkKHflpMH/5VgnfekJ+yFf7XKexhUYsnlVuahXU/XUNePgObAMvz4Xw\n",
              "vq6YYXyN0U99xEPlchoeI5PZrH8BkXVwaE/w8oca4sMtAOL/X/LEGAavUZG06rqZ2+SDjXtDJSs2\n",
              "hiJ0yhlPfUQA6D3ujaYeN+iUStsCJaUcVmGr7cV8DV5utaFMfB9FoB8a5IddH8XUHRAmpqgVQhTA\n",
              "UKvD7noJuMxExwHjwUnP6sPl9WeyAx05JqzJF4F5E0knvb19m/M5GmkW+OD84Z3OZzL+w/C0V/+T\n",
              "YrjAsUNmbLQ7H2C/JkPTkAnuGGrf+ifgPc1NY4aT0KPXvqpj+gSmbc2vhfmgCmFKAjc0/ziuCi+A\n",
              "RWOsh7WRHaFMoU2zqoQ7KT0oy3ekstFg0A4l7PK6yaPUTwK4EC7ggoYLyI/Ika7XCsAyJXfXyz1I\n",
              "IS+K5P7XCdAdkz+wn4ONKpPRl7tvtIYLim0BYWhXEUNnhhUKlNRxAIJ78ut1WqXG1EOYoQYrcoKV\n",
              "1jnSVZKVqry11yh+Bg/A98yswj/yp/bRG8I5yORJHscTnF8Gvx53ZYyyG/lhZiVAR4J+OCD8YA43\n",
              "DeT+zDAb1GNT8KEMTPQEGNzOnBf8B6vatX/DH+lXJrz7ocCaie/2HdcsjENcjnZugjkGg3dFMueT\n",
              "0NLbGHoUa/Xhm7l3gLCBuUUD5qAfPIYzpmYd8nfFZACj3d47j4qZfnadirNOECaaRFJYN3TKgL9/\n",
              "m4/wM60EvluHJnfGQczUWqj+ogi/9hRP8mg8fWzSn95i+VuLRd9GQI0k4FrI0a8rFDI/WZazhKtL\n",
              "c+TOLAfSGREn66KuPFsvbA7g3TZNRxO0JSNbZ5S7xJtbJ19IBBWxkKraPUVgptop7bDXMryTSKjc\n",
              "Ed/fSqRyIpcpGC+f5uVj3YqcBmG50a4Noz7HFAPx2v3AI89cPm1wG7hTcv7uf4qUIOvzVpnNAgfi\n",
              "/EbK8tO+Sy+6TKW14v/oLSGyDXQ5le3qyZE4ZCDQbjUzvQPzQYHtUGljMwKMmN9sl4nbb0K1yALy\n",
              "8jWEgWjl0ujWH/kpkkifOJdPXht6GFq63rNeaX/Bj4O3tNUJJlb8pXviiK/9euNzt1uAyHB6MPyf\n",
              "SLrFEI2IN0h6uTe4SQaXw2P/1W/jJt8IVlL+f1NPt1SEVNXEXjIS8LPh+EasIlEL9qpkoMHlx/wN\n",
              "CzQFsqvyXJ/J8EfxscvYmu7tE8nnWwMp8wih0b0fdJhnNr8Yuw6COxiG2ax7ewsXkIZLB3rMpSFF\n",
              "FYVapo+UlBu8em1yuSGHXx2K9lziJavnjnm29577SZ6a1trxxWwipxzhh1ey6LrtPdp4IHLfVdJE\n",
              "FfW9Nhmclbkvuz9F+1v8Jzxk7brNyI/GcZHK8xPDlDAjtKfmwCv1gJWFqJa03m0kmwLYqzeuoeyv\n",
              "w5POKTM64ee+dMnFde8xVJ8jeSJaIRR9mvWDgCGRM06QoiwzWAs1KuIM1qJ+O4SH3crChtpho7DV\n",
              "MSC75Qxej8CBmdX4BM8fc8+XlaZpyzcPJc2BwP8h949m9VA7ECrp5Khd+xaymdcZ2FN+yHl85b7v\n",
              "WjbZs2pp+br5Ohh2UqPtyG7cPLVTnWDRVJdbKEVCsYvGQUEnE/hbf5kOhooyVfy8nfYINxOyoK43\n",
              "gWFYnmZPc4OCTemcSiXNJtj4nPJ+6kBVXmAoLYZ3uL5N2Pdzr+iBq+dPsjmv4bajXTz/BNsjASU9\n",
              "0Fr+OORKRm4E+m2aunMRIq6rt9zhcuLFU52XOEyCn4lC687DOhzxCYvJxXOo0ooqPtR9wVdJ0UJS\n",
              "EeUfyaTaqzF9yf764/HNPtuLPO91dJ1tNKQ43zxqb09Q3eWpDI4ot7G2OrRjNPsWGKyuBjkpr3mM\n",
              "7kB73Hb5dntZo58lku0AuaoJRPK7yPFg17kTZvJxjvgWW3IAvDNMlD/1Ge6XPdMrTAAI/hLU0Ach\n",
              "FZ1BayjNV4D/lDBlxHa/WEmnwA51XhX3luedDsOLUbB4GtXpOdBSXZnw26KFcnimqinkAmllSQvN\n",
              "mERqnjAe7qArx1gVzllq/xNoiHgoMYuJf8h375RIwEbmw1vkrwZ/ZhAJdJyctHilG1sbTy9FSQMd\n",
              "ezJ+LKvwYmPJ7ync2yyMld09TzoRGjzkdBqU8ziRZkJztLcqAHb62Ca13p+VHNwQ7t7WZ2h5fGqp\n",
              "NZa2LtmtXMwlieMaih4zg2/PpMQNZ5uYO31lVU6Cby6VjVPFB1QBwndubCmEGrGoZUukOjiSShLU\n",
              "pqYMi6KEkW7ljCx7i/7qgUSRwqQMpRwVmVRZI3cJCpwSH1gJijKrWMXT29+AFlT5DXWX4VmSJByv\n",
              "BWrrzlt8rvD2KYiEMtZVLRBLwQIKs0l/RUJoaRdfoi3/25ff8W6jCl4tYKFQpUxOjA30XsUn882T\n",
              "PcC6bMzNGmyOh+J/nCBOviGxXFnjyLgHepOI6km/MVq0gjD5YMpql3oZX+MDc2FcpJN++ci+tiBc\n",
              "sllzDcyMhyNFF/c1ODDt41G1r6YlLY0w5P0DX76+weSAMzvEtjsDy/UkUsTIzDlh+96FOVcaJxle\n",
              "4XsOYfrGBgTd3BATUyfhSgdFsmzKpadd9ZL5+1aAc3v4xOhSXWUCLPX85sAE9Ra3KsdJ//WHTPy9\n",
              "jNtCAyaXrK3Vsm5T8iK+lvq/xUGXiWTeMPHTZ7yR41t+9XHN+34hYhvg56Q4JndFnDZg45mR6W/h\n",
              "5gFpeKunYTFq8ND8Ktxtnh2QCxfuvytCYDer5U6ifzdVytb/Ovd1a+RVNv03asPhF6Ho3+lwlt+8\n",
              "TZdjMU2XqTapBmWHvRrM/nF3k/AJE8fyg/4T4hAtl32kyvtawyC42m/Eqjm9njV6EF8/L2a6s7m7\n",
              "7hB3cHjHGauuNfBPXLGvjfHCz1KV7hSgHEZ4XlnRaSCxwn+q0HGjyZd9SEpyIKpM7GZZQjaQJBrl\n",
              "WBuNA3XxSkC5gb3r/fyoj0o17QivJg1A/eUJW7FKJ5VnMi7ySspR4Wquz+ZeY7kDWiwRBCoppSy7\n",
              "URz/VTtEEuRvhSMDHZvywbHUZAfjDNu7yaZG7seZLuB7ehvGi0YzFUQE+3pGZwwk3Weu1B11p8yu\n",
              "MAKHzQcGPw5kObTaAh3LhBs/HAg1obGgPQBnmX2i62epmakL5uPJiwzEeO6pQQ56ZL8EQDGWVSLL\n",
              "AM6qIsWHFgIJL/oTDTtOFOp+01737frAF5TULrA/YH+xoVNL16FFzgY7PYKnBFgsJbieGpOIyUnE\n",
              "u24PiPzFWlEOcK/fk0Ruzhpc2iQMU4HgdOGeLUJ2lsWPOhm9iBgNNDmx3i+TkyaXUVc9VvG2LGty\n",
              "vCkHG+W4Hy5RkDSJo6zoAXAwXyICla4L9aFWR9ALwi3EOOXuNyLozqzYqdn9MQxO2r1QJpcF0giR\n",
              "DFNox8VsQNw/hYlkHuJe7U/FyZt4hOhOFWT6/alj1BHlT6bQRQxgXqBgG7fqk7BMudVmyjgi485b\n",
              "E8b/9vS6/CyyNDd/L/hTbMHXOkUnHHhBK0YgbJLcR+nV1A6mU3VvOtYj41LK2TttzI3GRAeLrPxa\n",
              "LiGcdOcaNivfO5gOVeK1auNMPVECCiBOQBu6pPLXowH+frqA14ur5AdTfG9GOm/ezpvmi2kxiYXx\n",
              "Uko8vw38v+Vpd2G58ym+pm0gWkeE3FxWSZqcMPTPBzEM1zw2QkD8RlGdq+M83bV2fVdPZWNfMkC2\n",
              "JybEJSNtt4W4WERBb03FdZ/ai/J93lrFBD5Mx2hi0e3WO924Njo0ZHlb+7h8W6NAV7ImMvdIi+D4\n",
              "LmOt6fxIWEaylDG7wnPja8fMCi8A9cheHe4g40Oe9Vm8HEH9kMQvvWxC00Bks3VCnl3wA39xdBhQ\n",
              "pi1opGLw5tVH0poAiTME8wFTmaxBk6uYk6P5NxiT/20leIpH+nBOcCEsI2CNGKVj92o20vjqvoM0\n",
              "CiEo4j/C85iwLYe8Okjs2bIXbiOanUffJZIYuss81+fku2RaEvQ18Fld7F7kyLbH1iuczafaLvnG\n",
              "YGIZUZAysfGAZlGko3OIouuuC1xTbay4iuJew5S2cR4I/vytcIWPeHIwkfS+ssHgO7/BBewiN2qq\n",
              "TkHVUCqcEikNLEkZ32L4u2pzMqFcr+wNB6M3VGu8OMIGIhwM6RYZjx/gcOhYO+U5mwSicT2iKJsZ\n",
              "VlaqGYi4s3BNmvyo2lNvVGveNHqZ9eQKTEamNiooSdsxEN8rwK/rfAkoQEImtZYDdLnK4A4A406W\n",
              "DjJ36FLR6hyTZK/VWCjLsRbVn0KEWlDyLfmRznUJv1uJsfwIuvtkrCI9TJMx/APFd2mhBh02pq8a\n",
              "ltaKD4sMH6T4/Dlb79ciNEMW76WE62UJWCAq0ns8FvdVhv/ncksfM7HMdWHIKlzQcKtOXMc990BP\n",
              "ugjBQXmQ+iYF0d6We8Itmv4m+Fn/96Vfiw5vBaKwn3Enpp/tnVda8aTIq4nSnwa++6BrJpZXLV0H\n",
              "0gPbLVcH9tBRoMvu4XODNhZ5ZufzEgCj6bLda+bDVTinJCj+QEa2qoblqomLc3Fzuj56qwX/yoqG\n",
              "4EvvayBHLihVJjIvu7WbfNtQUgzOdB87S6EBhi0N+qjr70jJ1O++TkPCYtRWdx6fQk3QScm+mQdp\n",
              "00U2i+pTmCgKipQexr7pjhKzgy1/9YJAS4/10Rulw4pNmTJhYi3mVvl6Jd5S+1EZFTHdxJJgybNM\n",
              "/xpqDchzizri2lF4OQq6aQA49432IjKfxb5Y8aRMtclig2oY2FEwZlnSTsBuIwPI2kx9nMFQ4glf\n",
              "Kvp0zfnJ3VRLKZh267jzc+HeIAiG6KdBGwZLvBW8HTXBW1RLzz2Rg4B9Dramyqhz2/KJ1hIFOwWM\n",
              "X8WRIc+FkEgfDEIoqPfzldR8TqnpqCAfiCTcJfYzMGSK/Q6ICtksIxAbRpnZF+Ln2NcKAMKXteFz\n",
              "ALnF7P1ffKNBZqBlyfQfrU4x1oBvaXdsa0huiEDmffpYynslKt59x4U0q6Pb8VddMsIzqNd8bjZd\n",
              "aYLJPCULgMo+bNBDWiARdCegtIvcepL6Iw5sFzox3d8QtsJOnPIPGo05KpWaBs19XKHOdchWjto/\n",
              "a04C0FkDAFlueJ11ixAbmih9fgI8Y5LeWohgDeYR1lhIxAPaF4WFFecEoo0Jo4bpJ6cNf243PkVK\n",
              "39Z6bfS4SrbegjjJtThQXJPq3rp/8v4xc0wwKoxsDTmJCxYCX6qMBiTKAkP0/jXJSMvwVyLFSRG2\n",
              "BL8OhwtlMI5abjPGLBQCiwIsz0JCDlcGlgwHDA5yOm8ITVos5yKB0C8zpPyb8uPbF4NUcXL/EJ6a\n",
              "jZ/y8KlRkJdYZ0cIZTolvJQGjNS5K/1OUvVuHIAZ+nJulS/t1xkOxaLoQOpzSJnLxXggI4oJrA3h\n",
              "7QU9+gHQSRNH0NBWDDqCNl47dgXZ789PnOEMSl3zGy3xtCILVMNlynGwiiRjIeHETGLptv0aQ+Rv\n",
              "FjTriAGwXpxVgJyYeAHtuDSkyNcaPW4T2bP/Q3/dZIQusshBXuotv/o0wehEcoBE+0qAzNtDHw47\n",
              "m3BPlvRyzvKyJcKViJPhJsEDhHpvqv4oJYW6xSN1Ueq9Hn3eP89qe6rKY3O/ESJg5eQVsGswNUKm\n",
              "7BNvsyQAKWRuDpsFpJ6b5OCf8pGuUXRhKF4NAR7f3N/B7QXJEqoDV3ijU0+sDIS/NIiX2lDg1iuM\n",
              "OyZTEpW2DNFJJXm9ieA7qcXytQN76IpfLGlmQmSqXN1e07G4rgygSDdC8qUH09sMf/7OAbfng2r7\n",
              "upLQaEkCP8RZoAy0DWCxM/z76QYENvuIMU3IS3Ku6BP8Wo6FezEJZuWNZ6BB/i48NmFYq9Do/KSP\n",
              "YYHjkPz0duwn2nLHc7LapEyj60qnHk8m9SmJx7IOfv+rJC04qSiFYoAGWpLku6VqeX4uAywgSxmw\n",
              "qlI0FTTUFYvOhfdJ3GpB3y15bvoVLRIcxHTlX6/gTm4oc8riBHbhrkcFG8b08sdZnGnIA+/g6kJr\n",
              "kukbFqGup/kAU/5OjhxXwsX+GdgJJ1OpA7Cce56ENJ4+dWOxTmToHmbkrcS9OmfZYYiDJl6zK41p\n",
              "jwqkhOk5hcXPAFQgLF1tYjwEMo2owhPb8DQGyTUA82HyB24dGDPir7ctJSdt7a4lxHDE0coENcnD\n",
              "Zk4IRmSGxqAFkUzy+rtilImPIJ6x8XEmJto3xhLXyShHNT1n0rXOO4IP6OkBX0W/gYI75cZ9/r0W\n",
              "f+eR2EUL05KNYk7PoSh7w1SKeqji3Ri/yHvxxwPWs8qX0CrTp3EI34/V03KIUABGmbh54jXfuaCg\n",
              "GYHE8jlEzkoKv+bNchDIujvk+eFm4gDwWjkQZB6LsEezdz7qay0VE2l0bBUEzMOTBukC+ZflES7K\n",
              "oLnWozosGvXtSAHUxEj8olNwR88bmlMW+mIEMhgnCBa+OZf/YKK67b9cs9CePz9kjpMNkeV2GNt4\n",
              "H/45+bbjqRTco8+O6sjeqdzTztzqJkcc1P99IcFb1j5QmwSSC3lSSzHHNlHdiZfugJZA+HOrcgrU\n",
              "ziuniyEJQ1mBjYciJS0fp/gtY/9PSO4HrbwFEyN3oQXQGM0Gcy/H7cBewHnWW+ElPIBP0vFOz+fn\n",
              "6mfH7qKF+zrlSmYDLV/W3lBq65BuNA/yTWYlYSaKnPUGivgGIp1UR4txd1fDjvVL2NQtyPxcWDWZ\n",
              "dfn4dYujl41nQo+c9cxoTbmKD+1ACYyruZwMqN8g4tJAPSn9YO+iHideldY//Mi+Mqsw+TwpFW3G\n",
              "bxkKs70jRHOiJp1uj98wX1DJKymp89DYRZfP8X6WWM5HD+qT1HJPHyMlLYHe+oBHErrk1HqNB/WB\n",
              "CwwAWdH58vvkCehBR7WOLdDHIXwSvKfvtKsRBBhlr0jqD+Yq463VtfjZsbobrZMmYbXteR+qIz9f\n",
              "nQv50bRwp4RlRCuFI+WJoOk0TFPhqvRlTkZc2BsYRR6dA92S5SSujKnwJfk+I+CcWd1UtJXx+0Be\n",
              "t2t2vNfAzafSmueFp5ZcUVVBU8EWY3ONFS5pwqQD6GdtjctYApB5ahPjTGgkA8L/ByyT+5YWBZYd\n",
              "4Q5oWVra/axiaUydIH/NGCmdz7de+1jq8nh32ScWdbK/ANb2ANjaNfeP/1bYOXUwhTZ9Dq8ceV5V\n",
              "HsipoDgI0JMjF6WN+MlQHfO+bDt8gIVK44I6kM1tJa8RZSWp3WWfuuM3QKImzHh+omRFSM+TgXbz\n",
              "dcleKgW66a9aG2z7jhLNUH7ceuC+udtaAREkLIZQWwx/+qPiKhGNWwsnZimIqZyDvF4TA5jhdRFh\n",
              "xVSEghsNsS+T+0X4c6YxpBrux4ySFLNCdXB7KnlRkhHNLmIWmQlN7h1gdhmXA1ATou5xPCxbkQNJ\n",
              "YBDzwgG5cPVFa7COhIhUUhn7CP9UABqqMVxDvCY3yvkCidDIV6NjsTbD6SkQTQ98xcRJe2qwDYNI\n",
              "EOqipyzHO48zRGFd7L6RR7XHbVtKDHtBcJPbY4TV/upcHS+EiCX6JNbhJd9w/tc9mdBH1Gjtspfq\n",
              "ZHFZwZ2U0MR4VWCwjWevcPy2Die300lbhv4z5Xqab90c9kCbR3EQ5HvZQDfWNvPxiVnjHhjSEm1k\n",
              "W9WABvtq8NYqKr3fT6TT274NADD5nXA/Gni2xhl7Dqp6bc1iUvm8ek17ZFRNkxVixO+qkq+UgwRt\n",
              "PIBPgxFVD4XjEUS2dUFy4G7ZN7fjtNjdmCW6bKX1G3XOPp4svc12c/YuvHyBKfnO2XdI/K4CTk8p\n",
              "vJApFWSUF+IoUV/DVOHl46BeJmZ76OKOJgLVXGdi0uu8XAoATkY/LEMZZaXtRJ6NBDMbq7bNcm7Y\n",
              "cuku6A5ZRwDDMsZTmSi5ChlFHSEDqOMz+EP0tN9EaE8C6cCqqOF09ZpnQH9hram8+7SCkFqrDn3a\n",
              "DuVK9ouWkteR0NxRJWHseZ/rSujltiJeZaM2TwC4FlQIkt31WqnCyIMwVibIEeEs9hfvtUluztWS\n",
              "oV+3wJHpq9E9xs7qeVy4ji8nMwNjCIbWvH9+Vkz8JJ0srH63d2L8Mn2SQzwjX3xXmddYh7H20u/l\n",
              "GCaClDRZfUwAF1y9ln1/25sgBftljzUDvQU+VDngLtL3ALNK0WBP59S/Oefqg1coT9+Yvvo9ToGz\n",
              "ngVfN14Dldm0htP3ajs6RtEwJTogrsG7b277OTL0i3A8PvkbThUN8W/UGTRU3W9yZDHvK+/R+jWD\n",
              "eZKC8zwJ96TENZU2lcs7aTyukAZeKj7fw39jMFvPv0iInOOsWbXdyncFz+T+9NOjEVJvZ0UFY+ij\n",
              "HaCKBrJLdpt/i4HpVXPaFH2FA3W9LET3Scpg6BzcvcmTFjIQ79ZGkFSJpY6Z0uhs+PsfIG/cU6mA\n",
              "jK0aurFcvbOAnjVG867KzCrHJCVquWT04uzb/yfUN+WZ20StibxDNKqiXV8uBgk6uzA3XpUpT7Oc\n",
              "Cst/aFqKYzexRYPD2cy0LC1KW/Tef9NvD9Gb3T4MysO+dCOxDsr8Fo3my98veqxRemb4pc/eogPP\n",
              "guOJKm7fhxRpJVbEGT5dgSIeuM/3UMyzZpWFFiW4R/k6b4ND+Ouqils/4RnT0nVzS8DdfoNyK4Gv\n",
              "bMAWkAVNYlYqkHWXmDvR365VZP6LCYJH2+ZMq846i8OfyAkhU0bI5+TIlFEdtpRa7JhLvPkyv5Qs\n",
              "rEdMzBiNFXCls27/Zk74mC7C8a9XVQCfnKGJvgBteegRTbx9x3MvQVOpRzg6i6aQwrXm5R3aRrF0\n",
              "fRLDvbsT4Rvio+HrOnn6qGFQ5RqOYoOWfDlk3bLwfyLLtzYmZa7xps50L6h0x8QKxwIEKrbYAGKJ\n",
              "SgJtkIuhD0veqVzza9Xi8tQHOFFDDzFbI4sc0S9P3HXTMJLHaiDNwjfCLpDnX6/dfL5GVCJwOJxP\n",
              "585w84JHTH4pJCz5CNY91byEYCjFfIaXgDi+XiRHjXEZeuYN3gX5iVM5Xs7TCdPaavJPhTZvb7o/\n",
              "MjpIUsxwErSflAoKVng9ifQH/wndwnoFEdoiq0qa8HLjAM5r2NXiLMXcLuxhekIfcXQlBDf1OAhz\n",
              "x0zKa32Lx2SnvaMrFMyCYy1JySUp9LWqroSdbm4mju3oJiedJrktE0W6UMxBXeMTDqZRhu+iwSnl\n",
              "xc0dSXuqRroE2vvZGcqimioTHQWLojx2tT803CgeKCDvwyyNqrcWF1tK2mvgD0Kq7eMkkLod8W3/\n",
              "AE7rmV13IzHU6jzGyrjaWvgt/5GLUC2mAeANwmSQpiH7tyChGs6J2jQsK3TOe8tq/L7eTJ1L4K75\n",
              "OXlFEk2xYeZ2IDuZobQU0iyvwEios8HdbwzYAnLiw+PWLc5OfHcQSEablAX8MqkcYBAvATC6Ul4u\n",
              "eqV+zWiI05p1VvZ5iikGEK/kbSJdGSbuEdtCjqs+89wpBql5Gdm6+4ZzzkDbxS5EYIlmGVeuGOjl\n",
              "CvGMjH3ZVI/p25T8zWv94fgz+TVmUllw42s7sQnyru/Hni5IUFFJpYX4Vb0Lr6S4a+G4nKLk3R7M\n",
              "NLQZe8iY/KpSfwl5OAAtqz3ypa3f3Iqf6oVBcnW0xJqGmBfaMWB6cbPwh5RZEncpfMtAbwk6Y3vT\n",
              "IQymCVdi/4Q9kQx12RzbAfm1ZFRc99gI/dfTW0KvBdB3FP7C++S9jYz7NPaUHOEr+y0we4TyZpuW\n",
              "KFuejKt71btYBs5XIRBCTVBGsUQ4LySeadKN9LMxVpqdi06VAIXmKF6cccO2pZIt4NcZtIqAfs4m\n",
              "YSz72MNGjg6sKwmgH9q0/Hwo1GIPSXrln+RStv68tY0LEIFz2P9o25ejB+z3vwjqgjRwoutC/MqB\n",
              "vZC2/0uYmAhkLmcXDEwLgoRf/9jBfnEy27eYsa9dP7Xi/r9nrbObbZtN2lvkkQwNnsrlW0lp5wv5\n",
              "o6fmdDDJ5TVDv8Z2k/0jJnh7XX5FKIZTIVLIeKMvEA9KepF1dis/m7mLqNUDTRTZryERWOvojJ//\n",
              "RG2p1Uv7gXchyutbUSOPpRvCJzmI5Fqtd0BPVmUf17Wz4M+vAKosUVhEMl52p+fMb6KXDL1aO7sW\n",
              "jjffFELWuqYM7WjwgPcHWfx3LcfK5h0b4C5KKg7ZacsagHKHPXmJS9XBb80s596frDZ+3RnHzquq\n",
              "SKB+4Xm4DRPJ9WK4xcIkrfgLWGdQLYAmdPIPiqOD9JYMJzRKqaBxd3ZUASe/xrnw9a4kUyfeQXfK\n",
              "gdBxDRUXxYNkhEszkrwQLsTR1wFpl1UHo3T7d8IvxNEShNEKb2Je+RCpXBPpZ25WadMWe7swPuCo\n",
              "o4VnYkuJWiuGp7v2esBx3l9BjPfyvUmpH7oHjwN6Fu59Vlxj+5LNtjlsZx2DgB0Yd0pvB2aLAJvw\n",
              "Gvw+nAf1pcLlw/GTj7l5/s1sOmelUHRvPdOLgmTIE57rTdHZqlGpbmGlZoTbyhbhTfs4uQT5z1oa\n",
              "j2c7f+3V8Ex8goboCUjMUQzi7PBjbvgM97svDDEiwSx0zTgGEU12H+8Sair8xpjOvz9VF6xUIk/T\n",
              "2qQnSppF3ynlxNShhEE2/a1K/HlzVWtLNaMuKZYhNzG11fgF0FkQVoOIZfw59ng3o3mqcUCDFRk2\n",
              "whGniCl+n6G3XZXGgASCPXgqM3i3Ec0g8dxrW5uegrkfjUbyvM9yJz1951fFShcAV+togOX4q2h0\n",
              "ypbaO9gk+0wTI0KdM5JrLBdXA0ZFIcDSz6vishispfY8+b4kQXzM9n8IsL4Pdafi2+LXAoLtTYKg\n",
              "ycxlHWZf0zIjdfsWiN34FU3z1zMQshG3aM4tzvgiL3qKXPzlL/gCdbw9qCySGYnRMZbiCgnGznOr\n",
              "BiO2EId/myLJr7sDixO+KT9C/0tFsxwmHTvN1vAEq62qvX3if6nUKsyY6/z9j/d+/LZZHeuWF+ht\n",
              "ZpqUUHx/d0k7bfWItUSopSg09NMXXyfzPkFETHfAf+3N+LTAvTaQB1mtZ/8jA8uaO0xYmQfCq/fA\n",
              "FWCyL+uEZVRIfUE4ENAngjTKA4qHlXZb98nEjTvMun1PgVzy2Z7IFGZ+1tSuBkud9Ts93lCauvJ2\n",
              "4cxdCgHLykrQwiXIb7riPVN9vGmgqBVIMBFFe1k/SATXE0mNMe73pk5GryYeCUGpXIbKB6blL3Pf\n",
              "bmsjMH309BcobZaJrnsw24Te0dAT+YnbJbGNCWmwr18CPGPYeTR4b3GKZvyxpdV2LmaR2Httk4ZM\n",
              "KRu4sWnDqCbBO+RP80yGz+RMKmVca2a0Xcf+RqjGFQlO1/JcZmDZy7ZkMw4ZuT//y8EdeWFeOu8j\n",
              "FJYz3U98cJt2C7L0adkUYsRWL3AlGUwv3FvLDHfTJtO4rZ3mXpTSsC+4t9mTOepmauQZXbUyfX4E\n",
              "cf9N8WO33RUKeO4t/r3umI+OejtUeVqKL5R2l8ylpsw0chAArlJXKdMrjma8ukSV/UFRyKY22Y7P\n",
              "V2y9BKUGWwuMPw2/PSXKoQMU1Ds9qqCgW3ui2vD5+NOpRUBxK3LnZC2Gt//sCF7r5B/ryrF/F9hA\n",
              "OeBn2ZVz/PtoI0xoUsNSp8R64e4s2oiyJfebJQWADWSSnmP0/Dq2UDu1pE+iWUnfSpMf61GAfivR\n",
              "0QiOWaR5QBCte6EIp00udkKn5cd4px1JoFT9fD2PQA59NV/ubQvh2xTcPBSTCZKygsUAfXKMRFOz\n",
              "xXiZBqhvbDh83I432m289ocaoeeLY4Bxj1JH+0VmXoOdKVl5gbstBjQYA2YcVzcnzUDDZ1LMZ1Zf\n",
              "pV4101K6Cv6tdNqQzVegl1q0nerL9H/6b1PuiGHHKoxM+65YnsHYqmKRgTGk44rKPhLf092kDlKU\n",
              "RPiX5VpD/PvsH8U/2I1RwLoOaFmOH9sit3lkzS3TT6KR+Y5AcH1IxGKgPzefZhyWusk2Mo44YxAr\n",
              "fBCSrpKGSGKHuExQaWUyfQJha4F6jOMTv6/xjzvi/YORfArlDwqIW+oBmzYzbbBv20Iz8sJKSmsw\n",
              "uP/RuMDobIIdwaqQvMqLjkFBZgR/PXWfNrs/9eRujTgC0KNX79sHbD2wrHW7yjRTXGAf6f3WGkx6\n",
              "EqLEOQdZccUljhYQybVFDhoiItBeXxunq7iN8K2aLVeAS7IMcpA7Z8RW3T6Lk3XqWKA/PGBEFm0k\n",
              "u7ywDjDQ0wKtDfGj0Zk0ORRfOCrsCJ4p+WpEhCT2w0qdy+L5tbOreMRWrEfLiMQGI/oKKkPcaVvf\n",
              "jHRuw75c+dqISgOw5PJj0kJzZABZnBU7b+Z0P1Ao2m9cJYne2RwQR34mdy0bNsxliwdCScYis1cJ\n",
              "uiW66Dm/bvBq6yKxXHfb8NXYdPJoXcbWyUe6hsF4YL3xO5h0ZKYf5XWoXFxsrt2ysHNNAFhRZuDI\n",
              "xiMxlEcYFipdG5xz/sorzAp9/+hXtkgIPuOQ+WGiCYASLU4nvDB4pLj9WwxUpkiDskZFXTEerJ7q\n",
              "/Fh2cpusmeetM9H0vkhrHiFcBapvWoJxfga/nUeabGjF2oLDza8PhILYywK35viNApSIl8HqXxqW\n",
              "ola7/vhulR29yRNfc9sd1bBNf3YGAkq5p5rQUX2Y45/HDThMCL3thMh6i1YKVaco4RKkdUFLKS6e\n",
              "6qVtx80BRU2be6AupgOtxHij7Dox4U7idYi3gOddhs7fgJfaXuBTj3GFUdI6b0MAAW2pbJ+u3Urp\n",
              "TIbt4KLNcSvLYpwK8UVsKMChfMCzbNZNb5SMETkoiqHTKJF//iHuGOTEYcF3cCY7F/9BSD+Bu5jr\n",
              "mW7qlStgtoQ7+N5u25ladxMjJGeKs3qrHobxSwJOqRSELDrPZnFfK3i+5Y8jBsmMlPFS5A8dxzhz\n",
              "qgTmbgqz0i9gKyrfuu/uCAgAAKVuP7E5CgMSjdM+78HFmy1KIkaL5G07odlqmlwJm70iGTDRkGdX\n",
              "r8xWDA7TK4Y2628WSL+XQiLxw6ZyzmQDUXJv3LHbx2cvIbfwa6RLoGj3aA7ddXMOrVbU/UIZtKz8\n",
              "R960rtmqGYL0ZLgEtsD2qMJr92Ap8pEUJXGZvHvfMdYEP2pHeAZQYMxkOOjm2YYoXTmc3vj+vYv9\n",
              "t2u0/XNPE8GrrIrFcov09P2EAdx1AuNMQmpDyWTUn1xphNCDA3G41Z7VdqAnetxq8cpIh5Ye257Z\n",
              "Cvg2MO8k5++ih+nvgtdeRSgtI/ksZg3PjWf7gRZY5JUUwHjfB/MRKONo+QJt4S3hzMzBb+OEenTD\n",
              "ws3mxL3BILaCqVJuZhHwH7/Sw7V4IG7SSfUXgDRUmFuVVYk8Ttl3kt7g1f8QB5GKXvFizf138TQR\n",
              "/7QYoCiU1n8cZLD5jelyzRKtUH8EaYXv2krvi2xpTjfD1so49xslUi7FdhvDLs07Jm0l2zAa9T8g\n",
              "pNpxL1tBEMdVkG2fy7vR9Huo4Xu4TwqOkh81CeOFiSdaSalGDSA/h07PRpyWpeYGiCBe4oPIj7EH\n",
              "YW5MFjYw+8Meszaqn91o/eps0p7lvqTyRy/a7S2Q8r7hgrgVsHz0Ly1MZ8PqG6Ppavzu2ZNL8FIT\n",
              "zkHnwOVVS8cmAdAfnzMQiflp/PO+IFSVxyLjEaDXxL5LNiuB4GxnfJRkW3QFXMaifPRhzHx+hBkQ\n",
              "XiKLCtB/9PpO43bV0TlG7AH4HPCsIgSl+t3rSt2pcnTIYYLvctXfkd6AHXKC8il8rUrlaBhKhRmJ\n",
              "9TeXjVhJmba5Oqiqiw3BehdYPDFxszktLkCildNH4XNEp4H6iKq+N8s8LC759QJ5tz2MWG1dAO+7\n",
              "+wl50VTk4BmWl3fFO6+Zbu6ZGZtImpaAEKC+lK0ySSeu4wQ+XjW1G7rMrHzty4TDTcNZFfyCl9ER\n",
              "iPzj683f8Mcko8d02yUaOj8dv0YxPAAeY3lRVcjTGQetb1rvXKNSEvCtfaNKuWQG/Ht5M7jz343u\n",
              "+MDVOhluNfQNZEiw/EhwjJ6Vzu7b6zXH2qrgi3r9NzkT1dBP4K+c1wuR+/o58IuxZFhi6VKkXxFv\n",
              "MXSKYAd8wyKJBrgAYD0eYuLkdd66/VxbKaFb7ySx8vDzwmPx+OH8q5IZoNo6aNCcimiAoq4qNzZQ\n",
              "5lta1AgMgkiC+WvQbIiBU1vV9zTpekJJvG5DikWdR+Yhnr9aEfjbBU9j/Ahm374TxdOrkykm+Rgm\n",
              "LtgYoNNltyt75lcQWL4ftcIkRyySXkcTfoKvoMZddw+enm6B+NWIZpzJ0ZExc5amniZVhfn+SBX+\n",
              "8H/tXl0FsBY6tkus3HINNHeNFFVEUFGl6BCgXH046fOuuebRS78f1ZLW1SeSsNkP4stiNM0eTEpa\n",
              "InyqOnOd8mKpxEweSwBe9aU6OrK0H4KJ1zButt0SZXSHy6AK6gKHITcDWb84saeS9M1ZNZ8RHO4E\n",
              "BS1qUhEkGR6oo9aWkJZ4+sgEXmK7DXG24uzjfUgZ8YxyyMpC0pAGvKhttYNIDHHlVSovFAKJzEuQ\n",
              "CF1ayOFtQwrCuF94kecD3kALJrFoUHGeA1/k/fYv+b7/RJl8z19sjp6+O6UhPt5HBEBo5PU9zJuH\n",
              "V5Xesc7pkFISL1ubD6HHaSjlhpgzHwf2GpotlW19cMZrbWF5tqRyGIZYY1k0XMUqR9QQjuadp80D\n",
              "elDrL+P4D3+e/dPNmJpOUsp5wgYVakeC0Fv9Adap5bLwDIAAvLEs/9vVp7gTqncIi1Va2VSD4c/v\n",
              "8NGf5XFamwrY+ULqn9VgkGWAu2fvB6BDYT1+7TJIbB3J8AIed/JBAMBKpI2heP3Qs1X1kh4Ayuyf\n",
              "vqrMm9zGvJXcf6TyMFWtkziC1QUMkE3UAwI6pRLBRuoL7nzXSX6Da3hc45VRaZPFtXvRb9riH6hR\n",
              "abl7suJyabtYC/WSta6w2KOVnCG+gBJQCsPCJoUTmqLvfw3Qn8uccvReEn4mZA5oIs27Q2C5gko6\n",
              "O+qmcCMO5DdiaOrBiKMsYVNQkIuzFqX8x8KXAYqanxKowaHklVeVVUTUfNXWWiz7kEjYWgu97hPu\n",
              "u8n0cpGPDzX7ONlVDLVf6vn18jQiWxMJCX7zEV0N4YEl9b/jcvX6dWrU5LiO/NIJ5goVf9yP+40u\n",
              "580ZL55JihuM+Fsq7ms4HY2umniNVN+LUIHyOpPzBFHvrvIthIzFHVQaiXyl1b6qQN6Yjs1Jsarg\n",
              "4GrXlh6vE8+6xt0ZSscOTZTHuv5/sXURaZkzbEWxWC0J7TC6yi2p7L9Ta5C3CpG/CSuAeloybJ6F\n",
              "f9OSXNNWvxI2S4Nzx0re7qLQ8nrq3C/IjDiJP6W00lG3nmKOP/QyxkGtLjuOaweVn2g79SZ6rQOp\n",
              "nt2abjwI8W7kRMfGf5Lv4awN9mnYEm8+QQAADJlBmiNsQV/+1qVQAKCL9vcYS0OP+cEMyloAHXyR\n",
              "eL3cDXeRDoSfgRyrZDh27xVksvJdQ9IIFVOd7WzGXdPSHluvOX6I0gDtSpRhSVjf6ASmcSvt+YYI\n",
              "f2MU15ACjxibnGqFbG2zoKHwE5L32eFi7Go/2FNmx2+75yk6sxsv22s4wl5FoJfEx9QoOmMTgbqK\n",
              "EnFzH0ApqU+YFRZyr7geoehhKAuu4bKuclZg6Gu3MzJW7+/TcH9TqpOO6ICo1/97Ic1bONuDHuD7\n",
              "b4/A1R8kJu/SjOaXpwJE4nfsp1akuD8O/379sSeHRaJr0Vorxfd2j2T+r5/Q0+jrLQJ+5fhlzpqk\n",
              "k8nKtganP12pUABVWxvOwo7M9DZ9mSz4brxWJ6maA/ZOhY5l83M1I9jS7rA6D9izV3srv+mQ3Rr9\n",
              "gyS0jxu0P+B4LhNr2GYbqEdzJGSh5GVoWEg3uuF38E2dEEQyYoFDda7OhuTbYoayTKLXgxIlrEIE\n",
              "HqV/KqNlGjQDs62CfFfhTkBZBYyv9Ae5x1pLFfbn6jBORYs0D4wSw9dHs3eD3AKHkWUPyUIQYos7\n",
              "P5IS2J1fvi6UB9R2Vc3zKdyaT7Fjo/dkP1OrSzBicp2du5J4QMPcdBKeXQliu7ilqzjC7IJIh+2Z\n",
              "gb9Y5JBHq0fOwN2CbBKsq0Dr+i8MQE7EB2UYVVDKAWJZG9eTH1kRpqUqWEl8/Cc01yyBMvYzR/ra\n",
              "Ddu4Ke9Eragr6/dWRn1PQ77/1SDN3jk2GHHZ8el+neOo0TOqEVLdx0pTKIZd87b+ZixDk8bguZ72\n",
              "jcDLykSEtXXLDnBQDPpsqI8wC6IpUJckV5VbzeBx4KWaP4ATUFZr2n+0GHAHy6JCcQ3sVBiHr1Fu\n",
              "KYrDAqm7bZI/7/6647QcNDxZm6nOTAOqabCuFoGiWqE07HWS6rfW84Up4FKqNK4aSvOfRhwfwxdf\n",
              "pQYlCFNVyYITIwZxROaj7FBFr/sRaTOPrS9lFQCTee9S14aehP2oaBotMM0PveoroW4HVbp5p2Ba\n",
              "Kl4yuwnS8ySI+7u54rmWrCuzP0Sz2F95tQrR/cduIG1NJczeUhMh8bu7eIP8KAISyFrtFAnaM8oG\n",
              "a7wVbqAQoFcfT7XeHXYlIS8kNdGHxyDL7xCBKTdfATJMCjmx9AUu8YY4/K6AXykDbqTAsjB7DxkG\n",
              "ONqUoy0oNpqBQuHJM2IVccspLBWpeEcADuI3n3rcfFW0/mhCp++g0kMw00/HNiMkb19Pxik5O9oz\n",
              "i4mZWp2i3JOhH+mLooVEqGGyi/PMNsEG+hfI8G1/CguzIJKALkQ8EX4oxUy6EmtqUKJ1wgl7Xdwv\n",
              "mYqM7HKdZrvj/MIcbrqrcHGKTS9CPYZGCKY6Vy2hWpZc+3N0buuM5mfuVPJ+KavD9c3DL9ixVrYX\n",
              "q7K1psTrFSnUSpE78IVq5NGDV5BIoqXTa6VQVriD6glm7EO5a35mjz9V/i6Y4C6PTVVzBHngw0er\n",
              "/HrvZWzyQ0JNJnmGe6EbwM+iI3HMjEGCjOtiB0jcdSm+WSH8QJT9/5lo+At3lz0ptRlncvgwU7dN\n",
              "Kn9x0nFWeOO66gSGU9qZZgAMhV0/r77/DMFu16MyjtFMsG4IwVplJ33xk3Z9LyOryCFhLq4WdLs2\n",
              "wYa45cJhxteArmrLBUHZ6jRpmpuIS6Ruu9RR9eQtmNO6X7SjIxQcz186nlIvWsYxSL3/m9K38VwZ\n",
              "cBS+D1ZjtYEt3AEWjcuteJhYcxloyY4UgOB1EFgoAcVyM9qOB/YSflNrh+V+X36vHUdVjJABHHTu\n",
              "Uqb24vhX7ejbHPWEEHxt2/TWLoF6WUakXbxKJB3hkbMMA8oCL91L5uNaa+LUM5dtk/fvuguEJKJw\n",
              "YlfGVqnDVqfS1TCxd0NzCjXn1A6LE/brmltijPE0mffUona/vX+kUGVsrAy0ApPW4SU0s5EmIrVB\n",
              "wjvZQoXNk4L1aiNb8VS1OL+//deXWpdq9urr85zVwciu4QM4pUl77M5g2Vbxgc5O5RTgUZZZBaBs\n",
              "jrFYpTutYdFYQgLbAZqq9ObiM/doQOH79GqS4U0C/HFVgqTzK00oNUHcH0PFm3utNthI6WL3FTbj\n",
              "ohxvdHo3fByev1Ql7dFPBpycr21oPgL8Ki+JqUcsTDvxguNyOdqUigN7p2Vl3Uwzxn+zKrpPIX+Y\n",
              "8t3OUf8E/1gmiLskyYl6yO57AGOVWR8oLjTGkncN5NDn/PanqZzBxnW04skxI0d8r+xg/9rr2S6J\n",
              "zVg5B6z9OucLr2iqfzVjqeME352FKhh7CQw9rj9fQqyVB00QKfxNCWghbXNj6o6odGU0EAKPqfbM\n",
              "ijGx6F921q+0Px6uDEaTg+O0fI7zpnAERVaxKfCduEE3/vfy4vsCFDlRVPTkbeb9WpFebyFVaGPb\n",
              "HzMGdJJR9tTxtwgIt5I2XYmqId95TLd5marXlBWQ3CLfluj3BTLfdFgTC7q4hydiX2gnaKM1NKVb\n",
              "A6MxjZgZzRdwioLJuj64+V+533dYTf18atTfCfm83/SD0pEOACX/tJypbbTsWcsJ835E0B5w+V2j\n",
              "6BgqOi+lGiROVjxLHCIsTWWc36qwK3E4cAG9uY79bDxSj/lb6F1jXRoZpEIKZ2s08I+iTtUNHTFu\n",
              "vVrx7llVE4eRTTps29g0JN4KUAUZU126p3MU4SIvlEvXL8zp7rwOzg7jAY0jVkiHbnHw9rXAjjXK\n",
              "ej4GoatyijChMRTtAMDN2YVFUlxLNjFrjZ1S2nEuHcdwqrkmR5OECPYHDxxJKtCei1Sw8nqmbYy7\n",
              "v5VpnlM/mmkz0ujr9q6OLC/anowYrfPOI0r/4wSONKy9okb5GVzv1bMyA3starfO073al70FCoqd\n",
              "jIDt5f1dBLEjJVY2/H7P/hDMdzf78fawXBP0U1hLFg66AbfPOUcqTUTxpnnTD1/f+TXb45v5T/tb\n",
              "w7lHgh5GVbtYiw7OMYgCqe4+nm1p5uWvMOTqcWNYhIUmHV2bkX9Jw3T/iq4X9ShUBQqTHVXZajyA\n",
              "XBDcI70+1HHCxL3eDLVH1CWb4GQSQHGhGfw2IBz7e7LiZS2uVJJd+Yqta7JneS10v1Rle2gKatxz\n",
              "5JukVzx6LCJwmn8tHH88nkyojgdF1RXXCXbSh9vfOXicreDA0/EvWE4CNbrMasd1F+VZZnveO4OU\n",
              "0Szo4JiL9FLLHK5bXqIwFkOoxpcWvw8KwV48Z0eywO3xwcTPiBJdU90iJDlBhhGqrodhbW+tmfsX\n",
              "Uo9XRzjQkAdklqMLhKrQVzzqjZnoJqjQQOGdCrI49VBF4FRJqz0DWrmy5PKfaj993dlUe04aZYS9\n",
              "e7j8d59YkeXN9NCvwOGcgtihQ+g8FSk1zVNVPfYYKP+YILWwuOEFua491W2P1//N3GhkyE3y+6RI\n",
              "191a+IrNHEqGUDuRrSy93P3+MNiF/1O2m6ClwSPoCW0R8zwarLfqnYPJ0v8VtxyiVz4zRPptb8ZO\n",
              "RvQ74BlCrhs87Y5+kQXkHeFVqeyt9iXkoVQt9Xx8oa+MFkCP48/hFgGMW9v/7d9jO2bP1X6A4p2z\n",
              "TaTL6qMJZqPtXcXcYvq5gLhGC9b9OW3T6fT/0t1IzVN+v3J/6RYlLpsdjIoHpMNWdbb3utjk4L2f\n",
              "m6NB/jm5dm9lFuhrkMlPUY7dv3TwPJ/hCEz2S8nTkdMbqVTVxTrLNC30qhvbzn9FHC+n5J2mZjel\n",
              "mJn8FUBJoqFIawllMDU56JrK0ovnqeFbrEyUubbGA4F+zUP9COf4XuqkPwVweltaqLgw820lBtDN\n",
              "mfN1PPUhumJUSGCHhXheY+/6fvKor070bgaL4xjxN3sNt3eVKn3zgojJWZFNCzB1T1Ao9x8kart6\n",
              "rKq7f4QpEjdBUO2qIKExA3f+PpwKd9zMhl5cHUZK3lpM0g+wAD1IzWAIpCfR7RE/nUK36H1tbKTi\n",
              "3v9Xyrfyu97/k2zrzUccwBP/nkogUNtIHphPt+pbi4xkJCi5BtUacG2mZ2ZapgzbHC37MjTqAHw/\n",
              "EpZ/6vhJszWgKkR7M9DZNxhZPogw0+XIEFaI/ewZcdftm7JOEZmCcniYNC2xLP1javY0cr7dqnaj\n",
              "VnbnXMnXBIJjd1nYQV/d6xb71RXPd0BN+VG43XPT1K1b6LuGvmLceuKQ3bq3rFLVPZQFwuANRPnU\n",
              "1+e7UzILymg5DUXdJBdP8uz5yGSJnMCrhE4FxwnHRgl+F6qGiRbweXiz9QzlTmTN4DcnwqkHE8iM\n",
              "rApclWYcqyLLn2aCs4O7NGzTIF7Ti4hJZBbcPI7QtzzP5EcSCtCUW8ulXqURE0ZH87ByRel3m60q\n",
              "HSjLGg4AAACEQZ5BeIK/AABrqcWdxcYuI9Mwe4ENrl5LgiZyFFUoJ5qH+EFXJmwbGyKLnX3HRj7w\n",
              "AD+OSv5FhWVQqUK4NtSSbNEhpT/LxsyPtxlyB+Asa14bpvDmXCSoTHrQKery8/Nivn1vcutqpb+l\n",
              "9+9Wimu2/52+fb2C1zt1nyCcoGq9NRaQWomDAAAAYwGeYmpBXwAARSe1byf1WdNEWeWOKtb+rhrN\n",
              "32I5JK8wyoXdACEWNnx89namN0YOTF1aoBW2VBp/xAg67oAVOko2yzKIHt9SDYue7Azm0ITtqkJH\n",
              "jR4+xa2YVS/7jWsaAKBTQAAAA1dtb292AAAAbG12aGQAAAAAAAAAAAAAAAAAAAPoAAAPoAABAAAB\n",
              "AAAAAAAAAAAAAAAAAQAAAAAAAAAAAAAAAAAAAAEAAAAAAAAAAAAAAAAAAEAAAAAAAAAAAAAAAAAA\n",
              "AAAAAAAAAAAAAAAAAAAAAAACAAACgXRyYWsAAABcdGtoZAAAAAMAAAAAAAAAAAAAAAEAAAAAAAAP\n",
              "oAAAAAAAAAAAAAAAAAAAAAAAAQAAAAAAAAAAAAAAAAAAAAEAAAAAAAAAAAAAAAAAAEAAAAACWAAA\n",
              "AZAAAAAAACRlZHRzAAAAHGVsc3QAAAAAAAAAAQAAD6AAAIAAAAEAAAAAAfltZGlhAAAAIG1kaGQA\n",
              "AAAAAAAAAAAAAAAAAEAAAAEAAFXEAAAAAAAtaGRscgAAAAAAAAAAdmlkZQAAAAAAAAAAAAAAAFZp\n",
              "ZGVvSGFuZGxlcgAAAAGkbWluZgAAABR2bWhkAAAAAQAAAAAAAAAAAAAAJGRpbmYAAAAcZHJlZgAA\n",
              "AAAAAAABAAAADHVybCAAAAABAAABZHN0YmwAAAC0c3RzZAAAAAAAAAABAAAApGF2YzEAAAAAAAAA\n",
              "AQAAAAAAAAAAAAAAAAAAAAACWAGQAEgAAABIAAAAAAAAAAEAAAAAAAAAAAAAAAAAAAAAAAAAAAAA\n",
              "AAAAAAAAAAAAAAAY//8AAAAyYXZjQwFkABb/4QAZZ2QAFqzZQJgz5eEAAAMAAQAAAwACDxYtlgEA\n",
              "Bmjr48siwAAAABx1dWlka2hA8l8kT8W6OaUbzwMj8wAAAAAAAAAYc3R0cwAAAAAAAAABAAAABAAA\n",
              "QAAAAAAUc3RzcwAAAAAAAAABAAAAAQAAAChjdHRzAAAAAAAAAAMAAAABAACAAAAAAAEAAQAAAAAA\n",
              "AgAAQAAAAAAcc3RzYwAAAAAAAAABAAAAAQAAAAQAAAABAAAAJHN0c3oAAAAAAAAAAAAAAAQAADUk\n",
              "AAAMnQAAAIgAAABnAAAAFHN0Y28AAAAAAAAAAQAAACwAAABidWR0YQAAAFptZXRhAAAAAAAAACFo\n",
              "ZGxyAAAAAAAAAABtZGlyYXBwbAAAAAAAAAAAAAAAAC1pbHN0AAAAJal0b28AAAAdZGF0YQAAAAEA\n",
              "AAAATGF2ZjU3LjgzLjEwMA==\n",
              "\">\n",
              "  Your browser does not support the video tag.\n",
              "</video>"
            ],
            "text/plain": [
              "<matplotlib.animation.FuncAnimation at 0x7fd885d54a90>"
            ]
          },
          "metadata": {
            "tags": []
          },
          "execution_count": 88
        }
      ]
    },
    {
      "cell_type": "markdown",
      "metadata": {
        "id": "KrJ_MFaAbIsr"
      },
      "source": [
        "## Plot animation of livenspiel plot"
      ]
    },
    {
      "cell_type": "code",
      "metadata": {
        "colab": {
          "base_uri": "https://localhost:8080/",
          "height": 421
        },
        "id": "40TcJtM0QbSX",
        "outputId": "34b9128a-99bd-4baf-c4e6-303a2e675be7"
      },
      "source": [
        "label_size = 20\n",
        "X = np.linspace(0, 1, 100)\n",
        "Y = -10*X**2 + 10*X + 2\n",
        "fig, ax = plt.subplots()\n",
        "ax.plot(X, Y, color = \"dodgerblue\")\n",
        "ax.set_xlabel(\"Conversion (X)\", fontsize=label_size)\n",
        "ax.set_ylabel(r\"$ - \\frac{F_{A0}}{r_a} $\", fontsize=label_size)\n",
        "ax.grid(True)\n",
        "\n",
        "\n",
        "legend_elements = [matplotlib.lines.Line2D([0], [0], c=\"deepskyblue\", lw=4, label='CSTR'),\n",
        "                   matplotlib.lines.Line2D([0], [0], c=\"steelblue\", lw=4, label='PFR')] \n",
        "\n",
        "ax.legend(handles = legend_elements, title = \"Reactor Type\", loc = 1)\n",
        "fills = [ax.fill_between([], [])]\n",
        "plt.close()\n",
        "\n",
        "def livenspiel_plotter(conversion_in, conversion_out, choice, X_data, Y_data, ax):\n",
        "    index_in = np.where(abs(X_data - conversion_in) == min(abs(X_data - conversion_in)))[0][0]\n",
        "    index_out = np.where(abs(X_data - conversion_out) == min(abs(X_data - conversion_out)))[0][0]\n",
        "    x = X_data[index_in:index_out]\n",
        "    if choice == 0: # CSTR\n",
        "        y = np.zeros(x.shape) + Y_data[index_out]\n",
        "        fill = ax.fill_between(x, y, color = \"deepskyblue\")\n",
        "        \n",
        "    if choice == 1: # PFR\n",
        "        y = Y_data[index_in:index_out]\n",
        "        fill = ax.fill_between(x, y, color = \"steelblue\")\n",
        "    \n",
        "    fills.append(fill)    \n",
        "    return fills\n",
        "def animate(i):\n",
        "    fills = livenspiel_plotter(env.X[i], env.X[i+1], env.reactor_seq[i], X, Y, ax)\n",
        "    return fills\n",
        "livenspiel_anim = animation.FuncAnimation(fig, animate, frames = len(env.X)-1, interval = 1000, blit = True)\n",
        "livenspiel_anim"
      ],
      "execution_count": 87,
      "outputs": [
        {
          "output_type": "execute_result",
          "data": {
            "text/html": [
              "<video width=\"600\" height=\"400\" controls autoplay loop>\n",
              "  <source type=\"video/mp4\" src=\"data:video/mp4;base64,AAAAHGZ0eXBNNFYgAAACAGlzb21pc28yYXZjMQAAAAhmcmVlAAA7Q21kYXQAAAKtBgX//6ncRem9\n",
              "5tlIt5Ys2CDZI+7veDI2NCAtIGNvcmUgMTUyIHIyODU0IGU5YTU5MDMgLSBILjI2NC9NUEVHLTQg\n",
              "QVZDIGNvZGVjIC0gQ29weWxlZnQgMjAwMy0yMDE3IC0gaHR0cDovL3d3dy52aWRlb2xhbi5vcmcv\n",
              "eDI2NC5odG1sIC0gb3B0aW9uczogY2FiYWM9MSByZWY9MyBkZWJsb2NrPTE6MDowIGFuYWx5c2U9\n",
              "MHgzOjB4MTEzIG1lPWhleCBzdWJtZT03IHBzeT0xIHBzeV9yZD0xLjAwOjAuMDAgbWl4ZWRfcmVm\n",
              "PTEgbWVfcmFuZ2U9MTYgY2hyb21hX21lPTEgdHJlbGxpcz0xIDh4OGRjdD0xIGNxbT0wIGRlYWR6\n",
              "b25lPTIxLDExIGZhc3RfcHNraXA9MSBjaHJvbWFfcXBfb2Zmc2V0PS0yIHRocmVhZHM9MyBsb29r\n",
              "YWhlYWRfdGhyZWFkcz0xIHNsaWNlZF90aHJlYWRzPTAgbnI9MCBkZWNpbWF0ZT0xIGludGVybGFj\n",
              "ZWQ9MCBibHVyYXlfY29tcGF0PTAgY29uc3RyYWluZWRfaW50cmE9MCBiZnJhbWVzPTMgYl9weXJh\n",
              "bWlkPTIgYl9hZGFwdD0xIGJfYmlhcz0wIGRpcmVjdD0xIHdlaWdodGI9MSBvcGVuX2dvcD0wIHdl\n",
              "aWdodHA9MiBrZXlpbnQ9MjUwIGtleWludF9taW49MSBzY2VuZWN1dD00MCBpbnRyYV9yZWZyZXNo\n",
              "PTAgcmNfbG9va2FoZWFkPTQwIHJjPWNyZiBtYnRyZWU9MSBjcmY9MjMuMCBxY29tcD0wLjYwIHFw\n",
              "bWluPTAgcXBtYXg9NjkgcXBzdGVwPTQgaXBfcmF0aW89MS40MCBhcT0xOjEuMDAAgAAALGBliIQA\n",
              "F//+99S3zLLtU2+2C6j3op4mX0N1JQGblsTtOoAAAAMAAAMAAKLUhF9kdgs3FsAAAAWdQT/hIY+I\n",
              "KnvCx9eWEzE44uMV/cjY4OqQU11fgT4lwKEQ0eXSP1BneYBQjEeWNz9caz9hm2e9Udn5J9Hd81+d\n",
              "P7zvxqJwlecdFi9+WO1sjsdaJxaRYQLWYaIl+VtuDr7KjyXM9JpeciN02fJZYX91YwCakE10uQda\n",
              "Vt3AJdWdn8Vxx2LXZx1LkpYHd9oYNkYnXfpSDaczCy4covtJqSTcaHmbsoq47FjHJ45RDnhXY03w\n",
              "YKYhE/TCdMY7AIDQmE+lb5hj8mBJ6tl+EvMtl9VLTfx3ul72r3zv9xwYOV4myu/7ISceubxnpszM\n",
              "K59DF7Z1lSzCJRZQOrOKl/GXJElIdDrZa+++VeyLoL1TzQPoU3dULfZdP3E6hHoaoEiBBWOm5cHy\n",
              "lS7Pci7Dzt8kaQLuEkYB5iRmK6f6BnNx8bXt/fJZYX/kFxylHYGetYCtw2onyDegLWFJ0fGpcTDu\n",
              "Vp/hT6w2y8oHfZVglEwrJjaLz8HdnD8cWxowIco2QxBEKS1ht6GlphEEH7Tv6dyzO28TFn8KgtxC\n",
              "Egi6mdkNMEw/GczRn3erXHMygmOg+HNoHm4YbxUuO+edX37nR0DcVIkYlBZOXge1L4+9/mztv1eO\n",
              "osDJ583dW/zIdsLg0xUJBH8rW3yUMbLttk8gewA2XilJuS1L8IME+o1KVBkMT7/ZOIS1MY68imMq\n",
              "Yv6f/af9hcm8aFPqeVBo4JXNkT4Qk2Xflz0znXqG0w5ga7mOcsUYk+Bi0GWVHS9Sa1x+eICheVnQ\n",
              "dgLtj+IQb+ZK34MIkvam0/RnFB9eN/lmv2ENa0sD3nUzkTfEldAbJaqmb+BwngjsTr//Ty7nS7P8\n",
              "H6d30zTWxIX9Ss3+WWeBzeGBkFJG3COrvLnYMtMBZE0AWCmJ6rJZ2wz4mwtDvAVogUqxsAr8BdrF\n",
              "DWjZBDcTprQhTsAaT7Kxo/jZGtVYKh7aJgeMamdxtceTSWcPMRA/uF8Udbtxk+lFABsAytDWlMeA\n",
              "h6D4E4+fD7X4SexUuLoyf+ebu01XxiZPLdEPJyqy5DXZke6gT2fdF3/O8xcAxZstXawDj9N3JL+h\n",
              "EBJ5DCuUxwhwyZILCtRItHriEyuY16x9GD0Q3uJJuDwU8jskIO9HRqMB71CN542AO9TBEaEX170s\n",
              "Crvrs5MOP06Pz7f+N+Nac5RyPalHQtg2yVnYRX1DqrkJtvfHT7blZuyguH3V8sOd9oEykzId4kQb\n",
              "LsJCpUP2MlivbBBHAUpdOezVLQ1oF8aHxa+nenn08Ho5nNL2kYK2xKb4BSlcLp/WokfOoBwCIHj0\n",
              "Zw36Cr6LQHEgMGwxC0SzEJz2ImhuKUD+i1dX9B9lZOQxPAPudaPNXwi9UGKqVN7Wi4CkTCvLlkiD\n",
              "2ItlOwhx3RtOcq0qxfhpkPLVo8pbVc0ih7KmQ9yL34hDzMceWKM+eBbnzb5OzewVHj6rG7yB7HIg\n",
              "4QjbXkNhKR3Em89Ox7rwJGgt0HygyRQDAIPL4xQROMvQC2iuiF28r6rMdhHjH+IuZuMuTqId9H5+\n",
              "N4vPnaMe2B2Pwatqq4bNYQgLAEWK+Gk6LIXwAeD0lmQKuEWBPRtKh1N1G17eVfVHxS1YxGDHWSel\n",
              "GiOuGMlWI6D1autWEilAUp2CF5Xzx/R5MxpE/KNdErBb3veRflixfQcdHSPjsWpWRttObDpQ/Ojw\n",
              "1NkbJNi3zi6eywxqDc1klY3W83aXIGlSauUtKAvp/6qgVpS1162kVUJlab9FZsH+pZtFiYS6vhy5\n",
              "Ssh3PYMVi/+WrdK5gH9gLMZdyU53lP72qqoG4KYStVSV+H9sAh7O7ljS+vG/O6jOHYgqbUkiMFbz\n",
              "mf1IQssNHBunmHFdHC/t4WYQyUQZhraGMoMm8MbBeA5yNNfUfqSp86p4sMd+fi6yg60ysymPucbS\n",
              "gXYZJGJm3R3PLxs+71FZIZBCr1KTns46tGeo8V75Y8oWWtPDfqBjM3WdBEGvzPmY8rYwqTbQ4beQ\n",
              "mo/my2ff4Tk7f9UE1sySHVMit7DQaWWlrhY5ejPSyhBZ+acEKVb7lMFvh9ntEreUixrCnGWsR1cF\n",
              "bQ6/qAX1Qr6jAC2JNNzf9RI+k0pL1s/X9dmONNyk3q375CzzPgUs7ohGImME9cMpAEVZRBE7JcbF\n",
              "uGgwJfi/kkSx/GKa/Efm3q91Nsksj99ZwRx+fxuxGnGJrY9I9YNz+A+Kb+PWwkGQS/s5libBs+1r\n",
              "/fffWoBi+PZpdfqe39lvC/QG/aX7VnSR6DqjU/FMZVqlsvZkzWku51YJYaMpLSUIWqwwvM5XGzI5\n",
              "Lw85Q5MZpFQStp3O6ATlIZxHXvREuHeYFxeSZ20/geRA52ImAZjInw/s2QLRFtXiPbqYpDzKWPeA\n",
              "gPwKxy6L2wyim5yH29CdaUJ+bkCQ5qco2Lc4Vsmz4hxM8D39j+zXjPn2Mq8qii0XJhJin/8vvdpV\n",
              "6fKZrx3nqW8B20S5OxPHfLfBIdc8QnoafvWJ/H53R5J5bQTSck4BYHraOY5U4HGE8Jj/ly03c0jM\n",
              "hsrciLzQGZR1y/hrp9yxSY9wcj7wF4YRq9agmVbSjhmrVQcgv2dcAgu3zLRcVqzBDk/GhTvnisa0\n",
              "mdfoFAew0enNHrNH4i/UJAXG4QkIBKzkxt8iJnxsyQuXM4bV33FvE0CjLjiowcNshJ1gGqsPBTvk\n",
              "vSJBnUnmbBlMS0IjoFMypj9F6EDLtasHtFox0DZVc7zn1B8WQbeHU4/pGoeavBa7R7jWDBuCI14F\n",
              "nobRlbj4xJjGkhiyVBpCwAvx2w19jMHma9IraWkaMSVZ+z4nGSpMmffv76JVaCS8FIGHUdeDT8sx\n",
              "3/9t2yf3XWxJ0/8i1GVNKF3dwBB7OAUH3u+AWHQxRqrPKbihMcD/o8ZyxkZTXCehHsRHV1R0O17w\n",
              "uEilFyPNkIXAhtzyxSrRn8+bobqFoYAhT6KBtVOb631RqQ+QlliP+mC/8t6gOvNY6s0yHjhHqO7v\n",
              "1DyCeE47z6h+YvakcRYeUH0JDuDLHwnQPdfgKt0izo4gx3p/C0gHDrIUCZMjYTuv+1XcuCPyr5rJ\n",
              "kc/eHCJj+Lj54rnmYozPuW6nRHw+1vWBtyA16+l2Y6CaUPNLGaGfBokpzSsvS2OATEWBqszFztEk\n",
              "iDSAiDm1unTDYXdMnetMpjwDIAOFRX6eRYrXYxv4enF2Uogyy/ZUqYKW3SKpeixV2DdM1MVpqNMu\n",
              "esTmKuPsB0vakSZcZLsbfsoD4Ku7OpjFH2D7JiKP4Dw+aNY21JYLg+1s5wT784qpOdVKRbHWPT9T\n",
              "mOl3y78o57hmUyy/gTDPPWwmsw5+uIIHGy8CIVmav651G/rdUx/DJeJL1NX5QW/LRj8qvaQimAJL\n",
              "otHYPKCjZExYx49VHpiWZADKumTcCB8f8Q5SICoY9Zyb16F/RVSqZRVFsjJg5dvky9KqVGwmyRXm\n",
              "AryXeXcrO+H3fVpomls4ib49fn2I3VGPxqnuxFTPPfm+mcpWx0pLJm7Jr4KCbwQyJXUSpodeoHZf\n",
              "/mdR2kHTPPUE6x6tpDVaEobZ5hP7ZLdm9h6tCWWvrQAyIJZEL3jP7yp8GGgzfmTOFEq+DFTC3i9l\n",
              "5YvDl9hxIh7hz97Hbh5VylxoxZTd87aEGq3o5K4jZ/gbDg3ltsyQafAvLSDIIVvOkO0HQf7oaV3m\n",
              "TpMn2C+gjWGNYnCn/gR/Ls31m1TEHayktBb5MWL9eVIV4Xk9X/xafv+g0++u4JWXTFiJAi8yikL7\n",
              "Dgvq7oEtoTFk/51QEwsjHWXRvdO53ikwDNmyX7PnslL0phVk/EDaBt/cq2uJn8k4tyfkfjR/IxTJ\n",
              "dBFz9VffldUnu9L8MxcN+vvb8TCqM+vfbwtYBa+dePjEBkgHgIBkguGd5IIGBhReKEwtO0AXwDuy\n",
              "Z1+2Sk9MqYpn2/tmFpYP6k4KbpRBsQA9CV+H+Ok6fjzJbEr/XHsM+y27vnPRgVzzL2BC5AyCrrsB\n",
              "TkbAo59uE1v5UAY0KhIc5QnCGP8FegZcfZjY/uoRtU+9Lt0L/59mq/fjUwzHCg0AtZu57AfY3tUJ\n",
              "bFk70uMy99xEvyfM0hX5143aNcVJn3qzZTAQRqZeQAh3HK7n3RMbEOny4U9H2SQn4C0gjMfjJ7jz\n",
              "sCs8QyDkZ5vZyj3s6KVssYIWVX5riVvFNEgRKT3E50hUr9C7N85Gczc80pccU9MZUQzi+gQ80Rqk\n",
              "rRbkmxTZ7dDVJJXmZIh0JL4qYgtrnxoBhooNj7J6eYYk/SNRJjKzNwmugZlaFBpaQrGqr8nV1djN\n",
              "En05Xrxr421bBRTCLoTXwtNH0/j03uIvtVyJGrkfgtfqVgqkiqDXz3OXG7kX4YctT3y6PtHBNpfB\n",
              "CNuw0rRfusVNPsnDIFdP4t2PF/lNX8IFRyKJQMASOlrRKYnfXUDTYWW8ePpNkf01pBJm8c0wn05W\n",
              "jhmMkGE+gKTgLwCCiLTfewEm4oy9olH09ODXXNEOZ4NbmWRtKxtIOeC6j2OutnmZ7tsfMXVBAzAB\n",
              "IUl7af1Wsdv+QgHd+INQGkZffh8gm6LawYkcX9cQ5Ba4muMYJkOW/uTPJZ+9EP5ZFA56ZmB0wpZJ\n",
              "e9gahW+IBLbYgIZkzp14sWHLkhyn16WKm/vOJ+OAAJKfvPSEjuI6+Fd4loHS3Yf47poMFcf4PUFO\n",
              "7ClNmTmhy+4Z8Wcx6Y9bsr4UZ48pNALbEH+BalxFIddQ5jwDrEmnYxwPZsK05eAACvEQW3S5ntoK\n",
              "dLAYTPjvJSQvUoYXnxDe5pPiWKkbUPNylpvaTlLtNcjLeVNToTuVLTT1pNBUymnEKthntMY1qVvO\n",
              "4j6wsXLfEWg/KNeK6Uk+DePwiqzBAHPwVFHBgQu+ibjhrJfjy2Gj5ZT7qnwTv8za11K1WMsLB+xr\n",
              "dO5QtHffRmxIbDDoQHUyvCvshYRaoNpr1pMHDTtQKPgd/H8zXD+4B4rwgj845idm7CQuKunSdrIr\n",
              "+3iWVmmPfFnBxWHHKbMlgUavypdQK+boCNYXxvbweDt7DN0YZS4kqvksRBpOmd+6KKx3C7q0ZS0C\n",
              "hbDutCSXx//940K/sXhUeldsi3XNwHJkl5rmTSU4TWjxTGc2Qmpth3cWcM0lfjTelOkr/4NTH3gM\n",
              "AzfMwY9xJ6UPlvhklBr2uL4h4UU4HElBBbzIYx8sWWK3g/QscRlYmGmh3XPaSAXdQQoLs6SqyBQG\n",
              "xtAtAHmeRxRsIe+/4mG3CLGdWDcxqORFW29NYKBR9WngeUheAgF6uEwCyL7lzlDN64drGE95eNMp\n",
              "c2/xRUW/AWD7cdUOJUhhjhJLGRQoB706FI4pi+sljuyiF6Est165z91H+UgsDqrujFShKZLD/Xa6\n",
              "NFtVJlSdTZMEeDljtSDEMJAQUEA+MfTtlOMZIDT6ydySM4Vq9P1DVNqd5hsEqlS7Z/CF4q4QHyDq\n",
              "6IAYhkfv+ECK4yxJpWrsDodQ2twHsUD6pBY7DL2z39/Tezqj9Sk9kXblaqH3NqT+HOTcYqThg2dP\n",
              "ApYUmAuddcPBUfQLxlHnX25Sv+PNuhEeAJw5z14+vhCFoxLxCM7KQkTKnyoFGG/QmpiB/kZXPZ+a\n",
              "kGNbDqS7XYf0pTe/4d+4a1SpbvzYT1nBh3GNm13nsjyAZICdQ3Uj4szOw+f/mz8FafftpDPStFA0\n",
              "Dw9/a3ALuN6EDpO4uCOfpH9Gve9hYteX5sUHjcjXiyVqU0oioE0lMySYtBBWrHbprJUAIQb4KnQ7\n",
              "Q2/DDCGZsA0j5qbWZ+9wArgyNEZ6EC+tfnvKBtkwf9ZrMp8Iqm6Tn+xYOAsYdcLkRecwHRbPKQgU\n",
              "6IVCx1vVTLtQzyRJBHxG/LAOzbEdwmqgrK7y0lJLyAYXG7QPE25qZre01CgtfuH4WUJW+2I6IoZH\n",
              "bNngUYvNKVtDtHgMZCi2KArU3ch940YQrkOnDa96pVcDDoxwmJYH/I5NHCNhaL993/mE6XYXAO6B\n",
              "vT+o9Sfsdp0/4R4YZJRwz327IO4gHaz7G+lSuWYOauRaFVnd4gRV8OR7hgpvzW14Np+BmV6qLL6h\n",
              "9zvzuXXpBoPTPMsY4qrvJbKBl2sg1lCGqjdh/fjDO1sADipAQZLPe8Y/Dq4vgObqnpJC2/ygsjAQ\n",
              "5RktfbyL0AVXW7gqY3UBIEPpIDdVRv+9d/NJfGlnYehkQRGJ4SQLgH2Qc5eDA3raT+UgGjm+HR27\n",
              "ZM2CuG+PUz5llYySyrcbIfd5CnMU51CIponsUc5UNZSfvBqrHml5taEYI2LqSIl3nOzpCZip82OE\n",
              "VS1XDgCQVEsfPJVbmVs7MUF2qcsn4o2ayNA9wSGw14EugaVTQvwkKJlMd54J+x6IzL2A6Smo4ut5\n",
              "tCvre51OOUKi311x38aVh7us4BjirsDiCT1Z8bMdzqpbZ/F5GLnJoW6baMfRHDcId8fTWd9pnghB\n",
              "dp2WDYPYiHrNXxYDg2yNsRAFySF7GczNkgwKzeuXxJMcRQOah5dsrYY4Vk8zp0ktDBTgtQIkPjCj\n",
              "Lh9/2YwYD1OlHNyF4KnzJ2jBeSotvmu++8lsmOp/8oWXOLt252WG/9QgCqV5/OSc7b22jGvmf0aY\n",
              "TBaxQkFQGvBAfeZwtJg+RjdiJH7ofsLNXqA0PkOZJEo5S8DyYM1R2WeZOW/xXalMLoJIMrgS5Lpn\n",
              "V8YowY29GyMDBy0BFQi2f0duIvhrNu+Ur/wuCHkn6ZdgXqVkQQpfbSedk8WElCLgFKvmBnuY+wDb\n",
              "POh/ldHxkQUauDeSeHsBMfdgIN2sgAGMnpGuU2tDPfXWi4sy4VwaROOh9nr/jpZfzB3o3cY0/TBB\n",
              "3s4UwQLkIccxmvA8jdEtXVsmb69wavo+ysfJcYDy3//f31ZQzMZFd7uIgW7CHHHU139NmFO7vn5+\n",
              "S98V8psKTup1YBaONAuftgJ6CoowtF+Ll6RWxprf3cU+ObpKZqElYFiU8QabdLZN+Z07a1xnsiEE\n",
              "jVwLL0jBNgEicCIhxfgP1X3rvcJt9Hm4bca/wkrvKVvUlAsP46oB/hhcAi+CpB3SORsJp1V0VhA1\n",
              "jj01ZSQeJdvD+IFDqQT4D/EnUxLPeDpbdVlHdD9YDymBaUE2kNvIkVHdaE0spCreFWMN6jfrcno3\n",
              "bGIM6fLnhPTlFFGBPScYxjTCxrJZO5MEffoR7iOXZ4V7Nil96MJjxElwm34d2JUWFZzUGfZVSykT\n",
              "tclliVZg1eUuQr2I0rOt9Zup7D3p+q5vUJhmVb/kyfBOjS0iJiPbfeXAm4YrlGeCOwc88enHY8Fq\n",
              "cRyxZvLTMEbvtKWnVSJf0lDY+pMFT3P+rGQTxsedi4zwFlt/XM0UvaPfDqL7O+P0wLzKuHmAe8T8\n",
              "+03wXp0N0F2N0TjozjkWn3Pxdc8zN6nBc4hxELV9KdvUUJTEOaSqOtIWSKj7rUEOBnoprOhYXih5\n",
              "s30TooAz9zg7wKzukud4CWA8VdmGqAb+QUbFdkB++rZs0kF5l1GGcD0T9eQrxcHFcxh5zbtt7APR\n",
              "lH39IH4cwuC1bDtM5BGOLRyafYXBRWj7em7cWdqEB8sLtBACC6XyTI1RsFH/bkvw0/D1+vlH74Cv\n",
              "RkOiWTZf0UnW05clTaIZ37kyVzoyV0aRgpIQ8c8PyRPE9KjaXo8TBZY1CQfEpBtZUkdpHETIDfjr\n",
              "+Pz1Ybpy3tBDSG7UVmTwkpH3qXd99TNNwXSqMDI/dKvthT2xdvZmMSogTAVSsCywaojP8B1gi6t4\n",
              "56nDVC0PQdnFgkObiRpMIpEDBnZXgedsrrr1diV2s+46KYQd18HiVetcBQb/tpM4Oogf+dgLWgC4\n",
              "tO3S+wABdJqn2ws2GwU99cwEC/3GObE9GclaXOZewjxLkVZZjGMPIOc/s5kIebYr7u+IlF9zOCiM\n",
              "s8zcR0QXUnJa/cX//03xPsNPKopzrXBiBHUhOsT2j1KnhZMyI+8YDKKw+WtIQ7+AgKcO4GeD3h0O\n",
              "x4J8woAHKBCxQwz/YlvnOhyCdfDQIvmOgsnV69UsmL2n7O4vaRFKEEx3293qZc9H2r3rxbuP6sqc\n",
              "/mSV1ASLhGyj3IELHxAqWZdem2V4Kdm2dp/AF1ZCM2PmJnxRT3G2sxUD10NU+HzJD91xSBJ/FJdR\n",
              "3lU9p1XjK8NYYLL21gxFrFG2k3T/lNEtF85mxuNVUMeDpU7eAvx3sZF2Gup2waqBjxyd9nMwqONv\n",
              "WeJl89Jt1Uah/lv9wENqbYCnJIjD+rUnMSqF4PCr0bdfT24AsT0AX3g8X2LPanPrfIKx7l5bt12t\n",
              "pw0BByfFYPPRDkSjjofucLksDxDunKfneDf15PPxyx4o4TElifPfZiKmGN1dUyFveIN4YAAK8fge\n",
              "czdGa3TW40Em/ALhWqVy+d9RRa4mslt2xRwk5jHnXTvtQ8bM2yDkEZYSKPHDrzgyvogJcJhoLMKL\n",
              "fj6Ah4rwGwe52nqKO6Ec/xFraQAUmZgkIGXrw7EhenYGXzy1iTz0l4WnSLyiH6RI8gKqeXORahq9\n",
              "MWlvHJ2+u9xFx6cz3V3KYJ6EZ0XSn/OVz4UTu3XARRfZf82DbOHgodR9QK66hhkzJCNgef7f2UhT\n",
              "F52zQIT5tAb04ptQh7gRMBdSnU/8bz1Wq5ph8v8lUDeWyKs50WLfHYNTDHa409XL9Tm8N6fyUKSf\n",
              "pak56CugMHgRTbHxqq3qGWnLlngD0+B/eGO2TVLId2Q4uB6vwiWaKCf5wb5sNrenHncjfOWTBf27\n",
              "p/TGUygWFXmFMOaBrXQMr89TjYG5YcBwqZCx4fSrV80M0ayuVxkAx/Cl8KoTaP2qrTPhILBLeIRq\n",
              "Vy2jVsxjnssSdRC0nSRH2TiFHhMgudv9+fGcS2nHFqhocV19b63BROR3rzxJoq+wABFD1bzW/m2E\n",
              "SL9dL1uvgwlOUJplpI7/JrOdMk6NT4lPjMi/ePiMX+q0auQQ4N4VlDi47LTCy7/2TbfgJuNMOdQ6\n",
              "nZOzjOcWcOnL5SKP8z9wpYuS140SYOILGhois8ihEL+dsZMCwdiSGIj+84mZj8xTejxtkZgvXza6\n",
              "OXzruNaGTeuB2x+clkEVjDYxT7gblC6oGNziIOMVlV4dpVi/ker9zV0/VjroO5s3Vc7iJDwZbrC9\n",
              "bUCCpGiZR3emAJjN1zQs9xco7OnaVepPgL0sHGHZIoEpF/QU0wiI2G93ReK8ulUlz7SUqMRv7TQ2\n",
              "ISMFb0UhCTrxWxAkye/Og/YGbb5DqGCt0EgjhHhg9GN4LGXGBgK0cquAHLLbs3jBlA4e5zUtiO2F\n",
              "C7BR2U4wjSe1DR1UY5b6UYyimXWPhpQbQDHq/U2hhqy0Hv6RR6dOp1yvX/jYth8a/f21/UKC0sDj\n",
              "sqFrcuqGYmaaj0NQOajUiWo/OFdna3GY/tkb0Lt2v+Jp//FMjyEUePKS+jhGlsX8jr4nweU1mptN\n",
              "JZ6lh8EZMxYFgm/22LBwz4e96lXZ6MFXIyf/IQtV2r9f5F6zm922DK1AvHsbU8xALduvhU+KY9FD\n",
              "Dq2TxoDA6iq51uYGW2NG5IKjMdPl68eMivxEE+ejLJUPf0UqV9Lrx/LhkE88LYa0LdCtup5SSeP9\n",
              "siCeFALL/0Kz1lVsgFONgWMHxhZTf+H4uhAQkGPoolO2s8jT9QyhKvpsOtbRnfbjw25Bkf/93vHH\n",
              "bZWcw8w4/CvR1OSL1cvvV7jSDjadAKorvC2NYebTQiQJzX5i3ntI4yp2eIFUhS0nWn4H6s5EM57L\n",
              "8U6adCMUK4+AUX+SABXOWzKyEkpUbXDWPMWFo8G5VE3zQWRZH282+C7//RxdArETDAB82RznE5J3\n",
              "kQVoCwI1BWK6MBXCdEmdlXFDNijqeKeZkFeUeXT+VBbFXuK6n8iNDJ9HtYOmZbVHOQKHmQ8wcB8I\n",
              "j5TTUXwYZM/7sZQkZ9/7FUA12lwCu7Ai+FM+2xHBsq5KanL4+eXAlAAA32o5eKK0/sSAPK7gJl4J\n",
              "9jtdZbkdUIz7FnoGqxT2dqokyggjBJgMVwld7uFptJlbij9U0NINwphvRm1gcQMEc9TI9ffxgqtB\n",
              "bLqB9fwxu+ruMAU8M+KMG0aMlV0Nre2epYQyGSAhdbErhx1KiS944P1Tvak0lAIYuU2AxLQa8UqG\n",
              "MC/SzjYf4771UqLmaznpWiHt3+MwtHJ7RRviRiC24YDnDWnird5iFv6XwllqS2LNmcYfA+tcY4P9\n",
              "FNzAndccbwEBh+UXNXqsUc61kGAEv8MncfW/K3DRKFcy5MaX2/RIl76UoADoE8IS75uto+NYGf2A\n",
              "UZJp+har+G6XtOmOhzwFP0CrzQlp64tMMvDv55A+x/9KI1CaImOkjRjF3GC+BBhJHVSeWrnEqY7q\n",
              "4nK8JpOsZySFowiAg35L862w0HVhVpGqm5mooYbJKUZBlwK3nrSvqyYhhuEpTKwt1Ibpe0IdtXUc\n",
              "fl3T7uJvMUe4hBd1ZxDsU1lnRbuZoYcFjqzAoR0RkaoVMgrHGFQEx5ocz3nAkCRBEYAHS6ZlRE4X\n",
              "KxXqu12ICYdX4+zi+rHbTuezuJo8slr5Ajyqo+m3u3GeWAjp8fRlkrv1xGdSSV0Z/4+QfPQ0Afdx\n",
              "0mSyXAB1iglIKRUHlmFzXpV8HFnPCg/AqmPulzWQ10qluHohuWvsHOOdFX6sauOrfg15WRh5YJny\n",
              "PAhpvV9vgki9ed4Fv4kKtz0LNiAxYz2yRwiTMKHegPNnRTFIMAHsAiwhn1OdsMeVOrbRKUFvZblk\n",
              "ANYMRUg0X3Wp+8kyNrcBG0a3CM4xqC1GBbF2PafsTR3KQ6Bh8sPsF3DmdBcHlnISsJaAhkFP71+1\n",
              "EDwZPZGxC4w6fBFYwH3kfc6t8v1kD4HRiaVzi6D4cK/bgir9EgXiwnRITAcOd6a5DYNKHhPehrTH\n",
              "RU1Ifl101Y0PSRxIMFW68jjJgGqHLHCUQMCNfG+O2Z/xHOhC3ToOPe3v3AViMTj/M7jYtfxjwKTX\n",
              "KPC5GS9AmP/47qXiPiIu7SXbh097j8oPDYOip60loWIvE3L3W4g/bA9ZXMsVPnARc85pWSzaxPOA\n",
              "tuvyF5//l8/eCM2kqySDeJPFWyHBBQ9PTKXofEDpxzhcBRvh06J1W+aUa6EO4j68DchU08vbt54N\n",
              "INvEFJimUObA/T0YgfwNy/c7z0eD2NRkTks1SASAudReTUVYUwzw+DKq8Lg7eEd3hgZOXzBmRDDZ\n",
              "/cHeKeb+uZ4ENBReJkVfOWEP/3Tuiz+L7CdSYoEabAJ6O3ydtbWjRf8Sv6EeEvO9axz5H9Ug6Y/m\n",
              "kJIDKr0hjDRxutXkFLMPioN+lGd1NBkjMfUsib55PyMM76Z7S02G7axz4tCKcZu+4P2Rn6xrPMEA\n",
              "cmNQgIpxM57MJdwiH8u9DxnhlKF3wLfwWMQ+E8LkkJ4LHnIv93njXThI4COYTHl2xFF+qv+u0Uo6\n",
              "GDxMTtcwMWJP9gKLtZ1WoHd/P0UsIEmI4sRhkqDt1nwKZGAamsUpnYpBzyje3UOfR+xN6n3RCm8e\n",
              "PAYA/ZGPtg7FUxRsKNjbZd+KLyzzEM0gcpQ693IvyrSH+ffYOutHNzFPYuamQoMy6ByBIgusxg1w\n",
              "l5G/I9AV2T6rNcu4TardH959CYL/o+84u6w7hTiB3FofJnhNcOQd57omhZdkTA74QB7Lm+4AcPWY\n",
              "PA34L8/26MbtKG9mmQdU9etHRygNg32/fE3IcMS4ridutC4uA7PXuOQUJid22VhDPp70okvyKWsc\n",
              "508TSphqmgnq7oOQhWXber0UU5RBp+oeQBKnQyU8JGVpiaB92Glt4X/lihmWwZXYgMsGvx4aZ5dy\n",
              "aabZCOcm3HOkScRXHccju1RD/Wb1xIUM+J7DX7O4kmqTe+JhXb7k/bfkaYZI75WHtXX6XTFSVqDA\n",
              "WmQpQzsP1iFwDTUjPT6qR6iGyr1KW+HO1o9wsGNENBEWntJ81ozpKDQ8vAs5eKwH1BDt+VKqbF1b\n",
              "2gxehfwMYBf+4X7t2pgu4V5rHVA+KNOJ9Fqv3PPSKaG+f1sGWKLBlGB1yQxINJoq4WfrRdcNYb6/\n",
              "C0QGdNSwNizK3cDkCLfGgb7gEP3IiMnUFaM6l0/CY0UK+yRzFxrHgJBfiFBaL4gvU3thhw15HzOc\n",
              "AR7UVSwuRv4HwKgqcy3Xo6rp37BGt9WjgGh+d78TQx//1+uG5rNWIrfyFjZ9r0eod4Rivk8/gn7k\n",
              "wNY6XFcL6QGhko2t5225sPVQU98DGWgd/CplCPu2hPNXSN+J+EUP8AhnseBO9E6anQpmcziqMb+9\n",
              "2v8LtEOLYOAkzWvl9AiIqaEENZTD5Zo9hq1SW3wxW3SeME6t56XAXd9SY8HCyXhwORcW2vRX4RWC\n",
              "Rt3n76PN5Hw1/2fTLAj3AGSrL9yS5y0HPgJf6ncAc2VHRTzddYG9ZkKc9l8Vn52qIg9hrKHhIDCJ\n",
              "Y86WjombrcW5jw7IVJ2Yz8RK17KTfHCmqxwcR4r7wRXicjtzKhpVbNyj4nwJ7jVbXY/PGGIrpEGf\n",
              "OyqmtEJ97OMx6ps2K9E4dG+OGgrS0oOTdKTz4VshpCG4DyMUveLFm7yIpvSWQaazHTXr1bzx024O\n",
              "e5A2Jyywt44hG9d7utwqEIQhzsIv+IPhttGa9WA2hZq6y098T/v4b6EL7+RD/fbr8U7xBJnG+KmY\n",
              "2CnNm41mJROMGO9d6+W0iIzHM9i3+mi4/vIx2ufYDzzsTnnkSn1PETxfyDRK+DUpGF2BFpHqIPDl\n",
              "F1QRHUwiP6veUEIB0iVlKKLO3nOrXD/LgWoeNmyjBuCvAXXgT+pL/+jNRLZg2iAHjnsU2WiVUFSL\n",
              "/xcP28e0BS10QIxB+ErJBr0IR/0XrELE+8SNjS4kv5tfeA9Ec04Dl/JlRGVZ7heTBemibsLwbEAf\n",
              "npRDlMoS/L16LirR2YumsdrGPsRdDVaD4g8T4jZA02ASpM54YwOOJVRnpsTV4XAQaVG2x4Jj/XlU\n",
              "Js2h153bU3fdNlpNqUKlKgGhQSm7TfJWZnBNKaYf1c4nZTPxr64Zxa89FrO37dS5n+7lRtTgMtlP\n",
              "YlUV7U6PkHR3j1Mw3W9tMi6blL503mq7HMQbLU3PDUIOfYQ5ykFJff2wubY4+EBWjkOPlkiSqeJv\n",
              "DYK2URWXjI02vpl/3HyVy3eNwi8teGnfHc/cJlY5DzAoxqMafEGPVJgNB6SUG/DVsAbSoLxgaE3I\n",
              "otqo/cuz8pFrSlGatZjBn7JjQsl2jHw6JjDK4D9sTqywED8YmEeiG2IlE+HCFYhNeBhKKKsmprjV\n",
              "o99gJVdD9xr1yAAAOzyFGgbuZ5nx1+obCCRR8/Kt/+vt2HJL8xkYUbTL07PWRD1rPZ/5f+DWGL8j\n",
              "0+ImHruyNgNeIvcAMFXcPeVPPFb8ziFhFe+wfj9FtB28sepE2nlKRMO5SKKggxWnSLRqae2rs/pC\n",
              "87jRrolz+MzG7T+dbaED2U2Fx/Vuyg6wd6Rz8AZGMZfmE/dtl0cvprctrOx4t/QDAWEg88PZ+kEI\n",
              "vUjLo4ZnYWk4+yzazC1/cVa+JKspiPfWG2+5p6/H0DPo3L8WWICqRyjeSLMbAf25Tmrn6wSsb4SM\n",
              "6Ig8Oa7GvqejqTPHDIAXdFhTPMnq1d2RBtrjhdsj4+OI5OsPh9CbttzKbZw79/Wb8UxME0ruMGNi\n",
              "my9BDJj7mNbkZeJMgNZcUZK/DwxTuh8hqZCO2kf0RazijhXBUWXZp7HqUoWeZG1khrMuV2/BpVzh\n",
              "ePXH7R4B9vWbwrfDnpjtk/L1gg7edof970HPwx2basHq2FMYQkgZwYaB13Yn0/hwldljgrDV5cPY\n",
              "BvIej5iuc1c6a0YInwYlDZFdsVFd6x19dvqrRuSRkReVNMHHmFcLdCLZA3l70gWAq7o77lVacOpB\n",
              "ojloX+r7vUOMyG0IV51LRr9IDSmACkMXd0cWjB8kE+Iji9Sm9uSi1U/XI5MIfss1gD++9GxMgCeS\n",
              "uPGgFUx8a3GAeb4vDLWrSicHdpY2sWuPfO3/cMBhJ1LOzpRB0zxp01ZqDzogcc+TOdnWX+ljrZ0H\n",
              "IT+sAXyYOra/bhfuFtR/Xx11NkOMUzdv1z2Lw++qH/MhQTchCiw86lZ7Y8o59GevvLCNv/7ob+D9\n",
              "eirZixznVLiCE7xsmFvUztkr79gE/osVuOg7tyRPoJvM4+rIsfgIPFwFrG8lk14RqJsUnULpf1AW\n",
              "8ItsLosEnNAM9zm9QHYUtV2YbSdh7WAJBy89SdbGNsU6uIZpBW01Baf1ovosxdynwhgfiVhCxpee\n",
              "iccvvZvuHvrlXdtHn8FrW79wA0IWLrONVdxTipnCxTDmhGMZxMxpJ+F6SvONmIT2eMqS2MJhSxiF\n",
              "2xVfiwUsiyHCNj4B0/PUKB5JdwnBpAoySxJR6GCqTxpLFX0gnKJJcCiNfjdUHd4FTYj4wbZc7brr\n",
              "LkaQaCLJCcBlvSc6YVVhkY1DwdGI6Y9hSH7tkAsIIkTCXeeOtEYZlIVLmY2H2UrQnsWqvL7HdU7J\n",
              "erq6iLpgCngfwYYudU0LReKc4F2//6+72kS6R2ZRJPyZfnOUyaNnXHuBIUT/+6bWjXogVIKQ0vFc\n",
              "zMoSV1DVvgjn2lXGB0SmuY5mgOxPMBov6pFCJT8/gvDSVgvphF3RLwEqfpWPkO/Ycn/O+7SzFEAY\n",
              "ZnyXNB1tDfLVm0jqKaQgvUZsnbmDVJxW3wMPuy3mDpUS11NA+DRO9ylbyvjS3vWqpa0HT0w8VKGI\n",
              "dekrDsF3GD2VF+1NjbxB6pg1ZML4Ma9hegTvZUWyhriC39dFeuuVh44zW3MqTlB171SiktDrvBnF\n",
              "2Xolsj+0/Jgge+kgqis/JztlldDFz6mpcLPl3lrpPOVva0g66uO7xegwoSQXMaVjvoCPsMDnBReQ\n",
              "KXC0jbQ4iqiKygeB8SkhSHENpwXl0icETuMrZR91S+cXz8EIwdDSWvd+SXIyZb85T73tU5M6Lm0b\n",
              "cM8SkYSXWFTyg/b9z/vBMdnZHgbiig1qiKjz1kHlvF3mlZQkUbr4DrA3JBzVYtLOg2BQE7BINHVM\n",
              "zn5r9N1TLQSdwSPHlqoA9PP7hdvHWaiJXshfmd6Hauuzd6utXvMJH0rA3zirTAAEBjRZiwS/8H2l\n",
              "h5KABXGrBUlRBdkJ1cAkCYPO+myqe7DRgHl+/EkfTjpNA5yhsTDTgD1b2TaP2eKnoPWUrTASMSek\n",
              "e31J8LwxnWgTAOQFNQAABT1BmiFsQX/+2qZYAGy4KTQATuV2KZdRJ/z5vG+ZwbQuKZqT+WwXBu7i\n",
              "J1/SmPnYf6h30gXoBwMOaTfxfezGMf/xvhoBYgif5oOP/HoxnC7MC3fchrUGwPQN79fH+rK3Tf32\n",
              "+hhkoFo7oifGIvwrlsvLmlFTr7EqWXH5r0t0c4Xo7wM6951su/GOueuoKgS94KmRkpk5f8LtTtQR\n",
              "3e9oQDwi59iSUGiggH3+WVf80ff8i5ZNbB5z/x+2hSUvKC6TIiHlOkkJvwmurkNa1OH2pY4twveg\n",
              "yAZzn6QfP9VlvR6cc/JlxfEEJuqFtvaKESvTy1WDApuVZIIzMxzwy/0k+5/H3yX8etj2brScp8xV\n",
              "jnyoXJrg949xWgp8eQkyzMijh6uVidOMnFWSBgrC0s9EmborQVbmgl7QyCl2CujtAC/lh0fu8nxg\n",
              "i9HFr796JvnCgJkXvahEixJMV8pta02e9ODk1qAv/ymG55gNWgQHy4SA/vxYXYU9UEIEHv0tYfZ9\n",
              "HdAL6b0SzsHebdOcKp+WCIPMwR1xA+0yjelSR9p9rADuxak1iQP9+fEdNzMi1qJKeXjUIldL4CiA\n",
              "pMueoDk8sk+wq9AJ0+OShHVLf59KVocEw/aITmGPrnazEGDpXAQEAHmnS1N0Hyud8kZG5pYWL/Da\n",
              "KEdMdtVtHpD1WOPeOYYIcUyxdDw+0KFbRgwwceWzsLrWTClSzcd1AXNRLACp5HlkV5fM7ufCTD83\n",
              "JLd5OI5r7zZZRt1DZxCmAZQcjt8BMcgt4Rkmf/CEeWINnZhoHT/ShukZC94rwHr7OfeCPPo+O38V\n",
              "ZlXaPQ7d0aaD6T8tvLGt7vMxftGcLQfv1xVLLCV69TrJWNlhXMHMI2DpR2G8uuCeAFMTop8nBmTm\n",
              "Fm1sJx2Qh488bepigUZZO51JZ7G7c/ryqD/C/jn8/m+WzWINpk4AH7OX/Az1dODgzLKBCRXRZ52p\n",
              "Si75r8e9MuT1AdZAAAU82/Z+14uxPaxQJe1TLR9y3XlQ3uDM1eccISFT4l/Rx/ltap7kooHZzUDO\n",
              "7nvteUwYOWwEDu5Hi38kM7IjbXFnd3pLR0h3TSIw5lhrA25CamXq855rmRoWu8WM2qUhE+098mpU\n",
              "Gew5awNZ7RNQUL4XfYtFcqZd4UcaHP75KhVMGbywnb33Rh7dwc3urMdxHbwBNVa/0oV8UJePU8zk\n",
              "OhV1cb1hhZxYKpJ2hLnJVgSjMYGbfOGVFPUnVeTIbhp23qnPeb9xRHatFyDqETZnwel/+lLlB06B\n",
              "vRmitnfChWNjPPUl6ofWqMbcJlG4F47VTFX59IJoitk85e5142WLavQFbLnmJshJSzw66rlSgyAp\n",
              "4XYGGukJqH+X7ZptyWYGfwccKle7jhaYuxAp7SxgTHU7UuU0pYd8s91ApGWdf6eiJLGUwqx7H9K+\n",
              "9Fg3vCQHEUJOQgkihqsXD+6kVpxPqtWC3G/cVGmJsMVXNOc9MO1NnvnZ/40bjp18jBsJmeL+gxY/\n",
              "0l5Y8VsCX3qw090gKfOD/fy/oi3NNZRqAO0+Jn2fNmDugfFdBH+gSwtUR/8QlVHV9jLdeuHelKQs\n",
              "U0Sqqk5EUl3iS31NGJNCRaeeUyCR+3qnEyKC2XY5iX8OVwVG0i7OD+fCkklK5S9a1XKA28pF6a4n\n",
              "xr0AFJ3dNzRUUZfU48Wado8BiYWYQJ98G8ZiJHUwJufWy/OOaU/VjKkxOXPBD2PZarPohH1Xa6wz\n",
              "/x9PTAwqTuRb275ZGlX3hFV0RQ7mom9IjCD+/0B5UhJLaSJsbX4xXFVDufnsuf4AAASZQZpCPCGT\n",
              "KYQW//7WpVAANRx2MACXeeIbXikO3/kMMMLSmqdXv1XbfAaizK3iHgrKORhdAGnxnND0uCJoLtJw\n",
              "KWBR14j9GdARl/Yy5PS4BFIZbJcxJ3GNfzELDtbPxRXr8TjxhXyBR2q6VtyWn78DvV9KLDdujDKs\n",
              "LgQs0l/yIcLkfPpbGSdFFPH+Z2gtAzJfiqREX5klqrMYiGx1CZbBlFEQ1CihUq7Y/Yh9ZrMU5+BC\n",
              "6thfkB+iZ0dgR7/4OTGnkyCpYFvXYq138wf5xVPlg+AcRjnGtHRW3qMVAtcCoxKlpC1dLJp5cKXl\n",
              "QeRaY4+WI8wHEGK56cQ9/T6Vq0idzO7Uu0BsuGsNJpERAl3YCB70p4dGG+O8fHShsZGbrXilRtS3\n",
              "AvobbMYUwH386JMgqnL2GRXy5+7rL8AErcec2r6lbVbfCDxtqZJkojEwhlNxToBYYVPBZT13Dg2x\n",
              "feRgWBzi2sfzh4T5Fcdj/zDlxZKT8Hpmu0N+HNjufeDBbjTzFNxhMi0hQc2Bc40BF655cgdSOD0y\n",
              "4VTrwQeo1v7q49U2VTdL23J7wSD9ZRha0+McyGqYz4XfXFlr7bKI5WPz9zv4vifS14tKdwm/592l\n",
              "DlX3FMsIdAicAZf502VAGZ9ovnKa4Rin8dafeo18Atgm5Xd9qaocDrTOXwQoc2GX4C+xSPwyMTr0\n",
              "yYOqqx9piE12bXTF/HsQt5qIg1TkbpR4QghXZjy5Asat8Ud1z/IyYfZY3hprov0rpWr7AEDBu+Og\n",
              "w8fKTEXuny5Zxs0iVZQUTKWC1xtpenBMuNQhsFrfqkllJvh4tFpRTqd9YY+Ca+bLPgRALmRL4onr\n",
              "moMWzuwahcRdx/lhiC6vy+yoy2fh5nCxbQzWTFqd9qCBrnu0cZuPP5LGEsBrLhUdtGUlgrfeEbZf\n",
              "uXPqh1+7XzGuGgRGh6aKnyRefIPRpochZQoplmC6RWtRPRC6Ok6VQimt45MQ1ZG2OpdIcsJL0NOi\n",
              "KLkzbEhwM3WrUhBVyceTB4KhQdWH8SItRfxHe3qXKpUlNNiCL4QQAvkqVioOHDHyBcsEFZ9eNN5A\n",
              "7cVE53hQ7NssPDPTGrbxBdepn1PVXzhbUR1ZyLwpkQw0e/9vkv8nea3UYUJTLFYt6ZIrT1gj/4zE\n",
              "u53xRbX4psdTezLypMRIZdZtACT1qFRR31Axc817ukHPe98G8qG00auXQ3BV2Wf4Eo1i9nuzNnEQ\n",
              "2LpJNCyZTWdRRGHfk6sr1pbqQ6RvHiLKXDJkJP0Xr6FSkly622nXd51+klEp01bB2FRsfmop3kaE\n",
              "rckfvl9wRLLSVtIJ09sksHO85wHfVhgYfd39OQHe1R5aPQOJb4RQH0syjgmrdzgnVECuSOZqdaIR\n",
              "++jdsYgM/hte2EgCx9/oUM+zXddMGjiE/IAlrCvK5krCOkWE0cd3MZRtzwIYjoQJCKdiSSIrZc9P\n",
              "FuW7gxmwkqmbbmM2hKH0dvQVbMZjlpGFv6A3Y6Rt58N3FsaGZaQVIBH+lPb3kDJL4btAFfWGb5yj\n",
              "3QCKP8vKVwlRXKGYDMacQQuFilNzGz18qiRFyqFyQQAAAkRBmmNJ4Q8mUwIK//7WpVAAFBMg0gA/\n",
              "iK4Vpd3FgDJIB9gXa/4XYiIWFtr7imlYU5bcXVk7EuMrz0Y9HIudFPRkjN/c4l9i0rbm71Dl0zFJ\n",
              "laAzjVQB7jrRR5LRIFIS7r8QgSJ5hHWbqThUFyG64JqMSTgxxd+2eoxPF3iIjpkjPotKdKJPJ4Ct\n",
              "8o1/L2hH3BhvvWJf3Co3tzB6FkF/xXggNYJtTWyECoupg0f1L1nf8Z9ivsW9Mul+q8d0bEy3v4SQ\n",
              "U4ncadhQS0aff6cbnU4sRCm75XC/wsdtBOQ3bV1cZYus2KDp9B7bTxsjh8jwAN+wW5X/JRMpQppg\n",
              "34DC58ZFTKaNwrpRMwx2Ncn6IYi7oInTl5+euZbLnyfdm1B4GcDco/JCf5PY2a2+sv8XQzeVmzPt\n",
              "FGdceKTB39IrELBKCvjDW5xbrJ2Amzeimrge+Ck1yqXOKMT/BoUFU3uvE19ss6FVrUoK0CwXn6Pz\n",
              "+45FhqtMeCD76vSRwqbKr/bm+2Y6dVvacp5wJfGUzr1tKDDazId7ZSEUruaWtK4LJ3OjwWji6XqT\n",
              "pO3W8jIFdrI8oBZsxNr44/B+aY87XLa8hUYJWOtX8aZ9oHiTYvg7oqXGHw7f8Xc+Uqet1NhQ/qV7\n",
              "X+KOJo8d2rT+29QhvC8YW9HCDtRcVmT+yk09sBurvfk9eNxHl2YPUL/NzAw5rsYMMHQXR4Jb6kF0\n",
              "bBf014CObU22tIqC9AxNORjDviAV9wLsSW0BRSxLnvLTriafXySpAQNg6SLAAAADR21vb3YAAABs\n",
              "bXZoZAAAAAAAAAAAAAAAAAAAA+gAAA+gAAEAAAEAAAAAAAAAAAAAAAABAAAAAAAAAAAAAAAAAAAA\n",
              "AQAAAAAAAAAAAAAAAAAAQAAAAAAAAAAAAAAAAAAAAAAAAAAAAAAAAAAAAAAAAAIAAAJxdHJhawAA\n",
              "AFx0a2hkAAAAAwAAAAAAAAAAAAAAAQAAAAAAAA+gAAAAAAAAAAAAAAAAAAAAAAABAAAAAAAAAAAA\n",
              "AAAAAAAAAQAAAAAAAAAAAAAAAAAAQAAAAAJYAAABkAAAAAAAJGVkdHMAAAAcZWxzdAAAAAAAAAAB\n",
              "AAAPoAAAgAAAAQAAAAAB6W1kaWEAAAAgbWRoZAAAAAAAAAAAAAAAAAAAQAAAAQAAVcQAAAAAAC1o\n",
              "ZGxyAAAAAAAAAAB2aWRlAAAAAAAAAAAAAAAAVmlkZW9IYW5kbGVyAAAAAZRtaW5mAAAAFHZtaGQA\n",
              "AAABAAAAAAAAAAAAAAAkZGluZgAAABxkcmVmAAAAAAAAAAEAAAAMdXJsIAAAAAEAAAFUc3RibAAA\n",
              "ALRzdHNkAAAAAAAAAAEAAACkYXZjMQAAAAAAAAABAAAAAAAAAAAAAAAAAAAAAAJYAZAASAAAAEgA\n",
              "AAAAAAAAAQAAAAAAAAAAAAAAAAAAAAAAAAAAAAAAAAAAAAAAAAAAABj//wAAADJhdmNDAWQAFv/h\n",
              "ABlnZAAWrNlAmDPl4QAAAwABAAADAAIPFi2WAQAGaOvjyyLAAAAAHHV1aWRraEDyXyRPxbo5pRvP\n",
              "AyPzAAAAAAAAABhzdHRzAAAAAAAAAAEAAAAEAABAAAAAABRzdHNzAAAAAAAAAAEAAAABAAAAGGN0\n",
              "dHMAAAAAAAAAAQAAAAQAAIAAAAAAHHN0c2MAAAAAAAAAAQAAAAEAAAAEAAAAAQAAACRzdHN6AAAA\n",
              "AAAAAAAAAAAEAAAvFQAABUEAAASdAAACSAAAABRzdGNvAAAAAAAAAAEAAAAsAAAAYnVkdGEAAABa\n",
              "bWV0YQAAAAAAAAAhaGRscgAAAAAAAAAAbWRpcmFwcGwAAAAAAAAAAAAAAAAtaWxzdAAAACWpdG9v\n",
              "AAAAHWRhdGEAAAABAAAAAExhdmY1Ny44My4xMDA=\n",
              "\">\n",
              "  Your browser does not support the video tag.\n",
              "</video>"
            ],
            "text/plain": [
              "<matplotlib.animation.FuncAnimation at 0x7fd885e58550>"
            ]
          },
          "metadata": {
            "tags": []
          },
          "execution_count": 87
        }
      ]
    },
    {
      "cell_type": "markdown",
      "metadata": {
        "id": "l6sGhbGMcKoO"
      },
      "source": [
        "## Let's look at the BFD"
      ]
    },
    {
      "cell_type": "code",
      "metadata": {
        "colab": {
          "base_uri": "https://localhost:8080/"
        },
        "id": "crwTx0lKZ-Va",
        "outputId": "41a130e4-7fef-4000-d3ff-5a70530a6b69"
      },
      "source": [
        "!pip install pydot\r\n",
        "!pip install imageio\r\n",
        "!pip install graphviz"
      ],
      "execution_count": 77,
      "outputs": [
        {
          "output_type": "stream",
          "text": [
            "Requirement already satisfied: pydot in /usr/local/lib/python3.6/dist-packages (1.3.0)\n",
            "Requirement already satisfied: pyparsing>=2.1.4 in /usr/local/lib/python3.6/dist-packages (from pydot) (2.4.7)\n",
            "Requirement already satisfied: imageio in /usr/local/lib/python3.6/dist-packages (2.4.1)\n",
            "Requirement already satisfied: numpy in /usr/local/lib/python3.6/dist-packages (from imageio) (1.19.5)\n",
            "Requirement already satisfied: pillow in /usr/local/lib/python3.6/dist-packages (from imageio) (7.0.0)\n",
            "Requirement already satisfied: graphviz in /usr/local/lib/python3.6/dist-packages (0.10.1)\n"
          ],
          "name": "stdout"
        }
      ]
    },
    {
      "cell_type": "code",
      "metadata": {
        "id": "wh4rQ4_IQbSY"
      },
      "source": [
        "import pydot\n",
        "from IPython.display import Image, display\n",
        "import imageio"
      ],
      "execution_count": 78,
      "outputs": []
    },
    {
      "cell_type": "code",
      "metadata": {
        "id": "d-1cjLybQbSZ"
      },
      "source": [
        "reactor_type = [\"CSTR\", \"PFR\"]\n",
        "shapes = [\"square\", \"rectangle\"]\n",
        "G = pydot.Dot(graph_type=\"digraph\", rankdir = \"LR\", size = \"20, 4!\")\n",
        "nodes = []\n",
        "edges = []\n",
        "image_list = []"
      ],
      "execution_count": 79,
      "outputs": []
    },
    {
      "cell_type": "code",
      "metadata": {
        "id": "Wsi-Gv_7QbSZ"
      },
      "source": [
        "for i in range(len(env.X)-1):\n",
        "    r_type = reactor_type[env.reactor_seq[i]]\n",
        "    Xin = round(env.X[i],2)\n",
        "    Xout = round(env.X[i + 1],2)\n",
        "    nodes.append(pydot.Node(f'{i+1} \\n {r_type} \\n Xin {Xin} \\n Xout {Xout}', \n",
        "                            height = 2, shape = shapes[env.reactor_seq[i]], fixed_size = True))\n",
        "    G.add_node(nodes[i])\n",
        "    if i > 0:\n",
        "        edges.append(pydot.Edge(nodes[i-1], nodes[i]))\n",
        "        G.add_edge(edges[i-1])\n",
        "    BFD = imageio.imread(G.create_png()) # converts to np array\n",
        "    image_list.append(BFD)"
      ],
      "execution_count": 91,
      "outputs": []
    },
    {
      "cell_type": "code",
      "metadata": {
        "colab": {
          "base_uri": "https://localhost:8080/"
        },
        "id": "64ML89M4QbSZ",
        "outputId": "8ae04ccd-ff1d-4a6b-8167-38b00f739818"
      },
      "source": [
        "BFD.shape, image_list[0].shape"
      ],
      "execution_count": 92,
      "outputs": [
        {
          "output_type": "execute_result",
          "data": {
            "text/plain": [
              "((384, 1425, 4), (384, 222, 3))"
            ]
          },
          "metadata": {
            "tags": []
          },
          "execution_count": 92
        }
      ]
    },
    {
      "cell_type": "code",
      "metadata": {
        "colab": {
          "base_uri": "https://localhost:8080/",
          "height": 421
        },
        "id": "69fCKo9uQbSa",
        "outputId": "dd4f7d4d-446e-491c-8781-6cdc7fe90a64"
      },
      "source": [
        "max_width = 20\n",
        "fig, ax = plt.subplots()\n",
        "ax.set_xlim(0,max_width)\n",
        "ax.axis('off')\n",
        "plt.close()\n",
        "images = []\n",
        "final_image_width = image_list[-1].shape[1]\n",
        "for i in range(len(env.X)-1):\n",
        "    image_width = image_list[i].shape[1]\n",
        "    image = ax.imshow(image_list[i], extent = [0, max_width*image_width/final_image_width, 0, 4])\n",
        "    images.append([image])\n",
        "animation_BFD = animation.ArtistAnimation(fig, images, interval=1000, blit=True,\n",
        "                                repeat_delay=1000)\n",
        "animation_BFD"
      ],
      "execution_count": 97,
      "outputs": [
        {
          "output_type": "execute_result",
          "data": {
            "text/html": [
              "<video width=\"600\" height=\"400\" controls autoplay loop>\n",
              "  <source type=\"video/mp4\" src=\"data:video/mp4;base64,AAAAHGZ0eXBNNFYgAAACAGlzb21pc28yYXZjMQAAAAhmcmVlAAAXCG1kYXQAAAKtBgX//6ncRem9\n",
              "5tlIt5Ys2CDZI+7veDI2NCAtIGNvcmUgMTUyIHIyODU0IGU5YTU5MDMgLSBILjI2NC9NUEVHLTQg\n",
              "QVZDIGNvZGVjIC0gQ29weWxlZnQgMjAwMy0yMDE3IC0gaHR0cDovL3d3dy52aWRlb2xhbi5vcmcv\n",
              "eDI2NC5odG1sIC0gb3B0aW9uczogY2FiYWM9MSByZWY9MyBkZWJsb2NrPTE6MDowIGFuYWx5c2U9\n",
              "MHgzOjB4MTEzIG1lPWhleCBzdWJtZT03IHBzeT0xIHBzeV9yZD0xLjAwOjAuMDAgbWl4ZWRfcmVm\n",
              "PTEgbWVfcmFuZ2U9MTYgY2hyb21hX21lPTEgdHJlbGxpcz0xIDh4OGRjdD0xIGNxbT0wIGRlYWR6\n",
              "b25lPTIxLDExIGZhc3RfcHNraXA9MSBjaHJvbWFfcXBfb2Zmc2V0PS0yIHRocmVhZHM9MyBsb29r\n",
              "YWhlYWRfdGhyZWFkcz0xIHNsaWNlZF90aHJlYWRzPTAgbnI9MCBkZWNpbWF0ZT0xIGludGVybGFj\n",
              "ZWQ9MCBibHVyYXlfY29tcGF0PTAgY29uc3RyYWluZWRfaW50cmE9MCBiZnJhbWVzPTMgYl9weXJh\n",
              "bWlkPTIgYl9hZGFwdD0xIGJfYmlhcz0wIGRpcmVjdD0xIHdlaWdodGI9MSBvcGVuX2dvcD0wIHdl\n",
              "aWdodHA9MiBrZXlpbnQ9MjUwIGtleWludF9taW49MSBzY2VuZWN1dD00MCBpbnRyYV9yZWZyZXNo\n",
              "PTAgcmNfbG9va2FoZWFkPTQwIHJjPWNyZiBtYnRyZWU9MSBjcmY9MjMuMCBxY29tcD0wLjYwIHFw\n",
              "bWluPTAgcXBtYXg9NjkgcXBzdGVwPTQgaXBfcmF0aW89MS40MCBhcT0xOjEuMDAAgAAAA3dliIQA\n",
              "F//+99S3zLLtU2+2C6j3op4mX0N1JQGblsTtOoAAAAMAAAMAAKLUhF9kdgs3FsAAAAWQAHQDfCTC\n",
              "DibDbGUZP+FMcfEAU1c3+DgFXsEOZaoDNZVpwSV3AqdXH9txwBma8bhOJ+yXgl5GcdyjTQsW+b94\n",
              "Ner3pwPuOPMb9hY9DWuZDQODBYfMgzSygj49ingrHfzjO1gLfSI6iskkW53rJgqL9qZQpbHNrIbD\n",
              "2lWLKcHIZ/1XhP2cfxjkE6UmJqR7XBpe+/hahK18T9K/rQX5W9+XQGwDN6J09mquE8U01dECFBfT\n",
              "nr3FbgYJf/78psZO2K0wWBcYX7zXAOF5MzI5umEhrX5zn7ohvaiaQRQJao2ssTMtS6Zep2igddML\n",
              "tm1V92mTMyNvpwVcpORJxR3VUtJm/fPrHjVU+oTniqsYBxuM7BSHyCrXJ0o6fSVsuDC0hdBCom7Q\n",
              "FlfvKPszBU9V1LoLJ/wrbS/g3xVP554SRqKcTv/Sxl1j1aqfESwavyR7TW2DYkUM4WkWcksZ3fDK\n",
              "viuMje2YC+qHrnwfrXAF/Fsvfc/105OvFube3CWXmGIndOoU99UAnBeNZam6GhYl6/ARA2sFf5xB\n",
              "MKGOyQEI4S841JIjBe6ESu+Fzo+igJZDjV2tpZIl8BoZddoP3ZynU9o8rKOLb7c39CM0TD7+audJ\n",
              "fs4Ej90qfWkueAGX4jZDjSN+JEqNN101qjfH6WjdsHcOwPfPCc0V+vZu1v7hG4slkM4zuiIN5GWy\n",
              "ZIpfFagdYXY5kiB7OP6wigoJjYTdsCJ1uB9/tw5RwrgCgqL93OyQw/LM27n7kJU+2rPmvUxSZRiu\n",
              "SpOXE34hcxsXDxJcUiyW3HEAFP7Vm5+oQiTrLVkKNTl1p2/Y0KYcb0l0gLAI4lpTgPRbBm98PoXU\n",
              "ve5yyZC+mf3HJT11Go0e8BXNXt8LVu9arkrO0QWw7Zdg/AnECt9bBeO7nJMeAkty3bNpGWlIK9PM\n",
              "HcILyBtAAdLBMcrIGLznVb+Lmg5236+le6k3pG0u3nQyqC2ZacrF6PZNY61lYa0HSS5R6rWCQSOl\n",
              "Da5rCyG7hocn73osM6rKAydK2EBbghq0GX1oIiCPobub2tEfbPfTKt6bhMespIteslRQEFHWvion\n",
              "O4bzAuCgg6oRXgAAAwAAAwAAAwAAAwAAAwABAQAAC1VBmiNsQV/+1qVQAACAKarQALqxv9rvhXBu\n",
              "a8X0OE7pgf9Dv+FHz/YBVXq/e5Ni0w0GPvklWkJZSgAWXFooJgRitpNC2VXq5OXrv0pu/filIHX3\n",
              "vF1WnCbx6Eq5BDq2W8P2eVnS1nijMlnKdBYRh6WvrPwdDZMJn9t4e4W5L+FlBsn6c3aywWLn1hka\n",
              "48EA7gpPaq29/5c23hismLriYhR6bjaCHwpqUWDeMls0JiqdMhjXN7lNGNsVdexjet/tLVLEC64B\n",
              "U9k5bKVKItq6sembPC8b7yJ1C8l4JS85NJ8GEE7wx7lBLR9MsKIZtFeDwvg5xOgM2pc3gA+SG6tt\n",
              "6v9l2fRbqrZ3dwLSXxyCqyItHlB8rpJ1MkZ7CHfcEe5b8Cf2dQKMLi2fsJWhe+/jUMOL1S95cvHt\n",
              "LjWJ571uVps5C4k3OLvzFum1IkuUO+Vqv3DFM23yMR5cEvPwmemADYm5PwQEMIONX24BZLSczTmQ\n",
              "3XRbJ1Cku1f3DrOPF15dTxhVWjmC5zvXWIN2+ehgmNUivGCYeRmU/NxluGKD63gwzpWeL8xnvW86\n",
              "nXjmLee2J19MAOD+y5B5fKpLZnFwkmr1fqGfRaIfG28iozMqGE3fxh3xC++K0AD0tGTvkcrxPKaX\n",
              "ddKMz67Xmrv208omy5OKPF2OnNSwz90dqbXMwdOiScX+UrOWXzrdHUwBTM6Iz8JlK7iwXtTiS647\n",
              "5Uob4ry1LS/T/PgaDt7tCFgLrlUrbM0s9zANlBSCrjGKKGeJ2G+HxRKk3qtl13oOmf/4CZ+AIVps\n",
              "68OgRINkyqdLzCAqBvN5sKRveKoV1/Ny5bhcLKmFdHPYKpmlq7FH6aQpanIlfp+FxBAe4mAIoccc\n",
              "GE+elSn75cv4FECKKJRJupViaxhM+NY1mZnlIkYWmXgh18CXQOiMnLHvX0qNkHRZLyqMiyv8uM+4\n",
              "sauubuWBEl4YZnSfZISrse7hzzY3DLtaQEgPhIrOeBlRrEPWj6Kz0yViaXjKZ57UmD2KHkVvua5O\n",
              "pjBql1ITCyMrECPu7K2p+3qii0FpN0+zrowtOt4NU56MEvfN6V2NxDixy2D9/MpCSPYG9853qpCz\n",
              "9PxjoDANG2NP4l2bqgHzV6qAVz29tdxTPhf5JEd7Y+qHWGGzSuEqje4V0KDXJVP2QobmEOqB2T0l\n",
              "bBdMDiZi1kKjJXaun2rpYJTeqMEdNz1FJ6kD2Wwz/NAhIftxByjd/MG4BPGVSeAlRB/2otMaW7uu\n",
              "tn9kE34yPFaKWIJBt/wmgZI3egf68vb4cAciM09e9QKxFJWYCtuctl7m9KiBHBQYhU2TjsYG7GJf\n",
              "18nHEA9Hy7VSKZwmLtNb4EwgkNzLfuCuwv89RsDdYdLdxqtExLITWeSY6f7iZZX6ThX6+SIHWilA\n",
              "QkD8WTJHYcBBY0tusSBxEriipLbE+ow/PP+K0D7rC8CEYqUVS4XWEUHe2/yuZY3lnWT+YdcPl4pQ\n",
              "NNVpWh+TVd3GZI35o5ABTlpAVBYYXT7LDRd7jRKGtqs/MnN4gp2YqB74TanGghnDGrdR68cgmf2E\n",
              "omh6/A6Qd6wkihuBuguICQTlcZUhDNhXkJMI5fj/4jPBeNpwQztF77SMYDC3b0Cy3+6DJlcseHAA\n",
              "ezBgHVnXYza5rx6HHfTmpLolPJKV2NNN9r8X+uWUGy0s2vw/3f1WGDvo3TmyvyqsZRXGPFfb57dp\n",
              "aU/pKZjt9B4jBZqbnz7+4boeVllDSJdGXDqAsd32BXRSj0MuzEshL/ff43WPrsEG3D1+zqvdKc61\n",
              "o/r7HiaKZC3WYXlUN4Odf/FLS2aw0tk9sGv+1lkwgUTrOegsw0ZEdLXx01/2ZWrC3HrR2O0uxXFX\n",
              "JRo8fx9NRPsVi0Yl6W2//bWgsmhADwq3rbHCrYuAlChDSYMXdI6RZxx+REAOfI3SAgSbe9edbEk3\n",
              "nJJBdp9+HmCyPlRcyBu+4DflnXlFqFdmZK1zgzcSsxT/OCog0CtkznV51/5hxZ4ER0tZdNanVnvv\n",
              "RJCCNwfoLqNNi03WS+OpNmSKh+/UT0ng4vJvi6AcCCV265VbZ/epBWx85O/uDiQTxq4O8QIPr+EL\n",
              "0mfgHuDwoVLznOMRcJkGnSMKv+JAkFfS3s9sTlVhKjYiO49lpHqDgDs+DXduBR/ctwUEYmGDSovL\n",
              "Qt17FECKua6xisBxx7+XZTN8QKTOOgt6deYmlFCJ2SsXWki+oAzDykVDELiwPCidTZy6+CuI3SRD\n",
              "YcAU0UBU4z8EX4RCdOrB5F5DtimAtkBndC1wmes5T8zSn9QSNmG8rVuBckDQX9I7/dPVsJFvfFeb\n",
              "SslElhiCxcxHzZa9DnRxNfRfqULNaTn5HZP0rX6yUKr4P3IsWGpbF5zsVSUgJ7X/Z5TaE0OMTxZV\n",
              "dnnMy15ekTuZVjpQ3d8P9K1hOvha9b+iZtn+5OwCw94iL9BQ7WYBG37ubcBNxh/aSXOhOpH9fUtO\n",
              "00goR9mZCu7ecijHJqc7dyp/+MTou5FT4d2PGl9YuHdBPg2I/xSsO01qhgHnty/VNFNyXsHMxdQF\n",
              "2+gP+/2oPf6BgHKET1yaFs+39Fa6RbiapP1GMAbLilTZM/sIp8C7kHb0teDMfW3D4IZ0poQzkQ1L\n",
              "amNkc0uTSBE4H9TtoULlCUse2podbzTggkOYZmjXlsZtNHpeL2FxoTmjjOW/3qbDaq3Qu0m/ht5j\n",
              "NjOtErjsM5IYWMRP0Ng8oZECKRQavCfGfff1CpnYB2wa70IGEVLs/WmZ6HxDIOaC/p8T/ihbSZVW\n",
              "Uea2xOlGKShCEV4RkSgWfefNzDUvvreUFa4N6kH+xCjTbqQ4bY6xjJMsZgkKvBqa1x8UWRMXoE5x\n",
              "gnvKHLLgK+0KgOak7A+ABBGTpB4y3ytX4l7tNfJHImk9TPBvozqzcrn1jbte1nIoZzNQ+sfRcc6N\n",
              "7z8KP+x//XqoC/6ow6DvC3OGbOlvHzc7388O/ZbE0ariqvq/9Q082qTvVzRtHyp9XI94F28LDrlU\n",
              "IoHgOjI+l32Ma1JuwW9HOGVRpCsEtlY6QTfzrNIeUv94b6Qsm3qevnBKsMy3zflnvBk6R+Uvjdul\n",
              "xu5k19V85zlXmYJxEPWWHekWS/df8TjYZXdT2tPTKwvxhWGFVQSYiz/7tFzbssBwixIcz9QBU+Zy\n",
              "vornHPZ58Jm/HxEQX3eOmdtDYnybkJAYzJdm8jQcIV55kLPVHhdKFMDBxNzgKZ/zToroIpl0usZS\n",
              "gJ2Nf4Fhugu8xI3on8ZLGSGQl3cnu1ZuJcYVhSWf/cvPjk9aZJy8lWrmoM92wKLnjgi2Ad2/jxZ2\n",
              "u8LW7xTjdij/U/89PWukE54BQ6CYr9tc9VmhUAOoB4IbZNZH2d7pOc0rQgBmF5SkVs5iJHgvPNKb\n",
              "2Nty8eEtMBYUI3EPQX0jdj23Y9FkbKpHIOqwysWpcwOPwyIqlK+zcUCIz2sdtpNP57LAMUrCYYT7\n",
              "n7Iwtv6sax22B5MogHIUacMdpeVnVGxNh33ffPveUDLRYEi/p8eXZOQkLactn7HY4AQoOXHtkmuE\n",
              "kk7OAHeGZnbftD5nrOcbAMgg4N0Y36WP2FJm1zPiq+rk4+Q5OxHScpjaFli8ydfAfOu36/9FP+kC\n",
              "a7QvoU0mY2VyY5h2eCjsKKyrct5EShp6Czb8pl8xGmuiipNp4I67wFRHp5aGADA86W5niYGSUo+C\n",
              "dYQkPgaCcYQOMf2bfjvknrQlr5Frj6RpzxMwCpp/LXdR2HDi9Qf4tdAs0O6CTtVn/Y+kfoMixuWQ\n",
              "77EYRV/4iubZRxyKP6xmwIxJ+jYv1rSwpstuiEEJfxXfmUiNcAvo/VgLEifuvdXKZhFi/H+Sqs80\n",
              "eTH25bJBrd25DbimW59Peb4C+1J3W5YAAxYAAAIuQZ5BeIK/AAADAFhLu9IEpQAQdcYas0C8s9y7\n",
              "y8msNU8PLh8js3z/wU2PLaOeBtW/p6aEYSS65izBAH4rU7BjMfF21TIhRG7st5ugAAB1Nwbo2ZX7\n",
              "XGMhi9W8cCVS5M65VHXZRwYUbSzCd/I8joDFnZt/3Tk8fAR3Ei5+FxXcV+Vz76Eyy0OZizZroBiP\n",
              "T7zYDvSyyxKgFa6nTQcw2BHdDyLweQTnh317H4zE7hAefJdgRGchFrZxaYSn3ibOzdfErQjONJJ1\n",
              "kxI2RhHDunXqpGfip8lZpsH1i6xDTo3JLquCxshLkIJCK+KHdeGagZvjA7Ra/CiCZRUUv82BnoFH\n",
              "D/7GRZ0YDwgy+tuTae9Ma491k5pwDUo93JbJ/mNQizWkVCbcbj0kVQqfoCQhNfKvKs/NdTO6R5Uv\n",
              "ewor5nCv/DzPfEWE2jWy7NOsIFnM1ycGU2hgnGULdseiSOLdoaEzQ6RQsB5R05IQ3h0Q7s+4o742\n",
              "mC5vhrsAquqxtJFt/Od5Wuu9lU8sJW1iYzuV9UKQh6NAzujm67Y1/EX3GWTPsBKt1GoP/Vx4593Y\n",
              "a63gkkVoDGUNbAJjmDJjrRmcqjNHMgIBZn+gyvvWdqh2azj8/PXKLNat2yIAnaDbBZJ86m9q8J5U\n",
              "4Z1i4fUHwhMgoazZLmbrK7RH9t2v99zfGEJ4h66QVa7WxA+2HB1E5y0Uv/bxOG+oPu7mIc7nfhpI\n",
              "Pe1vzkwpXZ5XuQp0A65NcAEDAAADRQGeYmpBXwAAAwBYSOfoEpQANIVXSYdr6zs+NBUqtCuXXkkP\n",
              "9OjaZrtJl8QYo9vGgr1kUNAiVHneGFOg7gA4Gwr8LlWygWNr/Kbn5MQs9AC1XJU/3nLNRhu31h9L\n",
              "frADf3UJRZsym8cp2zPKigSWiyQLLQqLqcilh7E7KGjQ5s8VgwLLociZOcarAEBVEmWL+CO0EjtC\n",
              "gA0xMYHeA/z0tM6eukve56C2S/GK/HiccSMz7rEz17LePZaIYhHYRPeetoLwENxw1LSabp5K+KNP\n",
              "OGBOh2IH6Zawsyf5iMCwvD12CHiy8+LnwCVVMZv83oBz2G96Ki5MNJDOWFhlNicN3TG0gMeW67ai\n",
              "avjZ+q7zlehqwop3KFgFzSaRmjlfhYPaVRsr3PBDQEkSGqhBWZtKrukCCQK89JQQWnwbOMnXxWIF\n",
              "HkK+hVYiWDKdcSebS4Lkp48srn1LpdcrnSZcserlEUwt08Oqvg9YE8e3yBURrkRYnA3WNGo3+Vb6\n",
              "C1VWgmJ+oVRakpaFTKi007gRfqFhUEvRwX4XwtcdJqvKdHSRQu4hQrSpCFK87FHVyCubX1MXL6bO\n",
              "o7G2h8MceYsZVgDDum242xOKEvare7wrSBsyfnEFblRtqCF6YLIsCGB2EO2Wt2ekp0ybL7uivZdS\n",
              "f1BxEdOnK5G2WHFL978I4uqUM0Y3iOa0WlHVUtlfwPfnK+anPEdFdXJte2ePxMABMePG25qPk4uU\n",
              "iHf/KjT2LAfxeg/0xuf62l8aDWXAsVjE9zqPE+fF9msN+mqcRJVXgKYafKs9laZCK/pB9PadjKEv\n",
              "MRfWiFjlLVWegEEeJS/TSS7WenGXrmgseLN/E0z6LUyvulbsythNTEiTZP5ZBgTkI+s7csCMBJhR\n",
              "7K3hLZMZJTooQNNCwhO77ylPlczm+5xM4qgiUTXvnixkzMoVXIH2WaNSeEhvGLT0Le+BfrxgMSgw\n",
              "Ufdu5B6c+9Wfg+Mh20noaFo2V0Hz7pDtM1jLEuZMiS05TqhMRIOJPBskf7vc+8a6CFNunl/r6R6G\n",
              "eUiWlVyOE3ujM2mxwsazidhP4709OM0VcB9ph59KKNb9J7tEd95zlAq4Ax79hGk/qrJWGy8xP4dQ\n",
              "AAAF3AAAA1dtb292AAAAbG12aGQAAAAAAAAAAAAAAAAAAAPoAAAPoAABAAABAAAAAAAAAAAAAAAA\n",
              "AQAAAAAAAAAAAAAAAAAAAAEAAAAAAAAAAAAAAAAAAEAAAAAAAAAAAAAAAAAAAAAAAAAAAAAAAAAA\n",
              "AAAAAAACAAACgXRyYWsAAABcdGtoZAAAAAMAAAAAAAAAAAAAAAEAAAAAAAAPoAAAAAAAAAAAAAAA\n",
              "AAAAAAAAAQAAAAAAAAAAAAAAAAAAAAEAAAAAAAAAAAAAAAAAAEAAAAACWAAAAZAAAAAAACRlZHRz\n",
              "AAAAHGVsc3QAAAAAAAAAAQAAD6AAAIAAAAEAAAAAAfltZGlhAAAAIG1kaGQAAAAAAAAAAAAAAAAA\n",
              "AEAAAAEAAFXEAAAAAAAtaGRscgAAAAAAAAAAdmlkZQAAAAAAAAAAAAAAAFZpZGVvSGFuZGxlcgAA\n",
              "AAGkbWluZgAAABR2bWhkAAAAAQAAAAAAAAAAAAAAJGRpbmYAAAAcZHJlZgAAAAAAAAABAAAADHVy\n",
              "bCAAAAABAAABZHN0YmwAAAC0c3RzZAAAAAAAAAABAAAApGF2YzEAAAAAAAAAAQAAAAAAAAAAAAAA\n",
              "AAAAAAACWAGQAEgAAABIAAAAAAAAAAEAAAAAAAAAAAAAAAAAAAAAAAAAAAAAAAAAAAAAAAAAAAAY\n",
              "//8AAAAyYXZjQwFkABb/4QAZZ2QAFqzZQJgz5eEAAAMAAQAAAwACDxYtlgEABmjr48siwAAAABx1\n",
              "dWlka2hA8l8kT8W6OaUbzwMj8wAAAAAAAAAYc3R0cwAAAAAAAAABAAAABAAAQAAAAAAUc3RzcwAA\n",
              "AAAAAAABAAAAAQAAAChjdHRzAAAAAAAAAAMAAAABAACAAAAAAAEAAQAAAAAAAgAAQAAAAAAcc3Rz\n",
              "YwAAAAAAAAABAAAAAQAAAAQAAAABAAAAJHN0c3oAAAAAAAAAAAAAAAQAAAYsAAALWQAAAjIAAANJ\n",
              "AAAAFHN0Y28AAAAAAAAAAQAAACwAAABidWR0YQAAAFptZXRhAAAAAAAAACFoZGxyAAAAAAAAAABt\n",
              "ZGlyYXBwbAAAAAAAAAAAAAAAAC1pbHN0AAAAJal0b28AAAAdZGF0YQAAAAEAAAAATGF2ZjU3Ljgz\n",
              "LjEwMA==\n",
              "\">\n",
              "  Your browser does not support the video tag.\n",
              "</video>"
            ],
            "text/plain": [
              "<matplotlib.animation.ArtistAnimation at 0x7fd885dcadd8>"
            ]
          },
          "metadata": {
            "tags": []
          },
          "execution_count": 97
        }
      ]
    },
    {
      "cell_type": "code",
      "metadata": {
        "colab": {
          "base_uri": "https://localhost:8080/",
          "height": 421
        },
        "id": "q5KXM2CWQbSa",
        "outputId": "3d82f8f6-ea01-4b89-f72b-077a58e001de"
      },
      "source": [
        ""
      ],
      "execution_count": 95,
      "outputs": [
        {
          "output_type": "execute_result",
          "data": {
            "text/html": [
              "<video width=\"600\" height=\"400\" controls autoplay loop>\n",
              "  <source type=\"video/mp4\" src=\"data:video/mp4;base64,AAAAHGZ0eXBNNFYgAAACAGlzb21pc28yYXZjMQAAAAhmcmVlAAAXCG1kYXQAAAKtBgX//6ncRem9\n",
              "5tlIt5Ys2CDZI+7veDI2NCAtIGNvcmUgMTUyIHIyODU0IGU5YTU5MDMgLSBILjI2NC9NUEVHLTQg\n",
              "QVZDIGNvZGVjIC0gQ29weWxlZnQgMjAwMy0yMDE3IC0gaHR0cDovL3d3dy52aWRlb2xhbi5vcmcv\n",
              "eDI2NC5odG1sIC0gb3B0aW9uczogY2FiYWM9MSByZWY9MyBkZWJsb2NrPTE6MDowIGFuYWx5c2U9\n",
              "MHgzOjB4MTEzIG1lPWhleCBzdWJtZT03IHBzeT0xIHBzeV9yZD0xLjAwOjAuMDAgbWl4ZWRfcmVm\n",
              "PTEgbWVfcmFuZ2U9MTYgY2hyb21hX21lPTEgdHJlbGxpcz0xIDh4OGRjdD0xIGNxbT0wIGRlYWR6\n",
              "b25lPTIxLDExIGZhc3RfcHNraXA9MSBjaHJvbWFfcXBfb2Zmc2V0PS0yIHRocmVhZHM9MyBsb29r\n",
              "YWhlYWRfdGhyZWFkcz0xIHNsaWNlZF90aHJlYWRzPTAgbnI9MCBkZWNpbWF0ZT0xIGludGVybGFj\n",
              "ZWQ9MCBibHVyYXlfY29tcGF0PTAgY29uc3RyYWluZWRfaW50cmE9MCBiZnJhbWVzPTMgYl9weXJh\n",
              "bWlkPTIgYl9hZGFwdD0xIGJfYmlhcz0wIGRpcmVjdD0xIHdlaWdodGI9MSBvcGVuX2dvcD0wIHdl\n",
              "aWdodHA9MiBrZXlpbnQ9MjUwIGtleWludF9taW49MSBzY2VuZWN1dD00MCBpbnRyYV9yZWZyZXNo\n",
              "PTAgcmNfbG9va2FoZWFkPTQwIHJjPWNyZiBtYnRyZWU9MSBjcmY9MjMuMCBxY29tcD0wLjYwIHFw\n",
              "bWluPTAgcXBtYXg9NjkgcXBzdGVwPTQgaXBfcmF0aW89MS40MCBhcT0xOjEuMDAAgAAAA3dliIQA\n",
              "F//+99S3zLLtU2+2C6j3op4mX0N1JQGblsTtOoAAAAMAAAMAAKLUhF9kdgs3FsAAAAWQAHQDfCTC\n",
              "DibDbGUZP+FMcfEAU1c3+DgFXsEOZaoDNZVpwSV3AqdXH9txwBma8bhOJ+yXgl5GcdyjTQsW+b94\n",
              "Ner3pwPuOPMb9hY9DWuZDQODBYfMgzSygj49ingrHfzjO1gLfSI6iskkW53rJgqL9qZQpbHNrIbD\n",
              "2lWLKcHIZ/1XhP2cfxjkE6UmJqR7XBpe+/hahK18T9K/rQX5W9+XQGwDN6J09mquE8U01dECFBfT\n",
              "nr3FbgYJf/78psZO2K0wWBcYX7zXAOF5MzI5umEhrX5zn7ohvaiaQRQJao2ssTMtS6Zep2igddML\n",
              "tm1V92mTMyNvpwVcpORJxR3VUtJm/fPrHjVU+oTniqsYBxuM7BSHyCrXJ0o6fSVsuDC0hdBCom7Q\n",
              "FlfvKPszBU9V1LoLJ/wrbS/g3xVP554SRqKcTv/Sxl1j1aqfESwavyR7TW2DYkUM4WkWcksZ3fDK\n",
              "viuMje2YC+qHrnwfrXAF/Fsvfc/105OvFube3CWXmGIndOoU99UAnBeNZam6GhYl6/ARA2sFf5xB\n",
              "MKGOyQEI4S841JIjBe6ESu+Fzo+igJZDjV2tpZIl8BoZddoP3ZynU9o8rKOLb7c39CM0TD7+audJ\n",
              "fs4Ej90qfWkueAGX4jZDjSN+JEqNN101qjfH6WjdsHcOwPfPCc0V+vZu1v7hG4slkM4zuiIN5GWy\n",
              "ZIpfFagdYXY5kiB7OP6wigoJjYTdsCJ1uB9/tw5RwrgCgqL93OyQw/LM27n7kJU+2rPmvUxSZRiu\n",
              "SpOXE34hcxsXDxJcUiyW3HEAFP7Vm5+oQiTrLVkKNTl1p2/Y0KYcb0l0gLAI4lpTgPRbBm98PoXU\n",
              "ve5yyZC+mf3HJT11Go0e8BXNXt8LVu9arkrO0QWw7Zdg/AnECt9bBeO7nJMeAkty3bNpGWlIK9PM\n",
              "HcILyBtAAdLBMcrIGLznVb+Lmg5236+le6k3pG0u3nQyqC2ZacrF6PZNY61lYa0HSS5R6rWCQSOl\n",
              "Da5rCyG7hocn73osM6rKAydK2EBbghq0GX1oIiCPobub2tEfbPfTKt6bhMespIteslRQEFHWvion\n",
              "O4bzAuCgg6oRXgAAAwAAAwAAAwAAAwAAAwABAQAAC1VBmiNsQV/+1qVQAACAKarQALqxv9rvhXBu\n",
              "a8X0OE7pgf9Dv+FHz/YBVXq/e5Ni0w0GPvklWkJZSgAWXFooJgRitpNC2VXq5OXrv0pu/filIHX3\n",
              "vF1WnCbx6Eq5BDq2W8P2eVnS1nijMlnKdBYRh6WvrPwdDZMJn9t4e4W5L+FlBsn6c3aywWLn1hka\n",
              "48EA7gpPaq29/5c23hismLriYhR6bjaCHwpqUWDeMls0JiqdMhjXN7lNGNsVdexjet/tLVLEC64B\n",
              "U9k5bKVKItq6sembPC8b7yJ1C8l4JS85NJ8GEE7wx7lBLR9MsKIZtFeDwvg5xOgM2pc3gA+SG6tt\n",
              "6v9l2fRbqrZ3dwLSXxyCqyItHlB8rpJ1MkZ7CHfcEe5b8Cf2dQKMLi2fsJWhe+/jUMOL1S95cvHt\n",
              "LjWJ571uVps5C4k3OLvzFum1IkuUO+Vqv3DFM23yMR5cEvPwmemADYm5PwQEMIONX24BZLSczTmQ\n",
              "3XRbJ1Cku1f3DrOPF15dTxhVWjmC5zvXWIN2+ehgmNUivGCYeRmU/NxluGKD63gwzpWeL8xnvW86\n",
              "nXjmLee2J19MAOD+y5B5fKpLZnFwkmr1fqGfRaIfG28iozMqGE3fxh3xC++K0AD0tGTvkcrxPKaX\n",
              "ddKMz67Xmrv208omy5OKPF2OnNSwz90dqbXMwdOiScX+UrOWXzrdHUwBTM6Iz8JlK7iwXtTiS647\n",
              "5Uob4ry1LS/T/PgaDt7tCFgLrlUrbM0s9zANlBSCrjGKKGeJ2G+HxRKk3qtl13oOmf/4CZ+AIVps\n",
              "68OgRINkyqdLzCAqBvN5sKRveKoV1/Ny5bhcLKmFdHPYKpmlq7FH6aQpanIlfp+FxBAe4mAIoccc\n",
              "GE+elSn75cv4FECKKJRJupViaxhM+NY1mZnlIkYWmXgh18CXQOiMnLHvX0qNkHRZLyqMiyv8uM+4\n",
              "sauubuWBEl4YZnSfZISrse7hzzY3DLtaQEgPhIrOeBlRrEPWj6Kz0yViaXjKZ57UmD2KHkVvua5O\n",
              "pjBql1ITCyMrECPu7K2p+3qii0FpN0+zrowtOt4NU56MEvfN6V2NxDixy2D9/MpCSPYG9853qpCz\n",
              "9PxjoDANG2NP4l2bqgHzV6qAVz29tdxTPhf5JEd7Y+qHWGGzSuEqje4V0KDXJVP2QobmEOqB2T0l\n",
              "bBdMDiZi1kKjJXaun2rpYJTeqMEdNz1FJ6kD2Wwz/NAhIftxByjd/MG4BPGVSeAlRB/2otMaW7uu\n",
              "tn9kE34yPFaKWIJBt/wmgZI3egf68vb4cAciM09e9QKxFJWYCtuctl7m9KiBHBQYhU2TjsYG7GJf\n",
              "18nHEA9Hy7VSKZwmLtNb4EwgkNzLfuCuwv89RsDdYdLdxqtExLITWeSY6f7iZZX6ThX6+SIHWilA\n",
              "QkD8WTJHYcBBY0tusSBxEriipLbE+ow/PP+K0D7rC8CEYqUVS4XWEUHe2/yuZY3lnWT+YdcPl4pQ\n",
              "NNVpWh+TVd3GZI35o5ABTlpAVBYYXT7LDRd7jRKGtqs/MnN4gp2YqB74TanGghnDGrdR68cgmf2E\n",
              "omh6/A6Qd6wkihuBuguICQTlcZUhDNhXkJMI5fj/4jPBeNpwQztF77SMYDC3b0Cy3+6DJlcseHAA\n",
              "ezBgHVnXYza5rx6HHfTmpLolPJKV2NNN9r8X+uWUGy0s2vw/3f1WGDvo3TmyvyqsZRXGPFfb57dp\n",
              "aU/pKZjt9B4jBZqbnz7+4boeVllDSJdGXDqAsd32BXRSj0MuzEshL/ff43WPrsEG3D1+zqvdKc61\n",
              "o/r7HiaKZC3WYXlUN4Odf/FLS2aw0tk9sGv+1lkwgUTrOegsw0ZEdLXx01/2ZWrC3HrR2O0uxXFX\n",
              "JRo8fx9NRPsVi0Yl6W2//bWgsmhADwq3rbHCrYuAlChDSYMXdI6RZxx+REAOfI3SAgSbe9edbEk3\n",
              "nJJBdp9+HmCyPlRcyBu+4DflnXlFqFdmZK1zgzcSsxT/OCog0CtkznV51/5hxZ4ER0tZdNanVnvv\n",
              "RJCCNwfoLqNNi03WS+OpNmSKh+/UT0ng4vJvi6AcCCV265VbZ/epBWx85O/uDiQTxq4O8QIPr+EL\n",
              "0mfgHuDwoVLznOMRcJkGnSMKv+JAkFfS3s9sTlVhKjYiO49lpHqDgDs+DXduBR/ctwUEYmGDSovL\n",
              "Qt17FECKua6xisBxx7+XZTN8QKTOOgt6deYmlFCJ2SsXWki+oAzDykVDELiwPCidTZy6+CuI3SRD\n",
              "YcAU0UBU4z8EX4RCdOrB5F5DtimAtkBndC1wmes5T8zSn9QSNmG8rVuBckDQX9I7/dPVsJFvfFeb\n",
              "SslElhiCxcxHzZa9DnRxNfRfqULNaTn5HZP0rX6yUKr4P3IsWGpbF5zsVSUgJ7X/Z5TaE0OMTxZV\n",
              "dnnMy15ekTuZVjpQ3d8P9K1hOvha9b+iZtn+5OwCw94iL9BQ7WYBG37ubcBNxh/aSXOhOpH9fUtO\n",
              "00goR9mZCu7ecijHJqc7dyp/+MTou5FT4d2PGl9YuHdBPg2I/xSsO01qhgHnty/VNFNyXsHMxdQF\n",
              "2+gP+/2oPf6BgHKET1yaFs+39Fa6RbiapP1GMAbLilTZM/sIp8C7kHb0teDMfW3D4IZ0poQzkQ1L\n",
              "amNkc0uTSBE4H9TtoULlCUse2podbzTggkOYZmjXlsZtNHpeL2FxoTmjjOW/3qbDaq3Qu0m/ht5j\n",
              "NjOtErjsM5IYWMRP0Ng8oZECKRQavCfGfff1CpnYB2wa70IGEVLs/WmZ6HxDIOaC/p8T/ihbSZVW\n",
              "Uea2xOlGKShCEV4RkSgWfefNzDUvvreUFa4N6kH+xCjTbqQ4bY6xjJMsZgkKvBqa1x8UWRMXoE5x\n",
              "gnvKHLLgK+0KgOak7A+ABBGTpB4y3ytX4l7tNfJHImk9TPBvozqzcrn1jbte1nIoZzNQ+sfRcc6N\n",
              "7z8KP+x//XqoC/6ow6DvC3OGbOlvHzc7388O/ZbE0ariqvq/9Q082qTvVzRtHyp9XI94F28LDrlU\n",
              "IoHgOjI+l32Ma1JuwW9HOGVRpCsEtlY6QTfzrNIeUv94b6Qsm3qevnBKsMy3zflnvBk6R+Uvjdul\n",
              "xu5k19V85zlXmYJxEPWWHekWS/df8TjYZXdT2tPTKwvxhWGFVQSYiz/7tFzbssBwixIcz9QBU+Zy\n",
              "vornHPZ58Jm/HxEQX3eOmdtDYnybkJAYzJdm8jQcIV55kLPVHhdKFMDBxNzgKZ/zToroIpl0usZS\n",
              "gJ2Nf4Fhugu8xI3on8ZLGSGQl3cnu1ZuJcYVhSWf/cvPjk9aZJy8lWrmoM92wKLnjgi2Ad2/jxZ2\n",
              "u8LW7xTjdij/U/89PWukE54BQ6CYr9tc9VmhUAOoB4IbZNZH2d7pOc0rQgBmF5SkVs5iJHgvPNKb\n",
              "2Nty8eEtMBYUI3EPQX0jdj23Y9FkbKpHIOqwysWpcwOPwyIqlK+zcUCIz2sdtpNP57LAMUrCYYT7\n",
              "n7Iwtv6sax22B5MogHIUacMdpeVnVGxNh33ffPveUDLRYEi/p8eXZOQkLactn7HY4AQoOXHtkmuE\n",
              "kk7OAHeGZnbftD5nrOcbAMgg4N0Y36WP2FJm1zPiq+rk4+Q5OxHScpjaFli8ydfAfOu36/9FP+kC\n",
              "a7QvoU0mY2VyY5h2eCjsKKyrct5EShp6Czb8pl8xGmuiipNp4I67wFRHp5aGADA86W5niYGSUo+C\n",
              "dYQkPgaCcYQOMf2bfjvknrQlr5Frj6RpzxMwCpp/LXdR2HDi9Qf4tdAs0O6CTtVn/Y+kfoMixuWQ\n",
              "77EYRV/4iubZRxyKP6xmwIxJ+jYv1rSwpstuiEEJfxXfmUiNcAvo/VgLEifuvdXKZhFi/H+Sqs80\n",
              "eTH25bJBrd25DbimW59Peb4C+1J3W5YAAxYAAAIuQZ5BeIK/AAADAFhLu9IEpQAQdcYas0C8s9y7\n",
              "y8msNU8PLh8js3z/wU2PLaOeBtW/p6aEYSS65izBAH4rU7BjMfF21TIhRG7st5ugAAB1Nwbo2ZX7\n",
              "XGMhi9W8cCVS5M65VHXZRwYUbSzCd/I8joDFnZt/3Tk8fAR3Ei5+FxXcV+Vz76Eyy0OZizZroBiP\n",
              "T7zYDvSyyxKgFa6nTQcw2BHdDyLweQTnh317H4zE7hAefJdgRGchFrZxaYSn3ibOzdfErQjONJJ1\n",
              "kxI2RhHDunXqpGfip8lZpsH1i6xDTo3JLquCxshLkIJCK+KHdeGagZvjA7Ra/CiCZRUUv82BnoFH\n",
              "D/7GRZ0YDwgy+tuTae9Ma491k5pwDUo93JbJ/mNQizWkVCbcbj0kVQqfoCQhNfKvKs/NdTO6R5Uv\n",
              "ewor5nCv/DzPfEWE2jWy7NOsIFnM1ycGU2hgnGULdseiSOLdoaEzQ6RQsB5R05IQ3h0Q7s+4o742\n",
              "mC5vhrsAquqxtJFt/Od5Wuu9lU8sJW1iYzuV9UKQh6NAzujm67Y1/EX3GWTPsBKt1GoP/Vx4593Y\n",
              "a63gkkVoDGUNbAJjmDJjrRmcqjNHMgIBZn+gyvvWdqh2azj8/PXKLNat2yIAnaDbBZJ86m9q8J5U\n",
              "4Z1i4fUHwhMgoazZLmbrK7RH9t2v99zfGEJ4h66QVa7WxA+2HB1E5y0Uv/bxOG+oPu7mIc7nfhpI\n",
              "Pe1vzkwpXZ5XuQp0A65NcAEDAAADRQGeYmpBXwAAAwBYSOfoEpQANIVXSYdr6zs+NBUqtCuXXkkP\n",
              "9OjaZrtJl8QYo9vGgr1kUNAiVHneGFOg7gA4Gwr8LlWygWNr/Kbn5MQs9AC1XJU/3nLNRhu31h9L\n",
              "frADf3UJRZsym8cp2zPKigSWiyQLLQqLqcilh7E7KGjQ5s8VgwLLociZOcarAEBVEmWL+CO0EjtC\n",
              "gA0xMYHeA/z0tM6eukve56C2S/GK/HiccSMz7rEz17LePZaIYhHYRPeetoLwENxw1LSabp5K+KNP\n",
              "OGBOh2IH6Zawsyf5iMCwvD12CHiy8+LnwCVVMZv83oBz2G96Ki5MNJDOWFhlNicN3TG0gMeW67ai\n",
              "avjZ+q7zlehqwop3KFgFzSaRmjlfhYPaVRsr3PBDQEkSGqhBWZtKrukCCQK89JQQWnwbOMnXxWIF\n",
              "HkK+hVYiWDKdcSebS4Lkp48srn1LpdcrnSZcserlEUwt08Oqvg9YE8e3yBURrkRYnA3WNGo3+Vb6\n",
              "C1VWgmJ+oVRakpaFTKi007gRfqFhUEvRwX4XwtcdJqvKdHSRQu4hQrSpCFK87FHVyCubX1MXL6bO\n",
              "o7G2h8MceYsZVgDDum242xOKEvare7wrSBsyfnEFblRtqCF6YLIsCGB2EO2Wt2ekp0ybL7uivZdS\n",
              "f1BxEdOnK5G2WHFL978I4uqUM0Y3iOa0WlHVUtlfwPfnK+anPEdFdXJte2ePxMABMePG25qPk4uU\n",
              "iHf/KjT2LAfxeg/0xuf62l8aDWXAsVjE9zqPE+fF9msN+mqcRJVXgKYafKs9laZCK/pB9PadjKEv\n",
              "MRfWiFjlLVWegEEeJS/TSS7WenGXrmgseLN/E0z6LUyvulbsythNTEiTZP5ZBgTkI+s7csCMBJhR\n",
              "7K3hLZMZJTooQNNCwhO77ylPlczm+5xM4qgiUTXvnixkzMoVXIH2WaNSeEhvGLT0Le+BfrxgMSgw\n",
              "Ufdu5B6c+9Wfg+Mh20noaFo2V0Hz7pDtM1jLEuZMiS05TqhMRIOJPBskf7vc+8a6CFNunl/r6R6G\n",
              "eUiWlVyOE3ujM2mxwsazidhP4709OM0VcB9ph59KKNb9J7tEd95zlAq4Ax79hGk/qrJWGy8xP4dQ\n",
              "AAAF3AAAA1dtb292AAAAbG12aGQAAAAAAAAAAAAAAAAAAAPoAAAPoAABAAABAAAAAAAAAAAAAAAA\n",
              "AQAAAAAAAAAAAAAAAAAAAAEAAAAAAAAAAAAAAAAAAEAAAAAAAAAAAAAAAAAAAAAAAAAAAAAAAAAA\n",
              "AAAAAAACAAACgXRyYWsAAABcdGtoZAAAAAMAAAAAAAAAAAAAAAEAAAAAAAAPoAAAAAAAAAAAAAAA\n",
              "AAAAAAAAAQAAAAAAAAAAAAAAAAAAAAEAAAAAAAAAAAAAAAAAAEAAAAACWAAAAZAAAAAAACRlZHRz\n",
              "AAAAHGVsc3QAAAAAAAAAAQAAD6AAAIAAAAEAAAAAAfltZGlhAAAAIG1kaGQAAAAAAAAAAAAAAAAA\n",
              "AEAAAAEAAFXEAAAAAAAtaGRscgAAAAAAAAAAdmlkZQAAAAAAAAAAAAAAAFZpZGVvSGFuZGxlcgAA\n",
              "AAGkbWluZgAAABR2bWhkAAAAAQAAAAAAAAAAAAAAJGRpbmYAAAAcZHJlZgAAAAAAAAABAAAADHVy\n",
              "bCAAAAABAAABZHN0YmwAAAC0c3RzZAAAAAAAAAABAAAApGF2YzEAAAAAAAAAAQAAAAAAAAAAAAAA\n",
              "AAAAAAACWAGQAEgAAABIAAAAAAAAAAEAAAAAAAAAAAAAAAAAAAAAAAAAAAAAAAAAAAAAAAAAAAAY\n",
              "//8AAAAyYXZjQwFkABb/4QAZZ2QAFqzZQJgz5eEAAAMAAQAAAwACDxYtlgEABmjr48siwAAAABx1\n",
              "dWlka2hA8l8kT8W6OaUbzwMj8wAAAAAAAAAYc3R0cwAAAAAAAAABAAAABAAAQAAAAAAUc3RzcwAA\n",
              "AAAAAAABAAAAAQAAAChjdHRzAAAAAAAAAAMAAAABAACAAAAAAAEAAQAAAAAAAgAAQAAAAAAcc3Rz\n",
              "YwAAAAAAAAABAAAAAQAAAAQAAAABAAAAJHN0c3oAAAAAAAAAAAAAAAQAAAYsAAALWQAAAjIAAANJ\n",
              "AAAAFHN0Y28AAAAAAAAAAQAAACwAAABidWR0YQAAAFptZXRhAAAAAAAAACFoZGxyAAAAAAAAAABt\n",
              "ZGlyYXBwbAAAAAAAAAAAAAAAAC1pbHN0AAAAJal0b28AAAAdZGF0YQAAAAEAAAAATGF2ZjU3Ljgz\n",
              "LjEwMA==\n",
              "\">\n",
              "  Your browser does not support the video tag.\n",
              "</video>"
            ],
            "text/plain": [
              "<matplotlib.animation.ArtistAnimation at 0x7fd885bd1048>"
            ]
          },
          "metadata": {
            "tags": []
          },
          "execution_count": 95
        }
      ]
    },
    {
      "cell_type": "code",
      "metadata": {
        "colab": {
          "base_uri": "https://localhost:8080/",
          "height": 352
        },
        "id": "vf0FSL7JQbSb",
        "outputId": "5aed4ae0-4b47-4cfb-bcec-ec00d5fa7695"
      },
      "source": [
        "import PIL.Image\n",
        "import IPython.display\n",
        "IPython.display.display(PIL.Image.fromarray(image_list[-1]))"
      ],
      "execution_count": 96,
      "outputs": [
        {
          "output_type": "display_data",
          "data": {
            "image/png": "[encoded data removed]",
            "text/plain": [
              "<PIL.Image.Image image mode=RGBA size=1425x384 at 0x7FD885B925F8>"
            ]
          },
          "metadata": {
            "tags": []
          }
        }
      ]
    }
  ]
}
