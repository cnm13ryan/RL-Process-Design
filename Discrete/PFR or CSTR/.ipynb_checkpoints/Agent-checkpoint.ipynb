{
 "cells": [
  {
   "cell_type": "code",
   "execution_count": 76,
   "metadata": {
    "pycharm": {
     "is_executing": false
    }
   },
   "outputs": [
    {
     "name": "stdout",
     "output_type": "stream",
     "text": [
      "The autoreload extension is already loaded. To reload it, use:\n",
      "  %reload_ext autoreload\n"
     ]
    }
   ],
   "source": [
    "import numpy as np\n",
    "import csv\n",
    "import matplotlib.pyplot as plt\n",
    "import matplotlib\n",
    "from matplotlib import rc\n",
    "import matplotlib.animation as animation\n",
    "from IPython.display import HTML, Image\n",
    "\n",
    "from scipy import integrate\n",
    "from keras.models import Sequential\n",
    "from keras.layers import Dense, Activation, Flatten\n",
    "from keras.optimizers import Adam\n",
    "from keras.models import load_model\n",
    "\n",
    "from rl.agents.dqn import DQNAgent\n",
    "from rl.policy import EpsGreedyQPolicy, LinearAnnealedPolicy\n",
    "from rl.memory import SequentialMemory\n",
    "%load_ext autoreload"
   ]
  },
  {
   "cell_type": "code",
   "execution_count": 77,
   "metadata": {
    "pycharm": {
     "is_executing": false
    }
   },
   "outputs": [],
   "source": [
    "from PFRorCSTR import simulator"
   ]
  },
  {
   "cell_type": "code",
   "execution_count": 78,
   "metadata": {
    "pycharm": {
     "is_executing": false
    },
    "scrolled": true
   },
   "outputs": [
    {
     "data": {
      "text/plain": [
       "(Box(1,), Discrete(2))"
      ]
     },
     "execution_count": 78,
     "metadata": {},
     "output_type": "execute_result"
    }
   ],
   "source": [
    "env = simulator(volume = 0.8, n_reactors=4)\n",
    "nb_actions = env.action_space.n\n",
    "env.observation_space, env.action_space"
   ]
  },
  {
   "cell_type": "markdown",
   "metadata": {},
   "source": [
    "## If running a reloaded model:"
   ]
  },
  {
   "cell_type": "code",
   "execution_count": 79,
   "metadata": {
    "pycharm": {
     "name": "#%%\n"
    },
    "scrolled": true
   },
   "outputs": [
    {
     "name": "stderr",
     "output_type": "stream",
     "text": [
      "WARNING: Logging before flag parsing goes to stderr.\n",
      "W1027 11:14:09.324756 14920 deprecation_wrapper.py:119] From C:\\Users\\meatrobot\\Anaconda3\\envs\\RL\\lib\\site-packages\\keras\\backend\\tensorflow_backend.py:541: The name tf.placeholder is deprecated. Please use tf.compat.v1.placeholder instead.\n",
      "\n",
      "W1027 11:14:09.356743 14920 deprecation_wrapper.py:119] From C:\\Users\\meatrobot\\Anaconda3\\envs\\RL\\lib\\site-packages\\keras\\backend\\tensorflow_backend.py:4432: The name tf.random_uniform is deprecated. Please use tf.random.uniform instead.\n",
      "\n",
      "W1027 11:14:09.440829 14920 deprecation_wrapper.py:119] From C:\\Users\\meatrobot\\Anaconda3\\envs\\RL\\lib\\site-packages\\keras\\backend\\tensorflow_backend.py:190: The name tf.get_default_session is deprecated. Please use tf.compat.v1.get_default_session instead.\n",
      "\n",
      "W1027 11:14:09.444808 14920 deprecation_wrapper.py:119] From C:\\Users\\meatrobot\\Anaconda3\\envs\\RL\\lib\\site-packages\\keras\\backend\\tensorflow_backend.py:197: The name tf.ConfigProto is deprecated. Please use tf.compat.v1.ConfigProto instead.\n",
      "\n",
      "W1027 11:14:09.444808 14920 deprecation_wrapper.py:119] From C:\\Users\\meatrobot\\Anaconda3\\envs\\RL\\lib\\site-packages\\keras\\backend\\tensorflow_backend.py:203: The name tf.Session is deprecated. Please use tf.compat.v1.Session instead.\n",
      "\n",
      "W1027 11:14:09.516831 14920 deprecation_wrapper.py:119] From C:\\Users\\meatrobot\\Anaconda3\\envs\\RL\\lib\\site-packages\\keras\\optimizers.py:793: The name tf.train.Optimizer is deprecated. Please use tf.compat.v1.train.Optimizer instead.\n",
      "\n"
     ]
    },
    {
     "name": "stdout",
     "output_type": "stream",
     "text": [
      "Model: \"sequential_1\"\n",
      "_________________________________________________________________\n",
      "Layer (type)                 Output Shape              Param #   \n",
      "=================================================================\n",
      "flatten_1 (Flatten)          (None, 1)                 0         \n",
      "_________________________________________________________________\n",
      "dense_1 (Dense)              (None, 16)                32        \n",
      "_________________________________________________________________\n",
      "dense_2 (Dense)              (None, 16)                272       \n",
      "_________________________________________________________________\n",
      "dense_3 (Dense)              (None, 16)                272       \n",
      "_________________________________________________________________\n",
      "dense_4 (Dense)              (None, 2)                 34        \n",
      "=================================================================\n",
      "Total params: 610\n",
      "Trainable params: 610\n",
      "Non-trainable params: 0\n",
      "_________________________________________________________________\n",
      "None\n"
     ]
    }
   ],
   "source": [
    "model = load_model(\"DQN_agent.h5\")\n",
    "print(model.summary())\n",
    "steps = 15000\n",
    "policy = LinearAnnealedPolicy(EpsGreedyQPolicy(), attr='eps', value_max=1., value_min=.05, value_test=0, nb_steps=steps)\n",
    "memory = SequentialMemory(limit=50000, window_length=1)\n",
    "dqn = DQNAgent(model=model, nb_actions=nb_actions, memory=memory, nb_steps_warmup=9,\n",
    "target_model_update=1e-2, policy=policy, gamma = 0.95)\n",
    "dqn.compile(Adam(lr=1e-3), metrics=['mae'])"
   ]
  },
  {
   "cell_type": "markdown",
   "metadata": {},
   "source": [
    "## Otherwise make model from scratch as below"
   ]
  },
  {
   "cell_type": "code",
   "execution_count": 80,
   "metadata": {
    "pycharm": {
     "is_executing": false
    }
   },
   "outputs": [],
   "source": [
    "%autoreload"
   ]
  },
  {
   "cell_type": "code",
   "execution_count": 81,
   "metadata": {},
   "outputs": [
    {
     "data": {
      "text/plain": [
       "2"
      ]
     },
     "execution_count": 81,
     "metadata": {},
     "output_type": "execute_result"
    }
   ],
   "source": [
    "nb_actions"
   ]
  },
  {
   "cell_type": "code",
   "execution_count": 82,
   "metadata": {
    "pycharm": {
     "is_executing": false
    }
   },
   "outputs": [
    {
     "data": {
      "image/png": "[encoded data removed]",
      "text/plain": [
       "<Figure size 432x288 with 1 Axes>"
      ]
     },
     "metadata": {
      "needs_background": "light"
     },
     "output_type": "display_data"
    }
   ],
   "source": [
    "label_size = 20\n",
    "X = np.linspace(0, 1, 100)\n",
    "Y = -10*X**2 + 10*X + 2\n",
    "plt.plot(X, Y, color = \"dodgerblue\")\n",
    "plt.xlabel(\"Conversion (X)\", fontsize=label_size)\n",
    "plt.ylabel(r\"$ - \\frac{F_{A0}}{r_a} $\", fontsize=label_size)\n",
    "plt.grid(True)\n",
    "\n",
    "previous_index = 0\n",
    "conversion = 0\n",
    "X_out_PFR = []\n",
    "X_out_CSTR = []\n",
    "X_react = []\n",
    "Y_react = []\n",
    "color = []\n",
    "\n",
    "while conversion < 0.4:\n",
    "    conversion = env.equation_solver(1, conversion)\n",
    "    X_out_PFR.append(conversion)\n",
    "    index = np.where(abs(X - conversion) == min(abs(X - conversion)))[0][0]\n",
    "    X_react.append(X[previous_index:index])\n",
    "    Y_react.append(Y[previous_index:index])\n",
    "    previous_index = index\n",
    "    color.append(\"deepskyblue\")\n",
    "  \n",
    "while conversion > 0.4 and conversion <= 0.9:\n",
    "    conversion = env.equation_solver(0, conversion)\n",
    "    X_out_CSTR.append(conversion)\n",
    "    index = np.where(abs(X - conversion) == min(abs(X - conversion)))[0][0]\n",
    "    X_react.append(X[previous_index:index])\n",
    "    Y_react.append(np.zeros(X_react[-1].shape) + Y[index])\n",
    "    previous_index = index\n",
    "    color.append(\"steelblue\")\n",
    "\n",
    "\n",
    "\n",
    "for i in range(len(X_react)):\n",
    "    plt.fill_between(X_react[i], Y_react[i], color = color[i])\n",
    "\n",
    "    \n",
    "legend_elements = [matplotlib.lines.Line2D([0], [0], c=\"deepskyblue\", lw=4, label='PFR'),\n",
    "                   matplotlib.lines.Line2D([0], [0], c=\"steelblue\", lw=4, label='CSTR')] \n",
    "\n",
    "plt.legend(handles = legend_elements, title = \"Reactor Type\", loc = 1)\n",
    "plt.savefig('Ideal_Soln.png', bbox_inches='tight')"
   ]
  },
  {
   "cell_type": "code",
   "execution_count": 83,
   "metadata": {},
   "outputs": [
    {
     "data": {
      "text/plain": [
       "(0.44804425979999357, 0.6331085954859981)"
      ]
     },
     "execution_count": 83,
     "metadata": {},
     "output_type": "execute_result"
    }
   ],
   "source": [
    "X_out_PFR[-1], X_out_CSTR[0]"
   ]
  },
  {
   "cell_type": "markdown",
   "metadata": {},
   "source": [
    "## Doube check volumes are correct to make sure simulator solver is working"
   ]
  },
  {
   "cell_type": "code",
   "execution_count": 84,
   "metadata": {},
   "outputs": [
    {
     "data": {
      "text/plain": [
       "(0.7999999999999999,\n",
       " (0.8000000000000004, 8.881784197001257e-15),\n",
       " 0.8000000000000009)"
      ]
     },
     "execution_count": 84,
     "metadata": {},
     "output_type": "execute_result"
    }
   ],
   "source": [
    "def PFR(x):\n",
    "    return -10*x**2 + 10*x + 2\n",
    "def CSTR_vol(x, x_in):\n",
    "    return (-10*x**2 + 10*x + 2)*(x - x_in)\n",
    "\n",
    "PFR1 = integrate.quad(PFR, 0,  X_out_PFR[0])[0]\n",
    "PFR2 = integrate.quad(PFR, X_out_PFR[0], X_out_PFR[1] )\n",
    "CSTR1 = CSTR_vol(X_out_CSTR[0], X_out_PFR[-1])\n",
    "\n",
    "\n",
    "PFR1, PFR2, CSTR1"
   ]
  },
  {
   "cell_type": "code",
   "execution_count": 92,
   "metadata": {
    "scrolled": false
   },
   "outputs": [
    {
     "name": "stdout",
     "output_type": "stream",
     "text": [
      "Model: \"sequential_2\"\n",
      "_________________________________________________________________\n",
      "Layer (type)                 Output Shape              Param #   \n",
      "=================================================================\n",
      "flatten_2 (Flatten)          (None, 1)                 0         \n",
      "_________________________________________________________________\n",
      "dense_5 (Dense)              (None, 16)                32        \n",
      "_________________________________________________________________\n",
      "dense_6 (Dense)              (None, 16)                272       \n",
      "_________________________________________________________________\n",
      "dense_7 (Dense)              (None, 16)                272       \n",
      "_________________________________________________________________\n",
      "dense_8 (Dense)              (None, 2)                 34        \n",
      "=================================================================\n",
      "Total params: 610\n",
      "Trainable params: 610\n",
      "Non-trainable params: 0\n",
      "_________________________________________________________________\n",
      "None\n"
     ]
    }
   ],
   "source": [
    "# Next, we build a very simple model.\n",
    "model = Sequential()\n",
    "model.add(Flatten(input_shape=(1,) + env.observation_space.shape))\n",
    "model.add(Dense(16, activation = 'relu'))\n",
    "model.add(Dense(16, activation = 'relu'))\n",
    "model.add(Dense(16, activation = 'relu'))\n",
    "model.add(Dense(nb_actions, activation = 'linear'))\n",
    "print(model.summary())"
   ]
  },
  {
   "cell_type": "code",
   "execution_count": 93,
   "metadata": {
    "scrolled": true
   },
   "outputs": [],
   "source": [
    "steps = 15000\n",
    "policy = LinearAnnealedPolicy(EpsGreedyQPolicy(), attr='eps', value_max=1., value_min=.05, value_test=0, nb_steps=steps)\n",
    "memory = SequentialMemory(limit=50000, window_length=1)\n",
    "dqn = DQNAgent(model=model, nb_actions=nb_actions, memory=memory, nb_steps_warmup=9,\n",
    "target_model_update=1e-2, policy=policy, gamma = 0.95)\n",
    "dqn.compile(Adam(lr=1e-3), metrics=['mae'])"
   ]
  },
  {
   "cell_type": "code",
   "execution_count": 94,
   "metadata": {
    "scrolled": true
   },
   "outputs": [
    {
     "name": "stdout",
     "output_type": "stream",
     "text": [
      "Training for 15000 steps ...\n",
      "Interval 1 (0 steps performed)\n",
      "10000/10000 [==============================] - 156s 16ms/step - reward: 0.2175\n",
      "2500 episodes - episode_reward: 0.870 [0.769, 1.000] - loss: 0.000 - mean_absolute_error: 0.263 - mean_q: 0.539 - mean_eps: 0.683\n",
      "\n",
      "Interval 2 (10000 steps performed)\n",
      " 4997/10000 [=============>................] - ETA: 1:15 - reward: 0.2371done, took 231.612 seconds\n"
     ]
    }
   ],
   "source": [
    "# Okay, now it's time to learn something! We visualize the training here for show, but this slows down training quite a lot. \n",
    "hist = dqn.fit(env, nb_steps=steps)"
   ]
  },
  {
   "cell_type": "code",
   "execution_count": 95,
   "metadata": {},
   "outputs": [],
   "source": [
    "reward_data = np.array(hist.history[\"episode_reward\"])"
   ]
  },
  {
   "cell_type": "code",
   "execution_count": 96,
   "metadata": {},
   "outputs": [],
   "source": [
    "np.savetxt(\"rewards.csv\", reward_data, delimiter=\",\")"
   ]
  },
  {
   "cell_type": "code",
   "execution_count": 97,
   "metadata": {},
   "outputs": [],
   "source": [
    "reward_data = np.loadtxt(\"rewards.csv\", delimiter = \",\")"
   ]
  },
  {
   "cell_type": "code",
   "execution_count": 98,
   "metadata": {},
   "outputs": [],
   "source": [
    "model.save(\"DQN_agent.h5\")"
   ]
  },
  {
   "cell_type": "code",
   "execution_count": 99,
   "metadata": {
    "scrolled": true
   },
   "outputs": [
    {
     "name": "stdout",
     "output_type": "stream",
     "text": [
      "dict_keys(['episode_reward', 'nb_episode_steps', 'nb_steps'])\n"
     ]
    }
   ],
   "source": [
    "print(hist.history.keys())"
   ]
  },
  {
   "cell_type": "code",
   "execution_count": 100,
   "metadata": {},
   "outputs": [],
   "source": [
    "def running_mean(x, N):\n",
    "    cumsum = np.cumsum(np.insert(x, 0, 0)) \n",
    "    return (cumsum[N:] - cumsum[:-N]) / N"
   ]
  },
  {
   "cell_type": "code",
   "execution_count": 101,
   "metadata": {},
   "outputs": [
    {
     "data": {
      "image/png": "[encoded data removed]",
      "text/plain": [
       "<Figure size 432x288 with 1 Axes>"
      ]
     },
     "metadata": {
      "needs_background": "light"
     },
     "output_type": "display_data"
    }
   ],
   "source": [
    "smoothed_rews = running_mean(reward_data, 100)\n",
    "plt.plot(np.arange(np.shape(smoothed_rews)[0])[-len(smoothed_rews):], smoothed_rews)\n",
    "plt.plot(np.arange(np.shape(reward_data)[0]),reward_data,color='grey', alpha=0.3)\n",
    "plt.xlabel(\"Episodes\")\n",
    "plt.ylabel(\"Reward\")\n",
    "plt.legend([\"avg reward\", \"reward\"], loc=4)\n",
    "plt.savefig('Learning.png', bbox_inches='tight')"
   ]
  },
  {
   "cell_type": "code",
   "execution_count": 102,
   "metadata": {
    "scrolled": false
   },
   "outputs": [
    {
     "data": {
      "text/plain": [
       "<matplotlib.legend.Legend at 0x20bd7466d48>"
      ]
     },
     "execution_count": 102,
     "metadata": {},
     "output_type": "execute_result"
    },
    {
     "data": {
      "image/png": "[encoded data removed]",
      "text/plain": [
       "<Figure size 432x288 with 1 Axes>"
      ]
     },
     "metadata": {
      "needs_background": "light"
     },
     "output_type": "display_data"
    }
   ],
   "source": [
    "fig, ax = plt.subplots()\n",
    "ax.set_xlabel(\"Episodes\")\n",
    "ax.set_ylabel(\"Reward\")\n",
    "ax.set_xlim(0,4000)\n",
    "ax.set_ylim(0.75, 1)\n",
    "interval = 30\n",
    "\n",
    "lines = []\n",
    "line1, = ax.plot([], [])\n",
    "lines.append(line1)\n",
    "line2, = ax.plot([], [],color='grey', alpha=0.3)\n",
    "lines.append(line2)\n",
    "ax.legend([\"avg reward\", \"reward\"], loc=4 )"
   ]
  },
  {
   "cell_type": "code",
   "execution_count": 103,
   "metadata": {},
   "outputs": [],
   "source": [
    "def init():\n",
    "    for line in lines:\n",
    "        line.set_data([],[])\n",
    "    return lines"
   ]
  },
  {
   "cell_type": "code",
   "execution_count": 104,
   "metadata": {},
   "outputs": [],
   "source": [
    "def anim(i):\n",
    "    smoothed_rews_ = smoothed_rews[0:i*interval]\n",
    "    reward_data_ = reward_data[0:i*interval]\n",
    "    lines[0].set_data(np.arange(np.shape(smoothed_rews_)[0])[-len(smoothed_rews_):], smoothed_rews_)\n",
    "    lines[1].set_data(np.arange(np.shape(reward_data_)[0]),reward_data_)\n",
    "    return lines"
   ]
  },
  {
   "cell_type": "code",
   "execution_count": 105,
   "metadata": {},
   "outputs": [],
   "source": [
    "anim_Learn = animation.FuncAnimation(fig, anim, frames = round(len(smoothed_rews)/interval), init_func=init, interval = 100, blit = True)"
   ]
  },
  {
   "cell_type": "code",
   "execution_count": 106,
   "metadata": {
    "scrolled": true
   },
   "outputs": [
    {
     "data": {
      "text/html": [
       "<video width=\"432\" height=\"288\" controls autoplay loop>\n",
       "  <source type=\"video/mp4\" src=\"data:video/mp4;base64,AAAAHGZ0eXBNNFYgAAACAGlzb21pc28yYXZjMQAAAAhmcmVlAABcIW1kYXQAAAKuBgX//6rcRem9\n",
       "5tlIt5Ys2CDZI+7veDI2NCAtIGNvcmUgMTU4IHIyOTg0IDM3NTlmY2IgLSBILjI2NC9NUEVHLTQg\n",
       "QVZDIGNvZGVjIC0gQ29weWxlZnQgMjAwMy0yMDE5IC0gaHR0cDovL3d3dy52aWRlb2xhbi5vcmcv\n",
       "eDI2NC5odG1sIC0gb3B0aW9uczogY2FiYWM9MSByZWY9MyBkZWJsb2NrPTE6MDowIGFuYWx5c2U9\n",
       "MHgzOjB4MTEzIG1lPWhleCBzdWJtZT03IHBzeT0xIHBzeV9yZD0xLjAwOjAuMDAgbWl4ZWRfcmVm\n",
       "PTEgbWVfcmFuZ2U9MTYgY2hyb21hX21lPTEgdHJlbGxpcz0xIDh4OGRjdD0xIGNxbT0wIGRlYWR6\n",
       "b25lPTIxLDExIGZhc3RfcHNraXA9MSBjaHJvbWFfcXBfb2Zmc2V0PS0yIHRocmVhZHM9OSBsb29r\n",
       "YWhlYWRfdGhyZWFkcz0xIHNsaWNlZF90aHJlYWRzPTAgbnI9MCBkZWNpbWF0ZT0xIGludGVybGFj\n",
       "ZWQ9MCBibHVyYXlfY29tcGF0PTAgY29uc3RyYWluZWRfaW50cmE9MCBiZnJhbWVzPTMgYl9weXJh\n",
       "bWlkPTIgYl9hZGFwdD0xIGJfYmlhcz0wIGRpcmVjdD0xIHdlaWdodGI9MSBvcGVuX2dvcD0wIHdl\n",
       "aWdodHA9MiBrZXlpbnQ9MjUwIGtleWludF9taW49MTAgc2NlbmVjdXQ9NDAgaW50cmFfcmVmcmVz\n",
       "aD0wIHJjX2xvb2thaGVhZD00MCByYz1jcmYgbWJ0cmVlPTEgY3JmPTIzLjAgcWNvbXA9MC42MCBx\n",
       "cG1pbj0wIHFwbWF4PTY5IHFwc3RlcD00IGlwX3JhdGlvPTEuNDAgYXE9MToxLjAwAIAAABNPZYiE\n",
       "AD///vdonwKbWkN6gOSVxSXbT4H/q2dwfI/pAwAAAwAAr9Z/CUmrMFECNkiKr1VJ6KMcbAyvfAgs\n",
       "4pdZvdrVhcPg65U9m86QvYWXbOswu2JvqLqMM3LdB0Jnb7D2uU1YKH2TYhJu0/fLW+M8noxXQ5de\n",
       "PUazQ1OZwJrgAAADA932f9mfqph+1Y50DwyzUgPZ+SanVjERd/VXj1DZhnoNg44nKDgLUrC+9EPP\n",
       "R0hFF+y+vxNZks25jFu995PuIEE2jUzVWRirpev373mMNRIFLQgDQ7bFwd3/z5U/mIO4vWb9XtrN\n",
       "VRuUK/7NImOZc7wcth6IvqUU68xXKzXTqqUwfSoKsKG9ejOro6UIfZjOjjtwtkhnrM0kLp8OWkBr\n",
       "5VwqJwl7WalqU5ADH//pf+8zg/9LM1UiFBx9fwmJPKHcQ4AijAXpi5LFkLAa7p1c8bzpBta8Z6Ms\n",
       "JXKxZfSE8MD4AJbThBHP5aOzNxRLniPkdUKZwTPPG1agU41mPN9zG/nX/xWAG5OGmLqPmss4vsvl\n",
       "OrGNlXP3E6xit++vilR9PPFvDxaRcb35nlFnyAh6/b6PpTfOyE7z1+56RejvbPy/LlgVw3BbiNLn\n",
       "PqD5KUI4Pvc4tblq3COrOA1iKS8M1oR+F8tbSZYjv9OsxkoETD4xN+x/sm+/wECo8HvGU8NRvgAE\n",
       "XbRVDNlXGNE9UPIxjhV79YZwsV+bLiCkqIhayHUkWMQBZUxV2BAhBwcGdKlyY7fdbb1a55RA4UJO\n",
       "xE+V1jdubfBJ7XCmoMiF+tAuRv8U9sm4BS5bEHmGZ6/chyfDi8tHgIcMNa8H9RqgQ/t8j6mdsCPG\n",
       "Erb1MhgODD1vfEytyPlk5dOoBK1dzW3weg911udXxbePVyuA+Es14ydmvWxIUktBz2ceJI5kX12W\n",
       "r3RyQdQGjTMlyiNHO4LoPt+ZTyiBo3kAuxLK29HZLdhwPezCdpWhDCVlE9dsDJccy/5l1GpVGshe\n",
       "U/g/7UmWIk13CLcap5eyWZlE8xWLCR3OYud/jljJkMmfkXxvudF0Dxi6Zp0Ae0hhErcrA188E4TM\n",
       "piP3TbX+chLoyjRSPbICf3iA+uWJm0ds2C1lZrEF6o+goRvDCfVgRQKv6//2SIbFsrUQJ13dfBIf\n",
       "5mYks7fo6dIxW8Tn1BzbbHx+NZME+QuNum1c+NS4OJkPpW5rbTzLtc3mi7gbp0TkQr6Qye6wMyVO\n",
       "8XnkaPue6V8ntr3RMBgckgUGlDBqqdTbGpEvk5W8bfeERFaz1hY9UZ33hKcw361QYa/HDd2TBLuA\n",
       "AkBrj+dTpnmQdnVmC5FJudzvHd4cX+8TxBN3bzwjVo8xcFfb4PIpOxYKGBo9fP/gv/3uZ1iKroFo\n",
       "Dr8lJ+KmdZIPUOetaUdqH6qHMs4rdPkL17klTanX3BLGrztLZcYRPg1ldlubnJke5g//gcwrMB9b\n",
       "iO5wR81dMwIpD3G3hodD2e5MvrdB+srI7y/Hl2kuaSxWgAJnUwf1iBxR3Uql4p/yUanfc++SiwmU\n",
       "9NcHI9lGYGQY6WbIZMlOP8sI4cA9HePvt7/SetvcsJ5npzDHXvnbonpTfuJ1UtD6Z5uDeiyKqaq6\n",
       "OxUoQ82nRZB8uHgnZZM1/HObQhsjjPLxbp/TRc7F8K045kMECClIRVW800UrsN4xSSHj9Vh+FjIa\n",
       "+xEk+y4wCx+u5IgXqXbYDZocf71S+BERH+lGxc8SiVq++EBLyabQN9UWsOvLttWRtTPVDS82qOWc\n",
       "RKnym3ihiuXku2ULAbStCGdahz5gW45T+W9TM5SlUDCT48BGZP8BRl/cWR2skdddVOCnSBxpd6h+\n",
       "RHcnmctMI6wH4jPenRurux63Gmynba6PyFRdqg1PodjXD6fbSd4wHm4VKHSZX5seuQl8UyrSLDgJ\n",
       "YzZ47X4dIuJZQwAFVJ/VCkbD8JO5XjC/8tUjscfiFSkt6MPP3htgTKEqTCGu20ACS2yzfGV2rR6f\n",
       "xlvh10K+dg9NnGvH/CvgsyCmuQ/oyGfLNK+sF+tZ8QaSDRlhw+HCnrnAFGhTt52aP7Vqf7MTpPSD\n",
       "HAh61D2byvXimkX/ifCBLnwQaaDLgZt1mXX7tInwJNT4ud6QazUte2TjSIjlOcfSDYYk6zp/IlY+\n",
       "jMHHAFO3+jGEHav//HtpmCD6RwHv9F/GZfFr73q8gIl9+EAKs+4e9RmOTUuNR8Efbsjk9KTgs8cH\n",
       "ZSx93qvB1D3vgIWOdzSEKRXCsDuRIONpXYQ5F+H4o4cUFE05ooOCumsg49md8p8Nl5GU2us6Ljae\n",
       "ifgwBYxLB1OjHRg+T21//D3ntqZ1VeMQm9eGQj5URrvxY4PKRKfOa5+qait/F/tnakE1bYV0dmuO\n",
       "rSfe9Xv7wGOxJJyk4qUYssm08V2n0VZK0mEcaKK+kDTZyIBrKDv8eY3bwV6SEpQ7VIwEjq0T5CTj\n",
       "IY9pJbdJwIJyfivziwvwdqgw+g38qpsKflMduixOsYL0/YZ5qmR2qYtgwe7RWIzAURecGn5W77cb\n",
       "BqF8UAd/BklXN/nx7fSrts1L4VnDkuAe643x62TWl4NiJIoEbNPuAPi41sW+XcyC/uIVjIUuBpZF\n",
       "4ic3VGSRRgqMURWiM2nCHh7ultv4a8ADxrW8BS3BsP3ihfB9YDveXIQgjzemZcrc4UmUTxPgoXq0\n",
       "CK1x6k46tEpjz2kiat/mfRqFhf4R239LfDYpyVqEAHaCGhllji9eO02GTa14IUmA5UlDKQIAHpIT\n",
       "wj4mPfnDW1pokJ4PlO2WYtvOXk0XRGcursJp6RUO6PNWmDn3+bL2fL19/lteZ0EH3m9FAT3h5mlH\n",
       "BvaFyl4miUSdAc7bGZvkNJdSbhaCv/0mMgfLVawoSYjXLG5ZAFQ1ltQI9MXmeLhCQz35b0A+y52Y\n",
       "tahyA4skyqFZEKT3S1P4a1x6OG6+5RsiH+blCX4gEqwW0+cf2xag+jm8Qkv3vDi6mfh9LSLL0vHH\n",
       "6tnAsyliSCeI6qmOulNDA8OiKf+8K+sGn/QD0/eoT5iiPlThrfRPMQT/HZPLoSaWOF9QLdPIqWBF\n",
       "umncw9gBoRmKwX5dbA6/+B/csuPhJ5wGh1MORVypQeP9XQM7FAwR8HTwte6hk3MVf9DfiybetnCj\n",
       "m01ZCNwdhCXzZNPs7d08o521yoZe9y9TsGB97fWJb6xhNbyXsuAV2nv/SRoK3JxV4cZaNxbVkVrT\n",
       "Ox6gLYs06zepWzeqw/96UD+N89esdYeQDZqbPmnRjY1s4nUZ+0A3atv6bP/MbDkm4HjNexIXUkxc\n",
       "ystzm/8K3vNY0S6H4FR0hHrWG9R/kcsWAa851hmXufHHdPemMm0gfqgyfE4bdSGAac4vJd/f/Gt1\n",
       "79qPwme4PuI93R3gbN3857fQ2+UqPofivkPWTLdEQZFn0Y+0f/HQ09YL/mtG5TqAGp52mEAUAJqP\n",
       "KtYk/0gX/yv3FYrPG+9Ip3r5pFjVeDJwlrhQT54U32V9m72NpoEa87juxaa1XGqcBJ3Kwy5wvjay\n",
       "RkXsxNnYYBeAUb+n1TaK+pwo1qBDtwOj+YGZfud+0aVFOw0WPU7QTWS/MJ18RLpMlofMHX/ZM5m0\n",
       "EZ39KIEXARFMiO//pARB5n2vcV41ZlhNdwTWRNYSDK8dpGynbSJEB6JbDW+aBq9BIuO47Fr1Mu3W\n",
       "nUSk/Tt39FpwgqAvqMzhYd/fEKI2AD6L8KkbH8Ty2yYZ0Pyuu17a9/im8MJnfabl1emNZvPfZ8JZ\n",
       "rub/rMdsrKB6vTQXpS6hNHjV8cdORMZjL+INO4+jgKqawpiR2o/Fq2d8Ck+8fg1E7ZUUVhY3wNkf\n",
       "PJjsC+zUlW5VfW1EP56ODoDf2R7LOECKVVUo3gThf4KcNBYGhET38s7LrZoAPTTzRn8kljM16Ls1\n",
       "DnnpHlDF0uEaavasAjZF+6LCduqy8nszg1IS23ObID9XvxayO54JHp2+bFDl8j/d66AkxHyCZ1Ew\n",
       "/jz+gn7lrdEK0WU7Sp2F/OttanV+Nd1nuzZ3vtQ4f2Q/izDbk7+ZGgaCkv+We8WnKUsCj0u4Gwdo\n",
       "S9KYlZk/4CQYaPIJkDlz79h6I8Rcml9fA4SGI/LidStLtfslLDLtsMcTTDLRt2n6roW9HOtZ22SW\n",
       "RwNJ8hWyVuq03EQph1LjrEWqPelLiiyh2D14sqJifaal3x+y7p+QU/ajUej+DnGD+Z5UNeH9rzjd\n",
       "zbcu1b+iLxfe8jg8u5/uQD86Qo97xfpgOwqVe9A8ARGrZdaYDe1GOXnS8rGECo8mqnmW+E0HKaFT\n",
       "4AQyYVrJ7wiAXlWXxmCO8Qb5eua8HTA77p7uvq85nRcq6A+tPbBa6Hi8WRKPzRyT+TNWoDUFnnEC\n",
       "NAvGuiVquCrW45qNvtFRvuqzVjWz6C2RgRMyyPjWPdDi5F2lfqH9tWUF/zIbrLCYa1D/999YNUE5\n",
       "E0004WSnlDBFX9Aiq6EkfwcdE4enHAvwKxuufa6gF7iyAaN+j6g5UxdNQpRjaeZB3taYRALg0AbG\n",
       "6alLyLIxDPlo/4zIKmOIqixdlRTnqk6Z09/yVoaXsVKeWxqAtBuD3Cdh4O2SoAkCeb7y1UYgIrfm\n",
       "KvvAceKgqv9lDnFscMhoQyO73MCiiUu1BZq71T+fuXlAL//1qtOmC/RgUZ6KykFtvg2Tb2qrin6l\n",
       "rARPtDdfe59qS/QVC3MePkYl07gAZ8jfVF6Mb9fKp/G1bl50oy8jiAkYXUodjsvkZyC0s7Jqyqpy\n",
       "2t6y/aFd0d2T7GiQqmivE100UHDPYJyWl9vdz/1b+k3mKOrB2W0jnLc5XjhRMUZ9THHRCDwKCrCu\n",
       "akD5WJmPXhwT/4fgMmeFA/Fh6d0W3FXPUafWOZ74yBV9OdgfJQCyjY7S5NGB9O+lR51/hOg90piS\n",
       "gQWtf0X8C3V2DLd2sylDihgl+EF9UJvgIl9EOD1z92D4Kdd6BhtT3vk1UXxLKv3BSKy5XRau2FHd\n",
       "sxaZAILsjabcdnk5iGq+anhFUowjW6Ytv8LMFOsuGkjovbj/gHSmcgeQ/DP9ZURLMCI03fc/GGos\n",
       "BYO0Bmy6bahK8bVlmS5kANhRtob2JAvBE6gh7ippH48ZYCN4ftVNzxycW/pBSQyi/u0smiz0MSbx\n",
       "fQFPoOCPu7bs/n393XMLkrTQhLFeZIBSKcsDKmP3PE7wLtPDemQBreyKQ7reK/mMg8AxrZ0JkE61\n",
       "Z/Q0r6q3fZvjEwdsDC0QzbdvZeYffj9JSpTdfJ7UX3UsiZVwMlVE4mEABwFCbizZhY8XxXULa/N5\n",
       "Qnz04fsmo27abCzYO9QlNqphOXADY34Mzq3vnCeJjQJRsVU4iuSC81I0y+wE5u+dS0UeUKLpfWEf\n",
       "x+jB+4YgB+BPp8ABwq6jjQh+oHgi8tV7sYIIgptojvtMAFUPp7IuyheFWtmsVePWmGyp5RcXCq/+\n",
       "vZv2yge3HFtXEyN6ccI2ozaQT+CxWy/5fQUobk1q7a5G1jJB4Zpgn19s1NPZxi/C/yAddQNcfRFb\n",
       "hXXHSHWP1VTIHkTER5Hz3VzenMN37BKb8Zt0iyOWMEzLYV37yoqhVpMOb1DTa/KSZVsMr8lK5QMZ\n",
       "rPpgF3i7j4gVrE/zlUn0FUpuufo5/8+3wDuJhm53HXgLme1C/bRedXHujW57YUBjfnOjBzGEczyA\n",
       "gyefitrp8hwNPsIJygNe8NFjrccH6uEpDI4xwxR3jbupI9nBPLbve55jVbldWDkxuorDzdDAPI5e\n",
       "QOCDM83R1sealEaX+kDh1GH4bWo8LkJLUJ9m3WxvQ+fjcCwxlPhoH7zHoDDhSiEIxdhUFl0bOa/B\n",
       "wYtIyT2jz6u7+gCo0CEJtX6xneblbxy2vFrYbYIi5TxFLoAAp9/YtojiC4hnzPAjmI8bUhHuOC7M\n",
       "LUKo0+zo6LvztIrDLtH5sCA7vGimUe7gA8Hk22l9RDiTGPCKtPJCqF61bfFmLpkstcvl984PbgRN\n",
       "qGYrWGJC8O3Ub5uz3i9RsmBGR09GrLPGRDMl1tGYqJ8+4tTX70CE5Im7rPIzW42D2h2vzNpceacx\n",
       "yobxKatx079qOrA0JzJyOCkQqTWmBKr9YamDF31RsGlxkXMaPepatSEI8u8shsla/oZ1AVh5Y9dn\n",
       "Yvpzd4djm+jCbrVWjdcFdFjH8NH1opgSaTZlmxJ50jDkkARAUQdW+3lxg+HxdmFZkUUxUl5zw7P/\n",
       "eBHrsUml4CVoHg/wNl1YyCaOe3klDWE/uex4MFW04dnhQ1OkDK+MZmVZsBTFTX5oZEvdaBVI51eo\n",
       "N/7EszyDs4EgKh1W4Ick5WdFAdiDEkxrj6X/7XbfBrRSU+ov/k6+Cb7hhbLL5t4WvlS0IZtX8h2G\n",
       "FZtxpIt511z58XBq0xljaX9RpNUzus/XoM9w13+79MXq1R3x0aPn3AcvWZ1/eHve+e+c+ZvX8193\n",
       "OxYxUI5Nu/5UxgzQNloUBiTdKjCP31X2fMQel1eRlDE2raH4ekfRq90iM9J5A01KLVLWpreOKHSi\n",
       "zTWcwEScTD9zFI5lU0rB/l1DSFNCuP85BGQsbdFFoiGet42/1Be+rHmTmSmcYR0kmatOBAnevYre\n",
       "2DdH2RCX8bDtNTYvDg1ZUvBQ7MNW6OLoFzZwNJKthHPvIAAAcEEAAAJeQZohbEEP/qpVB1A+ADN3\n",
       "K1O/TKoVtbsz3Q9clWuCpldOrLC7t9tSyyWr3aVda6v2n1e+9z43xTHb5wH8t8q87b0Izq4XHfrn\n",
       "2fg8zct0tsqDsm3DaFAsoXFRfE/yko5sc5On+Mgd7kd2/IJbJgGO1W9E1P6RKt0/1bapl56KuOiE\n",
       "FWyb7981+BJiKl9wQPsOzNDj388EJAE+Q8PsypEs5Gl/tCdgH6hRN1h9n8ihxt4rYH8IShYHeGvQ\n",
       "5IUTEgH8iqz9A6P1MHdroo0NNzWPNbpGFO3+I6JoLw2AtTqZ+21Orr5z1ffsnmstQZ+Dh5y1QiSk\n",
       "HKmSjIqop08zsiFd8ZqrWyO7iiiDrq2I52SvPE1+H3aA6JTSajkuh0+Ke9yK8+PvZt5534V5DKLY\n",
       "uBCghEOZB7KFn0hsQfEa0xn3miRNMdXYXN8DJ/5xzwgwPb34P/wAQtoV172+YN9CUWDXR6XAtfSa\n",
       "E0X01ChgLtBQi7dAA7VIFNG+4rXnyzC00W7f7fQhupktRE0317ot3xEi5Os3lmLmcQdfn6RSE9jz\n",
       "cWmkKEHVAk7MKa1zy5Qpbu3kiE9wPwHD/ft/5qMYZ61cko7lAr47KptIoKIunBN8BxEj43wcLXFt\n",
       "WlD6D1kLqqQIIvV9zAeFvoRJwBHLfJdxr+9pzZ40st8n2DoDcU4ummwgPOEutFAbP5bLeiJiN8A2\n",
       "iFIx0npTLrDGtTYI8ais/hFtH/mWaNXazdj6jLsfY2OC59aUQK+6vAKU60UE1vBIJfMaOM2e309L\n",
       "7Uiyatoy/w+pkpSNsCpK4Fyu2CNgAAAA7EGaQjwhkymEEP/+qlUARVQ60VMFdpdlAz3KBx7LvHdF\n",
       "t61uygoUDXjjYt0v17CMSUGZ7tqma58e4HSbkqVxHRtC2W/CcFkj092PBP+ZJnBRtcokv6Ytd5nr\n",
       "1ly9oB0xGnthpNtYoip82ymvvBXbjaTwcnhoTrCgCYolq/mOkv6HWaM8qxbxpfLgYp4p3Pri55SJ\n",
       "1HQuk4wyM/qeNJZJ49X5LVXObWKeadSnApN5+UC3RaLwPyqm7dZHPlTO2pB2XXFfik7XcpgZXG9b\n",
       "Ii0+8vr9ZbnuLrFnRiPnuz0LZRiVi3DCQi2303/LoCgHAAABRkGaZEnhDyZTBTwQ//6qVQBFueCw\n",
       "Av4Z2P1PyKMt6N778ASKwNd4u4vte0rkDHdwYqUVj0t9+/06zHhBgeVicdC6Ja0EAGkmcoIxGH4W\n",
       "61Iguf33EeUfBgtbFgiMxxZTOM+W+gaLjgrSqhxE+xIso1gs9b8OWR1fE5yORNGB19p5OLnmkPEg\n",
       "OfXlpAVx1CWi/IDqEgJvwO06eiZOWJ27Xl+vuIqVqSwFIa3Jtze+xDzBiekGhzsbyvKMQvlia4QI\n",
       "bslchcT9ETvHtU+ibg89DDBYuL9OxSeSypA4RCBcggOrDcKaP9r+Ag+FDF01PzavwCo1Xuu9cCeG\n",
       "ekTduM1/lSmUhm0i/NKUqoRdNu7da53Dh2dkoXJ1/uzag9mM52J/H/d6/ONoLt0+75woC9wqL+K2\n",
       "dCJBBKHNLg6fmDfjPo//n/nW1iYwAAAAbAGeg2pDfwCfqu0ACdt4biLiRjmY3tbNBdZTWlTGaVpa\n",
       "8mevthSfOjb0gDDGSAS7WeHsToOe1zFACYlKfgzLqjn/fPziVPMjrNgk+zO/Wei9/7pRfiIFpE9e\n",
       "Ysq+cBx5BPMQqizzBdeAngaDQQAAAKtBmoZJ4Q8mUwU8P//+qZYA+QmSdzQAtfnbnHV5GcY9N+2i\n",
       "HMMZphjSli3bFLRPJOaG3xhrY27xI3zZ673t8wCLGX8Np326ajy5GGmPBJJ/YSkISTsQ0LLrvnQl\n",
       "MFBbuFu/RcE/Moyt8cXMmRxdqdIPvdt52Dxrv4OFCyWeSJ/VfcFlEOZ4e1nECUG3fHAIB8SGLqs5\n",
       "nqwmvev4ae2OQwttINqDLOTe5TP1DekAAABAAZ6lakN/AbF9ZzkIUrOhC/6MCnyG9FrlbUxbU6Dx\n",
       "rPwgALpMSbVEPXqycYxujFM1SYIKpdSfUQX8Dy5/ETubsQAAAI5BmqdJ4Q8mUwIIf/6qVQT7NAat\n",
       "YdrQfIUiei/MBQLFOIaM5IBNCiCmsq2xbZk7kaBar9db9vosLYnzNsPeiQTMkwj6PGHPfo8pkQ6s\n",
       "Kg5g34n7SAdl530rrQVnOG9ItCNCeO/6bsp4x1w7iv/84l+ASR8akdEFphNtLPwcf00hEtceHkDh\n",
       "ti9jdQp/0FCVAAAAcUGayEnhDyZTAgh//qpVAEFcc7kbEHdOVDVvLg+Ju7hDsYATpqv9zN+w1FII\n",
       "+ajod84Twab04aJsxqEPACpZ7QtFMmuHD4XzEqcaQqX2UYCG+XtnjRM38fLfbhV+BBNYMSdAtvvE\n",
       "QtC7ckNPWmUN7XjAAAAAlkGa6UnhDyZTAgh//qpVAEIvp/6CVdEAcsMH/shLBW1M+GQP17Vkq6Fq\n",
       "9n9Sg6Vf3/CcH2XNvfo3iQsKa9rumYLUt18gMREriw+pceQOlAq1utDddKrI5UkXfcPDjnwt1HXZ\n",
       "yGPHdkjxnzSZ2WYdv5NKcnBJZv3c/TTk7ZUq1hYxcgUx5PDpBAI0mKwWVsbZhjq+RvyPAgAAAURB\n",
       "mw1J4Q8mUwIf//6plgD7o8ogAjH4s+2sZBWryZx+1XzNWYAEEClM0YVZ9/xGHmb8u4UrMu1yGpHp\n",
       "fpNLnJTE5FuF/WUnsJJsKJf17ln2ZI72oGFKtnPZTeVHSXg+Hh0qBUWYJ4nOWu8dWqh/N0oLszoQ\n",
       "LAdB7PTV+RfxyE3FTVX83SZ+QtLBDK41bRHLA3JwVRE4khAcJf3rWwlpU3Er/2NBGKMEpE3jhvZc\n",
       "KVM1yBSAIo/dv/uWEYT4Q0V99lA1p/xD9Sy3caIKoQaoPIIaaUa5bO/sYb1ScXOi/RjIC76gWyAo\n",
       "lvTuZxa30qpib8Qoa4LkMgkKZn04ryBs580S2G/oIhZM9TfL3FhKxjeASM9q3BZ5oZCOPpBnOZBt\n",
       "84U5WJrAQilt54pDWlxJjv9RgAKO1fXChhc8R90tQgzv6osnPIUAAABGQZ8rRRE8O/8BIgk4ifK0\n",
       "gLiB3OlPF2qV5rMriXCdklq9geLRC/AAqdrWU7Cuq9/AA1MWdkIalDOmQHvWpLkqmkNpIZUYQAAA\n",
       "AD8Bn0p0Q38Amz66cSKSUd6K2L7y3mAKNAuRkTn4h6NwACxltzpQACAScAY9Hk22p79hNneMHgU7\n",
       "RefCs7tSmmgAAAA7AZ9MakN/AZh9Z2hD68klTjX6xzHKMrl82IvN2ui6/CMQaiFhmAAFyglRyt1Z\n",
       "p/Yes4pSDw2ACIVmoHkAAACKQZtOSahBaJlMCH///qmWDY3SmPC6ZUWFevAAA41DEFb8VoaIkRt4\n",
       "tsOf8SwYpVzsDE6dvbVHspAOTCymml5UGe0kB5rRJT32gHAR1ocqplR923ESFLHUoQY7afM9X+9n\n",
       "+wyH9vkRwnN3jhIyQdI0TWwD7h9wpj0V/xR9JuTYWhu23GWU98OR7ZnZAAAAjkGbb0nhClJlMCH/\n",
       "/qmWAO761b7rgC0/A/i/1X9/z/yCOmQ2E4BeXarHX8Nfd+Q6ke6oGOS7xr+y7dW/B9lceo0r95as\n",
       "HEQwiCv51w2It0WoA9EfcLfxkCXuf1B/CQkJ3Rm1KYtJd2cV/uyb9YcWpzOK9Fwyj8LCAgPmKP76\n",
       "KFOYdhjPBUpgROzixSgfzbEAAACzQZuQSeEOiZTAgh/+qlUAPkr5gA5lHg1XrNkQW6vIbE23RIdv\n",
       "x1cuwD5f3/Zdwj1/mzyytRGIg+FoSTBVzMIzRB6o7ZuySgA5/fYGIyOXtyAQDTlIx2HpdQrXr578\n",
       "UlKV/SkQHOmOi4ofJWUqf4LWTKbdSqzCBIxgP1137gVY1cBK+OFDusKMW7rQcD5fc86jjOa6lity\n",
       "L6Lfx3x2/OSWRrnb7qF8TNZezfTbmXmvKrNwL4AAAAElQZuySeEPJlMFETw///6plgDuQLXAZv1H\n",
       "8nbQ3eKfcAbGF1pMY+e0HV+SZ4Oe/2n5j/ZaaJchtX/hK+Ru1lTBO3QB+HBLDi7ye6eepxQkupOy\n",
       "FJWia2rnu87hhkn69oisWxUeCEqZ8IY3y8632zLiBYCCEwd/jN5lJ1/6n/dnuudfCXrvyvYmjH1r\n",
       "ltLKIrNEr+JltP+Po6UdNhQBbkb0Fcr6BpgB6RNeJQGV3IhEej7E/hfQOoG04we6FzETLbYokMcm\n",
       "kUxe9MrEEtmNKTm4/7tVab/KnMaNcaXoB2NF1ni3t9u56EpYmhDolJDlpJfrqutKwcRedBw7M/XW\n",
       "+e8Iu7paSpSHb/cR2eN9QFjaRSOJ2rwn7lhXNayKhW9TXJr0VpX8/4AAAAA7AZ/RakN/AJdGV73V\n",
       "+JyPA3W0L5nv95g+r8SA44Gcaj+uP79LP1RuoB5AAHDeb7bfaUx7FYOJSds0zMkAAACNQZvTSeEP\n",
       "JlMCH//+qZYADQCwW1aAFOwqoqdKQpl+G+QMZut7qwf/kNtUSxdZ+WGIvwOcvjagSDnaQOVday+P\n",
       "en5Wv9//Lcn+yFSriDYfK/6vVPwZGnuTHodo+R4JUvqJstzKco4WcuPuKAmEgLoYc1wXm2nEk/Jm\n",
       "uD9D/0Fu/e5TN8DwBsY3AkSJrT2yAAAAqEGb9EnhDyZTAgh//qpVADuREsAAP6JD2WyusIJ2DPd+\n",
       "6CXSW1diF8v77F/Mc6HC96vkFSjLtm2o+X73Mj18CuXrrPMYWA5vS3DBDxW/q0Pvwj/nE9PxWMbc\n",
       "0yKzEZ+TSzRSmYtgoX3V783KawyiPKlnkvpCY+01rgayjNkcbAUtdJlHPoPVENzHxqd8spyvDyic\n",
       "fF9pwDfuZrFrDVpqh86ubXZ9fPahQAAAAIRBmhVJ4Q8mUwIIf/6qVQA7sOgfMAE6Yx4srFj0lPSH\n",
       "Wuxbav2AhZ9934a1K+EK0xFZKTxTvrxes5dGVr7QE71d7ldYamayA5rLQUJyr+U5Ff3iTHNk1d68\n",
       "pFfE9zRA77cD68ZVAYtIHM/R0l69YVWi88AazGx2cJL3jJKU4s41uqH1tcEAAACzQZo2SeEPJlMC\n",
       "CP/+tSqBscfNU6uz/YAG5/7dtDACnUe6KJXkH6bM1rIB1BQxJtD+uk5NrSjGnmNq37UYeNl5HBb7\n",
       "+1PPBXHpyku68YYrpiNz6lOkfBwSlPK8mN+mxEJsl7qE0yB3dAE3y5N2ijfp/csRhpGhRRensDFq\n",
       "SRd/dWyEvYQp5LPn7L0RpxsNKR677lmlobBt4jnMZu5v0hH+xPuWtMGfIFVB7c33SHdbGsO8cy0A\n",
       "AAFGQZpaSeEPJlMCCH/+qlUAO5CIAFDoLFm5nbV/++hb2ahwLQ0bR6AHO/Tk0YrWzFmnKArkkGch\n",
       "Y8WVxk4LmQvHUgy7T2eietJVrr6RxUIKnzvJD/Cv8TM7/lt8qxyYRDy9b17JJ/4CEb+gYA86bdz0\n",
       "hEsxDA5fIWaVDm7N75WMSu1Pm/j2iS2kwCJMDkAySQqR/4V/YYGMd92TU27mEOx1JFMP3fWGH9+l\n",
       "d+1wjMBBApSIlj77Wi4sZm9PXwa/7UtFIDyc/1GETVdMt+m6a5Jj67JZZYemTe381ap0BJMjoCZl\n",
       "dhP4PniHA2kDH0pIIlFKp9Ht6SPkBI7SMm569mVQy7EHcgi6B8jDZ7HKoT7KceQI7UjZDk42UIna\n",
       "CibedsvD+QJEV11zdBre0nVg3UjZ8ZtulQ1O5PR9nsViEByT4n+FHb5oYuEAAABaQZ54RRE8O/8B\n",
       "GbXu+X4RLvPYc8wNc5xE8OuS15x8PAHxSwgCI6yQ4xUyhkJgf3DO3MDzolvWiPZuYrHHN1F0ib/5\n",
       "hLbuVbqDXhKvLMRN6KEQxNkXhexLPESZAAAATgGel3RDfwGXtj/ZEF1uGWqfK50lgqvg/rFXZwGo\n",
       "hhtpT6oAWxrhim7GYHtsNb2ZMi66CU9sGTXh9ibLLuMomI66AfVw9eRIY3r330eM4AAAAE4Bnplq\n",
       "Q38BmH4mZaM5rL+//IvsYMl7xOR0EP6YGyPqq4lAAXSZRXQRnANPiTgPWcENO9pPOSsKic0gMhxb\n",
       "2AN8WJD+iJ+hlJqwKaSewcsAAAE3QZqeSahBaJlMCH///qmWCbalDMkP/0FK3ABzS4p/Obf7nlup\n",
       "L//iBfeWyLAKYFt+wtj5uQ8iGukejVp771l7E5+tBiGzDG1PpAcP1h8vzD212+NAseCB/VQzYie4\n",
       "xBzZuBeYTHJEX01nGJRWnJpNlKTxdai7a1OKEdFfOPIh/Q0D2Z2AMBwSPdQ7spxfai4kQyazPOcW\n",
       "gLNMDUFUPgNFNEd8W0T8uT68K6ktKKJyA0gPbprk00r29Q/7UlVDA0g7w1HDCnRkWFUM9rMxFNBD\n",
       "p/gzL9bquIk/eo/q8wxVtha9f5yO4fljG5VGHR6/hVtW0RLygacqwr46WNkSGFsy9IOaBXe3xyA7\n",
       "KXaqLE6Z871puuVC+R7571Iq2PPA4CahsdWCf2i4aZfikDeAJk3C2IpTJF8sUYAAAAB/QZ68RREs\n",
       "O/8BIkgZwqAXBwATVvWFro55Lh7BVQDspVflGFIHJG4EW11LYMqO1PaA4sgQuO3DsrRKW62I3gW0\n",
       "dto89MycmFrMcndYbAq/3oa1I/ysXcTkynaAv2t5lrVHALZwFkdK3y7P4I6SZTcrMeHyPGkuI3TO\n",
       "saI3kcx5QQAAAEUBntt0Q38Bl7btRIX3InUpaYLpdn0picVG/O1VGoa1Ty05NiQAspdIx7Ay1/Lw\n",
       "pGwKV7701ld1AyPMRK0vE1FfPEJvFMkAAABnAZ7dakN/AZh+Dw/GhBT5UnhadUARmVmHcDMs7V83\n",
       "lyScU8j4v8cxAJ7Al7UY61UYaSCro+ppC+s2AOJ8Ov4ZxRgPWuylNd3Xvn23plPGHbKsMb2Dgmxk\n",
       "sK9r7XkbYsCvjTtlPheW1AAAAGlBmt9JqEFsmUwIf//+qZYA0d2KLPls74bNTpHReCXNO3qYpWAz\n",
       "mruvN77HshfwY/1nG4aAGvMrLrZ6FLIyGpVQ3/KNd6pQAThifFIMtV723crhYC1K7UfE6i4jysTh\n",
       "Yk0iA+EsTymj4i4AAAB5QZrgSeEKUmUwIIf//qpVADaJfODEVISfUhCtHvvoPLY4yneiNSthtLAA\n",
       "Z7z56fRYifsCLjNaQR+7mqzthrYU5MOL5ZPUt8Jq/2ILEWYii30utSDUSxi5d1cZbpYTILVzITeS\n",
       "vBnJszGPKq33Ol+JMYd9GoT3UoqnyQAAAJdBmwFJ4Q6JlMCCH/6qVQA2pqQy5bmJvX0vQdT9L923\n",
       "CrkEHHLC4FAKLpPG/mOSBwAnhuSpWU8LvZShw9jt1LUdmjtT56RCvnXJNKG0wam93ECTFBpfh/5M\n",
       "os5wb2kPCA4x+yxOpWdj5l5J91mkJ8YFWAdcNS3TRFCz5R6nTyS9aw8cgalBiFeXSXm0dbDERqKK\n",
       "vbKl8OrgAAAA2kGbI0nhDyZTBRE8EP/+qlUANs0Cu3oC+oBQrIfN/AcTG348wXYB9xLofXupw4zf\n",
       "Qi777G/20p2EnZjqotEWlszlzOEMqrFxFbqaQ1GXE6wKqLJEhrRP0hxPVtWog6y0236mZIlDqpuG\n",
       "NaByXPzOceXYts/GR7GR+zXb74eu57wQUyPHI5TlIzpHDpDSVALwiCil5Qm7vDnLJBC4EYy/Xvyr\n",
       "k3meTvQMFoI2CFt7fFBPh0NPMFctO4tNkPBcwihUjgB6kuNa07wcdETB4p7zrUdxtAwNARLW2rK5\n",
       "AAAAWwGfQmpDfwCLFR+knACaWwx0yqkBF/4U2Ph8nlFowjgiktPdLT/LLUjTxH2GlF2ogp7swNkR\n",
       "MihZNjn5UEpISwjqlBgodV7Ohx9jzyIm18oJzAJE7E1T4NsftxIAAADqQZtESeEPJlMCCH/+qlUA\n",
       "NxZn/hKrLqAhIXr6WR2+1Q8aMlbdCAjklqFmhwwf3Qz5U1XLbBIxWJfONATPWTXeE8cM6qz9sII7\n",
       "84MP5HiDg0Vax0A64GHAG0qkUPeyRjvbgqArjE6JEeMVucSfdW7R+kOmqqlD1mn+MCK+CeOh88i+\n",
       "9Yd/B07G1HpR7KfxpOsR+MBnVSPK/sUhFuaddSEfAtCUUC6eIZT3Js604Tq86rXYQ73JxCHIU7Yp\n",
       "9kF2tbpNyEctk+1OzvfO6yOzQ8QFzWzFo5m/u4x9NJBRgKHq2m8GlpAZL9LJvgZhAAAAo0GbZknh\n",
       "DyZTBRE8EP/+qlUANIaLPIDWsluYfIN5cH4um85YIK/uXS2Jp211N9m/3Qrqn9WOx7jwa3niy5/Y\n",
       "OhavWm7al/o6eEVARYeL8dn7m836oMyOmxSI+nlcMinYdWwbZbfi1B+YsKAjYZPEB8LUEYKJNMAW\n",
       "twKEtnqDBpQ7jr5KuhxXGkLDVOQaPPb3tQXWS8k4dm+o/ClJJo7WRGJLS6EAAABAAZ+FakN/AIc/\n",
       "J6l7Fi64rpMyVYwdPvTXNpOWIA5/NgBJMLgYZEpw/E5ctSbHZ33nDBlBYFB/+ht4v8ivpIfy6QAA\n",
       "AK1Bm4dJ4Q8mUwIIf/6qVQA0eLuR8QAtgnnm+F0k1XYhesle2nDHqzDo+zHJPPk5HmtpG0CHqiCu\n",
       "VY8dblzpIGDLIeLAvrB/RgG0LXco4kPsLObB+ylXOh9ySERzzD9nwZJ62wqqlyPTneDR+KWR9qJH\n",
       "vqPUsFkFY7909JK7w/3qd1mWS5nxLJtt2pwaSO8hP8eAnaNmyC8b+SmiGccUVpI6hujcuGPELeLA\n",
       "D4ZsEQAAAIRBm6hJ4Q8mUwII//61KoAaOd22wlzI/nlYF7eysb4fYXu0XHYBOmkT4k2djzNhmJ64\n",
       "zVee6FD8TT1I8HxwQwKiEPRx5cxtrmbuOO1cqo5ZTU07u17i2ZMFsz2hCzDhqcKIrYSVe2H+KSud\n",
       "zSgLAhaxP//7qYtd3UU09qXJa5jBxL08boAAAAFwQZvMSeEPJlMCCH/+qlUANPZn+AinuyAhIXbY\n",
       "QFggofW8/F6bCzJSiIxvqQKTTOQpJ05VGAEnXy1wNzWqCt2PPueS0oXCsrkoIqdbdP4dM7WBqoCg\n",
       "j0sImHX/g83gsi3+bC2iFNOUzNzpywbX5FxuFLva+SqmqjKegKE21mlJXxtBsaUTlGKg7AsTenFT\n",
       "RyB/+8joWojWFoWxLjG7s2dBG/JtW7nn3j/rWB7JhXhOZ6/UOCW4CjHexvZsoorIll6cwK32xJ/F\n",
       "se617nQGSuN10+m0E+OguAgE/3WECMtHK6IE42McDwQxnRgfhithODufCb58NI3fynN2iT/6hvUO\n",
       "tDFCHWMrSr4MDIx3sOHQ9mnLoNKTXgvvQRSev81vriEnGF6sR3vzaJKFZLcbBbSQZWMMT+EkTXxE\n",
       "spy7G0qc3JoaLjXWN+tnK3R/leoB+nSH9YzBwn13RD4pgHwPAuBU5epDepfKqiM1syU+sli+LkAA\n",
       "AABGQZ/qRRE8O/8BGbXrJ9GGmnk59DZAfYgztDZcnBP96i/Qb+18H45QmkWDD79M4eSdSrPjaaNd\n",
       "hN0u6Hy9tFtbDUxBYW6AgQAAAGUBngl0Q38Bl7bCbKwR36cB3T13BCDWTBAxD6KaQHHj4rxkUgBM\n",
       "xqvopHMyzFbKcBM3J2wolY1gnhxsKVHo4cH/vVCN4kSAu3GZi/sQa9OB1woh9/fUaTERHOyQil4v\n",
       "5lFlBlfAowAAAEsBngtqQ38BmH37VuuqIDwb+XMyWzIHL3clTSaYP+2+UtG9f6zACwjLNOaBblYW\n",
       "/7/l4ic0eykdzwHwTugxx6SJEqn/B1yIXy/aE14AAACGQZoNSahBaJlMCCH//qpVADKGefGml6lH\n",
       "qQhWnULIvP6y29IkARNd43Vsu0aEmWED8+oEc63FzZ1mWHD6YhOepK8U4hjzLmFd6jBOtUDw6vHX\n",
       "WWLK++GWz5PwiLsechJqYMxYcHNDHtxCWXYx3BzMcBx82Q3yEC4Sd97wLRDr4BVALZI6mcEAAAD+\n",
       "QZowSeEKUmUwIIf//qpVADKNPuR2lz+En1IQrTqFkXmBgWMTC1ql/DZO/FALXKJp8RrTVfEm0wft\n",
       "teOwlFrCIvVwq2cmWYP3/f/R8rQASH4dkvZORt1+KPUs1BkSgB9K4MpLZgPgQ9tAIfsh5RzoYMKe\n",
       "pZHFug4eQvK7RX8Rd8v4IIS0BSu0/SQ22u0cnW8kGc91VYK0fhU7loFLKOXh3RszyoSGY3hnWeqG\n",
       "i/CXN85wbNJHC4v0N6tEKmtRfHzrabYrCCjsNY/mha4dUgG3GsUJiaYdZCj2zekoq1wdXS47s2vk\n",
       "Du272zNbH3AKdfP6DhGbER089U2BSkUxppEAAAA+QZ5ORTRMN/8BmK8R4rtAzBZRhFzYXL1cWYpb\n",
       "X9fkakOWh7oFK459acoABpuwNb5tExPUkz8rhleBgjJPlbEAAABZAZ5vakN/AZh9+1brp8fAXLx5\n",
       "80DjNcWgmzoAtxbNIQAS7IiOqgeZs78Mal44zWmfuO+zMXSNPZkdXZ7J+CryPBwy12e1Is4rA4yd\n",
       "N22PEmssNBMjpcbwU5YAAADKQZpySahBaJlMFPBD//6qVQAy/qpQdcd05YI+o/x233qyfAUV0yjW\n",
       "1EtVYvG81xirW385NoW9gOVfFH7TNfkaoWza8278miiPhOhjYC30xyE8XL2cbQ1pbVw44qyIXGV1\n",
       "G8Lf60KbYBAPeazlN0hr0FSRGiTh69cPW2gm+qrfEyll55II04nXNowd5QB0//2xmpuQ24GJKDXk\n",
       "mZt31Z1BIrHttmas6M1BPfw3hmtXpQEQKa3wzQIkwHZngxIMSQBMBUZikfqXMQi+TAAAAEABnpFq\n",
       "Q38BmONQwLaBGew3EqrOakCTYwwxSogCIqvxF0ne/H66wA3MMaaQXXqrS+A0yJcs6j3Uz2jtBucW\n",
       "zoHhAAAAn0GalEnhClJlMFLBH/61KoAYXOAgEwLbuhD5W29Bq9K90whlRXwNxDLMU2aT3aRjlnfh\n",
       "kXA140q69aIO/nrtA8bjIcEnGhQ9OB5usD6vT8X4K+XH6q8EE0YK9rafHWTgGFOpeiLx++R+Cg5S\n",
       "SH2mtG9lG5OgCy3wL3ucNlild0+5wM3XIuDx5DvXnFttai85Pt9Xwp/HmNSpu6WeLMiyUAAAAEQB\n",
       "nrNqQ38Af1QqSQdyJUwgHKQyrKUeTTB2wAE4xmLCu3lXmI6B5WQ+kz4yoUkfXkTS3ghT8XwxnOZx\n",
       "qmxQ8COmQnLwgAAAARpBmrhJ4Q6JlMCCH/6qVQAxHqdwsjo+0V7+tAdfEK/k92BXJQJQ9b24ZOm2\n",
       "XSTUBmkOOfJXSX79VW74KCv9+TAvRli4aVCGTdePhHhOMlpwcURjB/Cflj8Hls2kVdWwWLOK5Y0t\n",
       "f9apnq+g/nvcyVGGRWP3BZSHlWC9qxyLmpibVJDwxYTUxNj8Z7qX9KubX/5vhbz2oMgs9B/t7e02\n",
       "Nm4BEx2LD7/XZdHEooQ+7PtN7XVQ+g3UZxELTkDADjmQDXM3b9Yg2czIV3o2W8HtcIw6Y1scB05K\n",
       "upk2uYray6AuAJaPTfCz4p6XnR7GR/dunNJ+104c8U1PoDiYV97OXzIIpXIvAC7bVhIR1k0483q8\n",
       "6ZuEufWmOvItRr0AAABaQZ7WRRU8O/8BGbXfCxw1lZEJ70v7Z8zg6k/UKjQkEi0jOgQATMQQknib\n",
       "SMcitqvuMY9f/quP1G87iU5+SmjBCSMUkwoc+g15r9057E4wpK2cN04jnueUmyk6AAAARgGe9XRD\n",
       "fwGXtj4q3eK+IVKgtrickvewgVV1EnWrACdai+U//TLr2PrOw1rO/IQjgxMsFaHig2G5hR+4UIm1\n",
       "uLiSSoLGvjEAAAA4AZ73akN/AZh9diu5tx+7a3cJI27/3GFrBm/8IfNFOhD3KAISyoMO2G0JeGyO\n",
       "YzgHB4xvRXvZGicAAACVQZr5SahBaJlMCCH//qpVAC8JD2o7PNAJn/GdPrWRSr7C5TzACdbZQ9qj\n",
       "CXqNzDjpYfFkRw989zhBs6NVD+6ffYbr3At8xzSFiBUeDUQYro00+FFhV1ndf+YjCPlKlUQA7cbm\n",
       "PD6u9nCgwPBjWrCqeQUPZ3lObokCUgHrTbtuweO+aYZL0FWKLiBNIWek8NcdV1h1FegAAADLQZsb\n",
       "SeEKUmUwURLBD/6qVQAvAmOj2wvXOdUZ/bNrCxIom6AwovwACdbZQ9qi8VgkASph0Pev4iFTjBJP\n",
       "A1fwRxgyLjXLzVmnak1wXdXejgdvNvxULlV1bV+pVwc1/JeqKeBGdM0nHaNQwJ9FY4oJ0WPye2qR\n",
       "uEKgBFeRoIfh0dQWMR9wpNS6AlU2kclj2Py0qmm389AcLYPLYn3UENc3hsLrAv0Iauy/RbRMhGOy\n",
       "flaLEB6flVqov2nxjwWC4yYAAQOkhy3e00LpoAMAAAAnAZ86akN/AHvVDn1QMMpzJ8tw/bspO0oF\n",
       "AM8juTJZQfpvKSF1G0mAAAABMEGbPUnhDomUwUTBD/6qVQAvOs/Z+HfvSrhb+6oz/Ma/eX//8wH7\n",
       "LQJn8g9/jYrXVmms8I1QihpB7JSiBaxOfkq+P+4nfEN0oj+y8yOzoYrpf73wkQPfAp5aSuko9pSt\n",
       "4Q59sL89SJ4I6M9qNrDo4n/PCUs2S5R11zSSJZKntIFIuQIDW3+rYA69PDc56PJZNlU593dIGdql\n",
       "iTLpnFSUQ4e2dXxf/CInH4/AhkCRT9dLGScw8PMHLkmgvBY1VofUazDalmo31r8C+u6edDPDLas8\n",
       "+j+m2CqN4MFNKnQ1MUXtHQ/0sTFh4up07h5vEYJJpHbByNTNjxdDvDE41uf+5alygnH1THO402cs\n",
       "4AeostRu3gsT92rV7RnKeavvkPI9kFvYpm2GwV2XeE7dxh9gLMEAAABXAZ9cakN/AHv1H8+FGiQy\n",
       "F0Qf4mLggy8cZpw+AAzxSN92bLIOgYHeEynSD/K6ZOzP0i5DBVo+EEQ5LOp24xdGB4lXYCg//IYE\n",
       "GDaIsj3HgoOgsBnWOd8NAAAAkEGbX0nhDyZTBTwQ//6qVQAtheO7VKuFv7qjP9ilpZqHAeqvA1dM\n",
       "2aa5ynsCJYrp/rBZs7VwDtJsNh6230wJ+QMfFC0acVYTltKausuPA0QXESJzFBBJLiug5VCwlfuT\n",
       "/x0rGl/uxMA7TfFSozvqoxtnjmbA/ExSLfxCX4yZzZyeB13MgZGe5r5J3egzMZ1j3AAAADwBn35q\n",
       "Q38AeTULD4UUdL9+q9QJpOp6k8uT2qoAZ2wkBcIvDnX44XR1R7uhpcOTIH0jUBbp9cGEUHw8YLAA\n",
       "AACFQZtgSeEPJlMCCP/+tSqAFsb0E+ILGLegpttT83bZ/ucCbAB1biH3xv69CikIdrRD49vl41Rr\n",
       "QOWHEFWT+s8v/1n1G4n/rCqdnHFIaaP0ACi28JtRrx3LAiK3EyczInvxB+7SsbT5NmwBHPybJIby\n",
       "eJCZ0LJrwIXthBVuNjG16YHN+4XzoQAAAYZBm4RJ4Q8mUwIIf/6qVQAt3xy4WVwfoq9/WguviFfy\n",
       "fBMN8ME0nHRF0i6dIyQFrrgvLYgjCLvCLX8LDz/fy9PlWiFCIvHQWaa/YJRj6U1oGPNN5zmsA9qN\n",
       "i8zdftYzfcR1Ewjmd5gKywfPApVNCpBbY2zAMITi2VuG+cSww5Su3CHdSemuVQCRhFk2Yktm+Qtq\n",
       "BCMxGF8i+WhA3n9qwmYreE4cYQfWweqP959vBwL73jlG+GcKkgpn2hw1VncUhmZU3vXoXbyeCT22\n",
       "TjeQkfc6zT80Fn1NiFUQVoFhFOBwGLxrbu8b3KrN5Zl3xQjIXzTbSJS21tqC7lp8yfdk7y/p0g7B\n",
       "AbKrDLActBf3y8SYsTmmNIYkIuEJNzrCSojlaP+SuNUH8vYeXW3Mr/WNePUnuYMEA2OchRL56hjS\n",
       "h6jA1ThzlRNN98/cKJrKE8b1nvlSPN6Zae77JGVYzRofrx3Ti3K6W3S776e5Q0dwF/tIgODOOObw\n",
       "o+t8Xq701FYGsrbRRDHaQkwAAABgQZ+iRRE8O/8BGbXe//JywWFXyg7BdXZKdjZJWihC9ejaS75d\n",
       "M0t4fE9wAfkz1L4Z7UnAMpa+OO/f5/9ePXhffcRmk099268UnDajR06AwaBGosQITWp8+MME91hC\n",
       "o4vBAAAAQQGfwXRDfwGXtj2t1C/TOqVGKioDhsSUuKvwLQe0fYoASXz+gIlzxpt8c925d+bWFbk5\n",
       "689hxaVkmsaRV7zRUWeAAAAAUwGfw2pDfwGYfXWrI5cHS2HIvOzP9TovDbMhy9EAJxjMWpgSGxkQ\n",
       "BnBwgCOO7/KgR/9ZHvW8Ji+KJyX8UCMy+7iS5Z2VUGtYczegs5U+ghQVdjVxAAAAokGbx0moQWiZ\n",
       "TAgh//6qVQAsJfErVKuFv7qjP5n+f8QAnb2MeiwULX22Z1EWaL2o5xfI2yN+urrQy0yxuLX5P3vn\n",
       "iMbaRJLpC7d9bAhBtS2QTPvDIySmSTH+CYj40UFIWsZkHg/dCg5hf9O8Wd2x1AlycfVoH0IiHfYz\n",
       "l04WHtJhCqm8Yixc1SHl0buTwV6+A+ozjRa5VlHJ+W/udT4bJywAFQAAAEtBn+VFESw3/wGY4x/s\n",
       "OsZWQ93cWvpvhaIF2g6IlewABaLHP8keR4CCusm/c4rDY5blz1GX80rrg/+iUhdRBIdcUkxta9pj\n",
       "7Wp40CEAAABLAZ4GakN/AZh9dWsfQiPcphoWgu+529SkVMMM/K6ABN9L1qndEp3PA9tQ8fa8nEDh\n",
       "8EfNNilHQDJ/sD9zCG/E3DjQwVzU3WeZNDz7AAABTEGaCkmoQWyZTAgh//6qVQAsfxy90U8Oqkxw\n",
       "FoLr4hX8mA8edczvjX2t3mJhOyTcyuqGEcl6qUEeUb3/N/AQK3ZNgGsg0s804F5W5PRdO1r0myDP\n",
       "8+m+R5JsdyjtcTDG5C/HpwHJ7Cj/XRDTOcLfknzWYm7nKf22BH1T8E/141Kp98QcsQG832UnfqNw\n",
       "8EzXcQC/7FjV+OPlCT44sFocorX0j5nGBAJI0FH0Ufvb7N26EfSnN/PB+/3wUE70m3lrDvTz3IIm\n",
       "xLGRFAn2zQWXqHh9GuHnVHErukEf3nMQzEx4WCVIAfO9MaJWjdL9OB5mYy9tjL9R3ioDk/uYthoY\n",
       "VoQfZSgAWLeg+TW/io1kSWQ3UUbdAM8l3nfB+Y1p4gF/EdNBx/UMVNpFJiLR5wPynEjZzjDba8GD\n",
       "B7qopbn5r0QfzIVE3HWqrZJoEc1JAAAAakGeKEUVLDf/AZjjH+t6prJJbDkQF+vcFtkcttbeWbTA\n",
       "DWMe1z9H75JrXTdbg3clVZSRfneVRsnqnuRk2hNsNwUweMw0D4ttF+r3oUgXIcQwLUl0lTauneOH\n",
       "pOvv4CE/qcFSWMpJhE6kuiQAAABvAZ5JakN/AZh9dWsjlwdLYci87M/1OjYT40djAeewACC4mg4p\n",
       "Cly+qPpeKDWp7bMuGlSd56N0VrXaevKCE0grMyTrCePiSrlGRLjZrgFXGZ+UFRBRUqLhInI6N4bG\n",
       "wLpmetRL43i3aPY9WqYe3J59AAAAoUGaS0moQWyZTAgh//6qVQAqxhtKdZd9+xeW3Pu9m2VPLIS1\n",
       "9IAWYrJUp2b5mJM85e1J5xf6uZyjLzwVzH+DT+YlnPDgb8Qc4yig4YmeeHsDxMa3efcGd/hb1Zy/\n",
       "uHXWcHyIekFhOM+4yMtzVjVyf2J1kjzW+NBDcolW/Yy2nRgnX57fTp4+ReFLwIsyrlBYmhdtAwaR\n",
       "wvdcScGrhxkjLMSsAAAAfkGabUnhClJlMFFSwR/+tSqAFXTGAi2MPmQd16hGV+Dsul2AnOgAFhsy\n",
       "AjZD49SBJ+atfuieREhITgQFh0379cz3Kq/PY3DHa71NzmoJ3awD0qguyy86ga/xHKfbLOCEBmeI\n",
       "t6YtIWnog249qxptS70RPHS79HDRizGdvpAUgAAAAEgBnoxqQ38Ac8bgV5+93t+bvOz0hI8t5OEB\n",
       "8SwAE3Xa5bvfzsFuOMhgIQ2yOZntK71ok00KFj6Mv48hgcUjHDtw4AQKm7NPALEAAAEwQZqQSeEO\n",
       "iZTAgj/+tSqAFY+fxSFR5+j+RXS38LnYnAGxs3nrMe3d0E8IwQ7UkTHPiGu02KPRo9Cbv6eWFN/X\n",
       "F05PycnoMzOJUKjct78QkaiJr98vFSpoaYEdn/x7KVD1Do8zrLdrIC0alAWKRVnF/qt4J3ljODMj\n",
       "lgM0NCJNa1JLk7lkz8jKve/RMZ8UyjESUltDMb1i5lpz+EabSa2pKPJhdBrdbhmY/aLc0gHeIeMY\n",
       "7HxJWUnoZsZE/6jaeYMl/sAiH42/imV8JZ7tBkf7DJcyed2RxUnOMhT/DLfGRgOKZNsqXMd5yPQh\n",
       "8eDkMnFqTJK1npzmhmuv7Uaobr6sQXGOe+bHk5ZD3DvluZx3glLpOji1v2SaLgUVpILAbpcbcCE6\n",
       "pTcKaTBet3AXuLMNbQAAADpBnq5FFTw3/wBzxvUXn73e35uv5KnMEChwAtCj+5twgELsFmT4zUtv\n",
       "5+UIHawrRtc/x2DMoBDIQvbBAAAAVQGez2pDfwBztR/PhRR0v36rFnoz+TuACLAEWHwoSJQ46kpJ\n",
       "2ySqjGXUnx98OBD1iWXglVAWP/fCDAqz02T3Hxu8IKGuNtcm5auGtIgyENRxcJCDQsAAAADzQZrU\n",
       "SahBaJlMCCH//qpVAClyoxYFcuFv7qjQALKGMBPf+1Sm1fKMr2XTsGB9vJA+8+S28u95QATv0Plz\n",
       "X1IXm60H0NOZwBGxnNMOpLIcIUM5U8p4uPrZhzBoTY3PpoHfxitEeIyGCLLrcQld9cGKzV2KotUA\n",
       "mu7U0o/CrfXp5sw27G63niNW0nlrrgT+2xU4SNqBsIIL5zxHlcfqMP+y84b2+yWWKqFAPfuX/60W\n",
       "YL8gecVNk6I+0/ZGZ0PxK2wEQEaWuHHFI5bjw4aaNFz/9ZuhiUVREsXTWPYToM3gkhVsdEpkJ1WB\n",
       "q8BAww4cZNgn3Yu+AAAAXUGe8kURLDv/ARm13vDyavFes3hFryQn1ScXjXmwkAElBfXhgSRxqD7Q\n",
       "cVAxO33OgkNPEwOCy7GuFgOLYB7+h/a9hEe66eFz6c9g4NXHb8i8oTKaoUQjGku1F0xTMQAAADoB\n",
       "nxF0Q38Bl7Y87ccZ1YMqoxUkanQGjX+gAcVztzV3PtmzvyWFGTTKzNe9nRXuWetDoN5JftnRSIiY\n",
       "AAAAXQGfE2pDfwGYfXTrI5pST3kPUB8IfcHX1hgBMsZYQigzMNiz7UpSb5uHV28uSrmcsXkcKJBe\n",
       "a4iu+rKyY4m+Eu210/DAtUUmeZAJ99urKwyl5tcPE384WSmaUhIuvQAAAN1BmxZJqEFsmUwUTBD/\n",
       "/qpVAClyjhwVy4W/uqNGLWVeNXbWMwD7msGxHBlAnLJNiDMg2eCmlPCrAJygDQ56Sn/x5kMgIMeD\n",
       "ziRy0V78CPh6apvdXiRh6uYemk9Pc3wHEC1Ik5cAPCZwkMTS116XZ0sV/eqB11SpZCmkbFQPgcAz\n",
       "DNOURzalOSdKgnIpEXSMk6tEb+0gJbjH980XYE4/HdV1vGmw89Fxe1MiZrAGAQZuLHTk6MCPWG2T\n",
       "iP6be+7DdeFZk1h3XJQtPkFmeYmd7aKhk74gAzrew22yMb8zYQAAAEUBnzVqQ38BmOMfw3SCctvK\n",
       "qMVFY9vJ7CAABOSDZsUkzpAsCFue2rMMfCjbx7929DHu7xIqF5dN78WPZTazF6HlvZ/yiMUAAAES\n",
       "QZs4SeEKUmUwUsEP/qpVACm/HLhLBH+Kvf1obr4cnuMrC+AKPL/C0u8uycCvXFqniAmgtZyErmS+\n",
       "UlyOZC2IflzfS6Rq45nOSOZEusRnICxDOsg4RAgnrpZwni1im7q/NZHPmjtNzrs7yDCtg09q/NbO\n",
       "ODbw6Vzagtb1fYdqUlfMUrKG8wVANJ/DKf+Z7kq9iZVxqAOOgLli/cMSXtTtgv7Q1Uz5gXeVsJqc\n",
       "39ejA4DX6Cbu1W7DZsc91mRg85sWpGHMnNb0DUvBMMek27xNdTbISPp1wBoACgcrPbg2TqImSx7z\n",
       "OD4oNK4B5BP05/YMmuvgbM8aTF9hEvvCKONRWz8P90dh+1ZwyM6UguKxd3dO+QAAAD8Bn1dqQ38A\n",
       "cPtVC0wWVI+EPxaPecZE10xAAh7lxvOgTRNBe6BRBmG01j4YafhwQbysgA6+Kbse15RcW48w62EA\n",
       "AACMQZtZSeEOiZTAgh/+qlUAKDJdXDrjorE18DiAAqiLyVSHb3zkk2bRnWgZEYdMn3KCXXavaFCh\n",
       "0tImzedr69CzqsCDeXe9L5DZhIjJ+h2f7sHcuCTW6U982CmT779ou8vXSS93xWOZofDO5DvthALC\n",
       "HgZBU8QZn8z7FMeFv2F7tN/Q7uxMiJ+cuB61kfAAAADEQZt6SeEPJlMCCH/+qlUAKDeFgj4nqV/d\n",
       "W/cUv6mZ6KsuACcbIx7PLFm02v5/+cI8Gnsa04mdZx18mcVlzYo7y6OjJutXOvX4ZzqF3FAVbdZM\n",
       "J3UYNia9X/KT77jlydxNLCbFR5ablIvV3wBf0cNnyCnY294tr2KBRi4aAM+AfvpGA8FZDcb4Mq/6\n",
       "TdxFG5OiYt8YbU2BGWT2XQcCwMLyja6Ok9+bg6oPCDQb6OR4GJwU0KXGB3dWZbev2aoj7oI3r1G6\n",
       "gQAAAIxBm5tJ4Q8mUwII//61KoAUHL1axFgwyd6S3jjET3dy2QBW/k6cMcAng59w3tNuNsryqKPY\n",
       "rrDWVbAPp8HIGCG4GAP8MHBNEnMK0ZPNnBLES5CSb6ESyfdFsVu3r0TeWPlgD/EZ1Dak+h6wi+3d\n",
       "cZXU9+JAY8eHv//4T8z1hLnQzF79rQy4bP4owRQFgAAAAXZBm79J4Q8mUwII//61KoAUP5+htY8i\n",
       "+NHk0ojicICEQv7wGInpBcVeK8IrOpNoYtdYWbDFojfY4JjblADbcY9XreGREH2is8D28q1F6hAX\n",
       "ePA+JTXPzoH5R4OIfARjc2GkqL+2HIs3O7QCSHJ17HKjgCbXSnvv9IK+F+SqWLnJevycKqlR2hW2\n",
       "H/ApCS3jD08kKz4MZkEG+U5VCUbLu76idqcko3xFyh0t3vouc8bQJ+1dx7oC4nYuCjuIkK8Rgjnp\n",
       "e88YXlPv5Rlyqu6oFk9zBQyFYnx452gS68RonrzcQn8ZCUF34nLFNb6gNlsIwHK1lLiXsN/5xzY+\n",
       "+3f/E+MCGudCkCBRXIUvKUkx7+9PebgSfmTF7RPdOd7Q5d13rvsVURyq4Z9hPX9lWxKGUL6SbFJP\n",
       "Rx2Ur2nSTqXrkR2GGlha3b/tuTw1Npkf/5g0K7/1EkbMfVM72GnfkKKij/JBQme1ehUEg1Wtp+DF\n",
       "8DGjw/hmtm850wAAAEhBn91FETw7/wEZtd7sJVHlLZXD2Ij5jbg5FbgkaDRhB8c+H8rFv8eTCsne\n",
       "HT+n8EcOXd4fOs2fEtb2u6K3WgaG36XzRqKNoNkAAABTAZ/8dEN/AZe2PK3HGdWEvGcnPvTv3Fyo\n",
       "EmAD840lxwDZ/B1xZZJUauzaF0k1fH3meSuaL+W+RMutepHzEZ3CO7eQSr0BPcTOQc7YQ/sx6tLY\n",
       "8aAAAABCAZ/+akN/AZh9dG0sAOdgxlusFcek24wwA3FJfcuBxXSD5tQH1O6+Q9Z6c/3h7fywT1i2\n",
       "qnQrs27T5H3Wf01+YOqAAAABTkGb40moQWiZTAgj//61KoATg5tPUWsPmJZOxNGmpIlGDgBXMcMA\n",
       "2NST8YnrdlBAowoy810saRpvxHaTa+4C2zksExjmsea/SZk29DpD8Cy/B2PmSS0X54TQmikVIGCd\n",
       "z40R4sbwgLIXMDZtm6fI6wGro3SHbbqw502MWxngXkmlguTTpsYJ9YELB6/9uKeAQWAcTQtb/ITe\n",
       "fVOPvfE3FJijFS966JNqXv2cpiUtdtc2FzcbuHT2AiJ7/xk300gs6Eh/B/uXF44e5VI0lTBz+jMa\n",
       "Rjb8aBkeexTtIPOtNu6OIDnceCmhFlIqfHzkTAkGM44gNa0ueMyw0hKNZBxVjbSC+celrWCfQAmm\n",
       "mWJUAex9xLf7+yno6cN1y/hU1GhDvBOkVOms4C9n7+wlt1J7nCcjLUAejcgf17YHiTM2u2nD5fBL\n",
       "VPzylt6vo5PNluEAAABaQZ4BRREsO/8BIkf/eU1Woa3ZvYXtcrgADiqXMkxJiocQCqx92qkbC6Jz\n",
       "Wg66Kcj2bx/gNdWNkATCv/J+qMCoI8LgS6Zwo/Q48trgS7+zorgFNWna0J1xtlFtAAAANwGeIHRD\n",
       "fwGXtjxQHJnaDZvd1vrCpIByabXfX3YUp9vW8AjZ/oiixRYAIsAMhNsjCj+QkjoTFy0AAABcAZ4i\n",
       "akN/AZh9dGs/6gty5d0fZr9OkAIzOi15Bq3cl2lsHamCntwyBVo+UV9yV06Tp4EIqg6hfJ4f+kW1\n",
       "yuq4kGZOfHTYOwqQohMzYHL06DQtKjHL8dMTKlBbKpAAAAEUQZonSahBbJlMCCP//rUqgBOfv1VH\n",
       "4b9hUeTR6bIQAOYe/vRCBnc4E21mlmYOdTX24aGIYKNsfMk05TkttlFsDXtaPuELlH+TRc/xVU2W\n",
       "nLvjvAfn+OM56UP11SGvuuu9VJnXn11l+Zx9BywSpzPIjBFlOlzXwGNAcGlBiIvwrgD8JnwHarpV\n",
       "y0BuykjgVBGiXMvMeERLuQRGgq3V2BmnB7HxcjWmukBcoZxiSmtwR89EFYFtWTETdGlAYAgM50pc\n",
       "pIjKPohBwqLvmUh6urC7v415sMQMWJ7PI0H/b9t+q65gpoYliRusxp/R+Gv0VW1QpI8hRCgUkFPa\n",
       "PKUdOw4o2tlV06VT5u59pX2XlqJdWF7um8dZAAAAYEGeRUUVLDv/ASJH/3lgyEuOfKlr82TSpnZ/\n",
       "nCAG2U5xKEm/UT/pNJRS9e6P/WVhdzfsnC8fH4Xe9EgPxM9D/PpOPgYXuMaQzTvNX3xYqxqsa2h2\n",
       "uW+2mfQ0Hnj/ecDlQQAAAEABnmR0Q38Bl7Y8ayfsBuvCXaN0zTmInAA4YDzEYzqtANf9CFqhzb7o\n",
       "80yX62HnBIyZllA4JtY5iJRmhdo15JuBAAAASgGeZmpDfwGYfXQxcloNqKWcAAtYEfoAFyAInoo+\n",
       "gT1aQrW/xh/FZkI19l2wyCuas1jQWh9HaZ96fKVsNw2+P/Ot8Q7qrH34C4FlAAABDkGaakmoQWyZ\n",
       "TAgj//61KoATH79TrMi5GCJtlAir0/wyFupQHhlIVGKvtWM444JxatC8l6lEsLRT+ZCEomg9Wvvl\n",
       "70rSEotkES3L91xu2XO+mgaQJpLXMjEN6b5LdMeLVVDxZgnTLE8GBWIiltqFZdtu+gziTK1+KAh7\n",
       "dY/3Z73OWUe4IkTWTf+LB9qE+TZIyf/9kWZiU0sxiSapxxwgeZtpy/Ye3E+tV/oQnAdjkv+iGY5T\n",
       "ATEIXYqzoaUE8WBUHcn+eIy4Xu9Dk+gR80Z5JtVT2iIw7uOz9W+01BUcLyFLHDsIGlXnWH1ul01C\n",
       "JWi50wVTGa8R2BGmLBtpRjTXpf3cbPxPCDFI2W3tBf3x4AAAAEZBnohFFSw3/wGY4x+MOi3eJLYc\n",
       "hjwysKxoWu4hupABavheaX7uQxWKwPRinekivCQYjItuF/k83h09vP73zDGRkVm4wdkOAAAATAGe\n",
       "qWpDfwGYfXQxcZrPS51QLOPJUUALYAcCMk1X5smOqvhiJQ1rsVbLab/mFtaVzm0Ut4/6fdLqNSKG\n",
       "oHu6+A7cn6HxqPWJaj/7eYEAAADbQZquSahBbJlMCCH//qpVACUG2R0fRe7uOLgYALevOShoGLfS\n",
       "vFGYoULyqp9ZlvL3hXyNZHgZEqANmgB74e3iFC2jvwiXLltLFleYZjT/xy5geqh2saoiymbx/2Sz\n",
       "dbmTgU8Sa9z/RXglLtdQWU9jXzyi5kcYlrj6kH9CSPlw3uCt7fZ4WwIQNe9GyonvCo+blN5Y+/js\n",
       "1ZXt0bHa3DEWRo0vBH5+QlEZNFPmOAardDKVnmPGv9SqnSscRiA6PbnxMLeytHcTJAn5qW33A8Mq\n",
       "xb18H6mDCw7E5o1AAAAAaEGezEUVLDv/ASJH/2w+Ro5dCGDgBE1yxS1c7OB4/Wv+ibfJkdhzrQEl\n",
       "xV/YN1hWTPZDTnWmwyDhFMfgmzWiPjSk0g6WrVWEHm41rQw5/pp17hgT/NpaTDF1/tzuT55Uc7l9\n",
       "Nt8HLOmAAAAAUgGe63RDfwGXtjwElbLJYQwBvLiW6t6ABtDod73Dsrl/auVSGpT/+Oi68FpWit7u\n",
       "fe4f1rw/G9IjBYRW1kEurOZy4vw5alSGYfu7TuKBgHp2vwsAAAAxAZ7takN/AZh9dAAwujKkirYQ\n",
       "n+pEt3rdM6nzBSGFy8utmDmpjTNNtzaIaLGwAksLvwAAAM1BmvBJqEFsmUwUTBD//qpVACU/VAhG\n",
       "OwRJ24AXXmDUPGyL3QV6b66RwzX6dWUFR5gJZ/ypjE/oUuFA5/fO3jOtkmCvXZe+6gTtcoSYTGeg\n",
       "SmzzDnObFvRjHXj2gprkRzE2ik4lLpTNdZQqwoSaqxGcmfeiOUjLcvbBsIwtg2R3/Ga1/zYQabt7\n",
       "/m1sy6DnDl50KVqX7/pkAMpzRTu4FHSHoBJQuYY3Cw3m41cTRHuW5U3Y9ktXseDNxpzYMfHgxzlE\n",
       "XTvir+aR2wOLXOphAAAAVAGfD2pDfwGY4x96NnhWvjgaABxGUNNEQP/tNGuLKcQFxcpTrms5jAKV\n",
       "gvrn1iPC7PMvWiZC0AlAG06ofa0aQr6yu1ey2hMjD3WeT5LbvkLPwIARcAAAALVBmxRJ4QpSZTAg\n",
       "h//+qlUAJAbYYB/Q5b2AK3hEykj+F1fzExucA5Nfoh9mM08SDgFZURQciuopfkOvVwXUK4/DbOta\n",
       "9kCbbmvMxqnzplZ1JPM2/9q6IfvcV4Uf4BW5JMO1+GJ5WMwWvGhRu16gdPeSh+TOdUSSDk6O0uOH\n",
       "+gyaoCq3R0pK8C4UOLd+mSMqIx6LeTmD3xG/rlNPqLjwfL1KqOA99Yqb0aTvJtCIRKwFwslkrhpg\n",
       "AAAAc0GfMkU0TDv/ASIoz2cPZe7aVFuc2Egt+EoASyhDyvOdSxQd+g69Fcf2JlttfJWYQRuavX6R\n",
       "XmxIkzD1Nbqjt+s6TjXpMZKddKoMaLB/98vCH62JCQ4O3JDRbU4yLh2e6S6F2Yw3BC0gbtdCf38f\n",
       "X0FtnB8AAAA6AZ9RdEN/AZe2O9ZJ931J2YEX/6ABxT9E+KRWxacZB8tEgVHg6Ns+16rsaa6Ce56/\n",
       "yu9Tn8WIbxopIAAAAEYBn1NqQ38BmH1zwR1zLDQDgAnGMqbfsD9BJ/edOjDarZGmR7rxL++gv8gT\n",
       "vzOlCy+88PNX8sXarJMXlSVfg3ZFnISi1+i4AAAAoEGbVkmoQWiZTBTw//6plgCMKu3XK+9xRkX4\n",
       "PreAC6UGQjroycpyyz/kz4zCKHO1kghjXOXktE+uj7vIsr+bRWjd7geud1mmMgPnpzOutmUQPbWl\n",
       "6aiTpn+eLNGXXVW6peNjxrbck3QwM2opLeOC20ds7uKzRiyl0mtgpsLfeo5+qG/wkIdd+logO4sn\n",
       "GbU+Q56Haewl4RDpKF18248lDfEAAABZAZ91akN/AZjjH2jd+OUvgAE4+wLPoiC1+oliYEzUSF54\n",
       "W6VgbpJSuQXxiXNYioK6+1OXIeUDUEoa4zEbHkc08H4hwshtNjy90Tn/QkVHtsz6vTjGibahLMAA\n",
       "AACdQZt4SeEKUmUwUsO//qmWAIz9LJTHGEm68ALYC8Qy+tPJ5BOk4b2t2liQcOsZ7jLtsTs6fqja\n",
       "uxsAEb8xstrQCKJchMO2e7gdObCOjxn0QCsDfr2hqqAlepVqunRjQf5XuD8J/jqutHFlLGBBLn3f\n",
       "aIG2rhWXEniCChewvizvo6d0qfv68Nl3fo+6UgqMtjGwftIsVPMq+ocwsCnFXQAAADUBn5dqQ38A\n",
       "ZEAY12oQ0mm6/0AEHezklXe1XXVSpbnnN8Wv8+xhAw/yzwYOiBHGno59X1/1GQAAAFdBm5lJ4Q6J\n",
       "lMCG//6nhAEMHCSTpfHxXqAD5viNxan6GzpNYmG5KzEUC8XEWHJw03WTiPsrCtdvSMr+fIyqcVG8\n",
       "ddyN6Mv/VImfRiNN9nAUlA44TUPlNTgAAAhObW9vdgAAAGxtdmhkAAAAAAAAAAAAAAAAAAAD6AAA\n",
       "L6gAAQAAAQAAAAAAAAAAAAAAAAEAAAAAAAAAAAAAAAAAAAABAAAAAAAAAAAAAAAAAABAAAAAAAAA\n",
       "AAAAAAAAAAAAAAAAAAAAAAAAAAAAAAAAAgAAB3h0cmFrAAAAXHRraGQAAAADAAAAAAAAAAAAAAAB\n",
       "AAAAAAAAL6gAAAAAAAAAAAAAAAAAAAAAAAEAAAAAAAAAAAAAAAAAAAABAAAAAAAAAAAAAAAAAABA\n",
       "AAAAAbAAAAEgAAAAAAAkZWR0cwAAABxlbHN0AAAAAAAAAAEAAC+oAAAIAAABAAAAAAbwbWRpYQAA\n",
       "ACBtZGhkAAAAAAAAAAAAAAAAAAAoAAAB6ABVxAAAAAAALWhkbHIAAAAAAAAAAHZpZGUAAAAAAAAA\n",
       "AAAAAABWaWRlb0hhbmRsZXIAAAAGm21pbmYAAAAUdm1oZAAAAAEAAAAAAAAAAAAAACRkaW5mAAAA\n",
       "HGRyZWYAAAAAAAAAAQAAAAx1cmwgAAAAAQAABltzdGJsAAAAs3N0c2QAAAAAAAAAAQAAAKNhdmMx\n",
       "AAAAAAAAAAEAAAAAAAAAAAAAAAAAAAAAAbABIABIAAAASAAAAAAAAAABAAAAAAAAAAAAAAAAAAAA\n",
       "AAAAAAAAAAAAAAAAAAAAAAAAGP//AAAAMWF2Y0MBZAAV/+EAGGdkABWs2UGwloQAAAMABAAAAwBQ\n",
       "PFi2WAEABmjr48siwAAAABx1dWlka2hA8l8kT8W6OaUbzwMj8wAAAAAAAAAYc3R0cwAAAAAAAAAB\n",
       "AAAAegAABAAAAAAUc3RzcwAAAAAAAAABAAAAAQAAA0hjdHRzAAAAAAAAAGcAAAADAAAIAAAAAAEA\n",
       "AAwAAAAAAQAABAAAAAABAAAMAAAAAAEAAAQAAAAAAwAACAAAAAABAAAUAAAAAAEAAAgAAAAAAQAA\n",
       "AAAAAAABAAAEAAAAAAMAAAgAAAAAAQAADAAAAAABAAAEAAAAAAQAAAgAAAAAAQAAFAAAAAABAAAI\n",
       "AAAAAAEAAAAAAAAAAQAABAAAAAABAAAUAAAAAAEAAAgAAAAAAQAAAAAAAAABAAAEAAAAAAMAAAgA\n",
       "AAAAAQAADAAAAAABAAAEAAAAAAEAAAgAAAAAAQAADAAAAAABAAAEAAAAAAIAAAgAAAAAAQAAFAAA\n",
       "AAABAAAIAAAAAAEAAAAAAAAAAQAABAAAAAABAAAIAAAAAAEAABAAAAAAAgAABAAAAAABAAAMAAAA\n",
       "AAEAAAQAAAAAAQAADAAAAAABAAAEAAAAAAEAABQAAAAAAQAACAAAAAABAAAAAAAAAAEAAAQAAAAA\n",
       "AQAACAAAAAABAAAMAAAAAAEAAAQAAAAAAQAADAAAAAABAAAEAAAAAAEAAAwAAAAAAQAABAAAAAAB\n",
       "AAAIAAAAAAEAABQAAAAAAQAACAAAAAABAAAAAAAAAAEAAAQAAAAAAQAAEAAAAAACAAAEAAAAAAEA\n",
       "ABAAAAAAAgAABAAAAAABAAAIAAAAAAEAAAwAAAAAAQAABAAAAAABAAAQAAAAAAIAAAQAAAAAAQAA\n",
       "FAAAAAABAAAIAAAAAAEAAAAAAAAAAQAABAAAAAABAAAMAAAAAAEAAAQAAAAAAQAADAAAAAABAAAE\n",
       "AAAAAAMAAAgAAAAAAQAAFAAAAAABAAAIAAAAAAEAAAAAAAAAAQAABAAAAAABAAAUAAAAAAEAAAgA\n",
       "AAAAAQAAAAAAAAABAAAEAAAAAAEAABQAAAAAAQAACAAAAAABAAAAAAAAAAEAAAQAAAAAAQAAEAAA\n",
       "AAACAAAEAAAAAAEAABQAAAAAAQAACAAAAAABAAAAAAAAAAEAAAQAAAAAAQAADAAAAAABAAAEAAAA\n",
       "AAEAABQAAAAAAQAACAAAAAABAAAAAAAAAAEAAAQAAAAAAQAADAAAAAABAAAEAAAAAAEAAAwAAAAA\n",
       "AQAABAAAAAABAAAIAAAAABxzdHNjAAAAAAAAAAEAAAABAAAAegAAAAEAAAH8c3RzegAAAAAAAAAA\n",
       "AAAAegAAFgUAAAJiAAAA8AAAAUoAAABwAAAArwAAAEQAAACSAAAAdQAAAJoAAAFIAAAASgAAAEMA\n",
       "AAA/AAAAjgAAAJIAAAC3AAABKQAAAD8AAACRAAAArAAAAIgAAAC3AAABSgAAAF4AAABSAAAAUgAA\n",
       "ATsAAACDAAAASQAAAGsAAABtAAAAfQAAAJsAAADeAAAAXwAAAO4AAACnAAAARAAAALEAAACIAAAB\n",
       "dAAAAEoAAABpAAAATwAAAIoAAAECAAAAQgAAAF0AAADOAAAARAAAAKMAAABIAAABHgAAAF4AAABK\n",
       "AAAAPAAAAJkAAADPAAAAKwAAATQAAABbAAAAlAAAAEAAAACJAAABigAAAGQAAABFAAAAVwAAAKYA\n",
       "AABPAAAATwAAAVAAAABuAAAAcwAAAKUAAACCAAAATAAAATQAAAA+AAAAWQAAAPcAAABhAAAAPgAA\n",
       "AGEAAADhAAAASQAAARYAAABDAAAAkAAAAMgAAACQAAABegAAAEwAAABXAAAARgAAAVIAAABeAAAA\n",
       "OwAAAGAAAAEYAAAAZAAAAEQAAABOAAABEgAAAEoAAABQAAAA3wAAAGwAAABWAAAANQAAANEAAABY\n",
       "AAAAuQAAAHcAAAA+AAAASgAAAKQAAABdAAAAoQAAADkAAABbAAAAFHN0Y28AAAAAAAAAAQAAACwA\n",
       "AABidWR0YQAAAFptZXRhAAAAAAAAACFoZGxyAAAAAAAAAABtZGlyYXBwbAAAAAAAAAAAAAAAAC1p\n",
       "bHN0AAAAJal0b28AAAAdZGF0YQAAAAEAAAAATGF2ZjU4LjI5LjEwMA==\n",
       "\">\n",
       "  Your browser does not support the video tag.\n",
       "</video>"
      ],
      "text/plain": [
       "<matplotlib.animation.FuncAnimation at 0x20bd74a3cc8>"
      ]
     },
     "execution_count": 106,
     "metadata": {},
     "output_type": "execute_result"
    }
   ],
   "source": [
    "rc('animation', html='html5')\n",
    "anim_Learn"
   ]
  },
  {
   "cell_type": "code",
   "execution_count": 107,
   "metadata": {},
   "outputs": [
    {
     "data": {
      "text/html": [
       "<img src=\"Learning.gif\"/>"
      ],
      "text/plain": [
       "<IPython.core.display.Image object>"
      ]
     },
     "execution_count": 107,
     "metadata": {},
     "output_type": "execute_result"
    }
   ],
   "source": [
    "anim_Learn.save('Learning.gif', writer='imagemagick', fps = 10)\n",
    "Image(url='c.gif')"
   ]
  },
  {
   "cell_type": "code",
   "execution_count": 108,
   "metadata": {},
   "outputs": [
    {
     "data": {
      "text/html": [
       "<video width=\"432\" height=\"288\" controls autoplay loop>\n",
       "  <source type=\"video/mp4\" src=\"data:video/mp4;base64,AAAAHGZ0eXBNNFYgAAACAGlzb21pc28yYXZjMQAAAAhmcmVlAABcIW1kYXQAAAKuBgX//6rcRem9\n",
       "5tlIt5Ys2CDZI+7veDI2NCAtIGNvcmUgMTU4IHIyOTg0IDM3NTlmY2IgLSBILjI2NC9NUEVHLTQg\n",
       "QVZDIGNvZGVjIC0gQ29weWxlZnQgMjAwMy0yMDE5IC0gaHR0cDovL3d3dy52aWRlb2xhbi5vcmcv\n",
       "eDI2NC5odG1sIC0gb3B0aW9uczogY2FiYWM9MSByZWY9MyBkZWJsb2NrPTE6MDowIGFuYWx5c2U9\n",
       "MHgzOjB4MTEzIG1lPWhleCBzdWJtZT03IHBzeT0xIHBzeV9yZD0xLjAwOjAuMDAgbWl4ZWRfcmVm\n",
       "PTEgbWVfcmFuZ2U9MTYgY2hyb21hX21lPTEgdHJlbGxpcz0xIDh4OGRjdD0xIGNxbT0wIGRlYWR6\n",
       "b25lPTIxLDExIGZhc3RfcHNraXA9MSBjaHJvbWFfcXBfb2Zmc2V0PS0yIHRocmVhZHM9OSBsb29r\n",
       "YWhlYWRfdGhyZWFkcz0xIHNsaWNlZF90aHJlYWRzPTAgbnI9MCBkZWNpbWF0ZT0xIGludGVybGFj\n",
       "ZWQ9MCBibHVyYXlfY29tcGF0PTAgY29uc3RyYWluZWRfaW50cmE9MCBiZnJhbWVzPTMgYl9weXJh\n",
       "bWlkPTIgYl9hZGFwdD0xIGJfYmlhcz0wIGRpcmVjdD0xIHdlaWdodGI9MSBvcGVuX2dvcD0wIHdl\n",
       "aWdodHA9MiBrZXlpbnQ9MjUwIGtleWludF9taW49MTAgc2NlbmVjdXQ9NDAgaW50cmFfcmVmcmVz\n",
       "aD0wIHJjX2xvb2thaGVhZD00MCByYz1jcmYgbWJ0cmVlPTEgY3JmPTIzLjAgcWNvbXA9MC42MCBx\n",
       "cG1pbj0wIHFwbWF4PTY5IHFwc3RlcD00IGlwX3JhdGlvPTEuNDAgYXE9MToxLjAwAIAAABNPZYiE\n",
       "AD///vdonwKbWkN6gOSVxSXbT4H/q2dwfI/pAwAAAwAAr9Z/CUmrMFECNkiKr1VJ6KMcbAyvfAgs\n",
       "4pdZvdrVhcPg65U9m86QvYWXbOswu2JvqLqMM3LdB0Jnb7D2uU1YKH2TYhJu0/fLW+M8noxXQ5de\n",
       "PUazQ1OZwJrgAAADA932f9mfqph+1Y50DwyzUgPZ+SanVjERd/VXj1DZhnoNg44nKDgLUrC+9EPP\n",
       "R0hFF+y+vxNZks25jFu995PuIEE2jUzVWRirpev373mMNRIFLQgDQ7bFwd3/z5U/mIO4vWb9XtrN\n",
       "VRuUK/7NImOZc7wcth6IvqUU68xXKzXTqqUwfSoKsKG9ejOro6UIfZjOjjtwtkhnrM0kLp8OWkBr\n",
       "5VwqJwl7WalqU5ADH//pf+8zg/9LM1UiFBx9fwmJPKHcQ4AijAXpi5LFkLAa7p1c8bzpBta8Z6Ms\n",
       "JXKxZfSE8MD4AJbThBHP5aOzNxRLniPkdUKZwTPPG1agU41mPN9zG/nX/xWAG5OGmLqPmss4vsvl\n",
       "OrGNlXP3E6xit++vilR9PPFvDxaRcb35nlFnyAh6/b6PpTfOyE7z1+56RejvbPy/LlgVw3BbiNLn\n",
       "PqD5KUI4Pvc4tblq3COrOA1iKS8M1oR+F8tbSZYjv9OsxkoETD4xN+x/sm+/wECo8HvGU8NRvgAE\n",
       "XbRVDNlXGNE9UPIxjhV79YZwsV+bLiCkqIhayHUkWMQBZUxV2BAhBwcGdKlyY7fdbb1a55RA4UJO\n",
       "xE+V1jdubfBJ7XCmoMiF+tAuRv8U9sm4BS5bEHmGZ6/chyfDi8tHgIcMNa8H9RqgQ/t8j6mdsCPG\n",
       "Erb1MhgODD1vfEytyPlk5dOoBK1dzW3weg911udXxbePVyuA+Es14ydmvWxIUktBz2ceJI5kX12W\n",
       "r3RyQdQGjTMlyiNHO4LoPt+ZTyiBo3kAuxLK29HZLdhwPezCdpWhDCVlE9dsDJccy/5l1GpVGshe\n",
       "U/g/7UmWIk13CLcap5eyWZlE8xWLCR3OYud/jljJkMmfkXxvudF0Dxi6Zp0Ae0hhErcrA188E4TM\n",
       "piP3TbX+chLoyjRSPbICf3iA+uWJm0ds2C1lZrEF6o+goRvDCfVgRQKv6//2SIbFsrUQJ13dfBIf\n",
       "5mYks7fo6dIxW8Tn1BzbbHx+NZME+QuNum1c+NS4OJkPpW5rbTzLtc3mi7gbp0TkQr6Qye6wMyVO\n",
       "8XnkaPue6V8ntr3RMBgckgUGlDBqqdTbGpEvk5W8bfeERFaz1hY9UZ33hKcw361QYa/HDd2TBLuA\n",
       "AkBrj+dTpnmQdnVmC5FJudzvHd4cX+8TxBN3bzwjVo8xcFfb4PIpOxYKGBo9fP/gv/3uZ1iKroFo\n",
       "Dr8lJ+KmdZIPUOetaUdqH6qHMs4rdPkL17klTanX3BLGrztLZcYRPg1ldlubnJke5g//gcwrMB9b\n",
       "iO5wR81dMwIpD3G3hodD2e5MvrdB+srI7y/Hl2kuaSxWgAJnUwf1iBxR3Uql4p/yUanfc++SiwmU\n",
       "9NcHI9lGYGQY6WbIZMlOP8sI4cA9HePvt7/SetvcsJ5npzDHXvnbonpTfuJ1UtD6Z5uDeiyKqaq6\n",
       "OxUoQ82nRZB8uHgnZZM1/HObQhsjjPLxbp/TRc7F8K045kMECClIRVW800UrsN4xSSHj9Vh+FjIa\n",
       "+xEk+y4wCx+u5IgXqXbYDZocf71S+BERH+lGxc8SiVq++EBLyabQN9UWsOvLttWRtTPVDS82qOWc\n",
       "RKnym3ihiuXku2ULAbStCGdahz5gW45T+W9TM5SlUDCT48BGZP8BRl/cWR2skdddVOCnSBxpd6h+\n",
       "RHcnmctMI6wH4jPenRurux63Gmynba6PyFRdqg1PodjXD6fbSd4wHm4VKHSZX5seuQl8UyrSLDgJ\n",
       "YzZ47X4dIuJZQwAFVJ/VCkbD8JO5XjC/8tUjscfiFSkt6MPP3htgTKEqTCGu20ACS2yzfGV2rR6f\n",
       "xlvh10K+dg9NnGvH/CvgsyCmuQ/oyGfLNK+sF+tZ8QaSDRlhw+HCnrnAFGhTt52aP7Vqf7MTpPSD\n",
       "HAh61D2byvXimkX/ifCBLnwQaaDLgZt1mXX7tInwJNT4ud6QazUte2TjSIjlOcfSDYYk6zp/IlY+\n",
       "jMHHAFO3+jGEHav//HtpmCD6RwHv9F/GZfFr73q8gIl9+EAKs+4e9RmOTUuNR8Efbsjk9KTgs8cH\n",
       "ZSx93qvB1D3vgIWOdzSEKRXCsDuRIONpXYQ5F+H4o4cUFE05ooOCumsg49md8p8Nl5GU2us6Ljae\n",
       "ifgwBYxLB1OjHRg+T21//D3ntqZ1VeMQm9eGQj5URrvxY4PKRKfOa5+qait/F/tnakE1bYV0dmuO\n",
       "rSfe9Xv7wGOxJJyk4qUYssm08V2n0VZK0mEcaKK+kDTZyIBrKDv8eY3bwV6SEpQ7VIwEjq0T5CTj\n",
       "IY9pJbdJwIJyfivziwvwdqgw+g38qpsKflMduixOsYL0/YZ5qmR2qYtgwe7RWIzAURecGn5W77cb\n",
       "BqF8UAd/BklXN/nx7fSrts1L4VnDkuAe643x62TWl4NiJIoEbNPuAPi41sW+XcyC/uIVjIUuBpZF\n",
       "4ic3VGSRRgqMURWiM2nCHh7ultv4a8ADxrW8BS3BsP3ihfB9YDveXIQgjzemZcrc4UmUTxPgoXq0\n",
       "CK1x6k46tEpjz2kiat/mfRqFhf4R239LfDYpyVqEAHaCGhllji9eO02GTa14IUmA5UlDKQIAHpIT\n",
       "wj4mPfnDW1pokJ4PlO2WYtvOXk0XRGcursJp6RUO6PNWmDn3+bL2fL19/lteZ0EH3m9FAT3h5mlH\n",
       "BvaFyl4miUSdAc7bGZvkNJdSbhaCv/0mMgfLVawoSYjXLG5ZAFQ1ltQI9MXmeLhCQz35b0A+y52Y\n",
       "tahyA4skyqFZEKT3S1P4a1x6OG6+5RsiH+blCX4gEqwW0+cf2xag+jm8Qkv3vDi6mfh9LSLL0vHH\n",
       "6tnAsyliSCeI6qmOulNDA8OiKf+8K+sGn/QD0/eoT5iiPlThrfRPMQT/HZPLoSaWOF9QLdPIqWBF\n",
       "umncw9gBoRmKwX5dbA6/+B/csuPhJ5wGh1MORVypQeP9XQM7FAwR8HTwte6hk3MVf9DfiybetnCj\n",
       "m01ZCNwdhCXzZNPs7d08o521yoZe9y9TsGB97fWJb6xhNbyXsuAV2nv/SRoK3JxV4cZaNxbVkVrT\n",
       "Ox6gLYs06zepWzeqw/96UD+N89esdYeQDZqbPmnRjY1s4nUZ+0A3atv6bP/MbDkm4HjNexIXUkxc\n",
       "ystzm/8K3vNY0S6H4FR0hHrWG9R/kcsWAa851hmXufHHdPemMm0gfqgyfE4bdSGAac4vJd/f/Gt1\n",
       "79qPwme4PuI93R3gbN3857fQ2+UqPofivkPWTLdEQZFn0Y+0f/HQ09YL/mtG5TqAGp52mEAUAJqP\n",
       "KtYk/0gX/yv3FYrPG+9Ip3r5pFjVeDJwlrhQT54U32V9m72NpoEa87juxaa1XGqcBJ3Kwy5wvjay\n",
       "RkXsxNnYYBeAUb+n1TaK+pwo1qBDtwOj+YGZfud+0aVFOw0WPU7QTWS/MJ18RLpMlofMHX/ZM5m0\n",
       "EZ39KIEXARFMiO//pARB5n2vcV41ZlhNdwTWRNYSDK8dpGynbSJEB6JbDW+aBq9BIuO47Fr1Mu3W\n",
       "nUSk/Tt39FpwgqAvqMzhYd/fEKI2AD6L8KkbH8Ty2yYZ0Pyuu17a9/im8MJnfabl1emNZvPfZ8JZ\n",
       "rub/rMdsrKB6vTQXpS6hNHjV8cdORMZjL+INO4+jgKqawpiR2o/Fq2d8Ck+8fg1E7ZUUVhY3wNkf\n",
       "PJjsC+zUlW5VfW1EP56ODoDf2R7LOECKVVUo3gThf4KcNBYGhET38s7LrZoAPTTzRn8kljM16Ls1\n",
       "DnnpHlDF0uEaavasAjZF+6LCduqy8nszg1IS23ObID9XvxayO54JHp2+bFDl8j/d66AkxHyCZ1Ew\n",
       "/jz+gn7lrdEK0WU7Sp2F/OttanV+Nd1nuzZ3vtQ4f2Q/izDbk7+ZGgaCkv+We8WnKUsCj0u4Gwdo\n",
       "S9KYlZk/4CQYaPIJkDlz79h6I8Rcml9fA4SGI/LidStLtfslLDLtsMcTTDLRt2n6roW9HOtZ22SW\n",
       "RwNJ8hWyVuq03EQph1LjrEWqPelLiiyh2D14sqJifaal3x+y7p+QU/ajUej+DnGD+Z5UNeH9rzjd\n",
       "zbcu1b+iLxfe8jg8u5/uQD86Qo97xfpgOwqVe9A8ARGrZdaYDe1GOXnS8rGECo8mqnmW+E0HKaFT\n",
       "4AQyYVrJ7wiAXlWXxmCO8Qb5eua8HTA77p7uvq85nRcq6A+tPbBa6Hi8WRKPzRyT+TNWoDUFnnEC\n",
       "NAvGuiVquCrW45qNvtFRvuqzVjWz6C2RgRMyyPjWPdDi5F2lfqH9tWUF/zIbrLCYa1D/999YNUE5\n",
       "E0004WSnlDBFX9Aiq6EkfwcdE4enHAvwKxuufa6gF7iyAaN+j6g5UxdNQpRjaeZB3taYRALg0AbG\n",
       "6alLyLIxDPlo/4zIKmOIqixdlRTnqk6Z09/yVoaXsVKeWxqAtBuD3Cdh4O2SoAkCeb7y1UYgIrfm\n",
       "KvvAceKgqv9lDnFscMhoQyO73MCiiUu1BZq71T+fuXlAL//1qtOmC/RgUZ6KykFtvg2Tb2qrin6l\n",
       "rARPtDdfe59qS/QVC3MePkYl07gAZ8jfVF6Mb9fKp/G1bl50oy8jiAkYXUodjsvkZyC0s7Jqyqpy\n",
       "2t6y/aFd0d2T7GiQqmivE100UHDPYJyWl9vdz/1b+k3mKOrB2W0jnLc5XjhRMUZ9THHRCDwKCrCu\n",
       "akD5WJmPXhwT/4fgMmeFA/Fh6d0W3FXPUafWOZ74yBV9OdgfJQCyjY7S5NGB9O+lR51/hOg90piS\n",
       "gQWtf0X8C3V2DLd2sylDihgl+EF9UJvgIl9EOD1z92D4Kdd6BhtT3vk1UXxLKv3BSKy5XRau2FHd\n",
       "sxaZAILsjabcdnk5iGq+anhFUowjW6Ytv8LMFOsuGkjovbj/gHSmcgeQ/DP9ZURLMCI03fc/GGos\n",
       "BYO0Bmy6bahK8bVlmS5kANhRtob2JAvBE6gh7ippH48ZYCN4ftVNzxycW/pBSQyi/u0smiz0MSbx\n",
       "fQFPoOCPu7bs/n393XMLkrTQhLFeZIBSKcsDKmP3PE7wLtPDemQBreyKQ7reK/mMg8AxrZ0JkE61\n",
       "Z/Q0r6q3fZvjEwdsDC0QzbdvZeYffj9JSpTdfJ7UX3UsiZVwMlVE4mEABwFCbizZhY8XxXULa/N5\n",
       "Qnz04fsmo27abCzYO9QlNqphOXADY34Mzq3vnCeJjQJRsVU4iuSC81I0y+wE5u+dS0UeUKLpfWEf\n",
       "x+jB+4YgB+BPp8ABwq6jjQh+oHgi8tV7sYIIgptojvtMAFUPp7IuyheFWtmsVePWmGyp5RcXCq/+\n",
       "vZv2yge3HFtXEyN6ccI2ozaQT+CxWy/5fQUobk1q7a5G1jJB4Zpgn19s1NPZxi/C/yAddQNcfRFb\n",
       "hXXHSHWP1VTIHkTER5Hz3VzenMN37BKb8Zt0iyOWMEzLYV37yoqhVpMOb1DTa/KSZVsMr8lK5QMZ\n",
       "rPpgF3i7j4gVrE/zlUn0FUpuufo5/8+3wDuJhm53HXgLme1C/bRedXHujW57YUBjfnOjBzGEczyA\n",
       "gyefitrp8hwNPsIJygNe8NFjrccH6uEpDI4xwxR3jbupI9nBPLbve55jVbldWDkxuorDzdDAPI5e\n",
       "QOCDM83R1sealEaX+kDh1GH4bWo8LkJLUJ9m3WxvQ+fjcCwxlPhoH7zHoDDhSiEIxdhUFl0bOa/B\n",
       "wYtIyT2jz6u7+gCo0CEJtX6xneblbxy2vFrYbYIi5TxFLoAAp9/YtojiC4hnzPAjmI8bUhHuOC7M\n",
       "LUKo0+zo6LvztIrDLtH5sCA7vGimUe7gA8Hk22l9RDiTGPCKtPJCqF61bfFmLpkstcvl984PbgRN\n",
       "qGYrWGJC8O3Ub5uz3i9RsmBGR09GrLPGRDMl1tGYqJ8+4tTX70CE5Im7rPIzW42D2h2vzNpceacx\n",
       "yobxKatx079qOrA0JzJyOCkQqTWmBKr9YamDF31RsGlxkXMaPepatSEI8u8shsla/oZ1AVh5Y9dn\n",
       "Yvpzd4djm+jCbrVWjdcFdFjH8NH1opgSaTZlmxJ50jDkkARAUQdW+3lxg+HxdmFZkUUxUl5zw7P/\n",
       "eBHrsUml4CVoHg/wNl1YyCaOe3klDWE/uex4MFW04dnhQ1OkDK+MZmVZsBTFTX5oZEvdaBVI51eo\n",
       "N/7EszyDs4EgKh1W4Ick5WdFAdiDEkxrj6X/7XbfBrRSU+ov/k6+Cb7hhbLL5t4WvlS0IZtX8h2G\n",
       "FZtxpIt511z58XBq0xljaX9RpNUzus/XoM9w13+79MXq1R3x0aPn3AcvWZ1/eHve+e+c+ZvX8193\n",
       "OxYxUI5Nu/5UxgzQNloUBiTdKjCP31X2fMQel1eRlDE2raH4ekfRq90iM9J5A01KLVLWpreOKHSi\n",
       "zTWcwEScTD9zFI5lU0rB/l1DSFNCuP85BGQsbdFFoiGet42/1Be+rHmTmSmcYR0kmatOBAnevYre\n",
       "2DdH2RCX8bDtNTYvDg1ZUvBQ7MNW6OLoFzZwNJKthHPvIAAAcEEAAAJeQZohbEEP/qpVB1A+ADN3\n",
       "K1O/TKoVtbsz3Q9clWuCpldOrLC7t9tSyyWr3aVda6v2n1e+9z43xTHb5wH8t8q87b0Izq4XHfrn\n",
       "2fg8zct0tsqDsm3DaFAsoXFRfE/yko5sc5On+Mgd7kd2/IJbJgGO1W9E1P6RKt0/1bapl56KuOiE\n",
       "FWyb7981+BJiKl9wQPsOzNDj388EJAE+Q8PsypEs5Gl/tCdgH6hRN1h9n8ihxt4rYH8IShYHeGvQ\n",
       "5IUTEgH8iqz9A6P1MHdroo0NNzWPNbpGFO3+I6JoLw2AtTqZ+21Orr5z1ffsnmstQZ+Dh5y1QiSk\n",
       "HKmSjIqop08zsiFd8ZqrWyO7iiiDrq2I52SvPE1+H3aA6JTSajkuh0+Ke9yK8+PvZt5534V5DKLY\n",
       "uBCghEOZB7KFn0hsQfEa0xn3miRNMdXYXN8DJ/5xzwgwPb34P/wAQtoV172+YN9CUWDXR6XAtfSa\n",
       "E0X01ChgLtBQi7dAA7VIFNG+4rXnyzC00W7f7fQhupktRE0317ot3xEi5Os3lmLmcQdfn6RSE9jz\n",
       "cWmkKEHVAk7MKa1zy5Qpbu3kiE9wPwHD/ft/5qMYZ61cko7lAr47KptIoKIunBN8BxEj43wcLXFt\n",
       "WlD6D1kLqqQIIvV9zAeFvoRJwBHLfJdxr+9pzZ40st8n2DoDcU4ummwgPOEutFAbP5bLeiJiN8A2\n",
       "iFIx0npTLrDGtTYI8ais/hFtH/mWaNXazdj6jLsfY2OC59aUQK+6vAKU60UE1vBIJfMaOM2e309L\n",
       "7Uiyatoy/w+pkpSNsCpK4Fyu2CNgAAAA7EGaQjwhkymEEP/+qlUARVQ60VMFdpdlAz3KBx7LvHdF\n",
       "t61uygoUDXjjYt0v17CMSUGZ7tqma58e4HSbkqVxHRtC2W/CcFkj092PBP+ZJnBRtcokv6Ytd5nr\n",
       "1ly9oB0xGnthpNtYoip82ymvvBXbjaTwcnhoTrCgCYolq/mOkv6HWaM8qxbxpfLgYp4p3Pri55SJ\n",
       "1HQuk4wyM/qeNJZJ49X5LVXObWKeadSnApN5+UC3RaLwPyqm7dZHPlTO2pB2XXFfik7XcpgZXG9b\n",
       "Ii0+8vr9ZbnuLrFnRiPnuz0LZRiVi3DCQi2303/LoCgHAAABRkGaZEnhDyZTBTwQ//6qVQBFueCw\n",
       "Av4Z2P1PyKMt6N778ASKwNd4u4vte0rkDHdwYqUVj0t9+/06zHhBgeVicdC6Ja0EAGkmcoIxGH4W\n",
       "61Iguf33EeUfBgtbFgiMxxZTOM+W+gaLjgrSqhxE+xIso1gs9b8OWR1fE5yORNGB19p5OLnmkPEg\n",
       "OfXlpAVx1CWi/IDqEgJvwO06eiZOWJ27Xl+vuIqVqSwFIa3Jtze+xDzBiekGhzsbyvKMQvlia4QI\n",
       "bslchcT9ETvHtU+ibg89DDBYuL9OxSeSypA4RCBcggOrDcKaP9r+Ag+FDF01PzavwCo1Xuu9cCeG\n",
       "ekTduM1/lSmUhm0i/NKUqoRdNu7da53Dh2dkoXJ1/uzag9mM52J/H/d6/ONoLt0+75woC9wqL+K2\n",
       "dCJBBKHNLg6fmDfjPo//n/nW1iYwAAAAbAGeg2pDfwCfqu0ACdt4biLiRjmY3tbNBdZTWlTGaVpa\n",
       "8mevthSfOjb0gDDGSAS7WeHsToOe1zFACYlKfgzLqjn/fPziVPMjrNgk+zO/Wei9/7pRfiIFpE9e\n",
       "Ysq+cBx5BPMQqizzBdeAngaDQQAAAKtBmoZJ4Q8mUwU8P//+qZYA+QmSdzQAtfnbnHV5GcY9N+2i\n",
       "HMMZphjSli3bFLRPJOaG3xhrY27xI3zZ673t8wCLGX8Np326ajy5GGmPBJJ/YSkISTsQ0LLrvnQl\n",
       "MFBbuFu/RcE/Moyt8cXMmRxdqdIPvdt52Dxrv4OFCyWeSJ/VfcFlEOZ4e1nECUG3fHAIB8SGLqs5\n",
       "nqwmvev4ae2OQwttINqDLOTe5TP1DekAAABAAZ6lakN/AbF9ZzkIUrOhC/6MCnyG9FrlbUxbU6Dx\n",
       "rPwgALpMSbVEPXqycYxujFM1SYIKpdSfUQX8Dy5/ETubsQAAAI5BmqdJ4Q8mUwIIf/6qVQT7NAat\n",
       "YdrQfIUiei/MBQLFOIaM5IBNCiCmsq2xbZk7kaBar9db9vosLYnzNsPeiQTMkwj6PGHPfo8pkQ6s\n",
       "Kg5g34n7SAdl530rrQVnOG9ItCNCeO/6bsp4x1w7iv/84l+ASR8akdEFphNtLPwcf00hEtceHkDh\n",
       "ti9jdQp/0FCVAAAAcUGayEnhDyZTAgh//qpVAEFcc7kbEHdOVDVvLg+Ju7hDsYATpqv9zN+w1FII\n",
       "+ajod84Twab04aJsxqEPACpZ7QtFMmuHD4XzEqcaQqX2UYCG+XtnjRM38fLfbhV+BBNYMSdAtvvE\n",
       "QtC7ckNPWmUN7XjAAAAAlkGa6UnhDyZTAgh//qpVAEIvp/6CVdEAcsMH/shLBW1M+GQP17Vkq6Fq\n",
       "9n9Sg6Vf3/CcH2XNvfo3iQsKa9rumYLUt18gMREriw+pceQOlAq1utDddKrI5UkXfcPDjnwt1HXZ\n",
       "yGPHdkjxnzSZ2WYdv5NKcnBJZv3c/TTk7ZUq1hYxcgUx5PDpBAI0mKwWVsbZhjq+RvyPAgAAAURB\n",
       "mw1J4Q8mUwIf//6plgD7o8ogAjH4s+2sZBWryZx+1XzNWYAEEClM0YVZ9/xGHmb8u4UrMu1yGpHp\n",
       "fpNLnJTE5FuF/WUnsJJsKJf17ln2ZI72oGFKtnPZTeVHSXg+Hh0qBUWYJ4nOWu8dWqh/N0oLszoQ\n",
       "LAdB7PTV+RfxyE3FTVX83SZ+QtLBDK41bRHLA3JwVRE4khAcJf3rWwlpU3Er/2NBGKMEpE3jhvZc\n",
       "KVM1yBSAIo/dv/uWEYT4Q0V99lA1p/xD9Sy3caIKoQaoPIIaaUa5bO/sYb1ScXOi/RjIC76gWyAo\n",
       "lvTuZxa30qpib8Qoa4LkMgkKZn04ryBs580S2G/oIhZM9TfL3FhKxjeASM9q3BZ5oZCOPpBnOZBt\n",
       "84U5WJrAQilt54pDWlxJjv9RgAKO1fXChhc8R90tQgzv6osnPIUAAABGQZ8rRRE8O/8BIgk4ifK0\n",
       "gLiB3OlPF2qV5rMriXCdklq9geLRC/AAqdrWU7Cuq9/AA1MWdkIalDOmQHvWpLkqmkNpIZUYQAAA\n",
       "AD8Bn0p0Q38Amz66cSKSUd6K2L7y3mAKNAuRkTn4h6NwACxltzpQACAScAY9Hk22p79hNneMHgU7\n",
       "RefCs7tSmmgAAAA7AZ9MakN/AZh9Z2hD68klTjX6xzHKMrl82IvN2ui6/CMQaiFhmAAFyglRyt1Z\n",
       "p/Yes4pSDw2ACIVmoHkAAACKQZtOSahBaJlMCH///qmWDY3SmPC6ZUWFevAAA41DEFb8VoaIkRt4\n",
       "tsOf8SwYpVzsDE6dvbVHspAOTCymml5UGe0kB5rRJT32gHAR1ocqplR923ESFLHUoQY7afM9X+9n\n",
       "+wyH9vkRwnN3jhIyQdI0TWwD7h9wpj0V/xR9JuTYWhu23GWU98OR7ZnZAAAAjkGbb0nhClJlMCH/\n",
       "/qmWAO761b7rgC0/A/i/1X9/z/yCOmQ2E4BeXarHX8Nfd+Q6ke6oGOS7xr+y7dW/B9lceo0r95as\n",
       "HEQwiCv51w2It0WoA9EfcLfxkCXuf1B/CQkJ3Rm1KYtJd2cV/uyb9YcWpzOK9Fwyj8LCAgPmKP76\n",
       "KFOYdhjPBUpgROzixSgfzbEAAACzQZuQSeEOiZTAgh/+qlUAPkr5gA5lHg1XrNkQW6vIbE23RIdv\n",
       "x1cuwD5f3/Zdwj1/mzyytRGIg+FoSTBVzMIzRB6o7ZuySgA5/fYGIyOXtyAQDTlIx2HpdQrXr578\n",
       "UlKV/SkQHOmOi4ofJWUqf4LWTKbdSqzCBIxgP1137gVY1cBK+OFDusKMW7rQcD5fc86jjOa6lity\n",
       "L6Lfx3x2/OSWRrnb7qF8TNZezfTbmXmvKrNwL4AAAAElQZuySeEPJlMFETw///6plgDuQLXAZv1H\n",
       "8nbQ3eKfcAbGF1pMY+e0HV+SZ4Oe/2n5j/ZaaJchtX/hK+Ru1lTBO3QB+HBLDi7ye6eepxQkupOy\n",
       "FJWia2rnu87hhkn69oisWxUeCEqZ8IY3y8632zLiBYCCEwd/jN5lJ1/6n/dnuudfCXrvyvYmjH1r\n",
       "ltLKIrNEr+JltP+Po6UdNhQBbkb0Fcr6BpgB6RNeJQGV3IhEej7E/hfQOoG04we6FzETLbYokMcm\n",
       "kUxe9MrEEtmNKTm4/7tVab/KnMaNcaXoB2NF1ni3t9u56EpYmhDolJDlpJfrqutKwcRedBw7M/XW\n",
       "+e8Iu7paSpSHb/cR2eN9QFjaRSOJ2rwn7lhXNayKhW9TXJr0VpX8/4AAAAA7AZ/RakN/AJdGV73V\n",
       "+JyPA3W0L5nv95g+r8SA44Gcaj+uP79LP1RuoB5AAHDeb7bfaUx7FYOJSds0zMkAAACNQZvTSeEP\n",
       "JlMCH//+qZYADQCwW1aAFOwqoqdKQpl+G+QMZut7qwf/kNtUSxdZ+WGIvwOcvjagSDnaQOVday+P\n",
       "en5Wv9//Lcn+yFSriDYfK/6vVPwZGnuTHodo+R4JUvqJstzKco4WcuPuKAmEgLoYc1wXm2nEk/Jm\n",
       "uD9D/0Fu/e5TN8DwBsY3AkSJrT2yAAAAqEGb9EnhDyZTAgh//qpVADuREsAAP6JD2WyusIJ2DPd+\n",
       "6CXSW1diF8v77F/Mc6HC96vkFSjLtm2o+X73Mj18CuXrrPMYWA5vS3DBDxW/q0Pvwj/nE9PxWMbc\n",
       "0yKzEZ+TSzRSmYtgoX3V783KawyiPKlnkvpCY+01rgayjNkcbAUtdJlHPoPVENzHxqd8spyvDyic\n",
       "fF9pwDfuZrFrDVpqh86ubXZ9fPahQAAAAIRBmhVJ4Q8mUwIIf/6qVQA7sOgfMAE6Yx4srFj0lPSH\n",
       "Wuxbav2AhZ9934a1K+EK0xFZKTxTvrxes5dGVr7QE71d7ldYamayA5rLQUJyr+U5Ff3iTHNk1d68\n",
       "pFfE9zRA77cD68ZVAYtIHM/R0l69YVWi88AazGx2cJL3jJKU4s41uqH1tcEAAACzQZo2SeEPJlMC\n",
       "CP/+tSqBscfNU6uz/YAG5/7dtDACnUe6KJXkH6bM1rIB1BQxJtD+uk5NrSjGnmNq37UYeNl5HBb7\n",
       "+1PPBXHpyku68YYrpiNz6lOkfBwSlPK8mN+mxEJsl7qE0yB3dAE3y5N2ijfp/csRhpGhRRensDFq\n",
       "SRd/dWyEvYQp5LPn7L0RpxsNKR677lmlobBt4jnMZu5v0hH+xPuWtMGfIFVB7c33SHdbGsO8cy0A\n",
       "AAFGQZpaSeEPJlMCCH/+qlUAO5CIAFDoLFm5nbV/++hb2ahwLQ0bR6AHO/Tk0YrWzFmnKArkkGch\n",
       "Y8WVxk4LmQvHUgy7T2eietJVrr6RxUIKnzvJD/Cv8TM7/lt8qxyYRDy9b17JJ/4CEb+gYA86bdz0\n",
       "hEsxDA5fIWaVDm7N75WMSu1Pm/j2iS2kwCJMDkAySQqR/4V/YYGMd92TU27mEOx1JFMP3fWGH9+l\n",
       "d+1wjMBBApSIlj77Wi4sZm9PXwa/7UtFIDyc/1GETVdMt+m6a5Jj67JZZYemTe381ap0BJMjoCZl\n",
       "dhP4PniHA2kDH0pIIlFKp9Ht6SPkBI7SMm569mVQy7EHcgi6B8jDZ7HKoT7KceQI7UjZDk42UIna\n",
       "CibedsvD+QJEV11zdBre0nVg3UjZ8ZtulQ1O5PR9nsViEByT4n+FHb5oYuEAAABaQZ54RRE8O/8B\n",
       "GbXu+X4RLvPYc8wNc5xE8OuS15x8PAHxSwgCI6yQ4xUyhkJgf3DO3MDzolvWiPZuYrHHN1F0ib/5\n",
       "hLbuVbqDXhKvLMRN6KEQxNkXhexLPESZAAAATgGel3RDfwGXtj/ZEF1uGWqfK50lgqvg/rFXZwGo\n",
       "hhtpT6oAWxrhim7GYHtsNb2ZMi66CU9sGTXh9ibLLuMomI66AfVw9eRIY3r330eM4AAAAE4Bnplq\n",
       "Q38BmH4mZaM5rL+//IvsYMl7xOR0EP6YGyPqq4lAAXSZRXQRnANPiTgPWcENO9pPOSsKic0gMhxb\n",
       "2AN8WJD+iJ+hlJqwKaSewcsAAAE3QZqeSahBaJlMCH///qmWCbalDMkP/0FK3ABzS4p/Obf7nlup\n",
       "L//iBfeWyLAKYFt+wtj5uQ8iGukejVp771l7E5+tBiGzDG1PpAcP1h8vzD212+NAseCB/VQzYie4\n",
       "xBzZuBeYTHJEX01nGJRWnJpNlKTxdai7a1OKEdFfOPIh/Q0D2Z2AMBwSPdQ7spxfai4kQyazPOcW\n",
       "gLNMDUFUPgNFNEd8W0T8uT68K6ktKKJyA0gPbprk00r29Q/7UlVDA0g7w1HDCnRkWFUM9rMxFNBD\n",
       "p/gzL9bquIk/eo/q8wxVtha9f5yO4fljG5VGHR6/hVtW0RLygacqwr46WNkSGFsy9IOaBXe3xyA7\n",
       "KXaqLE6Z871puuVC+R7571Iq2PPA4CahsdWCf2i4aZfikDeAJk3C2IpTJF8sUYAAAAB/QZ68RREs\n",
       "O/8BIkgZwqAXBwATVvWFro55Lh7BVQDspVflGFIHJG4EW11LYMqO1PaA4sgQuO3DsrRKW62I3gW0\n",
       "dto89MycmFrMcndYbAq/3oa1I/ysXcTkynaAv2t5lrVHALZwFkdK3y7P4I6SZTcrMeHyPGkuI3TO\n",
       "saI3kcx5QQAAAEUBntt0Q38Bl7btRIX3InUpaYLpdn0picVG/O1VGoa1Ty05NiQAspdIx7Ay1/Lw\n",
       "pGwKV7701ld1AyPMRK0vE1FfPEJvFMkAAABnAZ7dakN/AZh+Dw/GhBT5UnhadUARmVmHcDMs7V83\n",
       "lyScU8j4v8cxAJ7Al7UY61UYaSCro+ppC+s2AOJ8Ov4ZxRgPWuylNd3Xvn23plPGHbKsMb2Dgmxk\n",
       "sK9r7XkbYsCvjTtlPheW1AAAAGlBmt9JqEFsmUwIf//+qZYA0d2KLPls74bNTpHReCXNO3qYpWAz\n",
       "mruvN77HshfwY/1nG4aAGvMrLrZ6FLIyGpVQ3/KNd6pQAThifFIMtV723crhYC1K7UfE6i4jysTh\n",
       "Yk0iA+EsTymj4i4AAAB5QZrgSeEKUmUwIIf//qpVADaJfODEVISfUhCtHvvoPLY4yneiNSthtLAA\n",
       "Z7z56fRYifsCLjNaQR+7mqzthrYU5MOL5ZPUt8Jq/2ILEWYii30utSDUSxi5d1cZbpYTILVzITeS\n",
       "vBnJszGPKq33Ol+JMYd9GoT3UoqnyQAAAJdBmwFJ4Q6JlMCCH/6qVQA2pqQy5bmJvX0vQdT9L923\n",
       "CrkEHHLC4FAKLpPG/mOSBwAnhuSpWU8LvZShw9jt1LUdmjtT56RCvnXJNKG0wam93ECTFBpfh/5M\n",
       "os5wb2kPCA4x+yxOpWdj5l5J91mkJ8YFWAdcNS3TRFCz5R6nTyS9aw8cgalBiFeXSXm0dbDERqKK\n",
       "vbKl8OrgAAAA2kGbI0nhDyZTBRE8EP/+qlUANs0Cu3oC+oBQrIfN/AcTG348wXYB9xLofXupw4zf\n",
       "Qi777G/20p2EnZjqotEWlszlzOEMqrFxFbqaQ1GXE6wKqLJEhrRP0hxPVtWog6y0236mZIlDqpuG\n",
       "NaByXPzOceXYts/GR7GR+zXb74eu57wQUyPHI5TlIzpHDpDSVALwiCil5Qm7vDnLJBC4EYy/Xvyr\n",
       "k3meTvQMFoI2CFt7fFBPh0NPMFctO4tNkPBcwihUjgB6kuNa07wcdETB4p7zrUdxtAwNARLW2rK5\n",
       "AAAAWwGfQmpDfwCLFR+knACaWwx0yqkBF/4U2Ph8nlFowjgiktPdLT/LLUjTxH2GlF2ogp7swNkR\n",
       "MihZNjn5UEpISwjqlBgodV7Ohx9jzyIm18oJzAJE7E1T4NsftxIAAADqQZtESeEPJlMCCH/+qlUA\n",
       "NxZn/hKrLqAhIXr6WR2+1Q8aMlbdCAjklqFmhwwf3Qz5U1XLbBIxWJfONATPWTXeE8cM6qz9sII7\n",
       "84MP5HiDg0Vax0A64GHAG0qkUPeyRjvbgqArjE6JEeMVucSfdW7R+kOmqqlD1mn+MCK+CeOh88i+\n",
       "9Yd/B07G1HpR7KfxpOsR+MBnVSPK/sUhFuaddSEfAtCUUC6eIZT3Js604Tq86rXYQ73JxCHIU7Yp\n",
       "9kF2tbpNyEctk+1OzvfO6yOzQ8QFzWzFo5m/u4x9NJBRgKHq2m8GlpAZL9LJvgZhAAAAo0GbZknh\n",
       "DyZTBRE8EP/+qlUANIaLPIDWsluYfIN5cH4um85YIK/uXS2Jp211N9m/3Qrqn9WOx7jwa3niy5/Y\n",
       "OhavWm7al/o6eEVARYeL8dn7m836oMyOmxSI+nlcMinYdWwbZbfi1B+YsKAjYZPEB8LUEYKJNMAW\n",
       "twKEtnqDBpQ7jr5KuhxXGkLDVOQaPPb3tQXWS8k4dm+o/ClJJo7WRGJLS6EAAABAAZ+FakN/AIc/\n",
       "J6l7Fi64rpMyVYwdPvTXNpOWIA5/NgBJMLgYZEpw/E5ctSbHZ33nDBlBYFB/+ht4v8ivpIfy6QAA\n",
       "AK1Bm4dJ4Q8mUwIIf/6qVQA0eLuR8QAtgnnm+F0k1XYhesle2nDHqzDo+zHJPPk5HmtpG0CHqiCu\n",
       "VY8dblzpIGDLIeLAvrB/RgG0LXco4kPsLObB+ylXOh9ySERzzD9nwZJ62wqqlyPTneDR+KWR9qJH\n",
       "vqPUsFkFY7909JK7w/3qd1mWS5nxLJtt2pwaSO8hP8eAnaNmyC8b+SmiGccUVpI6hujcuGPELeLA\n",
       "D4ZsEQAAAIRBm6hJ4Q8mUwII//61KoAaOd22wlzI/nlYF7eysb4fYXu0XHYBOmkT4k2djzNhmJ64\n",
       "zVee6FD8TT1I8HxwQwKiEPRx5cxtrmbuOO1cqo5ZTU07u17i2ZMFsz2hCzDhqcKIrYSVe2H+KSud\n",
       "zSgLAhaxP//7qYtd3UU09qXJa5jBxL08boAAAAFwQZvMSeEPJlMCCH/+qlUANPZn+AinuyAhIXbY\n",
       "QFggofW8/F6bCzJSiIxvqQKTTOQpJ05VGAEnXy1wNzWqCt2PPueS0oXCsrkoIqdbdP4dM7WBqoCg\n",
       "j0sImHX/g83gsi3+bC2iFNOUzNzpywbX5FxuFLva+SqmqjKegKE21mlJXxtBsaUTlGKg7AsTenFT\n",
       "RyB/+8joWojWFoWxLjG7s2dBG/JtW7nn3j/rWB7JhXhOZ6/UOCW4CjHexvZsoorIll6cwK32xJ/F\n",
       "se617nQGSuN10+m0E+OguAgE/3WECMtHK6IE42McDwQxnRgfhithODufCb58NI3fynN2iT/6hvUO\n",
       "tDFCHWMrSr4MDIx3sOHQ9mnLoNKTXgvvQRSev81vriEnGF6sR3vzaJKFZLcbBbSQZWMMT+EkTXxE\n",
       "spy7G0qc3JoaLjXWN+tnK3R/leoB+nSH9YzBwn13RD4pgHwPAuBU5epDepfKqiM1syU+sli+LkAA\n",
       "AABGQZ/qRRE8O/8BGbXrJ9GGmnk59DZAfYgztDZcnBP96i/Qb+18H45QmkWDD79M4eSdSrPjaaNd\n",
       "hN0u6Hy9tFtbDUxBYW6AgQAAAGUBngl0Q38Bl7bCbKwR36cB3T13BCDWTBAxD6KaQHHj4rxkUgBM\n",
       "xqvopHMyzFbKcBM3J2wolY1gnhxsKVHo4cH/vVCN4kSAu3GZi/sQa9OB1woh9/fUaTERHOyQil4v\n",
       "5lFlBlfAowAAAEsBngtqQ38BmH37VuuqIDwb+XMyWzIHL3clTSaYP+2+UtG9f6zACwjLNOaBblYW\n",
       "/7/l4ic0eykdzwHwTugxx6SJEqn/B1yIXy/aE14AAACGQZoNSahBaJlMCCH//qpVADKGefGml6lH\n",
       "qQhWnULIvP6y29IkARNd43Vsu0aEmWED8+oEc63FzZ1mWHD6YhOepK8U4hjzLmFd6jBOtUDw6vHX\n",
       "WWLK++GWz5PwiLsechJqYMxYcHNDHtxCWXYx3BzMcBx82Q3yEC4Sd97wLRDr4BVALZI6mcEAAAD+\n",
       "QZowSeEKUmUwIIf//qpVADKNPuR2lz+En1IQrTqFkXmBgWMTC1ql/DZO/FALXKJp8RrTVfEm0wft\n",
       "teOwlFrCIvVwq2cmWYP3/f/R8rQASH4dkvZORt1+KPUs1BkSgB9K4MpLZgPgQ9tAIfsh5RzoYMKe\n",
       "pZHFug4eQvK7RX8Rd8v4IIS0BSu0/SQ22u0cnW8kGc91VYK0fhU7loFLKOXh3RszyoSGY3hnWeqG\n",
       "i/CXN85wbNJHC4v0N6tEKmtRfHzrabYrCCjsNY/mha4dUgG3GsUJiaYdZCj2zekoq1wdXS47s2vk\n",
       "Du272zNbH3AKdfP6DhGbER089U2BSkUxppEAAAA+QZ5ORTRMN/8BmK8R4rtAzBZRhFzYXL1cWYpb\n",
       "X9fkakOWh7oFK459acoABpuwNb5tExPUkz8rhleBgjJPlbEAAABZAZ5vakN/AZh9+1brp8fAXLx5\n",
       "80DjNcWgmzoAtxbNIQAS7IiOqgeZs78Mal44zWmfuO+zMXSNPZkdXZ7J+CryPBwy12e1Is4rA4yd\n",
       "N22PEmssNBMjpcbwU5YAAADKQZpySahBaJlMFPBD//6qVQAy/qpQdcd05YI+o/x233qyfAUV0yjW\n",
       "1EtVYvG81xirW385NoW9gOVfFH7TNfkaoWza8278miiPhOhjYC30xyE8XL2cbQ1pbVw44qyIXGV1\n",
       "G8Lf60KbYBAPeazlN0hr0FSRGiTh69cPW2gm+qrfEyll55II04nXNowd5QB0//2xmpuQ24GJKDXk\n",
       "mZt31Z1BIrHttmas6M1BPfw3hmtXpQEQKa3wzQIkwHZngxIMSQBMBUZikfqXMQi+TAAAAEABnpFq\n",
       "Q38BmONQwLaBGew3EqrOakCTYwwxSogCIqvxF0ne/H66wA3MMaaQXXqrS+A0yJcs6j3Uz2jtBucW\n",
       "zoHhAAAAn0GalEnhClJlMFLBH/61KoAYXOAgEwLbuhD5W29Bq9K90whlRXwNxDLMU2aT3aRjlnfh\n",
       "kXA140q69aIO/nrtA8bjIcEnGhQ9OB5usD6vT8X4K+XH6q8EE0YK9rafHWTgGFOpeiLx++R+Cg5S\n",
       "SH2mtG9lG5OgCy3wL3ucNlild0+5wM3XIuDx5DvXnFttai85Pt9Xwp/HmNSpu6WeLMiyUAAAAEQB\n",
       "nrNqQ38Af1QqSQdyJUwgHKQyrKUeTTB2wAE4xmLCu3lXmI6B5WQ+kz4yoUkfXkTS3ghT8XwxnOZx\n",
       "qmxQ8COmQnLwgAAAARpBmrhJ4Q6JlMCCH/6qVQAxHqdwsjo+0V7+tAdfEK/k92BXJQJQ9b24ZOm2\n",
       "XSTUBmkOOfJXSX79VW74KCv9+TAvRli4aVCGTdePhHhOMlpwcURjB/Cflj8Hls2kVdWwWLOK5Y0t\n",
       "f9apnq+g/nvcyVGGRWP3BZSHlWC9qxyLmpibVJDwxYTUxNj8Z7qX9KubX/5vhbz2oMgs9B/t7e02\n",
       "Nm4BEx2LD7/XZdHEooQ+7PtN7XVQ+g3UZxELTkDADjmQDXM3b9Yg2czIV3o2W8HtcIw6Y1scB05K\n",
       "upk2uYray6AuAJaPTfCz4p6XnR7GR/dunNJ+104c8U1PoDiYV97OXzIIpXIvAC7bVhIR1k0483q8\n",
       "6ZuEufWmOvItRr0AAABaQZ7WRRU8O/8BGbXfCxw1lZEJ70v7Z8zg6k/UKjQkEi0jOgQATMQQknib\n",
       "SMcitqvuMY9f/quP1G87iU5+SmjBCSMUkwoc+g15r9057E4wpK2cN04jnueUmyk6AAAARgGe9XRD\n",
       "fwGXtj4q3eK+IVKgtrickvewgVV1EnWrACdai+U//TLr2PrOw1rO/IQjgxMsFaHig2G5hR+4UIm1\n",
       "uLiSSoLGvjEAAAA4AZ73akN/AZh9diu5tx+7a3cJI27/3GFrBm/8IfNFOhD3KAISyoMO2G0JeGyO\n",
       "YzgHB4xvRXvZGicAAACVQZr5SahBaJlMCCH//qpVAC8JD2o7PNAJn/GdPrWRSr7C5TzACdbZQ9qj\n",
       "CXqNzDjpYfFkRw989zhBs6NVD+6ffYbr3At8xzSFiBUeDUQYro00+FFhV1ndf+YjCPlKlUQA7cbm\n",
       "PD6u9nCgwPBjWrCqeQUPZ3lObokCUgHrTbtuweO+aYZL0FWKLiBNIWek8NcdV1h1FegAAADLQZsb\n",
       "SeEKUmUwURLBD/6qVQAvAmOj2wvXOdUZ/bNrCxIom6AwovwACdbZQ9qi8VgkASph0Pev4iFTjBJP\n",
       "A1fwRxgyLjXLzVmnak1wXdXejgdvNvxULlV1bV+pVwc1/JeqKeBGdM0nHaNQwJ9FY4oJ0WPye2qR\n",
       "uEKgBFeRoIfh0dQWMR9wpNS6AlU2kclj2Py0qmm389AcLYPLYn3UENc3hsLrAv0Iauy/RbRMhGOy\n",
       "flaLEB6flVqov2nxjwWC4yYAAQOkhy3e00LpoAMAAAAnAZ86akN/AHvVDn1QMMpzJ8tw/bspO0oF\n",
       "AM8juTJZQfpvKSF1G0mAAAABMEGbPUnhDomUwUTBD/6qVQAvOs/Z+HfvSrhb+6oz/Ma/eX//8wH7\n",
       "LQJn8g9/jYrXVmms8I1QihpB7JSiBaxOfkq+P+4nfEN0oj+y8yOzoYrpf73wkQPfAp5aSuko9pSt\n",
       "4Q59sL89SJ4I6M9qNrDo4n/PCUs2S5R11zSSJZKntIFIuQIDW3+rYA69PDc56PJZNlU593dIGdql\n",
       "iTLpnFSUQ4e2dXxf/CInH4/AhkCRT9dLGScw8PMHLkmgvBY1VofUazDalmo31r8C+u6edDPDLas8\n",
       "+j+m2CqN4MFNKnQ1MUXtHQ/0sTFh4up07h5vEYJJpHbByNTNjxdDvDE41uf+5alygnH1THO402cs\n",
       "4AeostRu3gsT92rV7RnKeavvkPI9kFvYpm2GwV2XeE7dxh9gLMEAAABXAZ9cakN/AHv1H8+FGiQy\n",
       "F0Qf4mLggy8cZpw+AAzxSN92bLIOgYHeEynSD/K6ZOzP0i5DBVo+EEQ5LOp24xdGB4lXYCg//IYE\n",
       "GDaIsj3HgoOgsBnWOd8NAAAAkEGbX0nhDyZTBTwQ//6qVQAtheO7VKuFv7qjP9ilpZqHAeqvA1dM\n",
       "2aa5ynsCJYrp/rBZs7VwDtJsNh6230wJ+QMfFC0acVYTltKausuPA0QXESJzFBBJLiug5VCwlfuT\n",
       "/x0rGl/uxMA7TfFSozvqoxtnjmbA/ExSLfxCX4yZzZyeB13MgZGe5r5J3egzMZ1j3AAAADwBn35q\n",
       "Q38AeTULD4UUdL9+q9QJpOp6k8uT2qoAZ2wkBcIvDnX44XR1R7uhpcOTIH0jUBbp9cGEUHw8YLAA\n",
       "AACFQZtgSeEPJlMCCP/+tSqAFsb0E+ILGLegpttT83bZ/ucCbAB1biH3xv69CikIdrRD49vl41Rr\n",
       "QOWHEFWT+s8v/1n1G4n/rCqdnHFIaaP0ACi28JtRrx3LAiK3EyczInvxB+7SsbT5NmwBHPybJIby\n",
       "eJCZ0LJrwIXthBVuNjG16YHN+4XzoQAAAYZBm4RJ4Q8mUwIIf/6qVQAt3xy4WVwfoq9/WguviFfy\n",
       "fBMN8ME0nHRF0i6dIyQFrrgvLYgjCLvCLX8LDz/fy9PlWiFCIvHQWaa/YJRj6U1oGPNN5zmsA9qN\n",
       "i8zdftYzfcR1Ewjmd5gKywfPApVNCpBbY2zAMITi2VuG+cSww5Su3CHdSemuVQCRhFk2Yktm+Qtq\n",
       "BCMxGF8i+WhA3n9qwmYreE4cYQfWweqP959vBwL73jlG+GcKkgpn2hw1VncUhmZU3vXoXbyeCT22\n",
       "TjeQkfc6zT80Fn1NiFUQVoFhFOBwGLxrbu8b3KrN5Zl3xQjIXzTbSJS21tqC7lp8yfdk7y/p0g7B\n",
       "AbKrDLActBf3y8SYsTmmNIYkIuEJNzrCSojlaP+SuNUH8vYeXW3Mr/WNePUnuYMEA2OchRL56hjS\n",
       "h6jA1ThzlRNN98/cKJrKE8b1nvlSPN6Zae77JGVYzRofrx3Ti3K6W3S776e5Q0dwF/tIgODOOObw\n",
       "o+t8Xq701FYGsrbRRDHaQkwAAABgQZ+iRRE8O/8BGbXe//JywWFXyg7BdXZKdjZJWihC9ejaS75d\n",
       "M0t4fE9wAfkz1L4Z7UnAMpa+OO/f5/9ePXhffcRmk099268UnDajR06AwaBGosQITWp8+MME91hC\n",
       "o4vBAAAAQQGfwXRDfwGXtj2t1C/TOqVGKioDhsSUuKvwLQe0fYoASXz+gIlzxpt8c925d+bWFbk5\n",
       "689hxaVkmsaRV7zRUWeAAAAAUwGfw2pDfwGYfXWrI5cHS2HIvOzP9TovDbMhy9EAJxjMWpgSGxkQ\n",
       "BnBwgCOO7/KgR/9ZHvW8Ji+KJyX8UCMy+7iS5Z2VUGtYczegs5U+ghQVdjVxAAAAokGbx0moQWiZ\n",
       "TAgh//6qVQAsJfErVKuFv7qjP5n+f8QAnb2MeiwULX22Z1EWaL2o5xfI2yN+urrQy0yxuLX5P3vn\n",
       "iMbaRJLpC7d9bAhBtS2QTPvDIySmSTH+CYj40UFIWsZkHg/dCg5hf9O8Wd2x1AlycfVoH0IiHfYz\n",
       "l04WHtJhCqm8Yixc1SHl0buTwV6+A+ozjRa5VlHJ+W/udT4bJywAFQAAAEtBn+VFESw3/wGY4x/s\n",
       "OsZWQ93cWvpvhaIF2g6IlewABaLHP8keR4CCusm/c4rDY5blz1GX80rrg/+iUhdRBIdcUkxta9pj\n",
       "7Wp40CEAAABLAZ4GakN/AZh9dWsfQiPcphoWgu+529SkVMMM/K6ABN9L1qndEp3PA9tQ8fa8nEDh\n",
       "8EfNNilHQDJ/sD9zCG/E3DjQwVzU3WeZNDz7AAABTEGaCkmoQWyZTAgh//6qVQAsfxy90U8Oqkxw\n",
       "FoLr4hX8mA8edczvjX2t3mJhOyTcyuqGEcl6qUEeUb3/N/AQK3ZNgGsg0s804F5W5PRdO1r0myDP\n",
       "8+m+R5JsdyjtcTDG5C/HpwHJ7Cj/XRDTOcLfknzWYm7nKf22BH1T8E/141Kp98QcsQG832UnfqNw\n",
       "8EzXcQC/7FjV+OPlCT44sFocorX0j5nGBAJI0FH0Ufvb7N26EfSnN/PB+/3wUE70m3lrDvTz3IIm\n",
       "xLGRFAn2zQWXqHh9GuHnVHErukEf3nMQzEx4WCVIAfO9MaJWjdL9OB5mYy9tjL9R3ioDk/uYthoY\n",
       "VoQfZSgAWLeg+TW/io1kSWQ3UUbdAM8l3nfB+Y1p4gF/EdNBx/UMVNpFJiLR5wPynEjZzjDba8GD\n",
       "B7qopbn5r0QfzIVE3HWqrZJoEc1JAAAAakGeKEUVLDf/AZjjH+t6prJJbDkQF+vcFtkcttbeWbTA\n",
       "DWMe1z9H75JrXTdbg3clVZSRfneVRsnqnuRk2hNsNwUweMw0D4ttF+r3oUgXIcQwLUl0lTauneOH\n",
       "pOvv4CE/qcFSWMpJhE6kuiQAAABvAZ5JakN/AZh9dWsjlwdLYci87M/1OjYT40djAeewACC4mg4p\n",
       "Cly+qPpeKDWp7bMuGlSd56N0VrXaevKCE0grMyTrCePiSrlGRLjZrgFXGZ+UFRBRUqLhInI6N4bG\n",
       "wLpmetRL43i3aPY9WqYe3J59AAAAoUGaS0moQWyZTAgh//6qVQAqxhtKdZd9+xeW3Pu9m2VPLIS1\n",
       "9IAWYrJUp2b5mJM85e1J5xf6uZyjLzwVzH+DT+YlnPDgb8Qc4yig4YmeeHsDxMa3efcGd/hb1Zy/\n",
       "uHXWcHyIekFhOM+4yMtzVjVyf2J1kjzW+NBDcolW/Yy2nRgnX57fTp4+ReFLwIsyrlBYmhdtAwaR\n",
       "wvdcScGrhxkjLMSsAAAAfkGabUnhClJlMFFSwR/+tSqAFXTGAi2MPmQd16hGV+Dsul2AnOgAFhsy\n",
       "AjZD49SBJ+atfuieREhITgQFh0379cz3Kq/PY3DHa71NzmoJ3awD0qguyy86ga/xHKfbLOCEBmeI\n",
       "t6YtIWnog249qxptS70RPHS79HDRizGdvpAUgAAAAEgBnoxqQ38Ac8bgV5+93t+bvOz0hI8t5OEB\n",
       "8SwAE3Xa5bvfzsFuOMhgIQ2yOZntK71ok00KFj6Mv48hgcUjHDtw4AQKm7NPALEAAAEwQZqQSeEO\n",
       "iZTAgj/+tSqAFY+fxSFR5+j+RXS38LnYnAGxs3nrMe3d0E8IwQ7UkTHPiGu02KPRo9Cbv6eWFN/X\n",
       "F05PycnoMzOJUKjct78QkaiJr98vFSpoaYEdn/x7KVD1Do8zrLdrIC0alAWKRVnF/qt4J3ljODMj\n",
       "lgM0NCJNa1JLk7lkz8jKve/RMZ8UyjESUltDMb1i5lpz+EabSa2pKPJhdBrdbhmY/aLc0gHeIeMY\n",
       "7HxJWUnoZsZE/6jaeYMl/sAiH42/imV8JZ7tBkf7DJcyed2RxUnOMhT/DLfGRgOKZNsqXMd5yPQh\n",
       "8eDkMnFqTJK1npzmhmuv7Uaobr6sQXGOe+bHk5ZD3DvluZx3glLpOji1v2SaLgUVpILAbpcbcCE6\n",
       "pTcKaTBet3AXuLMNbQAAADpBnq5FFTw3/wBzxvUXn73e35uv5KnMEChwAtCj+5twgELsFmT4zUtv\n",
       "5+UIHawrRtc/x2DMoBDIQvbBAAAAVQGez2pDfwBztR/PhRR0v36rFnoz+TuACLAEWHwoSJQ46kpJ\n",
       "2ySqjGXUnx98OBD1iWXglVAWP/fCDAqz02T3Hxu8IKGuNtcm5auGtIgyENRxcJCDQsAAAADzQZrU\n",
       "SahBaJlMCCH//qpVAClyoxYFcuFv7qjQALKGMBPf+1Sm1fKMr2XTsGB9vJA+8+S28u95QATv0Plz\n",
       "X1IXm60H0NOZwBGxnNMOpLIcIUM5U8p4uPrZhzBoTY3PpoHfxitEeIyGCLLrcQld9cGKzV2KotUA\n",
       "mu7U0o/CrfXp5sw27G63niNW0nlrrgT+2xU4SNqBsIIL5zxHlcfqMP+y84b2+yWWKqFAPfuX/60W\n",
       "YL8gecVNk6I+0/ZGZ0PxK2wEQEaWuHHFI5bjw4aaNFz/9ZuhiUVREsXTWPYToM3gkhVsdEpkJ1WB\n",
       "q8BAww4cZNgn3Yu+AAAAXUGe8kURLDv/ARm13vDyavFes3hFryQn1ScXjXmwkAElBfXhgSRxqD7Q\n",
       "cVAxO33OgkNPEwOCy7GuFgOLYB7+h/a9hEe66eFz6c9g4NXHb8i8oTKaoUQjGku1F0xTMQAAADoB\n",
       "nxF0Q38Bl7Y87ccZ1YMqoxUkanQGjX+gAcVztzV3PtmzvyWFGTTKzNe9nRXuWetDoN5JftnRSIiY\n",
       "AAAAXQGfE2pDfwGYfXTrI5pST3kPUB8IfcHX1hgBMsZYQigzMNiz7UpSb5uHV28uSrmcsXkcKJBe\n",
       "a4iu+rKyY4m+Eu210/DAtUUmeZAJ99urKwyl5tcPE384WSmaUhIuvQAAAN1BmxZJqEFsmUwUTBD/\n",
       "/qpVAClyjhwVy4W/uqNGLWVeNXbWMwD7msGxHBlAnLJNiDMg2eCmlPCrAJygDQ56Sn/x5kMgIMeD\n",
       "ziRy0V78CPh6apvdXiRh6uYemk9Pc3wHEC1Ik5cAPCZwkMTS116XZ0sV/eqB11SpZCmkbFQPgcAz\n",
       "DNOURzalOSdKgnIpEXSMk6tEb+0gJbjH980XYE4/HdV1vGmw89Fxe1MiZrAGAQZuLHTk6MCPWG2T\n",
       "iP6be+7DdeFZk1h3XJQtPkFmeYmd7aKhk74gAzrew22yMb8zYQAAAEUBnzVqQ38BmOMfw3SCctvK\n",
       "qMVFY9vJ7CAABOSDZsUkzpAsCFue2rMMfCjbx7929DHu7xIqF5dN78WPZTazF6HlvZ/yiMUAAAES\n",
       "QZs4SeEKUmUwUsEP/qpVACm/HLhLBH+Kvf1obr4cnuMrC+AKPL/C0u8uycCvXFqniAmgtZyErmS+\n",
       "UlyOZC2IflzfS6Rq45nOSOZEusRnICxDOsg4RAgnrpZwni1im7q/NZHPmjtNzrs7yDCtg09q/NbO\n",
       "ODbw6Vzagtb1fYdqUlfMUrKG8wVANJ/DKf+Z7kq9iZVxqAOOgLli/cMSXtTtgv7Q1Uz5gXeVsJqc\n",
       "39ejA4DX6Cbu1W7DZsc91mRg85sWpGHMnNb0DUvBMMek27xNdTbISPp1wBoACgcrPbg2TqImSx7z\n",
       "OD4oNK4B5BP05/YMmuvgbM8aTF9hEvvCKONRWz8P90dh+1ZwyM6UguKxd3dO+QAAAD8Bn1dqQ38A\n",
       "cPtVC0wWVI+EPxaPecZE10xAAh7lxvOgTRNBe6BRBmG01j4YafhwQbysgA6+Kbse15RcW48w62EA\n",
       "AACMQZtZSeEOiZTAgh/+qlUAKDJdXDrjorE18DiAAqiLyVSHb3zkk2bRnWgZEYdMn3KCXXavaFCh\n",
       "0tImzedr69CzqsCDeXe9L5DZhIjJ+h2f7sHcuCTW6U982CmT779ou8vXSS93xWOZofDO5DvthALC\n",
       "HgZBU8QZn8z7FMeFv2F7tN/Q7uxMiJ+cuB61kfAAAADEQZt6SeEPJlMCCH/+qlUAKDeFgj4nqV/d\n",
       "W/cUv6mZ6KsuACcbIx7PLFm02v5/+cI8Gnsa04mdZx18mcVlzYo7y6OjJutXOvX4ZzqF3FAVbdZM\n",
       "J3UYNia9X/KT77jlydxNLCbFR5ablIvV3wBf0cNnyCnY294tr2KBRi4aAM+AfvpGA8FZDcb4Mq/6\n",
       "TdxFG5OiYt8YbU2BGWT2XQcCwMLyja6Ok9+bg6oPCDQb6OR4GJwU0KXGB3dWZbev2aoj7oI3r1G6\n",
       "gQAAAIxBm5tJ4Q8mUwII//61KoAUHL1axFgwyd6S3jjET3dy2QBW/k6cMcAng59w3tNuNsryqKPY\n",
       "rrDWVbAPp8HIGCG4GAP8MHBNEnMK0ZPNnBLES5CSb6ESyfdFsVu3r0TeWPlgD/EZ1Dak+h6wi+3d\n",
       "cZXU9+JAY8eHv//4T8z1hLnQzF79rQy4bP4owRQFgAAAAXZBm79J4Q8mUwII//61KoAUP5+htY8i\n",
       "+NHk0ojicICEQv7wGInpBcVeK8IrOpNoYtdYWbDFojfY4JjblADbcY9XreGREH2is8D28q1F6hAX\n",
       "ePA+JTXPzoH5R4OIfARjc2GkqL+2HIs3O7QCSHJ17HKjgCbXSnvv9IK+F+SqWLnJevycKqlR2hW2\n",
       "H/ApCS3jD08kKz4MZkEG+U5VCUbLu76idqcko3xFyh0t3vouc8bQJ+1dx7oC4nYuCjuIkK8Rgjnp\n",
       "e88YXlPv5Rlyqu6oFk9zBQyFYnx452gS68RonrzcQn8ZCUF34nLFNb6gNlsIwHK1lLiXsN/5xzY+\n",
       "+3f/E+MCGudCkCBRXIUvKUkx7+9PebgSfmTF7RPdOd7Q5d13rvsVURyq4Z9hPX9lWxKGUL6SbFJP\n",
       "Rx2Ur2nSTqXrkR2GGlha3b/tuTw1Npkf/5g0K7/1EkbMfVM72GnfkKKij/JBQme1ehUEg1Wtp+DF\n",
       "8DGjw/hmtm850wAAAEhBn91FETw7/wEZtd7sJVHlLZXD2Ij5jbg5FbgkaDRhB8c+H8rFv8eTCsne\n",
       "HT+n8EcOXd4fOs2fEtb2u6K3WgaG36XzRqKNoNkAAABTAZ/8dEN/AZe2PK3HGdWEvGcnPvTv3Fyo\n",
       "EmAD840lxwDZ/B1xZZJUauzaF0k1fH3meSuaL+W+RMutepHzEZ3CO7eQSr0BPcTOQc7YQ/sx6tLY\n",
       "8aAAAABCAZ/+akN/AZh9dG0sAOdgxlusFcek24wwA3FJfcuBxXSD5tQH1O6+Q9Z6c/3h7fywT1i2\n",
       "qnQrs27T5H3Wf01+YOqAAAABTkGb40moQWiZTAgj//61KoATg5tPUWsPmJZOxNGmpIlGDgBXMcMA\n",
       "2NST8YnrdlBAowoy810saRpvxHaTa+4C2zksExjmsea/SZk29DpD8Cy/B2PmSS0X54TQmikVIGCd\n",
       "z40R4sbwgLIXMDZtm6fI6wGro3SHbbqw502MWxngXkmlguTTpsYJ9YELB6/9uKeAQWAcTQtb/ITe\n",
       "fVOPvfE3FJijFS966JNqXv2cpiUtdtc2FzcbuHT2AiJ7/xk300gs6Eh/B/uXF44e5VI0lTBz+jMa\n",
       "Rjb8aBkeexTtIPOtNu6OIDnceCmhFlIqfHzkTAkGM44gNa0ueMyw0hKNZBxVjbSC+celrWCfQAmm\n",
       "mWJUAex9xLf7+yno6cN1y/hU1GhDvBOkVOms4C9n7+wlt1J7nCcjLUAejcgf17YHiTM2u2nD5fBL\n",
       "VPzylt6vo5PNluEAAABaQZ4BRREsO/8BIkf/eU1Woa3ZvYXtcrgADiqXMkxJiocQCqx92qkbC6Jz\n",
       "Wg66Kcj2bx/gNdWNkATCv/J+qMCoI8LgS6Zwo/Q48trgS7+zorgFNWna0J1xtlFtAAAANwGeIHRD\n",
       "fwGXtjxQHJnaDZvd1vrCpIByabXfX3YUp9vW8AjZ/oiixRYAIsAMhNsjCj+QkjoTFy0AAABcAZ4i\n",
       "akN/AZh9dGs/6gty5d0fZr9OkAIzOi15Bq3cl2lsHamCntwyBVo+UV9yV06Tp4EIqg6hfJ4f+kW1\n",
       "yuq4kGZOfHTYOwqQohMzYHL06DQtKjHL8dMTKlBbKpAAAAEUQZonSahBbJlMCCP//rUqgBOfv1VH\n",
       "4b9hUeTR6bIQAOYe/vRCBnc4E21mlmYOdTX24aGIYKNsfMk05TkttlFsDXtaPuELlH+TRc/xVU2W\n",
       "nLvjvAfn+OM56UP11SGvuuu9VJnXn11l+Zx9BywSpzPIjBFlOlzXwGNAcGlBiIvwrgD8JnwHarpV\n",
       "y0BuykjgVBGiXMvMeERLuQRGgq3V2BmnB7HxcjWmukBcoZxiSmtwR89EFYFtWTETdGlAYAgM50pc\n",
       "pIjKPohBwqLvmUh6urC7v415sMQMWJ7PI0H/b9t+q65gpoYliRusxp/R+Gv0VW1QpI8hRCgUkFPa\n",
       "PKUdOw4o2tlV06VT5u59pX2XlqJdWF7um8dZAAAAYEGeRUUVLDv/ASJH/3lgyEuOfKlr82TSpnZ/\n",
       "nCAG2U5xKEm/UT/pNJRS9e6P/WVhdzfsnC8fH4Xe9EgPxM9D/PpOPgYXuMaQzTvNX3xYqxqsa2h2\n",
       "uW+2mfQ0Hnj/ecDlQQAAAEABnmR0Q38Bl7Y8ayfsBuvCXaN0zTmInAA4YDzEYzqtANf9CFqhzb7o\n",
       "80yX62HnBIyZllA4JtY5iJRmhdo15JuBAAAASgGeZmpDfwGYfXQxcloNqKWcAAtYEfoAFyAInoo+\n",
       "gT1aQrW/xh/FZkI19l2wyCuas1jQWh9HaZ96fKVsNw2+P/Ot8Q7qrH34C4FlAAABDkGaakmoQWyZ\n",
       "TAgj//61KoATH79TrMi5GCJtlAir0/wyFupQHhlIVGKvtWM444JxatC8l6lEsLRT+ZCEomg9Wvvl\n",
       "70rSEotkES3L91xu2XO+mgaQJpLXMjEN6b5LdMeLVVDxZgnTLE8GBWIiltqFZdtu+gziTK1+KAh7\n",
       "dY/3Z73OWUe4IkTWTf+LB9qE+TZIyf/9kWZiU0sxiSapxxwgeZtpy/Ye3E+tV/oQnAdjkv+iGY5T\n",
       "ATEIXYqzoaUE8WBUHcn+eIy4Xu9Dk+gR80Z5JtVT2iIw7uOz9W+01BUcLyFLHDsIGlXnWH1ul01C\n",
       "JWi50wVTGa8R2BGmLBtpRjTXpf3cbPxPCDFI2W3tBf3x4AAAAEZBnohFFSw3/wGY4x+MOi3eJLYc\n",
       "hjwysKxoWu4hupABavheaX7uQxWKwPRinekivCQYjItuF/k83h09vP73zDGRkVm4wdkOAAAATAGe\n",
       "qWpDfwGYfXQxcZrPS51QLOPJUUALYAcCMk1X5smOqvhiJQ1rsVbLab/mFtaVzm0Ut4/6fdLqNSKG\n",
       "oHu6+A7cn6HxqPWJaj/7eYEAAADbQZquSahBbJlMCCH//qpVACUG2R0fRe7uOLgYALevOShoGLfS\n",
       "vFGYoULyqp9ZlvL3hXyNZHgZEqANmgB74e3iFC2jvwiXLltLFleYZjT/xy5geqh2saoiymbx/2Sz\n",
       "dbmTgU8Sa9z/RXglLtdQWU9jXzyi5kcYlrj6kH9CSPlw3uCt7fZ4WwIQNe9GyonvCo+blN5Y+/js\n",
       "1ZXt0bHa3DEWRo0vBH5+QlEZNFPmOAardDKVnmPGv9SqnSscRiA6PbnxMLeytHcTJAn5qW33A8Mq\n",
       "xb18H6mDCw7E5o1AAAAAaEGezEUVLDv/ASJH/2w+Ro5dCGDgBE1yxS1c7OB4/Wv+ibfJkdhzrQEl\n",
       "xV/YN1hWTPZDTnWmwyDhFMfgmzWiPjSk0g6WrVWEHm41rQw5/pp17hgT/NpaTDF1/tzuT55Uc7l9\n",
       "Nt8HLOmAAAAAUgGe63RDfwGXtjwElbLJYQwBvLiW6t6ABtDod73Dsrl/auVSGpT/+Oi68FpWit7u\n",
       "fe4f1rw/G9IjBYRW1kEurOZy4vw5alSGYfu7TuKBgHp2vwsAAAAxAZ7takN/AZh9dAAwujKkirYQ\n",
       "n+pEt3rdM6nzBSGFy8utmDmpjTNNtzaIaLGwAksLvwAAAM1BmvBJqEFsmUwUTBD//qpVACU/VAhG\n",
       "OwRJ24AXXmDUPGyL3QV6b66RwzX6dWUFR5gJZ/ypjE/oUuFA5/fO3jOtkmCvXZe+6gTtcoSYTGeg\n",
       "SmzzDnObFvRjHXj2gprkRzE2ik4lLpTNdZQqwoSaqxGcmfeiOUjLcvbBsIwtg2R3/Ga1/zYQabt7\n",
       "/m1sy6DnDl50KVqX7/pkAMpzRTu4FHSHoBJQuYY3Cw3m41cTRHuW5U3Y9ktXseDNxpzYMfHgxzlE\n",
       "XTvir+aR2wOLXOphAAAAVAGfD2pDfwGY4x96NnhWvjgaABxGUNNEQP/tNGuLKcQFxcpTrms5jAKV\n",
       "gvrn1iPC7PMvWiZC0AlAG06ofa0aQr6yu1ey2hMjD3WeT5LbvkLPwIARcAAAALVBmxRJ4QpSZTAg\n",
       "h//+qlUAJAbYYB/Q5b2AK3hEykj+F1fzExucA5Nfoh9mM08SDgFZURQciuopfkOvVwXUK4/DbOta\n",
       "9kCbbmvMxqnzplZ1JPM2/9q6IfvcV4Uf4BW5JMO1+GJ5WMwWvGhRu16gdPeSh+TOdUSSDk6O0uOH\n",
       "+gyaoCq3R0pK8C4UOLd+mSMqIx6LeTmD3xG/rlNPqLjwfL1KqOA99Yqb0aTvJtCIRKwFwslkrhpg\n",
       "AAAAc0GfMkU0TDv/ASIoz2cPZe7aVFuc2Egt+EoASyhDyvOdSxQd+g69Fcf2JlttfJWYQRuavX6R\n",
       "XmxIkzD1Nbqjt+s6TjXpMZKddKoMaLB/98vCH62JCQ4O3JDRbU4yLh2e6S6F2Yw3BC0gbtdCf38f\n",
       "X0FtnB8AAAA6AZ9RdEN/AZe2O9ZJ931J2YEX/6ABxT9E+KRWxacZB8tEgVHg6Ns+16rsaa6Ce56/\n",
       "yu9Tn8WIbxopIAAAAEYBn1NqQ38BmH1zwR1zLDQDgAnGMqbfsD9BJ/edOjDarZGmR7rxL++gv8gT\n",
       "vzOlCy+88PNX8sXarJMXlSVfg3ZFnISi1+i4AAAAoEGbVkmoQWiZTBTw//6plgCMKu3XK+9xRkX4\n",
       "PreAC6UGQjroycpyyz/kz4zCKHO1kghjXOXktE+uj7vIsr+bRWjd7geud1mmMgPnpzOutmUQPbWl\n",
       "6aiTpn+eLNGXXVW6peNjxrbck3QwM2opLeOC20ds7uKzRiyl0mtgpsLfeo5+qG/wkIdd+logO4sn\n",
       "GbU+Q56Haewl4RDpKF18248lDfEAAABZAZ91akN/AZjjH2jd+OUvgAE4+wLPoiC1+oliYEzUSF54\n",
       "W6VgbpJSuQXxiXNYioK6+1OXIeUDUEoa4zEbHkc08H4hwshtNjy90Tn/QkVHtsz6vTjGibahLMAA\n",
       "AACdQZt4SeEKUmUwUsO//qmWAIz9LJTHGEm68ALYC8Qy+tPJ5BOk4b2t2liQcOsZ7jLtsTs6fqja\n",
       "uxsAEb8xstrQCKJchMO2e7gdObCOjxn0QCsDfr2hqqAlepVqunRjQf5XuD8J/jqutHFlLGBBLn3f\n",
       "aIG2rhWXEniCChewvizvo6d0qfv68Nl3fo+6UgqMtjGwftIsVPMq+ocwsCnFXQAAADUBn5dqQ38A\n",
       "ZEAY12oQ0mm6/0AEHezklXe1XXVSpbnnN8Wv8+xhAw/yzwYOiBHGno59X1/1GQAAAFdBm5lJ4Q6J\n",
       "lMCG//6nhAEMHCSTpfHxXqAD5viNxan6GzpNYmG5KzEUC8XEWHJw03WTiPsrCtdvSMr+fIyqcVG8\n",
       "ddyN6Mv/VImfRiNN9nAUlA44TUPlNTgAAAhObW9vdgAAAGxtdmhkAAAAAAAAAAAAAAAAAAAD6AAA\n",
       "L6gAAQAAAQAAAAAAAAAAAAAAAAEAAAAAAAAAAAAAAAAAAAABAAAAAAAAAAAAAAAAAABAAAAAAAAA\n",
       "AAAAAAAAAAAAAAAAAAAAAAAAAAAAAAAAAgAAB3h0cmFrAAAAXHRraGQAAAADAAAAAAAAAAAAAAAB\n",
       "AAAAAAAAL6gAAAAAAAAAAAAAAAAAAAAAAAEAAAAAAAAAAAAAAAAAAAABAAAAAAAAAAAAAAAAAABA\n",
       "AAAAAbAAAAEgAAAAAAAkZWR0cwAAABxlbHN0AAAAAAAAAAEAAC+oAAAIAAABAAAAAAbwbWRpYQAA\n",
       "ACBtZGhkAAAAAAAAAAAAAAAAAAAoAAAB6ABVxAAAAAAALWhkbHIAAAAAAAAAAHZpZGUAAAAAAAAA\n",
       "AAAAAABWaWRlb0hhbmRsZXIAAAAGm21pbmYAAAAUdm1oZAAAAAEAAAAAAAAAAAAAACRkaW5mAAAA\n",
       "HGRyZWYAAAAAAAAAAQAAAAx1cmwgAAAAAQAABltzdGJsAAAAs3N0c2QAAAAAAAAAAQAAAKNhdmMx\n",
       "AAAAAAAAAAEAAAAAAAAAAAAAAAAAAAAAAbABIABIAAAASAAAAAAAAAABAAAAAAAAAAAAAAAAAAAA\n",
       "AAAAAAAAAAAAAAAAAAAAAAAAGP//AAAAMWF2Y0MBZAAV/+EAGGdkABWs2UGwloQAAAMABAAAAwBQ\n",
       "PFi2WAEABmjr48siwAAAABx1dWlka2hA8l8kT8W6OaUbzwMj8wAAAAAAAAAYc3R0cwAAAAAAAAAB\n",
       "AAAAegAABAAAAAAUc3RzcwAAAAAAAAABAAAAAQAAA0hjdHRzAAAAAAAAAGcAAAADAAAIAAAAAAEA\n",
       "AAwAAAAAAQAABAAAAAABAAAMAAAAAAEAAAQAAAAAAwAACAAAAAABAAAUAAAAAAEAAAgAAAAAAQAA\n",
       "AAAAAAABAAAEAAAAAAMAAAgAAAAAAQAADAAAAAABAAAEAAAAAAQAAAgAAAAAAQAAFAAAAAABAAAI\n",
       "AAAAAAEAAAAAAAAAAQAABAAAAAABAAAUAAAAAAEAAAgAAAAAAQAAAAAAAAABAAAEAAAAAAMAAAgA\n",
       "AAAAAQAADAAAAAABAAAEAAAAAAEAAAgAAAAAAQAADAAAAAABAAAEAAAAAAIAAAgAAAAAAQAAFAAA\n",
       "AAABAAAIAAAAAAEAAAAAAAAAAQAABAAAAAABAAAIAAAAAAEAABAAAAAAAgAABAAAAAABAAAMAAAA\n",
       "AAEAAAQAAAAAAQAADAAAAAABAAAEAAAAAAEAABQAAAAAAQAACAAAAAABAAAAAAAAAAEAAAQAAAAA\n",
       "AQAACAAAAAABAAAMAAAAAAEAAAQAAAAAAQAADAAAAAABAAAEAAAAAAEAAAwAAAAAAQAABAAAAAAB\n",
       "AAAIAAAAAAEAABQAAAAAAQAACAAAAAABAAAAAAAAAAEAAAQAAAAAAQAAEAAAAAACAAAEAAAAAAEA\n",
       "ABAAAAAAAgAABAAAAAABAAAIAAAAAAEAAAwAAAAAAQAABAAAAAABAAAQAAAAAAIAAAQAAAAAAQAA\n",
       "FAAAAAABAAAIAAAAAAEAAAAAAAAAAQAABAAAAAABAAAMAAAAAAEAAAQAAAAAAQAADAAAAAABAAAE\n",
       "AAAAAAMAAAgAAAAAAQAAFAAAAAABAAAIAAAAAAEAAAAAAAAAAQAABAAAAAABAAAUAAAAAAEAAAgA\n",
       "AAAAAQAAAAAAAAABAAAEAAAAAAEAABQAAAAAAQAACAAAAAABAAAAAAAAAAEAAAQAAAAAAQAAEAAA\n",
       "AAACAAAEAAAAAAEAABQAAAAAAQAACAAAAAABAAAAAAAAAAEAAAQAAAAAAQAADAAAAAABAAAEAAAA\n",
       "AAEAABQAAAAAAQAACAAAAAABAAAAAAAAAAEAAAQAAAAAAQAADAAAAAABAAAEAAAAAAEAAAwAAAAA\n",
       "AQAABAAAAAABAAAIAAAAABxzdHNjAAAAAAAAAAEAAAABAAAAegAAAAEAAAH8c3RzegAAAAAAAAAA\n",
       "AAAAegAAFgUAAAJiAAAA8AAAAUoAAABwAAAArwAAAEQAAACSAAAAdQAAAJoAAAFIAAAASgAAAEMA\n",
       "AAA/AAAAjgAAAJIAAAC3AAABKQAAAD8AAACRAAAArAAAAIgAAAC3AAABSgAAAF4AAABSAAAAUgAA\n",
       "ATsAAACDAAAASQAAAGsAAABtAAAAfQAAAJsAAADeAAAAXwAAAO4AAACnAAAARAAAALEAAACIAAAB\n",
       "dAAAAEoAAABpAAAATwAAAIoAAAECAAAAQgAAAF0AAADOAAAARAAAAKMAAABIAAABHgAAAF4AAABK\n",
       "AAAAPAAAAJkAAADPAAAAKwAAATQAAABbAAAAlAAAAEAAAACJAAABigAAAGQAAABFAAAAVwAAAKYA\n",
       "AABPAAAATwAAAVAAAABuAAAAcwAAAKUAAACCAAAATAAAATQAAAA+AAAAWQAAAPcAAABhAAAAPgAA\n",
       "AGEAAADhAAAASQAAARYAAABDAAAAkAAAAMgAAACQAAABegAAAEwAAABXAAAARgAAAVIAAABeAAAA\n",
       "OwAAAGAAAAEYAAAAZAAAAEQAAABOAAABEgAAAEoAAABQAAAA3wAAAGwAAABWAAAANQAAANEAAABY\n",
       "AAAAuQAAAHcAAAA+AAAASgAAAKQAAABdAAAAoQAAADkAAABbAAAAFHN0Y28AAAAAAAAAAQAAACwA\n",
       "AABidWR0YQAAAFptZXRhAAAAAAAAACFoZGxyAAAAAAAAAABtZGlyYXBwbAAAAAAAAAAAAAAAAC1p\n",
       "bHN0AAAAJal0b28AAAAdZGF0YQAAAAEAAAAATGF2ZjU4LjI5LjEwMA==\n",
       "\">\n",
       "  Your browser does not support the video tag.\n",
       "</video>"
      ],
      "text/plain": [
       "<IPython.core.display.HTML object>"
      ]
     },
     "execution_count": 108,
     "metadata": {},
     "output_type": "execute_result"
    }
   ],
   "source": [
    "Writer = animation.writers['ffmpeg']\n",
    "writer = Writer(fps=10, metadata=dict(artist='Me'))\n",
    "anim_Learn.save(\"Learning.mp4\", writer = writer)\n",
    "HTML(anim_Learn.to_html5_video())"
   ]
  },
  {
   "cell_type": "code",
   "execution_count": 20,
   "metadata": {
    "scrolled": true
   },
   "outputs": [
    {
     "name": "stdout",
     "output_type": "stream",
     "text": [
      "Testing for 1 episodes ...\n",
      "choice(1) - conversions: [0, 0.2601494936395941], reactors: [1]\n",
      "choice(2) - conversions: [0, 0.2601494936395941, 0.44804425979999357], reactors: [1, 1]\n",
      "choice(3) - conversions: [0, 0.2601494936395941, 0.44804425979999357, 0.6331085954859981], reactors: [1, 1, 0]\n",
      "choice(4) - conversions: [0, 0.2601494936395941, 0.44804425979999357, 0.6331085954859981, 1], reactors: [1, 1, 0, 0]\n",
      "Episode 1: reward: 1.000, steps: 4\n"
     ]
    },
    {
     "data": {
      "text/plain": [
       "<keras.callbacks.History at 0x1ccb08c9188>"
      ]
     },
     "execution_count": 20,
     "metadata": {},
     "output_type": "execute_result"
    }
   ],
   "source": [
    "dqn.test(env, visualize = True)"
   ]
  },
  {
   "cell_type": "code",
   "execution_count": 13,
   "metadata": {},
   "outputs": [
    {
     "data": {
      "text/plain": [
       "([1, 1, 0, 0],\n",
       " [0, 0.2601494936395941, 0.44804425979999357, 0.6331085954859981, 1])"
      ]
     },
     "execution_count": 13,
     "metadata": {},
     "output_type": "execute_result"
    }
   ],
   "source": [
    "env.reactor_seq, env.X"
   ]
  },
  {
   "cell_type": "code",
   "execution_count": 14,
   "metadata": {},
   "outputs": [],
   "source": [
    "y = [] \n",
    "x = []\n",
    "CSTR = []\n",
    "PFR = []\n",
    "for i in range(0, 100):\n",
    "    x.append(i/140)\n",
    "    CSTR.append(env.equation_solver(0, x[i]))\n",
    "    PFR.append(env.equation_solver(1, x[i]))\n",
    "x_sim = env.X[0:-1]\n",
    "choice = env.X[1:]"
   ]
  },
  {
   "cell_type": "code",
   "execution_count": 15,
   "metadata": {},
   "outputs": [],
   "source": [
    "#%matplotlib inline\n",
    "#%matplotlib auto"
   ]
  },
  {
   "cell_type": "code",
   "execution_count": 16,
   "metadata": {
    "scrolled": true
   },
   "outputs": [
    {
     "data": {
      "image/png": "[encoded data removed]",
      "text/plain": [
       "<Figure size 432x288 with 1 Axes>"
      ]
     },
     "metadata": {
      "needs_background": "light"
     },
     "output_type": "display_data"
    }
   ],
   "source": [
    "fig, ax = plt.subplots()\n",
    "ax.plot(x, CSTR)\n",
    "ax.plot(x, PFR)\n",
    "ax.legend([\"CSTR\", \"PFR\", \"CHOICE\"])\n",
    "ax.set_xlabel(\"Inlet Conversion\")\n",
    "ax.set_ylabel(\"Outlet Conversion\")\n",
    "line, = ax.plot([], [], '--go', lw=2)"
   ]
  },
  {
   "cell_type": "code",
   "execution_count": 17,
   "metadata": {},
   "outputs": [],
   "source": [
    "# initialization function: plot the background of each frame\n",
    "def init():\n",
    "    line.set_data([], [])\n",
    "    return (line,)"
   ]
  },
  {
   "cell_type": "code",
   "execution_count": 18,
   "metadata": {},
   "outputs": [],
   "source": [
    "def animate(i):\n",
    "    line.set_data(x_sim[0:i+1], choice[0:i+1])\n",
    "    return (line,)"
   ]
  },
  {
   "cell_type": "code",
   "execution_count": 8,
   "metadata": {},
   "outputs": [],
   "source": [
    "rc('animation', html='html5')"
   ]
  },
  {
   "cell_type": "code",
   "execution_count": 20,
   "metadata": {},
   "outputs": [],
   "source": [
    "anim = animation.FuncAnimation(fig, animate, init_func = init, frames = len(x_sim), interval = 1000, blit = True)"
   ]
  },
  {
   "cell_type": "code",
   "execution_count": 21,
   "metadata": {
    "scrolled": true
   },
   "outputs": [],
   "source": [
    "anim.save('PFRCSTRconversion.gif', writer='imagemagick', fps=1)\n",
    "Image(url='PFRCSTRconversion.gif')"
   ]
  },
  {
   "cell_type": "code",
   "execution_count": 22,
   "metadata": {},
   "outputs": [
    {
     "data": {
      "text/plain": [
       "'\\nWriter = animation.writers[\\'ffmpeg\\']\\nwriter = Writer(fps=1, metadata=dict(artist=\\'Me\\'))\\nanim.save(\"PFRorCSTR_conversion.mp4\", writer = writer)\\n'"
      ]
     },
     "execution_count": 22,
     "metadata": {},
     "output_type": "execute_result"
    }
   ],
   "source": [
    "\"\"\"\n",
    "Writer = animation.writers['ffmpeg']\n",
    "writer = Writer(fps=1, metadata=dict(artist='Me'))\n",
    "anim.save(\"PFRorCSTR_conversion.mp4\", writer = writer)\n",
    "#HTML(anim.to_html5_video())\n",
    "\"\"\""
   ]
  },
  {
   "cell_type": "code",
   "execution_count": 25,
   "metadata": {
    "scrolled": true
   },
   "outputs": [
    {
     "data": {
      "image/png": "[encoded data removed]",
      "text/plain": [
       "<Figure size 432x288 with 1 Axes>"
      ]
     },
     "metadata": {
      "needs_background": "light"
     },
     "output_type": "display_data"
    }
   ],
   "source": [
    "label_size = 20\n",
    "X = np.linspace(0, 1, 100)\n",
    "Y = -10*X**2 + 10*X + 2\n",
    "fig, ax = plt.subplots()\n",
    "ax.plot(X, Y, color = \"dodgerblue\")\n",
    "ax.set_xlabel(\"Conversion (X)\", fontsize=label_size)\n",
    "ax.set_ylabel(r\"$ - \\frac{F_{A0}}{r_a} $\", fontsize=label_size)\n",
    "ax.grid(True)\n",
    "\n",
    "\n",
    "legend_elements = [matplotlib.lines.Line2D([0], [0], c=\"deepskyblue\", lw=4, label='CSTR'),\n",
    "                   matplotlib.lines.Line2D([0], [0], c=\"steelblue\", lw=4, label='PFR')] \n",
    "\n",
    "ax.legend(handles = legend_elements, title = \"Reactor Type\", loc = 1)\n",
    "fills = [ax.fill_between([], [])]"
   ]
  },
  {
   "cell_type": "code",
   "execution_count": 26,
   "metadata": {},
   "outputs": [],
   "source": [
    "def livenspiel_plotter(conversion_in, conversion_out, choice, X_data, Y_data, ax):\n",
    "    index_in = np.where(abs(X_data - conversion_in) == min(abs(X_data - conversion_in)))[0][0]\n",
    "    index_out = np.where(abs(X_data - conversion_out) == min(abs(X_data - conversion_out)))[0][0]\n",
    "    x = X_data[index_in:index_out]\n",
    "    if choice == 0: # CSTR\n",
    "        y = np.zeros(x.shape) + Y_data[index_out]\n",
    "        fill = ax.fill_between(x, y, color = \"deepskyblue\")\n",
    "        \n",
    "    if choice == 1: # PFR\n",
    "        y = Y_data[index_in:index_out]\n",
    "        fill = ax.fill_between(x, y, color = \"steelblue\")\n",
    "    \n",
    "    fills.append(fill)    \n",
    "    return fills"
   ]
  },
  {
   "cell_type": "code",
   "execution_count": 27,
   "metadata": {},
   "outputs": [],
   "source": [
    "def animate(i):\n",
    "    fills = livenspiel_plotter(env.X[i], env.X[i+1], env.reactor_seq[i], X, Y, ax)\n",
    "    return fills"
   ]
  },
  {
   "cell_type": "code",
   "execution_count": 28,
   "metadata": {},
   "outputs": [],
   "source": [
    "livenspiel_anim = animation.FuncAnimation(fig, animate, frames = len(env.X)-1, interval = 1000, blit = True)"
   ]
  },
  {
   "cell_type": "code",
   "execution_count": 29,
   "metadata": {},
   "outputs": [],
   "source": [
    "livenspiel_anim.save('Livenspiel.gif', writer='imagemagick', fps=1)"
   ]
  },
  {
   "cell_type": "code",
   "execution_count": 30,
   "metadata": {},
   "outputs": [
    {
     "data": {
      "text/html": [
       "<img src=\"Livenspiel.gif\"/>"
      ],
      "text/plain": [
       "<IPython.core.display.Image object>"
      ]
     },
     "execution_count": 30,
     "metadata": {},
     "output_type": "execute_result"
    }
   ],
   "source": [
    "Image(url='Livenspiel.gif')"
   ]
  },
  {
   "cell_type": "code",
   "execution_count": 21,
   "metadata": {},
   "outputs": [],
   "source": [
    "import pydot\n",
    "from IPython.display import Image, display\n",
    "import imageio"
   ]
  },
  {
   "cell_type": "code",
   "execution_count": 22,
   "metadata": {},
   "outputs": [],
   "source": [
    "reactor_type = [\"CSTR\", \"PFR\"]\n",
    "shapes = [\"square\", \"rectangle\"]\n",
    "G = pydot.Dot(graph_type=\"digraph\", rankdir = \"LR\", size = \"20, 4!\")\n",
    "nodes = []\n",
    "edges = []\n",
    "image_list = []"
   ]
  },
  {
   "cell_type": "code",
   "execution_count": 23,
   "metadata": {},
   "outputs": [],
   "source": [
    "matplotlib.rcParams['figure.dpi']= 400"
   ]
  },
  {
   "cell_type": "code",
   "execution_count": 24,
   "metadata": {},
   "outputs": [],
   "source": [
    "for i in range(len(env.X)-1):\n",
    "    r_type = reactor_type[env.reactor_seq[i]]\n",
    "    Xin = round(env.X[i],2)\n",
    "    Xout = round(env.X[i + 1],2)\n",
    "    nodes.append(pydot.Node(f'{i+1} \\n {r_type} \\n Xin {Xin} \\n Xout {Xout}', \n",
    "                            height = 2, shape = shapes[env.reactor_seq[i]], fixed_size = True))\n",
    "    G.add_node(nodes[i])\n",
    "    if i > 0:\n",
    "        edges.append(pydot.Edge(nodes[i-1], nodes[i]))\n",
    "        G.add_edge(edges[i-1])\n",
    "    BFD = imageio.imread(G.create_png()) # converts to np array\n",
    "    image_list.append(BFD)"
   ]
  },
  {
   "cell_type": "code",
   "execution_count": 21,
   "metadata": {},
   "outputs": [
    {
     "data": {
      "text/plain": [
       "((384, 1405, 4), (384, 212, 4))"
      ]
     },
     "execution_count": 21,
     "metadata": {},
     "output_type": "execute_result"
    }
   ],
   "source": [
    "BFD.shape, image_list[0].shape"
   ]
  },
  {
   "cell_type": "code",
   "execution_count": 29,
   "metadata": {},
   "outputs": [
    {
     "data": {
      "text/plain": [
       "(0.0, 20.0, 0.0, 1.0)"
      ]
     },
     "execution_count": 29,
     "metadata": {},
     "output_type": "execute_result"
    },
    {
     "data": {
      "image/png": "[encoded data removed]",
      "text/plain": [
       "<Figure size 2400x1600 with 1 Axes>"
      ]
     },
     "metadata": {
      "needs_background": "light"
     },
     "output_type": "display_data"
    }
   ],
   "source": [
    "max_width = 20\n",
    "fig, ax = plt.subplots()\n",
    "ax.set_xlim(0,max_width)\n",
    "ax.axis('off')"
   ]
  },
  {
   "cell_type": "code",
   "execution_count": 30,
   "metadata": {},
   "outputs": [],
   "source": [
    "images = []\n",
    "final_image_width = image_list[-1].shape[1]\n",
    "for i in range(len(env.X)-1):\n",
    "    image_width = image_list[i].shape[1]\n",
    "    image = ax.imshow(image_list[i], extent = [0, max_width*image_width/final_image_width, 0, 4])\n",
    "    images.append([image])"
   ]
  },
  {
   "cell_type": "code",
   "execution_count": 31,
   "metadata": {},
   "outputs": [],
   "source": [
    "animation_BFD = animation.ArtistAnimation(fig, images, interval=1000, blit=True,\n",
    "                                repeat_delay=1000)\n",
    "animation_BFD.save('BFD.gif', writer='imagemagick', fps=1)"
   ]
  },
  {
   "cell_type": "code",
   "execution_count": 32,
   "metadata": {
    "scrolled": true
   },
   "outputs": [
    {
     "data": {
      "text/html": [
       "<img src=\"BFD.gif\"/>"
      ],
      "text/plain": [
       "<IPython.core.display.Image object>"
      ]
     },
     "execution_count": 32,
     "metadata": {},
     "output_type": "execute_result"
    }
   ],
   "source": [
    "Image(url='BFD.gif')"
   ]
  },
  {
   "cell_type": "code",
   "execution_count": 20,
   "metadata": {},
   "outputs": [
    {
     "data": {
      "text/plain": [
       "'If you want to save single image\\nwith open(\"reactor_sequence/BFD.png\", \"wb\") as png:\\n    png.write(G.create_png())\\n'"
      ]
     },
     "execution_count": 20,
     "metadata": {},
     "output_type": "execute_result"
    }
   ],
   "source": [
    "\"\"\"If you want to save single image\n",
    "with open(\"reactor_sequence/BFD.png\", \"wb\") as png:\n",
    "    png.write(G.create_png())\n",
    "\"\"\"\n",
    "# imageio.mimsave('reactor_sequence/BFD.gif', image_list) tried to to gif but didn't work because of scaling"
   ]
  },
  {
   "cell_type": "code",
   "execution_count": 301,
   "metadata": {},
   "outputs": [
    {
     "data": {
      "image/png": "[encoded data removed]",
      "text/plain": [
       "<PIL.Image.Image image mode=RGBA size=1405x384 at 0x20E5CB4E648>"
      ]
     },
     "metadata": {},
     "output_type": "display_data"
    }
   ],
   "source": [
    "import PIL.Image\n",
    "import IPython.display\n",
    "IPython.display.display(PIL.Image.fromarray(image_list[-1]))"
   ]
  },
  {
   "cell_type": "code",
   "execution_count": 302,
   "metadata": {},
   "outputs": [
    {
     "data": {
      "image/png": "[encoded data removed]",
      "text/plain": [
       "<PIL.Image.Image image mode=RGBA size=212x384 at 0x20E5C967288>"
      ]
     },
     "metadata": {},
     "output_type": "display_data"
    }
   ],
   "source": [
    "IPython.display.display(PIL.Image.fromarray(image_list[0]))"
   ]
  },
  {
   "cell_type": "code",
   "execution_count": null,
   "metadata": {},
   "outputs": [],
   "source": []
  }
 ],
 "metadata": {
  "kernelspec": {
   "display_name": "Python 3",
   "language": "python",
   "name": "python3"
  },
  "language_info": {
   "codemirror_mode": {
    "name": "ipython",
    "version": 3
   },
   "file_extension": ".py",
   "mimetype": "text/x-python",
   "name": "python",
   "nbconvert_exporter": "python",
   "pygments_lexer": "ipython3",
   "version": "3.7.4"
  },
  "pycharm": {
   "stem_cell": {
    "cell_type": "raw",
    "metadata": {
     "collapsed": false
    },
    "source": []
   }
  }
 },
 "nbformat": 4,
 "nbformat_minor": 2
}
