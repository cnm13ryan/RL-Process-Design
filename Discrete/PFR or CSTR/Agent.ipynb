{
 "cells": [
  {
   "cell_type": "markdown",
   "metadata": {},
   "source": [
    "Let's train a simple deep-Q RL agent on a simple chemical engineering problem \"PFR or CSTR\" - \n",
    "see report PDF for specification of this problem"
   ]
  },
  {
   "cell_type": "code",
   "execution_count": 1,
   "metadata": {
    "pycharm": {
     "is_executing": false
    }
   },
   "outputs": [
    {
     "name": "stderr",
     "output_type": "stream",
     "text": [
      "Using TensorFlow backend.\n",
      "c:\\users\\meatrobot\\miniconda3\\envs\\rl2019\\lib\\site-packages\\tensorflow\\python\\framework\\dtypes.py:516: FutureWarning: Passing (type, 1) or '1type' as a synonym of type is deprecated; in a future version of numpy, it will be understood as (type, (1,)) / '(1,)type'.\n",
      "  _np_qint8 = np.dtype([(\"qint8\", np.int8, 1)])\n",
      "c:\\users\\meatrobot\\miniconda3\\envs\\rl2019\\lib\\site-packages\\tensorflow\\python\\framework\\dtypes.py:517: FutureWarning: Passing (type, 1) or '1type' as a synonym of type is deprecated; in a future version of numpy, it will be understood as (type, (1,)) / '(1,)type'.\n",
      "  _np_quint8 = np.dtype([(\"quint8\", np.uint8, 1)])\n",
      "c:\\users\\meatrobot\\miniconda3\\envs\\rl2019\\lib\\site-packages\\tensorflow\\python\\framework\\dtypes.py:518: FutureWarning: Passing (type, 1) or '1type' as a synonym of type is deprecated; in a future version of numpy, it will be understood as (type, (1,)) / '(1,)type'.\n",
      "  _np_qint16 = np.dtype([(\"qint16\", np.int16, 1)])\n",
      "c:\\users\\meatrobot\\miniconda3\\envs\\rl2019\\lib\\site-packages\\tensorflow\\python\\framework\\dtypes.py:519: FutureWarning: Passing (type, 1) or '1type' as a synonym of type is deprecated; in a future version of numpy, it will be understood as (type, (1,)) / '(1,)type'.\n",
      "  _np_quint16 = np.dtype([(\"quint16\", np.uint16, 1)])\n",
      "c:\\users\\meatrobot\\miniconda3\\envs\\rl2019\\lib\\site-packages\\tensorflow\\python\\framework\\dtypes.py:520: FutureWarning: Passing (type, 1) or '1type' as a synonym of type is deprecated; in a future version of numpy, it will be understood as (type, (1,)) / '(1,)type'.\n",
      "  _np_qint32 = np.dtype([(\"qint32\", np.int32, 1)])\n",
      "c:\\users\\meatrobot\\miniconda3\\envs\\rl2019\\lib\\site-packages\\tensorflow\\python\\framework\\dtypes.py:525: FutureWarning: Passing (type, 1) or '1type' as a synonym of type is deprecated; in a future version of numpy, it will be understood as (type, (1,)) / '(1,)type'.\n",
      "  np_resource = np.dtype([(\"resource\", np.ubyte, 1)])\n",
      "c:\\users\\meatrobot\\miniconda3\\envs\\rl2019\\lib\\site-packages\\tensorboard\\compat\\tensorflow_stub\\dtypes.py:541: FutureWarning: Passing (type, 1) or '1type' as a synonym of type is deprecated; in a future version of numpy, it will be understood as (type, (1,)) / '(1,)type'.\n",
      "  _np_qint8 = np.dtype([(\"qint8\", np.int8, 1)])\n",
      "c:\\users\\meatrobot\\miniconda3\\envs\\rl2019\\lib\\site-packages\\tensorboard\\compat\\tensorflow_stub\\dtypes.py:542: FutureWarning: Passing (type, 1) or '1type' as a synonym of type is deprecated; in a future version of numpy, it will be understood as (type, (1,)) / '(1,)type'.\n",
      "  _np_quint8 = np.dtype([(\"quint8\", np.uint8, 1)])\n",
      "c:\\users\\meatrobot\\miniconda3\\envs\\rl2019\\lib\\site-packages\\tensorboard\\compat\\tensorflow_stub\\dtypes.py:543: FutureWarning: Passing (type, 1) or '1type' as a synonym of type is deprecated; in a future version of numpy, it will be understood as (type, (1,)) / '(1,)type'.\n",
      "  _np_qint16 = np.dtype([(\"qint16\", np.int16, 1)])\n",
      "c:\\users\\meatrobot\\miniconda3\\envs\\rl2019\\lib\\site-packages\\tensorboard\\compat\\tensorflow_stub\\dtypes.py:544: FutureWarning: Passing (type, 1) or '1type' as a synonym of type is deprecated; in a future version of numpy, it will be understood as (type, (1,)) / '(1,)type'.\n",
      "  _np_quint16 = np.dtype([(\"quint16\", np.uint16, 1)])\n",
      "c:\\users\\meatrobot\\miniconda3\\envs\\rl2019\\lib\\site-packages\\tensorboard\\compat\\tensorflow_stub\\dtypes.py:545: FutureWarning: Passing (type, 1) or '1type' as a synonym of type is deprecated; in a future version of numpy, it will be understood as (type, (1,)) / '(1,)type'.\n",
      "  _np_qint32 = np.dtype([(\"qint32\", np.int32, 1)])\n",
      "c:\\users\\meatrobot\\miniconda3\\envs\\rl2019\\lib\\site-packages\\tensorboard\\compat\\tensorflow_stub\\dtypes.py:550: FutureWarning: Passing (type, 1) or '1type' as a synonym of type is deprecated; in a future version of numpy, it will be understood as (type, (1,)) / '(1,)type'.\n",
      "  np_resource = np.dtype([(\"resource\", np.ubyte, 1)])\n"
     ]
    }
   ],
   "source": [
    "import numpy as np\n",
    "import csv\n",
    "import matplotlib.pyplot as plt\n",
    "import matplotlib\n",
    "from matplotlib import rc\n",
    "import matplotlib.animation as animation\n",
    "from IPython.display import HTML, Image\n",
    "\n",
    "from scipy import integrate\n",
    "from keras.models import Sequential\n",
    "from keras.layers import Dense, Activation, Flatten, Input\n",
    "from keras.optimizers import Adam\n",
    "from keras.models import load_model\n",
    "\n",
    "from rl.agents.dqn import DQNAgent\n",
    "from rl.policy import EpsGreedyQPolicy, LinearAnnealedPolicy\n",
    "from rl.memory import SequentialMemory\n",
    "\n",
    "import time\n",
    "\n",
    "%load_ext autoreload"
   ]
  },
  {
   "cell_type": "code",
   "execution_count": 2,
   "metadata": {
    "pycharm": {
     "is_executing": false
    }
   },
   "outputs": [],
   "source": [
    "from PFRorCSTR import simulator # this is the RL environment"
   ]
  },
  {
   "cell_type": "code",
   "execution_count": 3,
   "metadata": {
    "pycharm": {
     "is_executing": false
    },
    "scrolled": true
   },
   "outputs": [
    {
     "data": {
      "text/plain": [
       "((1,), 2)"
      ]
     },
     "execution_count": 3,
     "metadata": {},
     "output_type": "execute_result"
    }
   ],
   "source": [
    "env = simulator(volume = 0.8, n_reactors=4)\n",
    "nb_actions = env.action_space.n\n",
    "env.observation_space.shape, env.action_space.n, "
   ]
  },
  {
   "cell_type": "code",
   "execution_count": 4,
   "metadata": {
    "pycharm": {
     "is_executing": false
    }
   },
   "outputs": [],
   "source": [
    "%autoreload"
   ]
  },
  {
   "cell_type": "markdown",
   "metadata": {},
   "source": [
    "# Let's look at the ideal solution"
   ]
  },
  {
   "cell_type": "code",
   "execution_count": 5,
   "metadata": {
    "pycharm": {
     "is_executing": false
    }
   },
   "outputs": [
    {
     "data": {
      "image/png": "[encoded data removed]",
      "text/plain": [
       "<Figure size 432x288 with 1 Axes>"
      ]
     },
     "metadata": {
      "needs_background": "light"
     },
     "output_type": "display_data"
    }
   ],
   "source": [
    "label_size = 20\n",
    "X = np.linspace(0, 1, 100)\n",
    "Y = -10*X**2 + 10*X + 2\n",
    "plt.plot(X, Y, color = \"dodgerblue\")\n",
    "plt.xlabel(\"Conversion (X)\", fontsize=label_size)\n",
    "plt.ylabel(r\"$ - \\frac{F_{A0}}{r_a} $\", fontsize=label_size)\n",
    "plt.grid(True)\n",
    "\n",
    "previous_index = 0\n",
    "conversion = 0\n",
    "X_out_PFR = []\n",
    "X_out_CSTR = []\n",
    "X_react = []\n",
    "Y_react = []\n",
    "color = []\n",
    "\n",
    "while conversion < 0.4:\n",
    "    conversion = env.equation_solver(1, conversion)\n",
    "    X_out_PFR.append(conversion)\n",
    "    index = np.where(abs(X - conversion) == min(abs(X - conversion)))[0][0]\n",
    "    X_react.append(X[previous_index:index])\n",
    "    Y_react.append(Y[previous_index:index])\n",
    "    previous_index = index\n",
    "    color.append(\"deepskyblue\")\n",
    "  \n",
    "while conversion > 0.4 and conversion <= 0.9:\n",
    "    conversion = env.equation_solver(0, conversion)\n",
    "    X_out_CSTR.append(conversion)\n",
    "    index = np.where(abs(X - conversion) == min(abs(X - conversion)))[0][0]\n",
    "    X_react.append(X[previous_index:index])\n",
    "    Y_react.append(np.zeros(X_react[-1].shape) + Y[index])\n",
    "    previous_index = index\n",
    "    color.append(\"steelblue\")\n",
    "\n",
    "\n",
    "\n",
    "for i in range(len(X_react)):\n",
    "    plt.fill_between(X_react[i], Y_react[i], color = color[i])\n",
    "\n",
    "    \n",
    "legend_elements = [matplotlib.lines.Line2D([0], [0], c=\"deepskyblue\", lw=4, label='PFR'),\n",
    "                   matplotlib.lines.Line2D([0], [0], c=\"steelblue\", lw=4, label='CSTR')] \n",
    "\n",
    "plt.legend(handles = legend_elements, title = \"Reactor Type\", loc = 1)\n",
    "plt.savefig('Ideal_Soln.png', bbox_inches='tight')"
   ]
  },
  {
   "cell_type": "markdown",
   "metadata": {},
   "source": [
    "## Doube check volumes are correct to make sure simulator solver is working"
   ]
  },
  {
   "cell_type": "code",
   "execution_count": 6,
   "metadata": {},
   "outputs": [
    {
     "data": {
      "text/plain": [
       "(0.7999999999999999,\n",
       " (0.8000000000000004, 8.881784197001257e-15),\n",
       " 0.8000000000000009)"
      ]
     },
     "execution_count": 6,
     "metadata": {},
     "output_type": "execute_result"
    }
   ],
   "source": [
    "def PFR(x):\n",
    "    return -10*x**2 + 10*x + 2\n",
    "def CSTR_vol(x, x_in):\n",
    "    return (-10*x**2 + 10*x + 2)*(x - x_in)\n",
    "\n",
    "PFR1 = integrate.quad(PFR, 0,  X_out_PFR[0])[0]\n",
    "PFR2 = integrate.quad(PFR, X_out_PFR[0], X_out_PFR[1] )\n",
    "CSTR1 = CSTR_vol(X_out_CSTR[0], X_out_PFR[-1])\n",
    "\n",
    "\n",
    "PFR1, PFR2, CSTR1"
   ]
  },
  {
   "cell_type": "code",
   "execution_count": 7,
   "metadata": {
    "scrolled": false
   },
   "outputs": [
    {
     "name": "stdout",
     "output_type": "stream",
     "text": [
      "Model: \"sequential_1\"\n",
      "_________________________________________________________________\n",
      "Layer (type)                 Output Shape              Param #   \n",
      "=================================================================\n",
      "flatten_1 (Flatten)          (None, 1)                 0         \n",
      "_________________________________________________________________\n",
      "dense_1 (Dense)              (None, 16)                32        \n",
      "_________________________________________________________________\n",
      "dense_2 (Dense)              (None, 16)                272       \n",
      "_________________________________________________________________\n",
      "dense_3 (Dense)              (None, 16)                272       \n",
      "_________________________________________________________________\n",
      "dense_4 (Dense)              (None, 2)                 34        \n",
      "=================================================================\n",
      "Total params: 610\n",
      "Trainable params: 610\n",
      "Non-trainable params: 0\n",
      "_________________________________________________________________\n",
      "None\n"
     ]
    }
   ],
   "source": [
    "# Next, we build a very simple model.\n",
    "model = Sequential()\n",
    "model.add(Flatten(input_shape=(1,) + env.observation_space.shape))\n",
    "model.add(Dense(16, activation = 'relu'))\n",
    "model.add(Dense(16, activation = 'relu'))\n",
    "model.add(Dense(16, activation = 'relu'))\n",
    "model.add(Dense(nb_actions, activation = 'linear'))\n",
    "print(model.summary())"
   ]
  },
  {
   "cell_type": "code",
   "execution_count": 8,
   "metadata": {
    "scrolled": true
   },
   "outputs": [],
   "source": [
    "steps = 15000\n",
    "policy = LinearAnnealedPolicy(EpsGreedyQPolicy(), attr='eps', value_max=1., value_min=.05, value_test=0, nb_steps=steps)\n",
    "memory = SequentialMemory(limit=50000, window_length=1)\n",
    "dqn = DQNAgent(model=model, nb_actions=nb_actions, memory=memory, nb_steps_warmup=9,\n",
    "target_model_update=1e-2, policy=policy, gamma = 0.95)\n",
    "dqn.compile(Adam(lr=1e-3), metrics=['mae'])"
   ]
  },
  {
   "cell_type": "code",
   "execution_count": 9,
   "metadata": {
    "scrolled": true
   },
   "outputs": [
    {
     "name": "stdout",
     "output_type": "stream",
     "text": [
      "Training for 15000 steps ...\n",
      "Interval 1 (0 steps performed)\n",
      "WARNING:tensorflow:From c:\\users\\meatrobot\\miniconda3\\envs\\rl2019\\lib\\site-packages\\keras\\backend\\tensorflow_backend.py:422: The name tf.global_variables is deprecated. Please use tf.compat.v1.global_variables instead.\n",
      "\n",
      "    1/10000 [..............................] - ETA: 14:07 - reward: 0.2601"
     ]
    },
    {
     "name": "stderr",
     "output_type": "stream",
     "text": [
      "c:\\users\\meatrobot\\miniconda3\\envs\\rl2019\\lib\\site-packages\\rl\\memory.py:39: UserWarning: Not enough entries to sample without replacement. Consider increasing your warm-up phase to avoid oversampling!\n",
      "  warnings.warn('Not enough entries to sample without replacement. Consider increasing your warm-up phase to avoid oversampling!')\n"
     ]
    },
    {
     "name": "stdout",
     "output_type": "stream",
     "text": [
      "10000/10000 [==============================] - 75s 7ms/step - reward: 0.2175\n",
      "2500 episodes - episode_reward: 0.870 [0.769, 1.000] - loss: 0.000 - mae: 0.263 - mean_q: 0.534 - mean_eps: 0.683\n",
      "\n",
      "Interval 2 (10000 steps performed)\n",
      " 4996/10000 [=============>................] - ETA: 37s - reward: 0.2381done, took 112.615 seconds\n"
     ]
    }
   ],
   "source": [
    "# Okay, now it's time to learn something! We visualize the training here for show, but this slows down training quite a lot. \n",
    "hist = dqn.fit(env, nb_steps=steps)"
   ]
  },
  {
   "cell_type": "markdown",
   "metadata": {},
   "source": [
    "# A variety of visualisations of the solution found by the agent are given below"
   ]
  },
  {
   "cell_type": "code",
   "execution_count": 10,
   "metadata": {},
   "outputs": [],
   "source": [
    "reward_data = np.array(hist.history[\"episode_reward\"])"
   ]
  },
  {
   "cell_type": "code",
   "execution_count": 11,
   "metadata": {},
   "outputs": [],
   "source": [
    "np.savetxt(\"rewards.csv\", reward_data, delimiter=\",\")"
   ]
  },
  {
   "cell_type": "code",
   "execution_count": 12,
   "metadata": {},
   "outputs": [],
   "source": [
    "reward_data = np.loadtxt(\"rewards.csv\", delimiter = \",\")"
   ]
  },
  {
   "cell_type": "code",
   "execution_count": 13,
   "metadata": {},
   "outputs": [],
   "source": [
    "model.save(\"DQN_agent.h5\")"
   ]
  },
  {
   "cell_type": "code",
   "execution_count": 14,
   "metadata": {
    "scrolled": true
   },
   "outputs": [
    {
     "name": "stdout",
     "output_type": "stream",
     "text": [
      "dict_keys(['episode_reward', 'nb_episode_steps', 'nb_steps'])\n"
     ]
    }
   ],
   "source": [
    "print(hist.history.keys())"
   ]
  },
  {
   "cell_type": "code",
   "execution_count": 15,
   "metadata": {},
   "outputs": [],
   "source": [
    "def running_mean(x, N):\n",
    "    cumsum = np.cumsum(np.insert(x, 0, 0)) \n",
    "    return (cumsum[N:] - cumsum[:-N]) / N"
   ]
  },
  {
   "cell_type": "code",
   "execution_count": 16,
   "metadata": {},
   "outputs": [
    {
     "data": {
      "image/png": "[encoded data removed]",
      "text/plain": [
       "<Figure size 432x288 with 1 Axes>"
      ]
     },
     "metadata": {
      "needs_background": "light"
     },
     "output_type": "display_data"
    }
   ],
   "source": [
    "smoothed_rews = running_mean(reward_data, 100)\n",
    "plt.plot(np.arange(np.shape(smoothed_rews)[0])[-len(smoothed_rews):], smoothed_rews)\n",
    "plt.plot(np.arange(np.shape(reward_data)[0]),reward_data,color='grey', alpha=0.3)\n",
    "plt.xlabel(\"Episodes\")\n",
    "plt.ylabel(\"Reward\")\n",
    "plt.legend([\"avg reward\", \"reward\"], loc=4)\n",
    "plt.savefig('Learning.png', bbox_inches='tight')"
   ]
  },
  {
   "cell_type": "code",
   "execution_count": 17,
   "metadata": {
    "scrolled": false
   },
   "outputs": [
    {
     "data": {
      "text/plain": [
       "<matplotlib.legend.Legend at 0x1d563d8a6c8>"
      ]
     },
     "execution_count": 17,
     "metadata": {},
     "output_type": "execute_result"
    },
    {
     "data": {
      "image/png": "[encoded data removed]",
      "text/plain": [
       "<Figure size 432x288 with 1 Axes>"
      ]
     },
     "metadata": {
      "needs_background": "light"
     },
     "output_type": "display_data"
    }
   ],
   "source": [
    "fig, ax = plt.subplots()\n",
    "ax.set_xlabel(\"Episodes\")\n",
    "ax.set_ylabel(\"Reward\")\n",
    "ax.set_xlim(0,4000)\n",
    "ax.set_ylim(0.75, 1)\n",
    "interval = 30\n",
    "\n",
    "lines = []\n",
    "line1, = ax.plot([], [])\n",
    "lines.append(line1)\n",
    "line2, = ax.plot([], [],color='grey', alpha=0.3)\n",
    "lines.append(line2)\n",
    "ax.legend([\"avg reward\", \"reward\"], loc=4 )"
   ]
  },
  {
   "cell_type": "code",
   "execution_count": 18,
   "metadata": {},
   "outputs": [],
   "source": [
    "def init():\n",
    "    for line in lines:\n",
    "        line.set_data([],[])\n",
    "    return lines"
   ]
  },
  {
   "cell_type": "code",
   "execution_count": 19,
   "metadata": {},
   "outputs": [],
   "source": [
    "def anim(i):\n",
    "    smoothed_rews_ = smoothed_rews[0:i*interval]\n",
    "    reward_data_ = reward_data[0:i*interval]\n",
    "    lines[0].set_data(np.arange(np.shape(smoothed_rews_)[0])[-len(smoothed_rews_):], smoothed_rews_)\n",
    "    lines[1].set_data(np.arange(np.shape(reward_data_)[0]),reward_data_)\n",
    "    return lines"
   ]
  },
  {
   "cell_type": "code",
   "execution_count": 20,
   "metadata": {},
   "outputs": [],
   "source": [
    "anim_Learn = animation.FuncAnimation(fig, anim, frames = round(len(smoothed_rews)/interval), init_func=init, interval = 100, blit = True)"
   ]
  },
  {
   "cell_type": "code",
   "execution_count": 21,
   "metadata": {
    "scrolled": true
   },
   "outputs": [
    {
     "data": {
      "text/html": [
       "<video width=\"432\" height=\"288\" controls autoplay loop>\n",
       "  <source type=\"video/mp4\" src=\"data:video/mp4;base64,AAAAIGZ0eXBNNFYgAAACAE00ViBpc29taXNvMmF2YzEAAAAIZnJlZQAAX3ZtZGF0AAACoAYF//+c\n",
       "3EXpvebZSLeWLNgg2SPu73gyNjQgLSBjb3JlIDE2MSAtIEguMjY0L01QRUctNCBBVkMgY29kZWMg\n",
       "LSBDb3B5bGVmdCAyMDAzLTIwMjAgLSBodHRwOi8vd3d3LnZpZGVvbGFuLm9yZy94MjY0Lmh0bWwg\n",
       "LSBvcHRpb25zOiBjYWJhYz0xIHJlZj0zIGRlYmxvY2s9MTowOjAgYW5hbHlzZT0weDM6MHgxMTMg\n",
       "bWU9aGV4IHN1Ym1lPTcgcHN5PTEgcHN5X3JkPTEuMDA6MC4wMCBtaXhlZF9yZWY9MSBtZV9yYW5n\n",
       "ZT0xNiBjaHJvbWFfbWU9MSB0cmVsbGlzPTEgOHg4ZGN0PTEgY3FtPTAgZGVhZHpvbmU9MjEsMTEg\n",
       "ZmFzdF9wc2tpcD0xIGNocm9tYV9xcF9vZmZzZXQ9LTIgdGhyZWFkcz05IGxvb2thaGVhZF90aHJl\n",
       "YWRzPTEgc2xpY2VkX3RocmVhZHM9MCBucj0wIGRlY2ltYXRlPTEgaW50ZXJsYWNlZD0wIGJsdXJh\n",
       "eV9jb21wYXQ9MCBjb25zdHJhaW5lZF9pbnRyYT0wIGJmcmFtZXM9MyBiX3B5cmFtaWQ9MiBiX2Fk\n",
       "YXB0PTEgYl9iaWFzPTAgZGlyZWN0PTEgd2VpZ2h0Yj0xIG9wZW5fZ29wPTAgd2VpZ2h0cD0yIGtl\n",
       "eWludD0yNTAga2V5aW50X21pbj0xMCBzY2VuZWN1dD00MCBpbnRyYV9yZWZyZXNoPTAgcmNfbG9v\n",
       "a2FoZWFkPTQwIHJjPWNyZiBtYnRyZWU9MSBjcmY9MjMuMCBxY29tcD0wLjYwIHFwbWluPTAgcXBt\n",
       "YXg9NjkgcXBzdGVwPTQgaXBfcmF0aW89MS40MCBhcT0xOjEuMDAAgAAAE1JliIQAP//+92ifApta\n",
       "Q3qA5JXFJdtPgf+rZ3B8j+kDAAADAACv1n8JSaswMGwiafv7hceWgGCu/YqD5Ujw83g41PwQk92D\n",
       "TXPw4rP8RsnEz/heV46oiJw1hlsbmIrvp3owosIutXg2UJ6ewgsAKZeiH2WOIzB+ATaZjAtW+FXY\n",
       "uTFnJeIAAAMAVY6e5ENmNyKxzeX+yod1+PLFO7wCsvxB3uCowA7j6/Gen97EQWSHpYZB+Jo67EUm\n",
       "QvREisgBxeDKV98RTn2Elyr+RzzPrcoT2hfAChj3X48VFWOmZD25uq9IFyxztl3n+RI/zBgOL9tN\n",
       "UHNXWnAYTsukW/jl3fLiTrhyPn4Z38Rvlliaa6gwnvRPvMA/Eif/rm62P2BDbEXHpd7cR8p9f2n/\n",
       "8myWzRF46PdHiZU4Rq1Q0g2IcARPoMR1Nnl0kkNaRvPjkBeT9NXRu8miU0jrRQTwwPgAls96HEy4\n",
       "EKr+jEXYx8IvxOvyDE+a1+ulUm7RrYk4Sr2rFgYxw4ZIvx6NJdH/QQNZAdYEr2C5RSqBykDiAf3L\n",
       "3JkLJms1CAjx+zamQrNZ6xTRoyprqXFm7qeDiXMEiKFpM7hQuAeviOLjuAicOv0zhpzkBxZb0K2t\n",
       "CTzgL/gB2ksooJNP31hp02BTKVfa+l6nrdcbVOcvffLh11k55uz+pIA6gEG0O1AAAP+NSgpce8N5\n",
       "F2x01j6fbDIRXFKZKAlWdpJTyCzmE1uEvuygv8Ry1bFUcgHM/6TwMeCaOqenV/bUUr/BRX1W0NnO\n",
       "icn/hRnciwkAOc/2XFocihf2HgDWElWSvkSwFw+qTMFU0Qd/YGEOVNKhfpEH3tuUSApRw7R/agyf\n",
       "TQgN37cHvLm936m+wGZtXytpOrwowTvgYMy37ep9xJhxvVNwZavzSWjT7gzQUoY+I7aw7mqqnNPF\n",
       "RpqM+N4a3ADKu16R5GxFoG1sNez/l7qbBdOam2SndAM+iKaha5NDU9bL6fxPHfsgmqSIsdDNpLZv\n",
       "6Fa51MJD05pt9WcbOup+7hXf2UcBOkbv5S0nD+khyz2yM0Mawh3VP59q9f5AjllI4dx/olvzJIx5\n",
       "cHA35oGmw/mcGcFPYDgHY8/mpQe9p11t7Mzwk6848VEA5U0XTnAqcC6nVH9Lp4G4/VWjSuMRgfRG\n",
       "5ACMaFiupXduafKU+xznywCXbyMbw/TOmrzC5NJKS1vniuA+Zx8DS3kBNMKch1air6CWQqKF3o4J\n",
       "XZgPgC5elLFirMOG9vKH3toXP9Oqk66qs/g6BlVPcDjKuYaSogwBP2sLoVhG5HrBjAEtpB3Q3QzO\n",
       "neus45in6pIOaknGaO4AAAMAINnhvJx4TOj0Im86BCCacwk3o4PeFiyNF+Bow6CKo+NTG+RMwzYo\n",
       "FZUMbHZAFxRDQ7MUvbNE3Yb4s1y7q/EvHxoQGsYmzI+ZCNGF9gIG+m71cVZovVXzVEGD2PQ2+ilK\n",
       "5dJb/sSV7dkJ/hTaYbJiZKp+lYnesrLWAyynAwcxgp5R4bTIg/FrM5URIZj+48Fn/1vAvZv1uE1K\n",
       "zbju2ml3U0zx4PMeCI2cVLImYEzlrMpwsYUjL8iIYeZ+6NNLpv65C0wQQAcIk5dFVFaJzsKk8nKh\n",
       "CLu108uoyxGSy5HjLwCO/Xhq7wjz0I4xbDOXIL3KxtKLvZKxqSNmInl0FVKl16pLy+FLi8F4SrHh\n",
       "87Iks1Bs0jiw2mgK45FXFVApFuRTsrlxVAMfuBqkwUwx2yyTwI9BgS19+JjtmelwFzrfl5l5+sgh\n",
       "S7VX07+j5FV6q87pfvwFwEECSopExsPTKJVsYEqiBFloDuQ8cp60fksRFwye1RtXsNKdnynD9REB\n",
       "vHSYAFjl9GIACf+nVKct6PB2qgef4N9je/K6UBhTT4ApPbBfIvt+kXaSWfZrG71mbPRheKpWkTYS\n",
       "4+AnJv+7B2DVR0+JD3rX0ifVHoNWV5jZa/trQRH4GnPnfwbmtFjxq+wAOLwenxuhTAIgr1955a13\n",
       "49Mce0mNItl+2kInnEU2webtXw7jMVqsJdFWQ706RRe35O2nqObDWnnZtZodEAZSnBvz/g+Fktiq\n",
       "OmZehR7PVolspgbIQ/p0bUzecDu1GXaDXBgEl/Bkke9K56X7JJXTA/5928VpJGzuJ6T8jUbiz68r\n",
       "/2rHenZLbmE3Psq6Dgapur+JB7eeCGc3d19g+P4tBttA2jZ0aaey//smgRbSwAB9TWQfpnf4YlVp\n",
       "h/mL0XScpxx/dsP9vumB8njBEDNEMuMUnWuAcbICx1Lc5bRgeHjyDpCwS1a/9Lf5fhhaGtgqy3S5\n",
       "qEu76ImnCA2mubWUKOwWMKwKzgeILJ4lgR4o7bCTlJBprLwtyIdHRfzR48fWsfaqfv+E25MG7By0\n",
       "UMAPBBvWSC88EpG57G7+k8iL96kIrfu2zC8vX4bHjhjAKpRifV5trF8x+LcSGeBlJB2nwbzHvfFX\n",
       "dkN5g9mCgcdeZbdDuP7IRkBs3hrjbZF+NXqWnXvH4nsIUHRv6jpI5B9QouchgBWfXeOyuoQb90iO\n",
       "oxfm3ciuhsRIPS0X+tG96yUMp7GAyBRCjlY1Zgj0H848HwFY9qd5tDj2R9/h0wwQfdTN7a8G5Tne\n",
       "nyXANWcTkcf2STt1uOBXz9faMzQkalxtXEC19jj+N/1QPlqfSchHjBPB7vfAljQaocDZu26ndj7q\n",
       "zTKueKEM0jZsiYhjGO/z/HO9pdNiKq5X5kusCjN8UbwTWv9rcFkAK9Mzpqx4OAwd9IaxA2Qp+81t\n",
       "eYSWicQGNguOGfqAWQncKNbQZF/azckUPYSKo+T3YT8RkpdDgiC5KHICC0+4NBtJak0+tHAQbyAa\n",
       "/amlrwcE1C8guHzdXpUvl7S7SeTgslkBnBUUjmfrQ4jgZ2nxffDht9vyT9qemukYV3lzpQSWbkUt\n",
       "R1J+L3p1dF9+9tuBTX1ddEaZFjiYPDnN8mzwlw4qfVNJehMzZgvWGt4Oc7gB22ZgZzbEFLCFftYc\n",
       "SgYlE0Tr1efF3dZznkKufW/LYQGuYs4RNjnRZuSrXY1sWEaF+dsUoRRhte1d/k4F1115Rn/wBzUE\n",
       "3PSLSMtIkJefhh/3nYc0pLqT42nMJxvRhMHkiNt2QjBGBkiBAnJE8HuW1kIG/ikMv0kKn4yJ8Uxz\n",
       "msZv1QEi4FkvA6E6itmDN02nbHV/RNcxCBFyLY3p7g8F5ofbRBJFf3sb2fbKRZ/379cGxp3PsiTK\n",
       "p3QocuWEIdwOFvTMHcGpz87rMjyskBA3n7J0zXnDsoYG/qhB5OB4czV+KrBpnV/SoItbmxAvH24b\n",
       "/tKghOyMxqm6HRK4aF/a83CnNgBnSaoPOZO437KQ+qIvPLiBrRkP+0H8wqzFOJRs+6TQ8/5+Wjz5\n",
       "AJ7DGwVDbmxhYiHH9D5JWLIb7kSfQazCvNxmcSM2utu1R5WNh6BX14q91E0rSi/xJ19eLfXTcvL8\n",
       "t0W5I3XHp9cQ30SQ3fKXY5Dn0nv/McKWe8K/OpX7R/8dDbthzxYhcKU83oFagg8bhBloe0cJHlKQ\n",
       "8TxLf5KZRydICBstGxRacfbTLRO31mt0eo1FWbFvqoPkeyq9cuELuWk2qMyTse6+VixeU3Ixutdr\n",
       "j/4iuN/jUDmyWwCcCzAlJo3unbnuK0vxHVaUJ1R+EVdvEB5NLmeHdAnsPzkaeQgXBf5rxA9v/xCQ\n",
       "yOmKhcfNB/TpH7JY+O32rXIxrksQW6d6ZwfSgtjOUGQkpxADcrIl7tA3e/JLwKq4kqFr3t9U3O8B\n",
       "csdJHyo6/2yi6k8BwlHkU5MfizELzuB4GS9ZSif9403vzfgZ1Rx7xM3Ef+4AHikcimtAyOfgWsRa\n",
       "HmYnOtihXkHnICRcU4mb9zzEPn5Vg9/7IYYzHQYlW5/KN+hHQWBgx0yAlQd3Bf7zgzFoLDYw/2ul\n",
       "MQQmCVqsZAKEftPxB2R70XiNdIcyKgWUsM0FMVkWkC2S0Wp5elofQ9pci736w8bSOlq0l+XmZ64j\n",
       "r/T6qGq/rtDjkxrDyliydjNi+P90RCKB5x6XGP1aCnqohZh/29/wd0mBde1+Upjaxl0R43pxlUhv\n",
       "0eCuw3vQa27G6RzyI+0qojFtoqanSba4yy1+dzMJFM4xOuJk6lMUkNJC72MuWNUbbqBLKbkWN4Uo\n",
       "cgVPtvKs3kRPGnZTGRpS/fy6sK/tCNVdfWvf63UGk898tUJxz2N3tAz78UxjKNAm7kbBY/Qe8SSf\n",
       "jSrcDGi9IliNVo16UP4W49ZXkjxYQ77CNfqLqVDKJP8X3vyGPnMf53ZBlKKeEZDaIsdG8aE3NguT\n",
       "HAvNYyUl/jQRKtSr5adhewMjPkw7XQDfvqYqOCt7Vm6+B0CQt8Oe6LGvAALcg0CSZkFC52rsIvNo\n",
       "FF18Wc1gQbedYuQN2rvkh3Ow5lFF6mjHpbFqdawlZceHQG0WPoOvurMGH/e6KEQsJPrH6V4ZarAK\n",
       "FGJYHRTHgiMxEPrfI8sfovvLt/D/tvu5aFp+V0j4aEDmxgO2PqvsevunN1kSj+b4SwRNaq7GlMcc\n",
       "mwGPOTUxiLvpt4oV1rFp+Fl5Yg58IIZRr6EhW5z20FjDCIg2wGm1x/XrcngTWaV90OXMNOYpN1io\n",
       "ZDqTubk+1lBCmiALK4TVQ2XGyRPeyd3gBQx3n+L4jvFe3tghVi3hdrsrUM7Q8mQzCHa6c5K4aXKZ\n",
       "pqmafYLKBG35lxmOxWk3VFdGX4FwFwyOhjVie9cH+EE4euLMReY/zOW7+6rpx0sT12sj44iLvPqe\n",
       "H2loLRkz26Gexr8/h4DCs14UUSLNHkLm8UHIz6r4eufQ2UhPPEWcuD1KMBPpWzW3xjK6ETdZGSrG\n",
       "kPvTJmoE40L9RN1X+NoWYUvScGZs6gsOIiKBecgrn6j0zFWAlJvPqN5r4RM+Qb/rQmcMQaufGWqe\n",
       "RhrFr581LWaFxH39+jr1cVUisFmh5T98xrj0Uyv/JGwPMhQbZ3HbD5fL5+pgivcLkgzqnJeD9I0W\n",
       "wTB671TPp3HvBdbYQtwezAIcJaJjWOIxAsvyr9s4Ki6B20TBc9eVnosYqTDoA+l+dBaiGXN0mmi3\n",
       "3Fd7Ods8v0YrjDbXD9c8trvYvSRxDPFwzebSSy9Vul+sP+OBwTsgqND4rt9H5EI5i4sgW6m0BgI5\n",
       "Pyre+1H3kprgj+d42KbZKcrBrHcVm8Jh/o5BQ8SfyXNr9DSYDP+2r0SdO6mxuOBeS+Jo/9KlSqI/\n",
       "bVyNQKXCa7eVq4seX5tZWY9C/WTPuGE8D4sMMKf7eJSonfjOtY9dRmM5Z+ufLMXvis5+omiUgOMx\n",
       "+NerFT+8zEPPVnCk1Nacv0DWLQBSKoUsHjQomEMmmiZs9srGgs47uZeoItBT0xBFRFjaf0KR3ls6\n",
       "pmKYcZLrgXZUoD/tqn473X92OgmPHh8vk9RIhCIMosdYpWN1jM/96Pu+TGmwU/YtEV4WF9BWEw71\n",
       "TaIueC2D/6hdcBorQNBa5rwObi9+YlrrHWJWteW2+Lyr0+HoMQl/eYiDQCxlp2pp+zrHxzPGbxQQ\n",
       "IVHD8y3Ye1cHmFGJRVwNenaGy/l+uYtp2teB4f1GG4XC3yezb0ji+pkjNWm7XDAI52pyKgAeeFjY\n",
       "nbVFxMTI0E1G5zuZUTHPpb4yVkY38fxkKChosat4gVI0Gud5NqIcBJQXjJ2aVXAKyr9NaNmO8/0Q\n",
       "f/uXXNFudxl2aUQu/xM2IHpRpnd6dNwfenE2EKXNHAFAIhL3tStDjQ66xIT2LgZN8WZquPiWNC0C\n",
       "VOWbfS+tAf4KTMg8i8M/tGUtJY/2q2a1AUr234jkQK6z/m7IiRsxhmM8J2RDN+C8gXUF+ZPi8F1T\n",
       "kjq+mMrma7gaVh/CimLITuqX1/VW1zbpssEn9P0rCwiLkpVGtbRK6eMBW7wbEjfvOqhVXLL+bO4C\n",
       "gO2xb1+25RCIr0FOUg0OMl8mMQj+A+XdSVLj44gFVcfb3uko0Mx0LlrhSzrdPRJxVpF73OYFQDx0\n",
       "bS7WwCCKVV3mtLEau/zz1eEP331m8CFjtPQoTLit/6g5+B1YkWdxc6L3OElygXtS2SRyoVJHyv1g\n",
       "0ufEffoeLgBlOHEvxYwQAY3ZeSsi7SgYLutLN6wZF+aZI/Aq+9k9UOWjO9DAHLn8y0HRmQr6oXaJ\n",
       "oKb5Ruw02nxKu09S7KvUWLVNLB4BFMgRMiQSgHMckxRaZOhnXgx47/WqQGMA0KnszFmWIKCsTvLT\n",
       "fq74qW+bz82HpD7LCnhMva//S3wflHSvYEaGmuYbP1OD75V9lxbON3eR4VPG8muDwgodvnSRdL3/\n",
       "kb5SioAbT4fZpPfutfuDiqATR0Ttb+CjOpqrnZD5XPLruDLV+Vhf98FQ68IAVqWvUjEvYLQPvvHI\n",
       "BNJhx/2jMwRl5hICUxRTk92ID3O77hMdcPpbP56+pblRyqTvWC/GRp5fsN99WvlmHwgjZBxAPIgI\n",
       "Fip6TcT8cqwpdglyE90OjcWN/iUY2ySG7M9FituFwqrTdNDN2x7d3rYXidHc8X2Mn0L7VAE4INMN\n",
       "L61BsE0QPzKZnNQ7eZX5a+rRf5/ZOW+kM2IiLg99SLQiuwLZyOBz37lkUbQ21dw8AMpMvNb6QPT8\n",
       "Tl8ulADiGnwK2IUSRfZ6wfQpxJv+3OXB5D+QHn8FLQAAA2tBmiFsQ//+qZYBJC+WgIKCdFKZSi7e\n",
       "0jRhjN0DRhd0+Z1g16QqecYmwVRhQJ1j2/9gP8BFOGOUlvaVa73fn+RlXf8YNGmsY6+YmyESahYN\n",
       "hDRwP/fLJ79xgCQ0CR2I5Tx/a1KpScGTQPTZ1IGsUIBIx/VtZRKXUVDkIY87yhL4HBt+LUQ6wax8\n",
       "Z7srZPBlRhQgqNv1nz4hLUBYqzKBgpM/wfRd72COoAObmh624tEarizD7TAKbWLvYICGLQeooBH+\n",
       "6C/2LiyraoZbWTuEh+yOU2oYPqnj6q0i7S41GXA7MJMWA3GEF6o9W+rMFl1f4oA6uiAjudslICt9\n",
       "fiTuxBBnQVkSDR/DX1Ut5GzTzxNWI0qKDfsy2596Buni2ZfGeguMXD8eS1NJFDWqdx10jCof81r/\n",
       "w2vwEXeL9P7LiXqsVeidjGbclrMImt2pLiToDhu6odezLL2rS4hLxuMPod2xXoTKSXjkBC43dTlM\n",
       "pQg8Q9COHCQjq8QjeKdP8gSy34altqFWFHVUEMPBcUXGjttEmdnq+0teGeeg8Ys9IRxuRE555DD5\n",
       "6QwNxjNa3I6nfFMeC+XIqPdT+AXxrg+kZ+o4mkDN0U90u6k0nGJdd5t93TrHepVd/kshMBe9719B\n",
       "hHpc/juvITS/BcTHdEAOfCZYurDZhCqf8XY3pNrm1nbAjKEaC2htIWxVpwKMn6kQX6HIoR4IC2Sd\n",
       "peyHnLUZhPWmbu9rA/O4YIj6yEs95T8daxzmgMglRR/SgzZpkqnREExrlrL1t+cNzAT5Xa07Z1dm\n",
       "vUtmqoSbgLSjNizvzNFgqaevRdTlJVCriGeilUD2lYoYeJrH2d1WA4E8WrhDn4rfrolY+NKo/xCi\n",
       "dMlCBbkXyN3c0g3Hydeue+mN7Q3ro2mOMAMOXkfEGXxHcrcEuCCWjHzcJSPzRVFceHlr0mAhCOwB\n",
       "XXbYe2eCh2nZXfWlY6RQzVudOouad/yTSvc3V6yBUKZa75IknSp5fZXvsbj9d0+DYbzuJfO9weqB\n",
       "FESR1cqRkeOC4iBSWoZ7VwhyrF56/je28irDPJMn8Bv9tEJkY4CTvb9PZNpGjfTHOmbcqhwCVk5F\n",
       "3I0wwF4UvyvasU51Nsc7Yn02KsAY0c3k81Al6m08IsgHrDBtO6mdIRybe0J/Isd43My0AQjrgAAA\n",
       "APVBmkI8IZMphBD//qpVAEUD5MASsMijr2aUtoT+9fE9UtoqmOxuPS33+4I9Mm+hOGkaD3Ee8qTr\n",
       "GTlTgj+YhPhY82GhaEds23YVhJia1TWv9o1TsDyxXTsROyKGnsDNYXHgTFvV4K8b6q6fGkDRna3u\n",
       "qGdupj1Bx9+L2hnJyqKEymuHs2sOvDUw1zdAlZNwdndNDYeIGfP0qsxm2p1V3D8lQqxNwnDX2cc0\n",
       "QdnjGhJ7fYqdJb2zbMoKnJ0j33Kp4KYraVATnqS6v2SxDvU0pp/4exVwt6wurvH3AwHCVjoeoDtl\n",
       "qv4xSikHeBSMYXUbbA/9MWBGwQAAAUtBmmRJ4Q8mUwU8P//+qZYBBqcAsAnd3Fv/9R/08BAMm2X7\n",
       "h2k5ZA5YhXnMMI2/TJYf//D+h3eVKbJ0/8AYo6b2OKybyUdynIrHr8JX872YpT+xAbI4JnNjMmUy\n",
       "oETkRM7b4fVjOz6kZPDuvffxSQI7gz1k8qlhf5QqAUT5im3lsDfM5h1F3ybkSzdEybf47fVrWOnL\n",
       "QPoj7orxLOEF5/bEX/urew9NqZV8/QJXrA087eLziY8HwjVLH+a6NHebz42lqmo5GbHNIyEAJ4UC\n",
       "nHJH5ApwHYRbFFnTCFVS6iiiWscCn793mMwqKcyKu4vpAib+3kuWpy/WWhVA83EHHKld4Y4PAIo1\n",
       "10Yldd/9BheHscCm0+eQWwatoZJhobIjGn4DyGsb+k/To4Pgatyt5d67FJ+B2yLNuhkHMFei/L8Y\n",
       "ej1Jc4AE/3GOIb2YAAAATwGeg2pDfwC6wGZPGpafzjBv8F/3nDyHR1cjdqKYpdrAd5R3My7RPfeQ\n",
       "AE3h/O70Ot7rvcrrXg626qcGO1i3y4GM+aek3WavOtdQ04EvvQ8AAABzQZqFSeEPJlMCH//+qZYB\n",
       "BYDvgApRUpOfkt7L2Lt3mTn7ZnsFNlv9PpLYpNWRTnwJ+SdAVuSByzbvDidvpoqeH2AU9/SnPj4L\n",
       "bGUqknjUGFWR2edd1TeOGsgzqmbQlsnEd1pqyDLPW8AEkqR/8KW4KKuK3QAAAJBBmqZJ4Q8mUwIf\n",
       "//6plgD6usQdQAr0IMNrrNCwMJjAB6AC41/u9SPdUDHJd4N4M5E7yMN8YDvU6YxLbX49fJ3BaZms\n",
       "7tKE3uYAAGzpoqkex0Vvht2Sb8srbPaNooWVgwYqIlSvWKfdhsn8bwM3DCsnFNd1CCvJiEBGMz+0\n",
       "LFsExEfjCjESBfUOCi8E+CWxm4EAAACbQZrHSeEPJlMCH//+qZYA+THo0AIyoGx7b3EZLJmDyKB/\n",
       "5wpmaYY0pGCfMcavJgF4t8IHXspkfXg22+B9P27SNzhmjlu3bspG8MCKeUrWieqKg1Nc3VOouCBt\n",
       "JFbYwFO5uT1d0LXbthG2H4x7vyEeCJfKr9ex1tS+jpdk9BV+AoTu0tvXHVaSdaDXaCqpXZxT7zAQ\n",
       "TNIVQ96ExokAAAByQZroSeEPJlMCH//+qZYA+bNLTqMK26oeOTwURZF7YE6cilCkB3SxeGzUAh1R\n",
       "aa8b7eAsRJR3z8KxLnPTa0n6J5UJMRa5AUhlt5eU7/+khgFl+kB1GeytjnAZK1vviTnNI65a1AIX\n",
       "z+yLFZI0UShuMF5gAAAAjUGbCUnhDyZTAh///qmWAPoF+C5WFSYjCAgOAMQA0omPhR0fnkQkwtPv\n",
       "6X9NAn49BbHFx369V9h3VHw7ts0E5j5wwKjb2sTep/ZdFPpP8qOBcP9NyAWtRm5WUNukA2QM9ccA\n",
       "ej1cqkAuibFTIljwBi93W4r+cpdgjSRH0helest7aMq70mDa+v6XvMWdUQAAAORBmypJ4Q8mUwII\n",
       "f/6qVQBBkAPSAAJbzeArrCU3XfYgBrdyQuSnvRUNStoM2v0gKPMNEOukD3DwcFLAxzSWeUFlDtms\n",
       "qV/1Ck1RXuhMXX+nRSn6nDv+cMAICkYx5UUTTZctUMkH7HGFLNADN7PrGKcUm4snLcdGeFPice95\n",
       "BqUn/ElKtUQKPplK++Am1eyqZkcyBHe2vuqpaiQdznq8t7oqucvekZ+F1nLp4LrY0LHIBDlgndSy\n",
       "DOflFV2OXPfwDu4ZCfFdjjIDGZ+8D9sDUjkONJDVr+SxWIHbXLpgHXSHHGEI5IcAAACeQZtLSeEP\n",
       "JlMCCH/+qlUAQZA5MmAB4hE3vsd/vqxI2gaJH/htkJnUwlq5ZTHmswOw2x4YXcdb2cUdFamVCOZI\n",
       "JZlRi5b6/6JbxFt2WG/o31gGV6avXoiA1rmBBEH4zNNV6P7dRsGdt6h5nMzW4ugwC6lXuUo2JPU0\n",
       "RNTcdQGJaq+5Nzb5YbIRkWyiqoZR49myYEqJZLBOEi1CWLcLPkwAAACLQZttSeEPJlMFETwQ//6q\n",
       "VQA+RNwR0XPPS/1Jhk/k5RW2d9u4qMGE3MPTHiDUYql90EW/VaHujP9q7C0B9XcMktqHFgxkPzX1\n",
       "v/rYDeitSpXlDa04yP20e7HoTyqpd+kYUK30W6434VNdB896DCggzL3+XTV0fWkSMXR18Rb7g5uK\n",
       "pwpL6gLpe/5K+AAAAEUBn4xqQ38AusBl5qUhmcvZ3L/Eoz17pDYApujusJ7XwR6Y28wU1JNxoER4\n",
       "GAOg6viyUl4w1inn6/8xyYsNyZ7bDp3K61kAAADMQZuPSeEPJlMFPBD//qpVAD5mygOQNFIKr8Nj\n",
       "duCx0o6MExtGt7kDdECewMIZrYa35mZM26JYr9ZKo0E6VsPnw/nCLyVKduNtINkDeB1JB0vmw8eD\n",
       "TWe8DcxyWPPMhMAD+M+7dvUpsuukLYCL7aQIeWPFobpTIrYGQ7qRX7zjcRQR3BTIw3q0hm/hi+WR\n",
       "cF+9EQCux3FRfTRRcDYPX44TjgMZTgZxTzjQ9Ysw49S86Ig2nd1bH+0o93ZbA28Y1VfTyb5NY918\n",
       "duBqa6r9AAAANQGfrmpDfwC6wGXkg5wa2WtpdlrvAnkg7wAIw8sVzJ/+Bujoqundng77rsAgQgmj\n",
       "2h11kViBAAAArEGbsEnhDyZTAgh//qpVAD5gyZJMK0+M5btGfzTqpZ/U+HFEushHT6a742AO2MO5\n",
       "FLuVUwXdN9BlUlPAVrBiATZVTYBHvInFhlXxsfK4Mh5eHg21WTFKZau39ToIQxoYAUuatKH0k3sH\n",
       "bIQrnTFeLyWUM/KutIADgDf2MYwS9bRVadnCeT0qKyhq/pcnljNiU15l9J4U7JGLkRAydeUJePP+\n",
       "S/Vpwcv8SzxI174AAAExQZvUSeEPJlMCCH/+qlUAPv3cWUuR9uYxkDdL087EIIymy8HLOAg1VJ3v\n",
       "nf8cHvEAJjCco9JPWjFca8zGNToYVokfAxOE8uON/SWKSOS9Acpoj3hxUInYH36K5z8ov8mfR7M9\n",
       "LHhHktRCzGXx9Z9e1kpsAgjVwNL5nKaHk3QxhrOjpKK11Lut7SzHIYr+ULMl0rQRe6fe99wz6SmB\n",
       "tDxaHSBdmmIsxZE6SabMG374X7K4s/1fdhLXCEdNFbzIYC9ONy+yLVNxB0ohGoP8nORfRP9bP0fP\n",
       "cSAAPGlCFY8wDCXzj2RKm0J3ZJnXZwR3P+TwKOxj+jsfQC+c30iFUFojzwneNgMyfxoHoS3lwKL5\n",
       "fVQpab+jmRRyTvbWfTgiF0bRjhCqCPYfeRhP2VgQTU94I0AAAABgQZ/yRRE8O/8BQEYtJMF7AIsm\n",
       "mpdsGwzp6c6U1wqVKxqGdA+OLIeXutylZt+Nh8Hb4AWF/61p4tS777z0KJNEm2bm07fPcaBz9VpH\n",
       "tbGJDSEWp0T9YK/pWjJZcSvaqIHhAAAAQQGeEXRDfwHM7o1fYn4b9E5qEplOWXMzLneGp9XBzuhx\n",
       "2TWA+NaQAhuoMXkZ6grLKxEXImq2uu5jitYT6Cg2H5BIAAAARwGeE2pDfwHN58kPqoBCQWeL4tte\n",
       "XE8cft1LjhGlAQa1QALWVmougUCjFevOaMowfTfvfK3EmWHbu+pUzIv9EJpgrwIp0VPAAAAAgkGa\n",
       "FUmoQWiZTAgh//6qVQA7lf5+YAK09j/bc/Qm+HRMHajWOw70xmuXYB9il8gYrOv8r4TwfjFKrciP\n",
       "HoZ7oO5SlErxMbxyqXFKD7vVn9W4LzaqS6EREjaMDDIkEbJ3amJC0pcSvloTwQr0bxkXVL7/yjrc\n",
       "dokhN9qv0LYyPPYBAR0AAAFjQZo4SeEKUmUwIf/+qZYA5k7/4dvm4gP+dX9th42+zxNOMiQbmD+s\n",
       "HjCWck/akRH3bCurN+imKCujfH6iUtLd4C1I3yno/TcBDKOC1FtD5+t5uptmzU9e+c4F0S/2yLoa\n",
       "L8k501WmZEkB7AyEIiEP5rNe3ehi/+umvOyGnozdm5EzVJjyEpKfvwTiYAJInu5rgP1b7l4ZPaz5\n",
       "911IXREpJz/OQLsdSw+674NP0WfVVyR3+cNiOLple7h069KGdDyGKv/hCvhlwWQ3dQhxKhi3mvpK\n",
       "CcclJclMm3V0vEDSBMK6kN954PU37+PMjq2Uv32srbmiGWcoayu0Ir3kvwW55QZQndILxZWSSA4B\n",
       "7NIwWG04ePQIeKI8osWMQIaeCzHkIRHqD3cERSBFJ3ao8EafauoOue6f8qvkx2C5/z6HsnQFwaqY\n",
       "CHNj8TTw6tLCSGlGL35I++gwPW6vfINIOPMwotbuIQAAAIJBnlZFNEw3/wHOInBSitKaNHFACauC\n",
       "Y7dKgVM7eQswkwQPHVvR1q89FLz8lcyKSs9bI5e/pv/XDiXjB8Km9MocNT1vB9PupwQT5MucR7qL\n",
       "Y9BMt1a5vn0x7JDG7c2tTkGTbAnihE1U2NpvtpDa4SeCQ7cQ1xqVioG+CIhF2ppcz3hpAAAAVgGe\n",
       "d2pDfwHN58kS64nRilFASwS+TPGqyAonnx/HMkXcgu4AL4+B7kq4JtQLtfwC5H+nc6Knjrj+J4tC\n",
       "XB+slaJtDHWauRv3ifUxw8zcNQoVfUh6SF6RAAAAhUGaeUmoQWiZTAh///6plgDaHYoqnlp3rYdt\n",
       "5Lsxi3EALeuu+b6hrx+SPMRdKDdav6fhFdiTKcQ2DT7OH4b4+xMHmwnhkKJx7frZdQztT+q2oeWJ\n",
       "oS75cxSIrumKzv3hChZtZE9OdzPwfSpmSf9ZQBTXEiMy/0xAHWzUaFXx7I4NzxZIZTgAAAB+QZqa\n",
       "SeEKUmUwIIf//qpVADjrgzbAAD+ifrgUgjDCGbK22uF0k1XYhfYpfFcr/XXKipjAYgzEpkgisecr\n",
       "HszmBupj4shllERPWNbdtJnympD7SdpF1Ux0Q3Crvr1gY6sEeGfzhsIfU9FUG1OyNyo58n/yPyCU\n",
       "JiMj6wC/bpHBAAAAjUGau0nhDomUwIIf/qpVADkRPviO90gBNEbNVvYucq48GhsrrPO3CpCJnX2C\n",
       "83speL2I9biVRbEWjTpRxc/MD8xvTs2sqVpVETCEuCofGzLQ53RCv9MW3Bd0N0WPFxPGmvqBKa+a\n",
       "OfGMOf2R8DxqEZVlrAtTKviA1Wi6wvhObrDWC8p3z4MnjkWrficUngAAASVBmt1J4Q8mUwURPBD/\n",
       "/qpVADkRB5HMAEPapQ0bzmUmNxvaIUoOHl7/Z5KkK/j4UrFYrlJoUk1Io6koE7CNGEMllAjw40xt\n",
       "VVJ0h4ac27lAOYUA1Xx6n+Qfjkb23b7M6vXqe/2TtcQJuG/l4tOOl8Xm+qWkgRkwlKWuWZjoTCAn\n",
       "7maAFIYE/8UgWhY3cKU+uQe+QkhtRB4sLUSfPPHhCB2s2rqNiNoFRIlOF1HxXwXFKs/Ot26w1MPU\n",
       "nmwTJHkYC3cjkmi6c2Iii7BM6Bzxkela51VUjNskKgaIX6WBxWd5ZS70sq/vXhHdZlyBnsv5T4Qx\n",
       "8VssEQbvTB1Xw3By+ltnRrfRcpICaR9m3uNR76AvtPq4SDV4zPumGS61QHr33ASUPP92aQAAAGUB\n",
       "nvxqQ38AusBljaLsAJq+btIUYaLSr6peq3PH1M/ncEi/fawEE86bqf5OgG/t8U32LvQbx/SRkujp\n",
       "nAuKBRV2la6FLuIK9edKKBzxoq/qqTHuupShIWYK+GPlDbHbqFwhArxbEQAAAOhBmv5J4Q8mUwII\n",
       "f/6qVQA5JYy4NAD/o1jPzscgwT+T8HmkplNGfWLff0nGDgDpvF/L+EmUi3HfB4nrZpjkhDp/dL9g\n",
       "TqA/wPumr+UkZv1XT6F0SMKy+iImqqqhtnrAEhv7UQ2oL12Jy/poNGWsyv2q6TFveEcfbEwh6+lX\n",
       "ri5FPU2HOMwesLcR9vL6GjL2fkO1ufwORaepqhzP/3vlyIwIkoXFOUrwfkLy7ayn2q74sJZEcZrv\n",
       "clP6/6T4KmVzy+JuGuxyV19qJrtqZs21noNhrhK0PKzv0k8fww/95JQS76MHsAB9/UiAAAAAkkGb\n",
       "AEnhDyZTBRE8EP/+qlUANpMYIR1MktJgygAAdcFf7muX86Lf+PEAQrduQiaUP0cqE2jnL0/+p3Dp\n",
       "4FQYeTqAFKZW46ndh6FIhd+oKhMYCI7QaS4ZjMruzRjreVy28tcPBWa347NgFltGhAM+1loqrxA4\n",
       "mb2wGqpai0HkOww86ZFa5EJEiCttMDAFO1Z6IUrgAAAAVAGfP2pDfwC6wGVriU8NIAP1+1Ysw7tf\n",
       "Wlt6f9ZgTtLB12piOXclZA+Jl85pv3oBzHuqVMyHcTcaHwVdRvw566pNPVXOOY4912JfjtGkCgEI\n",
       "Xul7ZQAAAMRBmyFJ4Q8mUwIIf/6qVQA23l43BMAAFy9C7BbG1d/qYWx3nUN2NMEv/npZUYoHqHhE\n",
       "zv7f1BlDaJJmk5dK+affOLsSlPjwAApqdPmJzCANwwpoFvI/baeSyiblQhwpIIQdMgJMD4T7Cb7f\n",
       "xobCpvnk0o2gaWZplBnH2Wth7U3kEAzXP6Ynyi+p0JFDwyVggqSypiEYkQ16zrUoxVx+Ad/lshui\n",
       "ICUUY1nRymAB5mxSUrQLyLX9J3xIqg7ftsP3EnYdExi4AAAA30GbQ0nhDyZTBRE8EP/+qlUANquA\n",
       "EJ8ABRr6onGoT1GTnufQXPYfzALTmuRdS7Rz2oaIkW8pee1X4PKfOPooQbqJ5KF7h8SStxmW1Sfm\n",
       "xuW4uz+9dXdTYmP+CsHemXrBXV/GYABZlb6/nP/fNuZplPUZeKjH5wSVxQXfup0QZkdyMzSMjDUg\n",
       "UBDVvq4iiXeE6yLPyEbJfY274gWJtJ51zB38ri4P4gVmYd3ggCkdI7wFBWYS+IjlpYGzk1xotY19\n",
       "5PWlCRykz88mRhHzYjjH/IMKrDbQS6YaCO+SFZI8HOEAAABRAZ9iakN/ALrAZVmiDdJfq+Mt8FFh\n",
       "9zmAaEgcddGUJ0Kbq8uQqnt/OUKABcgEr04uryUHyObn+ngx0fRgsWCQtvQVAaLmoeg0qHk941ji\n",
       "suaPAAAA8kGbZUnhDyZTBTw///6plgDT2c/gIp6XAmdZ9b1/MJ+Ajpr13n/PuriFM7uenwplcFGK\n",
       "5m6/VJOHPk0mBLv3KfZhfaR4efFwnMl81fDOmVZzpQTC9uLDWZpHFmHn5GjunVB2nXjtuW52GSOD\n",
       "Ar9hHmcEbswdUDBpG6rDRmsWTNVsOctVLKFMmiqaDoG/WvdXx7SI6HUZ6zP5oxjawuo3gjVFyhTB\n",
       "0VOkgawEKlamB6lOx98mtZnyERDkSocIavBAnZN2C/ykwewQTo1qVbhhMNHIK9DY57pS820vSmUz\n",
       "OhbJKICyaBN5D3ZkgyGfgOv+jnDvAAAAPAGfhGpDfwC6wGVqcSxkKwcwwJtSVN/DI+OCq95t9dom\n",
       "yV4kYAh5dS5nBgteP1WVsXaChk26IntWXV2FcQAAAIRBm4ZJ4Q8mUwIIf/6qVQA0eL2UBgAnQoPe\n",
       "vNfxp5pfS/MvTGe5dgHvin+99gjfRrqdkOP2OuYw+yh94+31aLL1fJdd7pmksvJo7+eiy+j78mZe\n",
       "Fz9RJTVxyhFSH5nkRFL5SxhkuGDFqR1QIcVyyNpwXfX6yXKdNJ5m25IqQmie6LySyCcAAADOQZun\n",
       "SeEPJlMCCH/+qlUANLf+UrrYBgAnV63gKhFs88zFc23PsGhxKPH/hVpX4TRJT1NMpWV2Z9Ql5E/A\n",
       "Ils2N612Vvp0Sps/DsKYIulEf9IWWGc4Qv6+GNQnwTJIO50rkremxr3HjvBznu41Vc+R7nhaS6U4\n",
       "tGL+AnfkkuG1YXGgYyFcKMA9T2gOuHJVA1VPVCCIh8H5fOeulpJjkdH9nBABY1cRzWRnF+pr/pkI\n",
       "WlpQL95fDn/B6UIVUXU9EBWZWNARP0Asl7uWoQem+l8AAADfQZvJSeEPJlMFETwQ//6qVQA0xk8F\n",
       "VqAD8ucLtF6gnD4ztEKjHEg6N8Kpgucxaq164sr4B0kyJTF05oVKZimj5XeJdCB+RQljIDfl/xoJ\n",
       "SRx85PspIJ4mwao+6IgHPZOAdHMVmKt67NQ0aPtWZ6gnBimdpJ862JKG5/sbt9AHmM1du2+5RWH/\n",
       "EvPWrp+J9CQcrG+d+DP74u4qPb0kZQYvMz1Tule0rZe5YBhX9+RqaMWPvrfzAj7v9wj9dwkRsu+c\n",
       "CbzPAfpBZWRANGzqGMypOyR6PwAk7GxwcLQ4Rsgw4AAAAGEBn+hqQ38AusBlODTWdROrNGkhiTyg\n",
       "uN+xqAIw8sP2Qr40yHjk8yUPcnIhPGGmy8qgobObfklQemFhtcWHz8dWxOOBOgoeF6FmWKq5xd3v\n",
       "bdkODGmZPEnw0MuZnnNkt034AAABHEGb60nhDyZTBTwQ//6qVQA0mJ1wjABGf2PFss1Jv57h74OZ\n",
       "q/FYBdP+MhdYuvB64356Ke0+5dnMot7eDrfiL3mLaIdTDdeUTg7O8uOf8hJXjICeB16Q4LcDeZJE\n",
       "e/cSugYczA5Z1UJa8AvpS4ykQJDLrmqt8pKPofPyhVbZ13RUng8yOQSH6w5/ww1+GY7d7e+cQ6bm\n",
       "L2gG+rWnP+9C/DxBn/HbWwjmjrj7fuCFbi8zaghW2EktadqDkpFq1JzK0tEp/XFRK49aH31nDN5O\n",
       "ReT9miru+V9YDoWDLibhN0vpGVecLBlji2M0McNxWiZlkBFH5uDW0Pgl029xThnWCKHRLpazQb9k\n",
       "pyhW8hU3rZicqrGiC33KEK8388bXAAAANQGeCmpDfwC6wGVIyCc0Ny6taSi+C1nha9LACJow66c+\n",
       "MMtwC5f3PrKIb0Dzna5wE8uuR9fgAAAAuEGaDUnhDyZTBTwQ//6qVQAyfpQQ9FL1z3VGf7FIoSUi\n",
       "cLG/LAAFaqg++/XHL3calCHCBAMCJUVwA/QlFbU6ahg5MEe68pLLlb7B7a4eTHK4stvrY6k6fN6D\n",
       "jjaySyx31PpZbgDgDeruQurLm6rMr1UtCC9w/kuNla0ceWMDxBR5xmAu53APJIjukJIk+HyHlKd3\n",
       "iuZ4vVeo5/1RXXcgvxSTu72iZ1xURHASHuFPn86042Sk6EYoWmkAAABkAZ4sakN/ALrAZShqXlx8\n",
       "67MFeUR6I1CCJRsbZcyABa2Gm/ThgIqB1kKtHl/WJUf3YYttiEZScttE24hxexDJPcDiKPTyNKxO\n",
       "zYnlREC/P3re0ZPeOYFre1d86ChrciPtzuVU0wAAAItBmi5J4Q8mUwIIf/6qVQAyflxj0UvXPdUZ\n",
       "/sUlSEAfEkab3PSLbH6VfAEZHqqw3X7nTPFQ7IfA8HbvcnK0I7PZvzS89vrNEiP8lweIB/+oW9BX\n",
       "69WdBJt3rsF7BKgNolv2XhVljNZgR3Exy2SLijog+Vh3x1zYhvtrxw3IxS4DP1tFAjoGzYkmyfgp\n",
       "AAABE0GaUEnhDyZTBRE8EP/+qlUAMn6YAPRS9c91Rn8z3zqTz7IIKwAdsYZKCPRskMC2vV2qolWq\n",
       "kR8Cgu4C4SY0Jp9awTn+sdElKtUQCx2QqjWHYiT0rM4vHilgByrQGjxbzGRF73TB2ZeL7oYVmdc1\n",
       "LSpkvGw3UBBqd+mMYezP2TbjC09awU6BfHFBcxPSupwfitgM+H41KqwF2oUcX4RcJ0RXr8ADf/e4\n",
       "X93wQMtbUsuWgPodZk/S8Gi6jiBc8cxc0pzo7KG0SVa1wVqfl+gfpuLuLzL4+BqUva/rWfUqiPrc\n",
       "v+aNgXtwm4stemnfftkfNJbxzXy7DaFy9V87nBVMDdGLtAh3vfgbRFP8VDTV9WhCGD5pAAAAVQGe\n",
       "b2pDfwC6wGUpu04Z9zddWAgBFQEOyojrSjYy7uZ7YVqO2pWpvqQgmXA8V+KWihNv9r8JKSbRgnfu\n",
       "Kcix2tzr634V5XzIwKZFC44wh+EimBCd5twAAAEAQZpzSeEPJlMCH//+qZYAxHrRQD4bauCemvyB\n",
       "VavHj+Ys49cY8rIWp9KgCG7dZhWVYDcjz+44d1q7GLJt2vtAxlqlMX0Vltn/InizyJgO0MwWgd/L\n",
       "fh5/pYCJs7wf8O8OXahgM3A4dBMb9HsV1WR+3/GGbyC6OvnhYBnL7O8oc2Em2H4vIt+Kpcu1Nx7Q\n",
       "/qz/u4NdumHaJWP8KrHJLgXqlPpfGGuOoWWuqDWCYSybfDZyJON6vT5vWBVRrc430xLRfpUFdihE\n",
       "OOjCEtD1dOGIfPXqvBtKyBPqn4fSWmEYRybcpAKTRyoJoLZZ6JsTWJRdtQPwSBJOzgLRYfR9JkKZ\n",
       "EAAAAFFBnpFFETw3/wC6wGUoxjMFQ+Hj8uL8XTGnTr0DTuJe694SppWBe3kAOLWW4Hu2QT8tNb1L\n",
       "qmT2gtFKRyHOrtEznK1j8trJnEXccdxW8/cSc1EAAABCAZ6yakN/AH9UA40fvd7fm6/kvIayBLZv\n",
       "22AAnNSiNAGpz0fP6CncjtGPf5Q+s46nZdB3aVSX99KQuWpsHNFF5GdUAAAAnkGatEmoQWiZTAgh\n",
       "//6qVQAwtXaVppeloQMoAAHStU4QWo2IAF5joWT093ddPxS1DXofNlsZ0NIvIbEgMxk6DF+gVyZf\n",
       "I035z7jdlLi5cOM9q+EPaxcF84P97J5qZaPAA73GjSaj7VQehLSxvF9DE9FVfUISk2H3+uLRwReW\n",
       "+K2QVVn/gqEUxQruOn3ihGcaYgMPiko16fngb6MjnGnYAAAAfUGa1UnhClJlMCCH//6qVQAwrWwj\n",
       "0UvXPdUZ/sUlHjGPBwBJQMpCF38povRkIw0xQAQ2bhSAtiexgtQ12KtI+7NVfupFLjzQ78fwU6mE\n",
       "zuvFbqRlNV9KOHJRnmVkhtvUHiIs5RD1J3eDBFmyHc8g+1dsbIef8j+iz/6f4OixAAABCkGa90nh\n",
       "DomUwU0TBD/+qlUAMRvCoJK9YbOJm58onnA6SbIRaKuY0hp/2cPNwxpCDRYYl4FBbeoOhQKDQdxq\n",
       "Z1Y+0mK/GfG4QVRyB7C2yOH0MKMMICMqrGUkh0zYz8jVnc7OZUOX+MxTeglSH+V6Tnkj7VydcdvV\n",
       "VN3thv55BOYV1OZXwif00K+yaAreqDLqk+WdRmh6CegQhx+evl8oTvzB5Q3nGH1XxQ6Iq820TO/+\n",
       "zkSWfH3tcXXi8AP9adFMX+gjcvB5JnAI+mPzJsJZUrwsuHf/UpzWJlhH0eOBPxAj4V8wuiEtAyzC\n",
       "4cH2RgiuP0Aq8gcIWRtfuXA4ckiei70FKlBbvF8jjlwhAAAAUgGfFmpDfwC6wGUKQcvULPesUxDH\n",
       "eBWIgonQbw7bcuUWAEzC15dzmUHmsR7tq7IwCEXry+ksOAMOgwBZd0/mMa4mghcNVKfN5Bi8tBYT\n",
       "m8Ze2mEAAADQQZsaSeEPJlMCH//+qZYAthMNqvDShEEbiO18h6fQ3z/+F3QAoCBe/NqWCrgw7wcC\n",
       "4dDv3Wfz41FF7NytruHS45wrtPqRuwhijYYxFVw2PvKm0gawv+1xnl4aktTSpw0pTbOKykpW4fHH\n",
       "cNKUYZBMEhs79+Cy3Ahhituzd0SzgUMzQHwfrqF8IXtPf+/HAQhqBrDRpCox5vK+KcQKo0WQCg7j\n",
       "Kn+2NMoAOYCICGrKFrjk9FcVoSu8+br9eIGUcg/QJPU6UQ5XFrCoYtO+EmAP+wAAAD1BnzhFETw3\n",
       "/wC6wGTxTLMCw8B21Qw0OSqtTRP8JVZIAapAAM1YVkPI7Wlvuf5W2QQY4CYDYiy5ZhPwpj2TAAAA\n",
       "WAGfWWpDfwB8BvUbh3IlTCAcpDKAqHAAFx9G2y9Ym5ywpeBoR9eyFEdBKURuAzJ6KLkfy4t82VtU\n",
       "Jgawx0h5vnJAihXVvY8Qg/smEYPXTsliO1ywEF1h2jMAAABlQZtbSahBaJlMCH///qmWALYsJtyY\n",
       "4djm0fPrXQBAi7tIBm5dWf2Di6+dkKPaNDQXm9KpBRRMimzy3qGTLvJY85H1RNYFyPvqJh9k6Cw3\n",
       "ATsfsZKs5A76q7JVRSJZyGzkCBqZJjgAAADMQZt8SeEKUmUwIf/+qZYAthPJ3aMtUExJaIx775u9\n",
       "Vlk/iAohkapvIXIJSsk/mdux4f6WOSqu+3o7qhMjtZOdMtE9SvIyYIL4JTvttHV7pKz+JsVv0rX3\n",
       "gRB/TlG3w/UNoDh0NIej1bP/P6sXXLZFp+D7kf1rz8LCoHsOoZI5rwdBzMmZ6phY3UkJsUtebOXm\n",
       "NjN3NMyo+tmsOGJhlXlllZFXH1MG9al2lKB+NnA+oFpk1UCZs/ozqAgFg20c8hYCDnMfXZ8Mlspo\n",
       "G2CJAAAAvkGbnUnhDomUwIIf/qpVAC8LEhR6pVwt/dUZ/sXD7Yyl8Tur5634HeWbKfZaOHcDTsfq\n",
       "J3gpn2bE97FIAnrnQE7+9P11fSfql3E7sOOHDA5xmW8MXhGHbGGJ4SuADIsO+5rKU7nzuBuS8HZK\n",
       "fBbgF0Uc+Z4OzCbdA7Njr7yje411QJj4GY/3e8e2q/e/mNds/UyWIElMfxhSQ3UZlrdiWnbYeAxY\n",
       "9bNNu3airtV00PkbNhLY7RGMfMST12G16jkAAADrQZu/SeEPJlMFETw///6plgCwkr868NKEQRuI\n",
       "7cXtLFhoF93KWiiVj353/4OOX6o21hv8R2biubmIYzxX/3JAz5swsonPIjVHNkJ9RslhY2CjSSN/\n",
       "n0DDldI0TgvD7ryq0tf/nwPWhXY03r9f5R0Jx8fnuIxMUQW25UdJh8Cdp7gTdHIjufUzfV/Djr0d\n",
       "cgepm2v95C/73WkS+XNeuhsQLIWaEHhQiJnN/YD9v76N9Ribfu/Gr+5G5WwUKQMIB+c3jzk0K2GH\n",
       "7egwQHW11bHuKbMe5HecGA9SSwKHaSm1ACeGehSYZLdaapS0cAAAAD4Bn95qQ38AusBk2D6MmRby\n",
       "qjFQ5an8svYl9gKAAa7b1ySqDHGmRqpHnznCZ387j4fXdEmp0jXkhh8yj2YESgAAAHBBm8BJ4Q8m\n",
       "UwIf//6plgCwkiBLw0oRBG4jtxd8XDu2rm9T+QAcxJXVBI3g9j0KXqiZ8zTq3LgA/+f+iFhqpj6n\n",
       "AIE43vRE/PVEYnZQNUUE8iSdpL4zEMl9ecXSlYWsVFepgnEfXqHipyO8TbuDWP51AAAAtUGb4Unh\n",
       "DyZTAgh//qpVAC2NpfmapVwt/dUZ/M8mPMUFO9a0pUtQo8iTRvjdxvE608wvakwujG8RCWsXOQzE\n",
       "zheu4eMAPXqQdqi/sHSxr27Z9isne4dmie2DNush86xjoFOrEg7dnZuj+RWwOSFe8IY/F8OaKhuZ\n",
       "6EF0jLd73dCCj7d9aDwmoiwFl0TzNx/YMu/e7UfeP8CEkqdEpwLzC/Wnfaqd2bUAnU5SA7bVLyjg\n",
       "13+xXqYAAAD0QZoDSeEPJlMFETw///6plgCwkscS8NKEQRuI7W3ks436FC8iV32XFgjGVMr8/Hsd\n",
       "rxVMniWRVwwr3uv/qBUIWGZc1AtiIgSYH5oimvUpp6ajIVtnFJDlSPqWifsRUHcdVcJYiDqtiNbv\n",
       "r/pek7KmT3yF8No05v6hPmRNMmLqDAF94E5IHKF5toJ0dVWltxV3mVkzSMxh2bIyYswQ6Rc4sM+D\n",
       "ABz2QuKvJfPShY576uHvNQ/Pc/C3iMBeKfGSDPdaISJ0RALQstJL3lV+HNI5Ne/AE6sfimSVNCCK\n",
       "m4ANl1vBlfq+pE/Yhfi5EPJs+zH/d82gwQAAAEUBniJqQ38AusBk2E/18S3lVGKilsfSzXRJVmH3\n",
       "gAEod9c3/aFP/SxVtKh3S7t+4iBvNtjX4wCW6gBN/sYRQ6i0/+vKsjAAAACvQZokSeEPJlMCH//+\n",
       "qZYAsfxhHiBMpRj/CU1YrSQqkrtGzy9AUie1xMOi2Rbv/KozN1u1F0zLDr09NFJuQ5nEehH6U+W3\n",
       "6EpGN/AueE9XLJb+DnJxSftSvoGV2LiprFSMVsieNl6V5xQI5Gv6Ptnpvrd2TYoR0qqWIXIZkiw8\n",
       "cQKAI6jmmK/S0USPdoJti7kP9/IeGH8E2N1Acd2cfmBtHuGC1xuhnxFTmf5LXj8M5QAAAFlBmkVJ\n",
       "4Q8mUwIIf/6qVQAsJhtKpVwt/dUZ/NDG/ROACaHBDhKwik8FWUGNHhVkfh7VMhezxWBHi+4ANn4a\n",
       "M8Upv0sL8QljNK4RNsZaPZ7anYE1PPLxUV4JgQAAAINBmmZJ4Q8mUwIIf/6qVQAsJbk1Uq4W/uqM\n",
       "/tlPeLMAEt1e3IzX03JnJcroT6Uts5FWntheRtFzWQPbJzxelzM48I2jzRnUGBQF/KDu+PWHRNXX\n",
       "wGimOfw7a+o0LtJukC44EVrbPftjW6Umbrc1vYJaRWQLX2LJ7iTu1rM/rRQJ7TqcgQAAAGlBmodJ\n",
       "4Q8mUwII//61KoAWEu9VY0w+ZB3XqEK6a/PAPrvP9zNwAOuPub18PGwHClgTpVE6lpXksZB9ktrv\n",
       "fHUk+igOc1o4eAr0eA5rT3keWkhvy+ezHuyT8hGxW7d/d4rdjXN/BzbNAbMAAAFMQZqqSeEPJlMC\n",
       "CH/+qlUALH8cuFXYfoq9/WguviFfyckGF4brggGi79+aq6nb81iUtXPmk2Z5vUFQmf2DAG3vt7HI\n",
       "acyBqQGHJhmNoqgCvWXi3LIE/C/CuPbFKROxFPv3OJMXYQ0TSnNh2o0nEJjWmVW+6WPtyy/YfTaQ\n",
       "JlxAotlU47tYpU94Ucv8yH67rnZPkfLKrQJewRW3dTGGLdTaLzmzGxNGIWYllIu1x30InVODbk0p\n",
       "RCEizKFFAMy90rMe3PnUW+V96G6K0ogkQsCM3RwPVjb+/nYUGh/NHfM9FdzW+u7cAq+RN/p7qSBi\n",
       "cKxJXOZ1azJh+lcb3KTG1xqgQG3Fi0ageVJE29GzniuttBDf4sBNBcN34CffRk7Gx+lrrG8mzCpy\n",
       "GwQvBbgpcTnaN/sjiMMWuyExW0M394LGpWup8U5Iy3uCj2xdrBMAAABXQZ7IRRE8N/8AusBkwiIB\n",
       "S6Ll2qo0DLB7XpFnV86EUmBtJWd83u3SzCzACwcqsNdASIpOES59zBNwel1NST5mXw5yGYBnCmro\n",
       "Gv1XD+kqYg5I//WBSXOAAAAAXwGe6WpDfwB2k6spd/GHNmZLbZFPuW3DXjAS1h3QATkUNm14l+jC\n",
       "WT+1pQ0rKL3uozulmUqknOTonketFTbfWUK9dkf1DT+w3S4eekXHaiEs54aRbIYzR6ANbeeriNzp\n",
       "AAABAEGa7kmoQWiZTAgh//6qVQAqxfthVXLhb+6nq7oOi6YSHF3Xs0dfu4F5qfBJNU/Bjh7j35Gg\n",
       "DLJ1z2T9QVCXUCQabwb2L0alN6C1Tkn9NYNT2izOM6/+djMy3xpQqA7vYWFafMvUCyMCjKWMbm3v\n",
       "Dzsa7balF/e1QPc+a3GQWI6FdRjuHFHv3mKIaUhFnWJKgyB2R0QmHOv8if+8Boqd6IAdqaKHZrVq\n",
       "2WQBNtwlRL8xOAp3fYJsiQs6G1DF0M42ayGJ7JUAmlvMu9skRqCNvGLuoUrelkQ/HMLQCDxnaYYH\n",
       "qtUBUX+w6dfyeCLVSBEoSGgywrDi8wYW/09X+bLhbWwAAABpQZ8MRREsO/8BQEYtJMGCpO4Ksd27\n",
       "gCkZJMoiD80+g/xdpFNvZ1saYAVndmwAH8hhDkxn8hf9nepFfo5UezrEw7WsPlGXc/wp+rIkczAU\n",
       "cXSYdxxZ6nxujL3Mdbq1jQxN/lZQ9FdcKhlUAAAATgGfK3RDfwHM7o1e/S9B23esnGvJ19P1LscN\n",
       "NNEevYkAI+OlooHKrXg0idwxo39QwxwPu+dJRW0U77otLw/eU25z2PsmpVPRDwXsmnOyoQAAADQB\n",
       "ny1qQ38BzefJD3zaAglus93szigANFghBdqRiR/MKsxM6xuXXSqCqUPAkcCe1RowclwpAAAAn0Gb\n",
       "L0moQWyZTAgh//6qVQAqy45g6uXC391Rn8t+70tkVc8DAKIUzSCoigf6+NPPdj3EV+E2RlnXgCDE\n",
       "YfpTgqmv09JClpGlfsBTOqDaKVrv4kJXwC2ryyRsC3pncU6ROcfBBmzKngHTL14GdGxA+Ckl1hl9\n",
       "d3WQrKZaZYvu/LGybI21irStZFINyPHD49691ag2IaYXrGvPVeRjqamgkwAAAMpBm1BJ4QpSZTAg\n",
       "h//+qlUAKx8dCMBqnoKPqUgdInYGR9dFeBifN7cqKrM9ISAIsdSbpEMNGKbOef67H5+ljavM425B\n",
       "/rZxLMNL9mZ/jm2hDFPh4PhVUcTtYq/S92NJ4RV6Px0Lbz7zj2ETZrUQrok0Y1sdBbJJGJIohi1H\n",
       "p/jAHLKingl7ZcpFo11tow32IF2l5y/O8NA937BmqaRXDy6eTtTxiNNP5qLI2WyqhQpLZYEXQK1C\n",
       "ur3LaMpzYehPfycUwfIKgmN+6GHQAAABLUGbc0nhDomUwIIf/qpVAClymdQVy4W/uqM/zDL/eaMB\n",
       "AHNKprVEtLimHr8iSrobgZhBZSL9F9Sh+4wD5gn4vuJ3sN7J1odJwqnaRFjUKQ0hpdrTy7mGI8oR\n",
       "fZDzODyX7cqgt/tFUa37nW65g5XZ/HK2HWipEDzwduP0+h3cMn1OxSCZ+Bef8cAitvKeps2ILAGc\n",
       "GK6AxK9Gdftq6ofUVKn1Tmox8ZuCaBXitKt/1dYixcT2BpxoJrMDCkpgxjHu4LIxPh8FN0x9j+sA\n",
       "HDaX5+o6pqFPsSV+j1ePnB2nuxYRhg2/Lb+nHfBFGpvsYJLjTPq6ZMDD3IRzGN5fK30VMqqPbWp9\n",
       "J7kybNibb704NEtnoDvT3Ohnl85Ify58YbjUV0xsTWpfcbr5XhphsYAAAABLQZ+RRRE8N/8BziJw\n",
       "UorSkOFvKfTm+/S7W8iK5Su7bBTy1P25ogA4Yk0Ac2dGESaw0D7rEOoWSpDH3HsVIUOPHRVHJ8Gz\n",
       "ZdBxnweBAAAAZwGfsmpDfwHN58kPep3iCV3Uhs99duC9p7sACaDTHJAZikQDUR7HuuJvVhn5swe7\n",
       "Ger4ap8NZLB/pfHyea1qyuzPafRAYC//ac5Gggu49hF6m+ZXxCkcyf+GlcPAPWyFb8sCvQp5fKoA\n",
       "AAC0QZu0SahBaJlMCCH//qpVAClybvBXLhb+6oz+WiCEPumVilyohXNIAWGFkTXNVWuY8zeJdQnz\n",
       "lLwMsX64rkY3PZtJovldlebW737FaAfbCtZzUtYtnPCZa6cCInSR9oM7C1QG0UHMX5zFXfAQoaCY\n",
       "cvNjZ2scTCxz/AolBmzXNgOC9jfhJO9GcZYTU/zPlJwJXWIS4n34xdODg/BdrsTBDpS2Cp5D5dMR\n",
       "9mazRHJ3oZm75blAAAABU0Gb10nhClJlMCCH//6qVQApvxy6n1EAE6vWpJs1fZNha/hwpz/Apa94\n",
       "y7OPnTYblvb4ipZbcQuOghqU5j9H3NTR8gONkPjIKjV5zpiZePA4OZaIT5ZxMwlzvOzlf/jCn9I4\n",
       "outlbXSrsFNM64RC9ijirZrIof5KloOXbGXYx1oxOrpFs6qaVMQfRAoly3XXDIRetZG71Q4x+mHF\n",
       "KqxHkcq50ceuynVoa3tMDEfe6zXcKigKCs83JXZLXbZKBcjeiKWnouocCylIL5EjiWkjcEHiYaxz\n",
       "sa+M126Q5gPkF2dhOMyONlBx4dnfAAfsPExV72c+TUuAv5v2H+E0pL+N3JYJj37DLGP6jl26v607\n",
       "M/P/wZwPQlC9cjHx6f6aPlSDydr/AKYOKfrfz5ewDCq6KO0a2OlXS0sByXj7kR8EYQuHuE2eF5cf\n",
       "50iQNIo/vvMb3DZMmQAAAGxBn/VFNEw3/wHOInBSitKQ4WWXcGEBva2SO2VYh7xt/lwAWtokkhaO\n",
       "KjaIGvUbT45zW5SEkVLBbeWlS/CEL/cmXXgQTaB17Jc1PLv0H7L4gNmzZE0JnjixK3yXL4XmCPCI\n",
       "EYfXGmi/KPKQOAgAAABQAZ4WakN/Ac3nyQ96xgOlm2jHVypNIxOhgZrGABOMZYYVxquriEI+unwb\n",
       "ti6gSC25L98DM7hXIPtDsr9+vFUtqr1S/t2B+zYsgrPTeWa+ioUAAACgQZoZSahBaJlMFPBD//6q\n",
       "VQAoMo4cFcuFv7qS9jLXFVYCi4ACccDuy/EvYdACzmxuHvcugaJG0Dy1MsCn6ref1web3ri9GtMj\n",
       "A6zX2V8MSLmZcC51piLtcVUnQPBBcVe4k2FOQLfhKmthBn+HsXpOBB999FiwC58JmcQ+Zoj/DyKw\n",
       "AEQ0RBEE4c/bLNYey3YbqcSFSuGlpab7aGmODSagIQAAAEwBnjhqQ38BzmBENL3rE/sSfwc+Vwc9\n",
       "Dme7EABav/66WGChKxD1Hn/mLiZ/eG9bGcF2k7JfTDtqgFP8Fq6vTA8laxteZ549wu/4JM/gAAAA\n",
       "l0GaOknhClJlMCCP//61KoAUGjaHVYiwYoHJ6tQGU+LlOqwpMz2Wr5y3gE8lCapHLZH0SHC315xK\n",
       "tkKq8hRAZf611/YwOk/BM1DI6f042PAe89qrnA2VnVINmJ5U3Xy+3xM+EExf0R51pUFHnASor1JZ\n",
       "Y4pjR9LvTx0xbGFz+KdDAb5Xj8iFO+W+VwUCCP4kD/pi8tdXSscAAADqQZpdSeEOiZTAgj/+tSqA\n",
       "FD+fxSFR5+rDaPEdUJqyWBgH7PbISOlMK0MBeljY/2+ji7UuEadzCweE39ukalS1SdyF/JRmtmaV\n",
       "lvaF+Qy40F0MVFD+RNisFY48I2y1icGmzXJFsAGQlU5zEpNzfxL4wv2OWXy7lwFwJiTb7Z0uIPIF\n",
       "B/4HUNS68eo5jnX/9DKPWTBvRbJtqnPXK8+11k21qSxSAZwjbtvdQGrr+EKLcywbXLGDePH1A/gn\n",
       "d9Z6gHhPQdUb4hsQaYT3DuQh1DQMV0E3uHoiFvjqzPUavP158BWfNp0jYevM87L+AAAASEGee0UR\n",
       "PDf/Ac4icFKK0pBhZc/ITlbsumxXsE9gBXDd1tQvsqmpZgHrPsVsMtwWfY2b6vk6Pkeoi2IdjnWf\n",
       "8zyibwNjQzUzdQAAAEwBnpxqQ38BzefJD3agfI4r+y+C/+RymAD+Cw5aAA9jjolPEP29Fh+RvdEA\n",
       "cNK5xy8SE0vaWwCoWbDrcn3xm7MNtR0l5xfHsF3B0YFxAAAApEGagEmoQWiZTAgj//61KoAThnSY\n",
       "i1h8yDuyyuvoBCPpWUKrBZgPw0g0XCxMfTPgicvgEbB3URf5fNlXSQJdoc+HFXS8U1alg9MioXdU\n",
       "fPk14mEbVWxekmfmhVA8cF0pGq+Ke4XyjLIB9xjV/sumEm0wTi04RRgC5J8gI34y7HgOiS0IpeeP\n",
       "EYBQT00Nn+ICsdKvansj7w/+5fL98vHlqzv2zlJAAAAATEGevkURLDf/Ac5gRDS96xLXJSUZAYS8\n",
       "v81yoIPiABF4Q1U/8mqXydtCDBAvfVxhJhCJcK9gmgct6FzLbc4e75uvQ/mZLKAtLNy1lNwAAABK\n",
       "AZ7fakN/Ac3nyQ9ynjUJXdSG7qeVf/QALpK/LNSW6VpbIW3GrcBAPBOcq4l0w9FanYjBSlPeMzAg\n",
       "GIsf7L6iiEDw8g/g9+1/DlcAAAGPQZrESahBbJlMCCP//rUqgBOfv8IRTZoe1X1w/jyJa65kY4K7\n",
       "VqyxCLn6XXVbfYCDkw7cTnupes394ED7WKjgOriERJSxbqMvbA0rEdDQpdN5Zh2gIG9hhlIx61G3\n",
       "MPFMfTDc7eUisGiPz2b/RHlsyJVHB9dkLCOCea1kB3YOEipCwTJ00SajAvxUDNBkdhvDtV7+VyNo\n",
       "s1LZHU824Ww7Un6LgRPmR8rePt/kWKUIEVFQui2eAsp652Lwbi1Wg+ojkhhjq91Ehise+vdBK3Eh\n",
       "erFl9w1yZDfLv80fWOO5VcBKfoH4Vslpsk87qFZzGEFi8bA6vz2WhXAQwvFJDKrKhIJLXoHZwQZu\n",
       "6mx+8/UTjWbWIn76jn8r62LgoZbE5VpqsEyGXKzz6NhFuTwArSRjnxZ51GhJJSu79qbhaliZ4VSF\n",
       "c0qLme4b4Rjk1NZr+/H7LSQQHDKYf0j5KWuzupPJbgVcP/cYigkqNm9EyqR80sYTxOW9auvADI6m\n",
       "8Wzwoow3hEoTubHsLPJdqrqZWDckAAAAg0Ge4kUVLDv/AUx08GioeCy0qeeqRdIE6wHwt+r8lLYA\n",
       "iwLwaxzzlGZnwk3qm/PtOF3fpUGDc0MCj1/a6+lLHOzjpb+ypkoHLu4cPtPL4+M/i2r9ePMfnvEZ\n",
       "8mDmQX744cfqNyPTUawgpirNY3iVmYZPwMG2TXdT1jy1Exwp+P/q/umBAAAASQGfAXRDfwHM7o1e\n",
       "5TJ65u9ZN7V6AgoRZsPCLQowAenLk/XBle8bzn/Y8OgCMKVJyv7KeLES41rHf7cfE55wEB4gS2Ax\n",
       "OWnadIAAAABpAZ8DakN/Ac3nyQ9yxgOlm2jHXDuX21FBAAjE//sd5LOkO8egJtHsjJhQwBFi2DUh\n",
       "vbzFTx+ZCjKNkRGWnQg4So337RdhoNhxq66iE5u7OxR6TkmexMFLu9lWPH13NS/yOaxaaXx47kRJ\n",
       "AAAAzkGbB0moQWyZTAgj//61KoATA5rl0Tvx2sU6ADV2/8cOEZ/RTaryMLk1Rs74i0jC+9fX5kB7\n",
       "MMZtlxNyDOfctbM6DQnH3WErA72dmsv8HwyA2aZets6DmoeWCRFr2wzB9Ib6wDx2QIlKb0O7mjMc\n",
       "1m6muhkJgOmEWhpWt/+F79gsiHNk/v5C2zIhMv1JiGRZgKmVAak2fYH34oH5VKsh1gouWfRtEOKQ\n",
       "L9+eLKAUqOE5MoKpvD2p4c7LMsVg+n1gU2hoNDc8lZTCUsNrjLINAAAAWkGfJUUVLDf/Ac5gRDS9\n",
       "6xGTNNyB35zLCQcMYYPcAFpjeI/OkyaLzxrEAikQmdjODCP8JlyFwA7y/+FGI8qB3k5ZKNepiIHi\n",
       "n3J5RPFjKoYYLZn3ng1Cs7OlCQAAAF4Bn0ZqQ38BzefJD26eXoldz47mPMEoATGH870CyG9iCbId\n",
       "lef9AFexptIi1yhoI/IcISQuzczk61dMtif2EG7zTzGN9jL5gbZcZvhT4xQxfdsJzq6ZI3tWqZCG\n",
       "QlBBAAABFUGbSkmoQWyZTAgh//6qVQAmBthfktqjBfbDyRrdziqEKibs4APYMQ7/L75oGIaPOpvw\n",
       "tgT8Xc5Rpcm2UbqoGczLE2tRuNb7Q8BV5EX0hHW7AxUPUjqtULIO25xA/z+6R6D83f+27fZnPwgD\n",
       "oswzw8xz5iIHcGQC39C0THrIbqfr+vPdYO5FM+VXOmxwbfhxcf7YRvHowm2bfoiievNO9XqBblFa\n",
       "jZcqrb6UgKXXVVSDB3ldUoUqRV7a6aHcfry8i/6Lt4Z91Ml8DlkMX7VaR1OQVbXLofCMCXddIddL\n",
       "TvUn3LraPU1Vz1yI2nOrs14zdset2SoW/RmGag4L9CfIO2OnD+6IpaHXvm1w1jjJ2plgFsNzBoAA\n",
       "AABVQZ9oRRUsN/8BzmBENL3rEZllo38o+Ajdq5oYomWhAC27nUX/yGPtXemjBX4pXn4jafNWM+9Z\n",
       "MmLe42qF2geIHBltD1roSgndOhMzEMS6mlychx/nMAAAAGMBn4lqQ38BzefJD26eCzrM3rXdJUYa\n",
       "LjvwAfkt+tAbY8qVN30QT3gqi6QqPei1r5dNLa5JnKMmLt5LPfspoNaMmc/qFD9WLz5NhRhUD1G2\n",
       "+Rt7y53ajFdYwoYCxl/4iP/c6mEAAADlQZuOSahBbJlMCCH//qpVACUKwAy1a3bmmDPTlABdHPFI\n",
       "uuD/P7cCCwPtimIc/ShpqdAK8bCqOQOO9/zvjKH6fm4/uhrIfCGEo5+fu/fhYTQYe7yjS/rnJsDA\n",
       "tC/HgGDKkqHdYv2XW5PpUYsdwZ9kCwf6YogEzNzf6ae8GX3UYJMjf2RaqqSazEt18fanukw/3c5j\n",
       "mGVj6cRoINGtrV8+BNn00XcRJpzWK2pFSV8tN0RhgkLmbLNutYbGBpKx0YCEYKQM6YtVvNsvPape\n",
       "1uhr9OJoAaOpBSnxytHJT34cJ8RgmKEKEAAAAF1Bn6xFFSw7/wFMdPBoqHgsHTZvKBCljTtJ7JM/\n",
       "9C0AH5H+SA91+e/BlKSTMBHjfVldK2Y78Zw1XrUt0i5U5sAl5c/G31nrhlT67SXB/sPFwOCfmNLY\n",
       "OJq3zPxjgqYAAABJAZ/LdEN/AczujV7XBkO4BgR8Z1Mic+tT6wABa3ITTL3EnWW8bg8IDjemdblR\n",
       "Wb/8NadIjj6PjASDrGlZJ64NUsaGEl2Z/7Vf4QAAADoBn81qQ38BzefJD2svTV8bIiIgA09EYywS\n",
       "M7jSODCQWGCifc5pt3QjzYd9gpcr/42HrT27TcLsnBDxAAAAvkGb0EmoQWyZTBRMP//+qZYAkP1k\n",
       "FtlZI0wA6KIleuzPRn5Qufi0wjbXI2/k+WbALRtjZzYgZPFVCrXMpWgYiq1J5GXUN7xpgcf+H8mT\n",
       "s+T1h5E4drPpxk8rx79o7cBqGq+JxPADdJKLcLTfYUBFXztv0v2yxqzinWexCD8MHElBiwJ7HKJG\n",
       "kJa6xHdqdukWRAdxms3AKCSjIhi82jOhDezDu54O7zshiEJaYI8+fiFcUvlmuXB+g7GD2kLLxYEA\n",
       "AABeAZ/vakN/Ac5gRDS96xB47C09hJs8FoAWyNOombbPEqq2P2UYRMa7fn1zLUyt/OIF8XMOxZx/\n",
       "f1LfyxsM1IvCS3/XAaOpXI3J96MvUwSGwl/lKqeOMSk/wht09OKfMAAAAGhBm/FJ4QpSZTAh//6p\n",
       "lgCMF/8FOYiRUAX+7JgyY286Y7UtT+pvRxc2+5W82u40D5kQ/BzfI4E+F1F//CV3UJCHRP15GfnS\n",
       "9rNMxzOoPAxcBS0HFtCAIMVx+oTqQ4hjclDuemU8f/5+LAAAAFBBmhJJ4Q6JlMCH//6plgCMKtHE\n",
       "v/ydEDNH3jACyyUQMgsK0tfyq+uVRIVdq0VUaBmjEUJwXLBHMX/l3bqRXUQ6ZYbwbA47HbJHqRIr\n",
       "d7oL4QAAAEZBmjNJ4Q8mUwIf//6plgCMF+tEfa3NsN3H1/0cAEeclG/SnyVbqJXyyeuMPj5TTU0Y\n",
       "9UmgtaQjSoMJikGbtco9NjHAY1T4AAAASEGaVEnhDyZTAgh//qpVACQGqkHcnM1uW5QcvASAA/K/\n",
       "BwdKf3kFWucxnuv9dtSNpxNQHNNvny8hmn5Ai3Q0DzPytU3iXFjr2AAAAHpBmnZJ4Q8mUwURPD//\n",
       "/qmWAIwxOssI+4eaH5A7gtwAsYJUa+Ws02mi3aavWe299x6KiL/OVKrPjrfSnQd9Q1grA8Bp6LEI\n",
       "j6k58ZPzkL3V029fwB7b3H0c1wHJ49LjYOLMBnyDkmcEpivEpZW4bGrOJpPguVL9UXJT4QAAAFYB\n",
       "npVqQ38AusBkUaBG/eZWvoAE61oLMcIaPvhzfHNrWkNiidRW2mUxO/NOkgykgq5Lyxnk2gDLmMIo\n",
       "FajlSksZRF98w810uXPOfcqr3nwYswVXbX5AKgAAAIxBmplJ4Q8mUwIb//6nhAEV+lj+sdrqoUAC\n",
       "5L8BgUat74GxDZ02LsCNZbwFicVx2mBnndwh+k8+uUUsHA0v/7Og90VYL8TaLZIp2Tp+I4tajB77\n",
       "jOUbzr8ahKYw787IODIMR577IZzpc965dxoZjVXSaUwyaJomx+wZHYl7C/PiLLKcfzhblOcogh+h\n",
       "UQAAAD9BnrdFETw3/wC6wGRNGOhxKYluAAVGBSeuef8UEYPbvJrHsewF1RX8tudrPxMkZsvCFVdu\n",
       "OUamSVWgXHJ+WdkAAABDAZ7YakN/AGHT/7STJVL7+gAXSIEjMxCwJYWYmnV207ijn/8TW0erp0Y9\n",
       "MaUhzKTH7swcrqSxK53O36hf0QmrEo3+swAAB+Jtb292AAAAbG12aGQAAAAAAAAAAAAAAAAAAAPo\n",
       "AAAvqAABAAABAAAAAAAAAAAAAAAAAQAAAAAAAAAAAAAAAAAAAAEAAAAAAAAAAAAAAAAAAEAAAAAA\n",
       "AAAAAAAAAAAAAAAAAAAAAAAAAAAAAAAAAAACAAAHDHRyYWsAAABcdGtoZAAAAAMAAAAAAAAAAAAA\n",
       "AAEAAAAAAAAvqAAAAAAAAAAAAAAAAAAAAAAAAQAAAAAAAAAAAAAAAAAAAAEAAAAAAAAAAAAAAAAA\n",
       "AEAAAAABsAAAASAAAAAAACRlZHRzAAAAHGVsc3QAAAAAAAAAAQAAL6gAAAgAAAEAAAAABoRtZGlh\n",
       "AAAAIG1kaGQAAAAAAAAAAAAAAAAAACgAAAHoAFXEAAAAAAAtaGRscgAAAAAAAAAAdmlkZQAAAAAA\n",
       "AAAAAAAAAFZpZGVvSGFuZGxlcgAAAAYvbWluZgAAABR2bWhkAAAAAQAAAAAAAAAAAAAAJGRpbmYA\n",
       "AAAcZHJlZgAAAAAAAAABAAAADHVybCAAAAABAAAF73N0YmwAAAC3c3RzZAAAAAAAAAABAAAAp2F2\n",
       "YzEAAAAAAAAAAQAAAAAAAAAAAAAAAAAAAAABsAEgAEgAAABIAAAAAAAAAAEAAAAAAAAAAAAAAAAA\n",
       "AAAAAAAAAAAAAAAAAAAAAAAAAAAY//8AAAA1YXZjQwFkABX/4QAYZ2QAFazZQbCWhAAAAwAEAAAD\n",
       "AFA8WLZYAQAGaOvjyyLA/fj4AAAAABx1dWlka2hA8l8kT8W6OaUbzwMj8wAAAAAAAAAYc3R0cwAA\n",
       "AAAAAAABAAAAegAABAAAAAAUc3RzcwAAAAAAAAABAAAAAQAAAthjdHRzAAAAAAAAAFkAAAADAAAI\n",
       "AAAAAAEAAAwAAAAAAQAABAAAAAAHAAAIAAAAAAEAAAwAAAAAAQAABAAAAAABAAAMAAAAAAEAAAQA\n",
       "AAAAAQAACAAAAAABAAAUAAAAAAEAAAgAAAAAAQAAAAAAAAABAAAEAAAAAAEAAAgAAAAAAQAAEAAA\n",
       "AAACAAAEAAAAAAMAAAgAAAAAAQAADAAAAAABAAAEAAAAAAEAAAgAAAAAAQAADAAAAAABAAAEAAAA\n",
       "AAEAAAgAAAAAAQAADAAAAAABAAAEAAAAAAEAAAwAAAAAAQAABAAAAAACAAAIAAAAAAEAAAwAAAAA\n",
       "AQAABAAAAAABAAAMAAAAAAEAAAQAAAAAAQAADAAAAAABAAAEAAAAAAEAAAgAAAAAAQAADAAAAAAB\n",
       "AAAEAAAAAAEAABAAAAAAAgAABAAAAAACAAAIAAAAAAEAAAwAAAAAAQAABAAAAAABAAAQAAAAAAIA\n",
       "AAQAAAAAAwAACAAAAAABAAAMAAAAAAEAAAQAAAAAAgAACAAAAAABAAAMAAAAAAEAAAQAAAAABAAA\n",
       "CAAAAAABAAAQAAAAAAIAAAQAAAAAAQAAFAAAAAABAAAIAAAAAAEAAAAAAAAAAQAABAAAAAACAAAI\n",
       "AAAAAAEAABAAAAAAAgAABAAAAAABAAAIAAAAAAEAABAAAAAAAgAABAAAAAABAAAMAAAAAAEAAAQA\n",
       "AAAAAQAACAAAAAABAAAQAAAAAAIAAAQAAAAAAQAAEAAAAAACAAAEAAAAAAEAABQAAAAAAQAACAAA\n",
       "AAABAAAAAAAAAAEAAAQAAAAAAQAAEAAAAAACAAAEAAAAAAEAABAAAAAAAgAABAAAAAABAAAUAAAA\n",
       "AAEAAAgAAAAAAQAAAAAAAAABAAAEAAAAAAEAAAwAAAAAAQAABAAAAAAEAAAIAAAAAAEAAAwAAAAA\n",
       "AQAABAAAAAABAAAQAAAAAAIAAAQAAAAAHHN0c2MAAAAAAAAAAQAAAAEAAAB6AAAAAQAAAfxzdHN6\n",
       "AAAAAAAAAAAAAAB6AAAV+gAAA28AAAD5AAABTwAAAFMAAAB3AAAAlAAAAJ8AAAB2AAAAkQAAAOgA\n",
       "AACiAAAAjwAAAEkAAADQAAAAOQAAALAAAAE1AAAAZAAAAEUAAABLAAAAhgAAAWcAAACGAAAAWgAA\n",
       "AIkAAACCAAAAkQAAASkAAABpAAAA7AAAAJYAAABYAAAAyAAAAOMAAABVAAAA9gAAAEAAAACIAAAA\n",
       "0gAAAOMAAABlAAABIAAAADkAAAC8AAAAaAAAAI8AAAEXAAAAWQAAAQQAAABVAAAARgAAAKIAAACB\n",
       "AAABDgAAAFYAAADUAAAAQQAAAFwAAABpAAAA0AAAAMIAAADvAAAAQgAAAHQAAAC5AAAA+AAAAEkA\n",
       "AACzAAAAXQAAAIcAAABtAAABUAAAAFsAAABjAAABBAAAAG0AAABSAAAAOAAAAKMAAADOAAABMQAA\n",
       "AE8AAABrAAAAuAAAAVcAAABwAAAAVAAAAKQAAABQAAAAmwAAAO4AAABMAAAAUAAAAKgAAABQAAAA\n",
       "TgAAAZMAAACHAAAATQAAAG0AAADSAAAAXgAAAGIAAAEZAAAAWQAAAGcAAADpAAAAYQAAAE0AAAA+\n",
       "AAAAwgAAAGIAAABsAAAAVAAAAEoAAABMAAAAfgAAAFoAAACQAAAAQwAAAEcAAAAUc3RjbwAAAAAA\n",
       "AAABAAAAMAAAAGJ1ZHRhAAAAWm1ldGEAAAAAAAAAIWhkbHIAAAAAAAAAAG1kaXJhcHBsAAAAAAAA\n",
       "AAAAAAAALWlsc3QAAAAlqXRvbwAAAB1kYXRhAAAAAQAAAABMYXZmNTguNDUuMTAw\n",
       "\">\n",
       "  Your browser does not support the video tag.\n",
       "</video>"
      ],
      "text/plain": [
       "<matplotlib.animation.FuncAnimation at 0x1d563dc8ac8>"
      ]
     },
     "execution_count": 21,
     "metadata": {},
     "output_type": "execute_result"
    }
   ],
   "source": [
    "rc('animation', html='html5')\n",
    "anim_Learn"
   ]
  },
  {
   "cell_type": "code",
   "execution_count": 22,
   "metadata": {},
   "outputs": [
    {
     "name": "stderr",
     "output_type": "stream",
     "text": [
      "MovieWriter imagemagick unavailable; using Pillow instead.\n"
     ]
    },
    {
     "data": {
      "text/html": [
       "<img src=\"c.gif\"/>"
      ],
      "text/plain": [
       "<IPython.core.display.Image object>"
      ]
     },
     "execution_count": 22,
     "metadata": {},
     "output_type": "execute_result"
    }
   ],
   "source": [
    "anim_Learn.save('Learning.gif', writer='imagemagick', fps = 10)\n",
    "Image(url='c.gif')"
   ]
  },
  {
   "cell_type": "code",
   "execution_count": 23,
   "metadata": {},
   "outputs": [
    {
     "data": {
      "text/html": [
       "<video width=\"432\" height=\"288\" controls autoplay loop>\n",
       "  <source type=\"video/mp4\" src=\"data:video/mp4;base64,AAAAIGZ0eXBNNFYgAAACAE00ViBpc29taXNvMmF2YzEAAAAIZnJlZQAAX3ZtZGF0AAACoAYF//+c\n",
       "3EXpvebZSLeWLNgg2SPu73gyNjQgLSBjb3JlIDE2MSAtIEguMjY0L01QRUctNCBBVkMgY29kZWMg\n",
       "LSBDb3B5bGVmdCAyMDAzLTIwMjAgLSBodHRwOi8vd3d3LnZpZGVvbGFuLm9yZy94MjY0Lmh0bWwg\n",
       "LSBvcHRpb25zOiBjYWJhYz0xIHJlZj0zIGRlYmxvY2s9MTowOjAgYW5hbHlzZT0weDM6MHgxMTMg\n",
       "bWU9aGV4IHN1Ym1lPTcgcHN5PTEgcHN5X3JkPTEuMDA6MC4wMCBtaXhlZF9yZWY9MSBtZV9yYW5n\n",
       "ZT0xNiBjaHJvbWFfbWU9MSB0cmVsbGlzPTEgOHg4ZGN0PTEgY3FtPTAgZGVhZHpvbmU9MjEsMTEg\n",
       "ZmFzdF9wc2tpcD0xIGNocm9tYV9xcF9vZmZzZXQ9LTIgdGhyZWFkcz05IGxvb2thaGVhZF90aHJl\n",
       "YWRzPTEgc2xpY2VkX3RocmVhZHM9MCBucj0wIGRlY2ltYXRlPTEgaW50ZXJsYWNlZD0wIGJsdXJh\n",
       "eV9jb21wYXQ9MCBjb25zdHJhaW5lZF9pbnRyYT0wIGJmcmFtZXM9MyBiX3B5cmFtaWQ9MiBiX2Fk\n",
       "YXB0PTEgYl9iaWFzPTAgZGlyZWN0PTEgd2VpZ2h0Yj0xIG9wZW5fZ29wPTAgd2VpZ2h0cD0yIGtl\n",
       "eWludD0yNTAga2V5aW50X21pbj0xMCBzY2VuZWN1dD00MCBpbnRyYV9yZWZyZXNoPTAgcmNfbG9v\n",
       "a2FoZWFkPTQwIHJjPWNyZiBtYnRyZWU9MSBjcmY9MjMuMCBxY29tcD0wLjYwIHFwbWluPTAgcXBt\n",
       "YXg9NjkgcXBzdGVwPTQgaXBfcmF0aW89MS40MCBhcT0xOjEuMDAAgAAAE1JliIQAP//+92ifApta\n",
       "Q3qA5JXFJdtPgf+rZ3B8j+kDAAADAACv1n8JSaswMGwiafv7hceWgGCu/YqD5Ujw83g41PwQk92D\n",
       "TXPw4rP8RsnEz/heV46oiJw1hlsbmIrvp3owosIutXg2UJ6ewgsAKZeiH2WOIzB+ATaZjAtW+FXY\n",
       "uTFnJeIAAAMAVY6e5ENmNyKxzeX+yod1+PLFO7wCsvxB3uCowA7j6/Gen97EQWSHpYZB+Jo67EUm\n",
       "QvREisgBxeDKV98RTn2Elyr+RzzPrcoT2hfAChj3X48VFWOmZD25uq9IFyxztl3n+RI/zBgOL9tN\n",
       "UHNXWnAYTsukW/jl3fLiTrhyPn4Z38Rvlliaa6gwnvRPvMA/Eif/rm62P2BDbEXHpd7cR8p9f2n/\n",
       "8myWzRF46PdHiZU4Rq1Q0g2IcARPoMR1Nnl0kkNaRvPjkBeT9NXRu8miU0jrRQTwwPgAls96HEy4\n",
       "EKr+jEXYx8IvxOvyDE+a1+ulUm7RrYk4Sr2rFgYxw4ZIvx6NJdH/QQNZAdYEr2C5RSqBykDiAf3L\n",
       "3JkLJms1CAjx+zamQrNZ6xTRoyprqXFm7qeDiXMEiKFpM7hQuAeviOLjuAicOv0zhpzkBxZb0K2t\n",
       "CTzgL/gB2ksooJNP31hp02BTKVfa+l6nrdcbVOcvffLh11k55uz+pIA6gEG0O1AAAP+NSgpce8N5\n",
       "F2x01j6fbDIRXFKZKAlWdpJTyCzmE1uEvuygv8Ry1bFUcgHM/6TwMeCaOqenV/bUUr/BRX1W0NnO\n",
       "icn/hRnciwkAOc/2XFocihf2HgDWElWSvkSwFw+qTMFU0Qd/YGEOVNKhfpEH3tuUSApRw7R/agyf\n",
       "TQgN37cHvLm936m+wGZtXytpOrwowTvgYMy37ep9xJhxvVNwZavzSWjT7gzQUoY+I7aw7mqqnNPF\n",
       "RpqM+N4a3ADKu16R5GxFoG1sNez/l7qbBdOam2SndAM+iKaha5NDU9bL6fxPHfsgmqSIsdDNpLZv\n",
       "6Fa51MJD05pt9WcbOup+7hXf2UcBOkbv5S0nD+khyz2yM0Mawh3VP59q9f5AjllI4dx/olvzJIx5\n",
       "cHA35oGmw/mcGcFPYDgHY8/mpQe9p11t7Mzwk6848VEA5U0XTnAqcC6nVH9Lp4G4/VWjSuMRgfRG\n",
       "5ACMaFiupXduafKU+xznywCXbyMbw/TOmrzC5NJKS1vniuA+Zx8DS3kBNMKch1air6CWQqKF3o4J\n",
       "XZgPgC5elLFirMOG9vKH3toXP9Oqk66qs/g6BlVPcDjKuYaSogwBP2sLoVhG5HrBjAEtpB3Q3QzO\n",
       "neus45in6pIOaknGaO4AAAMAINnhvJx4TOj0Im86BCCacwk3o4PeFiyNF+Bow6CKo+NTG+RMwzYo\n",
       "FZUMbHZAFxRDQ7MUvbNE3Yb4s1y7q/EvHxoQGsYmzI+ZCNGF9gIG+m71cVZovVXzVEGD2PQ2+ilK\n",
       "5dJb/sSV7dkJ/hTaYbJiZKp+lYnesrLWAyynAwcxgp5R4bTIg/FrM5URIZj+48Fn/1vAvZv1uE1K\n",
       "zbju2ml3U0zx4PMeCI2cVLImYEzlrMpwsYUjL8iIYeZ+6NNLpv65C0wQQAcIk5dFVFaJzsKk8nKh\n",
       "CLu108uoyxGSy5HjLwCO/Xhq7wjz0I4xbDOXIL3KxtKLvZKxqSNmInl0FVKl16pLy+FLi8F4SrHh\n",
       "87Iks1Bs0jiw2mgK45FXFVApFuRTsrlxVAMfuBqkwUwx2yyTwI9BgS19+JjtmelwFzrfl5l5+sgh\n",
       "S7VX07+j5FV6q87pfvwFwEECSopExsPTKJVsYEqiBFloDuQ8cp60fksRFwye1RtXsNKdnynD9REB\n",
       "vHSYAFjl9GIACf+nVKct6PB2qgef4N9je/K6UBhTT4ApPbBfIvt+kXaSWfZrG71mbPRheKpWkTYS\n",
       "4+AnJv+7B2DVR0+JD3rX0ifVHoNWV5jZa/trQRH4GnPnfwbmtFjxq+wAOLwenxuhTAIgr1955a13\n",
       "49Mce0mNItl+2kInnEU2webtXw7jMVqsJdFWQ706RRe35O2nqObDWnnZtZodEAZSnBvz/g+Fktiq\n",
       "OmZehR7PVolspgbIQ/p0bUzecDu1GXaDXBgEl/Bkke9K56X7JJXTA/5928VpJGzuJ6T8jUbiz68r\n",
       "/2rHenZLbmE3Psq6Dgapur+JB7eeCGc3d19g+P4tBttA2jZ0aaey//smgRbSwAB9TWQfpnf4YlVp\n",
       "h/mL0XScpxx/dsP9vumB8njBEDNEMuMUnWuAcbICx1Lc5bRgeHjyDpCwS1a/9Lf5fhhaGtgqy3S5\n",
       "qEu76ImnCA2mubWUKOwWMKwKzgeILJ4lgR4o7bCTlJBprLwtyIdHRfzR48fWsfaqfv+E25MG7By0\n",
       "UMAPBBvWSC88EpG57G7+k8iL96kIrfu2zC8vX4bHjhjAKpRifV5trF8x+LcSGeBlJB2nwbzHvfFX\n",
       "dkN5g9mCgcdeZbdDuP7IRkBs3hrjbZF+NXqWnXvH4nsIUHRv6jpI5B9QouchgBWfXeOyuoQb90iO\n",
       "oxfm3ciuhsRIPS0X+tG96yUMp7GAyBRCjlY1Zgj0H848HwFY9qd5tDj2R9/h0wwQfdTN7a8G5Tne\n",
       "nyXANWcTkcf2STt1uOBXz9faMzQkalxtXEC19jj+N/1QPlqfSchHjBPB7vfAljQaocDZu26ndj7q\n",
       "zTKueKEM0jZsiYhjGO/z/HO9pdNiKq5X5kusCjN8UbwTWv9rcFkAK9Mzpqx4OAwd9IaxA2Qp+81t\n",
       "eYSWicQGNguOGfqAWQncKNbQZF/azckUPYSKo+T3YT8RkpdDgiC5KHICC0+4NBtJak0+tHAQbyAa\n",
       "/amlrwcE1C8guHzdXpUvl7S7SeTgslkBnBUUjmfrQ4jgZ2nxffDht9vyT9qemukYV3lzpQSWbkUt\n",
       "R1J+L3p1dF9+9tuBTX1ddEaZFjiYPDnN8mzwlw4qfVNJehMzZgvWGt4Oc7gB22ZgZzbEFLCFftYc\n",
       "SgYlE0Tr1efF3dZznkKufW/LYQGuYs4RNjnRZuSrXY1sWEaF+dsUoRRhte1d/k4F1115Rn/wBzUE\n",
       "3PSLSMtIkJefhh/3nYc0pLqT42nMJxvRhMHkiNt2QjBGBkiBAnJE8HuW1kIG/ikMv0kKn4yJ8Uxz\n",
       "msZv1QEi4FkvA6E6itmDN02nbHV/RNcxCBFyLY3p7g8F5ofbRBJFf3sb2fbKRZ/379cGxp3PsiTK\n",
       "p3QocuWEIdwOFvTMHcGpz87rMjyskBA3n7J0zXnDsoYG/qhB5OB4czV+KrBpnV/SoItbmxAvH24b\n",
       "/tKghOyMxqm6HRK4aF/a83CnNgBnSaoPOZO437KQ+qIvPLiBrRkP+0H8wqzFOJRs+6TQ8/5+Wjz5\n",
       "AJ7DGwVDbmxhYiHH9D5JWLIb7kSfQazCvNxmcSM2utu1R5WNh6BX14q91E0rSi/xJ19eLfXTcvL8\n",
       "t0W5I3XHp9cQ30SQ3fKXY5Dn0nv/McKWe8K/OpX7R/8dDbthzxYhcKU83oFagg8bhBloe0cJHlKQ\n",
       "8TxLf5KZRydICBstGxRacfbTLRO31mt0eo1FWbFvqoPkeyq9cuELuWk2qMyTse6+VixeU3Ixutdr\n",
       "j/4iuN/jUDmyWwCcCzAlJo3unbnuK0vxHVaUJ1R+EVdvEB5NLmeHdAnsPzkaeQgXBf5rxA9v/xCQ\n",
       "yOmKhcfNB/TpH7JY+O32rXIxrksQW6d6ZwfSgtjOUGQkpxADcrIl7tA3e/JLwKq4kqFr3t9U3O8B\n",
       "csdJHyo6/2yi6k8BwlHkU5MfizELzuB4GS9ZSif9403vzfgZ1Rx7xM3Ef+4AHikcimtAyOfgWsRa\n",
       "HmYnOtihXkHnICRcU4mb9zzEPn5Vg9/7IYYzHQYlW5/KN+hHQWBgx0yAlQd3Bf7zgzFoLDYw/2ul\n",
       "MQQmCVqsZAKEftPxB2R70XiNdIcyKgWUsM0FMVkWkC2S0Wp5elofQ9pci736w8bSOlq0l+XmZ64j\n",
       "r/T6qGq/rtDjkxrDyliydjNi+P90RCKB5x6XGP1aCnqohZh/29/wd0mBde1+Upjaxl0R43pxlUhv\n",
       "0eCuw3vQa27G6RzyI+0qojFtoqanSba4yy1+dzMJFM4xOuJk6lMUkNJC72MuWNUbbqBLKbkWN4Uo\n",
       "cgVPtvKs3kRPGnZTGRpS/fy6sK/tCNVdfWvf63UGk898tUJxz2N3tAz78UxjKNAm7kbBY/Qe8SSf\n",
       "jSrcDGi9IliNVo16UP4W49ZXkjxYQ77CNfqLqVDKJP8X3vyGPnMf53ZBlKKeEZDaIsdG8aE3NguT\n",
       "HAvNYyUl/jQRKtSr5adhewMjPkw7XQDfvqYqOCt7Vm6+B0CQt8Oe6LGvAALcg0CSZkFC52rsIvNo\n",
       "FF18Wc1gQbedYuQN2rvkh3Ow5lFF6mjHpbFqdawlZceHQG0WPoOvurMGH/e6KEQsJPrH6V4ZarAK\n",
       "FGJYHRTHgiMxEPrfI8sfovvLt/D/tvu5aFp+V0j4aEDmxgO2PqvsevunN1kSj+b4SwRNaq7GlMcc\n",
       "mwGPOTUxiLvpt4oV1rFp+Fl5Yg58IIZRr6EhW5z20FjDCIg2wGm1x/XrcngTWaV90OXMNOYpN1io\n",
       "ZDqTubk+1lBCmiALK4TVQ2XGyRPeyd3gBQx3n+L4jvFe3tghVi3hdrsrUM7Q8mQzCHa6c5K4aXKZ\n",
       "pqmafYLKBG35lxmOxWk3VFdGX4FwFwyOhjVie9cH+EE4euLMReY/zOW7+6rpx0sT12sj44iLvPqe\n",
       "H2loLRkz26Gexr8/h4DCs14UUSLNHkLm8UHIz6r4eufQ2UhPPEWcuD1KMBPpWzW3xjK6ETdZGSrG\n",
       "kPvTJmoE40L9RN1X+NoWYUvScGZs6gsOIiKBecgrn6j0zFWAlJvPqN5r4RM+Qb/rQmcMQaufGWqe\n",
       "RhrFr581LWaFxH39+jr1cVUisFmh5T98xrj0Uyv/JGwPMhQbZ3HbD5fL5+pgivcLkgzqnJeD9I0W\n",
       "wTB671TPp3HvBdbYQtwezAIcJaJjWOIxAsvyr9s4Ki6B20TBc9eVnosYqTDoA+l+dBaiGXN0mmi3\n",
       "3Fd7Ods8v0YrjDbXD9c8trvYvSRxDPFwzebSSy9Vul+sP+OBwTsgqND4rt9H5EI5i4sgW6m0BgI5\n",
       "Pyre+1H3kprgj+d42KbZKcrBrHcVm8Jh/o5BQ8SfyXNr9DSYDP+2r0SdO6mxuOBeS+Jo/9KlSqI/\n",
       "bVyNQKXCa7eVq4seX5tZWY9C/WTPuGE8D4sMMKf7eJSonfjOtY9dRmM5Z+ufLMXvis5+omiUgOMx\n",
       "+NerFT+8zEPPVnCk1Nacv0DWLQBSKoUsHjQomEMmmiZs9srGgs47uZeoItBT0xBFRFjaf0KR3ls6\n",
       "pmKYcZLrgXZUoD/tqn473X92OgmPHh8vk9RIhCIMosdYpWN1jM/96Pu+TGmwU/YtEV4WF9BWEw71\n",
       "TaIueC2D/6hdcBorQNBa5rwObi9+YlrrHWJWteW2+Lyr0+HoMQl/eYiDQCxlp2pp+zrHxzPGbxQQ\n",
       "IVHD8y3Ye1cHmFGJRVwNenaGy/l+uYtp2teB4f1GG4XC3yezb0ji+pkjNWm7XDAI52pyKgAeeFjY\n",
       "nbVFxMTI0E1G5zuZUTHPpb4yVkY38fxkKChosat4gVI0Gud5NqIcBJQXjJ2aVXAKyr9NaNmO8/0Q\n",
       "f/uXXNFudxl2aUQu/xM2IHpRpnd6dNwfenE2EKXNHAFAIhL3tStDjQ66xIT2LgZN8WZquPiWNC0C\n",
       "VOWbfS+tAf4KTMg8i8M/tGUtJY/2q2a1AUr234jkQK6z/m7IiRsxhmM8J2RDN+C8gXUF+ZPi8F1T\n",
       "kjq+mMrma7gaVh/CimLITuqX1/VW1zbpssEn9P0rCwiLkpVGtbRK6eMBW7wbEjfvOqhVXLL+bO4C\n",
       "gO2xb1+25RCIr0FOUg0OMl8mMQj+A+XdSVLj44gFVcfb3uko0Mx0LlrhSzrdPRJxVpF73OYFQDx0\n",
       "bS7WwCCKVV3mtLEau/zz1eEP331m8CFjtPQoTLit/6g5+B1YkWdxc6L3OElygXtS2SRyoVJHyv1g\n",
       "0ufEffoeLgBlOHEvxYwQAY3ZeSsi7SgYLutLN6wZF+aZI/Aq+9k9UOWjO9DAHLn8y0HRmQr6oXaJ\n",
       "oKb5Ruw02nxKu09S7KvUWLVNLB4BFMgRMiQSgHMckxRaZOhnXgx47/WqQGMA0KnszFmWIKCsTvLT\n",
       "fq74qW+bz82HpD7LCnhMva//S3wflHSvYEaGmuYbP1OD75V9lxbON3eR4VPG8muDwgodvnSRdL3/\n",
       "kb5SioAbT4fZpPfutfuDiqATR0Ttb+CjOpqrnZD5XPLruDLV+Vhf98FQ68IAVqWvUjEvYLQPvvHI\n",
       "BNJhx/2jMwRl5hICUxRTk92ID3O77hMdcPpbP56+pblRyqTvWC/GRp5fsN99WvlmHwgjZBxAPIgI\n",
       "Fip6TcT8cqwpdglyE90OjcWN/iUY2ySG7M9FituFwqrTdNDN2x7d3rYXidHc8X2Mn0L7VAE4INMN\n",
       "L61BsE0QPzKZnNQ7eZX5a+rRf5/ZOW+kM2IiLg99SLQiuwLZyOBz37lkUbQ21dw8AMpMvNb6QPT8\n",
       "Tl8ulADiGnwK2IUSRfZ6wfQpxJv+3OXB5D+QHn8FLQAAA2tBmiFsQ//+qZYBJC+WgIKCdFKZSi7e\n",
       "0jRhjN0DRhd0+Z1g16QqecYmwVRhQJ1j2/9gP8BFOGOUlvaVa73fn+RlXf8YNGmsY6+YmyESahYN\n",
       "hDRwP/fLJ79xgCQ0CR2I5Tx/a1KpScGTQPTZ1IGsUIBIx/VtZRKXUVDkIY87yhL4HBt+LUQ6wax8\n",
       "Z7srZPBlRhQgqNv1nz4hLUBYqzKBgpM/wfRd72COoAObmh624tEarizD7TAKbWLvYICGLQeooBH+\n",
       "6C/2LiyraoZbWTuEh+yOU2oYPqnj6q0i7S41GXA7MJMWA3GEF6o9W+rMFl1f4oA6uiAjudslICt9\n",
       "fiTuxBBnQVkSDR/DX1Ut5GzTzxNWI0qKDfsy2596Buni2ZfGeguMXD8eS1NJFDWqdx10jCof81r/\n",
       "w2vwEXeL9P7LiXqsVeidjGbclrMImt2pLiToDhu6odezLL2rS4hLxuMPod2xXoTKSXjkBC43dTlM\n",
       "pQg8Q9COHCQjq8QjeKdP8gSy34altqFWFHVUEMPBcUXGjttEmdnq+0teGeeg8Ys9IRxuRE555DD5\n",
       "6QwNxjNa3I6nfFMeC+XIqPdT+AXxrg+kZ+o4mkDN0U90u6k0nGJdd5t93TrHepVd/kshMBe9719B\n",
       "hHpc/juvITS/BcTHdEAOfCZYurDZhCqf8XY3pNrm1nbAjKEaC2htIWxVpwKMn6kQX6HIoR4IC2Sd\n",
       "peyHnLUZhPWmbu9rA/O4YIj6yEs95T8daxzmgMglRR/SgzZpkqnREExrlrL1t+cNzAT5Xa07Z1dm\n",
       "vUtmqoSbgLSjNizvzNFgqaevRdTlJVCriGeilUD2lYoYeJrH2d1WA4E8WrhDn4rfrolY+NKo/xCi\n",
       "dMlCBbkXyN3c0g3Hydeue+mN7Q3ro2mOMAMOXkfEGXxHcrcEuCCWjHzcJSPzRVFceHlr0mAhCOwB\n",
       "XXbYe2eCh2nZXfWlY6RQzVudOouad/yTSvc3V6yBUKZa75IknSp5fZXvsbj9d0+DYbzuJfO9weqB\n",
       "FESR1cqRkeOC4iBSWoZ7VwhyrF56/je28irDPJMn8Bv9tEJkY4CTvb9PZNpGjfTHOmbcqhwCVk5F\n",
       "3I0wwF4UvyvasU51Nsc7Yn02KsAY0c3k81Al6m08IsgHrDBtO6mdIRybe0J/Isd43My0AQjrgAAA\n",
       "APVBmkI8IZMphBD//qpVAEUD5MASsMijr2aUtoT+9fE9UtoqmOxuPS33+4I9Mm+hOGkaD3Ee8qTr\n",
       "GTlTgj+YhPhY82GhaEds23YVhJia1TWv9o1TsDyxXTsROyKGnsDNYXHgTFvV4K8b6q6fGkDRna3u\n",
       "qGdupj1Bx9+L2hnJyqKEymuHs2sOvDUw1zdAlZNwdndNDYeIGfP0qsxm2p1V3D8lQqxNwnDX2cc0\n",
       "QdnjGhJ7fYqdJb2zbMoKnJ0j33Kp4KYraVATnqS6v2SxDvU0pp/4exVwt6wurvH3AwHCVjoeoDtl\n",
       "qv4xSikHeBSMYXUbbA/9MWBGwQAAAUtBmmRJ4Q8mUwU8P//+qZYBBqcAsAnd3Fv/9R/08BAMm2X7\n",
       "h2k5ZA5YhXnMMI2/TJYf//D+h3eVKbJ0/8AYo6b2OKybyUdynIrHr8JX872YpT+xAbI4JnNjMmUy\n",
       "oETkRM7b4fVjOz6kZPDuvffxSQI7gz1k8qlhf5QqAUT5im3lsDfM5h1F3ybkSzdEybf47fVrWOnL\n",
       "QPoj7orxLOEF5/bEX/urew9NqZV8/QJXrA087eLziY8HwjVLH+a6NHebz42lqmo5GbHNIyEAJ4UC\n",
       "nHJH5ApwHYRbFFnTCFVS6iiiWscCn793mMwqKcyKu4vpAib+3kuWpy/WWhVA83EHHKld4Y4PAIo1\n",
       "10Yldd/9BheHscCm0+eQWwatoZJhobIjGn4DyGsb+k/To4Pgatyt5d67FJ+B2yLNuhkHMFei/L8Y\n",
       "ej1Jc4AE/3GOIb2YAAAATwGeg2pDfwC6wGZPGpafzjBv8F/3nDyHR1cjdqKYpdrAd5R3My7RPfeQ\n",
       "AE3h/O70Ot7rvcrrXg626qcGO1i3y4GM+aek3WavOtdQ04EvvQ8AAABzQZqFSeEPJlMCH//+qZYB\n",
       "BYDvgApRUpOfkt7L2Lt3mTn7ZnsFNlv9PpLYpNWRTnwJ+SdAVuSByzbvDidvpoqeH2AU9/SnPj4L\n",
       "bGUqknjUGFWR2edd1TeOGsgzqmbQlsnEd1pqyDLPW8AEkqR/8KW4KKuK3QAAAJBBmqZJ4Q8mUwIf\n",
       "//6plgD6usQdQAr0IMNrrNCwMJjAB6AC41/u9SPdUDHJd4N4M5E7yMN8YDvU6YxLbX49fJ3BaZms\n",
       "7tKE3uYAAGzpoqkex0Vvht2Sb8srbPaNooWVgwYqIlSvWKfdhsn8bwM3DCsnFNd1CCvJiEBGMz+0\n",
       "LFsExEfjCjESBfUOCi8E+CWxm4EAAACbQZrHSeEPJlMCH//+qZYA+THo0AIyoGx7b3EZLJmDyKB/\n",
       "5wpmaYY0pGCfMcavJgF4t8IHXspkfXg22+B9P27SNzhmjlu3bspG8MCKeUrWieqKg1Nc3VOouCBt\n",
       "JFbYwFO5uT1d0LXbthG2H4x7vyEeCJfKr9ex1tS+jpdk9BV+AoTu0tvXHVaSdaDXaCqpXZxT7zAQ\n",
       "TNIVQ96ExokAAAByQZroSeEPJlMCH//+qZYA+bNLTqMK26oeOTwURZF7YE6cilCkB3SxeGzUAh1R\n",
       "aa8b7eAsRJR3z8KxLnPTa0n6J5UJMRa5AUhlt5eU7/+khgFl+kB1GeytjnAZK1vviTnNI65a1AIX\n",
       "z+yLFZI0UShuMF5gAAAAjUGbCUnhDyZTAh///qmWAPoF+C5WFSYjCAgOAMQA0omPhR0fnkQkwtPv\n",
       "6X9NAn49BbHFx369V9h3VHw7ts0E5j5wwKjb2sTep/ZdFPpP8qOBcP9NyAWtRm5WUNukA2QM9ccA\n",
       "ej1cqkAuibFTIljwBi93W4r+cpdgjSRH0helest7aMq70mDa+v6XvMWdUQAAAORBmypJ4Q8mUwII\n",
       "f/6qVQBBkAPSAAJbzeArrCU3XfYgBrdyQuSnvRUNStoM2v0gKPMNEOukD3DwcFLAxzSWeUFlDtms\n",
       "qV/1Ck1RXuhMXX+nRSn6nDv+cMAICkYx5UUTTZctUMkH7HGFLNADN7PrGKcUm4snLcdGeFPice95\n",
       "BqUn/ElKtUQKPplK++Am1eyqZkcyBHe2vuqpaiQdznq8t7oqucvekZ+F1nLp4LrY0LHIBDlgndSy\n",
       "DOflFV2OXPfwDu4ZCfFdjjIDGZ+8D9sDUjkONJDVr+SxWIHbXLpgHXSHHGEI5IcAAACeQZtLSeEP\n",
       "JlMCCH/+qlUAQZA5MmAB4hE3vsd/vqxI2gaJH/htkJnUwlq5ZTHmswOw2x4YXcdb2cUdFamVCOZI\n",
       "JZlRi5b6/6JbxFt2WG/o31gGV6avXoiA1rmBBEH4zNNV6P7dRsGdt6h5nMzW4ugwC6lXuUo2JPU0\n",
       "RNTcdQGJaq+5Nzb5YbIRkWyiqoZR49myYEqJZLBOEi1CWLcLPkwAAACLQZttSeEPJlMFETwQ//6q\n",
       "VQA+RNwR0XPPS/1Jhk/k5RW2d9u4qMGE3MPTHiDUYql90EW/VaHujP9q7C0B9XcMktqHFgxkPzX1\n",
       "v/rYDeitSpXlDa04yP20e7HoTyqpd+kYUK30W6434VNdB896DCggzL3+XTV0fWkSMXR18Rb7g5uK\n",
       "pwpL6gLpe/5K+AAAAEUBn4xqQ38AusBl5qUhmcvZ3L/Eoz17pDYApujusJ7XwR6Y28wU1JNxoER4\n",
       "GAOg6viyUl4w1inn6/8xyYsNyZ7bDp3K61kAAADMQZuPSeEPJlMFPBD//qpVAD5mygOQNFIKr8Nj\n",
       "duCx0o6MExtGt7kDdECewMIZrYa35mZM26JYr9ZKo0E6VsPnw/nCLyVKduNtINkDeB1JB0vmw8eD\n",
       "TWe8DcxyWPPMhMAD+M+7dvUpsuukLYCL7aQIeWPFobpTIrYGQ7qRX7zjcRQR3BTIw3q0hm/hi+WR\n",
       "cF+9EQCux3FRfTRRcDYPX44TjgMZTgZxTzjQ9Ysw49S86Ig2nd1bH+0o93ZbA28Y1VfTyb5NY918\n",
       "duBqa6r9AAAANQGfrmpDfwC6wGXkg5wa2WtpdlrvAnkg7wAIw8sVzJ/+Bujoqundng77rsAgQgmj\n",
       "2h11kViBAAAArEGbsEnhDyZTAgh//qpVAD5gyZJMK0+M5btGfzTqpZ/U+HFEushHT6a742AO2MO5\n",
       "FLuVUwXdN9BlUlPAVrBiATZVTYBHvInFhlXxsfK4Mh5eHg21WTFKZau39ToIQxoYAUuatKH0k3sH\n",
       "bIQrnTFeLyWUM/KutIADgDf2MYwS9bRVadnCeT0qKyhq/pcnljNiU15l9J4U7JGLkRAydeUJePP+\n",
       "S/Vpwcv8SzxI174AAAExQZvUSeEPJlMCCH/+qlUAPv3cWUuR9uYxkDdL087EIIymy8HLOAg1VJ3v\n",
       "nf8cHvEAJjCco9JPWjFca8zGNToYVokfAxOE8uON/SWKSOS9Acpoj3hxUInYH36K5z8ov8mfR7M9\n",
       "LHhHktRCzGXx9Z9e1kpsAgjVwNL5nKaHk3QxhrOjpKK11Lut7SzHIYr+ULMl0rQRe6fe99wz6SmB\n",
       "tDxaHSBdmmIsxZE6SabMG374X7K4s/1fdhLXCEdNFbzIYC9ONy+yLVNxB0ohGoP8nORfRP9bP0fP\n",
       "cSAAPGlCFY8wDCXzj2RKm0J3ZJnXZwR3P+TwKOxj+jsfQC+c30iFUFojzwneNgMyfxoHoS3lwKL5\n",
       "fVQpab+jmRRyTvbWfTgiF0bRjhCqCPYfeRhP2VgQTU94I0AAAABgQZ/yRRE8O/8BQEYtJMF7AIsm\n",
       "mpdsGwzp6c6U1wqVKxqGdA+OLIeXutylZt+Nh8Hb4AWF/61p4tS777z0KJNEm2bm07fPcaBz9VpH\n",
       "tbGJDSEWp0T9YK/pWjJZcSvaqIHhAAAAQQGeEXRDfwHM7o1fYn4b9E5qEplOWXMzLneGp9XBzuhx\n",
       "2TWA+NaQAhuoMXkZ6grLKxEXImq2uu5jitYT6Cg2H5BIAAAARwGeE2pDfwHN58kPqoBCQWeL4tte\n",
       "XE8cft1LjhGlAQa1QALWVmougUCjFevOaMowfTfvfK3EmWHbu+pUzIv9EJpgrwIp0VPAAAAAgkGa\n",
       "FUmoQWiZTAgh//6qVQA7lf5+YAK09j/bc/Qm+HRMHajWOw70xmuXYB9il8gYrOv8r4TwfjFKrciP\n",
       "HoZ7oO5SlErxMbxyqXFKD7vVn9W4LzaqS6EREjaMDDIkEbJ3amJC0pcSvloTwQr0bxkXVL7/yjrc\n",
       "dokhN9qv0LYyPPYBAR0AAAFjQZo4SeEKUmUwIf/+qZYA5k7/4dvm4gP+dX9th42+zxNOMiQbmD+s\n",
       "HjCWck/akRH3bCurN+imKCujfH6iUtLd4C1I3yno/TcBDKOC1FtD5+t5uptmzU9e+c4F0S/2yLoa\n",
       "L8k501WmZEkB7AyEIiEP5rNe3ehi/+umvOyGnozdm5EzVJjyEpKfvwTiYAJInu5rgP1b7l4ZPaz5\n",
       "911IXREpJz/OQLsdSw+674NP0WfVVyR3+cNiOLple7h069KGdDyGKv/hCvhlwWQ3dQhxKhi3mvpK\n",
       "CcclJclMm3V0vEDSBMK6kN954PU37+PMjq2Uv32srbmiGWcoayu0Ir3kvwW55QZQndILxZWSSA4B\n",
       "7NIwWG04ePQIeKI8osWMQIaeCzHkIRHqD3cERSBFJ3ao8EafauoOue6f8qvkx2C5/z6HsnQFwaqY\n",
       "CHNj8TTw6tLCSGlGL35I++gwPW6vfINIOPMwotbuIQAAAIJBnlZFNEw3/wHOInBSitKaNHFACauC\n",
       "Y7dKgVM7eQswkwQPHVvR1q89FLz8lcyKSs9bI5e/pv/XDiXjB8Km9MocNT1vB9PupwQT5MucR7qL\n",
       "Y9BMt1a5vn0x7JDG7c2tTkGTbAnihE1U2NpvtpDa4SeCQ7cQ1xqVioG+CIhF2ppcz3hpAAAAVgGe\n",
       "d2pDfwHN58kS64nRilFASwS+TPGqyAonnx/HMkXcgu4AL4+B7kq4JtQLtfwC5H+nc6Knjrj+J4tC\n",
       "XB+slaJtDHWauRv3ifUxw8zcNQoVfUh6SF6RAAAAhUGaeUmoQWiZTAh///6plgDaHYoqnlp3rYdt\n",
       "5Lsxi3EALeuu+b6hrx+SPMRdKDdav6fhFdiTKcQ2DT7OH4b4+xMHmwnhkKJx7frZdQztT+q2oeWJ\n",
       "oS75cxSIrumKzv3hChZtZE9OdzPwfSpmSf9ZQBTXEiMy/0xAHWzUaFXx7I4NzxZIZTgAAAB+QZqa\n",
       "SeEKUmUwIIf//qpVADjrgzbAAD+ifrgUgjDCGbK22uF0k1XYhfYpfFcr/XXKipjAYgzEpkgisecr\n",
       "HszmBupj4shllERPWNbdtJnympD7SdpF1Ux0Q3Crvr1gY6sEeGfzhsIfU9FUG1OyNyo58n/yPyCU\n",
       "JiMj6wC/bpHBAAAAjUGau0nhDomUwIIf/qpVADkRPviO90gBNEbNVvYucq48GhsrrPO3CpCJnX2C\n",
       "83speL2I9biVRbEWjTpRxc/MD8xvTs2sqVpVETCEuCofGzLQ53RCv9MW3Bd0N0WPFxPGmvqBKa+a\n",
       "OfGMOf2R8DxqEZVlrAtTKviA1Wi6wvhObrDWC8p3z4MnjkWrficUngAAASVBmt1J4Q8mUwURPBD/\n",
       "/qpVADkRB5HMAEPapQ0bzmUmNxvaIUoOHl7/Z5KkK/j4UrFYrlJoUk1Io6koE7CNGEMllAjw40xt\n",
       "VVJ0h4ac27lAOYUA1Xx6n+Qfjkb23b7M6vXqe/2TtcQJuG/l4tOOl8Xm+qWkgRkwlKWuWZjoTCAn\n",
       "7maAFIYE/8UgWhY3cKU+uQe+QkhtRB4sLUSfPPHhCB2s2rqNiNoFRIlOF1HxXwXFKs/Ot26w1MPU\n",
       "nmwTJHkYC3cjkmi6c2Iii7BM6Bzxkela51VUjNskKgaIX6WBxWd5ZS70sq/vXhHdZlyBnsv5T4Qx\n",
       "8VssEQbvTB1Xw3By+ltnRrfRcpICaR9m3uNR76AvtPq4SDV4zPumGS61QHr33ASUPP92aQAAAGUB\n",
       "nvxqQ38AusBljaLsAJq+btIUYaLSr6peq3PH1M/ncEi/fawEE86bqf5OgG/t8U32LvQbx/SRkujp\n",
       "nAuKBRV2la6FLuIK9edKKBzxoq/qqTHuupShIWYK+GPlDbHbqFwhArxbEQAAAOhBmv5J4Q8mUwII\n",
       "f/6qVQA5JYy4NAD/o1jPzscgwT+T8HmkplNGfWLff0nGDgDpvF/L+EmUi3HfB4nrZpjkhDp/dL9g\n",
       "TqA/wPumr+UkZv1XT6F0SMKy+iImqqqhtnrAEhv7UQ2oL12Jy/poNGWsyv2q6TFveEcfbEwh6+lX\n",
       "ri5FPU2HOMwesLcR9vL6GjL2fkO1ufwORaepqhzP/3vlyIwIkoXFOUrwfkLy7ayn2q74sJZEcZrv\n",
       "clP6/6T4KmVzy+JuGuxyV19qJrtqZs21noNhrhK0PKzv0k8fww/95JQS76MHsAB9/UiAAAAAkkGb\n",
       "AEnhDyZTBRE8EP/+qlUANpMYIR1MktJgygAAdcFf7muX86Lf+PEAQrduQiaUP0cqE2jnL0/+p3Dp\n",
       "4FQYeTqAFKZW46ndh6FIhd+oKhMYCI7QaS4ZjMruzRjreVy28tcPBWa347NgFltGhAM+1loqrxA4\n",
       "mb2wGqpai0HkOww86ZFa5EJEiCttMDAFO1Z6IUrgAAAAVAGfP2pDfwC6wGVriU8NIAP1+1Ysw7tf\n",
       "Wlt6f9ZgTtLB12piOXclZA+Jl85pv3oBzHuqVMyHcTcaHwVdRvw566pNPVXOOY4912JfjtGkCgEI\n",
       "Xul7ZQAAAMRBmyFJ4Q8mUwIIf/6qVQA23l43BMAAFy9C7BbG1d/qYWx3nUN2NMEv/npZUYoHqHhE\n",
       "zv7f1BlDaJJmk5dK+affOLsSlPjwAApqdPmJzCANwwpoFvI/baeSyiblQhwpIIQdMgJMD4T7Cb7f\n",
       "xobCpvnk0o2gaWZplBnH2Wth7U3kEAzXP6Ynyi+p0JFDwyVggqSypiEYkQ16zrUoxVx+Ad/lshui\n",
       "ICUUY1nRymAB5mxSUrQLyLX9J3xIqg7ftsP3EnYdExi4AAAA30GbQ0nhDyZTBRE8EP/+qlUANquA\n",
       "EJ8ABRr6onGoT1GTnufQXPYfzALTmuRdS7Rz2oaIkW8pee1X4PKfOPooQbqJ5KF7h8SStxmW1Sfm\n",
       "xuW4uz+9dXdTYmP+CsHemXrBXV/GYABZlb6/nP/fNuZplPUZeKjH5wSVxQXfup0QZkdyMzSMjDUg\n",
       "UBDVvq4iiXeE6yLPyEbJfY274gWJtJ51zB38ri4P4gVmYd3ggCkdI7wFBWYS+IjlpYGzk1xotY19\n",
       "5PWlCRykz88mRhHzYjjH/IMKrDbQS6YaCO+SFZI8HOEAAABRAZ9iakN/ALrAZVmiDdJfq+Mt8FFh\n",
       "9zmAaEgcddGUJ0Kbq8uQqnt/OUKABcgEr04uryUHyObn+ngx0fRgsWCQtvQVAaLmoeg0qHk941ji\n",
       "suaPAAAA8kGbZUnhDyZTBTw///6plgDT2c/gIp6XAmdZ9b1/MJ+Ajpr13n/PuriFM7uenwplcFGK\n",
       "5m6/VJOHPk0mBLv3KfZhfaR4efFwnMl81fDOmVZzpQTC9uLDWZpHFmHn5GjunVB2nXjtuW52GSOD\n",
       "Ar9hHmcEbswdUDBpG6rDRmsWTNVsOctVLKFMmiqaDoG/WvdXx7SI6HUZ6zP5oxjawuo3gjVFyhTB\n",
       "0VOkgawEKlamB6lOx98mtZnyERDkSocIavBAnZN2C/ykwewQTo1qVbhhMNHIK9DY57pS820vSmUz\n",
       "OhbJKICyaBN5D3ZkgyGfgOv+jnDvAAAAPAGfhGpDfwC6wGVqcSxkKwcwwJtSVN/DI+OCq95t9dom\n",
       "yV4kYAh5dS5nBgteP1WVsXaChk26IntWXV2FcQAAAIRBm4ZJ4Q8mUwIIf/6qVQA0eL2UBgAnQoPe\n",
       "vNfxp5pfS/MvTGe5dgHvin+99gjfRrqdkOP2OuYw+yh94+31aLL1fJdd7pmksvJo7+eiy+j78mZe\n",
       "Fz9RJTVxyhFSH5nkRFL5SxhkuGDFqR1QIcVyyNpwXfX6yXKdNJ5m25IqQmie6LySyCcAAADOQZun\n",
       "SeEPJlMCCH/+qlUANLf+UrrYBgAnV63gKhFs88zFc23PsGhxKPH/hVpX4TRJT1NMpWV2Z9Ql5E/A\n",
       "Ils2N612Vvp0Sps/DsKYIulEf9IWWGc4Qv6+GNQnwTJIO50rkremxr3HjvBznu41Vc+R7nhaS6U4\n",
       "tGL+AnfkkuG1YXGgYyFcKMA9T2gOuHJVA1VPVCCIh8H5fOeulpJjkdH9nBABY1cRzWRnF+pr/pkI\n",
       "WlpQL95fDn/B6UIVUXU9EBWZWNARP0Asl7uWoQem+l8AAADfQZvJSeEPJlMFETwQ//6qVQA0xk8F\n",
       "VqAD8ucLtF6gnD4ztEKjHEg6N8Kpgucxaq164sr4B0kyJTF05oVKZimj5XeJdCB+RQljIDfl/xoJ\n",
       "SRx85PspIJ4mwao+6IgHPZOAdHMVmKt67NQ0aPtWZ6gnBimdpJ862JKG5/sbt9AHmM1du2+5RWH/\n",
       "EvPWrp+J9CQcrG+d+DP74u4qPb0kZQYvMz1Tule0rZe5YBhX9+RqaMWPvrfzAj7v9wj9dwkRsu+c\n",
       "CbzPAfpBZWRANGzqGMypOyR6PwAk7GxwcLQ4Rsgw4AAAAGEBn+hqQ38AusBlODTWdROrNGkhiTyg\n",
       "uN+xqAIw8sP2Qr40yHjk8yUPcnIhPGGmy8qgobObfklQemFhtcWHz8dWxOOBOgoeF6FmWKq5xd3v\n",
       "bdkODGmZPEnw0MuZnnNkt034AAABHEGb60nhDyZTBTwQ//6qVQA0mJ1wjABGf2PFss1Jv57h74OZ\n",
       "q/FYBdP+MhdYuvB64356Ke0+5dnMot7eDrfiL3mLaIdTDdeUTg7O8uOf8hJXjICeB16Q4LcDeZJE\n",
       "e/cSugYczA5Z1UJa8AvpS4ykQJDLrmqt8pKPofPyhVbZ13RUng8yOQSH6w5/ww1+GY7d7e+cQ6bm\n",
       "L2gG+rWnP+9C/DxBn/HbWwjmjrj7fuCFbi8zaghW2EktadqDkpFq1JzK0tEp/XFRK49aH31nDN5O\n",
       "ReT9miru+V9YDoWDLibhN0vpGVecLBlji2M0McNxWiZlkBFH5uDW0Pgl029xThnWCKHRLpazQb9k\n",
       "pyhW8hU3rZicqrGiC33KEK8388bXAAAANQGeCmpDfwC6wGVIyCc0Ny6taSi+C1nha9LACJow66c+\n",
       "MMtwC5f3PrKIb0Dzna5wE8uuR9fgAAAAuEGaDUnhDyZTBTwQ//6qVQAyfpQQ9FL1z3VGf7FIoSUi\n",
       "cLG/LAAFaqg++/XHL3calCHCBAMCJUVwA/QlFbU6ahg5MEe68pLLlb7B7a4eTHK4stvrY6k6fN6D\n",
       "jjaySyx31PpZbgDgDeruQurLm6rMr1UtCC9w/kuNla0ceWMDxBR5xmAu53APJIjukJIk+HyHlKd3\n",
       "iuZ4vVeo5/1RXXcgvxSTu72iZ1xURHASHuFPn86042Sk6EYoWmkAAABkAZ4sakN/ALrAZShqXlx8\n",
       "67MFeUR6I1CCJRsbZcyABa2Gm/ThgIqB1kKtHl/WJUf3YYttiEZScttE24hxexDJPcDiKPTyNKxO\n",
       "zYnlREC/P3re0ZPeOYFre1d86ChrciPtzuVU0wAAAItBmi5J4Q8mUwIIf/6qVQAyflxj0UvXPdUZ\n",
       "/sUlSEAfEkab3PSLbH6VfAEZHqqw3X7nTPFQ7IfA8HbvcnK0I7PZvzS89vrNEiP8lweIB/+oW9BX\n",
       "69WdBJt3rsF7BKgNolv2XhVljNZgR3Exy2SLijog+Vh3x1zYhvtrxw3IxS4DP1tFAjoGzYkmyfgp\n",
       "AAABE0GaUEnhDyZTBRE8EP/+qlUAMn6YAPRS9c91Rn8z3zqTz7IIKwAdsYZKCPRskMC2vV2qolWq\n",
       "kR8Cgu4C4SY0Jp9awTn+sdElKtUQCx2QqjWHYiT0rM4vHilgByrQGjxbzGRF73TB2ZeL7oYVmdc1\n",
       "LSpkvGw3UBBqd+mMYezP2TbjC09awU6BfHFBcxPSupwfitgM+H41KqwF2oUcX4RcJ0RXr8ADf/e4\n",
       "X93wQMtbUsuWgPodZk/S8Gi6jiBc8cxc0pzo7KG0SVa1wVqfl+gfpuLuLzL4+BqUva/rWfUqiPrc\n",
       "v+aNgXtwm4stemnfftkfNJbxzXy7DaFy9V87nBVMDdGLtAh3vfgbRFP8VDTV9WhCGD5pAAAAVQGe\n",
       "b2pDfwC6wGUpu04Z9zddWAgBFQEOyojrSjYy7uZ7YVqO2pWpvqQgmXA8V+KWihNv9r8JKSbRgnfu\n",
       "Kcix2tzr634V5XzIwKZFC44wh+EimBCd5twAAAEAQZpzSeEPJlMCH//+qZYAxHrRQD4bauCemvyB\n",
       "VavHj+Ys49cY8rIWp9KgCG7dZhWVYDcjz+44d1q7GLJt2vtAxlqlMX0Vltn/InizyJgO0MwWgd/L\n",
       "fh5/pYCJs7wf8O8OXahgM3A4dBMb9HsV1WR+3/GGbyC6OvnhYBnL7O8oc2Em2H4vIt+Kpcu1Nx7Q\n",
       "/qz/u4NdumHaJWP8KrHJLgXqlPpfGGuOoWWuqDWCYSybfDZyJON6vT5vWBVRrc430xLRfpUFdihE\n",
       "OOjCEtD1dOGIfPXqvBtKyBPqn4fSWmEYRybcpAKTRyoJoLZZ6JsTWJRdtQPwSBJOzgLRYfR9JkKZ\n",
       "EAAAAFFBnpFFETw3/wC6wGUoxjMFQ+Hj8uL8XTGnTr0DTuJe694SppWBe3kAOLWW4Hu2QT8tNb1L\n",
       "qmT2gtFKRyHOrtEznK1j8trJnEXccdxW8/cSc1EAAABCAZ6yakN/AH9UA40fvd7fm6/kvIayBLZv\n",
       "22AAnNSiNAGpz0fP6CncjtGPf5Q+s46nZdB3aVSX99KQuWpsHNFF5GdUAAAAnkGatEmoQWiZTAgh\n",
       "//6qVQAwtXaVppeloQMoAAHStU4QWo2IAF5joWT093ddPxS1DXofNlsZ0NIvIbEgMxk6DF+gVyZf\n",
       "I035z7jdlLi5cOM9q+EPaxcF84P97J5qZaPAA73GjSaj7VQehLSxvF9DE9FVfUISk2H3+uLRwReW\n",
       "+K2QVVn/gqEUxQruOn3ihGcaYgMPiko16fngb6MjnGnYAAAAfUGa1UnhClJlMCCH//6qVQAwrWwj\n",
       "0UvXPdUZ/sUlHjGPBwBJQMpCF38povRkIw0xQAQ2bhSAtiexgtQ12KtI+7NVfupFLjzQ78fwU6mE\n",
       "zuvFbqRlNV9KOHJRnmVkhtvUHiIs5RD1J3eDBFmyHc8g+1dsbIef8j+iz/6f4OixAAABCkGa90nh\n",
       "DomUwU0TBD/+qlUAMRvCoJK9YbOJm58onnA6SbIRaKuY0hp/2cPNwxpCDRYYl4FBbeoOhQKDQdxq\n",
       "Z1Y+0mK/GfG4QVRyB7C2yOH0MKMMICMqrGUkh0zYz8jVnc7OZUOX+MxTeglSH+V6Tnkj7VydcdvV\n",
       "VN3thv55BOYV1OZXwif00K+yaAreqDLqk+WdRmh6CegQhx+evl8oTvzB5Q3nGH1XxQ6Iq820TO/+\n",
       "zkSWfH3tcXXi8AP9adFMX+gjcvB5JnAI+mPzJsJZUrwsuHf/UpzWJlhH0eOBPxAj4V8wuiEtAyzC\n",
       "4cH2RgiuP0Aq8gcIWRtfuXA4ckiei70FKlBbvF8jjlwhAAAAUgGfFmpDfwC6wGUKQcvULPesUxDH\n",
       "eBWIgonQbw7bcuUWAEzC15dzmUHmsR7tq7IwCEXry+ksOAMOgwBZd0/mMa4mghcNVKfN5Bi8tBYT\n",
       "m8Ze2mEAAADQQZsaSeEPJlMCH//+qZYAthMNqvDShEEbiO18h6fQ3z/+F3QAoCBe/NqWCrgw7wcC\n",
       "4dDv3Wfz41FF7NytruHS45wrtPqRuwhijYYxFVw2PvKm0gawv+1xnl4aktTSpw0pTbOKykpW4fHH\n",
       "cNKUYZBMEhs79+Cy3Ahhituzd0SzgUMzQHwfrqF8IXtPf+/HAQhqBrDRpCox5vK+KcQKo0WQCg7j\n",
       "Kn+2NMoAOYCICGrKFrjk9FcVoSu8+br9eIGUcg/QJPU6UQ5XFrCoYtO+EmAP+wAAAD1BnzhFETw3\n",
       "/wC6wGTxTLMCw8B21Qw0OSqtTRP8JVZIAapAAM1YVkPI7Wlvuf5W2QQY4CYDYiy5ZhPwpj2TAAAA\n",
       "WAGfWWpDfwB8BvUbh3IlTCAcpDKAqHAAFx9G2y9Ym5ywpeBoR9eyFEdBKURuAzJ6KLkfy4t82VtU\n",
       "Jgawx0h5vnJAihXVvY8Qg/smEYPXTsliO1ywEF1h2jMAAABlQZtbSahBaJlMCH///qmWALYsJtyY\n",
       "4djm0fPrXQBAi7tIBm5dWf2Di6+dkKPaNDQXm9KpBRRMimzy3qGTLvJY85H1RNYFyPvqJh9k6Cw3\n",
       "ATsfsZKs5A76q7JVRSJZyGzkCBqZJjgAAADMQZt8SeEKUmUwIf/+qZYAthPJ3aMtUExJaIx775u9\n",
       "Vlk/iAohkapvIXIJSsk/mdux4f6WOSqu+3o7qhMjtZOdMtE9SvIyYIL4JTvttHV7pKz+JsVv0rX3\n",
       "gRB/TlG3w/UNoDh0NIej1bP/P6sXXLZFp+D7kf1rz8LCoHsOoZI5rwdBzMmZ6phY3UkJsUtebOXm\n",
       "NjN3NMyo+tmsOGJhlXlllZFXH1MG9al2lKB+NnA+oFpk1UCZs/ozqAgFg20c8hYCDnMfXZ8Mlspo\n",
       "G2CJAAAAvkGbnUnhDomUwIIf/qpVAC8LEhR6pVwt/dUZ/sXD7Yyl8Tur5634HeWbKfZaOHcDTsfq\n",
       "J3gpn2bE97FIAnrnQE7+9P11fSfql3E7sOOHDA5xmW8MXhGHbGGJ4SuADIsO+5rKU7nzuBuS8HZK\n",
       "fBbgF0Uc+Z4OzCbdA7Njr7yje411QJj4GY/3e8e2q/e/mNds/UyWIElMfxhSQ3UZlrdiWnbYeAxY\n",
       "9bNNu3airtV00PkbNhLY7RGMfMST12G16jkAAADrQZu/SeEPJlMFETw///6plgCwkr868NKEQRuI\n",
       "7cXtLFhoF93KWiiVj353/4OOX6o21hv8R2biubmIYzxX/3JAz5swsonPIjVHNkJ9RslhY2CjSSN/\n",
       "n0DDldI0TgvD7ryq0tf/nwPWhXY03r9f5R0Jx8fnuIxMUQW25UdJh8Cdp7gTdHIjufUzfV/Djr0d\n",
       "cgepm2v95C/73WkS+XNeuhsQLIWaEHhQiJnN/YD9v76N9Ribfu/Gr+5G5WwUKQMIB+c3jzk0K2GH\n",
       "7egwQHW11bHuKbMe5HecGA9SSwKHaSm1ACeGehSYZLdaapS0cAAAAD4Bn95qQ38AusBk2D6MmRby\n",
       "qjFQ5an8svYl9gKAAa7b1ySqDHGmRqpHnznCZ387j4fXdEmp0jXkhh8yj2YESgAAAHBBm8BJ4Q8m\n",
       "UwIf//6plgCwkiBLw0oRBG4jtxd8XDu2rm9T+QAcxJXVBI3g9j0KXqiZ8zTq3LgA/+f+iFhqpj6n\n",
       "AIE43vRE/PVEYnZQNUUE8iSdpL4zEMl9ecXSlYWsVFepgnEfXqHipyO8TbuDWP51AAAAtUGb4Unh\n",
       "DyZTAgh//qpVAC2NpfmapVwt/dUZ/M8mPMUFO9a0pUtQo8iTRvjdxvE608wvakwujG8RCWsXOQzE\n",
       "zheu4eMAPXqQdqi/sHSxr27Z9isne4dmie2DNush86xjoFOrEg7dnZuj+RWwOSFe8IY/F8OaKhuZ\n",
       "6EF0jLd73dCCj7d9aDwmoiwFl0TzNx/YMu/e7UfeP8CEkqdEpwLzC/Wnfaqd2bUAnU5SA7bVLyjg\n",
       "13+xXqYAAAD0QZoDSeEPJlMFETw///6plgCwkscS8NKEQRuI7W3ks436FC8iV32XFgjGVMr8/Hsd\n",
       "rxVMniWRVwwr3uv/qBUIWGZc1AtiIgSYH5oimvUpp6ajIVtnFJDlSPqWifsRUHcdVcJYiDqtiNbv\n",
       "r/pek7KmT3yF8No05v6hPmRNMmLqDAF94E5IHKF5toJ0dVWltxV3mVkzSMxh2bIyYswQ6Rc4sM+D\n",
       "ABz2QuKvJfPShY576uHvNQ/Pc/C3iMBeKfGSDPdaISJ0RALQstJL3lV+HNI5Ne/AE6sfimSVNCCK\n",
       "m4ANl1vBlfq+pE/Yhfi5EPJs+zH/d82gwQAAAEUBniJqQ38AusBk2E/18S3lVGKilsfSzXRJVmH3\n",
       "gAEod9c3/aFP/SxVtKh3S7t+4iBvNtjX4wCW6gBN/sYRQ6i0/+vKsjAAAACvQZokSeEPJlMCH//+\n",
       "qZYAsfxhHiBMpRj/CU1YrSQqkrtGzy9AUie1xMOi2Rbv/KozN1u1F0zLDr09NFJuQ5nEehH6U+W3\n",
       "6EpGN/AueE9XLJb+DnJxSftSvoGV2LiprFSMVsieNl6V5xQI5Gv6Ptnpvrd2TYoR0qqWIXIZkiw8\n",
       "cQKAI6jmmK/S0USPdoJti7kP9/IeGH8E2N1Acd2cfmBtHuGC1xuhnxFTmf5LXj8M5QAAAFlBmkVJ\n",
       "4Q8mUwIIf/6qVQAsJhtKpVwt/dUZ/NDG/ROACaHBDhKwik8FWUGNHhVkfh7VMhezxWBHi+4ANn4a\n",
       "M8Upv0sL8QljNK4RNsZaPZ7anYE1PPLxUV4JgQAAAINBmmZJ4Q8mUwIIf/6qVQAsJbk1Uq4W/uqM\n",
       "/tlPeLMAEt1e3IzX03JnJcroT6Uts5FWntheRtFzWQPbJzxelzM48I2jzRnUGBQF/KDu+PWHRNXX\n",
       "wGimOfw7a+o0LtJukC44EVrbPftjW6Umbrc1vYJaRWQLX2LJ7iTu1rM/rRQJ7TqcgQAAAGlBmodJ\n",
       "4Q8mUwII//61KoAWEu9VY0w+ZB3XqEK6a/PAPrvP9zNwAOuPub18PGwHClgTpVE6lpXksZB9ktrv\n",
       "fHUk+igOc1o4eAr0eA5rT3keWkhvy+ezHuyT8hGxW7d/d4rdjXN/BzbNAbMAAAFMQZqqSeEPJlMC\n",
       "CH/+qlUALH8cuFXYfoq9/WguviFfyckGF4brggGi79+aq6nb81iUtXPmk2Z5vUFQmf2DAG3vt7HI\n",
       "acyBqQGHJhmNoqgCvWXi3LIE/C/CuPbFKROxFPv3OJMXYQ0TSnNh2o0nEJjWmVW+6WPtyy/YfTaQ\n",
       "JlxAotlU47tYpU94Ucv8yH67rnZPkfLKrQJewRW3dTGGLdTaLzmzGxNGIWYllIu1x30InVODbk0p\n",
       "RCEizKFFAMy90rMe3PnUW+V96G6K0ogkQsCM3RwPVjb+/nYUGh/NHfM9FdzW+u7cAq+RN/p7qSBi\n",
       "cKxJXOZ1azJh+lcb3KTG1xqgQG3Fi0ageVJE29GzniuttBDf4sBNBcN34CffRk7Gx+lrrG8mzCpy\n",
       "GwQvBbgpcTnaN/sjiMMWuyExW0M394LGpWup8U5Iy3uCj2xdrBMAAABXQZ7IRRE8N/8AusBkwiIB\n",
       "S6Ll2qo0DLB7XpFnV86EUmBtJWd83u3SzCzACwcqsNdASIpOES59zBNwel1NST5mXw5yGYBnCmro\n",
       "Gv1XD+kqYg5I//WBSXOAAAAAXwGe6WpDfwB2k6spd/GHNmZLbZFPuW3DXjAS1h3QATkUNm14l+jC\n",
       "WT+1pQ0rKL3uozulmUqknOTonketFTbfWUK9dkf1DT+w3S4eekXHaiEs54aRbIYzR6ANbeeriNzp\n",
       "AAABAEGa7kmoQWiZTAgh//6qVQAqxfthVXLhb+6nq7oOi6YSHF3Xs0dfu4F5qfBJNU/Bjh7j35Gg\n",
       "DLJ1z2T9QVCXUCQabwb2L0alN6C1Tkn9NYNT2izOM6/+djMy3xpQqA7vYWFafMvUCyMCjKWMbm3v\n",
       "Dzsa7balF/e1QPc+a3GQWI6FdRjuHFHv3mKIaUhFnWJKgyB2R0QmHOv8if+8Boqd6IAdqaKHZrVq\n",
       "2WQBNtwlRL8xOAp3fYJsiQs6G1DF0M42ayGJ7JUAmlvMu9skRqCNvGLuoUrelkQ/HMLQCDxnaYYH\n",
       "qtUBUX+w6dfyeCLVSBEoSGgywrDi8wYW/09X+bLhbWwAAABpQZ8MRREsO/8BQEYtJMGCpO4Ksd27\n",
       "gCkZJMoiD80+g/xdpFNvZ1saYAVndmwAH8hhDkxn8hf9nepFfo5UezrEw7WsPlGXc/wp+rIkczAU\n",
       "cXSYdxxZ6nxujL3Mdbq1jQxN/lZQ9FdcKhlUAAAATgGfK3RDfwHM7o1e/S9B23esnGvJ19P1LscN\n",
       "NNEevYkAI+OlooHKrXg0idwxo39QwxwPu+dJRW0U77otLw/eU25z2PsmpVPRDwXsmnOyoQAAADQB\n",
       "ny1qQ38BzefJD3zaAglus93szigANFghBdqRiR/MKsxM6xuXXSqCqUPAkcCe1RowclwpAAAAn0Gb\n",
       "L0moQWyZTAgh//6qVQAqy45g6uXC391Rn8t+70tkVc8DAKIUzSCoigf6+NPPdj3EV+E2RlnXgCDE\n",
       "YfpTgqmv09JClpGlfsBTOqDaKVrv4kJXwC2ryyRsC3pncU6ROcfBBmzKngHTL14GdGxA+Ckl1hl9\n",
       "d3WQrKZaZYvu/LGybI21irStZFINyPHD49691ag2IaYXrGvPVeRjqamgkwAAAMpBm1BJ4QpSZTAg\n",
       "h//+qlUAKx8dCMBqnoKPqUgdInYGR9dFeBifN7cqKrM9ISAIsdSbpEMNGKbOef67H5+ljavM425B\n",
       "/rZxLMNL9mZ/jm2hDFPh4PhVUcTtYq/S92NJ4RV6Px0Lbz7zj2ETZrUQrok0Y1sdBbJJGJIohi1H\n",
       "p/jAHLKingl7ZcpFo11tow32IF2l5y/O8NA937BmqaRXDy6eTtTxiNNP5qLI2WyqhQpLZYEXQK1C\n",
       "ur3LaMpzYehPfycUwfIKgmN+6GHQAAABLUGbc0nhDomUwIIf/qpVAClymdQVy4W/uqM/zDL/eaMB\n",
       "AHNKprVEtLimHr8iSrobgZhBZSL9F9Sh+4wD5gn4vuJ3sN7J1odJwqnaRFjUKQ0hpdrTy7mGI8oR\n",
       "fZDzODyX7cqgt/tFUa37nW65g5XZ/HK2HWipEDzwduP0+h3cMn1OxSCZ+Bef8cAitvKeps2ILAGc\n",
       "GK6AxK9Gdftq6ofUVKn1Tmox8ZuCaBXitKt/1dYixcT2BpxoJrMDCkpgxjHu4LIxPh8FN0x9j+sA\n",
       "HDaX5+o6pqFPsSV+j1ePnB2nuxYRhg2/Lb+nHfBFGpvsYJLjTPq6ZMDD3IRzGN5fK30VMqqPbWp9\n",
       "J7kybNibb704NEtnoDvT3Ohnl85Ify58YbjUV0xsTWpfcbr5XhphsYAAAABLQZ+RRRE8N/8BziJw\n",
       "UorSkOFvKfTm+/S7W8iK5Su7bBTy1P25ogA4Yk0Ac2dGESaw0D7rEOoWSpDH3HsVIUOPHRVHJ8Gz\n",
       "ZdBxnweBAAAAZwGfsmpDfwHN58kPep3iCV3Uhs99duC9p7sACaDTHJAZikQDUR7HuuJvVhn5swe7\n",
       "Ger4ap8NZLB/pfHyea1qyuzPafRAYC//ac5Gggu49hF6m+ZXxCkcyf+GlcPAPWyFb8sCvQp5fKoA\n",
       "AAC0QZu0SahBaJlMCCH//qpVAClybvBXLhb+6oz+WiCEPumVilyohXNIAWGFkTXNVWuY8zeJdQnz\n",
       "lLwMsX64rkY3PZtJovldlebW737FaAfbCtZzUtYtnPCZa6cCInSR9oM7C1QG0UHMX5zFXfAQoaCY\n",
       "cvNjZ2scTCxz/AolBmzXNgOC9jfhJO9GcZYTU/zPlJwJXWIS4n34xdODg/BdrsTBDpS2Cp5D5dMR\n",
       "9mazRHJ3oZm75blAAAABU0Gb10nhClJlMCCH//6qVQApvxy6n1EAE6vWpJs1fZNha/hwpz/Apa94\n",
       "y7OPnTYblvb4ipZbcQuOghqU5j9H3NTR8gONkPjIKjV5zpiZePA4OZaIT5ZxMwlzvOzlf/jCn9I4\n",
       "outlbXSrsFNM64RC9ijirZrIof5KloOXbGXYx1oxOrpFs6qaVMQfRAoly3XXDIRetZG71Q4x+mHF\n",
       "KqxHkcq50ceuynVoa3tMDEfe6zXcKigKCs83JXZLXbZKBcjeiKWnouocCylIL5EjiWkjcEHiYaxz\n",
       "sa+M126Q5gPkF2dhOMyONlBx4dnfAAfsPExV72c+TUuAv5v2H+E0pL+N3JYJj37DLGP6jl26v607\n",
       "M/P/wZwPQlC9cjHx6f6aPlSDydr/AKYOKfrfz5ewDCq6KO0a2OlXS0sByXj7kR8EYQuHuE2eF5cf\n",
       "50iQNIo/vvMb3DZMmQAAAGxBn/VFNEw3/wHOInBSitKQ4WWXcGEBva2SO2VYh7xt/lwAWtokkhaO\n",
       "KjaIGvUbT45zW5SEkVLBbeWlS/CEL/cmXXgQTaB17Jc1PLv0H7L4gNmzZE0JnjixK3yXL4XmCPCI\n",
       "EYfXGmi/KPKQOAgAAABQAZ4WakN/Ac3nyQ96xgOlm2jHVypNIxOhgZrGABOMZYYVxquriEI+unwb\n",
       "ti6gSC25L98DM7hXIPtDsr9+vFUtqr1S/t2B+zYsgrPTeWa+ioUAAACgQZoZSahBaJlMFPBD//6q\n",
       "VQAoMo4cFcuFv7qS9jLXFVYCi4ACccDuy/EvYdACzmxuHvcugaJG0Dy1MsCn6ref1web3ri9GtMj\n",
       "A6zX2V8MSLmZcC51piLtcVUnQPBBcVe4k2FOQLfhKmthBn+HsXpOBB999FiwC58JmcQ+Zoj/DyKw\n",
       "AEQ0RBEE4c/bLNYey3YbqcSFSuGlpab7aGmODSagIQAAAEwBnjhqQ38BzmBENL3rE/sSfwc+Vwc9\n",
       "Dme7EABav/66WGChKxD1Hn/mLiZ/eG9bGcF2k7JfTDtqgFP8Fq6vTA8laxteZ549wu/4JM/gAAAA\n",
       "l0GaOknhClJlMCCP//61KoAUGjaHVYiwYoHJ6tQGU+LlOqwpMz2Wr5y3gE8lCapHLZH0SHC315xK\n",
       "tkKq8hRAZf611/YwOk/BM1DI6f042PAe89qrnA2VnVINmJ5U3Xy+3xM+EExf0R51pUFHnASor1JZ\n",
       "Y4pjR9LvTx0xbGFz+KdDAb5Xj8iFO+W+VwUCCP4kD/pi8tdXSscAAADqQZpdSeEOiZTAgj/+tSqA\n",
       "FD+fxSFR5+rDaPEdUJqyWBgH7PbISOlMK0MBeljY/2+ji7UuEadzCweE39ukalS1SdyF/JRmtmaV\n",
       "lvaF+Qy40F0MVFD+RNisFY48I2y1icGmzXJFsAGQlU5zEpNzfxL4wv2OWXy7lwFwJiTb7Z0uIPIF\n",
       "B/4HUNS68eo5jnX/9DKPWTBvRbJtqnPXK8+11k21qSxSAZwjbtvdQGrr+EKLcywbXLGDePH1A/gn\n",
       "d9Z6gHhPQdUb4hsQaYT3DuQh1DQMV0E3uHoiFvjqzPUavP158BWfNp0jYevM87L+AAAASEGee0UR\n",
       "PDf/Ac4icFKK0pBhZc/ITlbsumxXsE9gBXDd1tQvsqmpZgHrPsVsMtwWfY2b6vk6Pkeoi2IdjnWf\n",
       "8zyibwNjQzUzdQAAAEwBnpxqQ38BzefJD3agfI4r+y+C/+RymAD+Cw5aAA9jjolPEP29Fh+RvdEA\n",
       "cNK5xy8SE0vaWwCoWbDrcn3xm7MNtR0l5xfHsF3B0YFxAAAApEGagEmoQWiZTAgj//61KoAThnSY\n",
       "i1h8yDuyyuvoBCPpWUKrBZgPw0g0XCxMfTPgicvgEbB3URf5fNlXSQJdoc+HFXS8U1alg9MioXdU\n",
       "fPk14mEbVWxekmfmhVA8cF0pGq+Ke4XyjLIB9xjV/sumEm0wTi04RRgC5J8gI34y7HgOiS0IpeeP\n",
       "EYBQT00Nn+ICsdKvansj7w/+5fL98vHlqzv2zlJAAAAATEGevkURLDf/Ac5gRDS96xLXJSUZAYS8\n",
       "v81yoIPiABF4Q1U/8mqXydtCDBAvfVxhJhCJcK9gmgct6FzLbc4e75uvQ/mZLKAtLNy1lNwAAABK\n",
       "AZ7fakN/Ac3nyQ9ynjUJXdSG7qeVf/QALpK/LNSW6VpbIW3GrcBAPBOcq4l0w9FanYjBSlPeMzAg\n",
       "GIsf7L6iiEDw8g/g9+1/DlcAAAGPQZrESahBbJlMCCP//rUqgBOfv8IRTZoe1X1w/jyJa65kY4K7\n",
       "VqyxCLn6XXVbfYCDkw7cTnupes394ED7WKjgOriERJSxbqMvbA0rEdDQpdN5Zh2gIG9hhlIx61G3\n",
       "MPFMfTDc7eUisGiPz2b/RHlsyJVHB9dkLCOCea1kB3YOEipCwTJ00SajAvxUDNBkdhvDtV7+VyNo\n",
       "s1LZHU824Ww7Un6LgRPmR8rePt/kWKUIEVFQui2eAsp652Lwbi1Wg+ojkhhjq91Ehise+vdBK3Eh\n",
       "erFl9w1yZDfLv80fWOO5VcBKfoH4Vslpsk87qFZzGEFi8bA6vz2WhXAQwvFJDKrKhIJLXoHZwQZu\n",
       "6mx+8/UTjWbWIn76jn8r62LgoZbE5VpqsEyGXKzz6NhFuTwArSRjnxZ51GhJJSu79qbhaliZ4VSF\n",
       "c0qLme4b4Rjk1NZr+/H7LSQQHDKYf0j5KWuzupPJbgVcP/cYigkqNm9EyqR80sYTxOW9auvADI6m\n",
       "8Wzwoow3hEoTubHsLPJdqrqZWDckAAAAg0Ge4kUVLDv/AUx08GioeCy0qeeqRdIE6wHwt+r8lLYA\n",
       "iwLwaxzzlGZnwk3qm/PtOF3fpUGDc0MCj1/a6+lLHOzjpb+ypkoHLu4cPtPL4+M/i2r9ePMfnvEZ\n",
       "8mDmQX744cfqNyPTUawgpirNY3iVmYZPwMG2TXdT1jy1Exwp+P/q/umBAAAASQGfAXRDfwHM7o1e\n",
       "5TJ65u9ZN7V6AgoRZsPCLQowAenLk/XBle8bzn/Y8OgCMKVJyv7KeLES41rHf7cfE55wEB4gS2Ax\n",
       "OWnadIAAAABpAZ8DakN/Ac3nyQ9yxgOlm2jHXDuX21FBAAjE//sd5LOkO8egJtHsjJhQwBFi2DUh\n",
       "vbzFTx+ZCjKNkRGWnQg4So337RdhoNhxq66iE5u7OxR6TkmexMFLu9lWPH13NS/yOaxaaXx47kRJ\n",
       "AAAAzkGbB0moQWyZTAgj//61KoATA5rl0Tvx2sU6ADV2/8cOEZ/RTaryMLk1Rs74i0jC+9fX5kB7\n",
       "MMZtlxNyDOfctbM6DQnH3WErA72dmsv8HwyA2aZets6DmoeWCRFr2wzB9Ib6wDx2QIlKb0O7mjMc\n",
       "1m6muhkJgOmEWhpWt/+F79gsiHNk/v5C2zIhMv1JiGRZgKmVAak2fYH34oH5VKsh1gouWfRtEOKQ\n",
       "L9+eLKAUqOE5MoKpvD2p4c7LMsVg+n1gU2hoNDc8lZTCUsNrjLINAAAAWkGfJUUVLDf/Ac5gRDS9\n",
       "6xGTNNyB35zLCQcMYYPcAFpjeI/OkyaLzxrEAikQmdjODCP8JlyFwA7y/+FGI8qB3k5ZKNepiIHi\n",
       "n3J5RPFjKoYYLZn3ng1Cs7OlCQAAAF4Bn0ZqQ38BzefJD26eXoldz47mPMEoATGH870CyG9iCbId\n",
       "lef9AFexptIi1yhoI/IcISQuzczk61dMtif2EG7zTzGN9jL5gbZcZvhT4xQxfdsJzq6ZI3tWqZCG\n",
       "QlBBAAABFUGbSkmoQWyZTAgh//6qVQAmBthfktqjBfbDyRrdziqEKibs4APYMQ7/L75oGIaPOpvw\n",
       "tgT8Xc5Rpcm2UbqoGczLE2tRuNb7Q8BV5EX0hHW7AxUPUjqtULIO25xA/z+6R6D83f+27fZnPwgD\n",
       "oswzw8xz5iIHcGQC39C0THrIbqfr+vPdYO5FM+VXOmxwbfhxcf7YRvHowm2bfoiievNO9XqBblFa\n",
       "jZcqrb6UgKXXVVSDB3ldUoUqRV7a6aHcfry8i/6Lt4Z91Ml8DlkMX7VaR1OQVbXLofCMCXddIddL\n",
       "TvUn3LraPU1Vz1yI2nOrs14zdset2SoW/RmGag4L9CfIO2OnD+6IpaHXvm1w1jjJ2plgFsNzBoAA\n",
       "AABVQZ9oRRUsN/8BzmBENL3rEZllo38o+Ajdq5oYomWhAC27nUX/yGPtXemjBX4pXn4jafNWM+9Z\n",
       "MmLe42qF2geIHBltD1roSgndOhMzEMS6mlychx/nMAAAAGMBn4lqQ38BzefJD26eCzrM3rXdJUYa\n",
       "LjvwAfkt+tAbY8qVN30QT3gqi6QqPei1r5dNLa5JnKMmLt5LPfspoNaMmc/qFD9WLz5NhRhUD1G2\n",
       "+Rt7y53ajFdYwoYCxl/4iP/c6mEAAADlQZuOSahBbJlMCCH//qpVACUKwAy1a3bmmDPTlABdHPFI\n",
       "uuD/P7cCCwPtimIc/ShpqdAK8bCqOQOO9/zvjKH6fm4/uhrIfCGEo5+fu/fhYTQYe7yjS/rnJsDA\n",
       "tC/HgGDKkqHdYv2XW5PpUYsdwZ9kCwf6YogEzNzf6ae8GX3UYJMjf2RaqqSazEt18fanukw/3c5j\n",
       "mGVj6cRoINGtrV8+BNn00XcRJpzWK2pFSV8tN0RhgkLmbLNutYbGBpKx0YCEYKQM6YtVvNsvPape\n",
       "1uhr9OJoAaOpBSnxytHJT34cJ8RgmKEKEAAAAF1Bn6xFFSw7/wFMdPBoqHgsHTZvKBCljTtJ7JM/\n",
       "9C0AH5H+SA91+e/BlKSTMBHjfVldK2Y78Zw1XrUt0i5U5sAl5c/G31nrhlT67SXB/sPFwOCfmNLY\n",
       "OJq3zPxjgqYAAABJAZ/LdEN/AczujV7XBkO4BgR8Z1Mic+tT6wABa3ITTL3EnWW8bg8IDjemdblR\n",
       "Wb/8NadIjj6PjASDrGlZJ64NUsaGEl2Z/7Vf4QAAADoBn81qQ38BzefJD2svTV8bIiIgA09EYywS\n",
       "M7jSODCQWGCifc5pt3QjzYd9gpcr/42HrT27TcLsnBDxAAAAvkGb0EmoQWyZTBRMP//+qZYAkP1k\n",
       "FtlZI0wA6KIleuzPRn5Qufi0wjbXI2/k+WbALRtjZzYgZPFVCrXMpWgYiq1J5GXUN7xpgcf+H8mT\n",
       "s+T1h5E4drPpxk8rx79o7cBqGq+JxPADdJKLcLTfYUBFXztv0v2yxqzinWexCD8MHElBiwJ7HKJG\n",
       "kJa6xHdqdukWRAdxms3AKCSjIhi82jOhDezDu54O7zshiEJaYI8+fiFcUvlmuXB+g7GD2kLLxYEA\n",
       "AABeAZ/vakN/Ac5gRDS96xB47C09hJs8FoAWyNOombbPEqq2P2UYRMa7fn1zLUyt/OIF8XMOxZx/\n",
       "f1LfyxsM1IvCS3/XAaOpXI3J96MvUwSGwl/lKqeOMSk/wht09OKfMAAAAGhBm/FJ4QpSZTAh//6p\n",
       "lgCMF/8FOYiRUAX+7JgyY286Y7UtT+pvRxc2+5W82u40D5kQ/BzfI4E+F1F//CV3UJCHRP15GfnS\n",
       "9rNMxzOoPAxcBS0HFtCAIMVx+oTqQ4hjclDuemU8f/5+LAAAAFBBmhJJ4Q6JlMCH//6plgCMKtHE\n",
       "v/ydEDNH3jACyyUQMgsK0tfyq+uVRIVdq0VUaBmjEUJwXLBHMX/l3bqRXUQ6ZYbwbA47HbJHqRIr\n",
       "d7oL4QAAAEZBmjNJ4Q8mUwIf//6plgCMF+tEfa3NsN3H1/0cAEeclG/SnyVbqJXyyeuMPj5TTU0Y\n",
       "9UmgtaQjSoMJikGbtco9NjHAY1T4AAAASEGaVEnhDyZTAgh//qpVACQGqkHcnM1uW5QcvASAA/K/\n",
       "BwdKf3kFWucxnuv9dtSNpxNQHNNvny8hmn5Ai3Q0DzPytU3iXFjr2AAAAHpBmnZJ4Q8mUwURPD//\n",
       "/qmWAIwxOssI+4eaH5A7gtwAsYJUa+Ws02mi3aavWe299x6KiL/OVKrPjrfSnQd9Q1grA8Bp6LEI\n",
       "j6k58ZPzkL3V029fwB7b3H0c1wHJ49LjYOLMBnyDkmcEpivEpZW4bGrOJpPguVL9UXJT4QAAAFYB\n",
       "npVqQ38AusBkUaBG/eZWvoAE61oLMcIaPvhzfHNrWkNiidRW2mUxO/NOkgykgq5Lyxnk2gDLmMIo\n",
       "FajlSksZRF98w810uXPOfcqr3nwYswVXbX5AKgAAAIxBmplJ4Q8mUwIb//6nhAEV+lj+sdrqoUAC\n",
       "5L8BgUat74GxDZ02LsCNZbwFicVx2mBnndwh+k8+uUUsHA0v/7Og90VYL8TaLZIp2Tp+I4tajB77\n",
       "jOUbzr8ahKYw787IODIMR577IZzpc965dxoZjVXSaUwyaJomx+wZHYl7C/PiLLKcfzhblOcogh+h\n",
       "UQAAAD9BnrdFETw3/wC6wGRNGOhxKYluAAVGBSeuef8UEYPbvJrHsewF1RX8tudrPxMkZsvCFVdu\n",
       "OUamSVWgXHJ+WdkAAABDAZ7YakN/AGHT/7STJVL7+gAXSIEjMxCwJYWYmnV207ijn/8TW0erp0Y9\n",
       "MaUhzKTH7swcrqSxK53O36hf0QmrEo3+swAAB+Jtb292AAAAbG12aGQAAAAAAAAAAAAAAAAAAAPo\n",
       "AAAvqAABAAABAAAAAAAAAAAAAAAAAQAAAAAAAAAAAAAAAAAAAAEAAAAAAAAAAAAAAAAAAEAAAAAA\n",
       "AAAAAAAAAAAAAAAAAAAAAAAAAAAAAAAAAAACAAAHDHRyYWsAAABcdGtoZAAAAAMAAAAAAAAAAAAA\n",
       "AAEAAAAAAAAvqAAAAAAAAAAAAAAAAAAAAAAAAQAAAAAAAAAAAAAAAAAAAAEAAAAAAAAAAAAAAAAA\n",
       "AEAAAAABsAAAASAAAAAAACRlZHRzAAAAHGVsc3QAAAAAAAAAAQAAL6gAAAgAAAEAAAAABoRtZGlh\n",
       "AAAAIG1kaGQAAAAAAAAAAAAAAAAAACgAAAHoAFXEAAAAAAAtaGRscgAAAAAAAAAAdmlkZQAAAAAA\n",
       "AAAAAAAAAFZpZGVvSGFuZGxlcgAAAAYvbWluZgAAABR2bWhkAAAAAQAAAAAAAAAAAAAAJGRpbmYA\n",
       "AAAcZHJlZgAAAAAAAAABAAAADHVybCAAAAABAAAF73N0YmwAAAC3c3RzZAAAAAAAAAABAAAAp2F2\n",
       "YzEAAAAAAAAAAQAAAAAAAAAAAAAAAAAAAAABsAEgAEgAAABIAAAAAAAAAAEAAAAAAAAAAAAAAAAA\n",
       "AAAAAAAAAAAAAAAAAAAAAAAAAAAY//8AAAA1YXZjQwFkABX/4QAYZ2QAFazZQbCWhAAAAwAEAAAD\n",
       "AFA8WLZYAQAGaOvjyyLA/fj4AAAAABx1dWlka2hA8l8kT8W6OaUbzwMj8wAAAAAAAAAYc3R0cwAA\n",
       "AAAAAAABAAAAegAABAAAAAAUc3RzcwAAAAAAAAABAAAAAQAAAthjdHRzAAAAAAAAAFkAAAADAAAI\n",
       "AAAAAAEAAAwAAAAAAQAABAAAAAAHAAAIAAAAAAEAAAwAAAAAAQAABAAAAAABAAAMAAAAAAEAAAQA\n",
       "AAAAAQAACAAAAAABAAAUAAAAAAEAAAgAAAAAAQAAAAAAAAABAAAEAAAAAAEAAAgAAAAAAQAAEAAA\n",
       "AAACAAAEAAAAAAMAAAgAAAAAAQAADAAAAAABAAAEAAAAAAEAAAgAAAAAAQAADAAAAAABAAAEAAAA\n",
       "AAEAAAgAAAAAAQAADAAAAAABAAAEAAAAAAEAAAwAAAAAAQAABAAAAAACAAAIAAAAAAEAAAwAAAAA\n",
       "AQAABAAAAAABAAAMAAAAAAEAAAQAAAAAAQAADAAAAAABAAAEAAAAAAEAAAgAAAAAAQAADAAAAAAB\n",
       "AAAEAAAAAAEAABAAAAAAAgAABAAAAAACAAAIAAAAAAEAAAwAAAAAAQAABAAAAAABAAAQAAAAAAIA\n",
       "AAQAAAAAAwAACAAAAAABAAAMAAAAAAEAAAQAAAAAAgAACAAAAAABAAAMAAAAAAEAAAQAAAAABAAA\n",
       "CAAAAAABAAAQAAAAAAIAAAQAAAAAAQAAFAAAAAABAAAIAAAAAAEAAAAAAAAAAQAABAAAAAACAAAI\n",
       "AAAAAAEAABAAAAAAAgAABAAAAAABAAAIAAAAAAEAABAAAAAAAgAABAAAAAABAAAMAAAAAAEAAAQA\n",
       "AAAAAQAACAAAAAABAAAQAAAAAAIAAAQAAAAAAQAAEAAAAAACAAAEAAAAAAEAABQAAAAAAQAACAAA\n",
       "AAABAAAAAAAAAAEAAAQAAAAAAQAAEAAAAAACAAAEAAAAAAEAABAAAAAAAgAABAAAAAABAAAUAAAA\n",
       "AAEAAAgAAAAAAQAAAAAAAAABAAAEAAAAAAEAAAwAAAAAAQAABAAAAAAEAAAIAAAAAAEAAAwAAAAA\n",
       "AQAABAAAAAABAAAQAAAAAAIAAAQAAAAAHHN0c2MAAAAAAAAAAQAAAAEAAAB6AAAAAQAAAfxzdHN6\n",
       "AAAAAAAAAAAAAAB6AAAV+gAAA28AAAD5AAABTwAAAFMAAAB3AAAAlAAAAJ8AAAB2AAAAkQAAAOgA\n",
       "AACiAAAAjwAAAEkAAADQAAAAOQAAALAAAAE1AAAAZAAAAEUAAABLAAAAhgAAAWcAAACGAAAAWgAA\n",
       "AIkAAACCAAAAkQAAASkAAABpAAAA7AAAAJYAAABYAAAAyAAAAOMAAABVAAAA9gAAAEAAAACIAAAA\n",
       "0gAAAOMAAABlAAABIAAAADkAAAC8AAAAaAAAAI8AAAEXAAAAWQAAAQQAAABVAAAARgAAAKIAAACB\n",
       "AAABDgAAAFYAAADUAAAAQQAAAFwAAABpAAAA0AAAAMIAAADvAAAAQgAAAHQAAAC5AAAA+AAAAEkA\n",
       "AACzAAAAXQAAAIcAAABtAAABUAAAAFsAAABjAAABBAAAAG0AAABSAAAAOAAAAKMAAADOAAABMQAA\n",
       "AE8AAABrAAAAuAAAAVcAAABwAAAAVAAAAKQAAABQAAAAmwAAAO4AAABMAAAAUAAAAKgAAABQAAAA\n",
       "TgAAAZMAAACHAAAATQAAAG0AAADSAAAAXgAAAGIAAAEZAAAAWQAAAGcAAADpAAAAYQAAAE0AAAA+\n",
       "AAAAwgAAAGIAAABsAAAAVAAAAEoAAABMAAAAfgAAAFoAAACQAAAAQwAAAEcAAAAUc3RjbwAAAAAA\n",
       "AAABAAAAMAAAAGJ1ZHRhAAAAWm1ldGEAAAAAAAAAIWhkbHIAAAAAAAAAAG1kaXJhcHBsAAAAAAAA\n",
       "AAAAAAAALWlsc3QAAAAlqXRvbwAAAB1kYXRhAAAAAQAAAABMYXZmNTguNDUuMTAw\n",
       "\">\n",
       "  Your browser does not support the video tag.\n",
       "</video>"
      ],
      "text/plain": [
       "<IPython.core.display.HTML object>"
      ]
     },
     "execution_count": 23,
     "metadata": {},
     "output_type": "execute_result"
    }
   ],
   "source": [
    "Writer = animation.writers['ffmpeg']\n",
    "writer = Writer(fps=10, metadata=dict(artist='Me'))\n",
    "anim_Learn.save(\"Learning.mp4\", writer = writer)\n",
    "HTML(anim_Learn.to_html5_video())"
   ]
  },
  {
   "cell_type": "code",
   "execution_count": 24,
   "metadata": {
    "scrolled": true
   },
   "outputs": [
    {
     "name": "stdout",
     "output_type": "stream",
     "text": [
      "Testing for 1 episodes ...\n",
      "choice(1) - conversions: [0, 0.2601494936395941], reactors: [1]\n",
      "choice(2) - conversions: [0, 0.2601494936395941, 0.44804425979999357], reactors: [1, 1]\n",
      "choice(3) - conversions: [0, 0.2601494936395941, 0.44804425979999357, 0.6331085954859981], reactors: [1, 1, 0]\n",
      "choice(4) - conversions: [0, 0.2601494936395941, 0.44804425979999357, 0.6331085954859981, 1], reactors: [1, 1, 0, 0]\n",
      "Episode 1: reward: 1.000, steps: 4\n"
     ]
    },
    {
     "data": {
      "text/plain": [
       "<keras.callbacks.callbacks.History at 0x1d55f986648>"
      ]
     },
     "execution_count": 24,
     "metadata": {},
     "output_type": "execute_result"
    }
   ],
   "source": [
    "dqn.test(env, visualize = True)"
   ]
  },
  {
   "cell_type": "code",
   "execution_count": 25,
   "metadata": {},
   "outputs": [
    {
     "data": {
      "text/plain": [
       "([1, 1, 0, 0],\n",
       " [0, 0.2601494936395941, 0.44804425979999357, 0.6331085954859981, 1])"
      ]
     },
     "execution_count": 25,
     "metadata": {},
     "output_type": "execute_result"
    }
   ],
   "source": [
    "env.reactor_seq, env.X"
   ]
  },
  {
   "cell_type": "code",
   "execution_count": 26,
   "metadata": {},
   "outputs": [],
   "source": [
    "y = [] \n",
    "x = []\n",
    "CSTR = []\n",
    "PFR = []\n",
    "for i in range(0, 100):\n",
    "    x.append(i/140)\n",
    "    CSTR.append(env.equation_solver(0, x[i]))\n",
    "    PFR.append(env.equation_solver(1, x[i]))\n",
    "x_sim = env.X[0:-1]\n",
    "choice = env.X[1:]"
   ]
  },
  {
   "cell_type": "code",
   "execution_count": 27,
   "metadata": {},
   "outputs": [],
   "source": [
    "#%matplotlib inline\n",
    "#%matplotlib auto"
   ]
  },
  {
   "cell_type": "code",
   "execution_count": 28,
   "metadata": {
    "scrolled": true
   },
   "outputs": [
    {
     "data": {
      "image/png": "[encoded data removed]",
      "text/plain": [
       "<Figure size 432x288 with 1 Axes>"
      ]
     },
     "metadata": {
      "needs_background": "light"
     },
     "output_type": "display_data"
    }
   ],
   "source": [
    "fig, ax = plt.subplots()\n",
    "ax.plot(x, CSTR)\n",
    "ax.plot(x, PFR)\n",
    "ax.legend([\"CSTR\", \"PFR\", \"CHOICE\"])\n",
    "ax.set_xlabel(\"Inlet Conversion\")\n",
    "ax.set_ylabel(\"Outlet Conversion\")\n",
    "line, = ax.plot([], [], '--go', lw=2)"
   ]
  },
  {
   "cell_type": "code",
   "execution_count": 29,
   "metadata": {},
   "outputs": [],
   "source": [
    "# initialization function: plot the background of each frame\n",
    "def init():\n",
    "    line.set_data([], [])\n",
    "    return (line,)"
   ]
  },
  {
   "cell_type": "code",
   "execution_count": 30,
   "metadata": {},
   "outputs": [],
   "source": [
    "def animate(i):\n",
    "    line.set_data(x_sim[0:i+1], choice[0:i+1])\n",
    "    return (line,)"
   ]
  },
  {
   "cell_type": "code",
   "execution_count": 31,
   "metadata": {},
   "outputs": [],
   "source": [
    "rc('animation', html='html5')"
   ]
  },
  {
   "cell_type": "code",
   "execution_count": 32,
   "metadata": {},
   "outputs": [],
   "source": [
    "anim = animation.FuncAnimation(fig, animate, init_func = init, frames = len(x_sim), interval = 1000, blit = True)"
   ]
  },
  {
   "cell_type": "code",
   "execution_count": 33,
   "metadata": {
    "scrolled": true
   },
   "outputs": [
    {
     "name": "stderr",
     "output_type": "stream",
     "text": [
      "MovieWriter imagemagick unavailable; using Pillow instead.\n"
     ]
    },
    {
     "data": {
      "text/html": [
       "<img src=\"PFRCSTRconversion.gif\"/>"
      ],
      "text/plain": [
       "<IPython.core.display.Image object>"
      ]
     },
     "execution_count": 33,
     "metadata": {},
     "output_type": "execute_result"
    }
   ],
   "source": [
    "anim.save('PFRCSTRconversion.gif', writer='imagemagick', fps=1)\n",
    "Image(url='PFRCSTRconversion.gif')"
   ]
  },
  {
   "cell_type": "code",
   "execution_count": 34,
   "metadata": {},
   "outputs": [
    {
     "data": {
      "text/plain": [
       "'\\nWriter = animation.writers[\\'ffmpeg\\']\\nwriter = Writer(fps=1, metadata=dict(artist=\\'Me\\'))\\nanim.save(\"PFRorCSTR_conversion.mp4\", writer = writer)\\n#HTML(anim.to_html5_video())\\n'"
      ]
     },
     "execution_count": 34,
     "metadata": {},
     "output_type": "execute_result"
    }
   ],
   "source": [
    "\"\"\"\n",
    "Writer = animation.writers['ffmpeg']\n",
    "writer = Writer(fps=1, metadata=dict(artist='Me'))\n",
    "anim.save(\"PFRorCSTR_conversion.mp4\", writer = writer)\n",
    "#HTML(anim.to_html5_video())\n",
    "\"\"\""
   ]
  },
  {
   "cell_type": "code",
   "execution_count": 35,
   "metadata": {
    "scrolled": true
   },
   "outputs": [
    {
     "data": {
      "image/png": "[encoded data removed]",
      "text/plain": [
       "<Figure size 432x288 with 1 Axes>"
      ]
     },
     "metadata": {
      "needs_background": "light"
     },
     "output_type": "display_data"
    }
   ],
   "source": [
    "label_size = 20\n",
    "X = np.linspace(0, 1, 100)\n",
    "Y = -10*X**2 + 10*X + 2\n",
    "fig, ax = plt.subplots()\n",
    "ax.plot(X, Y, color = \"dodgerblue\")\n",
    "ax.set_xlabel(\"Conversion (X)\", fontsize=label_size)\n",
    "ax.set_ylabel(r\"$ - \\frac{F_{A0}}{r_a} $\", fontsize=label_size)\n",
    "ax.grid(True)\n",
    "\n",
    "\n",
    "legend_elements = [matplotlib.lines.Line2D([0], [0], c=\"deepskyblue\", lw=4, label='CSTR'),\n",
    "                   matplotlib.lines.Line2D([0], [0], c=\"steelblue\", lw=4, label='PFR')] \n",
    "\n",
    "ax.legend(handles = legend_elements, title = \"Reactor Type\", loc = 1)\n",
    "fills = [ax.fill_between([], [])]"
   ]
  },
  {
   "cell_type": "code",
   "execution_count": 36,
   "metadata": {},
   "outputs": [],
   "source": [
    "def livenspiel_plotter(conversion_in, conversion_out, choice, X_data, Y_data, ax):\n",
    "    index_in = np.where(abs(X_data - conversion_in) == min(abs(X_data - conversion_in)))[0][0]\n",
    "    index_out = np.where(abs(X_data - conversion_out) == min(abs(X_data - conversion_out)))[0][0]\n",
    "    x = X_data[index_in:index_out]\n",
    "    if choice == 0: # CSTR\n",
    "        y = np.zeros(x.shape) + Y_data[index_out]\n",
    "        fill = ax.fill_between(x, y, color = \"deepskyblue\")\n",
    "        \n",
    "    if choice == 1: # PFR\n",
    "        y = Y_data[index_in:index_out]\n",
    "        fill = ax.fill_between(x, y, color = \"steelblue\")\n",
    "    \n",
    "    fills.append(fill)    \n",
    "    return fills"
   ]
  },
  {
   "cell_type": "code",
   "execution_count": 37,
   "metadata": {},
   "outputs": [],
   "source": [
    "def animate(i):\n",
    "    fills = livenspiel_plotter(env.X[i], env.X[i+1], env.reactor_seq[i], X, Y, ax)\n",
    "    return fills"
   ]
  },
  {
   "cell_type": "code",
   "execution_count": 38,
   "metadata": {},
   "outputs": [],
   "source": [
    "livenspiel_anim = animation.FuncAnimation(fig, animate, frames = len(env.X)-1, interval = 1000, blit = True)"
   ]
  },
  {
   "cell_type": "code",
   "execution_count": 39,
   "metadata": {},
   "outputs": [
    {
     "name": "stderr",
     "output_type": "stream",
     "text": [
      "MovieWriter imagemagick unavailable; using Pillow instead.\n"
     ]
    }
   ],
   "source": [
    "livenspiel_anim.save('Livenspiel.gif', writer='imagemagick', fps=1)"
   ]
  },
  {
   "cell_type": "code",
   "execution_count": 40,
   "metadata": {},
   "outputs": [
    {
     "data": {
      "text/html": [
       "<img src=\"Livenspiel.gif\"/>"
      ],
      "text/plain": [
       "<IPython.core.display.Image object>"
      ]
     },
     "execution_count": 40,
     "metadata": {},
     "output_type": "execute_result"
    }
   ],
   "source": [
    "Image(url='Livenspiel.gif')"
   ]
  },
  {
   "cell_type": "code",
   "execution_count": 41,
   "metadata": {},
   "outputs": [],
   "source": [
    "import pydot\n",
    "from IPython.display import Image, display\n",
    "import imageio"
   ]
  },
  {
   "cell_type": "code",
   "execution_count": 42,
   "metadata": {},
   "outputs": [],
   "source": [
    "reactor_type = [\"CSTR\", \"PFR\"]\n",
    "shapes = [\"square\", \"rectangle\"]\n",
    "G = pydot.Dot(graph_type=\"digraph\", rankdir = \"LR\", size = \"20, 4!\")\n",
    "nodes = []\n",
    "edges = []\n",
    "image_list = []"
   ]
  },
  {
   "cell_type": "code",
   "execution_count": 43,
   "metadata": {},
   "outputs": [],
   "source": [
    "matplotlib.rcParams['figure.dpi']= 400"
   ]
  },
  {
   "cell_type": "code",
   "execution_count": 44,
   "metadata": {},
   "outputs": [],
   "source": [
    "for i in range(len(env.X)-1):\n",
    "    r_type = reactor_type[env.reactor_seq[i]]\n",
    "    Xin = round(env.X[i],2)\n",
    "    Xout = round(env.X[i + 1],2)\n",
    "    nodes.append(pydot.Node(f'{i+1} \\n {r_type} \\n Xin {Xin} \\n Xout {Xout}', \n",
    "                            height = 2, shape = shapes[env.reactor_seq[i]], fixed_size = True))\n",
    "    G.add_node(nodes[i])\n",
    "    if i > 0:\n",
    "        edges.append(pydot.Edge(nodes[i-1], nodes[i]))\n",
    "        G.add_edge(edges[i-1])\n",
    "    BFD = imageio.imread(G.create_png()) # converts to np array\n",
    "    image_list.append(BFD)"
   ]
  },
  {
   "cell_type": "code",
   "execution_count": 45,
   "metadata": {},
   "outputs": [
    {
     "data": {
      "text/plain": [
       "((384, 1405, 4), (384, 212, 4))"
      ]
     },
     "execution_count": 45,
     "metadata": {},
     "output_type": "execute_result"
    }
   ],
   "source": [
    "BFD.shape, image_list[0].shape"
   ]
  },
  {
   "cell_type": "code",
   "execution_count": 46,
   "metadata": {},
   "outputs": [
    {
     "data": {
      "text/plain": [
       "(0.0, 20.0, 0.0, 1.0)"
      ]
     },
     "execution_count": 46,
     "metadata": {},
     "output_type": "execute_result"
    },
    {
     "data": {
      "image/png": "[encoded data removed]",
      "text/plain": [
       "<Figure size 2400x1600 with 1 Axes>"
      ]
     },
     "metadata": {
      "needs_background": "light"
     },
     "output_type": "display_data"
    }
   ],
   "source": [
    "max_width = 20\n",
    "fig, ax = plt.subplots()\n",
    "ax.set_xlim(0,max_width)\n",
    "ax.axis('off')"
   ]
  },
  {
   "cell_type": "code",
   "execution_count": 47,
   "metadata": {},
   "outputs": [],
   "source": [
    "images = []\n",
    "final_image_width = image_list[-1].shape[1]\n",
    "for i in range(len(env.X)-1):\n",
    "    image_width = image_list[i].shape[1]\n",
    "    image = ax.imshow(image_list[i], extent = [0, max_width*image_width/final_image_width, 0, 4])\n",
    "    images.append([image])"
   ]
  },
  {
   "cell_type": "code",
   "execution_count": 48,
   "metadata": {},
   "outputs": [
    {
     "name": "stderr",
     "output_type": "stream",
     "text": [
      "MovieWriter imagemagick unavailable; using Pillow instead.\n"
     ]
    }
   ],
   "source": [
    "animation_BFD = animation.ArtistAnimation(fig, images, interval=1000, blit=True,\n",
    "                                repeat_delay=1000)\n",
    "animation_BFD.save('BFD.gif', writer='imagemagick', fps=1)"
   ]
  },
  {
   "cell_type": "code",
   "execution_count": 49,
   "metadata": {
    "scrolled": true
   },
   "outputs": [
    {
     "data": {
      "text/html": [
       "<img src=\"BFD.gif\"/>"
      ],
      "text/plain": [
       "<IPython.core.display.Image object>"
      ]
     },
     "execution_count": 49,
     "metadata": {},
     "output_type": "execute_result"
    }
   ],
   "source": [
    "Image(url='BFD.gif')"
   ]
  },
  {
   "cell_type": "code",
   "execution_count": 50,
   "metadata": {},
   "outputs": [
    {
     "data": {
      "text/plain": [
       "'If you want to save single image\\nwith open(\"reactor_sequence/BFD.png\", \"wb\") as png:\\n    png.write(G.create_png())\\n'"
      ]
     },
     "execution_count": 50,
     "metadata": {},
     "output_type": "execute_result"
    }
   ],
   "source": [
    "\"\"\"If you want to save single image\n",
    "with open(\"reactor_sequence/BFD.png\", \"wb\") as png:\n",
    "    png.write(G.create_png())\n",
    "\"\"\"\n",
    "# imageio.mimsave('reactor_sequence/BFD.gif', image_list) tried to to gif but didn't work because of scaling"
   ]
  },
  {
   "cell_type": "code",
   "execution_count": 51,
   "metadata": {},
   "outputs": [
    {
     "data": {
      "image/png": "[encoded data removed]",
      "text/plain": [
       "<PIL.Image.Image image mode=RGBA size=1405x384 at 0x1D562D32588>"
      ]
     },
     "metadata": {},
     "output_type": "display_data"
    }
   ],
   "source": [
    "import PIL.Image\n",
    "import IPython.display\n",
    "IPython.display.display(PIL.Image.fromarray(image_list[-1]))"
   ]
  },
  {
   "cell_type": "code",
   "execution_count": 52,
   "metadata": {},
   "outputs": [
    {
     "data": {
      "image/png": "[encoded data removed]",
      "text/plain": [
       "<PIL.Image.Image image mode=RGBA size=212x384 at 0x1D562D32F88>"
      ]
     },
     "metadata": {},
     "output_type": "display_data"
    }
   ],
   "source": [
    "IPython.display.display(PIL.Image.fromarray(image_list[0]))"
   ]
  },
  {
   "cell_type": "code",
   "execution_count": null,
   "metadata": {},
   "outputs": [],
   "source": []
  },
  {
   "cell_type": "code",
   "execution_count": null,
   "metadata": {},
   "outputs": [],
   "source": []
  },
  {
   "cell_type": "code",
   "execution_count": null,
   "metadata": {},
   "outputs": [],
   "source": []
  }
 ],
 "metadata": {
  "kernelspec": {
   "display_name": "Python 3",
   "language": "python",
   "name": "python3"
  },
  "language_info": {
   "codemirror_mode": {
    "name": "ipython",
    "version": 3
   },
   "file_extension": ".py",
   "mimetype": "text/x-python",
   "name": "python",
   "nbconvert_exporter": "python",
   "pygments_lexer": "ipython3",
   "version": "3.7.9"
  },
  "pycharm": {
   "stem_cell": {
    "cell_type": "raw",
    "metadata": {
     "collapsed": false
    },
    "source": []
   }
  }
 },
 "nbformat": 4,
 "nbformat_minor": 2
}
