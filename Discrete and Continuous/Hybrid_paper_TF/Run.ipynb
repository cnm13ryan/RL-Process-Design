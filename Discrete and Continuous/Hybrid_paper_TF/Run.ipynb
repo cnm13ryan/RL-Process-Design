{
 "cells": [
  {
   "cell_type": "code",
   "execution_count": 221,
   "metadata": {},
   "outputs": [
    {
     "name": "stdout",
     "output_type": "stream",
     "text": [
      "The autoreload extension is already loaded. To reload it, use:\n",
      "  %reload_ext autoreload\n"
     ]
    }
   ],
   "source": [
    "from Distillation_disc_cont import Simulator\n",
    "from memory import Memory\n",
    "from Actor_Critic import Agent\n",
    "import numpy as np\n",
    "import matplotlib.pyplot as plt\n",
    "%load_ext autoreload\n",
    "import dill"
   ]
  },
  {
   "cell_type": "code",
   "execution_count": 222,
   "metadata": {},
   "outputs": [],
   "source": [
    "#dill.load_session('Agent.db')"
   ]
  },
  {
   "cell_type": "code",
   "execution_count": 223,
   "metadata": {},
   "outputs": [],
   "source": [
    "%autoreload"
   ]
  },
  {
   "cell_type": "markdown",
   "metadata": {},
   "source": [
    "## Make agent and define hyperparameters"
   ]
  },
  {
   "cell_type": "code",
   "execution_count": 224,
   "metadata": {},
   "outputs": [],
   "source": [
    "alpha = 1e-3\n",
    "beta = 1e-4 \n",
    "gamma = 0.97\n",
    "\n",
    "num_episodes = int(1e4)\n",
    "memory_size = int(1e5)\n",
    "batch_size = 50\n",
    "pretrain_eps = batch_size"
   ]
  },
  {
   "cell_type": "code",
   "execution_count": 225,
   "metadata": {
    "scrolled": true
   },
   "outputs": [
    {
     "name": "stdout",
     "output_type": "stream",
     "text": [
      "Model: \"model_70\"\n",
      "__________________________________________________________________________________________________\n",
      "Layer (type)                    Output Shape         Param #     Connected to                     \n",
      "==================================================================================================\n",
      "Input (InputLayer)              (None, 6)            0                                            \n",
      "__________________________________________________________________________________________________\n",
      "fc1 (Dense)                     (None, 30)           210         Input[0][0]                      \n",
      "__________________________________________________________________________________________________\n",
      "fc2 (Dense)                     (None, 30)           930         fc1[0][0]                        \n",
      "__________________________________________________________________________________________________\n",
      "fc3 (Dense)                     (None, 30)           930         fc2[0][0]                        \n",
      "__________________________________________________________________________________________________\n",
      "policy_output (Dense)           (None, 1)            31          fc3[0][0]                        \n",
      "__________________________________________________________________________________________________\n",
      "discrete_action_output (Dense)  (None, 5)            155         fc3[0][0]                        \n",
      "__________________________________________________________________________________________________\n",
      "policy_output_actual_value (Lam (None, 1)            0           policy_output[0][0]              \n",
      "==================================================================================================\n",
      "Total params: 2,256\n",
      "Trainable params: 2,256\n",
      "Non-trainable params: 0\n",
      "__________________________________________________________________________________________________\n"
     ]
    }
   ],
   "source": [
    "env = Simulator()\n",
    "memory = Memory(max_size = memory_size)\n",
    "agent = Agent(env = env, alpha = alpha, beta = beta, gamma = gamma, layer_size = 30)\n",
    "agent.actor.summary()\n",
    "#agent.critic.summary()\n",
    "#agent.policy.summary()"
   ]
  },
  {
   "cell_type": "markdown",
   "metadata": {},
   "source": [
    "## Fill the experience memory"
   ]
  },
  {
   "cell_type": "code",
   "execution_count": 226,
   "metadata": {},
   "outputs": [],
   "source": [
    "state = env.reset()\n",
    "\n",
    "for ep in range(pretrain_eps):\n",
    "    action = env.discrete_action_space.sample(), env.continuous_action_space.sample()\n",
    "    next_state, reward, done, _ = env.step(action)\n",
    "    \n",
    "    if done:\n",
    "        next_state = np.zeros(env.observation_space.shape)\n",
    "        memory.add((state, action, reward, next_state))\n",
    "        \n",
    "    else:\n",
    "        memory.add((state, action, reward, next_state))\n",
    "        state = next_state\n",
    "    "
   ]
  },
  {
   "cell_type": "code",
   "execution_count": 227,
   "metadata": {
    "scrolled": false
   },
   "outputs": [
    {
     "name": "stdout",
     "output_type": "stream",
     "text": [
      "episode 0, avg_score -1542.138485995535, last action (4, array([[-0.24012441]]))\n",
      "episode 100, avg_score -1297.2067442069235, last action (2, array([[-0.16284093]]))\n",
      "episode 200, avg_score -1097.659805671419, last action (2, array([[0.91274206]]))\n",
      "episode 300, avg_score -938.0143255154842, last action (2, array([[0.39179336]]))\n",
      "episode 400, avg_score -936.9526623297731, last action (2, array([[-0.24977556]]))\n",
      "episode 500, avg_score -981.0626216239142, last action (2, array([[0.37308161]]))\n",
      "episode 600, avg_score -991.7988878604154, last action (2, array([[-1.99877446]]))\n",
      "episode 700, avg_score -987.6207589727519, last action (2, array([[-0.79934632]]))\n",
      "episode 800, avg_score -1014.8524077585888, last action (2, array([[0.54244856]]))\n",
      "episode 900, avg_score -1061.6322141325904, last action (2, array([[0.53378868]]))\n",
      "episode 1000, avg_score -1119.0559107840586, last action (2, array([[0.62090463]]))\n",
      "episode 1100, avg_score -1081.627083632507, last action (2, array([[-0.06567571]]))\n",
      "episode 1200, avg_score -1129.4242906160289, last action (2, array([[0.98060149]]))\n",
      "episode 1300, avg_score -998.8151833636703, last action (2, array([[0.37713247]]))\n",
      "episode 1400, avg_score -1059.7519232289546, last action (2, array([[0.03493393]]))\n",
      "episode 1500, avg_score -1210.3987555799954, last action (3, array([[0.999]], dtype=float32))\n",
      "episode 1600, avg_score -1209.9137034299654, last action (2, array([[0.46373153]]))\n",
      "episode 1700, avg_score -1140.9844605538208, last action (2, array([[-0.02974008]]))\n",
      "episode 1800, avg_score -1170.6910002664272, last action (2, array([[-0.40421648]]))\n",
      "episode 1900, avg_score -1156.7813447686165, last action (2, array([[0.999]], dtype=float32))\n",
      "episode 2000, avg_score -67.25420232078936, last action (2, array([[0.999]], dtype=float32))\n",
      "episode 2100, avg_score -1240.158461728988, last action (2, array([[0.89691735]]))\n",
      "episode 2200, avg_score -1212.7678328376821, last action (2, array([[0.999]], dtype=float32))\n",
      "episode 2300, avg_score -1217.561089386461, last action (3, array([[-0.14572261]]))\n",
      "episode 2400, avg_score -1253.8660882282811, last action (2, array([[0.70186311]]))\n",
      "episode 2500, avg_score -1211.702444164973, last action (2, array([[-0.05420544]]))\n",
      "episode 2600, avg_score -1193.4524108014557, last action (2, array([[0.57295433]]))\n",
      "episode 2700, avg_score -1255.9464976342438, last action (2, array([[0.93421394]]))\n",
      "episode 2800, avg_score -1278.104035536241, last action (2, array([[0.66433201]]))\n",
      "episode 2900, avg_score -1315.2432876516439, last action (2, array([[0.58759262]]))\n",
      "episode 3000, avg_score -1256.0228983417026, last action (2, array([[-0.16200621]]))\n",
      "episode 3100, avg_score -1275.4007224092288, last action (1, array([[-0.21573126]]))\n",
      "episode 3200, avg_score -1362.1859512097665, last action (2, array([[0.23417567]]))\n",
      "episode 3300, avg_score -1234.0379870793256, last action (2, array([[0.91711175]]))\n",
      "episode 3400, avg_score -1194.480396376848, last action (2, array([[0.16718845]]))\n",
      "episode 3500, avg_score -1310.1740726113164, last action (2, array([[0.07798495]]))\n",
      "episode 3600, avg_score -1312.2212582670481, last action (2, array([[0.66168226]]))\n",
      "episode 3700, avg_score -1387.697715624844, last action (0, array([[-0.26870098]]))\n",
      "episode 3800, avg_score -1326.8382403309004, last action (2, array([[0.15206517]]))\n",
      "episode 3900, avg_score -1352.6579528221241, last action (3, array([[0.47391463]]))\n",
      "episode 4000, avg_score -1343.0550572723266, last action (2, array([[0.6789538]]))\n",
      "episode 4100, avg_score -1367.3024593712908, last action (2, array([[0.85359467]]))\n",
      "episode 4200, avg_score -1334.1783597901021, last action (2, array([[0.61498851]]))\n",
      "episode 4300, avg_score -1447.656137878752, last action (2, array([[0.82131906]]))\n",
      "episode 4400, avg_score -1373.834495409009, last action (2, array([[0.43616574]]))\n",
      "episode 4500, avg_score -1425.5845725444367, last action (2, array([[0.1901453]]))\n",
      "episode 4600, avg_score -1456.7238819185977, last action (2, array([[0.23724998]]))\n",
      "episode 4700, avg_score -1383.6918059921, last action (2, array([[0.62063032]]))\n",
      "episode 4800, avg_score -1403.7066949745242, last action (4, array([[0.12329863]]))\n",
      "episode 4900, avg_score -1481.3778830640626, last action (0, array([[0.45002934]]))\n",
      "episode 5000, avg_score -1438.5534399285273, last action (0, array([[0.92836199]]))\n",
      "episode 5100, avg_score -1510.6243216218345, last action (2, array([[-0.17567309]]))\n",
      "episode 5200, avg_score -1465.4965176844541, last action (2, array([[0.2038906]]))\n",
      "episode 5300, avg_score -1427.8090929689226, last action (2, array([[0.60280871]]))\n",
      "episode 5400, avg_score -1489.456650688003, last action (2, array([[0.67618952]]))\n",
      "episode 5500, avg_score -1525.5131740754962, last action (2, array([[0.52266675]]))\n",
      "episode 5600, avg_score -1488.497255852377, last action (0, array([[0.999]], dtype=float32))\n",
      "episode 5700, avg_score -1455.1747145247612, last action (2, array([[0.54895253]]))\n",
      "episode 5800, avg_score -1547.1060436051894, last action (2, array([[0.75080249]]))\n",
      "episode 5900, avg_score -1500.1218826495844, last action (1, array([[0.1849366]]))\n",
      "episode 6000, avg_score -1470.9134401068443, last action (2, array([[0.02681136]]))\n",
      "episode 6100, avg_score -1487.1483882877565, last action (2, array([[0.18089014]]))\n",
      "episode 6200, avg_score -1538.4622619767545, last action (4, array([[0.89175387]]))\n",
      "episode 6300, avg_score -1519.8467303537373, last action (2, array([[0.45101003]]))\n",
      "episode 6400, avg_score -1521.8253624793495, last action (3, array([[0.39973701]]))\n",
      "episode 6500, avg_score -1515.3556727625435, last action (1, array([[0.91092779]]))\n",
      "episode 6600, avg_score -1543.5440524420046, last action (4, array([[0.90454421]]))\n",
      "episode 6700, avg_score -1560.3845933264188, last action (2, array([[0.52395066]]))\n",
      "episode 6800, avg_score -1507.3031312147411, last action (1, array([[0.62689885]]))\n",
      "episode 6900, avg_score -1493.6697430720417, last action (4, array([[0.18090207]]))\n",
      "episode 7000, avg_score -1528.216542438, last action (0, array([[0.35317987]]))\n",
      "episode 7100, avg_score -1540.0038180738068, last action (2, array([[0.71075366]]))\n",
      "episode 7200, avg_score -1523.1308836376352, last action (4, array([[0.81314857]]))\n",
      "episode 7300, avg_score -1543.3150914027342, last action (2, array([[0.23191816]]))\n",
      "episode 7400, avg_score -1520.0633366438215, last action (3, array([[0.42065981]]))\n",
      "episode 7500, avg_score -1565.8932440030756, last action (2, array([[0.46904969]]))\n",
      "episode 7600, avg_score -1596.489747731647, last action (2, array([[0.4795663]]))\n",
      "episode 7700, avg_score -1563.2791874558197, last action (2, array([[0.33160917]]))\n",
      "episode 7800, avg_score -1552.5946192865924, last action (4, array([[0.53700604]]))\n",
      "episode 7900, avg_score -1546.2824682937703, last action (1, array([[0.49139626]]))\n",
      "episode 8000, avg_score -1580.6227471524287, last action (2, array([[0.19379694]]))\n",
      "episode 8100, avg_score -1544.6897465346578, last action (1, array([[0.43975625]]))\n",
      "episode 8200, avg_score -1564.7917116484862, last action (3, array([[0.54537072]]))\n",
      "episode 8300, avg_score -1544.5346126658408, last action (1, array([[0.31944495]]))\n",
      "episode 8400, avg_score -1609.5194413866482, last action (3, array([[0.64247473]]))\n",
      "episode 8500, avg_score -1587.408361061174, last action (4, array([[0.55191675]]))\n",
      "episode 8600, avg_score -1519.5733278230475, last action (2, array([[0.63112291]]))\n",
      "episode 8700, avg_score -1607.6004139288236, last action (3, array([[0.51774542]]))\n",
      "episode 8800, avg_score -1602.2634359307713, last action (4, array([[0.50215061]]))\n",
      "episode 8900, avg_score -1547.2577108817145, last action (1, array([[0.36175237]]))\n",
      "episode 9000, avg_score -1528.9981507691828, last action (2, array([[0.66216887]]))\n",
      "episode 9100, avg_score -1543.4601203737207, last action (3, array([[0.54737829]]))\n",
      "episode 9200, avg_score -1557.1879947232817, last action (1, array([[0.54044133]]))\n",
      "episode 9300, avg_score -1525.0532517145894, last action (0, array([[0.55830576]]))\n",
      "episode 9400, avg_score -1570.5307396177907, last action (0, array([[0.48305198]]))\n",
      "episode 9500, avg_score -1567.4046826207878, last action (2, array([[0.50307163]]))\n",
      "episode 9600, avg_score -1552.8831014579887, last action (0, array([[0.49954437]]))\n",
      "episode 9700, avg_score -1511.905205418224, last action (4, array([[0.55773151]]))\n"
     ]
    },
    {
     "name": "stdout",
     "output_type": "stream",
     "text": [
      "episode 9800, avg_score -1574.4521313639082, last action (1, array([[0.49400965]]))\n",
      "episode 9900, avg_score -1573.3706846853227, last action (2, array([[0.50070384]]))\n"
     ]
    }
   ],
   "source": [
    "score_history = []\n",
    "for i in range(num_episodes):\n",
    "    \n",
    "    done = False\n",
    "    \n",
    "    state = env.reset()\n",
    "    score = 0\n",
    "    \n",
    "    while not done:\n",
    "        action = agent.choose_action_epsgreedy(state, i, num_episodes)\n",
    "        next_state, reward, done, info = env.step(action)\n",
    "        #agent.learn(state,  action, reward, next_state, done)\n",
    "        score += reward\n",
    "        memory.add((state, action, reward, next_state))\n",
    "        state = next_state\n",
    "    \n",
    "    score_history.append(score)\n",
    "    next_state = np.zeros(state.shape)\n",
    "    memory.add((state, action, reward, next_state))\n",
    "    \n",
    "    avg_score = np.mean(score_history[-100:]) #average of last 100 scores\n",
    "    if i%100 == 0:\n",
    "        print(f'episode {i}, avg_score {avg_score}, last action {action}')\n",
    "        \n",
    "    batch = memory.sample(batch_size)\n",
    "    states = np.array([each[0] for each in batch])\n",
    "    actions = np.array([each[1] for each in batch])\n",
    "    rewards = np.array([each[2] for each in batch])\n",
    "    next_states = np.array([each[3] for each in batch])\n",
    "    \n",
    "    agent.learn(states,  actions, rewards, next_states, done, batch_size, verbose = 1)    \n"
   ]
  },
  {
   "cell_type": "code",
   "execution_count": 228,
   "metadata": {},
   "outputs": [],
   "source": [
    "def running_mean(x, N):\n",
    "    cumsum = np.cumsum(np.insert(x, 0, 0)) \n",
    "    return (cumsum[N:] - cumsum[:-N]) / N"
   ]
  },
  {
   "cell_type": "code",
   "execution_count": 229,
   "metadata": {},
   "outputs": [
    {
     "data": {
      "text/plain": [
       "<matplotlib.legend.Legend at 0x18fd0bb0ac8>"
      ]
     },
     "execution_count": 229,
     "metadata": {},
     "output_type": "execute_result"
    },
    {
     "data": {
      "image/png": "[encoded data removed]",
      "text/plain": [
       "<Figure size 432x288 with 1 Axes>"
      ]
     },
     "metadata": {
      "needs_background": "light"
     },
     "output_type": "display_data"
    }
   ],
   "source": [
    "episodes = np.arange(num_episodes)\n",
    "smoothed_rews = running_mean(score_history, 10)\n",
    "plt.plot(episodes[-len(smoothed_rews):], smoothed_rews)\n",
    "plt.plot(episodes, score_history,color='grey', alpha=0.3)\n",
    "plt.xlabel(\"steps\")\n",
    "plt.ylabel(\"reward\")\n",
    "plt.legend([\"avg reward\", \"reward\"])"
   ]
  },
  {
   "cell_type": "code",
   "execution_count": 230,
   "metadata": {},
   "outputs": [
    {
     "name": "stdout",
     "output_type": "stream",
     "text": [
      "action LK: 2, action split: [0.5], reward: -0.12775379014095772\n",
      "action LK: 2, action split: [0.5], reward: -100\n",
      "action LK: 2, action split: [0.5], reward: -100\n",
      "action LK: 2, action split: [0.5], reward: -100\n",
      "action LK: 2, action split: [0.5], reward: -100\n",
      "action LK: 2, action split: [0.5], reward: -100\n",
      "action LK: 2, action split: [0.5], reward: -100\n",
      "action LK: 2, action split: [0.5], reward: -100\n",
      "action LK: 2, action split: [0.5], reward: -100\n",
      "action LK: 2, action split: [0.5], reward: -100\n",
      "action LK: 2, action split: [0.5], reward: -100\n"
     ]
    }
   ],
   "source": [
    "#test agent\n",
    "state = env.reset()\n",
    "done = False\n",
    "while not done:\n",
    "    state = state[np.newaxis, :]\n",
    "    action_discrete, action_continuous = agent.policy.predict(state)\n",
    "    action_discrete = np.argmax(action_discrete)\n",
    "    action = action_discrete, action_continuous\n",
    "    \n",
    "    state, reward, done, info = env.step(action)\n",
    "    print(f'action LK: {action_discrete}, action split: {action_continuous[0]}, reward: {reward}')"
   ]
  },
  {
   "cell_type": "code",
   "execution_count": 231,
   "metadata": {},
   "outputs": [
    {
     "data": {
      "text/plain": [
       "[array([9.1, 6.8, 9.1, 6.8, 6.8, 6.8]),\n",
       " array([9.1       , 6.8       , 4.55000019, 3.4000001 , 0.        ,\n",
       "        0.        ]),\n",
       " array([0.        , 0.        , 4.54999981, 3.3999999 , 6.8       ,\n",
       "        6.8       ]),\n",
       " array([9.1       , 6.8       , 2.2750001 , 1.70000005, 0.        ,\n",
       "        0.        ]),\n",
       " array([0.        , 0.        , 2.2750001 , 1.70000005, 0.        ,\n",
       "        0.        ]),\n",
       " array([0.        , 0.        , 2.27499986, 1.69999993, 0.        ,\n",
       "        0.        ]),\n",
       " array([0.        , 0.        , 2.27499995, 1.69999998, 6.8       ,\n",
       "        6.8       ]),\n",
       " array([9.1       , 6.8       , 1.13750005, 0.85000002, 0.        ,\n",
       "        0.        ]),\n",
       " array([0.        , 0.        , 1.13750005, 0.85000002, 0.        ,\n",
       "        0.        ]),\n",
       " array([0.        , 0.        , 1.13750005, 0.85000002, 0.        ,\n",
       "        0.        ]),\n",
       " array([0.        , 0.        , 1.13750005, 0.85000002, 0.        ,\n",
       "        0.        ]),\n",
       " array([0.        , 0.        , 1.13749993, 0.84999996, 0.        ,\n",
       "        0.        ]),\n",
       " array([0.        , 0.        , 1.13749993, 0.84999996, 0.        ,\n",
       "        0.        ]),\n",
       " array([0.        , 0.        , 1.13749993, 0.84999996, 0.        ,\n",
       "        0.        ]),\n",
       " array([0.        , 0.        , 1.13750002, 0.85000001, 6.8       ,\n",
       "        6.8       ]),\n",
       " array([9.1       , 6.8       , 0.56875002, 0.42500001, 0.        ,\n",
       "        0.        ]),\n",
       " array([0.        , 0.        , 0.56875002, 0.42500001, 0.        ,\n",
       "        0.        ]),\n",
       " array([0.        , 0.        , 0.56875002, 0.42500001, 0.        ,\n",
       "        0.        ]),\n",
       " array([0.        , 0.        , 0.56875002, 0.42500001, 0.        ,\n",
       "        0.        ]),\n",
       " array([0.        , 0.        , 0.56875002, 0.42500001, 0.        ,\n",
       "        0.        ]),\n",
       " array([0.        , 0.        , 0.56875002, 0.42500001, 0.        ,\n",
       "        0.        ]),\n",
       " array([0.        , 0.        , 0.56875002, 0.42500001, 0.        ,\n",
       "        0.        ]),\n",
       " array([0.        , 0.        , 0.56875002, 0.42500001, 0.        ,\n",
       "        0.        ])]"
      ]
     },
     "execution_count": 231,
     "metadata": {},
     "output_type": "execute_result"
    }
   ],
   "source": [
    "env.stream_table"
   ]
  },
  {
   "cell_type": "code",
   "execution_count": 193,
   "metadata": {},
   "outputs": [],
   "source": [
    "action_discrete, action_continuous = agent.policy.predict(state[np.newaxis, :])"
   ]
  },
  {
   "cell_type": "code",
   "execution_count": null,
   "metadata": {},
   "outputs": [],
   "source": []
  },
  {
   "cell_type": "code",
   "execution_count": null,
   "metadata": {},
   "outputs": [],
   "source": [
    "#dill.dump_session('Agent.db')"
   ]
  }
 ],
 "metadata": {
  "kernelspec": {
   "display_name": "Python 3",
   "language": "python",
   "name": "python3"
  },
  "language_info": {
   "codemirror_mode": {
    "name": "ipython",
    "version": 3
   },
   "file_extension": ".py",
   "mimetype": "text/x-python",
   "name": "python",
   "nbconvert_exporter": "python",
   "pygments_lexer": "ipython3",
   "version": "3.7.4"
  }
 },
 "nbformat": 4,
 "nbformat_minor": 2
}
