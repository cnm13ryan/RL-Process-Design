{
 "cells": [
  {
   "cell_type": "code",
   "execution_count": 1,
   "metadata": {},
   "outputs": [
    {
     "name": "stderr",
     "output_type": "stream",
     "text": [
      "Using TensorFlow backend.\n"
     ]
    }
   ],
   "source": [
    "from Distillation_disc_cont import simulator\n",
    "from Actor_Critic import Agent\n",
    "import numpy as np\n",
    "import matplotlib.pyplot as plt\n",
    "%load_ext autoreload\n",
    "import dill"
   ]
  },
  {
   "cell_type": "code",
   "execution_count": null,
   "metadata": {},
   "outputs": [],
   "source": [
    "#dill.load_session('Agent.db')"
   ]
  },
  {
   "cell_type": "code",
   "execution_count": null,
   "metadata": {},
   "outputs": [],
   "source": [
    "%autoreload"
   ]
  },
  {
   "cell_type": "code",
   "execution_count": 2,
   "metadata": {},
   "outputs": [
    {
     "name": "stderr",
     "output_type": "stream",
     "text": [
      "WARNING: Logging before flag parsing goes to stderr.\n",
      "W0929 18:18:20.683945 19976 deprecation_wrapper.py:119] From C:\\Users\\meatrobot\\Anaconda3\\envs\\RL\\lib\\site-packages\\keras\\backend\\tensorflow_backend.py:541: The name tf.placeholder is deprecated. Please use tf.compat.v1.placeholder instead.\n",
      "\n",
      "W0929 18:18:20.705886 19976 deprecation_wrapper.py:119] From C:\\Users\\meatrobot\\Anaconda3\\envs\\RL\\lib\\site-packages\\keras\\backend\\tensorflow_backend.py:66: The name tf.get_default_graph is deprecated. Please use tf.compat.v1.get_default_graph instead.\n",
      "\n",
      "W0929 18:18:20.708878 19976 deprecation_wrapper.py:119] From C:\\Users\\meatrobot\\Anaconda3\\envs\\RL\\lib\\site-packages\\keras\\backend\\tensorflow_backend.py:4432: The name tf.random_uniform is deprecated. Please use tf.random.uniform instead.\n",
      "\n",
      "D:\\Github\\Discontinuous and Continuous\\Actor_Critic.py:56: UserWarning: Update your `Model` call to the Keras 2 API: `Model(inputs=[<tf.Tenso..., outputs=[<tf.Tenso...)`\n",
      "  actor = Model(input = [input, delta], output = [policy_discrete_probs, policy_continuous])\n",
      "W0929 18:18:20.813642 19976 deprecation_wrapper.py:119] From C:\\Users\\meatrobot\\Anaconda3\\envs\\RL\\lib\\site-packages\\keras\\optimizers.py:793: The name tf.train.Optimizer is deprecated. Please use tf.compat.v1.train.Optimizer instead.\n",
      "\n",
      "W0929 18:18:20.835677 19976 deprecation_wrapper.py:119] From C:\\Users\\meatrobot\\Anaconda3\\envs\\RL\\lib\\site-packages\\keras\\backend\\tensorflow_backend.py:1702: The name tf.log is deprecated. Please use tf.math.log instead.\n",
      "\n",
      "D:\\Github\\Discontinuous and Continuous\\Actor_Critic.py:59: UserWarning: Update your `Model` call to the Keras 2 API: `Model(inputs=[<tf.Tenso..., outputs=[<tf.Tenso...)`\n",
      "  critic = Model(input = [input], output = [Values])\n"
     ]
    },
    {
     "name": "stdout",
     "output_type": "stream",
     "text": [
      "Model: \"model_1\"\n",
      "__________________________________________________________________________________________________\n",
      "Layer (type)                    Output Shape         Param #     Connected to                     \n",
      "==================================================================================================\n",
      "Input (InputLayer)              (None, 6)            0                                            \n",
      "__________________________________________________________________________________________________\n",
      "fc1 (Dense)                     (None, 20)           140         Input[0][0]                      \n",
      "__________________________________________________________________________________________________\n",
      "fc2 (Dense)                     (None, 20)           420         fc1[0][0]                        \n",
      "__________________________________________________________________________________________________\n",
      "fc3 (Dense)                     (None, 20)           420         fc2[0][0]                        \n",
      "__________________________________________________________________________________________________\n",
      "policy_output (Dense)           (None, 1)            21          fc3[0][0]                        \n",
      "__________________________________________________________________________________________________\n",
      "discrete_action_output (Dense)  (None, 5)            105         fc3[0][0]                        \n",
      "__________________________________________________________________________________________________\n",
      "policy_output_actual_value (Lam (None, 1)            0           policy_output[0][0]              \n",
      "==================================================================================================\n",
      "Total params: 1,106\n",
      "Trainable params: 1,106\n",
      "Non-trainable params: 0\n",
      "__________________________________________________________________________________________________\n"
     ]
    },
    {
     "name": "stderr",
     "output_type": "stream",
     "text": [
      "D:\\Github\\Discontinuous and Continuous\\Actor_Critic.py:64: UserWarning: Update your `Model` call to the Keras 2 API: `Model(inputs=[<tf.Tenso..., outputs=[<tf.Tenso...)`\n",
      "  policy = Model(input = [input], output = [policy_discrete_probs, policy_continuous])\n"
     ]
    }
   ],
   "source": [
    "env = simulator()\n",
    "agent = Agent(env = env, alpha = 1e-6, beta = 1e-7, gamma = 0.99)\n",
    "agent.actor.summary()\n",
    "#agent.critic.summary()\n",
    "#agent.policy.summary()"
   ]
  },
  {
   "cell_type": "code",
   "execution_count": 3,
   "metadata": {},
   "outputs": [
    {
     "name": "stderr",
     "output_type": "stream",
     "text": [
      "W0929 18:18:34.532082 19976 deprecation_wrapper.py:119] From C:\\Users\\meatrobot\\Anaconda3\\envs\\RL\\lib\\site-packages\\keras\\backend\\tensorflow_backend.py:3005: The name tf.Session is deprecated. Please use tf.compat.v1.Session instead.\n",
      "\n",
      "W0929 18:18:34.815118 19976 deprecation.py:323] From C:\\Users\\meatrobot\\Anaconda3\\envs\\RL\\lib\\site-packages\\tensorflow\\python\\ops\\math_grad.py:1250: add_dispatch_support.<locals>.wrapper (from tensorflow.python.ops.array_ops) is deprecated and will be removed in a future version.\n",
      "Instructions for updating:\n",
      "Use tf.where in 2.0, which has the same broadcast rule as np.where\n",
      "D:\\Github\\Discontinuous and Continuous\\Distillation_disc_cont.py:74: RuntimeWarning: invalid value encountered in log\n",
      "  N =  np.log(LK_D/(1-LK_D) * (1-LK_B)/LK_B)/np.log(self.relative_volatility[Light_Key])\n",
      "D:\\Github\\Discontinuous and Continuous\\Distillation_disc_cont.py:60: RuntimeWarning: invalid value encountered in double_scalars\n",
      "  LK_D = tops[Light_Key]/sum(tops)\n"
     ]
    },
    {
     "name": "stdout",
     "output_type": "stream",
     "text": [
      "episode 0, avg_score -8075.004248281315\n"
     ]
    },
    {
     "name": "stderr",
     "output_type": "stream",
     "text": [
      "D:\\Github\\Discontinuous and Continuous\\Distillation_disc_cont.py:61: RuntimeWarning: invalid value encountered in double_scalars\n",
      "  LK_B = bots[Light_Key]/sum(bots)\n"
     ]
    },
    {
     "name": "stdout",
     "output_type": "stream",
     "text": [
      "episode 100, avg_score -10340.228171208204\n",
      "episode 200, avg_score -9893.534067442519\n",
      "episode 300, avg_score -10010.875101803296\n",
      "episode 400, avg_score -9964.307469221432\n",
      "episode 500, avg_score -10118.781860253897\n",
      "episode 600, avg_score -10048.447215005122\n",
      "episode 700, avg_score -10490.195570096808\n",
      "episode 800, avg_score -9762.60796913538\n",
      "episode 900, avg_score -10246.986488599156\n"
     ]
    }
   ],
   "source": [
    "score_history = []\n",
    "num_episodes = int(1e3)\n",
    "for i in range(num_episodes):\n",
    "\tdone = False\n",
    "\t\n",
    "\tstate = env.reset()\n",
    "\tscore = 0\n",
    "\t\n",
    "\twhile not done:\n",
    "\t\taction = agent.choose_action(state)\n",
    "\t\tnext_state, reward, done, info = env.step(action)\n",
    "\t\tagent.learn(state,  action, reward, next_state, done)\n",
    "\t\tstate = next_state\n",
    "\t\tscore += reward\n",
    "\t\n",
    "\tscore_history.append(score)\n",
    "\tavg_score = np.mean(score_history[-100:]) #average of last 100 scores\n",
    "\tif i%100 == 0:\n",
    "\t\tprint(f'episode {i}, avg_score {avg_score}')\n",
    "        \n"
   ]
  },
  {
   "cell_type": "code",
   "execution_count": 4,
   "metadata": {},
   "outputs": [],
   "source": [
    "def running_mean(x, N):\n",
    "    cumsum = np.cumsum(np.insert(x, 0, 0)) \n",
    "    return (cumsum[N:] - cumsum[:-N]) / N"
   ]
  },
  {
   "cell_type": "code",
   "execution_count": 5,
   "metadata": {},
   "outputs": [
    {
     "data": {
      "text/plain": [
       "<matplotlib.legend.Legend at 0x1e2eede0c88>"
      ]
     },
     "execution_count": 5,
     "metadata": {},
     "output_type": "execute_result"
    },
    {
     "data": {
      "image/png": "[encoded data removed]",
      "text/plain": [
       "<Figure size 432x288 with 1 Axes>"
      ]
     },
     "metadata": {
      "needs_background": "light"
     },
     "output_type": "display_data"
    }
   ],
   "source": [
    "episodes = np.arange(num_episodes)\n",
    "smoothed_rews = running_mean(score_history, 10)\n",
    "plt.plot(episodes[-len(smoothed_rews):], smoothed_rews)\n",
    "plt.plot(episodes, score_history,color='grey', alpha=0.3)\n",
    "plt.xlabel(\"steps\")\n",
    "plt.ylabel(\"reward\")\n",
    "plt.legend([\"avg reward\", \"reward\"])"
   ]
  },
  {
   "cell_type": "code",
   "execution_count": 6,
   "metadata": {},
   "outputs": [
    {
     "name": "stdout",
     "output_type": "stream",
     "text": [
      "action LK: 2, action split: [0.6062644], reward: -0.38714392649682877\n",
      "action LK: 2, action split: [0.63571286], reward: -1000\n",
      "action LK: 2, action split: [0.65046656], reward: -3.066492757477896\n",
      "action LK: 2, action split: [0.6470249], reward: -1000\n",
      "action LK: 2, action split: [0.6637741], reward: -3.540672564695073\n",
      "action LK: 2, action split: [0.6502862], reward: -1000\n",
      "action LK: 2, action split: [0.664428], reward: -3.9183010419601985\n",
      "action LK: 2, action split: [0.65330344], reward: -1000\n",
      "action LK: 2, action split: [0.6629934], reward: -4.291623586067822\n",
      "action LK: 2, action split: [0.6556443], reward: -1000\n",
      "action LK: 2, action split: [0.6614028], reward: -4.674750548960599\n"
     ]
    }
   ],
   "source": [
    "#test agent\n",
    "state = env.reset()\n",
    "done = False\n",
    "while done == False:\n",
    "    state = state[np.newaxis, :]\n",
    "    action_discrete, action_continuous = agent.policy.predict(state)\n",
    "    action_discrete = np.argmax(action_discrete)\n",
    "    action = action_discrete, action_continuous\n",
    "    \n",
    "    state, reward, done, info = env.step(action)\n",
    "    print(f'action LK: {action_discrete}, action split: {action_continuous[0]}, reward: {reward}')"
   ]
  },
  {
   "cell_type": "code",
   "execution_count": 7,
   "metadata": {},
   "outputs": [
    {
     "data": {
      "text/plain": [
       "[array([9.1, 6.8, 9.1, 6.8, 6.8, 6.8]),\n",
       " array([9.1       , 6.8       , 5.5170064 , 2.67740202, 0.        ,\n",
       "        0.        ]),\n",
       " array([0.        , 0.        , 3.5829936 , 4.12259798, 6.8       ,\n",
       "        6.8       ]),\n",
       " array([9.1       , 6.8       , 3.50723195, 0.97534311, 0.        ,\n",
       "        0.        ]),\n",
       " array([0.        , 0.        , 2.00977445, 1.70205891, 0.        ,\n",
       "        0.        ]),\n",
       " array([0.        , 0.        , 2.33061743, 1.44098592, 0.        ,\n",
       "        0.        ]),\n",
       " array([0.        , 0.        , 1.25237617, 2.68161206, 6.8       ,\n",
       "        6.8       ]),\n",
       " array([9.1       , 6.8       , 2.26926661, 0.34427181, 0.        ,\n",
       "        0.        ]),\n",
       " array([0.        , 0.        , 1.23796535, 0.6310713 , 0.        ,\n",
       "        0.        ]),\n",
       " array([0.        , 0.        , 0.83129483, 0.90162748, 0.        ,\n",
       "        0.        ]),\n",
       " array([0.        , 0.        , 0.42108134, 1.77998458, 6.8       ,\n",
       "        6.8       ]),\n",
       " array([9.1       , 6.8       , 1.47567272, 0.12039661, 0.        ,\n",
       "        0.        ]),\n",
       " array([0.        , 0.        , 0.79359388, 0.2238752 , 0.        ,\n",
       "        0.        ]),\n",
       " array([0.        , 0.        , 0.27977821, 0.59731299, 0.        ,\n",
       "        0.        ]),\n",
       " array([0.        , 0.        , 0.14130313, 1.18267159, 6.8       ,\n",
       "        6.8       ]),\n",
       " array([9.1       , 6.8       , 0.96406209, 0.04174109, 0.        ,\n",
       "        0.        ]),\n",
       " array([0.        , 0.        , 0.51161063, 0.07865552, 0.        ,\n",
       "        0.        ]),\n",
       " array([0.        , 0.        , 0.09368303, 0.39856815, 0.        ,\n",
       "        0.        ]),\n",
       " array([0.        , 0.        , 0.04762009, 0.78410344, 6.8       ,\n",
       "        6.8       ]),\n",
       " array([9.1       , 6.8       , 0.63208181, 0.01437378, 0.        ,\n",
       "        0.        ]),\n",
       " array([0.        , 0.        , 0.33198029, 0.02736731, 0.        ,\n",
       "        0.        ]),\n",
       " array([0.        , 0.        , 0.03149607, 0.26549521, 0.        ,\n",
       "        0.        ]),\n",
       " array([0.        , 0.        , 0.01612403, 0.51860823, 6.8       ,\n",
       "        6.8       ])]"
      ]
     },
     "execution_count": 7,
     "metadata": {},
     "output_type": "execute_result"
    }
   ],
   "source": [
    "env.stream_table"
   ]
  },
  {
   "cell_type": "code",
   "execution_count": 9,
   "metadata": {},
   "outputs": [],
   "source": [
    "action_discrete, action_continuous = agent.policy.predict(state[np.newaxis, :])"
   ]
  },
  {
   "cell_type": "code",
   "execution_count": null,
   "metadata": {},
   "outputs": [],
   "source": []
  },
  {
   "cell_type": "code",
   "execution_count": null,
   "metadata": {},
   "outputs": [],
   "source": [
    "#dill.dump_session('Agent.db')"
   ]
  }
 ],
 "metadata": {
  "kernelspec": {
   "display_name": "Python 3",
   "language": "python",
   "name": "python3"
  },
  "language_info": {
   "codemirror_mode": {
    "name": "ipython",
    "version": 3
   },
   "file_extension": ".py",
   "mimetype": "text/x-python",
   "name": "python",
   "nbconvert_exporter": "python",
   "pygments_lexer": "ipython3",
   "version": "3.7.4"
  }
 },
 "nbformat": 4,
 "nbformat_minor": 2
}
