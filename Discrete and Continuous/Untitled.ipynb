{
 "cells": [
  {
   "cell_type": "code",
   "execution_count": 2,
   "metadata": {},
   "outputs": [],
   "source": [
    "import matplotlib\n",
    "import matplotlib.pyplot as plt\n",
    "\n",
    "from Env.Simulator_New import Simulator\n",
    "from Utils.utils import Visualiser\n",
    "env = Simulator()"
   ]
  },
  {
   "cell_type": "markdown",
   "metadata": {},
   "source": [
    "## Solution 1 Standard-PDQN"
   ]
  },
  {
   "cell_type": "code",
   "execution_count": 7,
   "metadata": {},
   "outputs": [
    {
     "name": "stdout",
     "output_type": "stream",
     "text": [
      "Performance metric sep by flowrate is [9.64816013]\n",
      "Performance metric2 sep by lightness is [7.22874191]\n",
      "Revenue is 74.92352754956626\n",
      "Capital cost is [26.3610845]\n",
      "[1.3720144114642854, 39.249741381169045, 18.486090829365143, 15.815680927567783]\n",
      "[1.5417022419824347, 0.4172070756203743, 2.262746364826231, 1.9562187432817457, 20.18321007537643]\n"
     ]
    }
   ],
   "source": [
    "env.reset()\n",
    "flowrated_order = [0, 0, 4, 2, 3]\n",
    "sep_order = [0, 1, 2, 2, 4]\n",
    "for i in range(env.split_option_n):\n",
    "    selected_stream = sep_order[i]\n",
    "    selected_compound = flowrated_order[i] # ignore flowrated ordr, this is LK selection\n",
    "    discrete_action = selected_stream*env.split_option_n + selected_compound \n",
    "    continuous_action = 1\n",
    "    action = ()\n",
    "    env.step([continuous_action, discrete_action])\n",
    "performance_flowrate = env.Performance_metric\n",
    "sequence_2 = env.sep_order\n",
    "print(f'Performance metric sep by flowrate is {performance_flowrate}')\n",
    "print(f'Performance metric2 sep by lightness is {env.Performance_metric2}')\n",
    "print(f'Revenue is {env.revenue/1e6}')\n",
    "print(f'Capital cost is {sum(env.capital_cost)/1e6}')\n",
    "print([env.revenue_by_stream[i]/1e6 for i in range(len(env.revenue_by_stream))])\n",
    "print([env.capital_cost[i][0]/1e6 for i in range(5)])"
   ]
  },
  {
   "cell_type": "markdown",
   "metadata": {},
   "source": [
    "## Solution 2 with freeze"
   ]
  },
  {
   "cell_type": "code",
   "execution_count": 9,
   "metadata": {},
   "outputs": [
    {
     "name": "stdout",
     "output_type": "stream",
     "text": [
      "Performance metric sep by flowrate is [9.73849375]\n",
      "Performance metric2 sep by lightness is [3.95902599]\n",
      "Revenue is 40.65337096865344\n",
      "Capital cost is [10.63111072]\n",
      "[1.3720144114642854, 39.249741381169045, 0.015815144619820014, 0.015800031400285255]\n",
      "[1.5417022419824347, 2.263118837067464, 2.2947791866131957, 2.265874630450806, 2.2656358194770236]\n"
     ]
    }
   ],
   "source": [
    "env.reset()\n",
    "flowrated_order = [0, 4, 4, 4, 4] # ignore flowrated ordr, this is LK selection\n",
    "sep_order = [0, 1, 1, 1, 1]\n",
    "for i in range(env.split_option_n):\n",
    "    selected_stream = sep_order[i]\n",
    "    selected_compound = flowrated_order[i]\n",
    "    discrete_action = selected_stream*env.split_option_n + selected_compound \n",
    "    continuous_action = 1\n",
    "    action = ()\n",
    "    env.step([continuous_action, discrete_action])\n",
    "performance_flowrate = env.Performance_metric\n",
    "sequence_2 = env.sep_order\n",
    "print(f'Performance metric sep by flowrate is {performance_flowrate}')\n",
    "print(f'Performance metric2 sep by lightness is {env.Performance_metric2}')\n",
    "print(f'Revenue is {env.revenue/1e6}')\n",
    "print(f'Capital cost is {sum(env.capital_cost)/1e6}')\n",
    "print([env.revenue_by_stream[i]/1e6 for i in range(len(env.revenue_by_stream))])\n",
    "print([env.capital_cost[i][0]/1e6 for i in range(5)])"
   ]
  },
  {
   "cell_type": "markdown",
   "metadata": {},
   "source": [
    "## Solution 3: With dueling"
   ]
  },
  {
   "cell_type": "code",
   "execution_count": 11,
   "metadata": {},
   "outputs": [
    {
     "name": "stdout",
     "output_type": "stream",
     "text": [
      "Performance metric sep by flowrate is [9.87390264]\n",
      "Performance metric2 sep by lightness is [4.01315041]\n",
      "Revenue is 40.6440143543556\n",
      "Capital cost is [5.1251028]\n",
      "[1.3720144114642854, 0.001369281375987476, 0.02088928034628235, 39.249741381169045]\n",
      "[1.5417022419824347, 0.4172070756203743, 0.4264659670659567, 2.262746364826231, 0.4769811463775416]\n"
     ]
    }
   ],
   "source": [
    "env.reset()\n",
    "flowrated_order = [0, 0, 0, 4, 0] # ignore flowrated ordr, this is LK selection\n",
    "sep_order = [0, 1, 1, 2, 1]\n",
    "for i in range(env.split_option_n):\n",
    "    selected_stream = sep_order[i]\n",
    "    selected_compound = flowrated_order[i]\n",
    "    discrete_action = selected_stream*env.split_option_n + selected_compound \n",
    "    continuous_action = 1\n",
    "    action = ()\n",
    "    env.step([continuous_action, discrete_action])\n",
    "performance_flowrate = env.Performance_metric\n",
    "sequence_2 = env.sep_order\n",
    "print(f'Performance metric sep by flowrate is {performance_flowrate}')\n",
    "print(f'Performance metric2 sep by lightness is {env.Performance_metric2}')\n",
    "print(f'Revenue is {env.revenue/1e6}')\n",
    "print(f'Capital cost is {sum(env.capital_cost)/1e6}')\n",
    "print([env.revenue_by_stream[i]/1e6 for i in range(len(env.revenue_by_stream))])\n",
    "print([env.capital_cost[i][0]/1e6 for i in range(5)])"
   ]
  },
  {
   "cell_type": "code",
   "execution_count": null,
   "metadata": {},
   "outputs": [],
   "source": []
  }
 ],
 "metadata": {
  "kernelspec": {
   "display_name": "Python 3",
   "language": "python",
   "name": "python3"
  },
  "language_info": {
   "codemirror_mode": {
    "name": "ipython",
    "version": 3
   },
   "file_extension": ".py",
   "mimetype": "text/x-python",
   "name": "python",
   "nbconvert_exporter": "python",
   "pygments_lexer": "ipython3",
   "version": "3.7.4"
  }
 },
 "nbformat": 4,
 "nbformat_minor": 2
}
