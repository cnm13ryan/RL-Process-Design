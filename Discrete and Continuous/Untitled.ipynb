{
 "cells": [
  {
   "cell_type": "code",
   "execution_count": 3,
   "metadata": {},
   "outputs": [
    {
     "name": "stdout",
     "output_type": "stream",
     "text": [
      "TODO: make action of 0 end episode (Submit design)\n"
     ]
    }
   ],
   "source": [
    "import matplotlib\n",
    "import matplotlib.pyplot as plt\n",
    "\n",
    "from Env.Simulator_New import Simulator\n",
    "from Utils.utils import Visualiser\n",
    "env = Simulator()"
   ]
  },
  {
   "cell_type": "markdown",
   "metadata": {},
   "source": [
    "## Solution 1 Standard-PDQN"
   ]
  },
  {
   "cell_type": "code",
   "execution_count": 4,
   "metadata": {},
   "outputs": [
    {
     "name": "stdout",
     "output_type": "stream",
     "text": [
      "Performance metric sep by flowrate is [9.59775811]\n",
      "Performance metric2 sep by lightness is [3.76636254]\n",
      "Revenue is 39.242107321136835\n",
      "Capital cost is [15.78481923]\n",
      "[0.015815144619820014, 0.015800031400285255, 39.210492145116724]\n",
      "[3.8292844799981833, 3.871366920717179, 3.82170642142914, 3.821346997684542, 0.44111441187733924]\n"
     ]
    }
   ],
   "source": [
    "env.reset()\n",
    "flowrated_order = [4, 4, 4, 4, 4]\n",
    "sep_order = [0, 0, 0, 0, 1]\n",
    "for i in range(env.split_option_n):\n",
    "    selected_stream = sep_order[i]\n",
    "    selected_compound = flowrated_order[i]\n",
    "    discrete_action = selected_stream*env.split_option_n + selected_compound \n",
    "    continuous_action = 1\n",
    "    action = ()\n",
    "    env.step([continuous_action, discrete_action])\n",
    "performance_flowrate = env.Performance_metric\n",
    "sequence_2 = env.sep_order\n",
    "print(f'Performance metric sep by flowrate is {performance_flowrate}')\n",
    "print(f'Performance metric2 sep by lightness is {env.Performance_metric2}')\n",
    "print(f'Revenue is {env.revenue/1e6}')\n",
    "print(f'Capital cost is {sum(env.capital_cost)/1e6}')\n",
    "print([env.revenue_by_stream[i]/1e6 for i in range(len(env.revenue_by_stream))])\n",
    "print([env.capital_cost[i][0]/1e6 for i in range(5)])"
   ]
  },
  {
   "cell_type": "markdown",
   "metadata": {},
   "source": [
    "## Solution 2"
   ]
  },
  {
   "cell_type": "code",
   "execution_count": 8,
   "metadata": {},
   "outputs": [
    {
     "name": "stdout",
     "output_type": "stream",
     "text": [
      "Performance metric sep by flowrate is [9.86897905]\n",
      "Performance metric2 sep by lightness is [3.86967526]\n",
      "Revenue is 39.210492145116724\n",
      "Capital cost is [5.13739586]\n",
      "[0.039209987234440045, 3.917027382417202e-05, 39.13211138026133, 0.03913160734712991]\n",
      "[3.8292844799981833, 0.44111441187733924, 0.31531784000760804, 0.31482872094135944, 0.23685041083163796]\n"
     ]
    }
   ],
   "source": [
    "env.reset()\n",
    "flowrated_order = [4, 4, 4, 4, 4]\n",
    "sep_order = [0, 1, 2, 3, 3]\n",
    "for i in range(env.split_option_n):\n",
    "    selected_stream = sep_order[i]\n",
    "    selected_compound = flowrated_order[i]\n",
    "    discrete_action = selected_stream*env.split_option_n + selected_compound \n",
    "    continuous_action = 1\n",
    "    action = ()\n",
    "    env.step([continuous_action, discrete_action])\n",
    "performance_flowrate = env.Performance_metric\n",
    "sequence_2 = env.sep_order\n",
    "print(f'Performance metric sep by flowrate is {performance_flowrate}')\n",
    "print(f'Performance metric2 sep by lightness is {env.Performance_metric2}')\n",
    "print(f'Revenue is {env.revenue/1e6}')\n",
    "print(f'Capital cost is {sum(env.capital_cost)/1e6}')\n",
    "print([env.revenue_by_stream[i]/1e6 for i in range(len(env.revenue_by_stream))])\n",
    "print([env.capital_cost[i][0]/1e6 for i in range(5)])"
   ]
  },
  {
   "cell_type": "code",
   "execution_count": null,
   "metadata": {},
   "outputs": [],
   "source": []
  }
 ],
 "metadata": {
  "kernelspec": {
   "display_name": "Python 3",
   "language": "python",
   "name": "python3"
  },
  "language_info": {
   "codemirror_mode": {
    "name": "ipython",
    "version": 3
   },
   "file_extension": ".py",
   "mimetype": "text/x-python",
   "name": "python",
   "nbconvert_exporter": "python",
   "pygments_lexer": "ipython3",
   "version": "3.7.4"
  }
 },
 "nbformat": 4,
 "nbformat_minor": 2
}
