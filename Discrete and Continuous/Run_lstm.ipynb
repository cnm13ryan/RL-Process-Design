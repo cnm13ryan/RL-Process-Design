{
 "cells": [
  {
   "cell_type": "code",
   "execution_count": 1,
   "metadata": {},
   "outputs": [
    {
     "name": "stderr",
     "output_type": "stream",
     "text": [
      "Using TensorFlow backend.\n"
     ]
    }
   ],
   "source": [
    "from Distillation_disc_cont import Simulator\n",
    "from memory import Memory\n",
    "from Actor_Critic_lstm import Agent\n",
    "import numpy as np\n",
    "import matplotlib.pyplot as plt\n",
    "%load_ext autoreload\n",
    "import dill"
   ]
  },
  {
   "cell_type": "code",
   "execution_count": 2,
   "metadata": {},
   "outputs": [],
   "source": [
    "#dill.load_session('Agent.db')"
   ]
  },
  {
   "cell_type": "code",
   "execution_count": 3,
   "metadata": {},
   "outputs": [],
   "source": [
    "%autoreload"
   ]
  },
  {
   "cell_type": "markdown",
   "metadata": {},
   "source": [
    "## Make agent and define hyperparameters"
   ]
  },
  {
   "cell_type": "code",
   "execution_count": 4,
   "metadata": {},
   "outputs": [],
   "source": [
    "alpha = 1e-6 \n",
    "beta = 1e-7 \n",
    "gamma = 0.97\n",
    "\n",
    "num_episodes = int(1e4)\n",
    "memory_size = int(1e5)\n",
    "batch_size = 50\n",
    "pretrain_eps = batch_size"
   ]
  },
  {
   "cell_type": "code",
   "execution_count": 5,
   "metadata": {
    "scrolled": true
   },
   "outputs": [
    {
     "name": "stderr",
     "output_type": "stream",
     "text": [
      "WARNING: Logging before flag parsing goes to stderr.\n",
      "W0930 21:59:17.143475 10412 deprecation_wrapper.py:119] From C:\\Users\\meatrobot\\Anaconda3\\envs\\RL\\lib\\site-packages\\keras\\backend\\tensorflow_backend.py:541: The name tf.placeholder is deprecated. Please use tf.compat.v1.placeholder instead.\n",
      "\n",
      "W0930 21:59:17.164547 10412 deprecation_wrapper.py:119] From C:\\Users\\meatrobot\\Anaconda3\\envs\\RL\\lib\\site-packages\\keras\\backend\\tensorflow_backend.py:66: The name tf.get_default_graph is deprecated. Please use tf.compat.v1.get_default_graph instead.\n",
      "\n",
      "W0930 21:59:17.167410 10412 deprecation_wrapper.py:119] From C:\\Users\\meatrobot\\Anaconda3\\envs\\RL\\lib\\site-packages\\keras\\backend\\tensorflow_backend.py:4432: The name tf.random_uniform is deprecated. Please use tf.random.uniform instead.\n",
      "\n",
      "D:\\Github\\RL-Process-Design\\Discrete and Continuous\\Actor_Critic_lstm.py:59: UserWarning: Update your `Model` call to the Keras 2 API: `Model(inputs=[<tf.Tenso..., outputs=[<tf.Tenso...)`\n",
      "  actor = Model(input = [input, delta], output = [policy_discrete_probs, policy_continuous])\n",
      "W0930 21:59:17.832664 10412 deprecation_wrapper.py:119] From C:\\Users\\meatrobot\\Anaconda3\\envs\\RL\\lib\\site-packages\\keras\\optimizers.py:793: The name tf.train.Optimizer is deprecated. Please use tf.compat.v1.train.Optimizer instead.\n",
      "\n",
      "W0930 21:59:17.852612 10412 deprecation_wrapper.py:119] From C:\\Users\\meatrobot\\Anaconda3\\envs\\RL\\lib\\site-packages\\keras\\backend\\tensorflow_backend.py:1702: The name tf.log is deprecated. Please use tf.math.log instead.\n",
      "\n",
      "D:\\Github\\RL-Process-Design\\Discrete and Continuous\\Actor_Critic_lstm.py:62: UserWarning: Update your `Model` call to the Keras 2 API: `Model(inputs=[<tf.Tenso..., outputs=[<tf.Tenso...)`\n",
      "  critic = Model(input = [input], output = [Values])\n",
      "D:\\Github\\RL-Process-Design\\Discrete and Continuous\\Actor_Critic_lstm.py:67: UserWarning: Update your `Model` call to the Keras 2 API: `Model(inputs=[<tf.Tenso..., outputs=[<tf.Tenso...)`\n",
      "  policy = Model(input = [input], output = [policy_discrete_probs, policy_continuous])\n"
     ]
    },
    {
     "name": "stdout",
     "output_type": "stream",
     "text": [
      "Model: \"model_1\"\n",
      "__________________________________________________________________________________________________\n",
      "Layer (type)                    Output Shape         Param #     Connected to                     \n",
      "==================================================================================================\n",
      "Input (InputLayer)              (None, 6)            0                                            \n",
      "__________________________________________________________________________________________________\n",
      "fc1 (Dense)                     (None, 30)           210         Input[0][0]                      \n",
      "__________________________________________________________________________________________________\n",
      "fc2 (Dense)                     (None, 30)           930         fc1[0][0]                        \n",
      "__________________________________________________________________________________________________\n",
      "reshape_1 (Reshape)             (None, 30, 1)        0           fc2[0][0]                        \n",
      "__________________________________________________________________________________________________\n",
      "lstm_1 (LSTM)                   (None, 30)           3840        reshape_1[0][0]                  \n",
      "__________________________________________________________________________________________________\n",
      "policy_output (Dense)           (None, 1)            31          lstm_1[0][0]                     \n",
      "__________________________________________________________________________________________________\n",
      "discrete_action_output (Dense)  (None, 5)            155         lstm_1[0][0]                     \n",
      "__________________________________________________________________________________________________\n",
      "policy_output_actual_value (Lam (None, 1)            0           policy_output[0][0]              \n",
      "==================================================================================================\n",
      "Total params: 5,166\n",
      "Trainable params: 5,166\n",
      "Non-trainable params: 0\n",
      "__________________________________________________________________________________________________\n"
     ]
    }
   ],
   "source": [
    "env = Simulator()\n",
    "memory = Memory(max_size = memory_size)\n",
    "agent = Agent(env = env, alpha = alpha, beta = beta, gamma = gamma, layer_size = 30)\n",
    "agent.actor.summary()\n",
    "#agent.critic.summary()\n",
    "#agent.policy.summary()"
   ]
  },
  {
   "cell_type": "markdown",
   "metadata": {},
   "source": [
    "## Fill the experience memory"
   ]
  },
  {
   "cell_type": "code",
   "execution_count": 6,
   "metadata": {},
   "outputs": [
    {
     "name": "stderr",
     "output_type": "stream",
     "text": [
      "D:\\Github\\RL-Process-Design\\Discrete and Continuous\\Distillation_disc_cont.py:65: RuntimeWarning: invalid value encountered in double_scalars\n",
      "  LK_B = bots[Light_Key]/sum(bots)\n"
     ]
    }
   ],
   "source": [
    "state = env.reset()\n",
    "\n",
    "for ep in range(pretrain_eps):\n",
    "    action = env.discrete_action_space.sample(), env.continuous_action_space.sample()\n",
    "    next_state, reward, done, _ = env.step(action)\n",
    "    \n",
    "    if done:\n",
    "        next_state = np.zeros(env.observation_space.shape)\n",
    "        memory.add((state, action, reward, next_state))\n",
    "        \n",
    "    else:\n",
    "        memory.add((state, action, reward, next_state))\n",
    "        state = next_state\n",
    "    "
   ]
  },
  {
   "cell_type": "code",
   "execution_count": 7,
   "metadata": {
    "scrolled": false
   },
   "outputs": [
    {
     "name": "stderr",
     "output_type": "stream",
     "text": [
      "W0930 21:59:19.564894 10412 deprecation_wrapper.py:119] From C:\\Users\\meatrobot\\Anaconda3\\envs\\RL\\lib\\site-packages\\keras\\backend\\tensorflow_backend.py:3005: The name tf.Session is deprecated. Please use tf.compat.v1.Session instead.\n",
      "\n",
      "D:\\Github\\RL-Process-Design\\Discrete and Continuous\\Distillation_disc_cont.py:75: RuntimeWarning: invalid value encountered in log\n",
      "  N =  np.log(LK_D/(1-LK_D) * (1-LK_B)/LK_B)/np.log(self.relative_volatility[Light_Key])\n",
      "D:\\Github\\RL-Process-Design\\Discrete and Continuous\\Distillation_disc_cont.py:64: RuntimeWarning: invalid value encountered in double_scalars\n",
      "  LK_D = tops[Light_Key]/sum(tops)\n"
     ]
    },
    {
     "name": "stdout",
     "output_type": "stream",
     "text": [
      "episode 0, avg_score -1664.9077713146185, last action (0, array([[0.91769196]]))\n"
     ]
    },
    {
     "name": "stderr",
     "output_type": "stream",
     "text": [
      "W0930 21:59:20.880372 10412 deprecation.py:323] From C:\\Users\\meatrobot\\Anaconda3\\envs\\RL\\lib\\site-packages\\tensorflow\\python\\ops\\math_grad.py:1250: add_dispatch_support.<locals>.wrapper (from tensorflow.python.ops.array_ops) is deprecated and will be removed in a future version.\n",
      "Instructions for updating:\n",
      "Use tf.where in 2.0, which has the same broadcast rule as np.where\n",
      "D:\\Github\\RL-Process-Design\\Discrete and Continuous\\Distillation_disc_cont.py:75: RuntimeWarning: invalid value encountered in log\n",
      "  N =  np.log(LK_D/(1-LK_D) * (1-LK_B)/LK_B)/np.log(self.relative_volatility[Light_Key])\n",
      "D:\\Github\\RL-Process-Design\\Discrete and Continuous\\Distillation_disc_cont.py:64: RuntimeWarning: invalid value encountered in double_scalars\n",
      "  LK_D = tops[Light_Key]/sum(tops)\n",
      "D:\\Github\\RL-Process-Design\\Discrete and Continuous\\Distillation_disc_cont.py:65: RuntimeWarning: invalid value encountered in double_scalars\n",
      "  LK_B = bots[Light_Key]/sum(bots)\n"
     ]
    },
    {
     "name": "stdout",
     "output_type": "stream",
     "text": [
      "episode 100, avg_score -1819.477268479961, last action (0, array([[0.65437931]]))\n",
      "episode 200, avg_score -1753.5410905193653, last action (0, array([[0.999]], dtype=float32))\n",
      "episode 300, avg_score -1746.6119029297072, last action (0, array([[-0.55733516]]))\n",
      "episode 400, avg_score -1740.8331875561446, last action (0, array([[0.999]], dtype=float32))\n",
      "episode 500, avg_score -1699.5519941734085, last action (1, array([[0.999]], dtype=float32))\n",
      "episode 600, avg_score -1732.1858619233687, last action (0, array([[0.88088528]]))\n",
      "episode 700, avg_score -1685.740570604947, last action (0, array([[0.03031091]]))\n",
      "episode 800, avg_score -1659.314661936481, last action (0, array([[0.999]], dtype=float32))\n",
      "episode 900, avg_score -1667.7614144015033, last action (0, array([[0.4903652]]))\n",
      "episode 1000, avg_score -1695.1806602298498, last action (0, array([[0.58072377]]))\n",
      "episode 1100, avg_score -1680.6595871322459, last action (0, array([[0.999]], dtype=float32))\n",
      "episode 1200, avg_score -1629.3432422449073, last action (0, array([[0.51185079]]))\n",
      "episode 1300, avg_score -1650.1253418452968, last action (0, array([[0.35039956]]))\n",
      "episode 1400, avg_score -1682.026503794531, last action (0, array([[0.999]], dtype=float32))\n",
      "episode 1500, avg_score -1712.4376568845378, last action (0, array([[0.11420604]]))\n",
      "episode 1600, avg_score -1663.2107074805767, last action (0, array([[0.63415773]]))\n",
      "episode 1700, avg_score -1580.9558206764505, last action (2, array([[0.999]], dtype=float32))\n",
      "episode 1800, avg_score -1671.939502858188, last action (1, array([[0.62843805]]))\n",
      "episode 1900, avg_score -1599.5042119780678, last action (4, array([[0.46021617]]))\n",
      "episode 2000, avg_score -1679.0032322154154, last action (4, array([[0.999]], dtype=float32))\n",
      "episode 2100, avg_score -1637.1154513379288, last action (1, array([[0.999]], dtype=float32))\n",
      "episode 2200, avg_score -1649.4578472184344, last action (0, array([[0.43415962]]))\n",
      "episode 2300, avg_score -1666.8776352022091, last action (0, array([[-0.2731996]]))\n",
      "episode 2400, avg_score -1586.814938267994, last action (4, array([[0.999]], dtype=float32))\n",
      "episode 2500, avg_score -1668.0831335482858, last action (4, array([[0.19587111]]))\n",
      "episode 2600, avg_score -1601.7968864544619, last action (3, array([[0.37841677]]))\n",
      "episode 2700, avg_score -1613.0235710246184, last action (0, array([[0.999]], dtype=float32))\n",
      "episode 2800, avg_score -1604.8434686273051, last action (4, array([[0.999]], dtype=float32))\n",
      "episode 2900, avg_score -1556.1113933273175, last action (1, array([[0.3687329]]))\n",
      "episode 3000, avg_score -1569.8906016217659, last action (3, array([[0.999]], dtype=float32))\n",
      "episode 3100, avg_score -1576.0375217679027, last action (0, array([[0.999]], dtype=float32))\n",
      "episode 3200, avg_score -1622.5814778719732, last action (0, array([[-0.47370169]]))\n",
      "episode 3300, avg_score -1624.9782844805845, last action (1, array([[0.8015822]]))\n",
      "episode 3400, avg_score -1573.865428200247, last action (3, array([[0.999]], dtype=float32))\n",
      "episode 3500, avg_score -1527.383581472306, last action (0, array([[0.10164914]]))\n",
      "episode 3600, avg_score -1601.8261179200447, last action (3, array([[0.999]], dtype=float32))\n",
      "episode 3700, avg_score -1582.982253112744, last action (4, array([[0.27868868]]))\n",
      "episode 3800, avg_score -1541.9747946369005, last action (3, array([[0.999]], dtype=float32))\n",
      "episode 3900, avg_score -1611.1659481002148, last action (4, array([[0.56759821]]))\n",
      "episode 4000, avg_score -1557.3659673148102, last action (3, array([[0.75536247]]))\n",
      "episode 4100, avg_score -1587.5397800756195, last action (0, array([[-0.13942541]]))\n",
      "episode 4200, avg_score -1557.7836075576924, last action (1, array([[0.89402984]]))\n",
      "episode 4300, avg_score -1555.2260273331924, last action (3, array([[0.999]], dtype=float32))\n",
      "episode 4400, avg_score -1543.6195306740963, last action (0, array([[0.63296825]]))\n",
      "episode 4500, avg_score -1592.1519444030835, last action (3, array([[0.89214838]]))\n",
      "episode 4600, avg_score -1535.870215913837, last action (2, array([[0.28486002]]))\n",
      "episode 4700, avg_score -1602.1950241997222, last action (4, array([[0.01034744]]))\n",
      "episode 4800, avg_score -1512.8323486695217, last action (2, array([[0.999]], dtype=float32))\n",
      "episode 4900, avg_score -1550.9730330842679, last action (0, array([[0.80763741]]))\n",
      "episode 5000, avg_score -1539.6349566236127, last action (0, array([[0.84248718]]))\n",
      "episode 5100, avg_score -1585.8855032136778, last action (3, array([[0.999]], dtype=float32))\n",
      "episode 5200, avg_score -1532.3360200835937, last action (4, array([[0.45995352]]))\n",
      "episode 5300, avg_score -1506.354624776943, last action (0, array([[0.60619428]]))\n",
      "episode 5400, avg_score -1489.9783154817455, last action (4, array([[0.89946402]]))\n",
      "episode 5500, avg_score -1534.0442082851407, last action (0, array([[-0.07192788]]))\n",
      "episode 5600, avg_score -1472.0253394760252, last action (4, array([[0.53963333]]))\n",
      "episode 5700, avg_score -1524.9180659600831, last action (2, array([[0.71809862]]))\n",
      "episode 5800, avg_score -1472.8507304600266, last action (3, array([[0.29137616]]))\n",
      "episode 5900, avg_score -1569.6397812703972, last action (0, array([[0.2146737]]))\n",
      "episode 6000, avg_score -1495.9470496950319, last action (3, array([[0.98847916]]))\n",
      "episode 6100, avg_score -1547.4606495557239, last action (3, array([[0.02285864]]))\n",
      "episode 6200, avg_score -1476.9775937454272, last action (0, array([[0.45284505]]))\n",
      "episode 6300, avg_score -1472.5598319456778, last action (0, array([[0.88199857]]))\n",
      "episode 6400, avg_score -1504.2404735897328, last action (4, array([[0.59261347]]))\n",
      "episode 6500, avg_score -1427.3056521564147, last action (3, array([[0.33573052]]))\n",
      "episode 6600, avg_score -1483.2708859550726, last action (4, array([[0.79876432]]))\n",
      "episode 6700, avg_score -1508.2075866144953, last action (3, array([[0.65956326]]))\n",
      "episode 6800, avg_score -1494.963926293097, last action (4, array([[0.92498658]]))\n",
      "episode 6900, avg_score -1518.0253238027444, last action (0, array([[0.66301298]]))\n",
      "episode 7000, avg_score -1484.232079684606, last action (3, array([[0.999]], dtype=float32))\n",
      "episode 7100, avg_score -1523.444575527631, last action (4, array([[0.90699398]]))\n",
      "episode 7200, avg_score -1522.810042888453, last action (0, array([[0.75229464]]))\n",
      "episode 7300, avg_score -1521.1908643018082, last action (4, array([[0.84449792]]))\n",
      "episode 7400, avg_score -1529.8782395306814, last action (4, array([[0.999]], dtype=float32))\n",
      "episode 7500, avg_score -1475.9648118230286, last action (3, array([[0.92786176]]))\n",
      "episode 7600, avg_score -1447.3861577603052, last action (1, array([[0.65070421]]))\n",
      "episode 7700, avg_score -1498.967998456155, last action (0, array([[0.94006108]]))\n",
      "episode 7800, avg_score -1514.163630050123, last action (4, array([[0.95779043]]))\n",
      "episode 7900, avg_score -1524.399936488219, last action (4, array([[0.81313069]]))\n",
      "episode 8000, avg_score -1525.6324700352316, last action (3, array([[0.62618905]]))\n",
      "episode 8100, avg_score -1522.2752344051999, last action (3, array([[0.48128984]]))\n",
      "episode 8200, avg_score -1504.899513247745, last action (3, array([[0.82309129]]))\n",
      "episode 8300, avg_score -1507.792504600471, last action (0, array([[0.78804537]]))\n",
      "episode 8400, avg_score -1497.1654358512023, last action (0, array([[0.999]], dtype=float32))\n",
      "episode 8500, avg_score -1511.2655336187015, last action (4, array([[0.76200341]]))\n",
      "episode 8600, avg_score -1533.4731192966333, last action (0, array([[0.76350315]]))\n",
      "episode 8700, avg_score -1557.5933264774815, last action (4, array([[0.88940483]]))\n",
      "episode 8800, avg_score -1578.8285905010268, last action (2, array([[0.8720055]]))\n",
      "episode 8900, avg_score -1539.3424780060107, last action (1, array([[0.77442219]]))\n",
      "episode 9000, avg_score -1519.92494279586, last action (1, array([[0.80489344]]))\n",
      "episode 9100, avg_score -1549.9836191771733, last action (3, array([[0.69821008]]))\n",
      "episode 9200, avg_score -1544.759346773978, last action (1, array([[0.88225428]]))\n",
      "episode 9300, avg_score -1531.997405748349, last action (0, array([[0.74026857]]))\n",
      "episode 9400, avg_score -1516.2402746632974, last action (1, array([[0.77409134]]))\n",
      "episode 9500, avg_score -1543.2988804437314, last action (3, array([[0.77633453]]))\n",
      "episode 9600, avg_score -1507.5482532512792, last action (4, array([[0.67078745]]))\n"
     ]
    },
    {
     "name": "stdout",
     "output_type": "stream",
     "text": [
      "episode 9700, avg_score -1513.0914071029215, last action (0, array([[0.76262856]]))\n",
      "episode 9800, avg_score -1562.9792759651245, last action (3, array([[0.73803971]]))\n",
      "episode 9900, avg_score -1528.3180617816906, last action (1, array([[0.7444045]]))\n"
     ]
    }
   ],
   "source": [
    "score_history = []\n",
    "for i in range(num_episodes):\n",
    "    \n",
    "    done = False\n",
    "    \n",
    "    state = env.reset()\n",
    "    score = 0\n",
    "    \n",
    "    while not done:\n",
    "        action = agent.choose_action_epsgreedy(state, i, num_episodes)\n",
    "        next_state, reward, done, info = env.step(action)\n",
    "        #agent.learn(state,  action, reward, next_state, done)\n",
    "        score += reward\n",
    "        memory.add((state, action, reward, next_state))\n",
    "        state = next_state\n",
    "    \n",
    "    score_history.append(score)\n",
    "    next_state = np.zeros(state.shape)\n",
    "    memory.add((state, action, reward, next_state))\n",
    "    \n",
    "    avg_score = np.mean(score_history[-100:]) #average of last 100 scores\n",
    "    if i%100 == 0:\n",
    "        print(f'episode {i}, avg_score {avg_score}, last action {action}')\n",
    "        \n",
    "    batch = memory.sample(batch_size)\n",
    "    states = np.array([each[0] for each in batch])\n",
    "    actions = np.array([each[1] for each in batch])\n",
    "    rewards = np.array([each[2] for each in batch])\n",
    "    next_states = np.array([each[3] for each in batch])\n",
    "    \n",
    "    agent.learn(states,  actions, rewards, next_states, done, batch_size)    \n"
   ]
  },
  {
   "cell_type": "code",
   "execution_count": 8,
   "metadata": {},
   "outputs": [],
   "source": [
    "def running_mean(x, N):\n",
    "    cumsum = np.cumsum(np.insert(x, 0, 0)) \n",
    "    return (cumsum[N:] - cumsum[:-N]) / N"
   ]
  },
  {
   "cell_type": "code",
   "execution_count": 9,
   "metadata": {},
   "outputs": [
    {
     "data": {
      "text/plain": [
       "<matplotlib.legend.Legend at 0x1cca0504a08>"
      ]
     },
     "execution_count": 9,
     "metadata": {},
     "output_type": "execute_result"
    },
    {
     "data": {
      "image/png": "[encoded data removed]",
      "text/plain": [
       "<Figure size 432x288 with 1 Axes>"
      ]
     },
     "metadata": {
      "needs_background": "light"
     },
     "output_type": "display_data"
    }
   ],
   "source": [
    "episodes = np.arange(num_episodes)\n",
    "smoothed_rews = running_mean(score_history, 10)\n",
    "plt.plot(episodes[-len(smoothed_rews):], smoothed_rews)\n",
    "plt.plot(episodes, score_history,color='grey', alpha=0.3)\n",
    "plt.xlabel(\"steps\")\n",
    "plt.ylabel(\"reward\")\n",
    "plt.legend([\"avg reward\", \"reward\"])"
   ]
  },
  {
   "cell_type": "code",
   "execution_count": 10,
   "metadata": {},
   "outputs": [
    {
     "name": "stdout",
     "output_type": "stream",
     "text": [
      "action LK: 1, action split: [0.74847716], reward: -10.758453998299515\n",
      "action LK: 1, action split: [0.7509184], reward: -100\n",
      "action LK: 0, action split: [0.7535044], reward: -100\n",
      "action LK: 0, action split: [0.7535044], reward: -100\n",
      "action LK: 0, action split: [0.7535044], reward: -100\n",
      "action LK: 0, action split: [0.7535044], reward: -100\n",
      "action LK: 0, action split: [0.7535044], reward: -100\n",
      "action LK: 0, action split: [0.7535044], reward: -100\n",
      "action LK: 0, action split: [0.7535044], reward: -100\n",
      "action LK: 0, action split: [0.7535044], reward: -100\n",
      "action LK: 0, action split: [0.7535044], reward: -100\n",
      "action LK: 0, action split: [0.7535044], reward: -100\n",
      "action LK: 0, action split: [0.7535044], reward: -100\n",
      "action LK: 0, action split: [0.7535044], reward: -100\n",
      "action LK: 0, action split: [0.7535044], reward: -100\n",
      "action LK: 0, action split: [0.7535044], reward: -100\n",
      "action LK: 0, action split: [0.7535044], reward: -100\n",
      "action LK: 0, action split: [0.7535044], reward: -100\n",
      "action LK: 0, action split: [0.7535044], reward: -100\n",
      "action LK: 0, action split: [0.7535044], reward: -100\n",
      "action LK: 0, action split: [0.7535044], reward: -100\n"
     ]
    }
   ],
   "source": [
    "#test agent\n",
    "state = env.reset()\n",
    "done = False\n",
    "while not done:\n",
    "    state = state[np.newaxis, :]\n",
    "    action_discrete, action_continuous = agent.policy.predict(state)\n",
    "    action_discrete = np.argmax(action_discrete)\n",
    "    action = action_discrete, action_continuous\n",
    "    \n",
    "    state, reward, done, info = env.step(action)\n",
    "    print(f'action LK: {action_discrete}, action split: {action_continuous[0]}, reward: {reward}')"
   ]
  },
  {
   "cell_type": "code",
   "execution_count": null,
   "metadata": {},
   "outputs": [],
   "source": [
    "env.stream_table"
   ]
  },
  {
   "cell_type": "code",
   "execution_count": null,
   "metadata": {},
   "outputs": [],
   "source": [
    "action_discrete, action_continuous = agent.policy.predict(state[np.newaxis, :])"
   ]
  },
  {
   "cell_type": "code",
   "execution_count": null,
   "metadata": {},
   "outputs": [],
   "source": []
  },
  {
   "cell_type": "code",
   "execution_count": null,
   "metadata": {},
   "outputs": [],
   "source": [
    "#dill.dump_session('Agent.db')"
   ]
  }
 ],
 "metadata": {
  "kernelspec": {
   "display_name": "Python 3",
   "language": "python",
   "name": "python3"
  },
  "language_info": {
   "codemirror_mode": {
    "name": "ipython",
    "version": 3
   },
   "file_extension": ".py",
   "mimetype": "text/x-python",
   "name": "python",
   "nbconvert_exporter": "python",
   "pygments_lexer": "ipython3",
   "version": "3.7.4"
  }
 },
 "nbformat": 4,
 "nbformat_minor": 2
}
