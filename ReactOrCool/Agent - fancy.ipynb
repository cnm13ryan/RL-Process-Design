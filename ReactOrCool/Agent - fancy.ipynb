{
 "cells": [
  {
   "cell_type": "code",
   "execution_count": 93,
   "metadata": {},
   "outputs": [],
   "source": [
    "import numpy as np\n",
    "import matplotlib.pyplot as plt\n",
    "\n",
    "from keras.models import Sequential\n",
    "from keras.layers import Dense, Activation, Flatten\n",
    "from keras.optimizers import Adam\n",
    "\n",
    "from rl.agents.dqn import DQNAgent\n",
    "from rl.policy import EpsGreedyQPolicy, LinearAnnealedPolicy\n",
    "from rl.memory import SequentialMemory"
   ]
  },
  {
   "cell_type": "code",
   "execution_count": 94,
   "metadata": {},
   "outputs": [],
   "source": [
    "from ReactorCool import simulator"
   ]
  },
  {
   "cell_type": "code",
   "execution_count": 95,
   "metadata": {
    "scrolled": true
   },
   "outputs": [
    {
     "data": {
      "text/plain": [
       "(Box(2,), Discrete(3))"
      ]
     },
     "execution_count": 95,
     "metadata": {},
     "output_type": "execute_result"
    }
   ],
   "source": [
    "env = simulator()\n",
    "nb_actions = env.action_space.n\n",
    "env.observation_space, env.action_space"
   ]
  },
  {
   "cell_type": "code",
   "execution_count": 96,
   "metadata": {},
   "outputs": [
    {
     "name": "stdout",
     "output_type": "stream",
     "text": [
      "[600]\n",
      "[600, 580.0, 600.0, 600.0]\n"
     ]
    }
   ],
   "source": [
    "print(env.T)\n",
    "env.step(1), env.step(2), env.step(3)\n",
    "print(env.T)"
   ]
  },
  {
   "cell_type": "code",
   "execution_count": 97,
   "metadata": {},
   "outputs": [],
   "source": [
    "y = [] \n",
    "x = []\n",
    "CSTR = []\n",
    "PFR = []\n",
    "\n",
    "for i in range(0, 50):\n",
    "    test1 = simulator()\n",
    "    test2 = simulator()\n",
    "    x.append(i/50)\n",
    "    test1.X.append(i/50)\n",
    "    test2.X.append(i/50)\n",
    "    test1.simulate(0)\n",
    "    test2.simulate(1)\n",
    "    CSTR.append(test1.state[0])\n",
    "    PFR.append(test2.state[0])\n",
    "    if CSTR[-1] >0.999 or PFR[-1] > 0.999: break"
   ]
  },
  {
   "cell_type": "code",
   "execution_count": 98,
   "metadata": {},
   "outputs": [
    {
     "data": {
      "text/plain": [
       "<matplotlib.legend.Legend at 0x1cc5b141e08>"
      ]
     },
     "execution_count": 98,
     "metadata": {},
     "output_type": "execute_result"
    },
    {
     "data": {
      "image/png": "[encoded data removed]",
      "text/plain": [
       "<Figure size 432x288 with 1 Axes>"
      ]
     },
     "metadata": {
      "needs_background": "light"
     },
     "output_type": "display_data"
    }
   ],
   "source": [
    "plt.plot(x, CSTR)\n",
    "plt.plot(x, PFR)\n",
    "plt.legend([\"CSTR\", \"PFR\"])"
   ]
  },
  {
   "cell_type": "code",
   "execution_count": 99,
   "metadata": {},
   "outputs": [
    {
     "name": "stdout",
     "output_type": "stream",
     "text": [
      "Model: \"sequential_4\"\n",
      "_________________________________________________________________\n",
      "Layer (type)                 Output Shape              Param #   \n",
      "=================================================================\n",
      "flatten_4 (Flatten)          (None, 2)                 0         \n",
      "_________________________________________________________________\n",
      "dense_16 (Dense)             (None, 16)                48        \n",
      "_________________________________________________________________\n",
      "dense_17 (Dense)             (None, 16)                272       \n",
      "_________________________________________________________________\n",
      "dense_18 (Dense)             (None, 16)                272       \n",
      "_________________________________________________________________\n",
      "dense_19 (Dense)             (None, 3)                 51        \n",
      "=================================================================\n",
      "Total params: 643\n",
      "Trainable params: 643\n",
      "Non-trainable params: 0\n",
      "_________________________________________________________________\n",
      "None\n"
     ]
    }
   ],
   "source": [
    "# Next, we build a very simple model.\n",
    "model = Sequential()\n",
    "model.add(Flatten(input_shape=(1,) + env.observation_space.shape))\n",
    "model.add(Dense(16, activation = 'relu'))\n",
    "model.add(Dense(16, activation = 'relu'))\n",
    "model.add(Dense(16, activation = 'relu'))\n",
    "model.add(Dense(nb_actions, activation = 'linear'))\n",
    "print(model.summary())"
   ]
  },
  {
   "cell_type": "code",
   "execution_count": 100,
   "metadata": {
    "scrolled": true
   },
   "outputs": [],
   "source": [
    "policy = LinearAnnealedPolicy(EpsGreedyQPolicy(), attr='eps', value_max=1., value_min=.2, value_test= 0, nb_steps=10000)\n",
    "memory = SequentialMemory(limit=50000, window_length=1)\n",
    "dqn = DQNAgent(model=model, nb_actions=nb_actions, memory=memory, enable_double_dqn = True,  \n",
    "               enable_dueling_network = True, nb_steps_warmup=9, target_model_update=1e-2, policy=policy, gamma = 0.95, delta_clip = 1)\n",
    "dqn.compile(Adam(lr=1e-3), metrics=['mae'])"
   ]
  },
  {
   "cell_type": "code",
   "execution_count": 101,
   "metadata": {
    "scrolled": true
   },
   "outputs": [
    {
     "name": "stdout",
     "output_type": "stream",
     "text": [
      "Training for 30000 steps ...\n",
      "Interval 1 (0 steps performed)\n",
      "   46/10000 [..............................] - ETA: 7:29 - reward: 0.0524"
     ]
    },
    {
     "name": "stderr",
     "output_type": "stream",
     "text": [
      "C:\\Users\\meatrobot\\Anaconda3\\envs\\RL\\lib\\site-packages\\rl\\memory.py:39: UserWarning: Not enough entries to sample without replacement. Consider increasing your warm-up phase to avoid oversampling!\n",
      "  warnings.warn('Not enough entries to sample without replacement. Consider increasing your warm-up phase to avoid oversampling!')\n"
     ]
    },
    {
     "name": "stdout",
     "output_type": "stream",
     "text": [
      "10000/10000 [==============================] - 44s 4ms/step - reward: 0.0598\n",
      "1111 episodes - episode_reward: 0.538 [0.232, 0.974] - loss: 0.771 - mean_absolute_error: 1.728 - mean_q: -1.196 - mean_eps: 0.600\n",
      "\n",
      "Interval 2 (10000 steps performed)\n",
      "10000/10000 [==============================] - 42s 4ms/step - reward: 0.0666\n",
      "1111 episodes - episode_reward: 0.599 [0.232, 0.974] - loss: 0.026 - mean_absolute_error: 0.242 - mean_q: 0.371 - mean_eps: 0.200\n",
      "\n",
      "Interval 3 (20000 steps performed)\n",
      "10000/10000 [==============================] - 42s 4ms/step - reward: 0.0658\n",
      "done, took 129.068 seconds\n"
     ]
    }
   ],
   "source": [
    "hist = dqn.fit(env, nb_steps=30000)"
   ]
  },
  {
   "cell_type": "code",
   "execution_count": 102,
   "metadata": {
    "scrolled": true
   },
   "outputs": [
    {
     "name": "stdout",
     "output_type": "stream",
     "text": [
      "dict_keys(['episode_reward', 'nb_episode_steps', 'nb_steps'])\n"
     ]
    }
   ],
   "source": [
    "print(hist.history.keys())"
   ]
  },
  {
   "cell_type": "code",
   "execution_count": 103,
   "metadata": {},
   "outputs": [],
   "source": [
    "def running_mean(x, N):\n",
    "    cumsum = np.cumsum(np.insert(x, 0, 0)) \n",
    "    return (cumsum[N:] - cumsum[:-N]) / N"
   ]
  },
  {
   "cell_type": "code",
   "execution_count": 104,
   "metadata": {},
   "outputs": [
    {
     "data": {
      "text/plain": [
       "<matplotlib.legend.Legend at 0x1cc6d4a6c48>"
      ]
     },
     "execution_count": 104,
     "metadata": {},
     "output_type": "execute_result"
    },
    {
     "data": {
      "image/png": "[encoded data removed]",
      "text/plain": [
       "<Figure size 432x288 with 1 Axes>"
      ]
     },
     "metadata": {
      "needs_background": "light"
     },
     "output_type": "display_data"
    }
   ],
   "source": [
    "smoothed_rews = running_mean(hist.history['episode_reward'], 10)\n",
    "plt.plot(hist.history['nb_steps'][-len(smoothed_rews):], smoothed_rews)\n",
    "plt.plot(hist.history['nb_steps'],hist.history['episode_reward'],color='grey', alpha=0.3)\n",
    "plt.xlabel(\"steps\")\n",
    "plt.ylabel(\"reward\")\n",
    "plt.legend([\"avg reward\", \"reward\"])"
   ]
  },
  {
   "cell_type": "code",
   "execution_count": 105,
   "metadata": {
    "scrolled": true
   },
   "outputs": [
    {
     "name": "stdout",
     "output_type": "stream",
     "text": [
      "Testing for 1 episodes ...\n",
      "choice(1) -  units: ['CSTR'], conversions: [0, 0.19846197467290191], Temps: [600, 570.0]\n",
      "choice(2) -  units: ['CSTR', 'CSTR'], conversions: [0, 0.19846197467290191, 0.23215616364133973], Temps: [600, 570.0, 540.0]\n",
      "choice(3) -  units: ['CSTR', 'CSTR', 'CSTR'], conversions: [0, 0.19846197467290191, 0.23215616364133973, 0.23215616364133973], Temps: [600, 570.0, 540.0, 510.0]\n",
      "choice(4) -  units: ['CSTR', 'CSTR', 'CSTR', 'Cooler'], conversions: [0, 0.19846197467290191, 0.23215616364133973, 0.23215616364133973, 0.23215616364133973], Temps: [600, 570.0, 540.0, 510.0, 600.0]\n",
      "choice(5) -  units: ['CSTR', 'CSTR', 'CSTR', 'Cooler', 'CSTR'], conversions: [0, 0.19846197467290191, 0.23215616364133973, 0.23215616364133973, 0.23215616364133973, 0.23215616364133973], Temps: [600, 570.0, 540.0, 510.0, 600.0, 570.0]\n",
      "choice(6) -  units: ['CSTR', 'CSTR', 'CSTR', 'Cooler', 'CSTR', 'CSTR'], conversions: [0, 0.19846197467290191, 0.23215616364133973, 0.23215616364133973, 0.23215616364133973, 0.23215616364133973, 0.23215616364133973], Temps: [600, 570.0, 540.0, 510.0, 600.0, 570.0, 540.0]\n",
      "choice(7) -  units: ['CSTR', 'CSTR', 'CSTR', 'Cooler', 'CSTR', 'CSTR', 'CSTR'], conversions: [0, 0.19846197467290191, 0.23215616364133973, 0.23215616364133973, 0.23215616364133973, 0.23215616364133973, 0.23215616364133973, 0.23215616364133973], Temps: [600, 570.0, 540.0, 510.0, 600.0, 570.0, 540.0, 510.0]\n",
      "choice(8) -  units: ['CSTR', 'CSTR', 'CSTR', 'Cooler', 'CSTR', 'CSTR', 'CSTR', 'Cooler'], conversions: [0, 0.19846197467290191, 0.23215616364133973, 0.23215616364133973, 0.23215616364133973, 0.23215616364133973, 0.23215616364133973, 0.23215616364133973, 0.23215616364133973], Temps: [600, 570.0, 540.0, 510.0, 600.0, 570.0, 540.0, 510.0, 600.0]\n",
      "choice(9) -  units: ['CSTR', 'CSTR', 'CSTR', 'Cooler', 'CSTR', 'CSTR', 'CSTR', 'Cooler', 'CSTR'], conversions: [0, 0.19846197467290191, 0.23215616364133973, 0.23215616364133973, 0.23215616364133973, 0.23215616364133973, 0.23215616364133973, 0.23215616364133973, 0.23215616364133973, 0.23215616364133973], Temps: [600, 570.0, 540.0, 510.0, 600.0, 570.0, 540.0, 510.0, 600.0, 570.0]\n",
      "Episode 1: reward: 0.232, steps: 9\n"
     ]
    },
    {
     "data": {
      "text/plain": [
       "<keras.callbacks.History at 0x1cc5b17e5c8>"
      ]
     },
     "execution_count": 105,
     "metadata": {},
     "output_type": "execute_result"
    }
   ],
   "source": [
    "dqn.test(env, visualize = True)"
   ]
  },
  {
   "cell_type": "code",
   "execution_count": 106,
   "metadata": {},
   "outputs": [
    {
     "data": {
      "text/plain": [
       "['CSTR', 'CSTR', 'CSTR', 'Cooler', 'CSTR', 'CSTR', 'CSTR', 'Cooler', 'CSTR']"
      ]
     },
     "execution_count": 106,
     "metadata": {},
     "output_type": "execute_result"
    }
   ],
   "source": [
    "env.unit_seq"
   ]
  },
  {
   "cell_type": "code",
   "execution_count": 107,
   "metadata": {},
   "outputs": [],
   "source": [
    "y = [] \n",
    "x = []\n",
    "CSTR = []\n",
    "PFR = []\n",
    "\n",
    "for i in range(0, 50):\n",
    "    test1 = simulator()\n",
    "    test2 = simulator()\n",
    "    x.append(i/50)\n",
    "    test1.X.append(i/50)\n",
    "    test2.X.append(i/50)\n",
    "    test1.simulate(0)\n",
    "    test2.simulate(1)\n",
    "    CSTR.append(test1.state[0])\n",
    "    PFR.append(test2.state[0])\n",
    "    if CSTR[-1] >0.999 or PFR[-1] > 0.999: break"
   ]
  },
  {
   "cell_type": "code",
   "execution_count": 108,
   "metadata": {},
   "outputs": [
    {
     "data": {
      "text/plain": [
       "Text(0, 0.5, 'x next')"
      ]
     },
     "execution_count": 108,
     "metadata": {},
     "output_type": "execute_result"
    },
    {
     "data": {
      "image/png": "[encoded data removed]",
      "text/plain": [
       "<Figure size 432x288 with 1 Axes>"
      ]
     },
     "metadata": {
      "needs_background": "light"
     },
     "output_type": "display_data"
    }
   ],
   "source": [
    "x_sim = env.X[0:-1]\n",
    "temps = env.T[0:-1]\n",
    "choice = env.X[1:]\n",
    "plt.plot(x, CSTR)\n",
    "plt.plot(x, PFR)\n",
    "plt.plot(x_sim, choice, linestyle = '--', c = 'tab:grey')\n",
    "plt.scatter(x_sim, choice, c = temps, cmap = 'coolwarm')\n",
    "plt.legend([\"CSTR\", \"PFR\", \"CHOICE\"])\n",
    "plt.xlabel(\"x previous\")\n",
    "plt.ylabel(\"x next\")"
   ]
  },
  {
   "cell_type": "code",
   "execution_count": 32,
   "metadata": {},
   "outputs": [],
   "source": [
    "??dqn"
   ]
  },
  {
   "cell_type": "code",
   "execution_count": 39,
   "metadata": {},
   "outputs": [],
   "source": [
    "??env"
   ]
  },
  {
   "cell_type": "code",
   "execution_count": 10,
   "metadata": {},
   "outputs": [],
   "source": [
    "??dqn.fit"
   ]
  },
  {
   "cell_type": "code",
   "execution_count": 9,
   "metadata": {},
   "outputs": [],
   "source": [
    "??dqn.forward"
   ]
  },
  {
   "cell_type": "code",
   "execution_count": 24,
   "metadata": {},
   "outputs": [],
   "source": [
    "??SequentialMemory"
   ]
  }
 ],
 "metadata": {
  "kernelspec": {
   "display_name": "Python 3",
   "language": "python",
   "name": "python3"
  },
  "language_info": {
   "codemirror_mode": {
    "name": "ipython",
    "version": 3
   },
   "file_extension": ".py",
   "mimetype": "text/x-python",
   "name": "python",
   "nbconvert_exporter": "python",
   "pygments_lexer": "ipython3",
   "version": "3.7.4"
  }
 },
 "nbformat": 4,
 "nbformat_minor": 2
}
