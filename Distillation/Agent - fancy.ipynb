{
 "cells": [
  {
   "cell_type": "code",
   "execution_count": 1,
   "metadata": {},
   "outputs": [
    {
     "name": "stderr",
     "output_type": "stream",
     "text": [
      "Using TensorFlow backend.\n"
     ]
    }
   ],
   "source": [
    "import numpy as np\n",
    "import matplotlib.pyplot as plt\n",
    "\n",
    "from keras.models import Sequential\n",
    "from keras.layers import Dense, Activation, Flatten\n",
    "from keras.optimizers import Adam\n",
    "\n",
    "from rl.agents.dqn import DQNAgent\n",
    "from rl.policy import EpsGreedyQPolicy, LinearAnnealedPolicy\n",
    "from rl.memory import SequentialMemory\n",
    "\n",
    "import os\n",
    "import dill\n",
    "%load_ext autoreload\n",
    "\n",
    "\n",
    "#os.listdir()"
   ]
  },
  {
   "cell_type": "code",
   "execution_count": 2,
   "metadata": {},
   "outputs": [],
   "source": [
    "from Distillation_simple1 import simulator"
   ]
  },
  {
   "cell_type": "code",
   "execution_count": 3,
   "metadata": {
    "scrolled": true
   },
   "outputs": [
    {
     "data": {
      "text/plain": [
       "(Box(6,), Discrete(5))"
      ]
     },
     "execution_count": 3,
     "metadata": {},
     "output_type": "execute_result"
    }
   ],
   "source": [
    "env = simulator()\n",
    "nb_actions = env.action_space.n\n",
    "env.observation_space, env.action_space"
   ]
  },
  {
   "cell_type": "code",
   "execution_count": 4,
   "metadata": {},
   "outputs": [
    {
     "name": "stderr",
     "output_type": "stream",
     "text": [
      "WARNING: Logging before flag parsing goes to stderr.\n",
      "W0925 16:09:28.008850 12468 deprecation_wrapper.py:119] From C:\\Users\\meatrobot\\Anaconda3\\envs\\RL\\lib\\site-packages\\keras\\backend\\tensorflow_backend.py:66: The name tf.get_default_graph is deprecated. Please use tf.compat.v1.get_default_graph instead.\n",
      "\n",
      "W0925 16:09:28.032822 12468 deprecation_wrapper.py:119] From C:\\Users\\meatrobot\\Anaconda3\\envs\\RL\\lib\\site-packages\\keras\\backend\\tensorflow_backend.py:541: The name tf.placeholder is deprecated. Please use tf.compat.v1.placeholder instead.\n",
      "\n",
      "W0925 16:09:28.044825 12468 deprecation_wrapper.py:119] From C:\\Users\\meatrobot\\Anaconda3\\envs\\RL\\lib\\site-packages\\keras\\backend\\tensorflow_backend.py:4432: The name tf.random_uniform is deprecated. Please use tf.random.uniform instead.\n",
      "\n"
     ]
    },
    {
     "name": "stdout",
     "output_type": "stream",
     "text": [
      "Model: \"sequential_1\"\n",
      "_________________________________________________________________\n",
      "Layer (type)                 Output Shape              Param #   \n",
      "=================================================================\n",
      "flatten_1 (Flatten)          (None, 6)                 0         \n",
      "_________________________________________________________________\n",
      "dense_1 (Dense)              (None, 16)                112       \n",
      "_________________________________________________________________\n",
      "dense_2 (Dense)              (None, 16)                272       \n",
      "_________________________________________________________________\n",
      "dense_3 (Dense)              (None, 16)                272       \n",
      "_________________________________________________________________\n",
      "dense_4 (Dense)              (None, 5)                 85        \n",
      "=================================================================\n",
      "Total params: 741\n",
      "Trainable params: 741\n",
      "Non-trainable params: 0\n",
      "_________________________________________________________________\n",
      "None\n"
     ]
    }
   ],
   "source": [
    "# Next, we build a very simple model.\n",
    "model = Sequential()\n",
    "model.add(Flatten(input_shape=(1,) + env.observation_space.shape))\n",
    "model.add(Dense(16, activation = 'relu'))\n",
    "model.add(Dense(16, activation = 'relu'))\n",
    "model.add(Dense(16, activation = 'relu'))\n",
    "model.add(Dense(nb_actions, activation = 'linear'))\n",
    "print(model.summary())"
   ]
  },
  {
   "cell_type": "code",
   "execution_count": 11,
   "metadata": {
    "scrolled": true
   },
   "outputs": [],
   "source": [
    "steps = 2e5\n",
    "policy = LinearAnnealedPolicy(EpsGreedyQPolicy(), attr='eps', value_max=1., value_min=.1, value_test= 0, nb_steps=steps)\n",
    "memory = SequentialMemory(limit=50000, window_length=1)\n",
    "dqn = DQNAgent(model=model, nb_actions=nb_actions, memory=memory, enable_double_dqn = True,  \n",
    "               enable_dueling_network = True, nb_steps_warmup=9, target_model_update=1e-2, policy=policy, delta_clip = 1)\n",
    "dqn.compile(Adam(lr=1e-3), metrics=['mae'])"
   ]
  },
  {
   "cell_type": "code",
   "execution_count": 12,
   "metadata": {
    "scrolled": true
   },
   "outputs": [
    {
     "name": "stdout",
     "output_type": "stream",
     "text": [
      "Training for 200000.0 steps ...\n",
      "Interval 1 (0 steps performed)\n",
      "   42/10000 [..............................] - ETA: 5:59 - reward: -392.4829"
     ]
    },
    {
     "name": "stderr",
     "output_type": "stream",
     "text": [
      "C:\\Users\\meatrobot\\Anaconda3\\envs\\RL\\lib\\site-packages\\rl\\memory.py:39: UserWarning: Not enough entries to sample without replacement. Consider increasing your warm-up phase to avoid oversampling!\n",
      "  warnings.warn('Not enough entries to sample without replacement. Consider increasing your warm-up phase to avoid oversampling!')\n",
      "D:\\Github\\RL-Process-Design\\Distillation\\Distillation_simple1.py:50: RuntimeWarning: invalid value encountered in double_scalars\n",
      "  LK_B = bots[action]/sum(bots)\n",
      "D:\\Github\\RL-Process-Design\\Distillation\\Distillation_simple1.py:49: RuntimeWarning: invalid value encountered in double_scalars\n",
      "  LK_D = tops[action]/sum(tops)\n"
     ]
    },
    {
     "name": "stdout",
     "output_type": "stream",
     "text": [
      "10000/10000 [==============================] - 45s 4ms/step - reward: -321.2588\n",
      "2476 episodes - episode_reward: -1297.489 [-7075.053, 964.077] - loss: 40.118 - mean_absolute_error: 582.800 - mean_q: 739.746 - mean_eps: 0.977\n",
      "\n",
      "Interval 2 (10000 steps performed)\n",
      "10000/10000 [==============================] - 55s 5ms/step - reward: -311.6878\n",
      "2431 episodes - episode_reward: -1282.136 [-6042.059, 968.249] - loss: 12.658 - mean_absolute_error: 666.084 - mean_q: 915.162 - mean_eps: 0.933\n",
      "\n",
      "Interval 3 (20000 steps performed)\n",
      "10000/10000 [==============================] - 55s 5ms/step - reward: -312.0030\n",
      "2412 episodes - episode_reward: -1293.550 [-7031.215, 968.249] - loss: 12.983 - mean_absolute_error: 664.959 - mean_q: 914.225 - mean_eps: 0.888\n",
      "\n",
      "Interval 4 (30000 steps performed)\n",
      "10000/10000 [==============================] - 52s 5ms/step - reward: -289.1528\n",
      "2440 episodes - episode_reward: -1185.050 [-6048.357, 968.249] - loss: 13.483 - mean_absolute_error: 663.719 - mean_q: 912.682 - mean_eps: 0.843\n",
      "\n",
      "Interval 5 (40000 steps performed)\n",
      "10000/10000 [==============================] - 51s 5ms/step - reward: -266.1539\n",
      "2378 episodes - episode_reward: -1118.796 [-6092.645, 968.249] - loss: 15.965 - mean_absolute_error: 661.005 - mean_q: 908.812 - mean_eps: 0.798\n",
      "\n",
      "Interval 6 (50000 steps performed)\n",
      "10000/10000 [==============================] - 47s 5ms/step - reward: -252.7571\n",
      "2366 episodes - episode_reward: -1068.732 [-5189.037, 968.249] - loss: 14.779 - mean_absolute_error: 663.926 - mean_q: 915.998 - mean_eps: 0.753\n",
      "\n",
      "Interval 7 (60000 steps performed)\n",
      "10000/10000 [==============================] - 44s 4ms/step - reward: -226.9852\n",
      "2320 episodes - episode_reward: -978.383 [-5174.279, 968.249] - loss: 12.114 - mean_absolute_error: 667.447 - mean_q: 925.111 - mean_eps: 0.708\n",
      "\n",
      "Interval 8 (70000 steps performed)\n",
      "10000/10000 [==============================] - 46s 5ms/step - reward: -202.9404\n",
      "2327 episodes - episode_reward: -871.656 [-6031.479, 968.249] - loss: 12.523 - mean_absolute_error: 666.431 - mean_q: 926.192 - mean_eps: 0.663\n",
      "\n",
      "Interval 9 (80000 steps performed)\n",
      "10000/10000 [==============================] - 43s 4ms/step - reward: -184.9906\n",
      "2335 episodes - episode_reward: -792.242 [-5060.366, 964.077] - loss: 11.077 - mean_absolute_error: 667.782 - mean_q: 930.515 - mean_eps: 0.618\n",
      "\n",
      "Interval 10 (90000 steps performed)\n",
      "10000/10000 [==============================] - 45s 4ms/step - reward: -152.2333\n",
      "2234 episodes - episode_reward: -681.896 [-5075.039, 968.249] - loss: 10.637 - mean_absolute_error: 668.337 - mean_q: 932.619 - mean_eps: 0.573\n",
      "\n",
      "Interval 11 (100000 steps performed)\n",
      "10000/10000 [==============================] - 45s 4ms/step - reward: -116.2158\n",
      "2187 episodes - episode_reward: -531.421 [-5052.810, 968.249] - loss: 10.878 - mean_absolute_error: 669.187 - mean_q: 932.696 - mean_eps: 0.528\n",
      "\n",
      "Interval 12 (110000 steps performed)\n",
      "10000/10000 [==============================] - 45s 4ms/step - reward: -112.7982\n",
      "2228 episodes - episode_reward: -505.798 [-5060.201, 968.249] - loss: 11.476 - mean_absolute_error: 667.987 - mean_q: 930.337 - mean_eps: 0.483\n",
      "\n",
      "Interval 13 (120000 steps performed)\n",
      "10000/10000 [==============================] - 44s 4ms/step - reward: -84.8480\n",
      "2219 episodes - episode_reward: -382.822 [-4114.770, 968.249] - loss: 12.024 - mean_absolute_error: 667.196 - mean_q: 929.368 - mean_eps: 0.438\n",
      "\n",
      "Interval 14 (130000 steps performed)\n",
      "10000/10000 [==============================] - 43s 4ms/step - reward: -47.6519\n",
      "2165 episodes - episode_reward: -220.117 [-3086.552, 968.249] - loss: 12.260 - mean_absolute_error: 665.107 - mean_q: 928.497 - mean_eps: 0.393\n",
      "\n",
      "Interval 15 (140000 steps performed)\n",
      "10000/10000 [==============================] - 45s 4ms/step - reward: -27.6650\n",
      "2132 episodes - episode_reward: -129.750 [-3125.527, 968.249] - loss: 12.416 - mean_absolute_error: 663.147 - mean_q: 927.884 - mean_eps: 0.348\n",
      "\n",
      "Interval 16 (150000 steps performed)\n",
      "10000/10000 [==============================] - 45s 4ms/step - reward: 0.9232\n",
      "2116 episodes - episode_reward: 4.353 [-4031.585, 968.249] - loss: 12.375 - mean_absolute_error: 661.119 - mean_q: 927.388 - mean_eps: 0.303\n",
      "\n",
      "Interval 17 (160000 steps performed)\n",
      "10000/10000 [==============================] - 43s 4ms/step - reward: 28.8951\n",
      "2077 episodes - episode_reward: 139.124 [-3107.749, 968.249] - loss: 12.887 - mean_absolute_error: 660.807 - mean_q: 927.153 - mean_eps: 0.258\n",
      "\n",
      "Interval 18 (170000 steps performed)\n",
      "10000/10000 [==============================] - 43s 4ms/step - reward: 55.9210\n",
      "2094 episodes - episode_reward: 267.040 [-3051.574, 968.249] - loss: 13.603 - mean_absolute_error: 657.903 - mean_q: 925.248 - mean_eps: 0.213\n",
      "\n",
      "Interval 19 (180000 steps performed)\n",
      "10000/10000 [==============================] - 43s 4ms/step - reward: 86.4552\n",
      "2052 episodes - episode_reward: 421.331 [-3015.245, 968.249] - loss: 13.471 - mean_absolute_error: 653.463 - mean_q: 924.621 - mean_eps: 0.168\n",
      "\n",
      "Interval 20 (190000 steps performed)\n",
      "10000/10000 [==============================] - 41s 4ms/step - reward: 113.2727\n",
      "done, took 918.649 seconds\n"
     ]
    }
   ],
   "source": [
    "hist = dqn.fit(env, nb_steps=steps)"
   ]
  },
  {
   "cell_type": "code",
   "execution_count": 13,
   "metadata": {
    "scrolled": true
   },
   "outputs": [
    {
     "name": "stdout",
     "output_type": "stream",
     "text": [
      "dict_keys(['episode_reward', 'nb_episode_steps', 'nb_steps'])\n"
     ]
    }
   ],
   "source": [
    "print(hist.history.keys())"
   ]
  },
  {
   "cell_type": "code",
   "execution_count": 14,
   "metadata": {},
   "outputs": [],
   "source": [
    "def running_mean(x, N):\n",
    "    cumsum = np.cumsum(np.insert(x, 0, 0)) \n",
    "    return (cumsum[N:] - cumsum[:-N]) / N"
   ]
  },
  {
   "cell_type": "code",
   "execution_count": 15,
   "metadata": {},
   "outputs": [
    {
     "data": {
      "text/plain": [
       "<matplotlib.legend.Legend at 0x15705e4e948>"
      ]
     },
     "execution_count": 15,
     "metadata": {},
     "output_type": "execute_result"
    },
    {
     "data": {
      "image/png": "[encoded data removed]",
      "text/plain": [
       "<Figure size 432x288 with 1 Axes>"
      ]
     },
     "metadata": {
      "needs_background": "light"
     },
     "output_type": "display_data"
    }
   ],
   "source": [
    "smoothed_rews = running_mean(hist.history['episode_reward'], 10)\n",
    "plt.plot(hist.history['nb_steps'][-len(smoothed_rews):], smoothed_rews)\n",
    "plt.plot(hist.history['nb_steps'],hist.history['episode_reward'],color='grey', alpha=0.3)\n",
    "plt.xlabel(\"steps\")\n",
    "plt.ylabel(\"reward\")\n",
    "plt.legend([\"avg reward\", \"reward\"])"
   ]
  },
  {
   "cell_type": "code",
   "execution_count": 16,
   "metadata": {
    "scrolled": true
   },
   "outputs": [
    {
     "name": "stdout",
     "output_type": "stream",
     "text": [
      "Testing for 1 episodes ...\n",
      "total cost: 31.582638701433314 sep_order = [1]\n",
      "total cost: 38.9294406294686 sep_order = [1, 0]\n",
      "total cost: 42.327224237484316 sep_order = [1, 0, 4]\n",
      "total cost: 51.58497513626267 sep_order = [1, 0, 4, 2]\n",
      "total cost: 95.39453756297965 sep_order = [1, 0, 4, 2, 3]\n",
      "Episode 1: reward: 948.415, steps: 5\n"
     ]
    },
    {
     "data": {
      "text/plain": [
       "<keras.callbacks.History at 0x15705e9c988>"
      ]
     },
     "execution_count": 16,
     "metadata": {},
     "output_type": "execute_result"
    }
   ],
   "source": [
    "dqn.test(env, visualize = True)"
   ]
  },
  {
   "cell_type": "code",
   "execution_count": null,
   "metadata": {},
   "outputs": [],
   "source": []
  }
 ],
 "metadata": {
  "kernelspec": {
   "display_name": "Python 3",
   "language": "python",
   "name": "python3"
  },
  "language_info": {
   "codemirror_mode": {
    "name": "ipython",
    "version": 3
   },
   "file_extension": ".py",
   "mimetype": "text/x-python",
   "name": "python",
   "nbconvert_exporter": "python",
   "pygments_lexer": "ipython3",
   "version": "3.7.4"
  }
 },
 "nbformat": 4,
 "nbformat_minor": 2
}
