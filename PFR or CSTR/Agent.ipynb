{
 "cells": [
  {
   "cell_type": "code",
   "execution_count": 1,
   "metadata": {
    "pycharm": {
     "is_executing": false
    }
   },
   "outputs": [
    {
     "name": "stderr",
     "output_type": "stream",
     "text": [
      "Using TensorFlow backend.\n"
     ]
    }
   ],
   "source": [
    "import numpy as np\n",
    "import matplotlib.pyplot as plt\n",
    "import matplotlib\n",
    "from matplotlib import rc\n",
    "import matplotlib.animation as animation\n",
    "from IPython.display import HTML, Image\n",
    "\n",
    "from scipy import integrate\n",
    "from keras.models import Sequential\n",
    "from keras.layers import Dense, Activation, Flatten\n",
    "from keras.optimizers import Adam\n",
    "from keras.models import load_model\n",
    "\n",
    "from rl.agents.dqn import DQNAgent\n",
    "from rl.policy import EpsGreedyQPolicy, LinearAnnealedPolicy\n",
    "from rl.memory import SequentialMemory\n",
    "%load_ext autoreload"
   ]
  },
  {
   "cell_type": "code",
   "execution_count": 2,
   "metadata": {
    "pycharm": {
     "is_executing": false
    }
   },
   "outputs": [],
   "source": [
    "from PFRorCSTR import simulator"
   ]
  },
  {
   "cell_type": "code",
   "execution_count": 3,
   "metadata": {
    "pycharm": {
     "is_executing": false
    },
    "scrolled": true
   },
   "outputs": [
    {
     "data": {
      "text/plain": [
       "(Box(1,), Discrete(2))"
      ]
     },
     "execution_count": 3,
     "metadata": {},
     "output_type": "execute_result"
    }
   ],
   "source": [
    "env = simulator(volume = 0.8, n_reactors=4)\n",
    "nb_actions = env.action_space.n\n",
    "env.observation_space, env.action_space"
   ]
  },
  {
   "cell_type": "markdown",
   "metadata": {},
   "source": [
    "## If running a reloaded model:"
   ]
  },
  {
   "cell_type": "code",
   "execution_count": 4,
   "metadata": {
    "pycharm": {
     "name": "#%%\n"
    },
    "scrolled": true
   },
   "outputs": [
    {
     "name": "stderr",
     "output_type": "stream",
     "text": [
      "WARNING: Logging before flag parsing goes to stderr.\n",
      "W1025 15:48:57.194081 16412 deprecation_wrapper.py:119] From C:\\Users\\meatrobot\\Anaconda3\\envs\\RL\\lib\\site-packages\\keras\\backend\\tensorflow_backend.py:541: The name tf.placeholder is deprecated. Please use tf.compat.v1.placeholder instead.\n",
      "\n",
      "W1025 15:48:57.226047 16412 deprecation_wrapper.py:119] From C:\\Users\\meatrobot\\Anaconda3\\envs\\RL\\lib\\site-packages\\keras\\backend\\tensorflow_backend.py:4432: The name tf.random_uniform is deprecated. Please use tf.random.uniform instead.\n",
      "\n",
      "W1025 15:48:57.310106 16412 deprecation_wrapper.py:119] From C:\\Users\\meatrobot\\Anaconda3\\envs\\RL\\lib\\site-packages\\keras\\backend\\tensorflow_backend.py:190: The name tf.get_default_session is deprecated. Please use tf.compat.v1.get_default_session instead.\n",
      "\n",
      "W1025 15:48:57.310106 16412 deprecation_wrapper.py:119] From C:\\Users\\meatrobot\\Anaconda3\\envs\\RL\\lib\\site-packages\\keras\\backend\\tensorflow_backend.py:197: The name tf.ConfigProto is deprecated. Please use tf.compat.v1.ConfigProto instead.\n",
      "\n",
      "W1025 15:48:57.310106 16412 deprecation_wrapper.py:119] From C:\\Users\\meatrobot\\Anaconda3\\envs\\RL\\lib\\site-packages\\keras\\backend\\tensorflow_backend.py:203: The name tf.Session is deprecated. Please use tf.compat.v1.Session instead.\n",
      "\n",
      "W1025 15:48:57.386310 16412 deprecation_wrapper.py:119] From C:\\Users\\meatrobot\\Anaconda3\\envs\\RL\\lib\\site-packages\\keras\\optimizers.py:793: The name tf.train.Optimizer is deprecated. Please use tf.compat.v1.train.Optimizer instead.\n",
      "\n"
     ]
    },
    {
     "name": "stdout",
     "output_type": "stream",
     "text": [
      "Model: \"sequential_1\"\n",
      "_________________________________________________________________\n",
      "Layer (type)                 Output Shape              Param #   \n",
      "=================================================================\n",
      "flatten_1 (Flatten)          (None, 1)                 0         \n",
      "_________________________________________________________________\n",
      "dense_1 (Dense)              (None, 16)                32        \n",
      "_________________________________________________________________\n",
      "dense_2 (Dense)              (None, 16)                272       \n",
      "_________________________________________________________________\n",
      "dense_3 (Dense)              (None, 16)                272       \n",
      "_________________________________________________________________\n",
      "dense_4 (Dense)              (None, 2)                 34        \n",
      "=================================================================\n",
      "Total params: 610\n",
      "Trainable params: 610\n",
      "Non-trainable params: 0\n",
      "_________________________________________________________________\n",
      "None\n"
     ]
    }
   ],
   "source": [
    "model = load_model(\"DQN_agent.h5\")\n",
    "print(model.summary())\n",
    "steps = 15000\n",
    "policy = LinearAnnealedPolicy(EpsGreedyQPolicy(), attr='eps', value_max=1., value_min=.05, value_test=0, nb_steps=steps)\n",
    "memory = SequentialMemory(limit=50000, window_length=1)\n",
    "dqn = DQNAgent(model=model, nb_actions=nb_actions, memory=memory, nb_steps_warmup=9,\n",
    "target_model_update=1e-2, policy=policy, gamma = 0.95)\n",
    "dqn.compile(Adam(lr=1e-3), metrics=['mae'])"
   ]
  },
  {
   "cell_type": "markdown",
   "metadata": {},
   "source": [
    "## Otherwise make model from scratch as below"
   ]
  },
  {
   "cell_type": "code",
   "execution_count": 4,
   "metadata": {
    "pycharm": {
     "is_executing": false
    }
   },
   "outputs": [],
   "source": [
    "%autoreload"
   ]
  },
  {
   "cell_type": "code",
   "execution_count": 6,
   "metadata": {},
   "outputs": [
    {
     "data": {
      "text/plain": [
       "2"
      ]
     },
     "execution_count": 6,
     "metadata": {},
     "output_type": "execute_result"
    }
   ],
   "source": [
    "nb_actions"
   ]
  },
  {
   "cell_type": "code",
   "execution_count": 7,
   "metadata": {
    "pycharm": {
     "is_executing": false
    }
   },
   "outputs": [
    {
     "data": {
      "image/png": "[encoded data removed]",
      "text/plain": [
       "<Figure size 432x288 with 1 Axes>"
      ]
     },
     "metadata": {
      "needs_background": "light"
     },
     "output_type": "display_data"
    }
   ],
   "source": [
    "label_size = 20\n",
    "X = np.linspace(0, 1, 100)\n",
    "Y = -10*X**2 + 10*X + 2\n",
    "plt.plot(X, Y, color = \"dodgerblue\")\n",
    "plt.xlabel(\"Conversion (X)\", fontsize=label_size)\n",
    "plt.ylabel(r\"$ - \\frac{F_{A0}}{r_a} $\", fontsize=label_size)\n",
    "plt.grid(True)\n",
    "\n",
    "previous_index = 0\n",
    "conversion = 0\n",
    "X_out_PFR = []\n",
    "X_out_CSTR = []\n",
    "X_react = []\n",
    "Y_react = []\n",
    "color = []\n",
    "\n",
    "while conversion < 0.4:\n",
    "    conversion = env.equation_solver(1, conversion)\n",
    "    X_out_PFR.append(conversion)\n",
    "    index = np.where(abs(X - conversion) == min(abs(X - conversion)))[0][0]\n",
    "    X_react.append(X[previous_index:index])\n",
    "    Y_react.append(Y[previous_index:index])\n",
    "    previous_index = index\n",
    "    color.append(\"deepskyblue\")\n",
    "  \n",
    "while conversion > 0.4 and conversion <= 0.9:\n",
    "    conversion = env.equation_solver(0, conversion)\n",
    "    X_out_CSTR.append(conversion)\n",
    "    index = np.where(abs(X - conversion) == min(abs(X - conversion)))[0][0]\n",
    "    X_react.append(X[previous_index:index])\n",
    "    Y_react.append(np.zeros(X_react[-1].shape) + Y[index])\n",
    "    previous_index = index\n",
    "    color.append(\"steelblue\")\n",
    "\n",
    "\n",
    "\n",
    "for i in range(len(X_react)):\n",
    "    plt.fill_between(X_react[i], Y_react[i], color = color[i])\n",
    "\n",
    "    \n",
    "legend_elements = [matplotlib.lines.Line2D([0], [0], c=\"deepskyblue\", lw=4, label='PFR'),\n",
    "                   matplotlib.lines.Line2D([0], [0], c=\"steelblue\", lw=4, label='CSTR')] \n",
    "\n",
    "plt.legend(handles = legend_elements, title = \"Reactor Type\", loc = 1)\n",
    "plt.savefig('Ideal_Soln.png', bbox_inches='tight')"
   ]
  },
  {
   "cell_type": "code",
   "execution_count": 8,
   "metadata": {},
   "outputs": [
    {
     "data": {
      "text/plain": [
       "(0.44804425979999357, 0.6331085954859981)"
      ]
     },
     "execution_count": 8,
     "metadata": {},
     "output_type": "execute_result"
    }
   ],
   "source": [
    "X_out_PFR[-1], X_out_CSTR[0]"
   ]
  },
  {
   "cell_type": "markdown",
   "metadata": {},
   "source": [
    "## Doube check volumes are correct to make sure simulator solver is working"
   ]
  },
  {
   "cell_type": "code",
   "execution_count": 9,
   "metadata": {},
   "outputs": [
    {
     "data": {
      "text/plain": [
       "(0.7999999999999999,\n",
       " (0.8000000000000004, 8.881784197001257e-15),\n",
       " 0.8000000000000009)"
      ]
     },
     "execution_count": 9,
     "metadata": {},
     "output_type": "execute_result"
    }
   ],
   "source": [
    "def PFR(x):\n",
    "    return -10*x**2 + 10*x + 2\n",
    "def CSTR_vol(x, x_in):\n",
    "    return (-10*x**2 + 10*x + 2)*(x - x_in)\n",
    "\n",
    "PFR1 = integrate.quad(PFR, 0,  X_out_PFR[0])[0]\n",
    "PFR2 = integrate.quad(PFR, X_out_PFR[0], X_out_PFR[1] )\n",
    "CSTR1 = CSTR_vol(X_out_CSTR[0], X_out_PFR[-1])\n",
    "\n",
    "\n",
    "PFR1, PFR2, CSTR1"
   ]
  },
  {
   "cell_type": "code",
   "execution_count": 10,
   "metadata": {
    "scrolled": false
   },
   "outputs": [
    {
     "name": "stderr",
     "output_type": "stream",
     "text": [
      "WARNING: Logging before flag parsing goes to stderr.\n",
      "W1020 18:47:14.104481 15332 deprecation_wrapper.py:119] From C:\\Users\\meatrobot\\Anaconda3\\envs\\RL\\lib\\site-packages\\keras\\backend\\tensorflow_backend.py:66: The name tf.get_default_graph is deprecated. Please use tf.compat.v1.get_default_graph instead.\n",
      "\n",
      "W1020 18:47:14.153518 15332 deprecation_wrapper.py:119] From C:\\Users\\meatrobot\\Anaconda3\\envs\\RL\\lib\\site-packages\\keras\\backend\\tensorflow_backend.py:541: The name tf.placeholder is deprecated. Please use tf.compat.v1.placeholder instead.\n",
      "\n",
      "W1020 18:47:14.182477 15332 deprecation_wrapper.py:119] From C:\\Users\\meatrobot\\Anaconda3\\envs\\RL\\lib\\site-packages\\keras\\backend\\tensorflow_backend.py:4432: The name tf.random_uniform is deprecated. Please use tf.random.uniform instead.\n",
      "\n"
     ]
    },
    {
     "name": "stdout",
     "output_type": "stream",
     "text": [
      "Model: \"sequential_1\"\n",
      "_________________________________________________________________\n",
      "Layer (type)                 Output Shape              Param #   \n",
      "=================================================================\n",
      "flatten_1 (Flatten)          (None, 1)                 0         \n",
      "_________________________________________________________________\n",
      "dense_1 (Dense)              (None, 16)                32        \n",
      "_________________________________________________________________\n",
      "dense_2 (Dense)              (None, 16)                272       \n",
      "_________________________________________________________________\n",
      "dense_3 (Dense)              (None, 16)                272       \n",
      "_________________________________________________________________\n",
      "dense_4 (Dense)              (None, 2)                 34        \n",
      "=================================================================\n",
      "Total params: 610\n",
      "Trainable params: 610\n",
      "Non-trainable params: 0\n",
      "_________________________________________________________________\n",
      "None\n"
     ]
    }
   ],
   "source": [
    "# Next, we build a very simple model.\n",
    "model = Sequential()\n",
    "model.add(Flatten(input_shape=(1,) + env.observation_space.shape))\n",
    "model.add(Dense(16, activation = 'relu'))\n",
    "model.add(Dense(16, activation = 'relu'))\n",
    "model.add(Dense(16, activation = 'relu'))\n",
    "model.add(Dense(nb_actions, activation = 'linear'))\n",
    "print(model.summary())"
   ]
  },
  {
   "cell_type": "code",
   "execution_count": 5,
   "metadata": {
    "scrolled": true
   },
   "outputs": [],
   "source": [
    "steps = 15000\n",
    "policy = LinearAnnealedPolicy(EpsGreedyQPolicy(), attr='eps', value_max=1., value_min=.05, value_test=0, nb_steps=steps)\n",
    "memory = SequentialMemory(limit=50000, window_length=1)\n",
    "dqn = DQNAgent(model=model, nb_actions=nb_actions, memory=memory, nb_steps_warmup=9,\n",
    "target_model_update=1e-2, policy=policy, gamma = 0.95)\n",
    "dqn.compile(Adam(lr=1e-3), metrics=['mae'])"
   ]
  },
  {
   "cell_type": "code",
   "execution_count": 13,
   "metadata": {
    "scrolled": true
   },
   "outputs": [
    {
     "name": "stdout",
     "output_type": "stream",
     "text": [
      "Training for 15000 steps ...\n",
      "Interval 1 (0 steps performed)\n",
      "\r",
      "    1/10000 [..............................] - ETA: 11:58 - reward: 0.2601"
     ]
    },
    {
     "name": "stderr",
     "output_type": "stream",
     "text": [
      "C:\\Users\\meatrobot\\Anaconda3\\envs\\RL\\lib\\site-packages\\rl\\memory.py:39: UserWarning: Not enough entries to sample without replacement. Consider increasing your warm-up phase to avoid oversampling!\n",
      "  warnings.warn('Not enough entries to sample without replacement. Consider increasing your warm-up phase to avoid oversampling!')\n"
     ]
    },
    {
     "name": "stdout",
     "output_type": "stream",
     "text": [
      "10000/10000 [==============================] - 38s 4ms/step - reward: 0.2169\n",
      "2500 episodes - episode_reward: 0.868 [0.769, 1.000] - loss: 0.000 - mean_absolute_error: 0.262 - mean_q: 0.536 - mean_eps: 0.683\n",
      "\n",
      "Interval 2 (10000 steps performed)\n",
      " 4995/10000 [=============>................] - ETA: 18s - reward: 0.2382done, took 56.985 seconds\n"
     ]
    }
   ],
   "source": [
    "# Okay, now it's time to learn something! We visualize the training here for show, but this slows down training quite a lot. \n",
    "hist = dqn.fit(env, nb_steps=steps)"
   ]
  },
  {
   "cell_type": "code",
   "execution_count": null,
   "metadata": {},
   "outputs": [],
   "source": [
    "model.save(\"DQN_agent.h5\")"
   ]
  },
  {
   "cell_type": "code",
   "execution_count": 14,
   "metadata": {
    "scrolled": true
   },
   "outputs": [
    {
     "name": "stdout",
     "output_type": "stream",
     "text": [
      "dict_keys(['episode_reward', 'nb_episode_steps', 'nb_steps'])\n"
     ]
    }
   ],
   "source": [
    "print(hist.history.keys())"
   ]
  },
  {
   "cell_type": "code",
   "execution_count": 15,
   "metadata": {},
   "outputs": [],
   "source": [
    "def running_mean(x, N):\n",
    "    cumsum = np.cumsum(np.insert(x, 0, 0)) \n",
    "    return (cumsum[N:] - cumsum[:-N]) / N"
   ]
  },
  {
   "cell_type": "code",
   "execution_count": 16,
   "metadata": {},
   "outputs": [
    {
     "data": {
      "image/png": "[encoded data removed]",
      "text/plain": [
       "<Figure size 432x288 with 1 Axes>"
      ]
     },
     "metadata": {
      "needs_background": "light"
     },
     "output_type": "display_data"
    }
   ],
   "source": [
    "smoothed_rews = running_mean(hist.history['episode_reward'], 100)\n",
    "plt.plot(hist.history['nb_steps'][-len(smoothed_rews):], smoothed_rews)\n",
    "plt.plot(hist.history['nb_steps'],hist.history['episode_reward'],color='grey', alpha=0.3)\n",
    "plt.xlabel(\"Steps\")\n",
    "plt.ylabel(\"Reward\")\n",
    "plt.legend([\"avg reward\", \"reward\"])\n",
    "plt.savefig('Learning.png', bbox_inches='tight')"
   ]
  },
  {
   "cell_type": "code",
   "execution_count": 6,
   "metadata": {
    "scrolled": true
   },
   "outputs": [
    {
     "name": "stdout",
     "output_type": "stream",
     "text": [
      "Testing for 1 episodes ...\n",
      "choice(1) - conversions: [0, 0.2601494936395941], reactors: [1]\n",
      "choice(2) - conversions: [0, 0.2601494936395941, 0.44804425979999357], reactors: [1, 1]\n",
      "choice(3) - conversions: [0, 0.2601494936395941, 0.44804425979999357, 0.6331085954859981], reactors: [1, 1, 0]\n",
      "choice(4) - conversions: [0, 0.2601494936395941, 0.44804425979999357, 0.6331085954859981, 1], reactors: [1, 1, 0, 0]\n",
      "Episode 1: reward: 1.000, steps: 4\n"
     ]
    },
    {
     "data": {
      "text/plain": [
       "<keras.callbacks.History at 0x20e5214c948>"
      ]
     },
     "execution_count": 6,
     "metadata": {},
     "output_type": "execute_result"
    }
   ],
   "source": [
    "dqn.test(env, visualize = True)"
   ]
  },
  {
   "cell_type": "code",
   "execution_count": 7,
   "metadata": {},
   "outputs": [
    {
     "data": {
      "text/plain": [
       "([1, 1, 0, 0],\n",
       " [0, 0.2601494936395941, 0.44804425979999357, 0.6331085954859981, 1])"
      ]
     },
     "execution_count": 7,
     "metadata": {},
     "output_type": "execute_result"
    }
   ],
   "source": [
    "env.reactor_seq, env.X"
   ]
  },
  {
   "cell_type": "code",
   "execution_count": 9,
   "metadata": {},
   "outputs": [],
   "source": [
    "y = [] \n",
    "x = []\n",
    "CSTR = []\n",
    "PFR = []\n",
    "for i in range(0, 100):\n",
    "    x.append(i/140)\n",
    "    CSTR.append(env.equation_solver(0, x[i]))\n",
    "    PFR.append(env.equation_solver(1, x[i]))\n",
    "x_sim = env.X[0:-1]\n",
    "choice = env.X[1:]"
   ]
  },
  {
   "cell_type": "code",
   "execution_count": 308,
   "metadata": {},
   "outputs": [
    {
     "name": "stdout",
     "output_type": "stream",
     "text": [
      "Using matplotlib backend: Qt5Agg\n"
     ]
    }
   ],
   "source": [
    "#%matplotlib inline\n",
    "#%matplotlib auto"
   ]
  },
  {
   "cell_type": "code",
   "execution_count": 16,
   "metadata": {
    "scrolled": true
   },
   "outputs": [
    {
     "data": {
      "image/png": "[encoded data removed]",
      "text/plain": [
       "<Figure size 432x288 with 1 Axes>"
      ]
     },
     "metadata": {
      "needs_background": "light"
     },
     "output_type": "display_data"
    }
   ],
   "source": [
    "fig, ax = plt.subplots()\n",
    "ax.plot(x, CSTR)\n",
    "ax.plot(x, PFR)\n",
    "ax.legend([\"CSTR\", \"PFR\", \"CHOICE\"])\n",
    "ax.set_xlabel(\"Inlet Conversion\")\n",
    "ax.set_ylabel(\"Outlet Conversion\")\n",
    "line, = ax.plot([], [], '--go', lw=2)"
   ]
  },
  {
   "cell_type": "code",
   "execution_count": 17,
   "metadata": {},
   "outputs": [],
   "source": [
    "# initialization function: plot the background of each frame\n",
    "def init():\n",
    "    line.set_data([], [])\n",
    "    return (line,)"
   ]
  },
  {
   "cell_type": "code",
   "execution_count": 18,
   "metadata": {},
   "outputs": [],
   "source": [
    "def animate(i):\n",
    "    line.set_data(x_sim[0:i+1], choice[0:i+1])\n",
    "    return (line,)"
   ]
  },
  {
   "cell_type": "code",
   "execution_count": 19,
   "metadata": {},
   "outputs": [],
   "source": [
    "rc('animation', html='html5')"
   ]
  },
  {
   "cell_type": "code",
   "execution_count": 20,
   "metadata": {},
   "outputs": [],
   "source": [
    "anim = animation.FuncAnimation(fig, animate, init_func = init, frames = len(x_sim), interval = 1000, blit = True)"
   ]
  },
  {
   "cell_type": "code",
   "execution_count": 21,
   "metadata": {
    "scrolled": true
   },
   "outputs": [],
   "source": [
    "anim.save('PFRCSTRconversion.gif', writer='imagemagick', fps=1)"
   ]
  },
  {
   "cell_type": "code",
   "execution_count": 22,
   "metadata": {},
   "outputs": [
    {
     "data": {
      "text/plain": [
       "'\\nWriter = animation.writers[\\'ffmpeg\\']\\nwriter = Writer(fps=1, metadata=dict(artist=\\'Me\\'))\\nanim.save(\"PFRorCSTR_conversion.mp4\", writer = writer)\\n'"
      ]
     },
     "execution_count": 22,
     "metadata": {},
     "output_type": "execute_result"
    }
   ],
   "source": [
    "\"\"\"\n",
    "Writer = animation.writers['ffmpeg']\n",
    "writer = Writer(fps=1, metadata=dict(artist='Me'))\n",
    "anim.save(\"PFRorCSTR_conversion.mp4\", writer = writer)\n",
    "\"\"\""
   ]
  },
  {
   "cell_type": "code",
   "execution_count": 23,
   "metadata": {},
   "outputs": [
    {
     "data": {
      "text/html": [
       "<img src=\"PFRCSTRconversion.gif\"/>"
      ],
      "text/plain": [
       "<IPython.core.display.Image object>"
      ]
     },
     "execution_count": 23,
     "metadata": {},
     "output_type": "execute_result"
    }
   ],
   "source": [
    "Image(url='PFRCSTRconversion.gif')"
   ]
  },
  {
   "cell_type": "code",
   "execution_count": 24,
   "metadata": {
    "scrolled": true
   },
   "outputs": [
    {
     "data": {
      "text/html": [
       "<video width=\"432\" height=\"288\" controls autoplay loop>\n",
       "  <source type=\"video/mp4\" src=\"data:video/mp4;base64,AAAAHGZ0eXBNNFYgAAACAGlzb21pc28yYXZjMQAAAAhmcmVlAAAwmm1kYXQAAAKtBgX//6ncRem9\n",
       "5tlIt5Ys2CDZI+7veDI2NCAtIGNvcmUgMTU4IHIyOTg0IDM3NTlmY2IgLSBILjI2NC9NUEVHLTQg\n",
       "QVZDIGNvZGVjIC0gQ29weWxlZnQgMjAwMy0yMDE5IC0gaHR0cDovL3d3dy52aWRlb2xhbi5vcmcv\n",
       "eDI2NC5odG1sIC0gb3B0aW9uczogY2FiYWM9MSByZWY9MyBkZWJsb2NrPTE6MDowIGFuYWx5c2U9\n",
       "MHgzOjB4MTEzIG1lPWhleCBzdWJtZT03IHBzeT0xIHBzeV9yZD0xLjAwOjAuMDAgbWl4ZWRfcmVm\n",
       "PTEgbWVfcmFuZ2U9MTYgY2hyb21hX21lPTEgdHJlbGxpcz0xIDh4OGRjdD0xIGNxbT0wIGRlYWR6\n",
       "b25lPTIxLDExIGZhc3RfcHNraXA9MSBjaHJvbWFfcXBfb2Zmc2V0PS0yIHRocmVhZHM9OSBsb29r\n",
       "YWhlYWRfdGhyZWFkcz0xIHNsaWNlZF90aHJlYWRzPTAgbnI9MCBkZWNpbWF0ZT0xIGludGVybGFj\n",
       "ZWQ9MCBibHVyYXlfY29tcGF0PTAgY29uc3RyYWluZWRfaW50cmE9MCBiZnJhbWVzPTMgYl9weXJh\n",
       "bWlkPTIgYl9hZGFwdD0xIGJfYmlhcz0wIGRpcmVjdD0xIHdlaWdodGI9MSBvcGVuX2dvcD0wIHdl\n",
       "aWdodHA9MiBrZXlpbnQ9MjUwIGtleWludF9taW49MSBzY2VuZWN1dD00MCBpbnRyYV9yZWZyZXNo\n",
       "PTAgcmNfbG9va2FoZWFkPTQwIHJjPWNyZiBtYnRyZWU9MSBjcmY9MjMuMCBxY29tcD0wLjYwIHFw\n",
       "bWluPTAgcXBtYXg9NjkgcXBzdGVwPTQgaXBfcmF0aW89MS40MCBhcT0xOjEuMDAAgAAAIelliIQA\n",
       "F//+99S3zLLtU2+2C6j3op4mX0N1JQGblsTtOoAAAAMABnddzdfZ7UFwH2gAB6hf3To8AArmxEJt\n",
       "DWvrv1LKFkFXqkSbDqpPCLgZyZ8gFXMXyM7DQKLMR8XvmCW/Jy7+WaPpuI1YdFzxU3DgVTHyhcUQ\n",
       "EPYmKihsKyIyuSKYJGyaEnTbpDoSt64sbznEWVtc5HnI2HhELN0kNdW3SnFmtW95hodGr0n6Q4i/\n",
       "+7yTrdPSw7WQSGEqFVTZVMKaihuNVhUS88g+cfh3P6Ej8OSMHXIOaNORlHkpkJHweh65QkoKqkQq\n",
       "faNjRCV713HGzJ+TwnCtr70V5Dpn01Nj8B0Zlt5rE/wgtz9PXtqt8vRqcBydblarBTdsbNFq8GFm\n",
       "X8ci/iZAwc3qnUdEUoVd76leF55ZzHX5vCdG7UtMlMoRCISq/rECp7Xgh/6N4qYY4iKmKvwWTzug\n",
       "3QYRGkYYrE2tnATX6aez3sIXnfUTaluFcKNQvYXUrBO/Oz/2zSnskSYOFSJ4Wx6I6rpGPVsNumR6\n",
       "0PABdeN8h9C8rgxH6004erWEfjdiGiQ/StgmFY88iCeBnaiDwUdcLTfBQUvMnIVgna685s8VkEmY\n",
       "pTB6kUKfXg6V3YXLotprmDKHVZvu2SUX6F578BCFWY18POokTqmVg3QpXnThx+UV+Br9rzeHUzuf\n",
       "6qWCNsxOBckf94B6zEvRIeOqE4RuFD/x9NTIP931qfIxdFpjTuKoAIm1zvKZkE5L12I5h8Uqkcka\n",
       "lTo1wTYK0RncR8Pi9vchGDGAp8GTemRe1o+DJKaspn4Z3kPFUIwx+TUMhVPyn3zLOjBisJ0fymSK\n",
       "PTJ3ld2qYP6+I7wXq5Tgj7YgifDKRZzOG68eu8loomoUcjHTrmIozAJPxIftHVcC/H2DG/z/na9h\n",
       "XY57LlVu/vJUfXJ/nsMMpsZo5O6WX53HI2gM2Fd1LBVZ0yUjtdTjD7d9OxG1nDAktAwo8YjK0LsC\n",
       "e3YBOuS676VW2NR9X9aAwZ7MGsW8VwQb6qThJv1ehoi6veqY9RBKVynCnsam7hfukrHyTQAAD/K5\n",
       "RqpiGH4if7Rhit3eIWzn0D+v1DvN5kcWs9hvuYyqAEePVtlJEf2lO/2uvvsttic8aC0ef+z0wDAP\n",
       "ZzGBwIgqOZNviND0dx2kZSq0o0MRkbKaKH82X65n8ZJEFLQwu/0RHu/zuiesdIdJ61ax2DH+Wi9m\n",
       "YuWXBTNDyC3eAOiikf59pPgyH+P8SFCh7vzIaEC0juzwzIVXrNHntzFGFglxpgp5b21kfCdzrJ6Q\n",
       "JLmbxftG+4V69pq/0/MVz1PwZ1WY+AyuQgcGns9orqDPL0Or0N4XgAcHCi2Dd4NYpe1ihPtl8d9v\n",
       "UXll+ylf90d96f+fUAEjN1u3cVafZSNjWXxW/QT4TMEXFmVkWANZKiS7cdLIgEdVLxlotC1coM9r\n",
       "oIxkFeG9CxlRrXpRXloVwXiXmpBmsbMRyr2S/fycPFvPh5Pd9Nz+b1HCUv9fkIGcxBhHJg44JmSk\n",
       "dgSt6pkF+ayet07YF941WXhUC/eetjnFbUbDCrxSP9cQbnydViVmW+x4MAd7qYNGpYKTNNcTioxj\n",
       "O6FOSp8uqYOWEkZky6v1KLKkyqoLuFN6UP2UnuaTVkwXIhWSx1cJ44k4EET2UHAf//sfunQC4YIR\n",
       "5WA28M3AKZBCmfHlnTp8dmA8VbJRrOzr0cPTZEWN4YatX1ZoQPo6CupSAUrUzNKAQtiLAonvCfnF\n",
       "P91xoYh6Hw+JouChgv2HbMPyZCnqbT5t0L1YVypVG2BgGXdn0S5Fc1Osg9bSAWrq7H5vfDAZWtNq\n",
       "6Ds/BfgrQmsAGj2x4+RYgWt6lM0Utwv9ijqTPA/bE1p/vnRHbVeP5isLJe7V7lcbLROiKPaww/Iv\n",
       "zwSACgomPfBzz6hvmPXIETTftx7fhPvPf8nRmjar/3fPqtcLX/bjaAJQchl85fT5NxbjSclyTNxU\n",
       "p0V5zZ2nmlKcyCfiyl61sChW6G0E1Gy7oUV9M2zfWBzLKIuz52WrjiWwKqC1OeGF28SET+x/fE7D\n",
       "qmssSRZPP564pdyvA9dan2T6k2KAbE4Mpmev8/3JodYvsLgmEhRFDCxlURThN+c3RtHJ1zXy2W1O\n",
       "P85i7Gr/Nyiq/S1wkV1dkPdAX4NPjUZbFM6RvCi0qdeme1QDuXXVe2H/eGlsBUZI9rL6/Bi+0+l5\n",
       "txruOjXo7AuIvhBbG4CNq2ru/7mzZrnIOn5kPE0grM5476Qzm4B6tK7b6JEoBWrD5JX82Hx6Yx28\n",
       "ZIiufNLEZ0m1SqLWCmchCY3N4fWeYxWiK2Xuvr4TnaNNs4uCwuZ0aejdagXZGznrBJ9mlQ/w3psB\n",
       "HGfExl7ZX3dUtRS6UGG9vncR/272lf/QcaZNzW1Wah0XJzchLQfSZc2OGTed/6Q5/PeU10sQv6va\n",
       "WpfG0NPeokzH73AnNtAyjq/cbr2B8/YQTjJLs75IDEsPT2PAiw0772NqvUgO0yHTK6/yA7mN+JNV\n",
       "RYeC8TWvUJnVMN7+Cm8tKXx75b4Pn7SSjpXjRp1XmJWx0ZzeA4HnpmP+sku2KMia+6VjaZFGawTc\n",
       "5MFw1TorqLWLcJYCXS0m8p0KJMFSJ38XJlAO0kjtYre4vBkX73zDRrzIdtjMiz5tYw10LpNuJ+xA\n",
       "K8yuk7E5ZbRSzdOowuapd6wA2K3bTYFTH0wH6tkk0rfN5kQL6+YI+OtGXzuknl1Dsc19lujrn8A6\n",
       "p4AKeKFFpOdYPE7DRnRkTkD+2AWFiPFwKfG/Y47re+ico3Y1L6zK6x2dzppw1/WF5kFN1y136t8e\n",
       "78RN/KdxBFhWRr+8rQhjrklcegQ/c0Bok+kq4F/QLECMXr9bzgNgpBKVHTaZBiisf5s02HKX8WQV\n",
       "gJgI9ojlKfHZ3zoyZP8KwvozWNOYoBFu2hsWa0HOzIXsK8/kY3LM/vDZmylrtW1pism/GFXHS5rP\n",
       "HJ350Tj9lwlrl9CLTceG1k/Xq1yuXoUi934jfa03cWxMqO1CRJCSd8vMuIZzNRW0w6YceMQ/Ohhs\n",
       "viRgB73124LPryMlI4W9Yb+Rr1VntPyfXmDZ2K0h7rfANohF9Lkd+I5OuGX+dB6Ar3P8BM7o8m4b\n",
       "QNEEnm2Ce+aJLsoCDJ6ape+n3SE5DCWhNdffWZxvYv3/2FcQfX3bKLysdIV2hkU4d1BpBmYFVZEz\n",
       "UFiHoWWhQb7yaW/2Mm9bqv8a+/0OgGeUsP2bwHBjLVCDoD42hl048JWK2S/sSxDkTUyXzMdVVEGM\n",
       "Hn+uI9fhd5r5eO1XEriDk9d1w2wqT2NHKcxgdkP9i8PhNmaeM0hCjvYqEDSlg+DfwANaUlbndfdH\n",
       "wD3ezs+KYkWCoxW7yVRamKf9kF2f2cC4sJ9iX9IjPPt+nB0ByRZq6kbvaGF0bRJr15ta0f8dho35\n",
       "fsI6Di4Zy1VquvMNyx1sSe7J8icf72C8vE+SGKRCsckK/WdjvWIIgm//rytMGN9BTQtPyVqvRZpa\n",
       "RpBM+egJny7OPfyuIKZV9OudHMHsO9lup1R9w5XPNquvAKtJMSauak1+iZIqKfzP+n8Y3hxVNaX7\n",
       "AyQuhKOtnB9XjcJsGrIGP2hOm9M1BIU9QBoQN0TYmaEKNno5mKEIN/dsCYiIBVdfUJqyc8tVJdfE\n",
       "YEETqboErtzavLHaaMSdzoydgGhcb52cTnVRdYQ809tLEsXecobvuL+sSvLQBmaf0J1YA97zA0rl\n",
       "9ZaQcvJ6OavCMSVRLu53AwvxNq2SQq1nPmcodWwQIvCKMKEcmRpbEkxPpq8GRCQBs0hd3agZ6tdk\n",
       "yhnB9zg0Buq3tjxUDtYaHE7QW+3cG0KdCnqF0MahyNBzYUWm7JgJtZUcHu/bHlivrkWr88n2IQUG\n",
       "PStuGmLBP2+mDI5rrn/tYwQFiT/rtmtLOQd5/VvAwT3w50vle6p28kVBM6/ZInqpQAttZvHBWYhV\n",
       "vrFU4circhS0ZYjeHvJoNZEKaxDQ8Sga+r8BfmGa2OcssqDvf839ZqjFQC3qrMTaRNdfve68vDkT\n",
       "mPHB7R8EZH6PAiocHtgececMbske9f5TMd4yzTq+3ZjEmODIp4U1F/qGqSTkEefm8kHTV7WyBp4f\n",
       "NIGntiaeKzI4nXS1rKQF1a1AZbEi6+NzK83kxi0i2NJJFPteg8iRv/9wDJGeZ9J+svu9mpX52jun\n",
       "AUmm7ydLUKbTwFIx/Kmw42B73XyjNzYNIkiYn4u4A8sNNHEjlO39fEgOrevx1NG6X1HU6AtIddm1\n",
       "Hnjc3Ve6jO7bqaXRM1ACtzQklrrtFUld4U0T7lN6tiKxCugL8yka+rxWKYpwtK0oiAKxNx7AdlM8\n",
       "R3vqZfkGbqM7z2WNjraqLH8pTTC/7Wz61fnookSw+kVz/vDDbFgpT8L9AqZb46CQhm9R3chIBUEY\n",
       "c8FNtSHKz3gSRalzUV+Zmv13vuU7xsm+0Uui17M8ENeqYdRPGRoDQvlUKAVtn0+qHUNzvKAwqKdq\n",
       "s9fhFZMmI87kmSUvb2cj2LORWcIxNteZIHiIvD+2eNv063/S0XjbeLAdLkaLDbqMRWndvxpNu3zu\n",
       "vOSkqY/ov4JF4O6UbxHa1HguQurqWvnHxHG0vcx9G5ccTSgZh+Ob8ppASNg/yuc10V/ISMEyjxkZ\n",
       "X2fM+uS3hOmg0REeVG30QZpSrDaTEr8ctJAOs25V8RgCJD8h4FPnnIQy8G3c81mTe3Qa6pxG+8b1\n",
       "A9KmHGHNf6V259MZWKkq39GodXs4VMlkZpv7zI8eFK8E4BfQdmfi1n6ZImt5OE8agOPNgH75nT3I\n",
       "9Qgo0MvzMP5tXsi7DkyFaAHPP6cL/IdXizqPEE1HltQV+ilq/5lvxPnHaDVjUTd2EQfMxONk7xEs\n",
       "RYg8OFktC+GmCbgAZ1B3m9qMn5s+tsu1/mfCqRJv1Fladnof4YGyLp7HA8hwGpccd0mh1hS6oVjo\n",
       "tDBfiYz4FlLks2ges0yJZrZ8jnZIja0VXu30EI+UlW4WZwrZr8tavlUxMpcDIZme0Lb3bGdBVofW\n",
       "LeD0S+3/U49yIqahheOoteYmQ2q0BfePuY3xX3dvztO8PbknbYdmLWnh6qL0bLOWIAXA7rLbRclL\n",
       "/EMGza+LJxnAOYUq+Q1M4eIOOqpw6JXfsBtliGKcl0f01HeVGSrQkAs4d2PiSCitNH/CnPVYGWOM\n",
       "jLB1tInu8JYdy5lRyzillJ5iVeJyt1LYEx3KRyZeQekAFXlBwFPPFVJE3CKY1opsOObxmWG04kFA\n",
       "+BeHPKMgEb2K+245tfivPZNvs3aTjETGZvRK+nzthvqzNXjRWdqfpaUjcYB3tB3d/EtklOuiHwmg\n",
       "CvtxEXW9L5mkbhiBBcdiJ0s+iY6z5u1SFyw05Q4HH27EJOFzFRGGcY7tEh7m5NAOEM0GmMHQ+hD4\n",
       "5mljsQqaRo5p2zh9Hf65ey8S88QjnSOK1v3iofQuEByvdqM2UzKG1hbnnnfMX60fNZow2iW6J/Op\n",
       "krmgMwOhX0XUPcsbHsnzVOlmPN1i3frxTjg+2fI2LwTHeWvHod+s5aNbsU3yHHwzu3qbHexAZZki\n",
       "U/3rh2YDJ6J06ZLXGg2/7WvIDp+iE2FgSqZTIvdt1bY+WG60SYoI0aL4fK49aDd8yuX0Pdo7OYz0\n",
       "fbZM3YqaEz2/77PLZmLb/27fFc5yoWye8C2ewF/9SaJfeTxbVeF2/N6b+OCbYy5ax4w1qcTO67KV\n",
       "g65hnPP6NQXR8U3FhMdECv0cg2uFeNIWGJtMqqofuz6h7SuEIVIX6epNDyAVkm49gUnBfYWSoqg4\n",
       "xkjY19rk2pQVMw8WPErxQBueFzUbljFlnirjkFWnc39w6p9EgfVYRT3/2Afh+2/ZVMiBau3STYka\n",
       "fYykfIqw3iw6mcGa7NCtZDDLQyXq2uucDDmWpaxmqdyjpYaOJdFnzSNrkfqLBXLIjoSHiQq0dHs9\n",
       "cKQ9AaXbaFYUPTJSHg9MnEohL8UYBSyzZx6T6pbgqNcPA+MooO5U6a3WcAMuCo/RbMWm7NoCnwVd\n",
       "oLTdonmTUW0U19p/P2MaqRL4qRW+YrrZFOy1sve5D6X5Ff1X98LhTvxuRxkCdebxnKF7j+W1nAul\n",
       "XNFaYJwH2/ku1evLxcnRMerWAhryh4CT9GBKwswdHVc+bFOu2kv+9NG5hXKS46OFwMxPJYzM9Yr0\n",
       "t+TFDucgGh6JR6sKXDd3KWgSn1jTypDjwZ4PHlMZDiHHNrhkl0SebRfJ7X5CYlNQNmeYYV0QdEwV\n",
       "rILakVq2c1mNCjvBTALcaS7PkzWpSHjwC0IFqjVzQ+Jef4CY+8rH3Lov7H4rF+YKLxM2fkDVees1\n",
       "BbxlIiKThQckHcYzwJYUhE5vedcVQUeZsRiM+oBmNJjAJYXW5c53xVhBgIsc0T+ynjjJrf1I+ucK\n",
       "i+Gd8OrMiAgr9cgylc9lkxc/7gmkOsfHGccBYfrrPoH8LxlQrD6XCNn6Wt+NmkFCdX/j1zJYGd9Q\n",
       "SS52iaIUzsMytH2Nn/ztaiSS4Ktjn9MbWZpnzGwPAB/oHmjedcCTcYM7uuUYfUjpk0mpnwu7H7EP\n",
       "UzUlLw6R+TUWe2Ry6ViW570Z3chffjvhc/vCTw4aZAeytAmLxWi11iw+2Grtv0PP9MoK/ueme3wA\n",
       "xXlr/V39vzqFlAbBtHOwEAHTV4MJt2HeNQ4es6jZFfyWUBvC++q8sMA1IEuX4aoSlPHN0A48kZrb\n",
       "2NdyYBjyI+98psOqGjyCrIsx2LoGBdrefao00rd2NlSCsrL/wSYUP/s+8EDesnw4gKzpH5dC+W3+\n",
       "tgXIqEpW1WHNZKhIBZ305euspwnX+nqEXxaddvZShgBhG+p7wYCez3VuCJ/wDu1I4NbjlD54PbeZ\n",
       "lXNkKo59rNg4QwiUMvrU6aTdsjNruXAlYQDFuZxZGTwAR4ecbY5j8ZJvWegTMbB2UgDMkv0GVZX9\n",
       "Z4N/Fs2xQlztdt9gdgGV/PRTY1JbYXpW9KMhj01fmyhXTZIQKRiFl83WE9GtMX5ON323pqEKUOiX\n",
       "IhqicNKOJAKL9QYcAoAUT4DtDPDTuTSuFuXNnKPrasm13NOsVvhUOmGFwybLm6OZbCPTAiMUPnlR\n",
       "gILVHOJF8FVhhYVApwLrTT0fYYzOe6jfgwAANQmakFmBr/BUqtG0sdcdi8SYMGHyzCOhAElp0kxl\n",
       "6i8TGf90xI/mvEgY5v9+wjdQkHz608Gi7IenzptB2yYV8mxiv51TUaRkmJxIhXzyulxklc/zMgTp\n",
       "ayYlWpwO1FzeTnJMMMgA55LrBuEAelEdRNaW6I/v6VsshsAk6LnFFEVZGUKI0uc6cRNXc0aVP3P0\n",
       "CZtAe9KZQYwJk07YfZOQVwnq8IE2LYso1ZUFsovR0C7V2kmxCYNlMKH9aKTXey+pFxU4q/0JgzhC\n",
       "bHsNb4Py1y95+M3SlQMvMORBPaKy8rHFinD6hZ6VMcMJQGrlxHhRHb8S/JCte0jjYimyav1n3bN4\n",
       "AOdNiJneqAeUhvraxxt3yuTgPZSQd4+dKp/tkZk8SLO+7GXt2cOMvhf7epnXG/tNQtq2wBZzkfKu\n",
       "iVTkLH5MvkMtD0OC1DBZQGYwg/mGuF9jBzdAjze3rnN4zauPS0mdXNoQwqNDjCIDjj3RI5S8cVvU\n",
       "t8yMRVc8M+V3H8xwSiblayEdGO+Xdq5n0bH1tROAanuimFCz53x7Nonf7tSBjv1S5wlRXEY++F//\n",
       "FB4LwTXQY7aQmJtdZrhMxpivagQ22Lp4gGdrX8hhOA0R4wdWlBoCEfh4SLYQbAfQ89tbAUhN8TqD\n",
       "EJnPn0/3eZXySzGDXkPD83uslKrY8XwBKxc0VGs5vga4J+GpQABs3u1FEC8s5c476lQcJ9Qndpsc\n",
       "PWpEc1NHd2WQ8vZaoBbzRTsP6E3tukICu993Ir9uvenRdnEtfC1x5ivyvAE35mpclUd4io6l3Kd3\n",
       "OREDXRR3W1b5cXSOfPtuo+P7aJlKbU66/7gglf9iLJmaPdIPmMUe5oOZuWWh07NjY9Wz9jGu4CyN\n",
       "PxQlfthc39K8n9tys9ccEBAwrVltmGW8c+xiXft3KsaqvbkMft2EOx1DZaiwac35ZYEdVNCTxDFy\n",
       "b9XpyXvjmSEVc5r2TChXO1cp1Lja40lbm83nxcNqPcG5sqS7dFXF+254bIoc5kQl414j2KuUD7IG\n",
       "NVlvMfwLmlB/azLwcjMGe/hlLQ5NePTU3EpEHGoPKBbcAFo89y3VLs1VGKh5x2W19GYqF0l3BQ9I\n",
       "qZmbTzdC86R+ckLEcgObLFDu9kSMKjIHd4TbzcWfTJMp/Ev9svZyY28TyhcordDHtZvVNQtHFRyS\n",
       "r1HH4iwXrbmDWFZ1hXbVcIT8wXyhnlDvBtloHO34WyjQ1LTnZ3izv8WMAtfjoi3nlRPBK0nOIzh7\n",
       "v5t/i7jS6AMka5icAMl8B/KLeh681FH0hhX6p1aI3DjOtQubCXgA9cIemaBatJgFgR9aOVVqeOHW\n",
       "b4mmtaJps2MV6J8J9orP0/dD8jGpOj7GD9M89AqQ+Sw4W2aRbnL/YrkRoAuR4xyTPNtYaGBln/Vq\n",
       "ASgiW0f4RnX+Ph0KpMYEoNcQd85JV1Unml1XgU0e97d9PV1gx920HVr0GCtUin8Pf0fSnRaK+bQ3\n",
       "RendGOHtYdGdebCwo0FYI0kPtViidsgMEdGPVDRClwHHxP49RCPwLf5wqUnRBfj08rM7kXKOFHCf\n",
       "eDynbAH52nXLr6mg3oe0+f5esvh7V6Mp80z0r51432aevvQGARco/UdDjLhBWE2sXh8k164oty+0\n",
       "Xvp3OXps8+ieDcRKz+r+O1RL9Hr3bKpowta04H0fIoKB7/8qwayXEP///SZpvBnF101ONBrpVud2\n",
       "3X4dfj/wi/cCp6TbopTP0X0934wojpKRyN6cwc9W1dOEZIaVMXNWpGInjkLIBepfvy/jELqcNmpg\n",
       "sNdVrnoURKaQHIkEMhp+uJ2Ifj9fBY2lbfFGg7Pvawb/u9gjhBszd7VKCh17GXp3uEOA4Wpl6fFV\n",
       "3m0SBJc6qUaUIx7idfDaB7Dydnq9FZS3x4A241zeLfyXgxQyJkAiC6uYc4LC3ziLlb1+RdtQs72X\n",
       "SvUG6ZaQ4hq5BAO17ZKMn6ikDbvw5CamGTg7mrjV3Bfoxi737MlqnogG1A5nBEbj1SOAGz2oftku\n",
       "wd6ljs5AVJm0uj3Y1PR8ZmtNoXObll4InC+vQ90Pp2FQaWfHa+LVMh+B4E9T0QBiiOWhJVxzxS2A\n",
       "Ig1mUZ0/jABHzZLdw8cx0/lXMzCyjR12bg0ND9gINsuSJmcBPgp+zvDh0eXCxWrtqDcwD0vRbt30\n",
       "P9mOgo6ZwFzfJlm6/CljP6fnOwaw4WjwHxmxSOXCF/fjFkOp0D/kkuTc35lumDLnD/gb1UD25213\n",
       "oUvYez4hByBzK/e4t0Ea1/aj/Ehahob3LcVjqnxXGnQ6jZbWkhTP1/DOjmhyht3rkGYquwgeB0j/\n",
       "+/4bgXj0ejDkpKkSzsCzERPbnDMB/bFKYDTpBJQohtebtzwPp5q7H7ezcmfuGMOfpMaiYj/+C3L9\n",
       "5f4Ny3F4XGuGXTSM+s33TJHKgwYr6YObdJUTb+ND0+5wEdaCvMn3X8q2P6Gx5qln9/gGf4l5Z7rS\n",
       "gOR3FINqWfj/u6zAaGxtT82aD8UPCQexImt5cMDcDffZ8mq55jTFo2WfxtQuYy8yZdG2NzmRzKhQ\n",
       "4s74jOUshRF8fRKw66yq6IvBiH/fQ8fiz/hNM0VrKogtO2VEWc4tSifG++k5ZMoOBKqAQFViTleg\n",
       "YoDnmXZN88CgiRpfEdARRKyGtktxRiaV0VN+lk3UmfdzOwRjuzhVKz9NiSedjIIhL9SC4uTwxCKi\n",
       "aCq5XeGmfeuZhRafWXFqpKkxi7FVpDJGINiERFKuF5DL8E/GOtT8rP6Wengb6elYWY+xbZ06nVrf\n",
       "bvYUOdnOhAWG6oEK/0/C0J57ujBmA8DrU7hb93bRm9YdAx609J+dII7R4J+D7nkpSbSTjn1m6z0d\n",
       "P4oJNP7DWcJZ4guqi56BCWDcRVa1+JbHjrSOpUK55oGGrJONRDVH9PZqLvr5p2QnF4kDeUpeUqP9\n",
       "z5n3wprbsS4E+8k+CQwbypSxsh04ty/Cib7C1hwsxUsmHwmDV0EEssWTnTka6VnOGQLVUVEIW/ke\n",
       "LD/WpXHgWa9fjehnV/Ue9wkP2tUuLYtlnJmOaZMFX5+KPX8r8As2aQWO24co3CBtEfNa7Ox48NVo\n",
       "YyO23Ot/WNWaYBvmW1Vb9s36dsG945GrlFxmPQMz9OyzA8GUSfK53sOGiJPBHeVzQQr7K58TGb3G\n",
       "dFGYdgPSXZXjsP9Q+qAT37F/P3hrjypT/HTQApiRQkrvHrjG9K+IrYKSUdL1SBq7K9/RvO/UX3h6\n",
       "oRfqVF2FdpW+Ey/v1zUyPNQk929zE4sh/0LdxWnOYUxE7N4gXyG/tuEQ/AAmkOZIsfjDO33tvbqL\n",
       "F6uFkGnzSPX8WdN087DyJ4LrVvj4dBNMAcACPBnLstzjJSFaartyiD//D/q2hGAOaSerGeFvmN8b\n",
       "g1UhD/oPQsJOoIckBLXW3iCB/KKEiB+J8ztsSoc23vqvUrKcbzgXAtfqXbUZTyhr4BRiFTI/XPVH\n",
       "YNeanxt9a/+AsGRrOpAmNPEhNXlAGup08MWPIJt9BJTbXlTUAEln9ND90c4IryKVIyzKTr445/Zs\n",
       "Qje0umQxr0pMvP+5K+dbpek37rLnXhprFoelzs9A5rGfggV8OvcH1a4i7v8sqr/fs1MrwZGASZQM\n",
       "tab5ig83/lDv12BA6PfctMCxbcu3qpaRcRZJzt6wUymYqbc+kiqB+mGkiEiDDhtSP1e+vCH9FfLw\n",
       "3bD7UlzQN6Nsa2qseZxvz31lqFvMkL1XO/thfZkAiaF63bgN2FK4rltcT6/13EwExT/A6FvYk74Z\n",
       "N+/Qvc1SwjpNFr9bk+MeoWuFTc+x4LkKtGb0pUudZG5a9Ec/zMyLqrl2YB4bM9DhkiMZKcrjtkS6\n",
       "NFz8MjLAvNRMFsm260bVrZTSwMWfu/aszSziXWo6Id9AMPQZ2ccsv+cSILXkxO+YHAUzA4/lY9fv\n",
       "sxdAn86Z3yL9J4IS1TA2efZ4f+tC2ebJqXpLyBDdqzXmeZI9Wrk8TEmt5mYM2njuJ8TcrWa0C+To\n",
       "2iyxby67Keaox2GsSygRD+nq8hxKNR9awoIjIFAv9tyfa5LPAPh4J31joht1y/HQHYq8FMtZU9Tg\n",
       "btR2A1DpMYBiBsljcHR9RTViaJJxC0lVAc26pfm8e3gZ0QSRiNQqzcyGAblznM/E4fkW+xaIRyZb\n",
       "+3BFlqmJKfXqDXaXByTq3u0wO01PjAX1WV2xytLDt5TueNnUP9XObNceWp5EYgVbh+3Z5O3XxpiD\n",
       "h6qJ7b0Ifb/t+IOTF9Kmxv7HL/xzcBhw/f0+/PCYjZu0juISruYPUo7Fe+82iXeavp70WRWDTgV8\n",
       "2rFwQXlNssO9rpNuzl0WXZ7WsRq7JEkRXOFcsobKLgPqL74s9MGNnnF/+p4NZtkWwW7g8wsU0aFO\n",
       "eznMx7K2FmU5+jzjjA5N8w90qZ36JwltzR+XFOIJH6xL9Uh7jVjH+hmW/aqj/8dwIvcWAGAx0ee/\n",
       "jmtS685q/5POmJuXkQAABXlBmiFsQX/+2qZYBJGCUpAC3dkTYwzprH4D4mP3bpf8ls+Vpu26Mrbj\n",
       "PRPqa22sRfkhkHe7JYLx4XBKTs1s9b++UOFPOB98NEsycUG1MPzMuxPlJCiTbCqzPRx9aicru6xl\n",
       "6Q2DleS6V02J94E0T8Eluo8p3GFUAB6CTTnKCnloAeADl+xJ6ZgT6uBLQ2loifFEEn9RNSS754HH\n",
       "8OQpE3LhBHB71KBgyF+e8qY8bQakmwoZ30bplA3cxnfT5xT7hkB46xw/QnLt6sMej8iOI0gLetXt\n",
       "pWPLmX02aiY4ouXCEnLWtNRa4cNuMGD9jQyfnY7/aHCwLGiddUX1QnGl2pSpLei3jDDTFnyuG9K8\n",
       "lPRtOcZYy5LwMBNnjqlujMwBdJJzsk7/uBkREmubYdVeJ7hXad4ifYTKdPhJC7HnA4ppM433N7xf\n",
       "72Fnuldo2wjkRpJu4uKGQvqFkvMFPvhX/h1AUIM2bNRpSVhilpmctWv/492bqTSauxPuN1D55Rr8\n",
       "Wm6QBFj78c8CYetvZ0Dr0lPzYi//pREjfa4NiSMMCKI4rEzUxR+tyvHVbX/+NEpFjnu5eioVRhcG\n",
       "qO3A2y72WOeA54DgN37zvL5YaN2/X5CLJQ1s1F0iMwJSlC1aU8vqTr8E6X/bvyDkRQVDL80nImpv\n",
       "i/DvsrrCq8DsE06pvwAP3rscjf+XNdevVOwPVvUFBqqq5xvYiyA9hDFiI/9w0OlOkUQ9u6p3zQdh\n",
       "RbETdNEfHGEFfh3z1NNlDN6rg9rTfZIgptGDyRJ1oJ0vGWJ+fHl8FmkPbI+hv8MqEnGf6UJyfBrN\n",
       "huO3MKNI9JJ+smjSyXtkMGe+RUbBtWAUq2FX917CdMwOzzuIfp0Glus5HG2tJ44F8lPbcB6rkOwY\n",
       "4jp4Qu+EX1wAvfdSfq7Yyk8E4/res1d4B73T9vlP8FuEEs/rDJ3yCYfp4nekn+dAekOLoxhJkYI7\n",
       "1r9p6H5JBdKEM89vN/0WAmopXx/s2I77pj3wOgUE7j6YQ4OQKAEDyVRGbuvKq/Cr+3hz9JDn9MVc\n",
       "VW1GNgHwd+aJQMQFVVYIjFkFfg0dR7VCXAI3RHo+3e2sbmSB1Y0Ru3JMzGkjluA5vK0Y/CqXLouc\n",
       "8e0K1ZRnGad7ZBjDXWg9ni2jZQ64+RNEiVf79/5BJI+I3ESNzi6kejQm5gICAYhtNy7OZ2licAdc\n",
       "u2PIIvVwXcsWiQQupzBNQk7LM/5JCe1Ks/iC/EKr2bBRDalbgck4FwY0CbNOAiq51euOlb8MOgrl\n",
       "VzL5ZMS1bGdr0MFyR4p2mlDS/Rm/7Q7gIQTW+5vLZszVUx1iRiA1eF7hP9PwvqHPbA30bFU13tx+\n",
       "51fUf5Tqrew4kokZobfVmL3eZFPPHcXYb/L37mQQdkQQ0OAtosO+jGjv4Ng+1dcJ/hlhZPAUkWB5\n",
       "YwGYA//lk7l/Devs7GfkT2tf21q0W2PNJ3XFFr24Lee71mZLdG1ptU8FgVTwNMpGEMSraJ8BukaD\n",
       "r/xBC1apPllOB7AeVx4xQUoDIL+0cRb4YwjjRUnRkzjGcxz1TMTn84w+tTnSFF8kxMvF8o9jZw+e\n",
       "g0FjrdHUE7Ct14jsUbeYWZRF6wImDriqOF6EC0YNeOZbyTvmVcsJbzgdbKMUjq2s9W0ntaK9cyhT\n",
       "77+GsDea725StYVj/TII3lFu7o3LKFJ9Ft3DJO3Y5rSGQFdYC91rJCG83y21gMM6rQ9+PLwm6Mic\n",
       "8AHObrqQUgAMkgfz9eWsnSkxnF5Lua0+/PYuMhmDQBrgCUu/ZuK5x5rECP9c8LvqTd9fSGO9chgB\n",
       "S4mCGz9HGr18oqID1OWN/8PISdmrJRZFDUH6jfTFEK71f9CXjd4uXDWQP8hOr1Q8j4AAAAMbQZpC\n",
       "PCGTKYQW//7WpVAACuyFNZYAEsupo668lF0yP8W1XUn21l88eDDinDaokw/zsqEaQpHAOJa0XT/T\n",
       "5pTEb+/0CX3lPFj1XiXb8+PnEH2Kt7NM6ZENwkZNlebZsbeCGSbKwQjikyXhH7Ntf2DaZ7ST/xIB\n",
       "dmGqjRX8m2uCPanI5QYzZD6jhUoFJtVyb6kAuabKf7SZk5LNDgSy8BIYQqP7obASVfiU+9i0Utp0\n",
       "d/EkDvhgGmtb2NQrABO9TetV07oF5R+Rv3vyBHTYX6CfOt9JVH4xO8w0Eddbl5CWjjHjS7KiVtNj\n",
       "98UAiu2VD2+LS+LwH1efyD2XMqBkUrjG2cxbNGXpn5NV+QcDoR51JQ4fLAa1h2LdfW60D217nQpN\n",
       "EGMyl++kbXHjdvSB8jnxOdZrXCR3XuiVDFBWbstrP6psEw/CblWW2gZ+TL955FhmoA5dlr+65PHr\n",
       "PCEp4994RPQTfTZOq8MPM+6cVF34PPN9FEG2gf5BAHoET6iJBPp6m+f8+sg6kl9gP/R/t6z6HjhH\n",
       "ioBDGuwdw/xkT4Fk7jaynQBX/4ftAyo7ECg2/So4MrvChU7wPfJ3ndZyqwJeeVQ03S35b9en+dvU\n",
       "zbKv7pwTfvo3JpnRK9qSFJXNBENzR9o/KR2siEQjMcrKodz+ek7iSYAwXZrDJMWGPupFsnN9OMtQ\n",
       "OAEDyBmteuOb2UPwdglZKWMnlc/+KPfmb8FE0/4sCKDBa5oh6M4CMF8sFNDDJQ+m+YylcT49fXPq\n",
       "EhSBxwifI1oYJTYpD7WbmqiZy4HmTAAj1NYqiQH0SV7W2nrZaBcmoFHSfmL0YaXAgNkVVahQ/+B6\n",
       "cClW2nQuN2SIgpbXzynphj+CJHU1uccgY3peCdIvFYC0CHm4tcoZN4ZFIkX3he8QDn96PgaaAKyo\n",
       "FXEOzMgbmshxWeb/j2FpEIJAuC9wjmpuKDJw1qvlZBDRtzZeKkqBxXELVidQv6g13HsOu+MRmqIl\n",
       "T0ObMk4arGYUEIj+m1ag5fP0CmCVIQxwqLoc5ZXYmahQuwaep2Vz/nz5+IY1IBt0OCoZAAADVEGa\n",
       "Y0nhDyZTAgr//talUAJQnfD+W8AAQ6xsvWrS8N7PeuaP61Gs3tSeYxoBCW1R1EQhgt1yr2UcVvyu\n",
       "YFwzkyMyiMjYYFPuXnOl+A7Y9OwAi59lubiGQqzSqIbH6OOQrC2Ss89/E7lCMvjvcvO8C+imSbFw\n",
       "/ki2HTT0iKYFU+Iy9bLcRY9Iv/rtMf2TCX029nkS7FXh88s2WTIGoDkV1imiX3Ox7sveo5M2/yll\n",
       "Od86nrxqI0RNays4nGSoEmKTDzOuuuNwYyeg8rNsmnz2pwajpqx2uMsrpfVKNlugPvyfJjpTOLIU\n",
       "WArIXzyQxki3TPyXdBnnrbE2KuaAJ1iUNrcu9tIEoVnqsPKqQ63IGNIQss5cm3v83ledDqfaNPZf\n",
       "2giFAiDPWblEVGwNUa6Y/TRgqpzlUsATtW/zGJP6JVVq4Bm4E34kZv0cQBiQmzrm9yyGxpzaNA9g\n",
       "BEXr7NO9+WBqT2puJA383TUbJBcutY4PBi+I+X++BW6KNwhhFsCqEEJeKSNdOe/wiwOCEqSSG8wq\n",
       "t6X0sXz/Gr/JKGWwP7g/CjUZs4n9lDJXbmuarbSlPHVSp/eu5QQqvU9XT/8Is7F3EzjITIAxRv8h\n",
       "8RTr8HxI5NHq05hYqy8vUUo3VnnAstzFOQuBgN9DVAGk0JlO/WEGKp52GSj29LilV2IHl1vI3mvD\n",
       "buBuS0WB/hZ1keMeqrk2i67qMV4Zgufae53oAlVTgnSYfAjm3Cd4ibWpm+LtPiNIQo5/HJ63Gl4V\n",
       "g3ivMVm4fraMxbjxIOZQpkIovoKP93v2WBQRKD5noKc+keZ/oZri5b2SO79oA1j+Rvpj4EKGTgZd\n",
       "gHgKVpZwf/LtY2t5uIqg/0Qf1DPlxjr5h11IsZMWcbwWWrXgFHvBLcyEz1Eh/dNYu57YfeJ3SA2M\n",
       "6OQWLhzpOok/Ou++RhsBTFW2qWS0R86/juIEGT5fmQz4K2mqTIvKkVU0ukfgFmsBLPOuU7PoVkQ3\n",
       "lsJXjRm5C3LKxpuzKP3N3mlA2pYUNor/+wVSit6YIHWsD3B7wP7+pJUK7SFTV0DSpi711rX0ceok\n",
       "l9Ujy0X6wauXheso5YZOOsGYD7YQ2a0fbyzihbnWXVXXrOBplxFAGwuAlqLWTJmCHKuE6wAAA0Zt\n",
       "b292AAAAbG12aGQAAAAAAAAAAAAAAAAAAAPoAAAPoAABAAABAAAAAAAAAAAAAAAAAQAAAAAAAAAA\n",
       "AAAAAAAAAAEAAAAAAAAAAAAAAAAAAEAAAAAAAAAAAAAAAAAAAAAAAAAAAAAAAAAAAAAAAAACAAAC\n",
       "cHRyYWsAAABcdGtoZAAAAAMAAAAAAAAAAAAAAAEAAAAAAAAPoAAAAAAAAAAAAAAAAAAAAAAAAQAA\n",
       "AAAAAAAAAAAAAAAAAAEAAAAAAAAAAAAAAAAAAEAAAAABsAAAASAAAAAAACRlZHRzAAAAHGVsc3QA\n",
       "AAAAAAAAAQAAD6AAAIAAAAEAAAAAAehtZGlhAAAAIG1kaGQAAAAAAAAAAAAAAAAAAEAAAAEAAFXE\n",
       "AAAAAAAtaGRscgAAAAAAAAAAdmlkZQAAAAAAAAAAAAAAAFZpZGVvSGFuZGxlcgAAAAGTbWluZgAA\n",
       "ABR2bWhkAAAAAQAAAAAAAAAAAAAAJGRpbmYAAAAcZHJlZgAAAAAAAAABAAAADHVybCAAAAABAAAB\n",
       "U3N0YmwAAACzc3RzZAAAAAAAAAABAAAAo2F2YzEAAAAAAAAAAQAAAAAAAAAAAAAAAAAAAAABsAEg\n",
       "AEgAAABIAAAAAAAAAAEAAAAAAAAAAAAAAAAAAAAAAAAAAAAAAAAAAAAAAAAAAAAY//8AAAAxYXZj\n",
       "QwFkABX/4QAYZ2QAFazZQbCWhAAAAwAEAAADAAg8WLZYAQAGaOvjyyLAAAAAHHV1aWRraEDyXyRP\n",
       "xbo5pRvPAyPzAAAAAAAAABhzdHRzAAAAAAAAAAEAAAAEAABAAAAAABRzdHNzAAAAAAAAAAEAAAAB\n",
       "AAAAGGN0dHMAAAAAAAAAAQAAAAQAAIAAAAAAHHN0c2MAAAAAAAAAAQAAAAEAAAAEAAAAAQAAACRz\n",
       "dHN6AAAAAAAAAAAAAAAEAAAkngAABX0AAAMfAAADWAAAABRzdGNvAAAAAAAAAAEAAAAsAAAAYnVk\n",
       "dGEAAABabWV0YQAAAAAAAAAhaGRscgAAAAAAAAAAbWRpcmFwcGwAAAAAAAAAAAAAAAAtaWxzdAAA\n",
       "ACWpdG9vAAAAHWRhdGEAAAABAAAAAExhdmY1OC4yOS4xMDA=\n",
       "\">\n",
       "  Your browser does not support the video tag.\n",
       "</video>"
      ],
      "text/plain": [
       "<IPython.core.display.HTML object>"
      ]
     },
     "execution_count": 24,
     "metadata": {},
     "output_type": "execute_result"
    }
   ],
   "source": [
    "#HTML(anim.to_html5_video())"
   ]
  },
  {
   "cell_type": "code",
   "execution_count": 25,
   "metadata": {
    "scrolled": true
   },
   "outputs": [
    {
     "data": {
      "image/png": "[encoded data removed]",
      "text/plain": [
       "<Figure size 432x288 with 1 Axes>"
      ]
     },
     "metadata": {
      "needs_background": "light"
     },
     "output_type": "display_data"
    }
   ],
   "source": [
    "label_size = 20\n",
    "X = np.linspace(0, 1, 100)\n",
    "Y = -10*X**2 + 10*X + 2\n",
    "fig, ax = plt.subplots()\n",
    "ax.plot(X, Y, color = \"dodgerblue\")\n",
    "ax.set_xlabel(\"Conversion (X)\", fontsize=label_size)\n",
    "ax.set_ylabel(r\"$ - \\frac{F_{A0}}{r_a} $\", fontsize=label_size)\n",
    "ax.grid(True)\n",
    "\n",
    "\n",
    "legend_elements = [matplotlib.lines.Line2D([0], [0], c=\"deepskyblue\", lw=4, label='CSTR'),\n",
    "                   matplotlib.lines.Line2D([0], [0], c=\"steelblue\", lw=4, label='PFR')] \n",
    "\n",
    "ax.legend(handles = legend_elements, title = \"Reactor Type\", loc = 1)\n",
    "fills = [ax.fill_between([], [])]"
   ]
  },
  {
   "cell_type": "code",
   "execution_count": 26,
   "metadata": {},
   "outputs": [],
   "source": [
    "def livenspiel_plotter(conversion_in, conversion_out, choice, X_data, Y_data, ax):\n",
    "    index_in = np.where(abs(X_data - conversion_in) == min(abs(X_data - conversion_in)))[0][0]\n",
    "    index_out = np.where(abs(X_data - conversion_out) == min(abs(X_data - conversion_out)))[0][0]\n",
    "    x = X_data[index_in:index_out]\n",
    "    if choice == 0: # CSTR\n",
    "        y = np.zeros(x.shape) + Y_data[index_out]\n",
    "        fill = ax.fill_between(x, y, color = \"deepskyblue\")\n",
    "        \n",
    "    if choice == 1: # PFR\n",
    "        y = Y_data[index_in:index_out]\n",
    "        fill = ax.fill_between(x, y, color = \"steelblue\")\n",
    "    \n",
    "    fills.append(fill)    \n",
    "    return fills"
   ]
  },
  {
   "cell_type": "code",
   "execution_count": 27,
   "metadata": {},
   "outputs": [],
   "source": [
    "def animate(i):\n",
    "    fills = livenspiel_plotter(env.X[i], env.X[i+1], env.reactor_seq[i], X, Y, ax)\n",
    "    return fills"
   ]
  },
  {
   "cell_type": "code",
   "execution_count": 28,
   "metadata": {},
   "outputs": [],
   "source": [
    "livenspiel_anim = animation.FuncAnimation(fig, animate, frames = len(env.X)-1, interval = 1000, blit = True)"
   ]
  },
  {
   "cell_type": "code",
   "execution_count": 29,
   "metadata": {},
   "outputs": [],
   "source": [
    "livenspiel_anim.save('Livenspiel.gif', writer='imagemagick', fps=1)"
   ]
  },
  {
   "cell_type": "code",
   "execution_count": 30,
   "metadata": {},
   "outputs": [
    {
     "data": {
      "text/html": [
       "<img src=\"Livenspiel.gif\"/>"
      ],
      "text/plain": [
       "<IPython.core.display.Image object>"
      ]
     },
     "execution_count": 30,
     "metadata": {},
     "output_type": "execute_result"
    }
   ],
   "source": [
    "Image(url='Livenspiel.gif')"
   ]
  },
  {
   "cell_type": "code",
   "execution_count": 282,
   "metadata": {},
   "outputs": [],
   "source": [
    "import pydot\n",
    "from IPython.display import Image, display\n",
    "import imageio"
   ]
  },
  {
   "cell_type": "code",
   "execution_count": 316,
   "metadata": {},
   "outputs": [],
   "source": [
    "reactor_type = [\"CSTR\", \"PFR\"]\n",
    "shapes = [\"square\", \"rectangle\"]\n",
    "G = pydot.Dot(graph_type=\"digraph\", rankdir = \"LR\", size = \"20, 4!\")\n",
    "nodes = []\n",
    "edges = []\n",
    "image_list = []"
   ]
  },
  {
   "cell_type": "code",
   "execution_count": 317,
   "metadata": {},
   "outputs": [],
   "source": [
    "for i in range(len(env.X)-1):\n",
    "    r_type = reactor_type[env.reactor_seq[i]]\n",
    "    Xin = round(env.X[i],2)\n",
    "    Xout = round(env.X[i + 1],2)\n",
    "    nodes.append(pydot.Node(f'{i+1} \\n {r_type} \\n Xin {Xin} \\n Xout {Xout}', \n",
    "                            height = 2, shape = shapes[env.reactor_seq[i]], fixed_size = True))\n",
    "    G.add_node(nodes[i])\n",
    "    if i > 0:\n",
    "        edges.append(pydot.Edge(nodes[i-1], nodes[i]))\n",
    "        G.add_edge(edges[i-1])\n",
    "    BFD = imageio.imread(G.create_png()) # converts to np array\n",
    "    image_list.append(BFD)"
   ]
  },
  {
   "cell_type": "code",
   "execution_count": 318,
   "metadata": {},
   "outputs": [],
   "source": [
    "matplotlib.rcParams['figure.dpi']= 300"
   ]
  },
  {
   "cell_type": "code",
   "execution_count": 320,
   "metadata": {
    "scrolled": true
   },
   "outputs": [
    {
     "data": {
      "text/plain": [
       "(-0.5, 1404.5, 383.5, -0.5)"
      ]
     },
     "execution_count": 320,
     "metadata": {},
     "output_type": "execute_result"
    },
    {
     "data": {
      "image/png": "[encoded data removed]",
      "text/plain": [
       "<Figure size 1800x1200 with 1 Axes>"
      ]
     },
     "metadata": {
      "needs_background": "light"
     },
     "output_type": "display_data"
    }
   ],
   "source": [
    "fig, ax = plt.subplots()\n",
    "ax.imshow(BFD)\n",
    "ax.axis('off')"
   ]
  },
  {
   "cell_type": "code",
   "execution_count": 300,
   "metadata": {},
   "outputs": [
    {
     "data": {
      "text/plain": [
       "'If you want to save single image\\nwith open(\"reactor_sequence/BFD.png\", \"wb\") as png:\\n    png.write(G.create_png())\\n'"
      ]
     },
     "execution_count": 300,
     "metadata": {},
     "output_type": "execute_result"
    }
   ],
   "source": [
    "\"\"\"If you want to save single image\n",
    "with open(\"reactor_sequence/BFD.png\", \"wb\") as png:\n",
    "    png.write(G.create_png())\n",
    "\"\"\"\n",
    "# imageio.mimsave('reactor_sequence/BFD.gif', image_list) tried to to gif but didn't work because of scaling"
   ]
  },
  {
   "cell_type": "code",
   "execution_count": 301,
   "metadata": {},
   "outputs": [
    {
     "data": {
      "image/png": "[encoded data removed]",
      "text/plain": [
       "<PIL.Image.Image image mode=RGBA size=1405x384 at 0x20E5CB4E648>"
      ]
     },
     "metadata": {},
     "output_type": "display_data"
    }
   ],
   "source": [
    "import PIL.Image\n",
    "import IPython.display\n",
    "IPython.display.display(PIL.Image.fromarray(image_list[-1]))"
   ]
  },
  {
   "cell_type": "code",
   "execution_count": 302,
   "metadata": {},
   "outputs": [
    {
     "data": {
      "image/png": "[encoded data removed]",
      "text/plain": [
       "<PIL.Image.Image image mode=RGBA size=212x384 at 0x20E5C967288>"
      ]
     },
     "metadata": {},
     "output_type": "display_data"
    }
   ],
   "source": [
    "IPython.display.display(PIL.Image.fromarray(image_list[0]))"
   ]
  },
  {
   "cell_type": "code",
   "execution_count": null,
   "metadata": {},
   "outputs": [],
   "source": []
  }
 ],
 "metadata": {
  "kernelspec": {
   "display_name": "Python 3",
   "language": "python",
   "name": "python3"
  },
  "language_info": {
   "codemirror_mode": {
    "name": "ipython",
    "version": 3
   },
   "file_extension": ".py",
   "mimetype": "text/x-python",
   "name": "python",
   "nbconvert_exporter": "python",
   "pygments_lexer": "ipython3",
   "version": "3.7.4"
  },
  "pycharm": {
   "stem_cell": {
    "cell_type": "raw",
    "metadata": {
     "collapsed": false
    },
    "source": []
   }
  }
 },
 "nbformat": 4,
 "nbformat_minor": 2
}
