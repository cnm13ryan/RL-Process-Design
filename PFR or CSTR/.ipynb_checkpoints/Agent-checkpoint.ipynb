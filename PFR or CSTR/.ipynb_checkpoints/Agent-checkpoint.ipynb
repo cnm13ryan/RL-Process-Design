{
 "cells": [
  {
   "cell_type": "code",
   "execution_count": 41,
   "metadata": {},
   "outputs": [],
   "source": [
    "import numpy as np\n",
    "import matplotlib.pyplot as plt\n",
    "import matplotlib\n",
    "import pylab\n",
    "\n",
    "from keras.models import Sequential\n",
    "from keras.layers import Dense, Activation, Flatten\n",
    "from keras.optimizers import Adam\n",
    "\n",
    "from rl.agents.dqn import DQNAgent\n",
    "from rl.policy import EpsGreedyQPolicy, LinearAnnealedPolicy\n",
    "from rl.memory import SequentialMemory"
   ]
  },
  {
   "cell_type": "code",
   "execution_count": 32,
   "metadata": {},
   "outputs": [],
   "source": [
    "from PFRorCSTR import simulator"
   ]
  },
  {
   "cell_type": "code",
   "execution_count": 45,
   "metadata": {
    "scrolled": true
   },
   "outputs": [
    {
     "data": {
      "text/plain": [
       "(Box(1,), Discrete(2))"
      ]
     },
     "execution_count": 45,
     "metadata": {},
     "output_type": "execute_result"
    }
   ],
   "source": [
    "env = simulator()\n",
    "nb_actions = env.action_space.n\n",
    "env.observation_space, env.action_space"
   ]
  },
  {
   "cell_type": "code",
   "execution_count": 89,
   "metadata": {},
   "outputs": [
    {
     "data": {
      "image/png": "[encoded data removed]",
      "text/plain": [
       "<Figure size 640x480 with 1 Axes>"
      ]
     },
     "metadata": {},
     "output_type": "display_data"
    }
   ],
   "source": [
    "label_size = 20\n",
    "X = np.linspace(0, 1, 100)\n",
    "Y = -10*X**2 + 10*X + 2\n",
    "plt.plot(X, Y, color = \"dodgerblue\")\n",
    "plt.xlabel(\"Conversion (X)\", fontsize=label_size)\n",
    "plt.ylabel(r\"$ - \\frac{F_{A0}}{r_a} $\", fontsize=label_size)\n",
    "plt.grid(True)\n",
    "\n",
    "previous_index = 0\n",
    "conversion = 0\n",
    "X_out_PFR = []\n",
    "X_out_CSTR = []\n",
    "X_react = []\n",
    "Y_react = []\n",
    "color = []\n",
    "\n",
    "while conversion < 0.5:\n",
    "    conversion = env.equation_solver(1, conversion)\n",
    "    X_out_PFR.append(conversion)\n",
    "    index = np.where(abs(X - conversion) == min(abs(X - conversion)))[0][0]\n",
    "    X_react.append(X[previous_index:index])\n",
    "    Y_react.append(Y[previous_index:index])\n",
    "    previous_index = index\n",
    "    color.append(\"deepskyblue\")\n",
    "    \n",
    "while conversion > 0.5 and conversion <= 0.9:\n",
    "    conversion = env.equation_solver(1, conversion)\n",
    "    X_out_CSTR.append(conversion)\n",
    "    index = np.where(abs(X - conversion) == min(abs(X - conversion)))[0][0]\n",
    "    X_react.append(X[previous_index:index])\n",
    "    Y_react.append(np.zeros(X_react[-1].shape) + Y[index])\n",
    "    previous_index = index\n",
    "    color.append(\"steelblue\")\n",
    "\n",
    "\n",
    "for i in range(len(X_react)):\n",
    "    plt.fill_between(X_react[i], Y_react[i], color = color[i])\n",
    "\n",
    "    \n",
    "legend_elements = [matplotlib.lines.Line2D([0], [0], c=\"deepskyblue\", lw=4, label='PFR'),\n",
    "                   matplotlib.lines.Line2D([0], [0], c=\"steelblue\", lw=4, label='CSTR')] \n",
    "\n",
    "plt.legend(handles = legend_elements, title = \"Reactor Type\")\n",
    "plt.savefig('Ideal_Soln.png', bbox_inches='tight')"
   ]
  },
  {
   "cell_type": "code",
   "execution_count": 18,
   "metadata": {},
   "outputs": [
    {
     "name": "stdout",
     "output_type": "stream",
     "text": [
      "Model: \"sequential_2\"\n",
      "_________________________________________________________________\n",
      "Layer (type)                 Output Shape              Param #   \n",
      "=================================================================\n",
      "flatten_2 (Flatten)          (None, 1)                 0         \n",
      "_________________________________________________________________\n",
      "dense_5 (Dense)              (None, 16)                32        \n",
      "_________________________________________________________________\n",
      "dense_6 (Dense)              (None, 16)                272       \n",
      "_________________________________________________________________\n",
      "dense_7 (Dense)              (None, 16)                272       \n",
      "_________________________________________________________________\n",
      "dense_8 (Dense)              (None, 2)                 34        \n",
      "=================================================================\n",
      "Total params: 610\n",
      "Trainable params: 610\n",
      "Non-trainable params: 0\n",
      "_________________________________________________________________\n",
      "None\n"
     ]
    }
   ],
   "source": [
    "# Next, we build a very simple model.\n",
    "model = Sequential()\n",
    "model.add(Flatten(input_shape=(1,) + env.observation_space.shape))\n",
    "model.add(Dense(16, activation = 'relu'))\n",
    "model.add(Dense(16, activation = 'relu'))\n",
    "model.add(Dense(16, activation = 'relu'))\n",
    "model.add(Dense(nb_actions, activation = 'linear'))\n",
    "print(model.summary())\n"
   ]
  },
  {
   "cell_type": "code",
   "execution_count": 30,
   "metadata": {
    "scrolled": true
   },
   "outputs": [],
   "source": [
    "policy = LinearAnnealedPolicy(EpsGreedyQPolicy(), attr='eps', value_max=1., value_min=.1, value_test=.05, nb_steps=10000)\n",
    "memory = SequentialMemory(limit=50000, window_length=1)\n",
    "dqn = DQNAgent(model=model, nb_actions=nb_actions, memory=memory, nb_steps_warmup=9,\n",
    "target_model_update=1e-2, policy=policy, gamma = 0.9)\n",
    "dqn.compile(Adam(lr=1e-3), metrics=['mae'])"
   ]
  },
  {
   "cell_type": "code",
   "execution_count": 31,
   "metadata": {
    "scrolled": true
   },
   "outputs": [
    {
     "name": "stdout",
     "output_type": "stream",
     "text": [
      "Training for 5000 steps ...\n",
      "Interval 1 (0 steps performed)\n",
      " 4995/10000 [=============>................] - ETA: 21s - reward: 0.1899done, took 21.800 seconds\n"
     ]
    }
   ],
   "source": [
    "# Okay, now it's time to learn something! We visualize the training here for show, but this slows down training quite a lot. \n",
    "hist = dqn.fit(env, nb_steps=5000)"
   ]
  },
  {
   "cell_type": "code",
   "execution_count": 66,
   "metadata": {
    "scrolled": true
   },
   "outputs": [
    {
     "name": "stdout",
     "output_type": "stream",
     "text": [
      "dict_keys(['episode_reward', 'nb_episode_steps', 'nb_steps'])\n"
     ]
    }
   ],
   "source": [
    "print(hist.history.keys())"
   ]
  },
  {
   "cell_type": "code",
   "execution_count": 33,
   "metadata": {},
   "outputs": [],
   "source": [
    "def running_mean(x, N):\n",
    "    cumsum = np.cumsum(np.insert(x, 0, 0)) \n",
    "    return (cumsum[N:] - cumsum[:-N]) / N"
   ]
  },
  {
   "cell_type": "code",
   "execution_count": 34,
   "metadata": {},
   "outputs": [
    {
     "data": {
      "text/plain": [
       "<matplotlib.legend.Legend at 0x24366d7dbc8>"
      ]
     },
     "execution_count": 34,
     "metadata": {},
     "output_type": "execute_result"
    },
    {
     "data": {
      "image/png": "[encoded data removed]",
      "text/plain": [
       "<Figure size 432x288 with 1 Axes>"
      ]
     },
     "metadata": {
      "needs_background": "light"
     },
     "output_type": "display_data"
    }
   ],
   "source": [
    "smoothed_rews = running_mean(hist.history['episode_reward'], 10)\n",
    "plt.plot(hist.history['nb_steps'][-len(smoothed_rews):], smoothed_rews)\n",
    "plt.plot(hist.history['nb_steps'],hist.history['episode_reward'],color='grey', alpha=0.3)\n",
    "plt.xlabel(\"steps\")\n",
    "plt.ylabel(\"reward\")\n",
    "plt.legend([\"avg reward\", \"reward\"])"
   ]
  },
  {
   "cell_type": "code",
   "execution_count": 38,
   "metadata": {
    "scrolled": true
   },
   "outputs": [
    {
     "name": "stdout",
     "output_type": "stream",
     "text": [
      "Testing for 1 episodes ...\n",
      "choice(1) - conversions: [0, 0.30971084184322467], reactors: [1]\n",
      "choice(2) - conversions: [0, 0.30971084184322467, 0.6700337959849747], reactors: [1, 0]\n",
      "choice(3) - conversions: [0, 0.30971084184322467, 0.6700337959849747, 0.9613537829016082], reactors: [1, 0, 1]\n",
      "choice(4) - conversions: [0, 0.30971084184322467, 0.6700337959849747, 0.9613537829016082, 1], reactors: [1, 0, 1, 1]\n",
      "Episode 1: reward: 1.000, steps: 4\n"
     ]
    },
    {
     "data": {
      "text/plain": [
       "<keras.callbacks.History at 0x24366e6fe88>"
      ]
     },
     "execution_count": 38,
     "metadata": {},
     "output_type": "execute_result"
    }
   ],
   "source": [
    "dqn.test(env, visualize = True)"
   ]
  },
  {
   "cell_type": "code",
   "execution_count": 39,
   "metadata": {},
   "outputs": [
    {
     "data": {
      "text/plain": [
       "([1, 0, 1, 1],\n",
       " [0, 0.30971084184322467, 0.6700337959849747, 0.9613537829016082, 1])"
      ]
     },
     "execution_count": 39,
     "metadata": {},
     "output_type": "execute_result"
    }
   ],
   "source": [
    "env.reactor_seq, env.X"
   ]
  },
  {
   "cell_type": "code",
   "execution_count": 40,
   "metadata": {},
   "outputs": [],
   "source": [
    "y = [] \n",
    "x = []\n",
    "CSTR = []\n",
    "PFR = []\n",
    "for i in range(0, 50):\n",
    "    x.append(i/50)\n",
    "    CSTR.append(env.equation_solver(0, x[i]))\n",
    "    PFR.append(env.equation_solver(1, x[i]))"
   ]
  },
  {
   "cell_type": "code",
   "execution_count": 41,
   "metadata": {},
   "outputs": [
    {
     "data": {
      "text/plain": [
       "Text(0, 0.5, 'x next')"
      ]
     },
     "execution_count": 41,
     "metadata": {},
     "output_type": "execute_result"
    },
    {
     "data": {
      "image/png": "[encoded data removed]",
      "text/plain": [
       "<Figure size 432x288 with 1 Axes>"
      ]
     },
     "metadata": {
      "needs_background": "light"
     },
     "output_type": "display_data"
    }
   ],
   "source": [
    "x_sim = env.X[0:-1]\n",
    "choice = env.X[1:]\n",
    "plt.plot(x, CSTR)\n",
    "plt.plot(x, PFR)\n",
    "plt.plot(x_sim, choice, '--go')\n",
    "plt.legend([\"CSTR\", \"PFR\", \"CHOICE\"])\n",
    "plt.xlabel(\"x previous\")\n",
    "plt.ylabel(\"x next\")"
   ]
  },
  {
   "cell_type": "code",
   "execution_count": 32,
   "metadata": {},
   "outputs": [],
   "source": [
    "??dqn"
   ]
  },
  {
   "cell_type": "code",
   "execution_count": 39,
   "metadata": {},
   "outputs": [],
   "source": [
    "??env"
   ]
  },
  {
   "cell_type": "code",
   "execution_count": 10,
   "metadata": {},
   "outputs": [],
   "source": [
    "??dqn.fit"
   ]
  },
  {
   "cell_type": "code",
   "execution_count": 9,
   "metadata": {},
   "outputs": [],
   "source": [
    "??dqn.forward"
   ]
  },
  {
   "cell_type": "code",
   "execution_count": 24,
   "metadata": {},
   "outputs": [],
   "source": [
    "??SequentialMemory"
   ]
  }
 ],
 "metadata": {
  "kernelspec": {
   "display_name": "Python 3",
   "language": "python",
   "name": "python3"
  },
  "language_info": {
   "codemirror_mode": {
    "name": "ipython",
    "version": 3
   },
   "file_extension": ".py",
   "mimetype": "text/x-python",
   "name": "python",
   "nbconvert_exporter": "python",
   "pygments_lexer": "ipython3",
   "version": "3.7.4"
  }
 },
 "nbformat": 4,
 "nbformat_minor": 2
}
