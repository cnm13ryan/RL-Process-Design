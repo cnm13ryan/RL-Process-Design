{
 "cells": [
  {
   "cell_type": "code",
   "execution_count": 82,
   "metadata": {
    "pycharm": {
     "is_executing": false
    }
   },
   "outputs": [
    {
     "name": "stdout",
     "output_type": "stream",
     "text": [
      "The autoreload extension is already loaded. To reload it, use:\n",
      "  %reload_ext autoreload\n"
     ]
    }
   ],
   "source": [
    "import numpy as np\n",
    "import matplotlib.pyplot as plt\n",
    "import matplotlib\n",
    "from scipy import integrate\n",
    "from keras.models import Sequential\n",
    "from keras.layers import Dense, Activation, Flatten\n",
    "from keras.optimizers import Adam\n",
    "\n",
    "from rl.agents.dqn import DQNAgent\n",
    "from rl.policy import EpsGreedyQPolicy, LinearAnnealedPolicy\n",
    "from rl.memory import SequentialMemory\n",
    "%load_ext autoreload"
   ]
  },
  {
   "cell_type": "code",
   "execution_count": 83,
   "metadata": {
    "pycharm": {
     "is_executing": false
    }
   },
   "outputs": [],
   "source": [
    "from PFRorCSTR import simulator"
   ]
  },
  {
   "cell_type": "code",
   "execution_count": 86,
   "metadata": {
    "pycharm": {
     "is_executing": false
    }
   },
   "outputs": [],
   "source": [
    "%autoreload"
   ]
  },
  {
   "cell_type": "code",
   "execution_count": 88,
   "metadata": {
    "pycharm": {
     "is_executing": false
    },
    "scrolled": true
   },
   "outputs": [
    {
     "data": {
      "text/plain": [
       "(Box(1,), Discrete(2))"
      ]
     },
     "execution_count": 88,
     "metadata": {},
     "output_type": "execute_result"
    }
   ],
   "source": [
    "env = simulator(volume = 0.8, n_reactors=4)\n",
    "nb_actions = env.action_space.n\n",
    "env.observation_space, env.action_space"
   ]
  },
  {
   "cell_type": "code",
   "execution_count": 46,
   "metadata": {},
   "outputs": [
    {
     "data": {
      "text/plain": [
       "2"
      ]
     },
     "execution_count": 46,
     "metadata": {},
     "output_type": "execute_result"
    }
   ],
   "source": [
    "nb_actions"
   ]
  },
  {
   "cell_type": "code",
   "execution_count": 96,
   "metadata": {
    "pycharm": {
     "is_executing": false
    }
   },
   "outputs": [
    {
     "data": {
      "image/png": "[encoded data removed]",
      "text/plain": [
       "<Figure size 432x288 with 1 Axes>"
      ]
     },
     "metadata": {
      "needs_background": "light"
     },
     "output_type": "display_data"
    }
   ],
   "source": [
    "label_size = 20\n",
    "X = np.linspace(0, 1, 100)\n",
    "Y = -10*X**2 + 10*X + 2\n",
    "plt.plot(X, Y, color = \"dodgerblue\")\n",
    "plt.xlabel(\"Conversion (X)\", fontsize=label_size)\n",
    "plt.ylabel(r\"$ - \\frac{F_{A0}}{r_a} $\", fontsize=label_size)\n",
    "plt.grid(True)\n",
    "\n",
    "previous_index = 0\n",
    "conversion = 0\n",
    "X_out_PFR = []\n",
    "X_out_CSTR = []\n",
    "X_react = []\n",
    "Y_react = []\n",
    "color = []\n",
    "\n",
    "while conversion < 0.4:\n",
    "    conversion = env.equation_solver(1, conversion)\n",
    "    X_out_PFR.append(conversion)\n",
    "    index = np.where(abs(X - conversion) == min(abs(X - conversion)))[0][0]\n",
    "    X_react.append(X[previous_index:index])\n",
    "    Y_react.append(Y[previous_index:index])\n",
    "    previous_index = index\n",
    "    color.append(\"deepskyblue\")\n",
    "  \n",
    "while conversion > 0.4 and conversion <= 0.9:\n",
    "    conversion = env.equation_solver(0, conversion)\n",
    "    X_out_CSTR.append(conversion)\n",
    "    index = np.where(abs(X - conversion) == min(abs(X - conversion)))[0][0]\n",
    "    X_react.append(X[previous_index:index])\n",
    "    Y_react.append(np.zeros(X_react[-1].shape) + Y[index])\n",
    "    previous_index = index\n",
    "    color.append(\"steelblue\")\n",
    "\n",
    "\n",
    "\n",
    "for i in range(len(X_react)):\n",
    "    plt.fill_between(X_react[i], Y_react[i], color = color[i])\n",
    "\n",
    "    \n",
    "legend_elements = [matplotlib.lines.Line2D([0], [0], c=\"deepskyblue\", lw=4, label='PFR'),\n",
    "                   matplotlib.lines.Line2D([0], [0], c=\"steelblue\", lw=4, label='CSTR')] \n",
    "\n",
    "plt.legend(handles = legend_elements, title = \"Reactor Type\", loc = 1)\n",
    "plt.savefig('Ideal_Soln.png', bbox_inches='tight')"
   ]
  },
  {
   "cell_type": "code",
   "execution_count": 48,
   "metadata": {},
   "outputs": [
    {
     "data": {
      "text/plain": [
       "(0.6274597861590674, 0.9186719618237785)"
      ]
     },
     "execution_count": 48,
     "metadata": {},
     "output_type": "execute_result"
    }
   ],
   "source": [
    "X_out_PFR[-1], X_out_CSTR[0]"
   ]
  },
  {
   "cell_type": "markdown",
   "metadata": {},
   "source": [
    "## Doube check volumes are correct to make sure simulator solver is working"
   ]
  },
  {
   "cell_type": "code",
   "execution_count": 49,
   "metadata": {},
   "outputs": [
    {
     "data": {
      "text/plain": [
       "(0.7999999999999999,\n",
       " (0.8000000000000004, 8.881784197001257e-15),\n",
       " 0.800000000000003)"
      ]
     },
     "execution_count": 49,
     "metadata": {},
     "output_type": "execute_result"
    }
   ],
   "source": [
    "def PFR(x):\n",
    "    return -10*x**2 + 10*x + 2\n",
    "def CSTR_vol(x, x_in):\n",
    "    return (-10*x**2 + 10*x + 2)*(x - x_in)\n",
    "\n",
    "PFR1 = integrate.quad(PFR, 0,  X_out_PFR[0])[0]\n",
    "PFR2 = integrate.quad(PFR, X_out_PFR[0], X_out_PFR[1] )\n",
    "CSTR1 = CSTR_vol(X_out_CSTR[0], X_out_PFR[-1])\n",
    "\n",
    "\n",
    "PFR1, PFR2, CSTR1"
   ]
  },
  {
   "cell_type": "code",
   "execution_count": 71,
   "metadata": {
    "scrolled": false
   },
   "outputs": [
    {
     "name": "stdout",
     "output_type": "stream",
     "text": [
      "Model: \"sequential_6\"\n",
      "_________________________________________________________________\n",
      "Layer (type)                 Output Shape              Param #   \n",
      "=================================================================\n",
      "flatten_6 (Flatten)          (None, 1)                 0         \n",
      "_________________________________________________________________\n",
      "dense_21 (Dense)             (None, 16)                32        \n",
      "_________________________________________________________________\n",
      "dense_22 (Dense)             (None, 16)                272       \n",
      "_________________________________________________________________\n",
      "dense_23 (Dense)             (None, 16)                272       \n",
      "_________________________________________________________________\n",
      "dense_24 (Dense)             (None, 2)                 34        \n",
      "=================================================================\n",
      "Total params: 610\n",
      "Trainable params: 610\n",
      "Non-trainable params: 0\n",
      "_________________________________________________________________\n",
      "None\n"
     ]
    }
   ],
   "source": [
    "# Next, we build a very simple model.\n",
    "model = Sequential()\n",
    "model.add(Flatten(input_shape=(1,) + env.observation_space.shape))\n",
    "model.add(Dense(16, activation = 'relu'))\n",
    "model.add(Dense(16, activation = 'relu'))\n",
    "model.add(Dense(16, activation = 'relu'))\n",
    "model.add(Dense(nb_actions, activation = 'linear'))\n",
    "print(model.summary())"
   ]
  },
  {
   "cell_type": "code",
   "execution_count": 72,
   "metadata": {},
   "outputs": [],
   "source": [
    "steps = 15000"
   ]
  },
  {
   "cell_type": "code",
   "execution_count": 73,
   "metadata": {
    "scrolled": true
   },
   "outputs": [],
   "source": [
    "policy = LinearAnnealedPolicy(EpsGreedyQPolicy(), attr='eps', value_max=1., value_min=.05, value_test=0, nb_steps=steps)\n",
    "memory = SequentialMemory(limit=50000, window_length=1)\n",
    "dqn = DQNAgent(model=model, nb_actions=nb_actions, memory=memory, nb_steps_warmup=9,\n",
    "target_model_update=1e-2, policy=policy, gamma = 0.95)\n",
    "dqn.compile(Adam(lr=1e-3), metrics=['mae'])"
   ]
  },
  {
   "cell_type": "code",
   "execution_count": 74,
   "metadata": {
    "scrolled": true
   },
   "outputs": [
    {
     "name": "stdout",
     "output_type": "stream",
     "text": [
      "Training for 15000 steps ...\n",
      "Interval 1 (0 steps performed)\n",
      "10000/10000 [==============================] - 45s 5ms/step - reward: 0.2169\n",
      "2500 episodes - episode_reward: 0.868 [0.769, 1.000] - loss: 0.000 - mean_absolute_error: 0.267 - mean_q: 0.532 - mean_eps: 0.683\n",
      "\n",
      "Interval 2 (10000 steps performed)\n",
      " 4994/10000 [=============>................] - ETA: 21s - reward: 0.2374done, took 66.917 seconds\n"
     ]
    }
   ],
   "source": [
    "# Okay, now it's time to learn something! We visualize the training here for show, but this slows down training quite a lot. \n",
    "hist = dqn.fit(env, nb_steps=steps)"
   ]
  },
  {
   "cell_type": "code",
   "execution_count": 75,
   "metadata": {
    "scrolled": true
   },
   "outputs": [
    {
     "name": "stdout",
     "output_type": "stream",
     "text": [
      "dict_keys(['episode_reward', 'nb_episode_steps', 'nb_steps'])\n"
     ]
    }
   ],
   "source": [
    "print(hist.history.keys())"
   ]
  },
  {
   "cell_type": "code",
   "execution_count": 76,
   "metadata": {},
   "outputs": [],
   "source": [
    "def running_mean(x, N):\n",
    "    cumsum = np.cumsum(np.insert(x, 0, 0)) \n",
    "    return (cumsum[N:] - cumsum[:-N]) / N"
   ]
  },
  {
   "cell_type": "code",
   "execution_count": null,
   "metadata": {},
   "outputs": [],
   "source": [
    "smoothed_rews = running_mean(hist.history['episode_reward'], 100)\n",
    "plt.plot(hist.history['nb_steps'][-len(smoothed_rews):], smoothed_rews)\n",
    "plt.plot(hist.history['nb_steps'],hist.history['episode_reward'],color='grey', alpha=0.3)\n",
    "plt.xlabel(\"Steps\")\n",
    "plt.ylabel(\"Reward\")\n",
    "plt.legend([\"avg reward\", \"reward\"])\n",
    "plt.savefig('Learning.png', bbox_inches='tight')"
   ]
  },
  {
   "cell_type": "code",
   "execution_count": 91,
   "metadata": {
    "scrolled": true
   },
   "outputs": [
    {
     "name": "stdout",
     "output_type": "stream",
     "text": [
      "Testing for 1 episodes ...\n",
      "choice(1) - conversions: [0, 0.2601494936395941], reactors: [1]\n",
      "choice(2) - conversions: [0, 0.2601494936395941, 0.44804425979999357], reactors: [1, 1]\n",
      "choice(3) - conversions: [0, 0.2601494936395941, 0.44804425979999357, 0.6331085954859981], reactors: [1, 1, 0]\n",
      "choice(4) - conversions: [0, 0.2601494936395941, 0.44804425979999357, 0.6331085954859981, 1], reactors: [1, 1, 0, 0]\n",
      "Episode 1: reward: 1.000, steps: 4\n"
     ]
    },
    {
     "data": {
      "text/plain": [
       "<keras.callbacks.History at 0x23abe182688>"
      ]
     },
     "execution_count": 91,
     "metadata": {},
     "output_type": "execute_result"
    }
   ],
   "source": [
    "dqn.test(env, visualize = True)"
   ]
  },
  {
   "cell_type": "code",
   "execution_count": 92,
   "metadata": {},
   "outputs": [
    {
     "data": {
      "text/plain": [
       "([1, 1, 0, 0],\n",
       " [0, 0.2601494936395941, 0.44804425979999357, 0.6331085954859981, 1])"
      ]
     },
     "execution_count": 92,
     "metadata": {},
     "output_type": "execute_result"
    }
   ],
   "source": [
    "env.reactor_seq, env.X"
   ]
  },
  {
   "cell_type": "code",
   "execution_count": 98,
   "metadata": {},
   "outputs": [],
   "source": [
    "y = [] \n",
    "x = []\n",
    "CSTR = []\n",
    "PFR = []\n",
    "for i in range(0, 50):\n",
    "    x.append(i/70)\n",
    "    CSTR.append(env.equation_solver(0, x[i]))\n",
    "    PFR.append(env.equation_solver(1, x[i]))"
   ]
  },
  {
   "cell_type": "code",
   "execution_count": null,
   "metadata": {},
   "outputs": [],
   "source": [
    "x_sim = env.X[0:-1]\n",
    "choice = env.X[1:]\n",
    "plt.plot(x, CSTR)\n",
    "plt.plot(x, PFR)\n",
    "plt.plot(x_sim, choice, '--go')\n",
    "plt.legend([\"CSTR\", \"PFR\", \"CHOICE\"])\n",
    "plt.xlabel(\"x previous\")\n",
    "plt.ylabel(\"x next\")\n",
    "plt.savefig('Selection.png', bbox_inches='tight')"
   ]
  },
  {
   "cell_type": "code",
   "execution_count": null,
   "metadata": {},
   "outputs": [],
   "source": []
  }
 ],
 "metadata": {
  "kernelspec": {
   "display_name": "Python 3",
   "language": "python",
   "name": "python3"
  },
  "language_info": {
   "codemirror_mode": {
    "name": "ipython",
    "version": 3
   },
   "file_extension": ".py",
   "mimetype": "text/x-python",
   "name": "python",
   "nbconvert_exporter": "python",
   "pygments_lexer": "ipython3",
   "version": "3.7.4"
  },
  "pycharm": {
   "stem_cell": {
    "cell_type": "raw",
    "metadata": {
     "collapsed": false
    },
    "source": []
   }
  }
 },
 "nbformat": 4,
 "nbformat_minor": 2
}
